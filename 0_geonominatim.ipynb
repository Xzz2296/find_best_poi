{
 "cells": [
  {
   "cell_type": "code",
   "execution_count": 1,
   "id": "15f072b2",
   "metadata": {},
   "outputs": [],
   "source": [
    "from geopy.geocoders import Nominatim\n",
    "import geopy"
   ]
  },
  {
   "cell_type": "code",
   "execution_count": 2,
   "id": "13ad4fb4",
   "metadata": {},
   "outputs": [],
   "source": [
    "proxies={\n",
    "'http': 'http://127.0.0.1:7890',\n",
    "'https': 'http://127.0.0.1:7890'  # https -> http\n",
    "}"
   ]
  },
  {
   "cell_type": "code",
   "execution_count": 3,
   "id": "53b097d0",
   "metadata": {},
   "outputs": [],
   "source": [
    "geopy.geocoders.options.default_proxies = proxies"
   ]
  },
  {
   "cell_type": "code",
   "execution_count": 5,
   "id": "73602350",
   "metadata": {
    "scrolled": true
   },
   "outputs": [],
   "source": [
    "geolocator=Nominatim(user_agent = \"test\")\n",
    "location= geolocator.reverse((40.056793,116.305811),language='en')"
   ]
  },
  {
   "cell_type": "code",
   "execution_count": 6,
   "id": "7853f8e7",
   "metadata": {},
   "outputs": [
    {
     "data": {
      "text/plain": [
       "'Xi Er Qi North Road, Haidian District, Beijing, 100096, China'"
      ]
     },
     "execution_count": 6,
     "metadata": {},
     "output_type": "execute_result"
    }
   ],
   "source": [
    "location.address"
   ]
  },
  {
   "cell_type": "code",
   "execution_count": null,
   "id": "ec2c1d4d",
   "metadata": {},
   "outputs": [],
   "source": []
  }
 ],
 "metadata": {
  "kernelspec": {
   "display_name": "Python 3 (ipykernel)",
   "language": "python",
   "name": "python3"
  },
  "language_info": {
   "codemirror_mode": {
    "name": "ipython",
    "version": 3
   },
   "file_extension": ".py",
   "mimetype": "text/x-python",
   "name": "python",
   "nbconvert_exporter": "python",
   "pygments_lexer": "ipython3",
   "version": "3.8.16"
  }
 },
 "nbformat": 4,
 "nbformat_minor": 5
}
