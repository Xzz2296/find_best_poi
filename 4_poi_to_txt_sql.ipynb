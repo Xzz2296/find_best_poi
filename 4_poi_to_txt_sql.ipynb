{
 "cells": [
  {
   "cell_type": "markdown",
   "id": "4b2a2c44",
   "metadata": {},
   "source": [
    "# 数据载入"
   ]
  },
  {
   "cell_type": "code",
   "execution_count": 1,
   "id": "0cfaa809",
   "metadata": {
    "tags": []
   },
   "outputs": [],
   "source": [
    "import pandas as pd\n",
    "import os\n",
    "from collections import Counter\n",
    "import numpy as np\n",
    "\n",
    "import torch"
   ]
  },
  {
   "cell_type": "code",
   "execution_count": 2,
   "id": "0eb5f51b-5d39-4c76-9fee-0383067b072a",
   "metadata": {},
   "outputs": [
    {
     "name": "stderr",
     "output_type": "stream",
     "text": [
      "C:\\Users\\c'y'y\\AppData\\Local\\Temp\\ipykernel_8392\\3652881321.py:1: FutureWarning: Passing a negative integer is deprecated in version 1.0 and will not be supported in future version. Instead, use None to not limit the column width.\n",
      "  pd.set_option('display.max_colwidth', -1)\n"
     ]
    }
   ],
   "source": [
    "pd.set_option('display.max_colwidth', -1)"
   ]
  },
  {
   "cell_type": "code",
   "execution_count": 3,
   "id": "51fae9cd",
   "metadata": {},
   "outputs": [],
   "source": [
    "poi_path =r'E:\\xpj\\research\\POI\\psqlcsv\\rio.csv'\n",
    "poi_prompt_path =r'E:\\xpj\\research\\POI\\result\\rio_poi_prompt.xlsx'\n",
    "image_path = r'E:\\xpj\\research\\POI\\psqlcsv\\rio_img_location.csv'\n",
    "image_poi_path = r'E:\\xpj\\research\\POI\\psqlcsv\\rio_img_poi.csv'\n",
    "desc_path =r'E:\\xpj\\research\\POI\\desc_merge\\rio_desc_merged.csv'\n",
    "best_poi_path = r'E:\\xpj\\research\\POI\\result\\rio_best_poi.xlsx'\n",
    "desc_poi_path = r'E:\\xpj\\research\\POI\\result\\rio_desc_poi.xlsx'"
   ]
  },
  {
   "cell_type": "markdown",
   "id": "5c3eae67-cc81-4649-b009-fe17629e4ddd",
   "metadata": {
    "tags": []
   },
   "source": [
    "## poi数据（全面）"
   ]
  },
  {
   "cell_type": "code",
   "execution_count": 4,
   "id": "878415de",
   "metadata": {
    "tags": []
   },
   "outputs": [],
   "source": [
    "poi_data = pd.read_csv(poi_path,encoding='utf-8')\n",
    "# poi_data = pd.read_csv(r\"E:\\xpj\\research\\POI\\mumbai_poi.csv\",encoding='ANSI')\n",
    "poi_df = pd.DataFrame(poi_data)"
   ]
  },
  {
   "cell_type": "code",
   "execution_count": 5,
   "id": "695e7a0b",
   "metadata": {
    "scrolled": true,
    "tags": []
   },
   "outputs": [
    {
     "data": {
      "text/html": [
       "<div>\n",
       "<style scoped>\n",
       "    .dataframe tbody tr th:only-of-type {\n",
       "        vertical-align: middle;\n",
       "    }\n",
       "\n",
       "    .dataframe tbody tr th {\n",
       "        vertical-align: top;\n",
       "    }\n",
       "\n",
       "    .dataframe thead th {\n",
       "        text-align: right;\n",
       "    }\n",
       "</style>\n",
       "<table border=\"1\" class=\"dataframe\">\n",
       "  <thead>\n",
       "    <tr style=\"text-align: right;\">\n",
       "      <th></th>\n",
       "      <th>id</th>\n",
       "      <th>geom</th>\n",
       "      <th>osm_id</th>\n",
       "      <th>name</th>\n",
       "      <th>barrier</th>\n",
       "      <th>highway</th>\n",
       "      <th>ref</th>\n",
       "      <th>address</th>\n",
       "      <th>is_in</th>\n",
       "      <th>place</th>\n",
       "      <th>man_made</th>\n",
       "      <th>other_tags</th>\n",
       "    </tr>\n",
       "  </thead>\n",
       "  <tbody>\n",
       "    <tr>\n",
       "      <th>0</th>\n",
       "      <td>1</td>\n",
       "      <td>0101000020E61000008978EBFCDB5B47C0E2D7FE84698E37C0</td>\n",
       "      <td>577242</td>\n",
       "      <td>NaN</td>\n",
       "      <td>NaN</td>\n",
       "      <td>speed_camera</td>\n",
       "      <td>NaN</td>\n",
       "      <td>NaN</td>\n",
       "      <td>NaN</td>\n",
       "      <td>NaN</td>\n",
       "      <td>NaN</td>\n",
       "      <td>\"maxspeed\"=&gt;\"90\",\"maxspeed:hgv\"=&gt;\"60\"</td>\n",
       "    </tr>\n",
       "    <tr>\n",
       "      <th>1</th>\n",
       "      <td>2</td>\n",
       "      <td>0101000020E61000000B2CDBE2754E47C0388F79D3E38537C0</td>\n",
       "      <td>597434</td>\n",
       "      <td>NaN</td>\n",
       "      <td>NaN</td>\n",
       "      <td>motorway_junction</td>\n",
       "      <td>NaN</td>\n",
       "      <td>NaN</td>\n",
       "      <td>NaN</td>\n",
       "      <td>NaN</td>\n",
       "      <td>NaN</td>\n",
       "      <td>NaN</td>\n",
       "    </tr>\n",
       "    <tr>\n",
       "      <th>2</th>\n",
       "      <td>3</td>\n",
       "      <td>0101000020E61000004599B278569B45C0E28F47156AFC36C0</td>\n",
       "      <td>25038601</td>\n",
       "      <td>NaN</td>\n",
       "      <td>NaN</td>\n",
       "      <td>traffic_signals</td>\n",
       "      <td>NaN</td>\n",
       "      <td>NaN</td>\n",
       "      <td>NaN</td>\n",
       "      <td>NaN</td>\n",
       "      <td>NaN</td>\n",
       "      <td>NaN</td>\n",
       "    </tr>\n",
       "    <tr>\n",
       "      <th>3</th>\n",
       "      <td>4</td>\n",
       "      <td>0101000020E610000073BD6DA6429B45C07EA026440AFB36C0</td>\n",
       "      <td>25038605</td>\n",
       "      <td>NaN</td>\n",
       "      <td>NaN</td>\n",
       "      <td>crossing</td>\n",
       "      <td>NaN</td>\n",
       "      <td>NaN</td>\n",
       "      <td>NaN</td>\n",
       "      <td>NaN</td>\n",
       "      <td>NaN</td>\n",
       "      <td>\"traffic_calming\"=&gt;\"table\"</td>\n",
       "    </tr>\n",
       "    <tr>\n",
       "      <th>4</th>\n",
       "      <td>5</td>\n",
       "      <td>0101000020E6100000CFFEF62B535B47C0DF0A7261EE8E37C0</td>\n",
       "      <td>25619567</td>\n",
       "      <td>NaN</td>\n",
       "      <td>NaN</td>\n",
       "      <td>motorway_junction</td>\n",
       "      <td>NaN</td>\n",
       "      <td>NaN</td>\n",
       "      <td>NaN</td>\n",
       "      <td>NaN</td>\n",
       "      <td>NaN</td>\n",
       "      <td>NaN</td>\n",
       "    </tr>\n",
       "    <tr>\n",
       "      <th>...</th>\n",
       "      <td>...</td>\n",
       "      <td>...</td>\n",
       "      <td>...</td>\n",
       "      <td>...</td>\n",
       "      <td>...</td>\n",
       "      <td>...</td>\n",
       "      <td>...</td>\n",
       "      <td>...</td>\n",
       "      <td>...</td>\n",
       "      <td>...</td>\n",
       "      <td>...</td>\n",
       "      <td>...</td>\n",
       "    </tr>\n",
       "    <tr>\n",
       "      <th>106079</th>\n",
       "      <td>106080</td>\n",
       "      <td>0101000020E6100000F1811DFF058E45C0792B01E77BE836C0</td>\n",
       "      <td>11382497947</td>\n",
       "      <td>O Galeto</td>\n",
       "      <td>NaN</td>\n",
       "      <td>NaN</td>\n",
       "      <td>NaN</td>\n",
       "      <td>NaN</td>\n",
       "      <td>NaN</td>\n",
       "      <td>NaN</td>\n",
       "      <td>NaN</td>\n",
       "      <td>\"amenity\"=&gt;\"restaurant\"</td>\n",
       "    </tr>\n",
       "    <tr>\n",
       "      <th>106080</th>\n",
       "      <td>106081</td>\n",
       "      <td>0101000020E6100000C652245F098E45C05BADB8DD70E836C0</td>\n",
       "      <td>11382509462</td>\n",
       "      <td>Drogarias Tamoio</td>\n",
       "      <td>NaN</td>\n",
       "      <td>NaN</td>\n",
       "      <td>NaN</td>\n",
       "      <td>NaN</td>\n",
       "      <td>NaN</td>\n",
       "      <td>NaN</td>\n",
       "      <td>NaN</td>\n",
       "      <td>\"amenity\"=&gt;\"pharmacy\",\"healthcare\"=&gt;\"pharmacy\"</td>\n",
       "    </tr>\n",
       "    <tr>\n",
       "      <th>106081</th>\n",
       "      <td>106082</td>\n",
       "      <td>0101000020E6100000A9007388138E45C057C62BB583E836C0</td>\n",
       "      <td>11382516664</td>\n",
       "      <td>Velocity/kore</td>\n",
       "      <td>NaN</td>\n",
       "      <td>NaN</td>\n",
       "      <td>NaN</td>\n",
       "      <td>NaN</td>\n",
       "      <td>NaN</td>\n",
       "      <td>NaN</td>\n",
       "      <td>NaN</td>\n",
       "      <td>\"leisure\"=&gt;\"fitness_centre\",\"sport\"=&gt;\"fitness\"</td>\n",
       "    </tr>\n",
       "    <tr>\n",
       "      <th>106082</th>\n",
       "      <td>106083</td>\n",
       "      <td>0101000020E61000009F97E546EC8D45C0C3FEA14F9AE836C0</td>\n",
       "      <td>11382530023</td>\n",
       "      <td>Princesa</td>\n",
       "      <td>NaN</td>\n",
       "      <td>NaN</td>\n",
       "      <td>NaN</td>\n",
       "      <td>NaN</td>\n",
       "      <td>NaN</td>\n",
       "      <td>NaN</td>\n",
       "      <td>NaN</td>\n",
       "      <td>\"amenity\"=&gt;\"marketplace\",\"building\"=&gt;\"yes\",\"opening_hours\"=&gt;\"07:30-21:00\"</td>\n",
       "    </tr>\n",
       "    <tr>\n",
       "      <th>106083</th>\n",
       "      <td>106084</td>\n",
       "      <td>0101000020E6100000AB09A2EE038E45C024D97E8D7FE836C0</td>\n",
       "      <td>11382531778</td>\n",
       "      <td>Mattinata</td>\n",
       "      <td>NaN</td>\n",
       "      <td>NaN</td>\n",
       "      <td>NaN</td>\n",
       "      <td>NaN</td>\n",
       "      <td>NaN</td>\n",
       "      <td>NaN</td>\n",
       "      <td>NaN</td>\n",
       "      <td>\"amenity\"=&gt;\"restaurant\"</td>\n",
       "    </tr>\n",
       "  </tbody>\n",
       "</table>\n",
       "<p>106084 rows × 12 columns</p>\n",
       "</div>"
      ],
      "text/plain": [
       "            id                                                geom  \\\n",
       "0       1       0101000020E61000008978EBFCDB5B47C0E2D7FE84698E37C0   \n",
       "1       2       0101000020E61000000B2CDBE2754E47C0388F79D3E38537C0   \n",
       "2       3       0101000020E61000004599B278569B45C0E28F47156AFC36C0   \n",
       "3       4       0101000020E610000073BD6DA6429B45C07EA026440AFB36C0   \n",
       "4       5       0101000020E6100000CFFEF62B535B47C0DF0A7261EE8E37C0   \n",
       "...    ..                                                      ...   \n",
       "106079  106080  0101000020E6100000F1811DFF058E45C0792B01E77BE836C0   \n",
       "106080  106081  0101000020E6100000C652245F098E45C05BADB8DD70E836C0   \n",
       "106081  106082  0101000020E6100000A9007388138E45C057C62BB583E836C0   \n",
       "106082  106083  0101000020E61000009F97E546EC8D45C0C3FEA14F9AE836C0   \n",
       "106083  106084  0101000020E6100000AB09A2EE038E45C024D97E8D7FE836C0   \n",
       "\n",
       "             osm_id              name barrier            highway  ref  \\\n",
       "0       577242       NaN               NaN     speed_camera       NaN   \n",
       "1       597434       NaN               NaN     motorway_junction  NaN   \n",
       "2       25038601     NaN               NaN     traffic_signals    NaN   \n",
       "3       25038605     NaN               NaN     crossing           NaN   \n",
       "4       25619567     NaN               NaN     motorway_junction  NaN   \n",
       "...          ...     ...               ...                   ...  ...   \n",
       "106079  11382497947  O Galeto          NaN     NaN                NaN   \n",
       "106080  11382509462  Drogarias Tamoio  NaN     NaN                NaN   \n",
       "106081  11382516664  Velocity/kore     NaN     NaN                NaN   \n",
       "106082  11382530023  Princesa          NaN     NaN                NaN   \n",
       "106083  11382531778  Mattinata         NaN     NaN                NaN   \n",
       "\n",
       "        address is_in place man_made  \\\n",
       "0      NaN       NaN   NaN   NaN       \n",
       "1      NaN       NaN   NaN   NaN       \n",
       "2      NaN       NaN   NaN   NaN       \n",
       "3      NaN       NaN   NaN   NaN       \n",
       "4      NaN       NaN   NaN   NaN       \n",
       "...     ..       ...   ...   ...       \n",
       "106079 NaN       NaN   NaN   NaN       \n",
       "106080 NaN       NaN   NaN   NaN       \n",
       "106081 NaN       NaN   NaN   NaN       \n",
       "106082 NaN       NaN   NaN   NaN       \n",
       "106083 NaN       NaN   NaN   NaN       \n",
       "\n",
       "                                                                       other_tags  \n",
       "0       \"maxspeed\"=>\"90\",\"maxspeed:hgv\"=>\"60\"                                      \n",
       "1       NaN                                                                        \n",
       "2       NaN                                                                        \n",
       "3       \"traffic_calming\"=>\"table\"                                                 \n",
       "4       NaN                                                                        \n",
       "...     ...                                                                        \n",
       "106079  \"amenity\"=>\"restaurant\"                                                    \n",
       "106080  \"amenity\"=>\"pharmacy\",\"healthcare\"=>\"pharmacy\"                             \n",
       "106081  \"leisure\"=>\"fitness_centre\",\"sport\"=>\"fitness\"                             \n",
       "106082  \"amenity\"=>\"marketplace\",\"building\"=>\"yes\",\"opening_hours\"=>\"07:30-21:00\"  \n",
       "106083  \"amenity\"=>\"restaurant\"                                                    \n",
       "\n",
       "[106084 rows x 12 columns]"
      ]
     },
     "execution_count": 5,
     "metadata": {},
     "output_type": "execute_result"
    }
   ],
   "source": [
    "poi_df"
   ]
  },
  {
   "cell_type": "code",
   "execution_count": 6,
   "id": "72b4aa7f",
   "metadata": {},
   "outputs": [
    {
     "data": {
      "text/plain": [
       "Index(['id', 'geom', 'osm_id', 'name', 'barrier', 'highway', 'ref', 'address',\n",
       "       'is_in', 'place', 'man_made', 'other_tags'],\n",
       "      dtype='object')"
      ]
     },
     "execution_count": 6,
     "metadata": {},
     "output_type": "execute_result"
    }
   ],
   "source": [
    "poi_df.columns"
   ]
  },
  {
   "cell_type": "markdown",
   "id": "5ebb73ae",
   "metadata": {},
   "source": [
    " # 下面第一块可以不做"
   ]
  },
  {
   "cell_type": "code",
   "execution_count": 7,
   "id": "80f98afb",
   "metadata": {},
   "outputs": [],
   "source": [
    "# save tag list to txt\n",
    "\n",
    "# poi_df_nec=poi_df.loc[:,['id', 'name', 'barrier', 'highway','ref', 'address', 'place', 'man_made', 'other_tags']]\n",
    "# poi_df_ot =poi_df_nec.loc[:,['other_tags']]\n",
    "# tag_list = []\n",
    "# def collect_tags(x):\n",
    "#     # print(x['other_tags'])\n",
    "    \n",
    "#     if  pd.notna(x['other_tags']):\n",
    "#         # print(x['other_tags'])\n",
    "#         tags = x['other_tags'].split(\"\\\",\\\"\")\n",
    "#         # print(tags)\n",
    "#         for tag in tags:\n",
    "#             try:\n",
    "#                 tag = tag.replace(\"\\\"\",\"\")\n",
    "#                 t = tag.split(\"=>\")[0]\n",
    "#                 if t not in tag_list:\n",
    "#                     tag_list.append(t)\n",
    "#             except:\n",
    "#                 pass\n",
    "#     # return tag_list\n",
    "\n",
    "# result = poi_df_ot.apply(lambda x: collect_tags(x), axis=1, result_type='expand')\n",
    "# # result\n",
    "# tag_list.sort()\n",
    "# tag_list\n",
    "# # 保存tag_list到txt\n",
    "# with open(r'E:\\xpj\\research\\POI\\chennai_tag_list.txt', 'w') as f:\n",
    "#     for item in tag_list:\n",
    "#         f.write(\"%s\\n\" % item)\n",
    "\n",
    "# poi_df_ot\n",
    "\n",
    "# def genSent(x):\n",
    "#     tags = None\n",
    "#     b = True    \n",
    "#     # sen = \"The imformation of this point contains that \"\n",
    "#     sen = \"Nearby,\"\n",
    "#     for key in ['name','barrier', 'highway','address','place','man_made']:\n",
    "#         if not x[key].isna().iloc[0]:\n",
    "#             # print(x[key])\n",
    "#             sen = sen + key +\" is \" + x[key].iloc[0] + \",\"\n",
    "#     if not x['other_tags'].isna().iloc[0]:\n",
    "#         tags = x['other_tags'].iloc[0].split(\"\\\",\\\"\")\n",
    "#         for tag in tags:\n",
    "#             try:\n",
    "#                 tag = tag.replace(\"\\\"\",\"\")\n",
    "#                 t = tag.split(\"=>\")[0]\n",
    "#                 k = tag.split(\"=>\")[1]\n",
    "#                 if \"name:\" in t and t != \"name:en\":\n",
    "#                     pass\n",
    "#                 sen = sen + t +\" is \" + k + \",\"\n",
    "#             except:\n",
    "#                 pass\n",
    "\n",
    "#     sen = sen + \"located in \" + x['NAME_2'].iloc[0]\n",
    "    \n",
    "#     # return sen,b\n",
    "    \n",
    "#     return sen\n",
    "# # poi_df_nec\n"
   ]
  },
  {
   "cell_type": "markdown",
   "id": "bd98d8ef-c955-4efc-9a9f-05128f0467a2",
   "metadata": {
    "jp-MarkdownHeadingCollapsed": true,
    "tags": []
   },
   "source": [
    "## 照片信息"
   ]
  },
  {
   "cell_type": "code",
   "execution_count": 7,
   "id": "4ca434f4",
   "metadata": {},
   "outputs": [],
   "source": [
    "pic_data = pd.read_csv(image_path,encoding='utf-8')\n",
    "# pic_data = pd.read_csv(r\"E:\\xpj\\research\\POI\\mumbai_points.csv\",encoding='ANSI')\n",
    "pic_df = pd.DataFrame(pic_data)"
   ]
  },
  {
   "cell_type": "code",
   "execution_count": 8,
   "id": "0848b244",
   "metadata": {
    "tags": []
   },
   "outputs": [
    {
     "data": {
      "text/html": [
       "<div>\n",
       "<style scoped>\n",
       "    .dataframe tbody tr th:only-of-type {\n",
       "        vertical-align: middle;\n",
       "    }\n",
       "\n",
       "    .dataframe tbody tr th {\n",
       "        vertical-align: top;\n",
       "    }\n",
       "\n",
       "    .dataframe thead th {\n",
       "        text-align: right;\n",
       "    }\n",
       "</style>\n",
       "<table border=\"1\" class=\"dataframe\">\n",
       "  <thead>\n",
       "    <tr style=\"text-align: right;\">\n",
       "      <th></th>\n",
       "      <th>id</th>\n",
       "      <th>geom</th>\n",
       "      <th>captured_a</th>\n",
       "      <th>camera_mak</th>\n",
       "      <th>created_at</th>\n",
       "      <th>sequences_</th>\n",
       "      <th>pano</th>\n",
       "      <th>user_key</th>\n",
       "      <th>username</th>\n",
       "      <th>img_key</th>\n",
       "      <th>ca</th>\n",
       "      <th>longitude</th>\n",
       "      <th>latitude</th>\n",
       "      <th>img_id</th>\n",
       "      <th>lon</th>\n",
       "      <th>lat</th>\n",
       "      <th>layer</th>\n",
       "      <th>path</th>\n",
       "    </tr>\n",
       "  </thead>\n",
       "  <tbody>\n",
       "    <tr>\n",
       "      <th>0</th>\n",
       "      <td>47099</td>\n",
       "      <td>0101000020E61000003F7A79F0C9AE45C0E9FF6673E6FE36C0</td>\n",
       "      <td>2015/05/18 11:23:03.717</td>\n",
       "      <td>QCOM-AA</td>\n",
       "      <td>2015/05/18 14:52:19.580</td>\n",
       "      <td>crd3q2hfjyvknrgzx1hq4s</td>\n",
       "      <td>0</td>\n",
       "      <td>QnZSIBLP-0fNN3d-7v-Nsg</td>\n",
       "      <td>nighto</td>\n",
       "      <td>O8cJXNVujCuc7lodVZxjIQ</td>\n",
       "      <td>278.3590</td>\n",
       "      <td>-43.365538</td>\n",
       "      <td>-22.995704</td>\n",
       "      <td>NaN</td>\n",
       "      <td>NaN</td>\n",
       "      <td>NaN</td>\n",
       "      <td>rio_img_location</td>\n",
       "      <td>C:/Users/24491/Documents/FileRecv/region/mapillary_img_location/rio_img_location.shp</td>\n",
       "    </tr>\n",
       "    <tr>\n",
       "      <th>1</th>\n",
       "      <td>47100</td>\n",
       "      <td>0101000020E61000003460353BF7B445C0448E08217BFC36C0</td>\n",
       "      <td>2016/07/10 13:42:49.589</td>\n",
       "      <td>none</td>\n",
       "      <td>2016/07/29 14:29:52.281</td>\n",
       "      <td>efAYI6ZY6nOcElKV2rlozQ</td>\n",
       "      <td>0</td>\n",
       "      <td>QnZSIBLP-0fNN3d-7v-Nsg</td>\n",
       "      <td>nighto</td>\n",
       "      <td>FfAPd-qnWjlAennAnYz54g</td>\n",
       "      <td>34.7201</td>\n",
       "      <td>-43.413795</td>\n",
       "      <td>-22.986254</td>\n",
       "      <td>NaN</td>\n",
       "      <td>NaN</td>\n",
       "      <td>NaN</td>\n",
       "      <td>rio_img_location</td>\n",
       "      <td>C:/Users/24491/Documents/FileRecv/region/mapillary_img_location/rio_img_location.shp</td>\n",
       "    </tr>\n",
       "    <tr>\n",
       "      <th>2</th>\n",
       "      <td>47101</td>\n",
       "      <td>0101000020E61000003F7A79F0C9AE45C0E9FF6673E6FE36C0</td>\n",
       "      <td>2015/05/18 11:23:03.717</td>\n",
       "      <td>QCOM-AA</td>\n",
       "      <td>2015/05/18 14:52:19.580</td>\n",
       "      <td>crd3q2hfjyvknrgzx1hq4s</td>\n",
       "      <td>0</td>\n",
       "      <td>QnZSIBLP-0fNN3d-7v-Nsg</td>\n",
       "      <td>nighto</td>\n",
       "      <td>7G7UMIUMXAG9RjZ71hPHBw</td>\n",
       "      <td>277.8210</td>\n",
       "      <td>-43.365538</td>\n",
       "      <td>-22.995704</td>\n",
       "      <td>NaN</td>\n",
       "      <td>NaN</td>\n",
       "      <td>NaN</td>\n",
       "      <td>rio_img_location</td>\n",
       "      <td>C:/Users/24491/Documents/FileRecv/region/mapillary_img_location/rio_img_location.shp</td>\n",
       "    </tr>\n",
       "    <tr>\n",
       "      <th>3</th>\n",
       "      <td>47102</td>\n",
       "      <td>0101000020E6100000FF942A51F6B445C00AC446B478FC36C0</td>\n",
       "      <td>2016/07/10 13:42:49.589</td>\n",
       "      <td>none</td>\n",
       "      <td>2016/07/29 14:29:52.281</td>\n",
       "      <td>efAYI6ZY6nOcElKV2rlozQ</td>\n",
       "      <td>0</td>\n",
       "      <td>QnZSIBLP-0fNN3d-7v-Nsg</td>\n",
       "      <td>nighto</td>\n",
       "      <td>FbA-NO48-w0xViG8KH7vaw</td>\n",
       "      <td>34.7201</td>\n",
       "      <td>-43.413767</td>\n",
       "      <td>-22.986217</td>\n",
       "      <td>NaN</td>\n",
       "      <td>NaN</td>\n",
       "      <td>NaN</td>\n",
       "      <td>rio_img_location</td>\n",
       "      <td>C:/Users/24491/Documents/FileRecv/region/mapillary_img_location/rio_img_location.shp</td>\n",
       "    </tr>\n",
       "    <tr>\n",
       "      <th>4</th>\n",
       "      <td>47103</td>\n",
       "      <td>0101000020E61000003F7A79F0C9AE45C0E9FF6673E6FE36C0</td>\n",
       "      <td>2015/05/18 11:23:03.717</td>\n",
       "      <td>QCOM-AA</td>\n",
       "      <td>2015/05/18 14:52:19.580</td>\n",
       "      <td>crd3q2hfjyvknrgzx1hq4s</td>\n",
       "      <td>0</td>\n",
       "      <td>QnZSIBLP-0fNN3d-7v-Nsg</td>\n",
       "      <td>nighto</td>\n",
       "      <td>WMse9Wt0r_F4UevP5zrXwA</td>\n",
       "      <td>275.6530</td>\n",
       "      <td>-43.365538</td>\n",
       "      <td>-22.995704</td>\n",
       "      <td>NaN</td>\n",
       "      <td>NaN</td>\n",
       "      <td>NaN</td>\n",
       "      <td>rio_img_location</td>\n",
       "      <td>C:/Users/24491/Documents/FileRecv/region/mapillary_img_location/rio_img_location.shp</td>\n",
       "    </tr>\n",
       "    <tr>\n",
       "      <th>...</th>\n",
       "      <td>...</td>\n",
       "      <td>...</td>\n",
       "      <td>...</td>\n",
       "      <td>...</td>\n",
       "      <td>...</td>\n",
       "      <td>...</td>\n",
       "      <td>...</td>\n",
       "      <td>...</td>\n",
       "      <td>...</td>\n",
       "      <td>...</td>\n",
       "      <td>...</td>\n",
       "      <td>...</td>\n",
       "      <td>...</td>\n",
       "      <td>...</td>\n",
       "      <td>...</td>\n",
       "      <td>...</td>\n",
       "      <td>...</td>\n",
       "      <td>...</td>\n",
       "    </tr>\n",
       "    <tr>\n",
       "      <th>161574</th>\n",
       "      <td>47094</td>\n",
       "      <td>0101000020E61000003F027FF8F9B445C01D6CFB6882FC36C0</td>\n",
       "      <td>2016/07/10 13:42:49.589</td>\n",
       "      <td>none</td>\n",
       "      <td>2016/07/29 14:29:52.281</td>\n",
       "      <td>efAYI6ZY6nOcElKV2rlozQ</td>\n",
       "      <td>0</td>\n",
       "      <td>QnZSIBLP-0fNN3d-7v-Nsg</td>\n",
       "      <td>nighto</td>\n",
       "      <td>I4-lVU7TOf7uXygpwTNOYg</td>\n",
       "      <td>34.7201</td>\n",
       "      <td>-43.413879</td>\n",
       "      <td>-22.986365</td>\n",
       "      <td>NaN</td>\n",
       "      <td>NaN</td>\n",
       "      <td>NaN</td>\n",
       "      <td>rio_img_location</td>\n",
       "      <td>C:/Users/24491/Documents/FileRecv/region/mapillary_img_location/rio_img_location.shp</td>\n",
       "    </tr>\n",
       "    <tr>\n",
       "      <th>161575</th>\n",
       "      <td>47095</td>\n",
       "      <td>0101000020E61000003F7A79F0C9AE45C0E9FF6673E6FE36C0</td>\n",
       "      <td>2015/05/18 11:23:03.717</td>\n",
       "      <td>QCOM-AA</td>\n",
       "      <td>2015/05/18 14:52:19.580</td>\n",
       "      <td>crd3q2hfjyvknrgzx1hq4s</td>\n",
       "      <td>0</td>\n",
       "      <td>QnZSIBLP-0fNN3d-7v-Nsg</td>\n",
       "      <td>nighto</td>\n",
       "      <td>MiH-rASORt5ENI7kew1N7Q</td>\n",
       "      <td>273.7280</td>\n",
       "      <td>-43.365538</td>\n",
       "      <td>-22.995704</td>\n",
       "      <td>NaN</td>\n",
       "      <td>NaN</td>\n",
       "      <td>NaN</td>\n",
       "      <td>rio_img_location</td>\n",
       "      <td>C:/Users/24491/Documents/FileRecv/region/mapillary_img_location/rio_img_location.shp</td>\n",
       "    </tr>\n",
       "    <tr>\n",
       "      <th>161576</th>\n",
       "      <td>47096</td>\n",
       "      <td>0101000020E61000000A37740EF9B445C0E2A139FC7FFC36C0</td>\n",
       "      <td>2016/07/10 13:42:49.589</td>\n",
       "      <td>none</td>\n",
       "      <td>2016/07/29 14:29:52.281</td>\n",
       "      <td>efAYI6ZY6nOcElKV2rlozQ</td>\n",
       "      <td>0</td>\n",
       "      <td>QnZSIBLP-0fNN3d-7v-Nsg</td>\n",
       "      <td>nighto</td>\n",
       "      <td>QWvPx9VJR37FVVEaRNuZ2w</td>\n",
       "      <td>34.7201</td>\n",
       "      <td>-43.413851</td>\n",
       "      <td>-22.986328</td>\n",
       "      <td>NaN</td>\n",
       "      <td>NaN</td>\n",
       "      <td>NaN</td>\n",
       "      <td>rio_img_location</td>\n",
       "      <td>C:/Users/24491/Documents/FileRecv/region/mapillary_img_location/rio_img_location.shp</td>\n",
       "    </tr>\n",
       "    <tr>\n",
       "      <th>161577</th>\n",
       "      <td>47097</td>\n",
       "      <td>0101000020E61000003F7A79F0C9AE45C0E9FF6673E6FE36C0</td>\n",
       "      <td>2015/05/18 11:23:03.717</td>\n",
       "      <td>QCOM-AA</td>\n",
       "      <td>2015/05/18 14:52:19.580</td>\n",
       "      <td>crd3q2hfjyvknrgzx1hq4s</td>\n",
       "      <td>0</td>\n",
       "      <td>QnZSIBLP-0fNN3d-7v-Nsg</td>\n",
       "      <td>nighto</td>\n",
       "      <td>bBePH1PmCAp5m9_QyxM43A</td>\n",
       "      <td>279.5140</td>\n",
       "      <td>-43.365538</td>\n",
       "      <td>-22.995704</td>\n",
       "      <td>NaN</td>\n",
       "      <td>NaN</td>\n",
       "      <td>NaN</td>\n",
       "      <td>rio_img_location</td>\n",
       "      <td>C:/Users/24491/Documents/FileRecv/region/mapillary_img_location/rio_img_location.shp</td>\n",
       "    </tr>\n",
       "    <tr>\n",
       "      <th>161578</th>\n",
       "      <td>47098</td>\n",
       "      <td>0101000020E6100000D46B6924F8B445C07E58CA8D7DFC36C0</td>\n",
       "      <td>2016/07/10 13:42:49.589</td>\n",
       "      <td>none</td>\n",
       "      <td>2016/07/29 14:29:52.281</td>\n",
       "      <td>efAYI6ZY6nOcElKV2rlozQ</td>\n",
       "      <td>0</td>\n",
       "      <td>QnZSIBLP-0fNN3d-7v-Nsg</td>\n",
       "      <td>nighto</td>\n",
       "      <td>vh40zQz31R41ITWZVdzRxg</td>\n",
       "      <td>34.7201</td>\n",
       "      <td>-43.413823</td>\n",
       "      <td>-22.986291</td>\n",
       "      <td>NaN</td>\n",
       "      <td>NaN</td>\n",
       "      <td>NaN</td>\n",
       "      <td>rio_img_location</td>\n",
       "      <td>C:/Users/24491/Documents/FileRecv/region/mapillary_img_location/rio_img_location.shp</td>\n",
       "    </tr>\n",
       "  </tbody>\n",
       "</table>\n",
       "<p>161579 rows × 18 columns</p>\n",
       "</div>"
      ],
      "text/plain": [
       "           id                                                geom  \\\n",
       "0       47099  0101000020E61000003F7A79F0C9AE45C0E9FF6673E6FE36C0   \n",
       "1       47100  0101000020E61000003460353BF7B445C0448E08217BFC36C0   \n",
       "2       47101  0101000020E61000003F7A79F0C9AE45C0E9FF6673E6FE36C0   \n",
       "3       47102  0101000020E6100000FF942A51F6B445C00AC446B478FC36C0   \n",
       "4       47103  0101000020E61000003F7A79F0C9AE45C0E9FF6673E6FE36C0   \n",
       "...       ...                                                 ...   \n",
       "161574  47094  0101000020E61000003F027FF8F9B445C01D6CFB6882FC36C0   \n",
       "161575  47095  0101000020E61000003F7A79F0C9AE45C0E9FF6673E6FE36C0   \n",
       "161576  47096  0101000020E61000000A37740EF9B445C0E2A139FC7FFC36C0   \n",
       "161577  47097  0101000020E61000003F7A79F0C9AE45C0E9FF6673E6FE36C0   \n",
       "161578  47098  0101000020E6100000D46B6924F8B445C07E58CA8D7DFC36C0   \n",
       "\n",
       "                     captured_a camera_mak               created_at  \\\n",
       "0       2015/05/18 11:23:03.717  QCOM-AA    2015/05/18 14:52:19.580   \n",
       "1       2016/07/10 13:42:49.589  none       2016/07/29 14:29:52.281   \n",
       "2       2015/05/18 11:23:03.717  QCOM-AA    2015/05/18 14:52:19.580   \n",
       "3       2016/07/10 13:42:49.589  none       2016/07/29 14:29:52.281   \n",
       "4       2015/05/18 11:23:03.717  QCOM-AA    2015/05/18 14:52:19.580   \n",
       "...                         ...      ...                        ...   \n",
       "161574  2016/07/10 13:42:49.589  none       2016/07/29 14:29:52.281   \n",
       "161575  2015/05/18 11:23:03.717  QCOM-AA    2015/05/18 14:52:19.580   \n",
       "161576  2016/07/10 13:42:49.589  none       2016/07/29 14:29:52.281   \n",
       "161577  2015/05/18 11:23:03.717  QCOM-AA    2015/05/18 14:52:19.580   \n",
       "161578  2016/07/10 13:42:49.589  none       2016/07/29 14:29:52.281   \n",
       "\n",
       "                    sequences_  pano                user_key username  \\\n",
       "0       crd3q2hfjyvknrgzx1hq4s  0     QnZSIBLP-0fNN3d-7v-Nsg  nighto    \n",
       "1       efAYI6ZY6nOcElKV2rlozQ  0     QnZSIBLP-0fNN3d-7v-Nsg  nighto    \n",
       "2       crd3q2hfjyvknrgzx1hq4s  0     QnZSIBLP-0fNN3d-7v-Nsg  nighto    \n",
       "3       efAYI6ZY6nOcElKV2rlozQ  0     QnZSIBLP-0fNN3d-7v-Nsg  nighto    \n",
       "4       crd3q2hfjyvknrgzx1hq4s  0     QnZSIBLP-0fNN3d-7v-Nsg  nighto    \n",
       "...                        ... ..                        ...     ...    \n",
       "161574  efAYI6ZY6nOcElKV2rlozQ  0     QnZSIBLP-0fNN3d-7v-Nsg  nighto    \n",
       "161575  crd3q2hfjyvknrgzx1hq4s  0     QnZSIBLP-0fNN3d-7v-Nsg  nighto    \n",
       "161576  efAYI6ZY6nOcElKV2rlozQ  0     QnZSIBLP-0fNN3d-7v-Nsg  nighto    \n",
       "161577  crd3q2hfjyvknrgzx1hq4s  0     QnZSIBLP-0fNN3d-7v-Nsg  nighto    \n",
       "161578  efAYI6ZY6nOcElKV2rlozQ  0     QnZSIBLP-0fNN3d-7v-Nsg  nighto    \n",
       "\n",
       "                       img_key        ca  longitude   latitude  img_id  lon  \\\n",
       "0       O8cJXNVujCuc7lodVZxjIQ  278.3590 -43.365538 -22.995704 NaN     NaN    \n",
       "1       FfAPd-qnWjlAennAnYz54g  34.7201  -43.413795 -22.986254 NaN     NaN    \n",
       "2       7G7UMIUMXAG9RjZ71hPHBw  277.8210 -43.365538 -22.995704 NaN     NaN    \n",
       "3       FbA-NO48-w0xViG8KH7vaw  34.7201  -43.413767 -22.986217 NaN     NaN    \n",
       "4       WMse9Wt0r_F4UevP5zrXwA  275.6530 -43.365538 -22.995704 NaN     NaN    \n",
       "...                        ...       ...        ...        ...  ..      ..    \n",
       "161574  I4-lVU7TOf7uXygpwTNOYg  34.7201  -43.413879 -22.986365 NaN     NaN    \n",
       "161575  MiH-rASORt5ENI7kew1N7Q  273.7280 -43.365538 -22.995704 NaN     NaN    \n",
       "161576  QWvPx9VJR37FVVEaRNuZ2w  34.7201  -43.413851 -22.986328 NaN     NaN    \n",
       "161577  bBePH1PmCAp5m9_QyxM43A  279.5140 -43.365538 -22.995704 NaN     NaN    \n",
       "161578  vh40zQz31R41ITWZVdzRxg  34.7201  -43.413823 -22.986291 NaN     NaN    \n",
       "\n",
       "        lat             layer  \\\n",
       "0      NaN   rio_img_location   \n",
       "1      NaN   rio_img_location   \n",
       "2      NaN   rio_img_location   \n",
       "3      NaN   rio_img_location   \n",
       "4      NaN   rio_img_location   \n",
       "...     ..                ...   \n",
       "161574 NaN   rio_img_location   \n",
       "161575 NaN   rio_img_location   \n",
       "161576 NaN   rio_img_location   \n",
       "161577 NaN   rio_img_location   \n",
       "161578 NaN   rio_img_location   \n",
       "\n",
       "                                                                                        path  \n",
       "0       C:/Users/24491/Documents/FileRecv/region/mapillary_img_location/rio_img_location.shp  \n",
       "1       C:/Users/24491/Documents/FileRecv/region/mapillary_img_location/rio_img_location.shp  \n",
       "2       C:/Users/24491/Documents/FileRecv/region/mapillary_img_location/rio_img_location.shp  \n",
       "3       C:/Users/24491/Documents/FileRecv/region/mapillary_img_location/rio_img_location.shp  \n",
       "4       C:/Users/24491/Documents/FileRecv/region/mapillary_img_location/rio_img_location.shp  \n",
       "...                                                                                      ...  \n",
       "161574  C:/Users/24491/Documents/FileRecv/region/mapillary_img_location/rio_img_location.shp  \n",
       "161575  C:/Users/24491/Documents/FileRecv/region/mapillary_img_location/rio_img_location.shp  \n",
       "161576  C:/Users/24491/Documents/FileRecv/region/mapillary_img_location/rio_img_location.shp  \n",
       "161577  C:/Users/24491/Documents/FileRecv/region/mapillary_img_location/rio_img_location.shp  \n",
       "161578  C:/Users/24491/Documents/FileRecv/region/mapillary_img_location/rio_img_location.shp  \n",
       "\n",
       "[161579 rows x 18 columns]"
      ]
     },
     "execution_count": 8,
     "metadata": {},
     "output_type": "execute_result"
    }
   ],
   "source": [
    "pic_df"
   ]
  },
  {
   "cell_type": "markdown",
   "id": "e80f2c57-6415-4eaa-a6c9-aaae93e7f873",
   "metadata": {
    "tags": []
   },
   "source": [
    "## 照片poi关联"
   ]
  },
  {
   "cell_type": "code",
   "execution_count": 10,
   "id": "89aea6a3",
   "metadata": {},
   "outputs": [],
   "source": [
    "pic_poi_data = pd.read_csv(image_poi_path,encoding='utf-8')\n",
    "# pic_poi_data = pd.read_csv(r\"E:\\xpj\\research\\POI\\mumbai_pois_to_points.csv\",encoding='ANSI')\n",
    "pic_poi_df = pd.DataFrame(pic_poi_data)"
   ]
  },
  {
   "cell_type": "code",
   "execution_count": 13,
   "id": "c3f6fb4d",
   "metadata": {
    "tags": []
   },
   "outputs": [
    {
     "data": {
      "text/html": [
       "<div>\n",
       "<style scoped>\n",
       "    .dataframe tbody tr th:only-of-type {\n",
       "        vertical-align: middle;\n",
       "    }\n",
       "\n",
       "    .dataframe tbody tr th {\n",
       "        vertical-align: top;\n",
       "    }\n",
       "\n",
       "    .dataframe thead th {\n",
       "        text-align: right;\n",
       "    }\n",
       "</style>\n",
       "<table border=\"1\" class=\"dataframe\">\n",
       "  <thead>\n",
       "    <tr style=\"text-align: right;\">\n",
       "      <th></th>\n",
       "      <th>img_key</th>\n",
       "      <th>id1</th>\n",
       "      <th>distance1</th>\n",
       "      <th>id2</th>\n",
       "      <th>distance2</th>\n",
       "      <th>id3</th>\n",
       "      <th>distance3</th>\n",
       "      <th>id4</th>\n",
       "      <th>distance4</th>\n",
       "      <th>id5</th>\n",
       "      <th>distance5</th>\n",
       "    </tr>\n",
       "  </thead>\n",
       "  <tbody>\n",
       "    <tr>\n",
       "      <th>0</th>\n",
       "      <td>002s3LqUHs-4gWRcYaiBkw</td>\n",
       "      <td>34793</td>\n",
       "      <td>17.721983</td>\n",
       "      <td>34781.0</td>\n",
       "      <td>22.808563</td>\n",
       "      <td>34593.0</td>\n",
       "      <td>24.099713</td>\n",
       "      <td>34581.0</td>\n",
       "      <td>37.013036</td>\n",
       "      <td>34689.0</td>\n",
       "      <td>38.000283</td>\n",
       "    </tr>\n",
       "    <tr>\n",
       "      <th>1</th>\n",
       "      <td>003XithOyLilNhuQGbaEZg</td>\n",
       "      <td>40753</td>\n",
       "      <td>0.377198</td>\n",
       "      <td>40752.0</td>\n",
       "      <td>5.468711</td>\n",
       "      <td>40754.0</td>\n",
       "      <td>8.865106</td>\n",
       "      <td>40755.0</td>\n",
       "      <td>14.859372</td>\n",
       "      <td>67606.0</td>\n",
       "      <td>18.802007</td>\n",
       "    </tr>\n",
       "    <tr>\n",
       "      <th>2</th>\n",
       "      <td>004aS2auM9uZDCfs6No_aQ</td>\n",
       "      <td>34865</td>\n",
       "      <td>12.967810</td>\n",
       "      <td>34603.0</td>\n",
       "      <td>24.182185</td>\n",
       "      <td>34820.0</td>\n",
       "      <td>26.507287</td>\n",
       "      <td>34694.0</td>\n",
       "      <td>31.367598</td>\n",
       "      <td>34869.0</td>\n",
       "      <td>31.629926</td>\n",
       "    </tr>\n",
       "    <tr>\n",
       "      <th>3</th>\n",
       "      <td>004EJBeTzGPJ2xf4dnkKjA</td>\n",
       "      <td>4014</td>\n",
       "      <td>106.115749</td>\n",
       "      <td>3331.0</td>\n",
       "      <td>109.034853</td>\n",
       "      <td>19499.0</td>\n",
       "      <td>111.012940</td>\n",
       "      <td>3334.0</td>\n",
       "      <td>114.621619</td>\n",
       "      <td>2727.0</td>\n",
       "      <td>116.903414</td>\n",
       "    </tr>\n",
       "    <tr>\n",
       "      <th>4</th>\n",
       "      <td>005N-4kg7UzNLGCWC5P1Mg</td>\n",
       "      <td>41183</td>\n",
       "      <td>39.366317</td>\n",
       "      <td>44733.0</td>\n",
       "      <td>75.702342</td>\n",
       "      <td>41181.0</td>\n",
       "      <td>156.647688</td>\n",
       "      <td>24351.0</td>\n",
       "      <td>245.942360</td>\n",
       "      <td>39842.0</td>\n",
       "      <td>258.698243</td>\n",
       "    </tr>\n",
       "    <tr>\n",
       "      <th>...</th>\n",
       "      <td>...</td>\n",
       "      <td>...</td>\n",
       "      <td>...</td>\n",
       "      <td>...</td>\n",
       "      <td>...</td>\n",
       "      <td>...</td>\n",
       "      <td>...</td>\n",
       "      <td>...</td>\n",
       "      <td>...</td>\n",
       "      <td>...</td>\n",
       "      <td>...</td>\n",
       "    </tr>\n",
       "    <tr>\n",
       "      <th>64518</th>\n",
       "      <td>ZZxIjo2NiKAPjqwceHD1zw</td>\n",
       "      <td>29519</td>\n",
       "      <td>63.996659</td>\n",
       "      <td>42002.0</td>\n",
       "      <td>75.143907</td>\n",
       "      <td>57849.0</td>\n",
       "      <td>75.758164</td>\n",
       "      <td>5927.0</td>\n",
       "      <td>76.237239</td>\n",
       "      <td>57848.0</td>\n",
       "      <td>76.542434</td>\n",
       "    </tr>\n",
       "    <tr>\n",
       "      <th>64519</th>\n",
       "      <td>ZzXRUvKOW24VAHD95eh1yQ</td>\n",
       "      <td>21267</td>\n",
       "      <td>14.097283</td>\n",
       "      <td>21225.0</td>\n",
       "      <td>26.195435</td>\n",
       "      <td>58935.0</td>\n",
       "      <td>27.033246</td>\n",
       "      <td>21226.0</td>\n",
       "      <td>27.244517</td>\n",
       "      <td>21229.0</td>\n",
       "      <td>29.253731</td>\n",
       "    </tr>\n",
       "    <tr>\n",
       "      <th>64520</th>\n",
       "      <td>ZzYYYg6qM0_xcVcF5372YQ</td>\n",
       "      <td>55410</td>\n",
       "      <td>28.429007</td>\n",
       "      <td>67388.0</td>\n",
       "      <td>29.996281</td>\n",
       "      <td>52567.0</td>\n",
       "      <td>58.866504</td>\n",
       "      <td>56176.0</td>\n",
       "      <td>61.577739</td>\n",
       "      <td>39586.0</td>\n",
       "      <td>83.735081</td>\n",
       "    </tr>\n",
       "    <tr>\n",
       "      <th>64521</th>\n",
       "      <td>zzZ8UbiqxCBY-XBpTWu0Ng</td>\n",
       "      <td>18620</td>\n",
       "      <td>62.501259</td>\n",
       "      <td>18617.0</td>\n",
       "      <td>86.176798</td>\n",
       "      <td>59543.0</td>\n",
       "      <td>87.672036</td>\n",
       "      <td>43253.0</td>\n",
       "      <td>99.532265</td>\n",
       "      <td>43254.0</td>\n",
       "      <td>100.608176</td>\n",
       "    </tr>\n",
       "    <tr>\n",
       "      <th>64522</th>\n",
       "      <td>zzzJICTEegKnmdYVtJH5AA</td>\n",
       "      <td>8485</td>\n",
       "      <td>35.065016</td>\n",
       "      <td>37508.0</td>\n",
       "      <td>37.276382</td>\n",
       "      <td>10510.0</td>\n",
       "      <td>69.185209</td>\n",
       "      <td>5053.0</td>\n",
       "      <td>74.782184</td>\n",
       "      <td>5043.0</td>\n",
       "      <td>79.525849</td>\n",
       "    </tr>\n",
       "  </tbody>\n",
       "</table>\n",
       "<p>64523 rows × 11 columns</p>\n",
       "</div>"
      ],
      "text/plain": [
       "                      img_key    id1   distance1      id2   distance2  \\\n",
       "0      002s3LqUHs-4gWRcYaiBkw  34793  17.721983   34781.0  22.808563    \n",
       "1      003XithOyLilNhuQGbaEZg  40753  0.377198    40752.0  5.468711     \n",
       "2      004aS2auM9uZDCfs6No_aQ  34865  12.967810   34603.0  24.182185    \n",
       "3      004EJBeTzGPJ2xf4dnkKjA  4014   106.115749  3331.0   109.034853   \n",
       "4      005N-4kg7UzNLGCWC5P1Mg  41183  39.366317   44733.0  75.702342    \n",
       "...                       ...    ...        ...       ...        ...    \n",
       "64518  ZZxIjo2NiKAPjqwceHD1zw  29519  63.996659   42002.0  75.143907    \n",
       "64519  ZzXRUvKOW24VAHD95eh1yQ  21267  14.097283   21225.0  26.195435    \n",
       "64520  ZzYYYg6qM0_xcVcF5372YQ  55410  28.429007   67388.0  29.996281    \n",
       "64521  zzZ8UbiqxCBY-XBpTWu0Ng  18620  62.501259   18617.0  86.176798    \n",
       "64522  zzzJICTEegKnmdYVtJH5AA  8485   35.065016   37508.0  37.276382    \n",
       "\n",
       "           id3   distance3      id4   distance4      id5   distance5  \n",
       "0      34593.0  24.099713   34581.0  37.013036   34689.0  38.000283   \n",
       "1      40754.0  8.865106    40755.0  14.859372   67606.0  18.802007   \n",
       "2      34820.0  26.507287   34694.0  31.367598   34869.0  31.629926   \n",
       "3      19499.0  111.012940  3334.0   114.621619  2727.0   116.903414  \n",
       "4      41181.0  156.647688  24351.0  245.942360  39842.0  258.698243  \n",
       "...        ...         ...      ...         ...      ...         ...  \n",
       "64518  57849.0  75.758164   5927.0   76.237239   57848.0  76.542434   \n",
       "64519  58935.0  27.033246   21226.0  27.244517   21229.0  29.253731   \n",
       "64520  52567.0  58.866504   56176.0  61.577739   39586.0  83.735081   \n",
       "64521  59543.0  87.672036   43253.0  99.532265   43254.0  100.608176  \n",
       "64522  10510.0  69.185209   5053.0   74.782184   5043.0   79.525849   \n",
       "\n",
       "[64523 rows x 11 columns]"
      ]
     },
     "execution_count": 13,
     "metadata": {},
     "output_type": "execute_result"
    }
   ],
   "source": [
    "pic_poi_df"
   ]
  },
  {
   "cell_type": "markdown",
   "id": "2172ba8e-6a79-4712-9373-f66589f9db83",
   "metadata": {
    "tags": []
   },
   "source": [
    "## 照片描述"
   ]
  },
  {
   "cell_type": "code",
   "execution_count": 11,
   "id": "9e4c9c08",
   "metadata": {},
   "outputs": [
    {
     "data": {
      "text/html": [
       "<div>\n",
       "<style scoped>\n",
       "    .dataframe tbody tr th:only-of-type {\n",
       "        vertical-align: middle;\n",
       "    }\n",
       "\n",
       "    .dataframe tbody tr th {\n",
       "        vertical-align: top;\n",
       "    }\n",
       "\n",
       "    .dataframe thead th {\n",
       "        text-align: right;\n",
       "    }\n",
       "</style>\n",
       "<table border=\"1\" class=\"dataframe\">\n",
       "  <thead>\n",
       "    <tr style=\"text-align: right;\">\n",
       "      <th></th>\n",
       "      <th>key</th>\n",
       "      <th>prompt</th>\n",
       "    </tr>\n",
       "  </thead>\n",
       "  <tbody>\n",
       "    <tr>\n",
       "      <th>0</th>\n",
       "      <td>_Hl_r3FRhTeYWkNOSoC9jw</td>\n",
       "      <td>arafed view of a fenced off area with a street sign, a matte painting inspired by Washington Allston, featured on shutterstock, ashcan school, small fence, fence line, white block fence</td>\n",
       "    </tr>\n",
       "    <tr>\n",
       "      <th>1</th>\n",
       "      <td>_hzARtgodzk_0iEkMsHfWg</td>\n",
       "      <td>arafed view of a paved road with a fence and grass, a matte painting by Tadao Ando, polycount, ecological art, grassy hill, landslide road, grass and weeds”</td>\n",
       "    </tr>\n",
       "    <tr>\n",
       "      <th>2</th>\n",
       "      <td>_JrLfcgray_wVFbNp6DqgA</td>\n",
       "      <td>a view of a street with a telephone pole and bushes, a photo inspired by Eduardo Lefebvre Scovell, pixiv, ecological art, overgrown vegetation, found on google street view, overgrown with vegetation</td>\n",
       "    </tr>\n",
       "    <tr>\n",
       "      <th>3</th>\n",
       "      <td>_K1nHlsKBSLNqBuGK8P-0A</td>\n",
       "      <td>arafed house with a fence and a gate in front of it, a detailed matte painting inspired by Juan Villafuerte, featured on shutterstock, barbizon school, footbridges between houses, in front of a two story house, inside a gang hideout</td>\n",
       "    </tr>\n",
       "    <tr>\n",
       "      <th>4</th>\n",
       "      <td>_K7FOnA4OpLuBCQiafVOCg</td>\n",
       "      <td>graffiti on a wall in an alley with a building in the background, graffiti art by Derf, behance, funk art, grafity, graffiti art style, graffiti style</td>\n",
       "    </tr>\n",
       "    <tr>\n",
       "      <th>...</th>\n",
       "      <td>...</td>\n",
       "      <td>...</td>\n",
       "    </tr>\n",
       "    <tr>\n",
       "      <th>747564</th>\n",
       "      <td>ynJo3obus0JkZOgC5dX9YA</td>\n",
       "      <td>cars are driving down the road in front of tall buildings, a matte painting inspired by Victor Meirelles, pexels, new objectivity, anamorphic lens flare, optical lens flare fx, anamorphic wide angle lens</td>\n",
       "    </tr>\n",
       "    <tr>\n",
       "      <th>747565</th>\n",
       "      <td>9z7pOSMyF5rh0ZHM6bS6Yw</td>\n",
       "      <td>arafed bus driving down a street with cars on it, a matte painting inspired by Nadir Afonso, tumblr, stuckism, dashcam footage, panoramic photography, anamorphic wide angle lens</td>\n",
       "    </tr>\n",
       "    <tr>\n",
       "      <th>747566</th>\n",
       "      <td>Pz_PN-KMXaDd81bBDSFlvQ</td>\n",
       "      <td>cars are driving down the street in front of a bridge, a photo by Osvaldo Romberg, tumblr, excessivism, avenida paulista, traffic signs, são paulo</td>\n",
       "    </tr>\n",
       "    <tr>\n",
       "      <th>747567</th>\n",
       "      <td>O9Vk9GshlT7iTL0D0a1vJA</td>\n",
       "      <td>cars driving down a highway with tall buildings in the background, a matte painting by Jacob Willemszoon de Wet, tumblr, precisionism, dashcam footage, found on google street view, google maps street view</td>\n",
       "    </tr>\n",
       "    <tr>\n",
       "      <th>747568</th>\n",
       "      <td>7ZynyADuT0W6kvtatIVWMw</td>\n",
       "      <td>arafed view of a street with a car driving down it, a matte painting inspired by Garry Winogrand, tumblr, excessivism, farol da barra, summer street near a beach, google maps street view</td>\n",
       "    </tr>\n",
       "  </tbody>\n",
       "</table>\n",
       "<p>747569 rows × 2 columns</p>\n",
       "</div>"
      ],
      "text/plain": [
       "                           key  \\\n",
       "0       _Hl_r3FRhTeYWkNOSoC9jw   \n",
       "1       _hzARtgodzk_0iEkMsHfWg   \n",
       "2       _JrLfcgray_wVFbNp6DqgA   \n",
       "3       _K1nHlsKBSLNqBuGK8P-0A   \n",
       "4       _K7FOnA4OpLuBCQiafVOCg   \n",
       "...                        ...   \n",
       "747564  ynJo3obus0JkZOgC5dX9YA   \n",
       "747565  9z7pOSMyF5rh0ZHM6bS6Yw   \n",
       "747566  Pz_PN-KMXaDd81bBDSFlvQ   \n",
       "747567  O9Vk9GshlT7iTL0D0a1vJA   \n",
       "747568  7ZynyADuT0W6kvtatIVWMw   \n",
       "\n",
       "                                                                                                                                                                                                                                          prompt  \n",
       "0       arafed view of a fenced off area with a street sign, a matte painting inspired by Washington Allston, featured on shutterstock, ashcan school, small fence, fence line, white block fence                                                 \n",
       "1       arafed view of a paved road with a fence and grass, a matte painting by Tadao Ando, polycount, ecological art, grassy hill, landslide road, grass and weeds”                                                                              \n",
       "2       a view of a street with a telephone pole and bushes, a photo inspired by Eduardo Lefebvre Scovell, pixiv, ecological art, overgrown vegetation, found on google street view, overgrown with vegetation                                    \n",
       "3       arafed house with a fence and a gate in front of it, a detailed matte painting inspired by Juan Villafuerte, featured on shutterstock, barbizon school, footbridges between houses, in front of a two story house, inside a gang hideout  \n",
       "4       graffiti on a wall in an alley with a building in the background, graffiti art by Derf, behance, funk art, grafity, graffiti art style, graffiti style                                                                                    \n",
       "...                                                                                                                                                        ...                                                                                    \n",
       "747564  cars are driving down the road in front of tall buildings, a matte painting inspired by Victor Meirelles, pexels, new objectivity, anamorphic lens flare, optical lens flare fx, anamorphic wide angle lens                               \n",
       "747565  arafed bus driving down a street with cars on it, a matte painting inspired by Nadir Afonso, tumblr, stuckism, dashcam footage, panoramic photography, anamorphic wide angle lens                                                         \n",
       "747566  cars are driving down the street in front of a bridge, a photo by Osvaldo Romberg, tumblr, excessivism, avenida paulista, traffic signs, são paulo                                                                                        \n",
       "747567  cars driving down a highway with tall buildings in the background, a matte painting by Jacob Willemszoon de Wet, tumblr, precisionism, dashcam footage, found on google street view, google maps street view                              \n",
       "747568  arafed view of a street with a car driving down it, a matte painting inspired by Garry Winogrand, tumblr, excessivism, farol da barra, summer street near a beach, google maps street view                                                \n",
       "\n",
       "[747569 rows x 2 columns]"
      ]
     },
     "execution_count": 11,
     "metadata": {},
     "output_type": "execute_result"
    }
   ],
   "source": [
    "desc_pd =pd.read_csv(desc_path,encoding='utf-8')\n",
    "desc_pd"
   ]
  },
  {
   "cell_type": "markdown",
   "id": "4a6ba6ec-bb42-4ff7-9749-75494004b1a0",
   "metadata": {},
   "source": [
    "# 数据处理"
   ]
  },
  {
   "cell_type": "markdown",
   "id": "7d7fe57c-a0d9-4fd5-9fe3-72891b4c914b",
   "metadata": {
    "tags": []
   },
   "source": [
    "## poi数据预处理"
   ]
  },
  {
   "cell_type": "code",
   "execution_count": 12,
   "id": "6c0f7c8e",
   "metadata": {},
   "outputs": [],
   "source": [
    "poi_df_nec=poi_df.loc[:,['id', 'name', 'barrier', 'highway', 'address', 'place', 'man_made', 'other_tags']]"
   ]
  },
  {
   "cell_type": "code",
   "execution_count": 13,
   "id": "c99e5fa7",
   "metadata": {},
   "outputs": [
    {
     "data": {
      "text/html": [
       "<div>\n",
       "<style scoped>\n",
       "    .dataframe tbody tr th:only-of-type {\n",
       "        vertical-align: middle;\n",
       "    }\n",
       "\n",
       "    .dataframe tbody tr th {\n",
       "        vertical-align: top;\n",
       "    }\n",
       "\n",
       "    .dataframe thead th {\n",
       "        text-align: right;\n",
       "    }\n",
       "</style>\n",
       "<table border=\"1\" class=\"dataframe\">\n",
       "  <thead>\n",
       "    <tr style=\"text-align: right;\">\n",
       "      <th></th>\n",
       "      <th>id</th>\n",
       "      <th>name</th>\n",
       "      <th>barrier</th>\n",
       "      <th>highway</th>\n",
       "      <th>address</th>\n",
       "      <th>place</th>\n",
       "      <th>man_made</th>\n",
       "      <th>other_tags</th>\n",
       "    </tr>\n",
       "  </thead>\n",
       "  <tbody>\n",
       "    <tr>\n",
       "      <th>0</th>\n",
       "      <td>1</td>\n",
       "      <td>NaN</td>\n",
       "      <td>NaN</td>\n",
       "      <td>speed_camera</td>\n",
       "      <td>NaN</td>\n",
       "      <td>NaN</td>\n",
       "      <td>NaN</td>\n",
       "      <td>\"maxspeed\"=&gt;\"90\",\"maxspeed:hgv\"=&gt;\"60\"</td>\n",
       "    </tr>\n",
       "    <tr>\n",
       "      <th>1</th>\n",
       "      <td>2</td>\n",
       "      <td>NaN</td>\n",
       "      <td>NaN</td>\n",
       "      <td>motorway_junction</td>\n",
       "      <td>NaN</td>\n",
       "      <td>NaN</td>\n",
       "      <td>NaN</td>\n",
       "      <td>NaN</td>\n",
       "    </tr>\n",
       "    <tr>\n",
       "      <th>2</th>\n",
       "      <td>3</td>\n",
       "      <td>NaN</td>\n",
       "      <td>NaN</td>\n",
       "      <td>traffic_signals</td>\n",
       "      <td>NaN</td>\n",
       "      <td>NaN</td>\n",
       "      <td>NaN</td>\n",
       "      <td>NaN</td>\n",
       "    </tr>\n",
       "    <tr>\n",
       "      <th>3</th>\n",
       "      <td>4</td>\n",
       "      <td>NaN</td>\n",
       "      <td>NaN</td>\n",
       "      <td>crossing</td>\n",
       "      <td>NaN</td>\n",
       "      <td>NaN</td>\n",
       "      <td>NaN</td>\n",
       "      <td>\"traffic_calming\"=&gt;\"table\"</td>\n",
       "    </tr>\n",
       "    <tr>\n",
       "      <th>4</th>\n",
       "      <td>5</td>\n",
       "      <td>NaN</td>\n",
       "      <td>NaN</td>\n",
       "      <td>motorway_junction</td>\n",
       "      <td>NaN</td>\n",
       "      <td>NaN</td>\n",
       "      <td>NaN</td>\n",
       "      <td>NaN</td>\n",
       "    </tr>\n",
       "    <tr>\n",
       "      <th>...</th>\n",
       "      <td>...</td>\n",
       "      <td>...</td>\n",
       "      <td>...</td>\n",
       "      <td>...</td>\n",
       "      <td>...</td>\n",
       "      <td>...</td>\n",
       "      <td>...</td>\n",
       "      <td>...</td>\n",
       "    </tr>\n",
       "    <tr>\n",
       "      <th>106079</th>\n",
       "      <td>106080</td>\n",
       "      <td>O Galeto</td>\n",
       "      <td>NaN</td>\n",
       "      <td>NaN</td>\n",
       "      <td>NaN</td>\n",
       "      <td>NaN</td>\n",
       "      <td>NaN</td>\n",
       "      <td>\"amenity\"=&gt;\"restaurant\"</td>\n",
       "    </tr>\n",
       "    <tr>\n",
       "      <th>106080</th>\n",
       "      <td>106081</td>\n",
       "      <td>Drogarias Tamoio</td>\n",
       "      <td>NaN</td>\n",
       "      <td>NaN</td>\n",
       "      <td>NaN</td>\n",
       "      <td>NaN</td>\n",
       "      <td>NaN</td>\n",
       "      <td>\"amenity\"=&gt;\"pharmacy\",\"healthcare\"=&gt;\"pharmacy\"</td>\n",
       "    </tr>\n",
       "    <tr>\n",
       "      <th>106081</th>\n",
       "      <td>106082</td>\n",
       "      <td>Velocity/kore</td>\n",
       "      <td>NaN</td>\n",
       "      <td>NaN</td>\n",
       "      <td>NaN</td>\n",
       "      <td>NaN</td>\n",
       "      <td>NaN</td>\n",
       "      <td>\"leisure\"=&gt;\"fitness_centre\",\"sport\"=&gt;\"fitness\"</td>\n",
       "    </tr>\n",
       "    <tr>\n",
       "      <th>106082</th>\n",
       "      <td>106083</td>\n",
       "      <td>Princesa</td>\n",
       "      <td>NaN</td>\n",
       "      <td>NaN</td>\n",
       "      <td>NaN</td>\n",
       "      <td>NaN</td>\n",
       "      <td>NaN</td>\n",
       "      <td>\"amenity\"=&gt;\"marketplace\",\"building\"=&gt;\"yes\",\"opening_hours\"=&gt;\"07:30-21:00\"</td>\n",
       "    </tr>\n",
       "    <tr>\n",
       "      <th>106083</th>\n",
       "      <td>106084</td>\n",
       "      <td>Mattinata</td>\n",
       "      <td>NaN</td>\n",
       "      <td>NaN</td>\n",
       "      <td>NaN</td>\n",
       "      <td>NaN</td>\n",
       "      <td>NaN</td>\n",
       "      <td>\"amenity\"=&gt;\"restaurant\"</td>\n",
       "    </tr>\n",
       "  </tbody>\n",
       "</table>\n",
       "<p>106084 rows × 8 columns</p>\n",
       "</div>"
      ],
      "text/plain": [
       "            id              name barrier            highway  address place  \\\n",
       "0       1       NaN               NaN     speed_camera      NaN       NaN    \n",
       "1       2       NaN               NaN     motorway_junction NaN       NaN    \n",
       "2       3       NaN               NaN     traffic_signals   NaN       NaN    \n",
       "3       4       NaN               NaN     crossing          NaN       NaN    \n",
       "4       5       NaN               NaN     motorway_junction NaN       NaN    \n",
       "...    ..       ...               ...                   ...  ..       ...    \n",
       "106079  106080  O Galeto          NaN     NaN               NaN       NaN    \n",
       "106080  106081  Drogarias Tamoio  NaN     NaN               NaN       NaN    \n",
       "106081  106082  Velocity/kore     NaN     NaN               NaN       NaN    \n",
       "106082  106083  Princesa          NaN     NaN               NaN       NaN    \n",
       "106083  106084  Mattinata         NaN     NaN               NaN       NaN    \n",
       "\n",
       "       man_made  \\\n",
       "0       NaN       \n",
       "1       NaN       \n",
       "2       NaN       \n",
       "3       NaN       \n",
       "4       NaN       \n",
       "...     ...       \n",
       "106079  NaN       \n",
       "106080  NaN       \n",
       "106081  NaN       \n",
       "106082  NaN       \n",
       "106083  NaN       \n",
       "\n",
       "                                                                       other_tags  \n",
       "0       \"maxspeed\"=>\"90\",\"maxspeed:hgv\"=>\"60\"                                      \n",
       "1       NaN                                                                        \n",
       "2       NaN                                                                        \n",
       "3       \"traffic_calming\"=>\"table\"                                                 \n",
       "4       NaN                                                                        \n",
       "...     ...                                                                        \n",
       "106079  \"amenity\"=>\"restaurant\"                                                    \n",
       "106080  \"amenity\"=>\"pharmacy\",\"healthcare\"=>\"pharmacy\"                             \n",
       "106081  \"leisure\"=>\"fitness_centre\",\"sport\"=>\"fitness\"                             \n",
       "106082  \"amenity\"=>\"marketplace\",\"building\"=>\"yes\",\"opening_hours\"=>\"07:30-21:00\"  \n",
       "106083  \"amenity\"=>\"restaurant\"                                                    \n",
       "\n",
       "[106084 rows x 8 columns]"
      ]
     },
     "execution_count": 13,
     "metadata": {},
     "output_type": "execute_result"
    }
   ],
   "source": [
    "poi_df_nec"
   ]
  },
  {
   "cell_type": "code",
   "execution_count": null,
   "id": "8b5ffdbc",
   "metadata": {
    "scrolled": true
   },
   "outputs": [],
   "source": [
    "# poi_df_nec.to_csv(r\"E:\\xpj\\research\\POI\\poi_df_nec.csv\")"
   ]
  },
  {
   "cell_type": "markdown",
   "id": "8d465b02-6c27-48ea-af12-8c5e483b080d",
   "metadata": {
    "tags": []
   },
   "source": [
    "# 硬提示计算相似度，找最佳poi"
   ]
  },
  {
   "cell_type": "code",
   "execution_count": 14,
   "id": "0d481061-a7db-4f1a-baa4-6fff8893bffb",
   "metadata": {},
   "outputs": [],
   "source": [
    "from transformers import AutoTokenizer, AutoModel\n",
    "import torch\n",
    "import numpy as np\n",
    "\n",
    "# 加载BERT模型和分词器\n",
    "tokenizer = AutoTokenizer.from_pretrained(r\"E:\\xpj\\models\\bert-base-uncased\")\n",
    "model = AutoModel.from_pretrained(r\"E:\\xpj\\models\\bert-base-uncased\")"
   ]
  },
  {
   "cell_type": "code",
   "execution_count": 15,
   "id": "66c15a74-f98b-4fc0-b6c1-b6d1423ded80",
   "metadata": {},
   "outputs": [],
   "source": [
    "# 定义计算相似度的函数\n",
    "def calc_similarity(s1, s2):\n",
    "    # 对句子进行分词，并添加特殊标记\n",
    "    inputs = tokenizer([s1, s2], return_tensors='pt', padding=True, truncation=True)\n",
    "    # print(inputs)\n",
    "\n",
    "    # 将输入传递给BERT模型，并获取输出\n",
    "    with torch.no_grad():\n",
    "        outputs = model(**inputs)\n",
    "        embeddings = outputs.last_hidden_state[:, 0, :].cpu().numpy()\n",
    "\n",
    "    # 计算余弦相似度，并返回结果\n",
    "    sim = np.dot(embeddings[0], embeddings[1]) / (np.linalg.norm(embeddings[0]) * np.linalg.norm(embeddings[1]))\n",
    "    return sim\n"
   ]
  },
  {
   "cell_type": "code",
   "execution_count": 16,
   "id": "70b7169e-158d-4929-9b27-11fcb3d4191a",
   "metadata": {},
   "outputs": [],
   "source": [
    "\n",
    "def isEnglish(s):\n",
    "    if isinstance(s, str):\n",
    "        return s.isascii()\n",
    "    return False\n",
    "\n",
    "\n",
    "\n",
    "# 从txt中读取tag_list\n",
    "tag_ignore_list = []\n",
    "with open(r'E:\\xpj\\research\\POI\\tag_ignore_list.txt', 'r') as f:\n",
    "    for line in f.readlines():\n",
    "        tag_ignore_list.append(line.strip())\n",
    "# print(tag_ignore_list)\n",
    "\n",
    "def genSent(x):\n",
    "    tags = None\n",
    "    b = True    \n",
    "    # sen = \"The imformation of this point contains that \"\n",
    "    sen = \"Nearby,\"\n",
    "    for key in ['name','barrier', 'highway','address','place','man_made']:\n",
    "        if isinstance(x[key],str) and not isEnglish(x[key]):\n",
    "            continue\n",
    "        # # 北京保留中文\n",
    "        # if key == 'name' and not isEnglish(x['name'].iloc[0]):\n",
    "        #     continue\n",
    "        if not x[key].isna().iloc[0]:\n",
    "            # print(x[key])\n",
    "            sen = sen + key +\" is \" + x[key].iloc[0] + \",\"\n",
    "    # print(sen)\n",
    "    if not x['other_tags'].isna().iloc[0]:\n",
    "        tags = x['other_tags'].iloc[0].split(\"\\\",\\\"\")\n",
    "        for tag in tags:\n",
    "            try:\n",
    "                tag = tag.replace(\"\\\"\",\"\")\n",
    "                t = tag.split(\"=>\")[0]\n",
    "                k = tag.split(\"=>\")[1]\n",
    "                # 北京保留中文\n",
    "                if not isEnglish(k) or not isEnglish(t):\n",
    "                    print(k,t)\n",
    "                    continue\n",
    "                if list(t)[-1] == \"=\":\n",
    "                    continue\n",
    "                if t in tag_ignore_list:\n",
    "                    continue\n",
    "                # if \"name:\" in t and t != \"name:en\":\n",
    "                #     pass\n",
    "                # pass 的作用是什么也不做 跳过，continue的作用是执行下次for循环\n",
    "                # print(t,k)\n",
    "                sen = sen + t +\" is \" + k + \",\"\n",
    "            except:\n",
    "                pass\n",
    "\n",
    "    # sen = sen + \"located in \" + x['NAME_2'].iloc[0]\n",
    "    \n",
    "    # return sen,b\n",
    "    \n",
    "    return sen"
   ]
  },
  {
   "cell_type": "code",
   "execution_count": null,
   "id": "5fc190e1",
   "metadata": {},
   "outputs": [],
   "source": [
    "# a=\"脿陇陇脿陇戮脿陇聹脿陇庐脿陇鹿脿陇戮脿陇脿陇陋脿楼聟脿陇虏脿楼聡脿陇脿陇鹿脿楼聣脿陇聼脿楼聡脿陇\"\n",
    "# # print(isEnglish(a))\n",
    "# b=\"à¤­à¤¾à¤°à¤¤à¥à¤à¤¹à¤µà¤¾à¤®à¤¾à¤¨ à¤µà¤¿à¤­à¤¾à¤\"\n",
    "# print(isEnglish(b))\n",
    "# print(b.encode('utf-8').decode('ISO-8859-1'))\n",
    "# s = \"啶ぞ啶班い啷€啶啶灌さ啶距ぎ啶距え 啶掂た啶ぞ啶\"\n",
    "# print(s.encode('ansi').decode('iscii'))"
   ]
  },
  {
   "cell_type": "markdown",
   "id": "e3c85159",
   "metadata": {},
   "source": [
    "将poi对应的自然语言提示存储到文件中(poi_nec最后插入一列提示)"
   ]
  },
  {
   "cell_type": "code",
   "execution_count": 17,
   "id": "4dc4324e",
   "metadata": {},
   "outputs": [],
   "source": [
    "def store_poi(x):\n",
    "    # print(x)\n",
    "    poi = x[0]\n",
    "    # print(poi)    \n",
    "    poi_im = poi_df_nec.loc[poi_df_nec['id']==poi]\n",
    "    sen = genSent(poi_im)\n",
    "    return sen\n",
    "    # print(sen)\n",
    "\n",
    "\n",
    "    "
   ]
  },
  {
   "cell_type": "code",
   "execution_count": 18,
   "id": "988af82d",
   "metadata": {},
   "outputs": [
    {
     "name": "stderr",
     "output_type": "stream",
     "text": [
      "Processing:   0%|          | 132/106084 [00:00<02:38, 667.61it/s]"
     ]
    },
    {
     "name": "stdout",
     "output_type": "stream",
     "text": [
      "Última Saída description\n",
      "Última Saída description\n",
      "Última Saída description\n",
      "Última Saída exit_to\n",
      "Autopista Régis operator\n",
      "Autopista Régis operator\n",
      "Бразилиа name:ab\n",
      "ብ�� name:am\n",
      "Głowa Cukru name:pl\n",
      "Pão de Açúcar name:pt\n",
      "Сахарная голова (Пан-ди-Асукар) name:ru\n",
      "Rio-de-Ĵanejro alt_name:eo\n",
      "PalãÚnga name:oym\n",
      "Kulumuli ɨtu name:oym\n"
     ]
    },
    {
     "name": "stderr",
     "output_type": "stream",
     "text": [
      "Processing:   0%|          | 280/106084 [00:00<02:28, 711.91it/s]"
     ]
    },
    {
     "name": "stdout",
     "output_type": "stream",
     "text": [
      "Borne de trijonction: Brésil - France - Suriname name:fr\n",
      "Rua São Salvador addr:street\n",
      "Duque de Caxias\n",
      "Petrópolis inscription\n",
      "Pedra da Gávea name:de\n",
      "Pedra da Gávea name:fr\n",
      "Педра-да-Гавеа name:ru\n",
      "Irmão Menor do Leblon alt_name\n",
      "pt:Morro da Babilônia wikipedia\n"
     ]
    },
    {
     "name": "stderr",
     "output_type": "stream",
     "text": [
      "Processing:   0%|          | 505/106084 [00:00<02:23, 735.48it/s]"
     ]
    },
    {
     "name": "stdout",
     "output_type": "stream",
     "text": [
      "Pedra do Perdido;Pedra do Andaraí;Pico do Perdido alt_name\n",
      "Nossa Senhora da Conceição do Rio d'Ouro;Nossa Senhora da Conceição do Rio Bonito old_name\n",
      "ইটাবোরাই name:bpv\n",
      "᾿Ιταβοραΐ name:el\n",
      "Итабораи name:ru\n",
      "São João de Itaboraí old_name\n",
      "Сао Гонсало name:bg\n",
      "サン・ゴンサーロ name:ja\n",
      "სან-გონსალუ name:ka\n",
      "С� name:kk\n",
      "MetrôRio operator\n",
      "pt:Niterói wikipedia\n",
      "Glória addr:suburb\n",
      "MetrôRio operator\n"
     ]
    },
    {
     "name": "stderr",
     "output_type": "stream",
     "text": [
      "Processing:   1%|          | 654/106084 [00:00<02:24, 731.85it/s]"
     ]
    },
    {
     "name": "stdout",
     "output_type": "stream",
     "text": [
      "Metrô Rio operator\n",
      "Rua Esteves Júnior;Rua Senador Corrêa addr:street\n",
      "Palacete do Largo do Valdetaro;Palácio de Nova Friburgo;Palácio das Águias old_name\n"
     ]
    },
    {
     "name": "stderr",
     "output_type": "stream",
     "text": [
      "Processing:   1%|          | 802/106084 [00:01<02:23, 734.35it/s]"
     ]
    },
    {
     "name": "stdout",
     "output_type": "stream",
     "text": [
      "Rodoviária de Niterói name:pt\n"
     ]
    },
    {
     "name": "stderr",
     "output_type": "stream",
     "text": [
      "Processing:   1%|          | 953/106084 [00:01<02:21, 743.48it/s]"
     ]
    },
    {
     "name": "stdout",
     "output_type": "stream",
     "text": [
      "Pão de Açúcar brand\n",
      "Rua Pedro Américo addr:street\n",
      "Статуя Прицессы Изабеллы name:ru\n",
      "Sarapuí old_name\n",
      "pt:Estação Gramacho wikipedia\n",
      "pt:Maricá wikipedia\n"
     ]
    },
    {
     "name": "stderr",
     "output_type": "stream",
     "text": [
      "Processing:   1%|          | 1103/106084 [00:01<02:21, 743.73it/s]"
     ]
    },
    {
     "name": "stdout",
     "output_type": "stream",
     "text": [
      "MetrôRio operator\n",
      "en:São Francisco, Niterói wikipedia\n",
      "pt:Boa Viagem (Niterói) wikipedia\n",
      "pt:Gragoatá wikipedia\n",
      "Serra dos Órgãos int_name\n",
      "Rua Gonçalves Dias addr:street\n",
      "Кондитерская Коломбо name:ru\n",
      "Rua Gonçalves Dias addr:street\n",
      "Rua Gonçalves Dias addr:street\n",
      "Irmandade de Nossa Senhora do Rosário e São Benedito dos Homens Pretos alt_name\n",
      "Category:Igreja de Nossa Senhora de Ros� wikimedia_commons\n",
      "Niterói addr:city\n",
      "Icaraí addr:suburb\n",
      "دوق دي كاكسياس name:ar\n",
      "Дуки ди Кашиас name:bg\n",
      "デューク・デ・カシアス name:ja\n",
      "დუკე დე კაშია�� name:ka\n",
      "Nova Iguaçu name:oc\n",
      "Lo Congrès source:name:oc\n",
      "Missas:\n",
      "Sábados às description\n"
     ]
    },
    {
     "name": "stderr",
     "output_type": "stream",
     "text": [
      "Processing:   1%|▏         | 1411/106084 [00:01<02:19, 751.39it/s]"
     ]
    },
    {
     "name": "stdout",
     "output_type": "stream",
     "text": [
      "Rua Pedro Américo addr:street\n",
      "Rua Pedro Américo addr:street\n",
      "Rua Pedro Américo addr:street\n",
      "Rua Pedro Américo addr:street\n",
      "Estátua equestre de D. João VI alt_name\n",
      "D. João VI artwork_subject\n",
      "Praça Quinze de Novembro addr:street\n",
      "João Cândido Felisberto artwork_subject\n",
      "Decreto n° 19.011 de 5/10/2000 heritage:ref\n",
      "Rua Humaitá addr:street\n",
      "Rua do Humaitá addr:street\n",
      "Rua do Humaitá addr:street\n",
      "Rua Humaitá addr:street\n",
      "pt:Morro da Providência wikipedia\n"
     ]
    },
    {
     "name": "stderr",
     "output_type": "stream",
     "text": [
      "Processing:   1%|▏         | 1562/106084 [00:02<02:19, 747.45it/s]"
     ]
    },
    {
     "name": "stdout",
     "output_type": "stream",
     "text": [
      "Itaú Unibanco brand\n",
      "pt:Itaú Unibanco brand:wikipedia\n",
      "Itaú Unibanco brand\n"
     ]
    },
    {
     "name": "stderr",
     "output_type": "stream",
     "text": [
      "Processing:   2%|▏         | 1714/106084 [00:02<02:19, 748.68it/s]"
     ]
    },
    {
     "name": "stdout",
     "output_type": "stream",
     "text": [
      "Avenida Atlântica addr:street\n",
      "Calçadão do Leme addr:street\n",
      "Morro de São Roque alt_name\n",
      "Niterói is_in:city\n"
     ]
    },
    {
     "name": "stderr",
     "output_type": "stream",
     "text": [
      "Processing:   2%|▏         | 1942/106084 [00:02<02:18, 752.64it/s]"
     ]
    },
    {
     "name": "stdout",
     "output_type": "stream",
     "text": [
      "Estrada da Gávea addr:street\n",
      "Avenida Atlântica addr:street\n",
      "Palácio dos Estados;Serviço Geológico;DNPM old_name\n",
      "Rua Professor Álvaro Rodrigues addr:street\n",
      "Rua Professor Álvaro Rodrigues addr:street\n",
      "Rua Professor Álvaro Rodrigues addr:street\n",
      "Rua Voluntários da Pátria addr:street\n",
      "Rua Professor Álvaro Rodrigues addr:street\n",
      "Rua Voluntários da Pátria addr:street\n",
      "Rua Voluntários da Pátria addr:street\n",
      "Rua Voluntários da Pátria addr:street\n",
      "Rua Voluntários da Pátria addr:street\n",
      "Rua Voluntários da Pátria addr:street\n",
      "Rua Voluntários da Pátria addr:street\n",
      "Rua Voluntários da Pátria addr:street\n",
      "Rua Voluntários da Pátria addr:street\n",
      "Rua Voluntários da Pátria addr:street\n",
      "Rua Voluntários da Pátria addr:street\n",
      "Rua Voluntários da Pátria addr:street\n",
      "Rua Voluntários da Pátria addr:street\n",
      "Rua Voluntários da Pátria addr:street\n",
      "Rua Voluntários da Pátria addr:street\n"
     ]
    },
    {
     "name": "stderr",
     "output_type": "stream",
     "text": [
      "Processing:   2%|▏         | 2094/106084 [00:02<02:17, 753.86it/s]"
     ]
    },
    {
     "name": "stdout",
     "output_type": "stream",
     "text": [
      "José Bulhões old_name\n",
      "Empresa Brasileira de Correios e Telégrafos operator\n",
      "Rua Professor Álvaro Ramos addr:street\n",
      "Rua Voluntários da Pátria addr:street\n",
      "Empresa Brasileira de Correios e Telégrafos brand\n",
      "Rua Voluntários da Pátria addr:street\n",
      "Rua Voluntários da Pátria addr:street\n",
      "Rua Voluntários da Pátria addr:street\n",
      "Rua Voluntários da Pátria addr:street\n",
      "Rua Voluntários da Pátria addr:street\n",
      "Itaú Unibanco brand\n",
      "Itaú Unibanco operator\n",
      "Brasília capital_city\n",
      "Brasilië name:af\n",
      "Rua Pedro Américo addr:street\n",
      "Rua Almirante Tamandaré addr:street\n",
      "Rua Almirante Tamandaré addr:street\n",
      "tango;samba;forró;forró_roots dance:style\n",
      "Rua Almirante Tamandaré addr:street\n",
      "Rua Almirante Tamandaré addr:street\n",
      "Rua Barão do Flamengo addr:street\n",
      "Rua Barão do Flamengo addr:street\n",
      "Rua Barão do Flamengo addr:street\n",
      "Rua Barão do Flamengo addr:street\n",
      "Rua Tucumã addr:street\n",
      "Rua Tucumã addr:street\n",
      "Rua Barão de Icaraí addr:street\n",
      "Rua Barão de Icaraí addr:street\n",
      "Rua Honório de Barros addr:street\n",
      "Rua Honório de Barros addr:street\n",
      "Rua Honório de Barros addr:street\n",
      "Avenida Oswaldo Cruz;Rua Honório de Barros addr:street\n",
      "Rua Barão de Icaraí addr:street\n",
      "Rua Marquês de Paraná addr:street\n",
      "Rua Barão de Icaraí addr:street\n",
      "Rua Marquês de Paraná addr:street\n",
      "Rua Marquês de Paraná addr:street\n",
      "Rua Marquês de Paraná addr:street\n"
     ]
    },
    {
     "name": "stderr",
     "output_type": "stream",
     "text": [
      "Processing:   2%|▏         | 2246/106084 [00:03<02:19, 745.94it/s]"
     ]
    },
    {
     "name": "stdout",
     "output_type": "stream",
     "text": [
      "Rua Marquês de Abrantes addr:street\n",
      "Rua Marquês de Abrantes addr:street\n",
      "Rua Marquês de Abrantes addr:street\n",
      "Rua Marquês de Abrantes addr:street\n",
      "Rua Marquês de Abrantes addr:street\n",
      "Rua Marquês de Abrantes addr:street\n",
      "Rua Maestro Felício Toledo addr:street\n",
      "Rua Maestro Felício Toledo addr:street\n",
      "Rua Maestro Felício Toledo addr:street\n",
      "Rua Maestro Felício Toledo addr:street\n",
      "Rua da Conceição addr:street\n",
      "Rua da Conceição addr:street\n",
      "Rua da Conceição addr:street\n",
      "Rua da Conceição addr:street\n",
      "Rua da Conceição addr:street\n",
      "Rua da Conceição addr:street\n",
      "Rua da Conceição addr:street\n",
      "Rua da Conceição addr:street\n",
      "Rua da Conceição addr:street\n",
      "Rua da Conceição addr:street\n",
      "Niterói addr:city\n",
      "Rua da Conceição addr:street\n",
      "Rua da Conceição addr:street\n",
      "Rua da Conceição addr:street\n",
      "Rua da Conceição addr:street\n",
      "Rua da Conceição addr:street\n",
      "Rua da Conceição addr:street\n",
      "Rua da Conceição addr:street\n",
      "Rua da Conceição addr:street\n",
      "Rua da Conceição addr:street\n",
      "Rua da Conceição addr:street\n",
      "Rua da Conceição addr:street\n",
      "Rua da Conceição addr:street\n",
      "Rua da Conceição addr:street\n",
      "Rua da Conceição addr:street\n",
      "Rua da Conceição addr:street\n",
      "Rua da Conceição addr:street\n",
      "Niterói addr:city\n",
      "Rua da Conceição addr:street\n",
      "Rua da Conceição addr:street\n",
      "Rua da Conceição addr:street\n",
      "Rua da Conceição addr:street\n",
      "Rua da Conceição addr:street\n",
      "Rua da Conceição addr:street\n",
      "Rua da Conceição addr:street\n",
      "Rua da Conceição addr:street\n",
      "Rua da Conceição addr:street\n",
      "Rua da Conceição addr:street\n",
      "Rua da Conceição addr:street\n",
      "Rua da Conceição addr:street\n",
      "Edifício Guilherme addr:housename\n",
      "Edifício M addr:housename\n",
      "Edifício Valeria addr:housename\n",
      "Edifício Piracicaba addr:housename\n",
      "Edifício Laranjeiras Park addr:housename\n",
      "Edifício Jamile addr:housename\n",
      "Casa do Pão de Queijo brand\n",
      "Edifício Atta addr:housename\n",
      "Edifício Elite addr:housename\n",
      "Edifício Jardins do Palácio addr:housename\n",
      "Rua Pedro Américo addr:street\n",
      "Rua Pedro Américo addr:street\n",
      "Rua Pedro Américo addr:street\n",
      "Rua Pedro Américo addr:street\n",
      "Rua Pedro Américo addr:street\n",
      "Rua Pedro Américo addr:street\n",
      "Rua Pedro Américo addr:street\n",
      "Rua Pedro Américo addr:street\n"
     ]
    },
    {
     "name": "stderr",
     "output_type": "stream",
     "text": [
      "Processing:   2%|▏         | 2472/106084 [00:03<02:18, 748.06it/s]"
     ]
    },
    {
     "name": "stdout",
     "output_type": "stream",
     "text": [
      "Rua Barão de Guaratiba addr:street\n",
      "Rua Barão de Guaratiba addr:street\n",
      "Rua Barão de Guaratiba addr:street\n",
      "Rua Barão de Guaratiba addr:street\n",
      "Rua Antônio Mendes Campos addr:street\n",
      "Rua Antônio Mendes Campos addr:street\n",
      "Ladeira da Glória addr:street\n",
      "Ladeira da Glória addr:street\n",
      "Rua da Glória addr:street\n",
      "Rua da Glória addr:street\n",
      "Edifício Nathan addr:housename\n",
      "pt:Teresópolis wikipedia\n"
     ]
    },
    {
     "name": "stderr",
     "output_type": "stream",
     "text": [
      "Processing:   2%|▏         | 2625/106084 [00:03<02:28, 695.68it/s]"
     ]
    },
    {
     "name": "stdout",
     "output_type": "stream",
     "text": [
      "悪魔の喉笛 name:ja\n",
      "Avenida Mem de Sá addr:street\n",
      "Rua dos Inválidos addr:street\n",
      "Rua dos Inválidos addr:street\n",
      "Rua dos Inválidos addr:street\n",
      "Rua dos Inválidos addr:street\n",
      "Rua dos Inválidos addr:street\n",
      "Rua dos Inválidos addr:street\n",
      "Rua dos Inválidos addr:street\n",
      "Rua dos Inválidos addr:street\n",
      "Avenida Mem de Sá addr:street\n",
      "Avenida Mem de Sá addr:street\n",
      "Avenida Mem de Sá addr:street\n",
      "Avenida Mem de Sá addr:street\n",
      "Rua Álvares de Azevedo addr:street\n",
      "Niterói addr:city\n",
      "Rua Mem de Sá addr:street\n",
      "Niterói addr:city\n",
      "Rua Mem de Sá addr:street\n",
      "Rua Lopes Trovão addr:street\n",
      "Niterói addr:city\n",
      "Rua Presidente João Pessoa addr:street\n",
      "Niterói addr:city\n",
      "Rua Domingues de Sá addr:street\n",
      "Niterói addr:city\n",
      "Rua Domingues de Sá addr:street\n",
      "Jardim Icaraí addr:suburb\n",
      "Niterói addr:city\n",
      "Rua Presidente João Pessoa addr:street\n",
      "Icaraí addr:suburb\n",
      "Avenida Mem de Sá addr:street\n",
      "Avenida Mem de Sá addr:street\n",
      "Avenida Mem de Sá addr:street\n",
      "Avenida Mem de Sá addr:street\n",
      "Avenida Mem de Sá addr:street\n",
      "Avenida Mem de Sá addr:street\n",
      "Avenida Mem de Sá addr:street\n",
      "Avenida Mem de Sá addr:street\n",
      "Avenida Mem de Sá addr:street\n",
      "Avenida Mem de Sá addr:street\n",
      "Avenida Mem de Sá addr:street\n",
      "Avenida Mem de Sá addr:street\n",
      "Avenida Mem de Sá addr:street\n",
      "Avenida Mem de Sá addr:street\n",
      "Avenida Mem de Sá addr:street\n"
     ]
    },
    {
     "name": "stderr",
     "output_type": "stream",
     "text": [
      "Processing:   3%|▎         | 2774/106084 [00:03<02:24, 716.19it/s]"
     ]
    },
    {
     "name": "stdout",
     "output_type": "stream",
     "text": [
      "Itaú Unibanco brand\n",
      "Edifício Paraíba addr:housename\n",
      "Rua Álvaro Chaves addr:street\n",
      "Rua Álvaro Chaves addr:street\n",
      "Rua Álvaro Chaves addr:street\n",
      "Rua São Clemente addr:street\n",
      "Rua São Clemente addr:street\n",
      "Rua Professor Álvaro Rodrigues addr:street\n",
      "Rua Professor Álvaro Rodrigues addr:street\n",
      "Avenida Prado Júnior addr:street\n",
      "Edifício Rosa de Bellis addr:housename\n",
      "Rua da Glória addr:street\n",
      "Rua da Glória addr:street\n"
     ]
    },
    {
     "name": "stderr",
     "output_type": "stream",
     "text": [
      "Processing:   3%|▎         | 3001/106084 [00:04<02:21, 727.04it/s]"
     ]
    },
    {
     "name": "stdout",
     "output_type": "stream",
     "text": [
      "Itaú Unibanco brand\n",
      "pt:Itaú Unibanco brand:wikipedia\n",
      "Rua Clarice Índio do Brasil addr:street\n",
      "Rua Clarice Índio do Brasil addr:street\n",
      "Praça General Tibúrcio addr:street\n"
     ]
    },
    {
     "name": "stderr",
     "output_type": "stream",
     "text": [
      "Processing:   3%|▎         | 3152/106084 [00:04<02:20, 734.32it/s]"
     ]
    },
    {
     "name": "stdout",
     "output_type": "stream",
     "text": [
      "Avenida Nilo Peçanha addr:street\n",
      "Itaú Unibanco brand\n",
      "Avenida Nilo Peçanha addr:street\n",
      "Avenida Nilo Peçanha addr:street\n",
      "Empresa Brasileira de Correios e Telégrafos operator\n",
      "Empresa Brasileira de Correios e Telégrafos brand\n",
      "Caixa Econômica Federal brand\n",
      "Itaú Unibanco brand\n"
     ]
    },
    {
     "name": "stderr",
     "output_type": "stream",
     "text": [
      "Processing:   3%|▎         | 3377/106084 [00:04<02:20, 729.92it/s]"
     ]
    },
    {
     "name": "stdout",
     "output_type": "stream",
     "text": [
      "Rua Jericó addr:street\n",
      "Rua Jericó addr:street\n",
      "Rua Jericó addr:street\n",
      "Rua Noé addr:street\n",
      "Avenida José de Arimatéia addr:street\n",
      "Rua do Cenáculo addr:street\n",
      "Avenida José de Arimatéia addr:street\n"
     ]
    },
    {
     "name": "stderr",
     "output_type": "stream",
     "text": [
      "Processing:   3%|▎         | 3529/106084 [00:04<02:18, 741.57it/s]"
     ]
    },
    {
     "name": "stdout",
     "output_type": "stream",
     "text": [
      "Itaú Unibanco brand\n",
      "Rio-de-Ĵanejrio name:eo\n",
      "リオ デ ジャネイロ name:ja\n",
      "Рио-де-Жанейро name:ru\n",
      "Ріо-де-Жанейро name:uk\n",
      "MetrôRio operator\n",
      "Itaú Unibanco brand\n",
      "Itaú operator\n",
      "Itaú Unibanco brand\n",
      "Edifício Cidade do Rio de Janeiro addr:housename\n",
      "Empresa Brasileira de Correios e Telégrafos brand\n",
      "Rua México addr:street\n",
      "Avenida Graça Aranha addr:street\n",
      "Avenida Graça Aranha addr:street\n",
      "Avenida Graça Aranha addr:street\n",
      "Avenida Graça Aranha addr:street\n",
      "Empresa Brasileira de Correios e Telégrafos brand\n",
      "Rua da Assembléia addr:street\n",
      "Rua da Assembléia addr:street\n",
      "Edifício Brasil addr:housename\n",
      "Rua da Assembléia addr:street\n",
      "Rua da Assembléia addr:street\n",
      "Itaú Unibanco brand\n",
      "Rua da Assembléia addr:street\n",
      "Rua da Assembléia addr:street\n",
      "Edifício Condusa addr:housename\n",
      "Rua da Assembléia addr:street\n",
      "Edifício Cidade de Fátima addr:housename\n",
      "Rua da Assembléia addr:street\n",
      "Edifício Intercap addr:housename\n",
      "Rua da Assembléia addr:street\n",
      "Personnalité branch\n",
      "Itaú Unibanco brand\n",
      "Rua da Assembléia addr:street\n",
      "Rua da Assembléia addr:street\n",
      "Rua da Assembléia addr:street\n",
      "Rua da Assembléia addr:street\n",
      "Edifício Assembleia addr:housename\n",
      "Rua da Assembléia addr:street\n",
      "Rua da Assembléia addr:street\n"
     ]
    },
    {
     "name": "stderr",
     "output_type": "stream",
     "text": [
      "Processing:   4%|▎         | 3758/106084 [00:05<02:16, 746.95it/s]"
     ]
    },
    {
     "name": "stdout",
     "output_type": "stream",
     "text": [
      "Avenida Graça Aranha addr:street\n",
      "Avenida Graça Aranha addr:street\n",
      "Rua México addr:street\n",
      "Edifício Almirante Barroso addr:housename\n",
      "Personnalité branch\n",
      "Itaú Unibanco brand\n",
      "VIP's Suítes old_name\n",
      "Estrada da Gávea addr:street\n",
      "Rua Cândido Mendes addr:street\n",
      "Rua da Glória addr:street\n",
      "Rua Barão do Flamengo addr:street\n",
      "Rua Pedro Américo addr:street\n",
      "Itaú Unibanco brand\n",
      "Itaú Unibanco brand\n",
      "Personnalité branch\n",
      "Itaú Unibanco brand\n",
      "Rua São Clemente addr:street\n"
     ]
    },
    {
     "name": "stderr",
     "output_type": "stream",
     "text": [
      "Processing:   4%|▎         | 3908/106084 [00:05<02:17, 744.28it/s]"
     ]
    },
    {
     "name": "stdout",
     "output_type": "stream",
     "text": [
      "Pão de Açúcar brand\n",
      "pt:Pão de Açúcar (supermercado brasileiro) brand:wikipedia\n",
      "Rua República do Peru addr:street\n",
      "Rua República do Peru addr:street\n",
      "Empresa Brasileira de Correios e Telégrafos brand\n",
      "Avenida Atlântica addr:street\n",
      "Avenida Atlântica addr:street\n",
      "Travessa Guimarães Natal addr:street\n",
      "Rua Cupertino Durão addr:street\n",
      "Rua Voluntários da Pátria addr:street\n",
      "Edifício Largo da Carioca addr:housename\n",
      "Rua Gonçalves Dias addr:street\n",
      "Rua Gonçalves Dias addr:street\n",
      "Itaú Unibanco brand\n",
      "Rua Gonçalves Dias addr:street\n",
      "Rua Gonçalves Dias addr:street\n",
      "Rua Gonçalves Dias addr:street\n",
      "Rua Gonçalves Dias addr:street\n",
      "Rua Gonçalves Dias addr:street\n",
      "Rua Gonçalves Dias addr:street\n",
      "Rua Gonçalves Dias addr:street\n",
      "Rua Gonçalves Dias addr:street\n"
     ]
    },
    {
     "name": "stderr",
     "output_type": "stream",
     "text": [
      "Processing:   4%|▍         | 4058/106084 [00:05<02:17, 741.38it/s]"
     ]
    },
    {
     "name": "stdout",
     "output_type": "stream",
     "text": [
      "Itaú Unibanco brand\n",
      "Rua México addr:street\n",
      "Empresa Brasileira de Correios e Telégrafos brand\n",
      "Rua Jardim Botânico addr:street\n",
      "Avenida Epitácio Pessoa addr:street\n",
      "Rua Visconde de Pirajá addr:street\n",
      "Rua Bolívar addr:street\n",
      "Augusto´s Hotéis operator\n",
      "Pão de Açúcar brand\n",
      "pt:Pão de Açúcar (supermercado brasileiro) brand:wikipedia\n",
      "Caixa Econômica Federal brand\n",
      "Avenida Mem de Sá addr:street\n",
      "Praça da República addr:street\n",
      "Rua Cândido Mendes addr:street\n",
      "en:Monte Caburaí wikipedia\n",
      "Amarelinho da Cinelândia alt_name\n"
     ]
    },
    {
     "name": "stderr",
     "output_type": "stream",
     "text": [
      "Processing:   4%|▍         | 4286/106084 [00:05<02:16, 748.50it/s]"
     ]
    },
    {
     "name": "stdout",
     "output_type": "stream",
     "text": [
      "Rua São José addr:street\n",
      "Rua São José addr:street\n",
      "Rua São José addr:street\n",
      "Edifício São José addr:housename\n",
      "Rua São José addr:street\n",
      "Edifício Real Brasileiro addr:housename\n",
      "Rua São José addr:street\n",
      "Rua São José addr:street\n",
      "Rua São José addr:street\n",
      "Itaú Unibanco brand\n",
      "Rua São José addr:street\n",
      "Rua São José addr:street\n",
      "Rua São José addr:street\n",
      "Rua São José addr:street\n",
      "Rua São José addr:street\n"
     ]
    },
    {
     "name": "stderr",
     "output_type": "stream",
     "text": [
      "Processing:   4%|▍         | 4513/106084 [00:06<02:18, 735.68it/s]"
     ]
    },
    {
     "name": "stdout",
     "output_type": "stream",
     "text": [
      "Ipanema/General Osório;General Osório old_name\n",
      "MetrôRio operator\n",
      "Paquetá object:city\n",
      "Itaú Unibanco brand\n",
      "Itaú operator\n",
      "Edifício Samos addr:housename\n"
     ]
    },
    {
     "name": "stderr",
     "output_type": "stream",
     "text": [
      "Processing:   4%|▍         | 4664/106084 [00:06<02:16, 740.83it/s]"
     ]
    },
    {
     "name": "stdout",
     "output_type": "stream",
     "text": [
      "Empresa Brasileira de Correios e Telégrafos operator\n",
      "Praça Jerusalém addr:street\n",
      "Assaí Atacadista brand\n",
      "Rua Domingos de Magalhães addr:street\n",
      "Rua Domingos de Magalhães addr:street\n",
      "Rua Domingos de Magalhães addr:street\n",
      "Rua Domingos de Magalhães addr:street\n",
      "Praça Mauá addr:street\n"
     ]
    },
    {
     "name": "stderr",
     "output_type": "stream",
     "text": [
      "Processing:   5%|▍         | 4816/106084 [00:06<02:15, 746.80it/s]"
     ]
    },
    {
     "name": "stdout",
     "output_type": "stream",
     "text": [
      "Praça Barão de Drumond addr:street\n",
      "Category:Cine Theatro Íris wikimedia_commons\n",
      "Caixa Econômica Federal brand\n",
      "Rua Barão de Mesquita addr:street\n",
      "São consultórios de Terapeutas Holísticos e Psiquiatria description\n",
      "Edifício Rio Branco addr:housename\n"
     ]
    },
    {
     "name": "stderr",
     "output_type": "stream",
     "text": [
      "Processing:   5%|▍         | 5044/106084 [00:06<02:14, 748.70it/s]"
     ]
    },
    {
     "name": "stdout",
     "output_type": "stream",
     "text": [
      "Niterói addr:city\n",
      "Kuwepõ name:oym\n",
      "Itaú Unibanco brand\n",
      "Empresa Brasileira de Correios e Telégrafos operator\n",
      "Rua Teotônio Regadas addr:street\n",
      "Rua Teotônio Regadas addr:street\n"
     ]
    },
    {
     "name": "stderr",
     "output_type": "stream",
     "text": [
      "Processing:   5%|▍         | 5119/106084 [00:06<02:19, 722.34it/s]"
     ]
    },
    {
     "name": "stdout",
     "output_type": "stream",
     "text": [
      "Empresa Brasileira de Correios e Telégrafos brand\n",
      "Caixa Econômica Federal brand\n",
      "Largo dos Leões addr:street\n",
      "Humaitá addr:suburb\n",
      "Rua Voluntários da Pátria addr:street\n",
      "Edifício Esmeria addr:housename\n",
      "Edifício Joara addr:housename\n",
      "Edifício Joana Angélica addr:housename\n",
      "Edifício Kelmo addr:housename\n",
      "Travessa Carlos de Sá addr:street\n",
      "Edifício Nossa Senhora do Rosário addr:housename\n",
      "Edifício Andrade Pertence addr:housename\n",
      "Edifício Vivian addr:housename\n",
      "Edifício Sergipe addr:housename\n",
      "Edifício Deolinda Martins addr:housename\n",
      "Edifício Somar addr:housename\n",
      "Edifício Eponna addr:housename\n",
      "Edifício São Jorge addr:housename\n",
      "Travessa Carlos de Sá addr:street\n",
      "Edifício Congonhal addr:housename\n",
      "Travessa Carlos de Sá addr:street\n",
      "Edifício Picadilly addr:housename\n",
      "Travessa Carlos de Sá addr:street\n",
      "Travessa Carlos de Sá addr:street\n",
      "Travessa Carlos de Sá addr:street\n",
      "Edifício Regis addr:housename\n",
      "Travessa Carlos de Sá addr:street\n",
      "Edifício Carlos de Sá addr:housename\n",
      "Travessa Carlos de Sá addr:street\n",
      "Travessa Carlos de Sá addr:street\n",
      "Edifício Aracoara addr:housename\n",
      "Edifício Elisa Maria addr:housename\n",
      "Edifício Serra da Estrela addr:housename\n",
      "Edifício Santa Clara addr:housename\n",
      "Edifício Marco Carlo addr:housename\n",
      "Edifício Comendador França Junior addr:housename\n",
      "Edifício Ingá addr:housename\n",
      "Edifício Maria José addr:housename\n"
     ]
    },
    {
     "name": "stderr",
     "output_type": "stream",
     "text": [
      "Processing:   5%|▍         | 5267/106084 [00:07<02:21, 712.85it/s]"
     ]
    },
    {
     "name": "stdout",
     "output_type": "stream",
     "text": [
      "Edifício Santa Joana addr:housename\n",
      "Edifício Silveira Martins addr:housename\n",
      "Edifício Sylvina addr:housename\n",
      "Edifício Guarabira addr:housename\n",
      "Edifício Araruna addr:housename\n",
      "Edifício Maritonio addr:housename\n",
      "Edifício Alvor addr:housename\n",
      "Edifício Jardim do Palácio addr:housename\n",
      "Edifício Rosalene addr:housename\n",
      "Edifício Adel addr:housename\n",
      "Edifício Pojuca addr:housename\n",
      "Edifício Platinum addr:housename\n",
      "Rua Corrêa Dutra addr:street\n",
      "Edifício Del Cristal addr:housename\n",
      "Rua Corrêa Dutra addr:street\n",
      "Rua Corrêa Dutra addr:street\n",
      "Rua Corrêa Dutra addr:street\n",
      "Edifício America addr:housename\n",
      "Rua Corrêa Dutra addr:street\n",
      "Edifício Correa Dutra addr:housename\n",
      "Rua Corrêa Dutra addr:street\n",
      "Rua Corrêa Dutra addr:street\n",
      "Rua Corrêa Dutra addr:street\n",
      "Edifício Etienne addr:housename\n",
      "Rua Corrêa Dutra addr:street\n",
      "Edifício São José addr:housename\n",
      "Rua Corrêa Dutra addr:street\n",
      "Rua Corrêa Dutra addr:street\n",
      "Rua Corrêa Dutra addr:street\n",
      "Edifício Joel addr:housename\n",
      "Rua Corrêa Dutra addr:street\n",
      "Edifício Rosamar addr:housename\n",
      "Rua Corrêa Dutra addr:street\n",
      "Edifício Tamara addr:housename\n",
      "Rua Corrêa Dutra addr:street\n",
      "Rua Corrêa Dutra addr:street\n",
      "Rua Corrêa Dutra addr:street\n",
      "Edifício Leitão da Cunha addr:housename\n",
      "Rua Corrêa Dutra addr:street\n",
      "Rua Corrêa Dutra addr:street\n",
      "Rua Corrêa Dutra addr:street\n",
      "Edifício Locanda Fellice addr:housename\n",
      "Rua Corrêa Dutra addr:street\n",
      "Edifício Gold Beach addr:housename\n",
      "Rua Corrêa Dutra addr:street\n",
      "Edifício Correa Dutra addr:housename\n",
      "Rua Corrêa Dutra addr:street\n",
      "Edifício Santa Rita addr:housename\n",
      "Rua Corrêa Dutra addr:street\n",
      "Rua Corrêa Dutra addr:street\n",
      "Edifício Veramar addr:housename\n",
      "Rua Corrêa Dutra addr:street\n",
      "Rua Corrêa Dutra addr:street\n",
      "Edifício Serra do Flamengo addr:housename\n",
      "Rua Corrêa Dutra addr:street\n",
      "Edifício Luis Eugênio addr:housename\n",
      "Rua Corrêa Dutra addr:street\n",
      "Rua Corrêa Dutra addr:street\n",
      "Saída 311 description\n",
      "Engenho Velho;São Francisco Xavier old_name\n",
      "MetrôRio operator\n",
      "MetrôRio operator\n",
      "MetrôRio operator\n"
     ]
    },
    {
     "name": "stderr",
     "output_type": "stream",
     "text": [
      "Processing:   5%|▌         | 5420/106084 [00:07<02:16, 734.89it/s]"
     ]
    },
    {
     "name": "stdout",
     "output_type": "stream",
     "text": [
      "MetrôRio operator\n",
      "Tomás Coelho addr:suburb\n",
      "MetrôRio operator\n",
      "MetrôRio operator\n",
      "Irajá addr:suburb\n",
      "MetrôRio operator\n",
      "MetrôRio operator\n",
      "Maria da Graça addr:suburb\n",
      "MetrôRio operator\n",
      "MetrôRio operator\n",
      "MetrôRio operator\n",
      "MetrôRio operator\n",
      "Maracanã addr:suburb\n",
      "MetrôRio operator\n",
      "pt:Estação Triagem (S wikipedia\n",
      "Metrô Rio operator\n",
      "Estação de transferência entre Ramais e de integração com o Metrô IPP:CARACTERIS\n",
      "São Cristóvão addr:suburb\n",
      "MetrôRio operator\n",
      "Praça da Bandeira addr:street\n",
      "Lauro Müller old_name\n",
      "Praça Cristiano Ottoni addr:street\n",
      "Metrô Rio operator\n",
      "MetrôRio operator\n",
      "MetrôRio operator\n",
      "Cinelândia old_name\n",
      "MetrôRio operator\n",
      "Metrô Rio operator\n",
      "MetrôRio operator\n",
      "MetrôRio operator\n",
      "Rua Padre Paulo Correa de Sá addr:street\n",
      "Rua Álvaro Ramos addr:street\n",
      "Avenida Mem de Sá addr:street\n",
      "Rua Cajaíba addr:street\n",
      "Itaú Unibanco brand\n",
      "Bandejão alt_name\n",
      "Christus der Erlöser name:de\n",
      "コルコバードのキリスト像 name:ja\n",
      "Kristaus Atpirkėjo statula name:lt\n"
     ]
    },
    {
     "name": "stderr",
     "output_type": "stream",
     "text": [
      "Processing:   5%|▌         | 5573/106084 [00:07<02:14, 746.60it/s]"
     ]
    },
    {
     "name": "stdout",
     "output_type": "stream",
     "text": [
      "File:Trem do Corcovado – aparelho de mudança de via, sistema Riggenbach.JPG wikimedia_commons\n",
      "Rua Antônio Mendes Campos addr:street\n",
      "Edifício Independência addr:housename\n",
      "Empresa Brasileira de Correios e Telégrafos operator\n",
      "Passarela da Gardênia local_ref\n"
     ]
    },
    {
     "name": "stderr",
     "output_type": "stream",
     "text": [
      "Processing:   5%|▌         | 5725/106084 [00:07<02:14, 744.80it/s]"
     ]
    },
    {
     "name": "stdout",
     "output_type": "stream",
     "text": [
      "Rua Voluntários da Pátria addr:street\n",
      "Rua Voluntários da Pátria addr:street\n",
      "Voluntários da Pátria addr:street\n",
      "Rua Voluntários da Pátria addr:street\n",
      "Itaú Unibanco brand\n",
      "Metrô na Superfície network\n",
      "MetrôRio operator\n",
      "Edifício 9 de Julho addr:housename\n",
      "Edifício Nautilus addr:housename\n",
      "Edifício Flamingo addr:housename\n",
      "Empresa Brasileira de Correios e Telégrafos operator\n",
      "Empresa Brasileira de Correios e Telégrafos brand\n",
      "Empresa Brasileira de Correios e Telégrafos brand\n"
     ]
    },
    {
     "name": "stderr",
     "output_type": "stream",
     "text": [
      "Processing:   6%|▌         | 5951/106084 [00:08<02:14, 745.31it/s]"
     ]
    },
    {
     "name": "stdout",
     "output_type": "stream",
     "text": [
      "Praça São Perpétuo addr:street\n",
      "Rua Maria Angélica addr:street\n",
      "Rua Maria Angélica addr:street\n",
      "Rua Maria Angélica addr:street\n",
      "Empresa Brasileira de Correios e Telégrafos operator\n",
      "Itaú Unibanco brand\n",
      "Unibanco/Itaú operator\n",
      "Rua Maria Angélica addr:street\n",
      "Rua Maria Angélica addr:street\n",
      "Rua Maria Angélica addr:street\n",
      "Rua Maria Angélica addr:street\n",
      "O Boticário brand\n",
      "Rua Barão de Mesquita addr:street\n",
      "Empresa Brasileira de Correios e Telégrafos brand\n",
      "Edifício Darke addr:housename\n",
      "Itaú Unibanco brand\n",
      "Praça Floriano addr:street\n",
      "Praça Floriano addr:street\n",
      "Caixa Econômica Federal brand\n",
      "Praça Floriano addr:street\n",
      "Rua Felipe Camarão addr:street\n",
      "Avenida Maracanã addr:street\n"
     ]
    },
    {
     "name": "stderr",
     "output_type": "stream",
     "text": [
      "Processing:   6%|▌         | 6026/106084 [00:08<02:15, 738.47it/s]"
     ]
    },
    {
     "name": "stdout",
     "output_type": "stream",
     "text": [
      "Avenida Heitor Beltrão addr:street\n",
      "Maracanã addr:suburb\n",
      "Centro municipal de reabilitação description\n",
      "Rua Barão de Iguatemi addr:street\n",
      "Praça da Bandeira addr:suburb\n",
      "Estrada da Ucrânia addr:street\n",
      "Quintino Bocaiúva; Cupertino old_name\n",
      "pt:Estação Bonsucesso (Teleférico do Alemão) wikipedia\n",
      "Praça Campo de Marte addr:street\n",
      "Rua Dom João VI addr:street\n",
      "Estação de transferência entre Ramais e de integração com o Metrô IPP:CARACTERIS\n",
      "Rua João Vicente addr:street\n",
      "Rua São Pedro de Alcântara addr:street\n",
      "Inharajá; Magno old_name\n",
      "Estação de integração com o Metrô IPP:CARACTERIS\n",
      "Rua João Vicente addr:street\n",
      "Rua São Pedro de Alcântara addr:street\n",
      "Rua Guarujá addr:street\n",
      "Avenida Nazaré addr:street\n",
      "Sapé old_name\n",
      "Estrada Urucânia addr:street\n",
      "Estação de transferência entre Ramais (Santa Cruz e Paracambi) IPP:CARACTERIS\n",
      "Avenida Nazaré addr:street\n",
      "Dr. Cesário Machado old_name\n",
      "Rua São Leonardo addr:street\n",
      "Irajá addr:suburb\n",
      "Praça das Esmeraldas addr:street\n",
      "Senador Camará IPP:BAIRRO\n",
      "Praça Coronel João Zani addr:street\n",
      "Colégio addr:suburb\n",
      "Paciência IPP:BAIRRO\n",
      "Maré IPP:BAIRRO\n",
      "Bancários IPP:BAIRRO\n",
      "Quintino Bocaiúva IPP:BAIRRO\n",
      "Senador Camará IPP:BAIRRO\n",
      "Brás de Pina addr:suburb\n",
      "Praça Seca IPP:BAIRRO\n",
      "Andaraí IPP:BAIRRO\n",
      "Maré IPP:BAIRRO\n",
      "Magalhães Bastos IPP:BAIRRO\n",
      "Inhoaíba IPP:BAIRRO\n"
     ]
    },
    {
     "name": "stderr",
     "output_type": "stream",
     "text": [
      "Processing:   6%|▌         | 6174/106084 [00:08<02:17, 726.29it/s]"
     ]
    },
    {
     "name": "stdout",
     "output_type": "stream",
     "text": [
      "Praça Antonio José de Almeida addr:street\n",
      "Grajaú IPP:BAIRRO\n",
      "São Cristóvão IPP:BAIRRO\n",
      "Higienópolis IPP:BAIRRO\n",
      "Inhoaíba IPP:BAIRRO\n",
      "Maracanã IPP:BAIRRO\n",
      "Avenida Paula e Souza, S/Nº IPP:ENDERECO\n",
      "Rua Senador Soares, 61   IPP:ENDERECO\n",
      "Estr. dos Bandeirantes, 25.976   IPP:ENDERECO\n",
      "Vigário Geral IPP:BAIRRO\n",
      "Honório Gurgel IPP:BAIRRO\n",
      "Rua Gentil Almeida, S/Nº IPP:ENDERECO\n",
      "Rua Olaria s/nº  IPP:ENDERECO\n",
      "Rua Silva Cardoso, S/Nº IPP:ENDERECO\n",
      "Rua Cambaúba, 159   IPP:ENDERECO\n",
      "Rua Jupará, 91   IPP:ENDERECO\n",
      "Praça Cotegi addr:street\n",
      "Jacarepaguá IPP:BAIRRO\n",
      "Rua Gustavo Cordeiro de Farias, 578   IPP:ENDERECO\n",
      "Rua Pompilio de Albuquerque, 62   IPP:ENDERECO\n",
      "Estr. do Pontal, 1.990   IPP:ENDERECO\n",
      "Irajá IPP:BAIRRO\n",
      "Rua Gustavo Martins, 67   IPP:ENDERECO\n",
      "Praça Seca IPP:BAIRRO\n",
      "Rua Cândido Benício, S/Nº IPP:ENDERECO\n",
      "Rua Souza e Silva, 112   IPP:ENDERECO\n",
      "Água Santa IPP:BAIRRO\n",
      "Rua Violeta, S/Nº   IPP:ENDERECO\n",
      "Rua do Império, 900 IPP:ENDERECO\n",
      "Estr. da Barra de Guaratiba, 9.953   IPP:ENDERECO\n",
      "Rua São Francisco Xavier, 95   IPP:ENDERECO\n",
      "Rua Mal. Bibiano Costalat, S/Nº   IPP:ENDERECO\n",
      "Vigário Geral IPP:BAIRRO\n",
      "Rua Gregório de Matos, L 3, Q. 9   IPP:ENDERECO\n",
      "Rua Araquem, S/Nº   IPP:ENDERECO\n",
      "Brás De Pina IPP:BAIRRO\n",
      "Rua Emílio de Miranda, 99   IPP:ENDERECO\n",
      "Praça Seca IPP:BAIRRO\n",
      "Rua Barão, 207   IPP:ENDERECO\n",
      "Estr. da Barra de Guaratiba, 750   IPP:ENDERECO\n",
      "Freguesia Jacarepaguá IPP:BAIRRO\n",
      "Rua Edgard Cavalheiro, 264   IPP:ENDERECO\n",
      "Estr. Victor Dumas, S/Nº   IPP:ENDERECO\n",
      "Estrada da Boa Esperança, 85 - Urucânia IPP:ENDERECO\n",
      "Avenida Central, S/Nº - V. Kennedy  IPP:ENDERECO\n",
      "Praça Santo Anastácio, S/Nº   IPP:ENDERECO\n",
      "Rua Dr. Garnier, 390 A   IPP:ENDERECO\n",
      "Inhaúma IPP:BAIRRO\n",
      "Avenida N.S. da Penha, 589   IPP:ENDERECO\n",
      "Senador Camará IPP:BAIRRO\n",
      "Rua Ubatan, S/Nº IPP:ENDERECO\n",
      "Jardim América IPP:BAIRRO\n",
      "Irajá IPP:BAIRRO\n",
      "Rua Canudos, S/Nº   IPP:ENDERECO\n",
      "Estr. do Mato Alto, S/Nº   IPP:ENDERECO\n",
      "Inhoaíba IPP:BAIRRO\n",
      "Rua São Teodósio, S/Nº   IPP:ENDERECO\n",
      "Avenida Chrisóstomo Pimentel Oliveira, 2.505   IPP:ENDERECO\n",
      "Estr. do Magarça, 9.183   IPP:ENDERECO\n",
      "Rua Mário Piragibe, 41 IPP:ENDERECO\n",
      "Itanhangá IPP:BAIRRO\n",
      "Estrada da Barra da Tijuca, 3.570   IPP:ENDERECO\n",
      "Rua Conceição de Ipanema Lote 14, S/Nº   IPP:ENDERECO\n",
      "Praça do Nordeste, S/Nº   IPP:ENDERECO\n",
      "Rua Dionéia, s/n   IPP:ENDERECO\n",
      "Magalhães Bastos IPP:BAIRRO\n",
      "Rua Francisco Muzzi, S/Nº   IPP:ENDERECO\n",
      "Irajá IPP:BAIRRO\n",
      "Avenida Tenente Coronel Muniz de Aragão, 896   IPP:ENDERECO\n",
      "Andaraí IPP:BAIRRO\n",
      "Rua Silva Teles, 65   IPP:ENDERECO\n",
      "Magalhães Bastos IPP:BAIRRO\n",
      "Rua Rio Dourado, S/Nº   IPP:ENDERECO\n",
      "Avenida Brasil, S/Nº   IPP:ENDERECO\n",
      "Avenida Cesário de Melo, 4.180 Centro IPP:ENDERECO\n",
      "Praça Seca IPP:BAIRRO\n",
      "Rua Barão, 1.180   IPP:ENDERECO\n",
      "Rua Nelson Meirelles Neto, S/Nº   IPP:ENDERECO\n",
      "Avenida dos Italianos, 500   IPP:ENDERECO\n",
      "Rua Humberto de Campos, S/Nº   IPP:ENDERECO\n",
      "Rua São Carlos addr:street\n",
      "Estácio addr:suburb\n",
      "Rua Bétula, 50   IPP:ENDERECO\n",
      "Rua Elmo Correia, S/Nº Conj. Sargento Miguel Filho - IPP:ENDERECO\n",
      "Galeão IPP:BAIRRO\n",
      "Rua Noventa e Seis, 210   IPP:ENDERECO\n",
      "Irajá IPP:BAIRRO\n",
      "Paciência IPP:BAIRRO\n",
      "Avenida Cesário de Melo, 11.485   IPP:ENDERECO\n",
      "Pça. Rocha Vaz, S/Nº   IPP:ENDERECO\n",
      "Rua Joaquim Pizarro 10  IPP:ENDERECO\n",
      "Estr. da Gávea, s/n   IPP:ENDERECO\n",
      "Rua Alvorada, S/Nº IPP:ENDERECO\n",
      "Rua Seabra, S/Nº - Monteiro IPP:ENDERECO\n",
      "Estr. do Mapua, S/Nº Rua Três IPP:ENDERECO\n",
      "Rua Nova Prata, S/Nº   IPP:ENDERECO\n",
      "Rua Alberto Pasqualine, 455   IPP:ENDERECO\n",
      "Estr. da Barra de Guaratiba, 7.523   IPP:ENDERECO\n",
      "Rua Almirante Alexandrino, 3.466   IPP:ENDERECO\n",
      "Colégio IPP:BAIRRO\n",
      "Rua Toriba, 106   IPP:ENDERECO\n",
      "Rua do Lúcio, s/n IPP:ENDERECO\n"
     ]
    },
    {
     "name": "stderr",
     "output_type": "stream",
     "text": [
      "Processing:   6%|▌         | 6398/106084 [00:08<02:16, 728.11it/s]"
     ]
    },
    {
     "name": "stdout",
     "output_type": "stream",
     "text": [
      "Santíssimo IPP:BAIRRO\n",
      "Rua Bastos Tigre, S/Nº   IPP:ENDERECO\n",
      "Rua Alzira Brandão, 500   IPP:ENDERECO\n",
      "Paquetá IPP:BAIRRO\n",
      "Rua Jornalista Hermano Requião, S/Nº   IPP:ENDERECO\n",
      "Rua Visc. de Santa Isabel, 272   IPP:ENDERECO\n",
      "Rua Pequiá, S/Nº   IPP:ENDERECO\n",
      "Rua Itapuã addr:street\n",
      "Rua João Mafra, 85   IPP:ENDERECO\n",
      "Rua Eng. Clovis Daudt, 310   IPP:ENDERECO\n",
      "Tomás Coelho IPP:BAIRRO\n",
      "Estr. da Posse, 800 - Posse   IPP:ENDERECO\n",
      "Avenida Pastor Martin Luther King , S/Nº   IPP:ENDERECO\n",
      "Vigário Geral IPP:BAIRRO\n",
      "Rua Otranto, 680   IPP:ENDERECO\n",
      "Quintino Bocaiúva IPP:BAIRRO\n",
      "Rua Milão, 95 IPP:ENDERECO\n",
      "Rua Compositor Manuel Euzébio, s/nº IPP:ENDERECO\n",
      "Rua Tailândia addr:street\n",
      "Brás de Pina addr:suburb\n",
      "Jacarepaguá IPP:BAIRRO\n",
      "Rua Jaguará, 203   IPP:ENDERECO\n",
      "Avenida Monsenhor Félix addr:street\n",
      "Irajá addr:suburb\n",
      "Estr. Marechal Alencastro, S/Nº   IPP:ENDERECO\n",
      "Avenida Gaspar Lemos, 342   IPP:ENDERECO\n",
      "Rua Luiz Coutinho Cavalcante, S/Nº IPP:ENDERECO\n",
      "Senador Camará IPP:BAIRRO\n",
      "Avenida Santa Cruz, S/Nº   IPP:ENDERECO\n",
      "Rua Berizal, S/Nº - Centro IPP:ENDERECO\n",
      "Galeão IPP:BAIRRO\n",
      "Estr. das Canárias, 297   IPP:ENDERECO\n",
      "Rua Maria do Carmo, S/Nº IPP:ENDERECO\n",
      "Rua Uruquê, S/Nº   IPP:ENDERECO\n",
      "Inhaúma IPP:BAIRRO\n",
      "Avenida Felipe Cardoso, 1.536   IPP:ENDERECO\n",
      "Rua Marechal Marciano, S/Nº   IPP:ENDERECO\n",
      "Paciência IPP:BAIRRO\n",
      "Estrada da Paciência, S/Nº   IPP:ENDERECO\n",
      "São Conrado IPP:BAIRRO\n",
      "Rua Martagão Gesteira, S/Nº   IPP:ENDERECO\n",
      "Paciência IPP:BAIRRO\n",
      "Rua Pirapetinga, S/Nº   IPP:ENDERECO\n",
      "Paciência IPP:BAIRRO\n",
      "Rua Antonio J. Machado, S/Nº - Gouveias IPP:ENDERECO\n",
      "Inhaúma IPP:BAIRRO\n",
      "Higienópolis IPP:BAIRRO\n",
      "Rua Acapuva, 132   IPP:ENDERECO\n",
      "Rua Mongólia, S/Nº   IPP:ENDERECO\n",
      "Tomás Coelho IPP:BAIRRO\n",
      "Rua Engenheiro César do Rêgo M. Filho IPP:ENDERECO\n",
      "Rua dos Limadores, s/n   IPP:ENDERECO\n",
      "Higienópolis IPP:BAIRRO\n",
      "Rua Darke de Matos, 152   IPP:ENDERECO\n",
      "Rua Engenheiro Romero Zander, 420   IPP:ENDERECO\n",
      "Maré IPP:BAIRRO\n",
      "Avenida Guilherme Maxwell, 243   IPP:ENDERECO\n",
      "Estr. da Pedra, S/Nº   IPP:ENDERECO\n",
      "Avenida Antares, S/Nº   IPP:ENDERECO\n",
      "Maré IPP:BAIRRO\n",
      "Rua Nova Jerusalém, 495   IPP:ENDERECO\n",
      "Avenida Canal 3, S/Nº - Conj.Cesarão   IPP:ENDERECO\n",
      "Rua Engenheiro Paula Lopes, S/Nº   IPP:ENDERECO\n",
      "Pça. Ramos Figueira, 20   IPP:ENDERECO\n",
      "Praça Campos do Jordão addr:street\n",
      "Senador Camará IPP:BAIRRO\n",
      "Rua A, S/Nº - Conj. Miguel Gustavo IPP:ENDERECO\n",
      "Maré IPP:BAIRRO\n",
      "Jacarepaguá IPP:BAIRRO\n",
      "Estr. Pau da Fome, 196   IPP:ENDERECO\n",
      "Rua Helianto, S/Nº IPP:ENDERECO\n",
      "Rua das Pastorinhas, S/Nº   IPP:ENDERECO\n",
      "Rua Mal. Falcão da Frota, S/Nº   IPP:ENDERECO\n",
      "Rua Prof. Plínio Bastos, 631 IPP:ENDERECO\n",
      "Rua Oscar Lopes, S/Nº   IPP:ENDERECO\n",
      "Rua Buíque, S/Nº IPP:ENDERECO\n",
      "Avenida N. S. das Graças, 699   IPP:ENDERECO\n",
      "Estr. Aterrado do Leme, 3.309   IPP:ENDERECO\n",
      "Avenida Brasil, 23.364   IPP:ENDERECO\n",
      "Estr. Engenho d'Água, S/Nº   IPP:ENDERECO\n",
      "Rua Jape, 380   IPP:ENDERECO\n",
      "Rua Eduardo Souto, S/Nº - V. Kennedy   IPP:ENDERECO\n",
      "Inhaúma IPP:BAIRRO\n",
      "Avenida Itaóca, 2.086   IPP:ENDERECO\n",
      "Estr. Rio São Paulo, 1.802 - Amazonas IPP:ENDERECO\n",
      "Rua Gal. Gomes de Castro, 300   IPP:ENDERECO\n",
      "Rua Ministro Gabriel de Piza, 544   IPP:ENDERECO\n",
      "Rua Pinto Alpoim, 758   IPP:ENDERECO\n",
      "Rua Gal. Bernardino de Matos, S/Nº   IPP:ENDERECO\n",
      "Méier IPP:BAIRRO\n",
      "Rua Arquias Cordeiro, 508   IPP:ENDERECO\n",
      "Maré IPP:BAIRRO\n",
      "Aterro da Maré, S/Nº Nova Holanda   IPP:ENDERECO\n",
      "Rua Erasmo, 61 Mendanha   IPP:ENDERECO\n",
      "Rua Prof. Fausto Moreira, 200   IPP:ENDERECO\n",
      "Rua Vitor Meireles, 145   IPP:ENDERECO\n",
      "Paciência IPP:BAIRRO\n",
      "Estr. Santa Eugênia, S/Nº - Pça. 7 de Abril  IPP:ENDERECO\n",
      "Pça. Belmonte, 15   IPP:ENDERECO\n",
      "Rua Cincinato de Freitas, s/n° IPP:ENDERECO\n",
      "Avenida Paranapuan, 204   IPP:ENDERECO\n",
      "Santíssimo IPP:BAIRRO\n",
      "Rua do Desenhista, S/Nº - Vila Aliança IPP:ENDERECO\n",
      "Galeão IPP:BAIRRO\n",
      "Rua Cinquenta e Três, 203   IPP:ENDERECO\n",
      "Estr. do Engenho, S/Nº   IPP:ENDERECO\n",
      "Avenida Alhambra, S/Nº - Monteiro IPP:ENDERECO\n",
      "Quintino Bocaiúva IPP:BAIRRO\n",
      "Rua Sérgio Siqueira de Macedo addr:street\n",
      "Grajaú IPP:BAIRRO\n",
      "Rua Duquesa de Bragança, 22   IPP:ENDERECO\n",
      "Rua Bolívia, 62   IPP:ENDERECO\n",
      "Rua Itapé, S/Nº   IPP:ENDERECO\n",
      "Rua Funcionário Mestre Macedo, S/Nº   IPP:ENDERECO\n",
      "Rua Ana Néri, 2.028   IPP:ENDERECO\n",
      "Inhoaíba IPP:BAIRRO\n",
      "Rua Jario Corrêa, S/Nº - Benjamin Dumont  IPP:ENDERECO\n",
      "Rua Acataia, 205   IPP:ENDERECO\n",
      "Rua Conceição de Ipanema L.14 Q.16, S/Nº  , IPP:ENDERECO\n",
      "Paciência IPP:BAIRRO\n",
      "Rua Mário F. de Souza, S/Nº - Conj. Cesarinho, IPP:ENDERECO\n",
      "Estr. do Campinho, 6.500 - Rua Sete S/Nº, Conj IPP:ENDERECO\n",
      "Rua Iguaba Grande, 313   IPP:ENDERECO\n",
      "Rua Votorantim, S/Nº - Km 10 - Mendanha IPP:ENDERECO\n",
      "Estr. da Cancela Preta, 1.791   IPP:ENDERECO\n",
      "Inhaúma IPP:BAIRRO\n",
      "Rua Lagoa Clara, S/Nº   IPP:ENDERECO\n"
     ]
    },
    {
     "name": "stderr",
     "output_type": "stream",
     "text": [
      "Processing:   6%|▌         | 6545/106084 [00:08<02:16, 729.09it/s]"
     ]
    },
    {
     "name": "stdout",
     "output_type": "stream",
     "text": [
      "Rua Zózimo do Amaral, 275   IPP:ENDERECO\n",
      "Rua Silvestre Felipe, S/Nº   IPP:ENDERECO\n",
      "São Conrado addr:suburb\n",
      "Rua Joaquim Inácio Filho, 29   IPP:ENDERECO\n",
      "Avenida Teixeira de Castro, 407   IPP:ENDERECO\n",
      "Rua Luiz Bezerra, 2   IPP:ENDERECO\n",
      "Inhaúma IPP:BAIRRO\n",
      "Trav. Yucatan, S/Nº   IPP:ENDERECO\n",
      "Maré IPP:BAIRRO\n",
      "Turiaçú IPP:BAIRRO\n",
      "Senador Camará IPP:BAIRRO\n",
      "Rua Marmiari, S/Nº   IPP:ENDERECO\n",
      "Rua Nagóia, S/Nº   IPP:ENDERECO\n",
      "Rua Irmã Paula, 2   IPP:ENDERECO\n",
      "Jacaré IPP:BAIRRO\n",
      "Pça. Ubajara, 28 IPP:ENDERECO\n",
      "Praça da Confederação Suíça, S/Nº   IPP:ENDERECO\n",
      "Rua Antonio Rego, 383   IPP:ENDERECO\n",
      "Estrada Porto Nacional, S/Nº   IPP:ENDERECO\n",
      "Avenida Brasil, 4.040 - Rua 6, S/Nº IPP:ENDERECO\n",
      "Maré addr:suburb\n",
      "Rua Alberi Vieira dos Santos, S/Nº - Urucânia, IPP:ENDERECO\n",
      "Rua São Vicente de Paula, 625   IPP:ENDERECO\n",
      "Pça. Abuna, S/Nº IPP:ENDERECO\n",
      "Inhaúma IPP:BAIRRO\n",
      "Rua José Baldino, S/Nº   IPP:ENDERECO\n",
      "Rua Gal. Uchoa Cavalcanti, 135   IPP:ENDERECO\n",
      "Rua Aristóteles addr:street\n",
      "Rua São Calixto, 179 IPP:ENDERECO\n",
      "Inhoaíba IPP:BAIRRO\n",
      "Rua Prof. Souza Moreira, 301   IPP:ENDERECO\n",
      "Rua Adail, 49   IPP:ENDERECO\n",
      "Rua Pedro Nava, S/Nº   IPP:ENDERECO\n",
      "Pça. Laguna, 102   IPP:ENDERECO\n",
      "Avenida Paulo de Frontin, 452   IPP:ENDERECO\n",
      "Rua dos Estampadores, 985   IPP:ENDERECO\n",
      "Rua Abélia, 340 IPP:ENDERECO\n",
      "Rua Renato Rebechi, S/Nº IPP:ENDERECO\n",
      "Maré IPP:BAIRRO\n",
      "Estr. Abílio Bastos, S/Nº Mendanha   IPP:ENDERECO\n",
      "Rua Dom Casmurro, S/Nº   IPP:ENDERECO\n",
      "Rua Primeira Cruz, S/Nº IPP:ENDERECO\n",
      "Maracanã IPP:BAIRRO\n",
      "Pça. General Portinho, 2 IPP:ENDERECO\n",
      "Inhaúma IPP:BAIRRO\n",
      "Higienópolis IPP:BAIRRO\n",
      "Rua Darke de Matos, 166   IPP:ENDERECO\n",
      "Avenida N. S. da Penha, 599   IPP:ENDERECO\n",
      "Higienópolis IPP:BAIRRO\n",
      "Avenida Dom Hélder Câmara, 2.320   IPP:ENDERECO\n",
      "Irajá IPP:BAIRRO\n",
      "Avenida Brasil, 19.462   IPP:ENDERECO\n",
      "Rua José Albano, S/Nº   IPP:ENDERECO\n",
      "Méier IPP:BAIRRO\n",
      "Rua Adriano, 310   IPP:ENDERECO\n",
      "Rua do Governo, 866   IPP:ENDERECO\n",
      "Praça Saicã addr:street\n",
      "Avenida Salvador de Sá, S/Nº IPP:ENDERECO\n",
      "Rua Ferraz, 2   IPP:ENDERECO\n",
      "São Cristóvão IPP:BAIRRO\n",
      "Avenida do Exército, 175   IPP:ENDERECO\n",
      "Rua Professor Lacê, 157   IPP:ENDERECO\n",
      "Estr. Marechal Alencastro, S/Nº IPP:ENDERECO\n",
      "Rua Manuel Bastos de Oliveira, S/Nº   IPP:ENDERECO\n",
      "Bancários IPP:BAIRRO\n",
      "Vigário Geral IPP:BAIRRO\n",
      "Pça. Irineu Machado, 20   IPP:ENDERECO\n",
      "Paciência IPP:BAIRRO\n",
      "Rua 9 - Jardim Palmares s/nº  IPP:ENDERECO\n",
      "São Cristovão IPP:BAIRRO\n",
      "Rua Icaraí addr:street\n",
      "Rua Eng. Antonio Simões Martins, 4   IPP:ENDERECO\n",
      "Rua Santos Titara, 50   IPP:ENDERECO\n",
      "Jardim América IPP:BAIRRO\n",
      "Rua Cristiano Machado, S/Nº   IPP:ENDERECO\n",
      "Inhoaíba IPP:BAIRRO\n",
      "Avenida Cesário de Melo, 6006 IPP:ENDERECO\n",
      "Rua Soldado Luiz Gonzaga, S/Nº   IPP:ENDERECO\n",
      "Avenida N. S. das Graças, 699 - Fundos   IPP:ENDERECO\n",
      "Rua Ouseley, S/Nº   IPP:ENDERECO\n",
      "Rua Jape, 26 - Aricuri  IPP:ENDERECO\n",
      "Pça. da República, S/Nº IPP:ENDERECO\n",
      "Jacaré IPP:BAIRRO\n",
      "Rua Peçanha Da Silva, 165   IPP:ENDERECO\n",
      "Praça Zuinara addr:street\n",
      "Rua Dom José de Souza, S/Nº   IPP:ENDERECO\n",
      "Rua Prof. João Bruno Lobo S/Nº IPP:ENDERECO\n",
      "Senador Camará IPP:BAIRRO\n",
      "Rua Constelação, S/Nº   IPP:ENDERECO\n",
      "Rua José Silva, 155   IPP:ENDERECO\n",
      "Rua Ipuá, S/Nº   IPP:ENDERECO\n",
      "São Cristóvão IPP:BAIRRO\n",
      "Luis Carlos Precher - Conjunto Santa Maria s/n IPP:ENDERECO\n",
      "Rua Professor Lacê, 437   IPP:ENDERECO\n",
      "Maré IPP:BAIRRO\n",
      "Rua Principal, S/Nº - Nova Holanda IPP:ENDERECO\n",
      "Rua França Leite, S/Nº   IPP:ENDERECO\n",
      "Rua Inhumaí addr:street\n",
      "Jacarepaguá IPP:BAIRRO\n",
      "Estr. Bouganville, 346   IPP:ENDERECO\n",
      "Rua Paulino do Sacramento, 1.353   IPP:ENDERECO\n",
      "Rua Joubert de Carvalho, S/Nº   IPP:ENDERECO\n",
      "Paciência IPP:BAIRRO\n",
      "Rua Mário Fonteneli de Souza, S/Nº - Conj. Cesa IPP:ENDERECO\n",
      "Rua Continentino S/Nº Comunidade Rollas 1 Sta. C IPP:ENDERECO\n",
      "Rua Pavão, S/Nº - Mendanha   IPP:ENDERECO\n",
      "Praça da República addr:street\n",
      "São Cristóvão IPP:BAIRRO\n",
      "Rua Auta de Sousa, S/Nº   IPP:ENDERECO\n",
      "Rua Gil Eanes, 76   IPP:ENDERECO\n",
      "Rua José da Cruz Rajo, S/Nº   IPP:ENDERECO\n",
      "Avenida Oswaldo Cruz, 124   IPP:ENDERECO\n",
      "Pça. Condessa Paulo de Frontin, 45   IPP:ENDERECO\n",
      "Colégio IPP:BAIRRO\n",
      "Estr. do Colégio, 940   IPP:ENDERECO\n",
      "Pça. Gal. Alcio Souto, 37   IPP:ENDERECO\n",
      "Irajá IPP:BAIRRO\n",
      "Pça. Laguna, S/Nº   IPP:ENDERECO\n",
      "Estr. Theodureto de Camargo, S/Nº   IPP:ENDERECO\n"
     ]
    },
    {
     "name": "stderr",
     "output_type": "stream",
     "text": [
      "Processing:   6%|▋         | 6693/106084 [00:09<02:15, 733.18it/s]"
     ]
    },
    {
     "name": "stdout",
     "output_type": "stream",
     "text": [
      "Estácio addr:suburb\n",
      "Rua Araraí, 16   IPP:ENDERECO\n",
      "Gávea IPP:BAIRRO\n",
      "Praça Zelma Pereira, S/Nº   IPP:ENDERECO\n",
      "Irajá IPP:BAIRRO\n",
      "Maracanã IPP:BAIRRO\n",
      "Irajá IPP:BAIRRO\n",
      "Rua Carlos Pacheco Ávila, S/Nº   IPP:ENDERECO\n",
      "Rua Professora Yara Beltrami, S/Nº - Rio da Pr IPP:ENDERECO\n",
      "Santíssimo IPP:BAIRRO\n",
      "Estr. Sete Riachos, 2.206   IPP:ENDERECO\n",
      "Rua Ana Néri, 192   IPP:ENDERECO\n",
      "Rua Francisco Prado, S/Nº   IPP:ENDERECO\n",
      "Rua Eng. Moreira Lima, 54   IPP:ENDERECO\n",
      "Estácio IPP:BAIRRO\n",
      "Rua Estácio de Sá, 51 IPP:ENDERECO\n",
      "Avenida André Vesalio, S/Nº IPP:ENDERECO\n",
      "Paciência IPP:BAIRRO\n",
      "Rua Cabo Saulo Vasconcelos, S/Nº - Palmares   IPP:ENDERECO\n",
      "Rua Ender, 180   IPP:ENDERECO\n",
      "Avenida Nelson Cardoso, 352   IPP:ENDERECO\n",
      "Rua Nacional, 320   IPP:ENDERECO\n",
      "Avenida Salvador de Sá, S/Nº   IPP:ENDERECO\n",
      "Senador Camará IPP:BAIRRO\n",
      "Rua Humberto Bandeira de Melo, s/n   IPP:ENDERECO\n",
      "Santíssimo IPP:BAIRRO\n",
      "Rua Projetada A - Vila Romana   IPP:ENDERECO\n",
      "Rua Acreuna, S/Nº Loteamento Joari, 66 IPP:ENDERECO\n",
      "Freguesia Jacarepaguá IPP:BAIRRO\n",
      "Ladeira da Freguesia, S/Nº   IPP:ENDERECO\n",
      "Avenida Frederico Faulhaber, S/Nº   IPP:ENDERECO\n",
      "Avenida Schultz Wenck, S/Nº   IPP:ENDERECO\n",
      "Senador Camará IPP:BAIRRO\n",
      "Rua Mucuripe, 151   IPP:ENDERECO\n",
      "Rua Renato Rebech, S/Nº IPP:ENDERECO\n",
      "Rua Felix Bernardelli, S/Nº - Vila Nova IPP:ENDERECO\n",
      "Freguesia Jacarepaguá IPP:BAIRRO\n",
      "Pça. José Alves de Azevedo, 43   IPP:ENDERECO\n",
      "Rua Ari Lobo, 430 - Posse   IPP:ENDERECO\n",
      "Rua Haddock Lobo, 148   IPP:ENDERECO\n",
      "Rua F, S/Nº - Estrada do Taquaral  IPP:ENDERECO\n",
      "Gávea IPP:BAIRRO\n",
      "Pça. Santos Dumont, 86   IPP:ENDERECO\n",
      "Inhoaíba IPP:BAIRRO\n",
      "Rua São Teodósio, S/N IPP:ENDERECO\n",
      "Irajá IPP:BAIRRO\n",
      "São Cristóvão IPP:BAIRRO\n",
      "Campo de São Cristovão, 115 IPP:ENDERECO\n",
      "Inhoaíba IPP:BAIRRO\n",
      "Avenida Cesário de Melo, 5.580 - Benjamin Dumont� IPP:ENDERECO\n",
      "Magalhães Bastos IPP:BAIRRO\n",
      "Avenida Mal. Fontenelle, 4.519   IPP:ENDERECO\n",
      "Rua São Leonardo addr:street\n",
      "Irajá addr:suburb\n",
      "Rua Theremin, S/Nº   IPP:ENDERECO\n",
      "Rua Silvânia, S/Nº - Jardim Maravilha IPP:ENDERECO\n",
      "Rua Votorantim, S/Nº - Mendanha IPP:ENDERECO\n",
      "Rua do Jambo, S/Nº - Conj. Cap. Teixeira IPP:ENDERECO\n",
      "Praça Saicã addr:street\n",
      "Jacarepaguá addr:suburb\n",
      "Gávea IPP:BAIRRO\n",
      "Rua Duque Estrada, 20   IPP:ENDERECO\n",
      "Rua Consolação, S/Nº - Cachamorra  IPP:ENDERECO\n",
      "Estrada da Moriçaba, s/n IPP:ENDERECO\n",
      "Rua Nova Trento, 28   IPP:ENDERECO\n",
      "Rua Alcobaça, 1.127   IPP:ENDERECO\n",
      "Praça da Confederação Suíça, S/Nº   IPP:ENDERECO\n",
      "Rua Conde de Agrolongo, 1.246   IPP:ENDERECO\n",
      "Rua Itapé, S/Nº   IPP:ENDERECO\n",
      "Rua da Consolação, 138   IPP:ENDERECO\n",
      "Paciência IPP:BAIRRO\n",
      "Rua Trinta - confluência com as ruas 1, 28 e 29 IPP:ENDERECO\n",
      "Méier IPP:BAIRRO\n",
      "Rua Vilela Tavares, 211   IPP:ENDERECO\n",
      "Praça Seca IPP:BAIRRO\n",
      "Rua Nossa Senhora do Amparo, S/Nº IPP:ENDERECO\n",
      "Estr. Moriçaba, S/Nº   IPP:ENDERECO\n",
      "Rua Iguaba Grande, 370   IPP:ENDERECO\n",
      "Avenida Aldo Botelho, S/Nº - Benjamin Dumont, IPP:ENDERECO\n",
      "Fora do Município IPP:BAIRRO\n",
      "Estr. Madureira, S/Nº Km 32   IPP:ENDERECO\n",
      "Avenida do Canal, Pista 2 Conj. Antares S/Nº   IPP:ENDERECO\n",
      "Inhaúma IPP:BAIRRO\n",
      "Rua Chapadinha, S/Nº IPP:ENDERECO\n",
      "Rua Oiticica, S/Nº - Amazonas IPP:ENDERECO\n",
      "Rua Panambi, 63 Q. 3 - Colinas do Retiro   IPP:ENDERECO\n",
      "Rua Luiza Marillac, 20 - Rio da Prata   IPP:ENDERECO\n",
      "Rua M, S/Nº - Nossa Senhora Aparecida IPP:ENDERECO\n",
      "Avenida Nelson Cardoso, 1.221 F   IPP:ENDERECO\n",
      "Rua Moraes Pinheiro, 1.140   IPP:ENDERECO\n",
      "Jacaré IPP:BAIRRO\n",
      "Rua Álvaro Seixas, S/Nº   IPP:ENDERECO\n",
      "Avenida Frederico Faulhaber, 303   IPP:ENDERECO\n",
      "Inhaúma IPP:BAIRRO\n",
      "Paciência IPP:BAIRRO\n",
      "Estr. Santa Eugênia, S/Nº   IPP:ENDERECO\n",
      "Rua Manoel Falcão addr:street\n",
      "Maré addr:suburb\n",
      "Estr. do Tindiba, 590, Rua G   IPP:ENDERECO\n",
      "Avenida Lúcio Costa, 3.300 - Barramares IPP:ENDERECO\n",
      "Sítio do Julio addr:housename\n",
      "Tauá IPP:BAIRRO\n",
      "Estr. do Engenho Novo, S/Nº   IPP:ENDERECO\n",
      "Rua Francisco Brício, S/Nº   IPP:ENDERECO\n",
      "Rua Carneiro de Mendonça addr:street\n",
      "Rua Desembargador Aniceto Corrêa, S/Nº   IPP:ENDERECO\n",
      "Rua Henrique Lacombe, S/Nº   IPP:ENDERECO\n",
      "Magalhães Bastos IPP:BAIRRO\n",
      "Pça. Dr. José Pontes, S/Nº   IPP:ENDERECO\n",
      "Quintino Bocaiúva IPP:BAIRRO\n",
      "Rua das Camélias addr:street\n",
      "Rua dos Lírios addr:street\n",
      "Rua Vila Aurora, S/Nº   IPP:ENDERECO\n",
      "Rua Iperó, S/Nº IPP:ENDERECO\n",
      "Avenida Brasil, 23.226   IPP:ENDERECO\n",
      "Pça. Emboaba, s/n   IPP:ENDERECO\n",
      "Avenida Etipóia, S/Nº -V. Kennedy   IPP:ENDERECO\n",
      "Irajá IPP:BAIRRO\n",
      "Glória IPP:BAIRRO\n",
      "Rua da Glória, 64   IPP:ENDERECO\n"
     ]
    },
    {
     "name": "stderr",
     "output_type": "stream",
     "text": [
      "Processing:   6%|▋         | 6767/106084 [00:09<02:15, 733.05it/s]"
     ]
    },
    {
     "name": "stdout",
     "output_type": "stream",
     "text": [
      "Rua do Radialista, 196   IPP:ENDERECO\n",
      "Estr. Marechal Alencastro, 4.035   IPP:ENDERECO\n",
      "Rua I, S/Nº - Quafá - V. Kennedy   IPP:ENDERECO\n",
      "Rua Dr. Miguel Vieira Ferreira, 392   IPP:ENDERECO\n",
      "Rua Visconde de Niterói addr:street\n",
      "Paciência IPP:BAIRRO\n",
      "Rua Engenheiro Cantarino Mota, 101, Lt.15,Qd.60  IPP:ENDERECO\n",
      "Rua Manhuaçu, S/Nº   IPP:ENDERECO\n",
      "Avenida Cesário de Melo, S/Nº - Conjunto Cesar� IPP:ENDERECO\n",
      "Rua Icurana - Vila São Jorge s/nº  IPP:ENDERECO\n",
      "Rua Pedro Osório, 360 IPP:ENDERECO\n",
      "Senador Camará IPP:BAIRRO\n",
      "Irajá IPP:BAIRRO\n",
      "Praça Nossa Senhora Auxiliadora IPP:ENDERECO\n",
      "Estr. Guandu do Sapê, S/Nº Mendanha   IPP:ENDERECO\n",
      "Rua Pracinha José Varela, S/Nº   IPP:ENDERECO\n",
      "Rua Gabriel M. Machado, S/Nº - Enseada das Garça IPP:ENDERECO\n",
      "Rua José Perrota, 31   IPP:ENDERECO\n",
      "Senador Camará IPP:BAIRRO\n",
      "Honório Gurgel IPP:BAIRRO\n",
      "Rua Porto Feliz, 65   IPP:ENDERECO\n",
      "Rua Igarapé-Açu, 340 IPP:ENDERECO\n",
      "Gávea IPP:BAIRRO\n",
      "Rua Marques de São Vicente, 238   IPP:ENDERECO\n",
      "Galeão IPP:BAIRRO\n",
      "Estr. Maracajás, 1294   IPP:ENDERECO\n",
      "Galeão IPP:BAIRRO\n",
      "Rua Boa União, S/Nº   IPP:ENDERECO\n",
      "Rua Três Marias - Vila Catiri s/nº IPP:ENDERECO\n",
      "Colégio IPP:BAIRRO\n",
      "Estr. do Colégio, S/Nº   IPP:ENDERECO\n",
      "Irajá IPP:BAIRRO\n",
      "Rua Itajacê, 34   IPP:ENDERECO\n",
      "Estr. do Magarça, 8.441   IPP:ENDERECO\n",
      "Rua do Couto, 91   IPP:ENDERECO\n",
      "Parque Colúmbia IPP:BAIRRO\n",
      "Rua Fausto e Castro, S/Nº   IPP:ENDERECO\n",
      "Irajá IPP:BAIRRO\n",
      "Rua Mollière, 10   IPP:ENDERECO\n",
      "Gávea IPP:BAIRRO\n",
      "Avenida dos Campeões, S/Nº   IPP:ENDERECO\n",
      "Avenida Antares - Rua X, S/Nº  IPP:ENDERECO\n",
      "Paciência IPP:BAIRRO\n",
      "Rua Linha de Austin, Nº 3 - Urucânia IPP:ENDERECO\n",
      "Rua Ribeiro de Andrade, S/Nº IPP:ENDERECO\n",
      "Rua Rebouças, 97   IPP:ENDERECO\n",
      "Bancários IPP:BAIRRO\n",
      "Rua Doutor Manoel Marreiros, S/Nº   IPP:ENDERECO\n",
      "Rua São Calixto, 509   IPP:ENDERECO\n",
      "Pça. Ricardo Gonçalves, S/Nº   IPP:ENDERECO\n",
      "Senador Camará IPP:BAIRRO\n",
      "Rua Marmiari, S/Nº   IPP:ENDERECO\n",
      "Rua Soldado Constantino Marroqui, S/Nº  IPP:ENDERECO\n",
      "Avenida Paulo Afonso, S/Nº Mendanha   IPP:ENDERECO\n",
      "Itanhangá IPP:BAIRRO\n",
      "Estr. dos Palmares, 1.950 - Conj. S.Coração   IPP:ENDERECO\n",
      "Paciência IPP:BAIRRO\n",
      "Rua Cilon Cunha Brum, S/Nº   IPP:ENDERECO\n",
      "Rua dos Banguenses, s/n   IPP:ENDERECO\n",
      "Avenida Padre Guilherme Decaminada, S/Nº   IPP:ENDERECO\n",
      "Avenida Antares, S/Nº   IPP:ENDERECO\n",
      "Rua Silvânia, s/n° IPP:ENDERECO\n",
      "Rua Marapendi, 257   IPP:ENDERECO\n",
      "Irajá IPP:BAIRRO\n",
      "Estr. do Guandu Do Sena, 5.860   IPP:ENDERECO\n",
      "Pça. Ferreira de Abreu, S/Nº   IPP:ENDERECO\n",
      "Jardim Botânico IPP:BAIRRO\n",
      "Rua Jardim Botânico, 563 - Fundos IPP:ENDERECO\n",
      "Rua Gal. Americano Freire, S/Nº   IPP:ENDERECO\n",
      "Quintino Bocaiúva IPP:BAIRRO\n",
      "Rua Frei Luiz Alevato, S/Nº   IPP:ENDERECO\n",
      "Tauá IPP:BAIRRO\n",
      "Rua Noêmia da Silveira, 150   IPP:ENDERECO\n",
      "Honório Gurgel IPP:BAIRRO\n",
      "Rua Américo Rocha, 1.596   IPP:ENDERECO\n",
      "Grajaú IPP:BAIRRO\n",
      "Rua da Fábrica, 235   IPP:ENDERECO\n",
      "Paciência IPP:BAIRRO\n",
      "Rua Agenor Porto, S/Nº   IPP:ENDERECO\n",
      "Rua Dias de Barros, 50   IPP:ENDERECO\n",
      "Rua Cabo José da Conceição, 135   IPP:ENDERECO\n",
      "Freguesia Jacarepaguá IPP:BAIRRO\n",
      "Rua Mamoré, 78   IPP:ENDERECO\n",
      "Rua Euclides da Rocha 120  IPP:ENDERECO\n",
      "Magalhães Bastos IPP:BAIRRO\n",
      "Rua Temístocles Sávio, S/Nº   IPP:ENDERECO\n",
      "Paciência IPP:BAIRRO\n",
      "Rua Cabo Saulo Vasconcelos, S/Nº - Palmares   IPP:ENDERECO\n",
      "Jardim América IPP:BAIRRO\n",
      "Rua Amsterdã, S/Nº   IPP:ENDERECO\n",
      "Rua Gal. Gomes de Castro, 360   IPP:ENDERECO\n",
      "Rua Corumbaiba, S/Nº - Mendanha IPP:ENDERECO\n",
      "Inhoaíba IPP:BAIRRO\n",
      "Rua Soldado Sebastião Viana, S/Nº   IPP:ENDERECO\n",
      "Paciência IPP:BAIRRO\n",
      "Praça Paulo de T. Celestino, S/Nº - Gouveias IPP:ENDERECO\n",
      "Rua Suçuarana, S/Nº   IPP:ENDERECO\n",
      "Avenida Guarujá, S/Nº   IPP:ENDERECO\n",
      "Rua Professor Alfredo Costa, s/n Conjunto D J Câmara IPP:ENDERECO\n",
      "Avenida Mal. Fontenelle, 755 - Rua D, Nº IPP:ENDERECO\n",
      "Rua Visconde do Rio Branco, 48   IPP:ENDERECO\n",
      "Rua Umbuzeiro, 455   IPP:ENDERECO\n",
      "Itanhangá IPP:BAIRRO\n",
      "Estrada de Jacarepaguá, 2166 IPP:ENDERECO\n",
      "Rua Pinheiro Bittencourt, S/Nº   IPP:ENDERECO\n",
      "Jardim América IPP:BAIRRO\n",
      "Praça Elba addr:street\n",
      "Vigário Geral addr:suburb\n",
      "Avenida Brasil, S/Nº   IPP:ENDERECO\n",
      "Rua Reginópolis, 135   IPP:ENDERECO\n",
      "Vigário Geral IPP:BAIRRO\n",
      "Rua Anamá, 98   IPP:ENDERECO\n",
      "Turiaçú IPP:BAIRRO\n",
      "Rua do Anturio, 31   IPP:ENDERECO\n",
      "Estrada de Jacarepaguá addr:street\n",
      "Jacarepaguá addr:suburb\n",
      "Praça Seca IPP:BAIRRO\n",
      "Rua Marapendi, S/Nº IPP:ENDERECO\n",
      "Rua Armando Albuquerque, S/Nº  IPP:ENDERECO\n",
      "Avenida Adolpho de Vasconcelos, 234   IPP:ENDERECO\n",
      "Paciência IPP:BAIRRO\n",
      "Pça. Tarumirim, S/Nº   IPP:ENDERECO\n"
     ]
    },
    {
     "name": "stderr",
     "output_type": "stream",
     "text": [
      "Processing:   7%|▋         | 6991/106084 [00:09<02:14, 735.43it/s]"
     ]
    },
    {
     "name": "stdout",
     "output_type": "stream",
     "text": [
      "Rua Jornalista Mário Lisboa, 127   IPP:ENDERECO\n",
      "Santíssimo IPP:BAIRRO\n",
      "Rua dos Limites, S/Nº   IPP:ENDERECO\n",
      "Freguesia Jacarepaguá IPP:BAIRRO\n",
      "Senador Camará IPP:BAIRRO\n",
      "Rua Hugo Barreto, S/Nº IPP:ENDERECO\n",
      "Rua Cilon Cunha Brum, S/Nº - Conj. Urucânia   IPP:ENDERECO\n",
      "Irajá IPP:BAIRRO\n",
      "Rua Calixto Silva, S/Nº - Gl-A-Q.01   IPP:ENDERECO\n",
      "Pça. Soldado Geraldo Cruz, 50   IPP:ENDERECO\n",
      "Rua Cadete Paim Pamplona, 50   IPP:ENDERECO\n",
      "Rua Marlieria, S/Nº  IPP:ENDERECO\n",
      "Rua Alfredo de Freitas- Catavento s/nº  IPP:ENDERECO\n",
      "Rua Marechal Marciano, S/Nº   IPP:ENDERECO\n",
      "Gardênia Azul IPP:BAIRRO\n",
      "Rua da Reverência addr:street\n",
      "Rua Rosa de Almeida, 113   IPP:ENDERECO\n",
      "Jacarepaguá IPP:BAIRRO\n",
      "Estr. dos Bandeirantes, 8.293   IPP:ENDERECO\n",
      "Avenida Areia Branca, 1.510   IPP:ENDERECO\n",
      "Inhaúma IPP:BAIRRO\n",
      "Estr. Adhemar Bebiano, 785   IPP:ENDERECO\n",
      "Rua Itambaraçá addr:street\n",
      "Jardim América IPP:BAIRRO\n",
      "Estrada da Paciência, 368   IPP:ENDERECO\n",
      "Rua Castelnuovo, S/Nº   IPP:ENDERECO\n",
      "Jacarepaguá IPP:BAIRRO\n",
      "Rua das Avencas, s/n  IPP:ENDERECO\n",
      "Rua Moacir Campos, S/Nº   IPP:ENDERECO\n",
      "Rua Carlina, S/Nº   IPP:ENDERECO\n",
      "Rua Ébano, 205 IPP:ENDERECO\n",
      "Rua Cravolândia, S/Nº - Lote 2 IPP:ENDERECO\n",
      "Paciência IPP:BAIRRO\n",
      "Rua Reginaldo Pardelha, S/Nº   IPP:ENDERECO\n",
      "Rua do Cacau, S/Nº IPP:ENDERECO\n",
      "Jardim América IPP:BAIRRO\n",
      "Maracanã IPP:BAIRRO\n",
      "Rua Senador Furtado, 90   IPP:ENDERECO\n",
      "Pça. Belmonte, 7   IPP:ENDERECO\n",
      "Rua H, S/Nº Km 49 - Conjunto Campinho Santa Ma IPP:ENDERECO\n",
      "Avenida Heitor Beltrão, S/Nº IPP:ENDERECO\n",
      "Inhoaíba IPP:BAIRRO\n",
      "Rua Prof. Souza Moreira, 363   IPP:ENDERECO\n",
      "Rua Dom Pedro Mascarenhas, 23   IPP:ENDERECO\n",
      "1, 4º andar addr:housenumber\n",
      "Irajá IPP:BAIRRO\n",
      "Galeão IPP:BAIRRO\n",
      "Avenida Sete, 1411   IPP:ENDERECO\n",
      "Inhaúma IPP:BAIRRO\n",
      "Santíssimo IPP:BAIRRO\n",
      "Rua Jornalista Samuel Wainer, S/Nº   IPP:ENDERECO\n",
      "Pça. dos Ucranianos, S/Nº   IPP:ENDERECO\n",
      "Estr. Engenho da Pedra, 528   IPP:ENDERECO\n",
      "Jacaré IPP:BAIRRO\n",
      "Paciência IPP:BAIRRO\n",
      "Rua Antonio Patrocínio Fernandes, S/Nº   IPP:ENDERECO\n",
      "Rua Cristóvão Xavier Lopes, 120 IPP:ENDERECO\n",
      "Estr. de Botafogo, S/Nº   IPP:ENDERECO\n",
      "Rua Visconde de Niterói addr:street\n",
      "Brás de Pina IPP:BAIRRO\n",
      "Rua Paranapanema, 1.001   IPP:ENDERECO\n",
      "Rua Paranapanema, 1.055   IPP:ENDERECO\n",
      "Irajá IPP:BAIRRO\n",
      "Paciência IPP:BAIRRO\n",
      "Rua Eudaldo Gomes da Silva, S/Nº   IPP:ENDERECO\n",
      "Rua Adelmar Tavares, S/Nº IPP:ENDERECO\n",
      "Rua Ébano, 187 IPP:ENDERECO\n",
      "Brás De Pina IPP:BAIRRO\n",
      "Andaraí IPP:BAIRRO\n",
      "Méier IPP:BAIRRO\n",
      "Rua Almirante Alexandrino, 3.286  IPP:ENDERECO\n",
      "Cidade Universitária IPP:BAIRRO\n",
      "Cidade Universitária - S/Nº   IPP:ENDERECO\n",
      "Rua Guimarães Rosa addr:street\n",
      "Turiaçú IPP:BAIRRO\n",
      "Rua Dom Irineu Joffly, S/Nº   IPP:ENDERECO\n",
      "Rua Dom João VI addr:street\n",
      "Pça. Santa Rosalia, 100   IPP:ENDERECO\n",
      "Rua Caminho do Areal - Largo do Corrêa s/nº , IPP:ENDERECO\n",
      "Pça. Confederação Suíça, S/Nº   IPP:ENDERECO\n",
      "Inhaúma IPP:BAIRRO\n",
      "Rua Dores de Turvo, 90   IPP:ENDERECO\n",
      "Maré addr:suburb\n",
      "Magalhães Bastos IPP:BAIRRO\n",
      "Maria Da Graça IPP:BAIRRO\n",
      "Rua Conde de Azambuja, 579   IPP:ENDERECO\n",
      "Maré IPP:BAIRRO\n",
      "Rua André Azevedo, S/Nº   IPP:ENDERECO\n",
      "Rua Vitor Meireles, 161   IPP:ENDERECO\n",
      "Rua Costa Junior, S/Nº   IPP:ENDERECO\n",
      "Rua Professor Lacê, 437 Fundos   IPP:ENDERECO\n",
      "Praça Soldado Ruben Galvão, S/Nº   IPP:ENDERECO\n",
      "Paciência IPP:BAIRRO\n",
      "Estr. Urucânia, 936   IPP:ENDERECO\n",
      "Paquetá IPP:BAIRRO\n",
      "Senador Camará IPP:BAIRRO\n",
      "Rua Yalta, 60   IPP:ENDERECO\n",
      "Paciência IPP:BAIRRO\n",
      "Rua Issami Nakamura Okamo, S/Nº - Urucânia IPP:ENDERECO\n",
      "Rua José Francisco de S. Porto, S/Nº - Rio da IPP:ENDERECO\n",
      "Rua Sebastião Rocha, s/n IPP:ENDERECO\n",
      "Rua Cabo José da Conceição, 135   IPP:ENDERECO\n",
      "Tomás Coelho addr:suburb\n",
      "Rua Aricuri, S/Nº IPP:ENDERECO\n"
     ]
    },
    {
     "name": "stderr",
     "output_type": "stream",
     "text": [
      "Processing:   7%|▋         | 7066/106084 [00:09<02:14, 738.22it/s]"
     ]
    },
    {
     "name": "stdout",
     "output_type": "stream",
     "text": [
      "Parque Colúmbia IPP:BAIRRO\n",
      "Rua Fausto e Castro, S/Nº   IPP:ENDERECO\n",
      "Freguesia Jacarepaguá IPP:BAIRRO\n",
      "Rua Mamoré, 76 - Fundos IPP:ENDERECO\n",
      "Rua Soldado Antonio de Paula S/Nº   IPP:ENDERECO\n",
      "Avenida Duque de Caxias, 26   IPP:ENDERECO\n",
      "Rua Olimpia Esteves, S/Nº IPP:ENDERECO\n",
      "Rua Horizonte Leite, S/Nº   IPP:ENDERECO\n",
      "Rua Faia, 546   IPP:ENDERECO\n",
      "Estrada do Magarça, 3.323   IPP:ENDERECO\n",
      "Brás de Pina IPP:BAIRRO\n",
      "Rua Pacheco Júnior, S/Nº   IPP:ENDERECO\n",
      "Pça. Laguna, 40   IPP:ENDERECO\n",
      "Estácio addr:suburb\n",
      "Trav. Barraquilha, S/Nº   IPP:ENDERECO\n",
      "Rua Itatinga, S/Nº - Venda Varanda IPP:ENDERECO\n",
      "Rua Pinheiro Bitencourt, S/Nº   IPP:ENDERECO\n",
      "Rua Francisco Graça, 81   IPP:ENDERECO\n",
      "Inhoaíba IPP:BAIRRO\n",
      "Avenida Cesário de Melo, 5.380 - Benjamin Dumont� IPP:ENDERECO\n",
      "Irajá IPP:BAIRRO\n",
      "Pça. Vicente de Oliveira Silva, 214   IPP:ENDERECO\n",
      "Jardim Botânico IPP:BAIRRO\n",
      "Rua Henrique Dias, 34   IPP:ENDERECO\n",
      "Rua Pastor José Ramalho, S/Nº   IPP:ENDERECO\n",
      "Andaraí IPP:BAIRRO\n",
      "Rua Umbuzeiro, 455   IPP:ENDERECO\n",
      "Méier IPP:BAIRRO\n",
      "Rua São Gomário, S/Nº - Vila Paciência IPP:ENDERECO\n",
      "Rua Darwim Brandão - Lagartixa s/nº IPP:ENDERECO\n",
      "Rua Major Rolinda da Silva, 65   IPP:ENDERECO\n",
      "Rua João Lacerda, S/Nº IPP:ENDERECO\n",
      "Estr. Sargento Miguel Filho S/Nº   IPP:ENDERECO\n",
      "Praça das Esmeraldas addr:street\n",
      "Irajá IPP:BAIRRO\n",
      "Rua Ten. Palestrina, 538   IPP:ENDERECO\n",
      "Rua do Paulistano, S/Nº - Mendanha IPP:ENDERECO\n",
      "Estr. do Magarça, 3.323   IPP:ENDERECO\n",
      "Rua Belém da Cachoeira, 89   IPP:ENDERECO\n",
      "Praça Zuinara addr:street\n",
      "Colégio addr:suburb\n",
      "Senador Camará IPP:BAIRRO\n",
      "Rua D, S/Nº - Conj. Miguel Gustavo   IPP:ENDERECO\n",
      "Avenida Brasil, 18.476   IPP:ENDERECO\n",
      "Rua da Conceição do Nº 74 A 76 A   IPP:ENDERECO\n",
      "Travessa Saião Lobato addr:street\n",
      "Avenida Aldo Botelho, S/Nº - Benjamin Dumont  IPP:ENDERECO\n",
      "Estr. da Cancela Preta, 1.797   IPP:ENDERECO\n",
      "Méier IPP:BAIRRO\n",
      "Paciência IPP:BAIRRO\n",
      "Avenida do Canal, S/Nº - Manguariba  IPP:ENDERECO\n",
      "Brás de Pina addr:suburb\n",
      "Avenida Padre Guilherme Decaminada, S/Nº   IPP:ENDERECO\n",
      "Rua Piracambu 590  IPP:ENDERECO\n",
      "Rua Joaquim Pizarro, 500   IPP:ENDERECO\n",
      "Rua Olavo Souza Aguiar, S/Nº   IPP:ENDERECO\n",
      "Irajá IPP:BAIRRO\n",
      "Rua Francisco Barreto, 829   IPP:ENDERECO\n",
      "Tauá IPP:BAIRRO\n",
      "Rua Menino Jesus de Praga, S/Nº   IPP:ENDERECO\n",
      "Rua Peropaba, 125 Monteiro   IPP:ENDERECO\n",
      "Rua Claudino Barata, 1.267   IPP:ENDERECO\n",
      "Brás de Pina IPP:BAIRRO\n",
      "Rua Mendoza, 323   IPP:ENDERECO\n",
      "Andaraí IPP:BAIRRO\n",
      "Trav. Hara, S/Nº - Q. 71 IPP:ENDERECO\n",
      "Rua da Relação addr:street\n",
      "Rua Brigadeiro Ovídio Beraldo, 275   IPP:ENDERECO\n",
      "Irajá IPP:BAIRRO\n",
      "Avenida Brasil, 18.476   IPP:ENDERECO\n",
      "Trav. Abilene, S/Nº - Q. 76 IPP:ENDERECO\n",
      "Rua Esperança, 387   IPP:ENDERECO\n",
      "Alameda dos Canários, S/Nº   IPP:ENDERECO\n",
      "Grajaú IPP:BAIRRO\n",
      "Rua Atacama, S/Nº - Vila Nova IPP:ENDERECO\n",
      "Bancários IPP:BAIRRO\n",
      "Avenida Ilha das Enxadas, S/Nº IPP:ENDERECO\n",
      "Estrada do Magarça, 9.183   IPP:ENDERECO\n",
      "Rua Vicente Perrota, S/Nº - Monteiro  IPP:ENDERECO\n",
      "Avenida Frederico Faulhaber, S/Nº   IPP:ENDERECO\n",
      "Rua General Carvalho, 702   IPP:ENDERECO\n",
      "São Cristóvão IPP:BAIRRO\n",
      "Senador Camará IPP:BAIRRO\n",
      "Estr. do Mandabua, S/Nº   IPP:ENDERECO\n",
      "Estr. de Sepetiba, 2.875   IPP:ENDERECO\n",
      "Rua Moisés Borges, s/n - Comunidade Chacrinha IPP:ENDERECO\n",
      "Senador Camará IPP:BAIRRO\n",
      "Rua Nova Orleans, S/Nº   IPP:ENDERECO\n",
      "Avenida Salvador de Sá, S/Nº   IPP:ENDERECO\n",
      "Senador Camará IPP:BAIRRO\n",
      "Estr. Taquaral, S/Nº Sítio Moura   IPP:ENDERECO\n",
      "Pça. da Bíblia, S/Nº   IPP:ENDERECO\n",
      "Avenida Mello Mattos, 34   IPP:ENDERECO\n",
      "Senador Camará IPP:BAIRRO\n",
      "Rua Marinho Rego, S/Nº   IPP:ENDERECO\n",
      "Praça Da Bandeira IPP:BAIRRO\n",
      "Rua Barão de Ubá, 331   IPP:ENDERECO\n",
      "Praça Nossa Senhora das Dores addr:street\n",
      "Jardim Botânico IPP:BAIRRO\n",
      "Rua Juriari, 238   IPP:ENDERECO\n",
      "Rua Tronco do Ipê, S/Nº   IPP:ENDERECO\n"
     ]
    },
    {
     "name": "stderr",
     "output_type": "stream",
     "text": [
      "Processing:   7%|▋         | 7214/106084 [00:09<02:16, 723.95it/s]"
     ]
    },
    {
     "name": "stdout",
     "output_type": "stream",
     "text": [
      "Rua Edgar Werneck, 1.565   IPP:ENDERECO\n",
      "Rua Xavier Curado, S/Nº   IPP:ENDERECO\n",
      "Avenida Duque de Caxias, S/Nº   IPP:ENDERECO\n",
      "Rua Nova Trento, 327   IPP:ENDERECO\n",
      "Jardim Botânico IPP:BAIRRO\n",
      "Méier IPP:BAIRRO\n",
      "Rua Regina, 70   IPP:ENDERECO\n",
      "Rua Arari, S/Nº   IPP:ENDERECO\n",
      "Gávea IPP:BAIRRO\n",
      "Pça. Santos Dumont, 96   IPP:ENDERECO\n",
      "Avenida Nelson Cardoso, 1.221   IPP:ENDERECO\n",
      "Rua Bombaim, S/Nº IPP:ENDERECO\n",
      "Rua Rodrigues de Abreu, 10 - Monteiro   IPP:ENDERECO\n",
      "Jacarepaguá IPP:BAIRRO\n",
      "Estr. do Rio Pequeno, 56   IPP:ENDERECO\n",
      "Rua Ana Cristina Cesar, S/Nº   IPP:ENDERECO\n",
      "Estr. da Paz, 1.474   IPP:ENDERECO\n",
      "Avenida Brasil, 34.686   IPP:ENDERECO\n",
      "Rua Tibagi, 316   IPP:ENDERECO\n",
      "Quintino Bocaiúva IPP:BAIRRO\n",
      "Senador Camará IPP:BAIRRO\n",
      "Rua Narandiba, S/Nº   IPP:ENDERECO\n",
      "Jardim Botânico IPP:BAIRRO\n",
      "Rua Olinda, 57   IPP:ENDERECO\n",
      "Rua Alcides Bezerra, S/Nº   IPP:ENDERECO\n",
      "Rua Jorn. Sabino Lemos, S/Nº - Aricuri   IPP:ENDERECO\n",
      "Senador Camará IPP:BAIRRO\n",
      "Tauá IPP:BAIRRO\n",
      "Rua Demétrio de Toledo, 21   IPP:ENDERECO\n",
      "Irajá IPP:BAIRRO\n",
      "Rua Canudos, S/Nº   IPP:ENDERECO\n",
      "Inhoaíba IPP:BAIRRO\n",
      "Rua Moranga, S/Nº - Benjamin Dumont IPP:ENDERECO\n",
      "Avenida Ministro Edgard Romero, 31   IPP:ENDERECO\n",
      "Estr. do Cabuçu, 1.675 Centro   IPP:ENDERECO\n",
      "Méier IPP:BAIRRO\n",
      "Rua Felipe Cavalcanti, 10   IPP:ENDERECO\n",
      "Rua Oliveira Ribeiro, 455   IPP:ENDERECO\n",
      "Estrada de Jacarepaguá, 5679 IPP:ENDERECO\n",
      "Rua Felipe Cardoso, S/Nº   IPP:ENDERECO\n",
      "Avenida Dom Helder Câmara, 9 IPP:Endereco\n",
      "Praça Ruão addr:street\n",
      "Praça Desembargador Araújo Jorge addr:street\n",
      "1, 3º andar addr:housenumber\n",
      "Avenida Afrânio de Melo Franco addr:street\n",
      "1, 2º andar addr:housenumber\n",
      "1, 4º andar addr:housenumber\n",
      "Rua da Relação addr:street\n",
      "Avenida Graça Aranha addr:street\n",
      "Avenida Afrânio de Melo Franco addr:street\n",
      "42 / 7º andar addr:housenumber\n",
      "Rua da Relação addr:street\n",
      "1, 4º andar addr:housenumber\n",
      "Antigo Instituto São João Batista, que passou para a Rua Silva Rabelo description\n"
     ]
    },
    {
     "name": "stderr",
     "output_type": "stream",
     "text": [
      "Processing:   7%|▋         | 7442/106084 [00:10<02:13, 741.11it/s]"
     ]
    },
    {
     "name": "stdout",
     "output_type": "stream",
     "text": [
      "Parque das Missões destination\n",
      "Rua São Clemente addr:street\n",
      "Rua São Clemente addr:street\n",
      "Rua São Clemente addr:street\n",
      "Rua Hilário de Gouveia addr:street\n",
      "Travessa Santa Leocádia addr:street\n",
      "Itaú Unibanco brand\n",
      "Maracanã IPP:BAIRRO\n",
      "Rua Joana Angélica addr:street\n",
      "Rua Marechal Cantuária addr:street\n",
      "Maricá Bus Station name:en\n",
      "Rodoviária de Maricá name:pt\n",
      "Empresa Brasileira de Correios e Telégrafos operator\n",
      "Pão de Açúcar brand\n",
      "pt:Pão de Açúcar (supermercado brasileiro) brand:wikipedia\n",
      "Travessa Guimarães Natal addr:street\n",
      "Praça Cardeal Arcoverde addr:street\n"
     ]
    },
    {
     "name": "stderr",
     "output_type": "stream",
     "text": [
      "Processing:   7%|▋         | 7593/106084 [00:10<02:12, 745.91it/s]"
     ]
    },
    {
     "name": "stdout",
     "output_type": "stream",
     "text": [
      "Avenida Atlântica addr:street\n",
      "Caixa Econômica Federal brand\n",
      "Rua República do Peru addr:street\n",
      "Rua Hilário de Gouveia addr:street\n",
      "Rua Hilário de Gouveia addr:street\n",
      "Rua Ewbank da Câmara addr:street\n",
      "Rodovia Governador Mário Covas addr:street\n"
     ]
    },
    {
     "name": "stderr",
     "output_type": "stream",
     "text": [
      "Processing:   7%|▋         | 7820/106084 [00:10<02:10, 750.94it/s]"
     ]
    },
    {
     "name": "stdout",
     "output_type": "stream",
     "text": [
      "Itaú Unibanco brand\n",
      "Petrópolis addr:city\n",
      "Sociedade de Ensino Superior Estácio de Sá addr:housename\n",
      "Rua Esteves Júnior addr:street\n",
      "Rua Esteves Júnior addr:street\n",
      "Rua Senador Corrêa addr:street\n",
      "Rua Senador Corrêa addr:street\n",
      "Rua Senador Corrêa addr:street\n",
      "Rua Senador Corrêa addr:street\n",
      "Rua Senador Corrêa addr:street\n",
      "Empresa Brasileira de Correios e Telégrafos brand\n",
      "Edifício Brasília addr:housename\n",
      "Edifício São Borja addr:housename\n",
      "Empresa Brasileira de Correios e Telégrafos operator\n",
      "Metrô Rio operator\n"
     ]
    },
    {
     "name": "stderr",
     "output_type": "stream",
     "text": [
      "Processing:   8%|▊         | 8201/106084 [00:11<02:09, 753.12it/s]"
     ]
    },
    {
     "name": "stdout",
     "output_type": "stream",
     "text": [
      "Nilópolis addr:city\n",
      "Nilópolis addr:city\n",
      "Nova Iguaçu addr:city\n",
      "Avenida Getúlio de Moura addr:street\n",
      "José de Mesquita old_name\n",
      "Rua Feliciano Sodré addr:street\n",
      "Nova Iguaçu addr:city\n",
      "Rua Tomás Fonseca addr:street\n",
      "Nova Iguaçu addr:city\n",
      "Avenida das Nações addr:street\n",
      "Belém old_name\n",
      "Vila Alcântara old_name\n",
      "pt:Estação Belford Roxo wikipedia\n",
      "Praça Marechal Âncora addr:street\n"
     ]
    },
    {
     "name": "stderr",
     "output_type": "stream",
     "text": [
      "Processing:   8%|▊         | 8505/106084 [00:11<02:09, 754.61it/s]"
     ]
    },
    {
     "name": "stdout",
     "output_type": "stream",
     "text": [
      "Rua Estácio Coimbra addr:street\n",
      "Pé de Briga alt_name\n",
      "pt:Aeroclube de Nova Iguaçu wikipedia\n",
      "Hospital Estadual Adão Pereira Nunes operator\n",
      "Rosário old_name\n",
      "pt:Estação Saracuruna wikipedia\n",
      "Magé addr:city\n",
      "pt:Estação Parque Estrela wikipedia\n",
      "Estação Parada Mauá official_name\n",
      "pt:Estação Parada Mauá wikipedia\n",
      "pt:Estação Parada Santa Dalila wikipedia\n",
      "pt:Estação Suruí wikipedia\n"
     ]
    },
    {
     "name": "stderr",
     "output_type": "stream",
     "text": [
      "Processing:   8%|▊         | 8735/106084 [00:11<02:08, 757.47it/s]"
     ]
    },
    {
     "name": "stdout",
     "output_type": "stream",
     "text": [
      "Nova Iguaçu addr:city\n",
      "Centenário de Petrópolis 16-03-1843 16-03-1943 inscription\n",
      "Pavão alt_name\n",
      "Limite de Municípios\n",
      "Petrópolis \n",
      "Teresópolis inscription\n"
     ]
    },
    {
     "name": "stderr",
     "output_type": "stream",
     "text": [
      "Processing:   8%|▊         | 8887/106084 [00:12<02:09, 749.33it/s]"
     ]
    },
    {
     "name": "stdout",
     "output_type": "stream",
     "text": [
      "Rua Carvalho de Mendonça addr:street\n",
      "Bar do Carlão Boteco\n"
     ]
    },
    {
     "name": "stderr",
     "output_type": "stream",
     "text": [
      "Processing:   9%|▊         | 9039/106084 [00:12<02:09, 751.72it/s]"
     ]
    },
    {
     "name": "stdout",
     "output_type": "stream",
     "text": [
      "pt:Estação Magé wikipedia\n",
      "Central Logística operator\n",
      "Autopista Régis operator\n",
      "Autopista Régis operator\n",
      "Autopista Régis operator\n",
      "Autopista Régis operator\n",
      "Autopista Régis operator\n",
      "Autopista Régis operator\n",
      "Praça Barão da Taquara addr:street\n"
     ]
    },
    {
     "name": "stderr",
     "output_type": "stream",
     "text": [
      "Processing:   9%|▊         | 9190/106084 [00:12<02:14, 717.93it/s]"
     ]
    },
    {
     "name": "stdout",
     "output_type": "stream",
     "text": [
      "Category:Museu do Açude wikimedia_commons\n",
      "pt:Morro de São Bento (Rio de Janeiro) wikipedia\n",
      "Viação Futuro operator\n",
      "Auto Viação Tres Amigos S.A. // Caprichosa Auto Ônibus // Transportes Estrela Ltda. operator\n",
      "Linha Inativa Até o Momento. operator\n",
      "Viação Acari operator\n",
      "Expresso Pégaso operator\n",
      "Gardênia Azul addr:suburb\n",
      "Passarela da Gardênia local_ref\n",
      "Gardênia Azul local_ref\n",
      "Gardênia Azul local_ref\n",
      "Rua Gonçalves Dias addr:street\n",
      "Rua Gonçalves Dias addr:street\n",
      "Edifício Martinelli addr:housename\n",
      "Rua Gonçalves Dias addr:street\n",
      "Rua Gonçalves Dias addr:street\n",
      "Rua Gonçalves Dias addr:street\n",
      "Rua Gonçalves Dias addr:street\n",
      "Rua Gonçalves Dias addr:street\n",
      "Itaú Unibanco brand\n"
     ]
    },
    {
     "name": "stderr",
     "output_type": "stream",
     "text": [
      "Processing:   9%|▉         | 9337/106084 [00:12<02:16, 710.33it/s]"
     ]
    },
    {
     "name": "stdout",
     "output_type": "stream",
     "text": [
      "Ilha de Maricá name:pt\n",
      "Itaú Unibanco brand\n",
      "Itaú Unibanco brand\n",
      "Caixa Econômica Federal brand\n",
      "Rua Marquês de Olinda addr:street\n"
     ]
    },
    {
     "name": "stderr",
     "output_type": "stream",
     "text": [
      "Processing:   9%|▉         | 9489/106084 [00:12<02:11, 731.94it/s]"
     ]
    },
    {
     "name": "stdout",
     "output_type": "stream",
     "text": [
      "Avenida Mem de Sá addr:street\n",
      "Avenida Mem de Sá addr:street\n",
      "Rua Bráulio Ralha addr:street\n"
     ]
    },
    {
     "name": "stderr",
     "output_type": "stream",
     "text": [
      "Processing:   9%|▉         | 10029/106084 [00:13<02:05, 764.52it/s]"
     ]
    },
    {
     "name": "stdout",
     "output_type": "stream",
     "text": [
      "Rua México addr:street\n",
      "Rua México addr:street\n",
      "Rua México addr:street\n",
      "Rua México addr:street\n",
      "Rua Araújo Porto Alegre addr:street\n",
      "Rua México addr:street\n",
      "Rua México addr:street\n",
      "Empresa Brasileira de Correios e Telégrafos operator\n",
      "Edifício Nogales addr:housename\n",
      "Rua México addr:street\n",
      "Edifício Mexico addr:housename\n",
      "Rua México addr:street\n",
      "Edifício Veimar addr:housename\n",
      "Rua México addr:street\n"
     ]
    },
    {
     "name": "stderr",
     "output_type": "stream",
     "text": [
      "Processing:  10%|█         | 10724/106084 [00:14<02:04, 765.66it/s]"
     ]
    },
    {
     "name": "stdout",
     "output_type": "stream",
     "text": [
      "Rua Marquês de Abrantes addr:street\n",
      "5àsec brand\n",
      "fr:5àsec brand:wikipedia\n"
     ]
    },
    {
     "name": "stderr",
     "output_type": "stream",
     "text": [
      "Processing:  10%|█         | 10955/106084 [00:14<02:04, 762.03it/s]"
     ]
    },
    {
     "name": "stdout",
     "output_type": "stream",
     "text": [
      "Rua Voluntários da Pátria addr:street\n"
     ]
    },
    {
     "name": "stderr",
     "output_type": "stream",
     "text": [
      "Processing:  12%|█▏        | 13179/106084 [00:17<02:01, 762.22it/s]"
     ]
    },
    {
     "name": "stdout",
     "output_type": "stream",
     "text": [
      "Rua Voluntários da Pátria addr:street\n"
     ]
    },
    {
     "name": "stderr",
     "output_type": "stream",
     "text": [
      "Processing:  13%|█▎        | 13332/106084 [00:17<02:02, 755.81it/s]"
     ]
    },
    {
     "name": "stdout",
     "output_type": "stream",
     "text": [
      "fr:Laboratório Nacional de Computação Científica wikipedia\n",
      "pt:Estação Parada Fabrica EMAQ wikipedia\n",
      "pt:Estação Iriri wikipedia\n",
      "Avenida Atlântica addr:street\n",
      "Avenida Atlântica addr:street\n",
      "Atlântica branch\n",
      "Itaú Unibanco brand\n",
      "Itaú operator\n",
      "Estátua de Siqueira Campos description\n",
      "Calçadão de Copacabana addr:street\n",
      "Bifurcação old_name\n"
     ]
    },
    {
     "name": "stderr",
     "output_type": "stream",
     "text": [
      "Processing:  13%|█▎        | 13711/106084 [00:18<02:04, 742.80it/s]"
     ]
    },
    {
     "name": "stdout",
     "output_type": "stream",
     "text": [
      "Avenida Epitácio Pessoa addr:street\n",
      "Avenida Mem de Sá addr:street\n",
      "Avenida Mem de Sá addr:street\n",
      "Avenida Mem de Sá addr:street\n",
      "Rua Humaitá addr:street\n",
      "Rua Voluntários da Pátria addr:street\n",
      "Rua Garcia D'Ávila addr:street\n",
      "Rua Visc. de Pirajá addr:street\n",
      "Rua Aristides Espínola addr:street\n",
      "Itaú Unibanco brand\n",
      "José Resende artist_name\n"
     ]
    },
    {
     "name": "stderr",
     "output_type": "stream",
     "text": [
      "Processing:  13%|█▎        | 13862/106084 [00:18<02:04, 743.60it/s]"
     ]
    },
    {
     "name": "stdout",
     "output_type": "stream",
     "text": [
      "Café da manhã, expresso, café moído na hora. description\n",
      "Rua Pinheiro Guimarães addr:street\n",
      "Congregação Cristã no Brasil pentecostal\n",
      "Itaú Unibanco brand\n",
      "pt:Itaú Unibanco brand:wikipedia\n",
      "Itália Ice-Creams int_name\n",
      "Setrans Segurança e Trânsito operator\n",
      "Rua Assunção addr:street\n"
     ]
    },
    {
     "name": "stderr",
     "output_type": "stream",
     "text": [
      "Processing:  14%|█▎        | 14393/106084 [00:19<02:03, 742.77it/s]"
     ]
    },
    {
     "name": "stdout",
     "output_type": "stream",
     "text": [
      "Category:Chafariz da Praça Xavier de Brito (Rio de Janeiro) wikimedia_commons\n",
      "Última Saída description\n",
      "O Boticário brand\n",
      "en:O Boticário brand:wikipedia\n",
      "Empresa Brasileira de Correios e Telégrafos brand\n",
      "Limite de Municípios\n",
      "Macaé\n",
      "Rio das Ostras inscription\n",
      "Limite de Municípios\n",
      "Rio das Ostras\n",
      "Macaé inscription\n"
     ]
    },
    {
     "name": "stderr",
     "output_type": "stream",
     "text": [
      "Processing:  14%|█▎        | 14543/106084 [00:19<02:03, 742.14it/s]"
     ]
    },
    {
     "name": "stdout",
     "output_type": "stream",
     "text": [
      "Tijuca;Saens Peña old_name\n",
      "MetrôRio operator\n",
      "Ponto de Ônibus - CT loc_name\n",
      "Setrans Segurança e Trânsito operator\n",
      "Setrans Segurança e Trânsito operator\n",
      "Estrada da Gávea addr:street\n",
      "Itararé/Natura old_name\n",
      "Alemão/Kibon old_name\n"
     ]
    },
    {
     "name": "stderr",
     "output_type": "stream",
     "text": [
      "Processing:  14%|█▍        | 14693/106084 [00:19<02:03, 741.83it/s]"
     ]
    },
    {
     "name": "stdout",
     "output_type": "stream",
     "text": [
      "Воскресная ярмарка Хиппи name:ru\n",
      "Rua Visconde de Pirajá addr:street\n",
      "Rua Vinícius de Moraes addr:street\n",
      "Rua do Rosário addr:street\n",
      "Itaú Unibanco brand\n",
      "Estrada do Guerenguê addr:street\n",
      "Rua Barão de Mesquita addr:street\n",
      "Корковаду name:ru\n",
      "Rua Francisco Sá addr:street\n",
      "Category:Morro da Conceição (Rio de Janeiro) wikimedia_commons\n",
      "pt:Morro da Conceição (Rio de Janeiro) wikipedia\n",
      "Morro de São Lourenço old_name\n",
      "Morro da Glória alt_name\n",
      "pt:Morro de Santo Antônio wikipedia\n",
      "Category:Morro Cara de Cão wikimedia_commons\n",
      "pt:Morro Cara de Cão wikipedia\n",
      "Morro do Jardim Zoológico old_name\n",
      "Morro de São João; Morro Souza Cruz old_name\n"
     ]
    },
    {
     "name": "stderr",
     "output_type": "stream",
     "text": [
      "Processing:  14%|█▍        | 14922/106084 [00:20<02:01, 749.32it/s]"
     ]
    },
    {
     "name": "stdout",
     "output_type": "stream",
     "text": [
      "Morro de São Lázaro old_name\n",
      "Rua Jardim Botânico addr:street\n",
      "Pão de Açúcar brand\n",
      "pt:Pão de Açúcar (supermercado brasileiro) brand:wikipedia\n",
      "pt:Morro do Sumaré wikipedia\n",
      "Мыс Гарпунщика name:ru\n",
      "Irmão Maior do Leblon alt_name\n"
     ]
    },
    {
     "name": "stderr",
     "output_type": "stream",
     "text": [
      "Processing:  14%|█▍        | 15074/106084 [00:20<02:01, 750.89it/s]"
     ]
    },
    {
     "name": "stdout",
     "output_type": "stream",
     "text": [
      "Rua Marquês de Abrantes addr:street\n",
      "Itaú Unibanco brand\n",
      "Praça Euvaldo Lodi addr:street\n",
      "Praça Euvaldo Lodi addr:street\n",
      "Praça Euvaldo Lodi addr:street\n",
      "Itaú Unibanco brand\n",
      "Praça Euvaldo Lodi addr:street\n",
      "Praça Euvaldo Lodi addr:street\n",
      "Itaú Unibanco brand\n",
      "Avenida Olegário Maciel addr:street\n",
      "Avenida Olegário Maciel addr:street\n",
      "Avenida Olegário Maciel addr:street\n",
      "Caixa Econômica Federal brand\n",
      "Rua Capitão Cruz addr:street\n",
      "Rua Capitão Cruz addr:street\n",
      "Rua Capitão Cruz addr:street\n",
      "Estrada da Água Grande addr:street\n",
      "Estrada da Água Grande addr:street\n",
      "Estrada da Água Grande addr:street\n",
      "Estrada da Água Grande addr:street\n",
      "Estrada da Água Grande addr:street\n",
      "Estrada da Água Grande addr:street\n",
      "Estrada da Água Grande addr:street\n",
      "Estrada da Água Grande addr:street\n",
      "Estrada da Água Grande addr:street\n",
      "Itaú Unibanco brand\n",
      "pt:Itaú Un brand:wikipedia\n",
      "Estrada da Água Grande addr:street\n",
      "Avenida Brás de Pina addr:street\n",
      "Estrada da Água Grande addr:street\n",
      "Estrada da Água Grande addr:street\n",
      "Estrada da Água Grande addr:street\n",
      "Galeão addr:suburb\n",
      "en:Abolição wikipedia\n",
      "en:Andaraí, Rio de Janeiro wikipedia\n",
      "en:Bancários wikipedia\n",
      "pt:Cidade Universitária da Universidade Federal do Rio de Janeiro wikipedia\n"
     ]
    },
    {
     "name": "stderr",
     "output_type": "stream",
     "text": [
      "Processing:  14%|█▍        | 15225/106084 [00:20<02:03, 737.30it/s]"
     ]
    },
    {
     "name": "stdout",
     "output_type": "stream",
     "text": [
      "en:Cocotá wikipedia\n",
      "Complexo da Maré alt_name\n",
      "en:Estácio, Rio de Janeiro wikipedia\n",
      "en:Galeão, Rio de Janeiro wikipedia\n",
      "en:Gardênia Azul wikipedia\n",
      "pt:Glória (bairro do Rio de Janeiro) wikipedia\n",
      "en:Grajaú, Rio de Janeiro wikipedia\n",
      "pt:Gávea (bairro do Rio de Janeiro) wikipedia\n",
      "en:Higienópolis, Rio de Janeiro wikipedia\n",
      "pt:Humaitá (bairro do Rio de Janeiro) wikipedia\n",
      "Category:Inhaúma (Rio de Janeiro) wikimedia_commons\n",
      "en:Inhaúma, Rio de Janeiro wikipedia\n",
      "pt:Irajá (bairro do Rio de Janeiro) wikipedia\n",
      "en:Jacaré, Rio de Janeiro wikipedia\n",
      "en:Jardim Botânico, Rio de Janeiro wikipedia\n",
      "en:Maracanã, Rio de Janeiro wikipedia\n",
      "en:Maria da Graça, Rio de Janeiro wikipedia\n",
      "en:Moneró, Rio de Janeiro wikipedia\n",
      "Category:Méier wikimedia_commons\n",
      "en:Méier wikipedia\n",
      "en:Praça da Bandeira wikipedia\n",
      "pt:Saúde (bairro do Rio de Janeiro) wikipedia\n",
      "Bairro Imperial de São Cristóvão alt_name\n",
      "pt:São Cristóvão (bairro do Rio de Janeiro) wikipedia\n",
      "en:São Francisco Xavier, Rio de Janeiro wikipedia\n",
      "en:Tauá, Rio de Janeiro wikipedia\n",
      "en:Tomás Coelho wikipedia\n",
      "en:Água Santa, Rio de Janeiro wikipedia\n",
      "Itaú Unibanco brand\n",
      "Caixa Econômica Federal brand\n",
      "Rua Pedro Américo addr:street\n",
      "Rua Pedro Américo addr:street\n"
     ]
    },
    {
     "name": "stderr",
     "output_type": "stream",
     "text": [
      "Processing:  14%|█▍        | 15376/106084 [00:20<02:03, 733.45it/s]"
     ]
    },
    {
     "name": "stdout",
     "output_type": "stream",
     "text": [
      "Rua Pedro Américo addr:street\n",
      "Rua Pedro Américo addr:street\n",
      "Rua Pedro Américo addr:street\n",
      "Avenida Visconde de Pirajá 391 addr:street\n"
     ]
    },
    {
     "name": "stderr",
     "output_type": "stream",
     "text": [
      "Processing:  15%|█▍        | 15603/106084 [00:20<02:00, 748.10it/s]"
     ]
    },
    {
     "name": "stdout",
     "output_type": "stream",
     "text": [
      "Rua Jardim Botânico addr:street\n",
      "Voluntários da Pátria addr:street\n",
      "Restaurante de comida brasileira, bastante frequentado e com boa variedade e qualidade do cardápio. description\n",
      "Rua Voluntários da Pátria addr:street\n",
      "Rua Capitão Salomão addr:street\n",
      "Loja embaixo do condomínio do número 154 description\n",
      "Rua Humaitá addr:street\n",
      "Bar e restaurante bastante conhecido e com preço razoáveis. Possui Delivery description\n"
     ]
    },
    {
     "name": "stderr",
     "output_type": "stream",
     "text": [
      "Processing:  15%|█▍        | 15679/106084 [00:21<02:00, 748.75it/s]"
     ]
    },
    {
     "name": "stdout",
     "output_type": "stream",
     "text": [
      "Rua Pacheco Leão addr:street\n",
      "Rua Pacheco Leão addr:street\n",
      "Rua Pacheco Leão addr:street\n",
      "Rua Visconde de Carandaí addr:street\n",
      "Jardim Botânico addr:suburb\n",
      "Rua Pacheco Leão addr:street\n",
      "Rua Pacheco Leão addr:street\n",
      "Rua Pacheco Leão addr:street\n",
      "Rua Pacheco Leão addr:street\n",
      "Rua Pacheco Leão addr:street\n",
      "Rua Pacheco Leão addr:street\n",
      "Rua Pacheco Leão addr:street\n",
      "Condomínio Von Humboldt addr:street\n",
      "Rua Pacheco Leão addr:street\n",
      "Rua Pacheco Leão addr:street\n",
      "Rua Pacheco Leão addr:street\n",
      "Rua Pacheco Leão addr:street\n",
      "Rua Pacheco Leão addr:street\n",
      "Rua Pacheco Leão addr:street\n",
      "Rua Pacheco Leão addr:street\n",
      "Rua Pacheco Leão addr:street\n",
      "Rua Pacheco Leão addr:street\n",
      "Rua Voluntários da Pátria addr:street\n",
      "Apurinãs addr:street\n"
     ]
    },
    {
     "name": "stderr",
     "output_type": "stream",
     "text": [
      "Processing:  15%|█▍        | 15831/106084 [00:21<02:02, 737.35it/s]"
     ]
    },
    {
     "name": "stdout",
     "output_type": "stream",
     "text": [
      "pt:Sacra Família do Tinguá wikipedia\n",
      "Bandeira Própria brand\n",
      "Empresa Brasileira de Correios e Telégrafos brand\n",
      "Própria brand\n",
      "Eurogás brand\n",
      "Eurogás brand\n",
      "Empresa Brasileira de Correios e Telégrafos brand\n"
     ]
    },
    {
     "name": "stderr",
     "output_type": "stream",
     "text": [
      "Processing:  15%|█▌        | 16059/106084 [00:21<02:00, 749.51it/s]"
     ]
    },
    {
     "name": "stdout",
     "output_type": "stream",
     "text": [
      "Auto-Peças e Mecânica description\n",
      "Rua Professor José de Souza Herdy addr:street\n",
      "Messiânica denomination\n",
      "Caixa Econômica Federal brand\n",
      "Praça Roberto Silveira addr:street\n",
      "Praça Roberto Silveira addr:street\n",
      "Caixa Econômica Federal brand\n",
      "pt:Caixa Econômica Federal brand:wikipedia\n",
      "Caixa Econômica Federal brand\n",
      "Itaú Unibanco brand\n",
      "Itaú Unibanco brand\n",
      "Rua José de Alvarenga addr:street\n",
      "Caixa Econômica Federal brand\n",
      "pt:Caixa Econômica Federal brand:wikipedia\n",
      "Itaú Unibanco brand\n",
      "pt:Itaú Unibanco brand:wikipedia\n",
      "Itaú Unibanco brand\n",
      "pt:Itaú Unibanco brand:wikipedia\n",
      "Rua Tenente José Dias addr:street\n",
      "Colégio description\n",
      "Avenida Doutor Plínio Casado addr:street\n",
      "Avenida Doutor Plínio Casado addr:street\n",
      "Itaú Unibanco brand\n",
      "pt:Itaú Unibanco brand:wikipedia\n",
      "Avenida Nilo Peçanha addr:street\n",
      "Avenida Doutor Plínio Casado addr:street\n",
      "Rua José de Alvarenga addr:street\n",
      "Avenida Nilo Peçanha addr:street\n",
      "Itaú Unibanco brand\n",
      "pt:Itaú Unibanco brand:wikipedia\n",
      "Rua José de Alvarenga addr:street\n",
      "Avenida Nilo Peçanha addr:street\n",
      "Rua José de Alvarenga addr:street\n",
      "Rua Prof. José de Souza Herdy addr:street\n",
      "Rua Passo da Pátria addr:street\n",
      "Avenida Nilo Peçanha addr:street\n",
      "Banco 24Hrs, Itaú, Banco do Brasil, Bradesco, Santander operator\n",
      "Itaú Unibanco brand\n",
      "Смотровая площадка Леблона name:ru\n"
     ]
    },
    {
     "name": "stderr",
     "output_type": "stream",
     "text": [
      "Processing:  15%|█▌        | 16289/106084 [00:21<01:58, 759.77it/s]"
     ]
    },
    {
     "name": "stdout",
     "output_type": "stream",
     "text": [
      "Teresópolis addr:city\n",
      "Metrô Rio operator\n",
      "Teresópolis addr:city\n",
      "Itaú Unibanco brand\n",
      "Itaú Unibanco operator\n",
      "Estrada do Joá addr:street\n",
      "Teresópolis addr:city\n",
      "Rua Francisco Sá addr:street\n",
      "Metrô Pavuna description\n",
      "São João de Meriti is_in:city\n",
      "São João de Meriti is_in:city\n"
     ]
    },
    {
     "name": "stderr",
     "output_type": "stream",
     "text": [
      "Processing:  16%|█▌        | 16981/106084 [00:22<01:57, 755.99it/s]"
     ]
    },
    {
     "name": "stdout",
     "output_type": "stream",
     "text": [
      "Serra do Inácio Dias alt_name\n",
      "pt:Serra do Inácio Dias wikipedia\n",
      "Morro do Anhangüera alt_name\n",
      "Estrada de Jacarepaguá addr:street\n",
      "Estrada de Jacarepaguá addr:street\n",
      "MetrôRio operator\n",
      "Rua Pacheco Leão addr:street\n",
      "Rua Pacheco Leão addr:street\n",
      "Rua Pacheco Leão addr:street\n",
      "Rua Pacheco Leão addr:street\n",
      "Rua Pacheco Leão addr:street\n",
      "Rua Pacheco Leão addr:street\n",
      "Rua Pacheco Leão addr:street\n",
      "Rua Pacheco Leão addr:street\n",
      "Rua Pacheco Leão addr:street\n",
      "Rua Pacheco Leão addr:street\n",
      "Rua Pacheco Leão addr:street\n",
      "Rua Pacheco Leão addr:street\n",
      "Rua Pacheco Leão addr:street\n",
      "Rua Pacheco Leão addr:street\n",
      "Rua Pacheco Leão addr:street\n",
      "Rua Pacheco Leão addr:street\n",
      "Rua Pacheco Leão addr:street\n",
      "Rua Pacheco Leão addr:street\n",
      "Rua Pacheco Leão addr:street\n",
      "Rua Pacheco Leão addr:street\n",
      "MetrôRio operator\n"
     ]
    },
    {
     "name": "stderr",
     "output_type": "stream",
     "text": [
      "Processing:  16%|█▌        | 17209/106084 [00:23<01:58, 752.33it/s]"
     ]
    },
    {
     "name": "stdout",
     "output_type": "stream",
     "text": [
      "Teresópolis addr:city\n",
      "Teresópolis addr:city\n",
      "Rua Tenente Luís Meireles addr:street\n",
      "Niterói addr:city\n",
      "Rua Domingues de Sá addr:street\n",
      "Icaraí addr:suburb\n",
      "Avenida Olegário Mariano addr:street\n",
      "Praça da Vila São Luiz local_ref\n",
      "Itaú Unibanco brand\n",
      "Praça da Vila São Luiz local_ref\n",
      "Niterói addr:city\n",
      "Rua Gavião Peixoto addr:street\n",
      "Icaraí addr:suburb\n",
      "Niterói addr:city\n",
      "Rua Gavião Peixoto addr:street\n",
      "Icaraí addr:suburb\n",
      "Rua Pacheco Leão addr:street\n"
     ]
    },
    {
     "name": "stderr",
     "output_type": "stream",
     "text": [
      "Processing:  16%|█▋        | 17440/106084 [00:23<01:56, 759.09it/s]"
     ]
    },
    {
     "name": "stdout",
     "output_type": "stream",
     "text": [
      "Rua Caminhoá addr:street\n",
      "Rua Caminhoá addr:street\n",
      "Rua Caminhoá addr:street\n",
      "Rua Caminhoá addr:street\n",
      "Rua Caminhoá addr:street\n",
      "Rua Caminhoá addr:street\n",
      "Rua Caminhoá addr:street\n",
      "Rua Caminhoá addr:street\n",
      "Rua Caminhoá addr:street\n",
      "Rua Caminhoá addr:street\n",
      "Rua Caminhoá addr:street\n",
      "Rua Caminhoá addr:street\n",
      "Rua Caminhoá addr:street\n",
      "Rua Caminhoá addr:street\n",
      "Rua Caminhoá addr:street\n",
      "Rua Caminhoá addr:street\n",
      "Rua Caminhoá addr:street\n",
      "Rua Caminhoá addr:street\n",
      "Rua Fernando Magalhães addr:street\n",
      "Rua Caminhoá addr:street\n",
      "Rua Caminhoá addr:street\n",
      "Rua Caminhoá addr:street\n",
      "Rua Caminhoá addr:street\n",
      "Rua Caminhoá addr:street\n",
      "Rua Caminhoá addr:street\n",
      "Rua Caminhoá addr:street\n",
      "Rua Caminhoá addr:street\n",
      "Rua Caminhoá addr:street\n",
      "Rua Caminhoá addr:street\n",
      "Rua Caminhoá addr:street\n",
      "Rua Caminhoá addr:street\n",
      "Itaú Unibanco brand\n",
      "Última Saída description\n",
      "Rua Pacheco Leão addr:street\n",
      "Rua Pacheco Leão addr:street\n"
     ]
    },
    {
     "name": "stderr",
     "output_type": "stream",
     "text": [
      "Processing:  17%|█▋        | 17594/106084 [00:23<01:56, 760.21it/s]"
     ]
    },
    {
     "name": "stdout",
     "output_type": "stream",
     "text": [
      "Estrada Intendente Magalhães addr:street\n",
      "Rua Jardim Botânico addr:street\n",
      "Edifício Júlio Populo addr:housename\n",
      "Rua Pacheco Leão addr:street\n",
      "Rua Pacheco Leão addr:street\n",
      "Rua Pacheco Leão addr:street\n",
      "Rua Pacheco Leão addr:street\n",
      "Rua Pacheco Leão addr:street\n",
      "Rua Pacheco Leão addr:street\n",
      "Rua Pacheco Leão addr:street\n",
      "Rua Pacheco Leão addr:street\n",
      "Edifício Eldorado addr:housename\n",
      "Rua Pacheco Leão addr:street\n"
     ]
    },
    {
     "name": "stderr",
     "output_type": "stream",
     "text": [
      "Processing:  17%|█▋        | 17748/106084 [00:23<01:56, 756.96it/s]"
     ]
    },
    {
     "name": "stdout",
     "output_type": "stream",
     "text": [
      "Niterói addr:city\n",
      "Icaraí addr:suburb\n",
      "Travessa do Comércio addr:street\n"
     ]
    },
    {
     "name": "stderr",
     "output_type": "stream",
     "text": [
      "Processing:  17%|█▋        | 17976/106084 [00:24<01:56, 757.67it/s]"
     ]
    },
    {
     "name": "stdout",
     "output_type": "stream",
     "text": [
      "pt:Santa Rosa (Niterói) wikipedia\n",
      "Rua São Francisco Xavier addr:street\n",
      "Maracanã addr:suburb\n",
      "Rua Ponta-Porã addr:street\n",
      "Rua Ponta-Porã addr:street\n"
     ]
    },
    {
     "name": "stderr",
     "output_type": "stream",
     "text": [
      "Processing:  17%|█▋        | 18204/106084 [00:24<01:56, 753.57it/s]"
     ]
    },
    {
     "name": "stdout",
     "output_type": "stream",
     "text": [
      "Niterói addr:city\n",
      "Niterói addr:city\n",
      "Alameda São Boaventura addr:street\n",
      "Niterói addr:city\n",
      "Praça Getúlio Vargas addr:street\n"
     ]
    },
    {
     "name": "stderr",
     "output_type": "stream",
     "text": [
      "Processing:  17%|█▋        | 18432/106084 [00:24<01:58, 739.25it/s]"
     ]
    },
    {
     "name": "stdout",
     "output_type": "stream",
     "text": [
      "en:Ilha da Conceição wikipedia\n",
      "Rua São Canuto addr:street\n",
      "Ipê Roxo type\n"
     ]
    },
    {
     "name": "stderr",
     "output_type": "stream",
     "text": [
      "Processing:  18%|█▊        | 18739/106084 [00:25<01:55, 757.28it/s]"
     ]
    },
    {
     "name": "stdout",
     "output_type": "stream",
     "text": [
      "Rua General Glicério addr:street\n",
      "Rua Voluntários da Pátria addr:street\n",
      "Estação SESC Botafogo alt_name\n",
      "Caixa Econômica Federal brand\n",
      "Posição estimada. Ajustar quando houver imagem atualizada comment\n",
      "Rua Pacheco Leão addr:street\n"
     ]
    },
    {
     "name": "stderr",
     "output_type": "stream",
     "text": [
      "Processing:  18%|█▊        | 18971/106084 [00:25<01:55, 755.13it/s]"
     ]
    },
    {
     "name": "stdout",
     "output_type": "stream",
     "text": [
      "Rua da Conceição addr:street\n"
     ]
    },
    {
     "name": "stderr",
     "output_type": "stream",
     "text": [
      "Processing:  18%|█▊        | 19200/106084 [00:25<01:55, 755.33it/s]"
     ]
    },
    {
     "name": "stdout",
     "output_type": "stream",
     "text": [
      "Espera Maré seamark:name\n",
      "Rua Humaitá addr:street\n",
      "Empresa Brasileira de Correios e Telégrafos brand\n",
      "Rua Humaitá addr:street\n",
      "Rua Jardim Botânico addr:street\n",
      "Rua Jardim Botânico addr:street\n",
      "Rua Jardim Botânico addr:street\n",
      "Rua Jardim Botânico addr:street\n",
      "pórtico bicycle_parking\n",
      "Rua São Clemente addr:street\n",
      "Petrópolis addr:city\n",
      "Petrópolis addr:city\n",
      "Cobal do Humaitá operator\n",
      "SãoGonçalo addr:city\n"
     ]
    },
    {
     "name": "stderr",
     "output_type": "stream",
     "text": [
      "Processing:  18%|█▊        | 19352/106084 [00:25<01:55, 750.16it/s]"
     ]
    },
    {
     "name": "stdout",
     "output_type": "stream",
     "text": [
      "Rio Radio (Sumaré) seamark:name\n"
     ]
    },
    {
     "name": "stderr",
     "output_type": "stream",
     "text": [
      "Processing:  18%|█▊        | 19581/106084 [00:26<01:54, 755.45it/s]"
     ]
    },
    {
     "name": "stdout",
     "output_type": "stream",
     "text": [
      "pt:Vulcão de Nova Iguaçu wikipedia\n",
      "Banco do Brasil - Agência Nova Cidade addr:housename\n",
      "Itaú Unibanco S/A - Agência Nova Cidade addr:housename\n",
      "Itaú Unibanco brand\n",
      "Morro das Pelôneas name:pt\n",
      "pt:Morro do Dendê wikipedia\n",
      "pórtico bicycle_parking\n",
      "Rua Xavier dos Pássaros addr:street\n",
      "Rua Jaime Perdigão addr:street\n",
      "Caixa Econômica Federal brand\n",
      "Rua São Francisco Xavier addr:street\n"
     ]
    },
    {
     "name": "stderr",
     "output_type": "stream",
     "text": [
      "Processing:  19%|█▊        | 19733/106084 [00:26<01:54, 754.94it/s]"
     ]
    },
    {
     "name": "stdout",
     "output_type": "stream",
     "text": [
      "Empresa Brasileira de Correios e Telégrafos operator\n",
      "Avenida Atlântica addr:street\n",
      "Rua Voluntários da Pátria addr:street\n",
      "Rua Pacheco Leão addr:street\n",
      "Rua Pacheco Leão addr:street\n",
      "Rua Pacheco Leão addr:street\n",
      "Rua Pacheco Leão addr:street\n",
      "Rua Pacheco Leão addr:street\n",
      "Rua Pacheco Leão addr:street\n",
      "Rua Pacheco Leão addr:street\n",
      "Rua Pacheco Leão addr:street\n",
      "Rua Pacheco Leão addr:street\n",
      "Rua Pacheco Leão addr:street\n",
      "Rua Pacheco Leão addr:street\n",
      "Rua Pacheco Leão addr:street\n",
      "Rua Pacheco Leão addr:street\n",
      "Rua Pacheco Leão addr:street\n",
      "Rua Pacheco Leão addr:street\n",
      "Rua Pacheco Leão addr:street\n",
      "Rua Marquês de Sabará addr:street\n",
      "Jardim Botânico addr:suburb\n",
      "Rua Jardim Botânico addr:street\n",
      "Jardim Botânico addr:suburb\n",
      "Jardim Botânico addr:suburb\n"
     ]
    },
    {
     "name": "stderr",
     "output_type": "stream",
     "text": [
      "Processing:  19%|█▉        | 19961/106084 [00:26<01:54, 752.26it/s]"
     ]
    },
    {
     "name": "stdout",
     "output_type": "stream",
     "text": [
      "Itaú Unibanco brand\n",
      "Shopping Nova América operator\n",
      "Rua Júlio de Castilhos addr:street\n",
      "Rua Humaitá addr:street\n",
      "Rua José Vicente addr:street\n",
      "Rua Barão de Itapagipe addr:street\n",
      "Rua Voluntários da Pátria addr:street\n",
      "Rua Voluntários da Pátria addr:street\n",
      "Rua Voluntários da Pátria addr:street\n",
      "Empresa Brasileira de Correios e Telégrafos operator\n",
      "Rua Voluntários da Pátria addr:street\n",
      "Rua Voluntários da Pátria addr:street\n",
      "Empresa Brasileira de Correios e Telégrafos operator\n",
      "Rua Voluntários da Pátria addr:street\n",
      "Rua Voluntários da Pátria addr:street\n",
      "Rua Voluntários da Pátria addr:street\n"
     ]
    },
    {
     "name": "stderr",
     "output_type": "stream",
     "text": [
      "Processing:  19%|█▉        | 20113/106084 [00:26<01:54, 748.89it/s]"
     ]
    },
    {
     "name": "stdout",
     "output_type": "stream",
     "text": [
      "Rua Voluntários da Pátria addr:street\n",
      "Rua Voluntários da Pátria addr:street\n",
      "Empresa Brasileira de Correios e Telégrafos brand\n",
      "Rua Voluntários da Pátria addr:street\n",
      "Rua Voluntários da Pátria addr:street\n",
      "Caixa Econômica Federal brand\n",
      "Rua Voluntários da Pátria addr:street\n",
      "Rua Voluntários da Pátria addr:street\n",
      "Rua Voluntários da Pátria addr:street\n",
      "Rua Voluntários da Pátria addr:street\n",
      "café_da_manhã;almoço;janta;lanches cuisine\n",
      "Rua Voluntários da Pátria addr:street\n",
      "Rua Voluntários da Pátria addr:street\n",
      "Empresa Brasileira de Correios e Telégrafos operator\n",
      "Rua Voluntários da Pátria addr:street\n",
      "Rua Voluntários da Pátria addr:street\n",
      "Itaú Unibanco brand\n",
      "Rua Voluntários da Pátria addr:street\n",
      "Caixa Econômica Federal brand\n",
      "Itaú Unibanco brand\n",
      "pt:Itaú Unibanco brand:wikipedia\n",
      "Rua Jardim Botânico addr:street\n",
      "Empresa Brasileira de Correios e Telégrafos brand\n",
      "Rua Conde de Irajá addr:street\n",
      "Caixa Econômica Federal brand\n"
     ]
    },
    {
     "name": "stderr",
     "output_type": "stream",
     "text": [
      "Processing:  19%|█▉        | 20496/106084 [00:27<01:52, 758.93it/s]"
     ]
    },
    {
     "name": "stdout",
     "output_type": "stream",
     "text": [
      "Rodovia Governador Mário Covas addr:street\n",
      "São João de Meriti addr:city\n",
      "Rua do Humaitá addr:street\n",
      "Estrada da Água Grande addr:street\n",
      "Itaú Unibanco brand\n",
      "Rua Algercira Alarcão Ferreira addr:street\n",
      "Rua Coronel Camisão addr:street\n"
     ]
    },
    {
     "name": "stderr",
     "output_type": "stream",
     "text": [
      "Processing:  19%|█▉        | 20649/106084 [00:27<01:55, 742.23it/s]"
     ]
    },
    {
     "name": "stdout",
     "output_type": "stream",
     "text": [
      "Itaú Unibanco brand\n",
      "pt:Itaú Unibanco brand:wikipedia\n",
      "Caixa Econômica Federal brand\n",
      "pt:Caixa Econômica Federal brand:wikipedia\n",
      "Rua Barão do Flamengo addr:street\n",
      "São Conrado Fashion Mall operator\n",
      "Rua São Clemente addr:street\n",
      "Rua André Cavalcanti addr:street\n",
      "Empresa Brasileira de Correios e Telégrafos operator\n",
      "Empresa Brasileira de Correios e Telégrafos brand\n",
      "Rua Jardim Botânico addr:street\n",
      "Itaú Unibanco brand\n",
      "Rua Jardim Botânico addr:street\n",
      "Jardim Botânico addr:suburb\n",
      "Rua Jardim Botânico addr:street\n",
      "Category:Monumento aos Heróis de Laguna e Dourados wikimedia_commons\n",
      "Rua Jardim Botânico addr:street\n",
      "Rua Jardim Botânico addr:street\n",
      "Rua Jardim Botânico addr:street\n",
      "Rua Jardim Botânico addr:street\n",
      "Rua Jardim Botânico addr:street\n"
     ]
    },
    {
     "name": "stderr",
     "output_type": "stream",
     "text": [
      "Processing:  20%|█▉        | 20801/106084 [00:27<01:53, 749.55it/s]"
     ]
    },
    {
     "name": "stdout",
     "output_type": "stream",
     "text": [
      "Personnalité branch\n",
      "Itaú Unibanco brand\n",
      "Rua Jardim Botânico addr:street\n",
      "Rua Jardim Botânico addr:street\n",
      "Rua Jardim Botânico addr:street\n",
      "Rua Visconde da Graça addr:street\n",
      "Rua Visconde da Graça addr:street\n",
      "Jardim Botânico addr:suburb\n",
      "Rua Visconde da Graça addr:street\n",
      "Rua Visconde da Graça addr:street\n",
      "a+ Medicina Diagnóstica brand\n",
      "Rua Jardim Botânico addr:street\n",
      "Rua Jardim Botânico addr:street\n",
      "Rua Jardim Botânico addr:street\n",
      "Empresa Brasileira de Correios e Telégrafos operator\n",
      "Rua Jardim Botânico addr:street\n",
      "Jardim Botânico addr:suburb\n",
      "Avenida Brás de Pina addr:street\n",
      "Estrada do Joá addr:street\n",
      "Rua Guaxupé addr:street\n"
     ]
    },
    {
     "name": "stderr",
     "output_type": "stream",
     "text": [
      "Processing:  20%|█▉        | 21029/106084 [00:28<01:52, 754.08it/s]"
     ]
    },
    {
     "name": "stdout",
     "output_type": "stream",
     "text": [
      "Avenida Nilo Peçanha addr:street\n",
      "Avenida Lauro Sodré addr:street\n",
      "Morro da Caixa d'Água alt_name\n",
      "Morro do Chapadão alt_name\n"
     ]
    },
    {
     "name": "stderr",
     "output_type": "stream",
     "text": [
      "Processing:  20%|█▉        | 21182/106084 [00:28<01:52, 753.52it/s]"
     ]
    },
    {
     "name": "stdout",
     "output_type": "stream",
     "text": [
      "Avenida Monsenhor Félix addr:street\n",
      "Rio Irajá agency_name\n",
      "Itaú Unibanco brand\n",
      "pt:Itaú Unibanco brand:wikipedia\n",
      "Itaú Unibanco brand\n",
      "pt:Itaú Unibanco brand:wikipedia\n",
      "Rua Bulhões Marcial addr:street\n",
      "Itaú Unibanco brand\n",
      "pt:Itaú Unibanco brand:wikipedia\n",
      "Itaú Unibanco brand\n",
      "pt:Itaú Unibanco brand:wikipedia\n",
      "Avenida Brás de Pina addr:street\n",
      "Itaú Unibanco brand\n",
      "pt:Itaú Unibanco, brand:wikipedia\n",
      "Avenida Brás de Pina addr:street\n",
      "Avenida Brás de Pina addr:street\n",
      "Itaú Unibanco brand\n",
      "pt:Itaú Unibanco brand:wikipedia\n",
      "Rua da Abolição addr:street\n",
      "Rio Abolição agency_name\n",
      "Itaú Unibanco brand\n",
      "Itaú Unibanco brand\n",
      "Avenida Cônego Vasconcelo addr:street\n",
      "Rio Cônego agency_name\n",
      "Itaú Unibanco brand\n",
      "Avenida São Félix addr:street\n",
      "Rua Marquês de Abrantes addr:street\n",
      "Rua Marquês de Abrantes addr:street\n",
      "Méier addr:suburb\n"
     ]
    },
    {
     "name": "stderr",
     "output_type": "stream",
     "text": [
      "Processing:  20%|██        | 21412/106084 [00:28<01:51, 756.13it/s]"
     ]
    },
    {
     "name": "stdout",
     "output_type": "stream",
     "text": [
      "Praça Agripino Griecco local_ref\n",
      "Agência description\n"
     ]
    },
    {
     "name": "stderr",
     "output_type": "stream",
     "text": [
      "Processing:  21%|██        | 21792/106084 [00:29<01:52, 748.71it/s]"
     ]
    },
    {
     "name": "stdout",
     "output_type": "stream",
     "text": [
      "Estação Engenho de Dentro local_ref\n",
      "Posto de Saúde local_ref\n",
      "Bradesco / Shopping do Méier local_ref\n",
      "Estação Méier local_ref\n",
      "Itaú Unibanco brand\n",
      "pt:Itaú Unibanco brand:wikipedia\n",
      "Itaú Unibanco brand\n",
      "pt:Itaú Unibanco brand:wikipedia\n",
      "Caixa Econômica Federal brand\n",
      "pt:Caixa Econômica Federal brand:wikipedia\n",
      "Itaú Unibanco brand\n",
      "pt:Itaú Unibanco brand:wikipedia\n",
      "Itaú Unibanco brand\n",
      "pt:Itaú Unibanco brand:wikipedia\n",
      "Itaú Unibanco brand\n",
      "Itaú / Santander local_ref\n",
      "Itaú Unibanco brand\n"
     ]
    },
    {
     "name": "stderr",
     "output_type": "stream",
     "text": [
      "Processing:  21%|██        | 21944/106084 [00:29<01:51, 751.62it/s]"
     ]
    },
    {
     "name": "stdout",
     "output_type": "stream",
     "text": [
      "Avenida Epitácio Pessoa addr:street\n",
      "Itaú Unibanco brand\n",
      "Teresópolis addr:city\n",
      "Rua Olegário Bernardes addr:street\n",
      "Várzea addr:suburb\n",
      "Teresópolis addr:city\n",
      "Várzea addr:suburb\n"
     ]
    },
    {
     "name": "stderr",
     "output_type": "stream",
     "text": [
      "Processing:  21%|██        | 22096/106084 [00:29<01:52, 747.06it/s]"
     ]
    },
    {
     "name": "stdout",
     "output_type": "stream",
     "text": [
      "Itaú Unibanco brand\n",
      "Citroën brand\n",
      "Citroën operator\n",
      "pt:Estação Central do Brasil (Teleférico da Providência) wikipedia\n"
     ]
    },
    {
     "name": "stderr",
     "output_type": "stream",
     "text": [
      "Processing:  21%|██        | 22247/106084 [00:29<01:52, 745.03it/s]"
     ]
    },
    {
     "name": "stdout",
     "output_type": "stream",
     "text": [
      "Empresa Brasileira de Correios e Telégrafos operator\n",
      "Praça Demétrio Ribeiro addr:street\n",
      "Empresa Brasileira de Correios e Telégrafos operator\n",
      "Empresa Brasileira de Correios e Telégrafos brand\n",
      "Rio Metrô Cardeal Arcoverde agency_name\n",
      "Itaú Unibanco brand\n",
      "Itaú Unibanco brand\n",
      "Atalaia dos jesuítas old_name\n"
     ]
    },
    {
     "name": "stderr",
     "output_type": "stream",
     "text": [
      "Processing:  21%|██        | 22475/106084 [00:30<01:51, 748.25it/s]"
     ]
    },
    {
     "name": "stdout",
     "output_type": "stream",
     "text": [
      "pt:Estação Corte 8 wikipedia\n",
      "pt:Estação Citrolândia wikipedia\n",
      "pt:Estação Jororó wikipedia\n",
      "pt:Estação Jardim Nova Marília wikipedia\n",
      "Estrada do Colégio addr:street\n",
      "Avenida Brás de Pina addr:street\n",
      "Avenida Brás de Pina addr:street\n",
      "Avenida Brás de Pina addr:street\n",
      "Avenida Brás de Pina addr:street\n",
      "Avenida Brás de Pina addr:street\n",
      "Avenida Brás de Pina addr:street\n",
      "Avenida Brás de Pina addr:street\n",
      "Avenida Brás de Pina addr:street\n",
      "Avenida Brás de Pina addr:street\n",
      "Avenida Brás de Pina addr:street\n",
      "Caixa Econômica Federal brand\n",
      "pt:Caixa Econômica Federal brand:wikipedia\n",
      "Agência Vista Alegre description\n",
      "Avenida Brás de Pina addr:street\n",
      "Avenida Brás de Pina addr:street\n",
      "Decreto que Amplia a Estação Ecológica do Taim - área 2 description\n",
      "Decreto que Amplia a Estação Ecológica do Taim - área 2 description\n",
      "Centro de Convenções SulAmérica operator\n",
      "Avenida Otávio Malta addr:street\n",
      "Gardênia Azul addr:suburb\n",
      "Partido Político description\n"
     ]
    },
    {
     "name": "stderr",
     "output_type": "stream",
     "text": [
      "Processing:  21%|██▏       | 22780/106084 [00:30<01:51, 749.99it/s]"
     ]
    },
    {
     "name": "stdout",
     "output_type": "stream",
     "text": [
      "Dois Irmãos; Cara de Velho alt_name\n",
      "Rua César Zama addr:street\n",
      "Monumento cedido pelo governo do Irã ao Brasil. description\n",
      "Rua Ceará addr:street\n",
      "Largo João da Baiana addr:street\n",
      "Avenida Mem de Sá addr:street\n",
      "Estrada do Colégio addr:street\n",
      "Itaú Unibanco brand\n"
     ]
    },
    {
     "name": "stderr",
     "output_type": "stream",
     "text": [
      "Processing:  22%|██▏       | 23008/106084 [00:30<01:50, 749.70it/s]"
     ]
    },
    {
     "name": "stdout",
     "output_type": "stream",
     "text": [
      "Avenida Brás de Pina addr:street\n",
      "Avenida Brás de Pina addr:street\n",
      "Avenida Brás de Pina addr:street\n",
      "Avenida Brás de Pina addr:street\n",
      "Avenida Brás de Pina addr:street\n",
      "Avenida Brás de Pina addr:street\n",
      "Avenida Brás de Pina addr:street\n",
      "Avenida Brás de Pina addr:street\n",
      "Avenida Brás de Pina addr:street\n",
      "Avenida Brás de Pina addr:street\n",
      "Avenida Brás de Pina addr:street\n",
      "Avenida Brás de Pina addr:street\n",
      "Rua Engenheiro Luiz Gastão addr:street\n",
      "Tribobó local_ref\n"
     ]
    },
    {
     "name": "stderr",
     "output_type": "stream",
     "text": [
      "Processing:  22%|██▏       | 23236/106084 [00:31<01:49, 753.33it/s]"
     ]
    },
    {
     "name": "stdout",
     "output_type": "stream",
     "text": [
      "Prédio histórico description\n",
      "Praça São João Berchmans addr:street\n",
      "Praça São João Berchmans addr:street\n",
      "Rua Capitão Cruz addr:street\n",
      "Niterói addr:city\n",
      "Ingá addr:suburb\n",
      "Estrada da Gávea addr:street\n",
      "Caixa Econômica Federal brand\n",
      "Rua Salinópolis addr:street\n",
      "Vigário Geral addr:suburb\n",
      "Condomínio Maraville addr:housename\n",
      "Condomínio Maraville addr:housename\n",
      "Rua Humaitá addr:street\n"
     ]
    },
    {
     "name": "stderr",
     "output_type": "stream",
     "text": [
      "Processing:  22%|██▏       | 23388/106084 [00:31<01:49, 751.78it/s]"
     ]
    },
    {
     "name": "stdout",
     "output_type": "stream",
     "text": [
      "Itaú Unibanco brand\n",
      "Pensão da Baiana name:pt\n",
      "Rua Vinícius de Moraes addr:street\n",
      "Rua Vinícius de Moraes addr:street\n",
      "Rua Joana Angélica addr:street\n",
      "Rua Aníbal de Mendonça addr:street\n",
      "Setrans Segurança e Trânsito operator\n",
      "Setrans Segurança e Trânsito operator\n",
      "Setrans Segurança e Trânsito operator\n",
      "Setrans Segurança e Trânsito operator\n",
      "Setrans Segurança e Trânsito operator\n",
      "Setrans Segurança e Trânsito operator\n",
      "Rua Voluntários da Pátria addr:street\n",
      "Rua Capitão Salomão addr:street\n",
      "Loja estava fechada na ocasião do mapeamento note:pt\n",
      "Rua Conde de Irajá addr:street\n",
      "Rua Conde de Irajá addr:street\n",
      "Rua Conde de Irajá addr:street\n",
      "Rua Voluntários da Pátria addr:street\n",
      "Rua Conde de Irajá addr:street\n",
      "Rua Conde de Irajá addr:street\n",
      "Rua Voluntários da Pátria addr:street\n"
     ]
    },
    {
     "name": "stderr",
     "output_type": "stream",
     "text": [
      "Processing:  22%|██▏       | 23541/106084 [00:31<01:49, 755.96it/s]"
     ]
    },
    {
     "name": "stdout",
     "output_type": "stream",
     "text": [
      "Rua Voluntários da Pátria addr:street\n",
      "Especializado em comida árabe description\n",
      "Empresa Brasileira de Correios e Telégrafos operator\n",
      "Avenida Mem de Sá addr:street\n",
      "Avenida Mem de Sá addr:street\n",
      "Millôr inscription\n"
     ]
    },
    {
     "name": "stderr",
     "output_type": "stream",
     "text": [
      "Processing:  22%|██▏       | 23693/106084 [00:31<01:49, 753.63it/s]"
     ]
    },
    {
     "name": "stdout",
     "output_type": "stream",
     "text": [
      "São Pedro old_name\n",
      "Associação dos Taifeiros da Armada official_name\n",
      "Edifício Vista Soberba addr:housename\n",
      "alexandre imóveis shop\n",
      "basílio imóveis shop\n",
      "Gráfica shop\n",
      "Imóveis shop\n",
      "Imóveis shop\n",
      "Imóveis shop\n",
      "Colchões shop\n"
     ]
    },
    {
     "name": "stderr",
     "output_type": "stream",
     "text": [
      "Processing:  23%|██▎       | 23921/106084 [00:32<01:49, 752.01it/s]"
     ]
    },
    {
     "name": "stdout",
     "output_type": "stream",
     "text": [
      "Autopista Régis operator\n",
      "Autopista Régis operator\n",
      "Itaú Unibanco brand\n",
      "João Figueiras Lima;Romeu Alves artist_name\n",
      "Rua General José Cristino addr:street\n",
      "São Cristóvão addr:suburb\n",
      "Rua Antônio João addr:street\n",
      "Espaço de Desenvolvimento Infantil Deputado Pedro Fernandes operator\n",
      "Rua Senador Camará addr:street\n"
     ]
    },
    {
     "name": "stderr",
     "output_type": "stream",
     "text": [
      "Processing:  23%|██▎       | 24073/106084 [00:32<01:49, 750.31it/s]"
     ]
    },
    {
     "name": "stdout",
     "output_type": "stream",
     "text": [
      "Rua Capitão Rezende addr:street\n",
      "Rua Barão de Mesquita addr:street\n"
     ]
    },
    {
     "name": "stderr",
     "output_type": "stream",
     "text": [
      "Processing:  23%|██▎       | 24377/106084 [00:32<01:49, 744.56it/s]"
     ]
    },
    {
     "name": "stdout",
     "output_type": "stream",
     "text": [
      "Praça Marco Aurélio addr:street\n",
      "Niterói addr:city\n",
      "Niterói addr:city\n",
      "Rua Barão de Itapagipe addr:street\n",
      "Drogaria Venâncio operator\n",
      "Rua Jardim Botânico addr:street\n",
      "Rua Jardim Botânico addr:street\n",
      "Rua Jardim Botânico addr:street\n",
      "Rua Jardim Botânico addr:street\n",
      "Rua Jardim Botânico addr:street\n",
      "Rua Jardim Botânico addr:street\n",
      "Rua Jardim Botânico addr:street\n",
      "Rua Voluntários da Pátria addr:street\n",
      "Rua Voluntários da Pátria addr:street\n",
      "Rua Voluntários da Pátria addr:street\n",
      "Rua Voluntários da Pátria addr:street\n"
     ]
    },
    {
     "name": "stderr",
     "output_type": "stream",
     "text": [
      "Processing:  23%|██▎       | 24528/106084 [00:32<01:48, 748.35it/s]"
     ]
    },
    {
     "name": "stdout",
     "output_type": "stream",
     "text": [
      "Rua Barão de São Félix addr:street\n",
      "Area frequentemente utilizada para Tai Chi Chuan mas é espaço de uso comum description\n",
      "Nova Iguaçu addr:city\n"
     ]
    },
    {
     "name": "stderr",
     "output_type": "stream",
     "text": [
      "Processing:  23%|██▎       | 24901/106084 [00:33<01:52, 720.32it/s]"
     ]
    },
    {
     "name": "stdout",
     "output_type": "stream",
     "text": [
      "Estrada da Água Grande addr:street\n",
      "Estrada da Água Grande addr:street\n",
      "Estrada da Água Grande addr:street\n",
      "Avenida Brás de Pina addr:street\n",
      "Avenida Brás de Pina addr:street\n",
      "Avenida Brás de Pina addr:street\n",
      "Avenida Brás de Pina addr:street\n",
      "Avenida Brás de Pina addr:street\n",
      "Rua Petrolândia addr:street\n",
      "Rua Petrolândia addr:street\n",
      "Rua Petrolândia addr:street\n",
      "Rua Petrolândia addr:street\n",
      "Rua Petrolândia addr:street\n",
      "Rua Petrolândia addr:street\n",
      "Rua Petrolândia addr:street\n",
      "Rua Petrolândia addr:street\n",
      "Rua Petrolândia addr:street\n",
      "Rua Petrolândia addr:street\n",
      "Rua Petrolândia addr:street\n",
      "Rua Petrolândia addr:street\n",
      "Rua Custódia addr:street\n",
      "Rua Custódia addr:street\n",
      "Rua Custódia addr:street\n",
      "Rua Custódia addr:street\n",
      "Rua Custódia addr:street\n",
      "Rua Custódia addr:street\n",
      "Rua Custódia addr:street\n",
      "Rua Custódia addr:street\n",
      "Rua Custódia addr:street\n",
      "Rua Custódia addr:street\n",
      "Rua Custódia addr:street\n",
      "Rua Custódia addr:street\n",
      "Rua Florânia addr:street\n",
      "Rua Florânia addr:street\n",
      "Rua Florânia addr:street\n",
      "Rua Florânia addr:street\n",
      "Rua Florânia addr:street\n",
      "Rua Florânia addr:street\n",
      "Rua Florânia addr:street\n",
      "Rua Florânia addr:street\n",
      "Rua Florânia addr:street\n",
      "Rua Florânia addr:street\n",
      "Rua Florânia addr:street\n",
      "Rua Florânia addr:street\n",
      "Rua Ponta-Porã addr:street\n",
      "Rua Ponta-Porã addr:street\n",
      "Rua Ponta-Porã addr:street\n",
      "Rua Ponta-Porã addr:street\n",
      "Rua Ponta-Porã addr:street\n",
      "Rua Ponta-Porã addr:street\n",
      "Rua Ponta-Porã addr:street\n",
      "Rua Ponta-Porã addr:street\n",
      "Rua Jornalista Clovis Gusmão addr:street\n",
      "Rua Jornalista Clovis Gusmão addr:street\n",
      "Rua Jornalista Clovis Gusmão addr:street\n",
      "Rua Jornalista Clovis Gusmão addr:street\n",
      "Rua Professor João Massena addr:street\n",
      "Rua Professor João Massena addr:street\n",
      "Rua Professor João Massena addr:street\n",
      "Rua Professor João Massena addr:street\n",
      "Rua Professor João Massena addr:street\n",
      "Rua Professor João Massena addr:street\n",
      "Rua Professor João Massena addr:street\n",
      "Rua Professor João Massena addr:street\n",
      "Bonzão name:pt\n",
      "Empresa Brasileira de Correios e Telégrafos brand\n"
     ]
    },
    {
     "name": "stderr",
     "output_type": "stream",
     "text": [
      "Processing:  24%|██▎       | 25126/106084 [00:33<01:50, 734.55it/s]"
     ]
    },
    {
     "name": "stdout",
     "output_type": "stream",
     "text": [
      "Consulado General de México name:es\n",
      "Niterói addr:city\n",
      "Rua Mem de Sá addr:street\n",
      "Rua Mem de Sá addr:street\n",
      "Niterói addr:city\n",
      "Rua Mem de Sá addr:street\n",
      "Niterói addr:city\n",
      "Itaú Unibanco brand\n",
      "Itaú Unibanco brand\n",
      "pt:Itaú Unibanco brand:wikipedia\n",
      "Itaú Unibanco brand\n",
      "Caixa Econômica Federal brand\n",
      "Niterói addr:city\n",
      "Avenida Mem de Sá addr:street\n",
      "Praça Tiradentes addr:street\n"
     ]
    },
    {
     "name": "stderr",
     "output_type": "stream",
     "text": [
      "Processing:  24%|██▍       | 25349/106084 [00:33<01:50, 730.23it/s]"
     ]
    },
    {
     "name": "stdout",
     "output_type": "stream",
     "text": [
      "ja:日産自動車 brand:wikipedia\n",
      "MetrôRio operator\n",
      "No mezanino da estação de metrô (área gratuita) note:pt\n",
      "No mezanino da estação de metrô (área gratuita) note:pt\n",
      "No mezanino da estação de metrô (área gratuita) note:pt\n",
      "No mezanino da estação de metrô (área paga) note:pt\n",
      "No mezanino da estação de metrô (área paga) note:pt\n",
      "MetrôRio operator\n",
      "No mezanino da estação de metrô (área paga) note:pt\n",
      "No mezanino da estação de metrô (área gratuita) note:pt\n",
      "No mezanino da estação de metrô (área paga) note:pt\n",
      "No mezanino da estação de metrô (área paga) note:pt\n",
      "É \\Direitos Humano\\ mesmo, não \\Direitos Humanos\\. note:pt\n",
      "Avenida Brás de Pina addr:street\n"
     ]
    },
    {
     "name": "stderr",
     "output_type": "stream",
     "text": [
      "Processing:  24%|██▍       | 25497/106084 [00:34<01:50, 730.17it/s]"
     ]
    },
    {
     "name": "stdout",
     "output_type": "stream",
     "text": [
      "Rua Almirante Tamandaré addr:street\n",
      "Na Plataforma 13N, área paga da estação Central do Brasil note:pt\n",
      "Bradesco; Itaú operator\n",
      "pórtico bicycle_parking\n",
      "pórtico bicycle_parking\n",
      "Rua Humaitá addr:street\n",
      "Rua Doutor Salomão Vergueiro da Cruz addr:street\n",
      "Rua Nossa Senhora das Graças addr:street\n",
      "Travessa Beltrão addr:street\n",
      "Niterói addr:city\n",
      "Niterói addr:city\n",
      "Rua Tenente Osório addr:street\n",
      "Niterói addr:city\n",
      "Rua Tenente Osório addr:street\n",
      "Niterói addr:city\n",
      "Rua Tenente Osório addr:street\n",
      "Niterói addr:city\n",
      "Rua Tenente Osório addr:street\n",
      "Niterói addr:city\n",
      "Niterói addr:city\n"
     ]
    },
    {
     "name": "stderr",
     "output_type": "stream",
     "text": [
      "Processing:  24%|██▍       | 25646/106084 [00:34<01:49, 735.58it/s]"
     ]
    },
    {
     "name": "stdout",
     "output_type": "stream",
     "text": [
      "Niterói addr:city\n",
      "Niterói addr:city\n",
      "Rua João Dalossi addr:street\n",
      "Niterói addr:city\n",
      "Niterói addr:city\n",
      "São Francisco addr:suburb\n",
      "Niterói addr:city\n",
      "Avenida Quintino Bocaiúva addr:street\n",
      "São Francisco addr:suburb\n",
      "Empresa Brasileira de Correios e Telégrafos brand\n",
      "Niterói addr:city\n",
      "Niterói addr:city\n",
      "Avenida Quintino Bocaiúva addr:street\n",
      "Niterói addr:city\n",
      "Niterói addr:city\n",
      "Alameda Jandira Fróes addr:street\n",
      "Niterói addr:city\n",
      "Niterói addr:city\n",
      "Niterói addr:city\n",
      "Rua Três addr:street\n",
      "Niterói addr:city\n",
      "Rua Engenheiro Carlos Álvaro Quintela addr:street\n",
      "Niterói addr:city\n",
      "Rua Demócrito da Cunha Silveira addr:street\n",
      "Niterói addr:city\n",
      "Niterói addr:city\n",
      "Niterói addr:city\n",
      "Niterói addr:city\n",
      "Niterói addr:city\n",
      "Niterói addr:city\n",
      "Praça Dom Agostinho Benassi addr:street\n",
      "Niterói addr:city\n",
      "Rua Tenente Osório addr:street\n",
      "Niterói addr:city\n",
      "Niterói addr:city\n",
      "Niterói addr:city\n",
      "Niterói addr:city\n",
      "Niterói addr:city\n",
      "Santa Bárbara addr:suburb\n",
      "Niterói addr:city\n",
      "Estrada Velha de Maricá addr:street\n",
      "Niterói addr:city\n",
      "Niterói addr:city\n",
      "Rua Magnólia Brasil addr:street\n",
      "Niterói addr:city\n",
      "Rua Magnólia Brasil addr:street\n",
      "Niterói addr:city\n",
      "Niterói addr:city\n",
      "Niterói addr:city\n",
      "Niterói addr:city\n",
      "Niterói addr:city\n",
      "Niterói addr:city\n",
      "Rua Professor José Peçanha addr:street\n",
      "Niterói addr:city\n",
      "Rua Professor José Peçanha addr:street\n",
      "Niterói addr:city\n",
      "Estrada Celso Peçanha addr:street\n",
      "Niterói addr:city\n",
      "Estrada do Sapê addr:street\n",
      "Niterói addr:city\n",
      "Niterói addr:city\n",
      "Niterói addr:city\n",
      "Niterói addr:city\n",
      "Rua Galvão addr:street\n",
      "Niterói addr:city\n",
      "Niterói addr:city\n",
      "Niterói addr:city\n",
      "Niterói addr:city\n",
      "Niterói addr:city\n",
      "Niterói addr:city\n",
      "Niterói addr:city\n",
      "Rua José Bonifácio addr:street\n",
      "Niterói addr:city\n",
      "Niterói addr:city\n",
      "Rua Doutor Cícero Barreto addr:street\n",
      "Niterói addr:city\n",
      "Travessa Emílio Andrada addr:street\n",
      "Niterói addr:city\n",
      "Niterói addr:city\n",
      "Estrada Viçoso Jardim addr:street\n",
      "Niterói addr:city\n",
      "Niterói addr:city\n",
      "Niterói addr:city\n",
      "Niterói addr:city\n",
      "Rua Visconde de Itaboraí addr:street\n",
      "Niterói addr:city\n",
      "Avenida Doutor Acúrcio Torres addr:street\n",
      "Niterói addr:city\n",
      "Rua Doutor Cícero Barreto addr:street\n",
      "Niterói addr:city\n",
      "Rua São Caetano addr:street\n",
      "Niterói addr:city\n",
      "Niterói addr:city\n",
      "Niterói addr:city\n",
      "Niterói addr:city\n",
      "Niterói addr:city\n",
      "Rua Itaguaí addr:street\n",
      "Niterói addr:city\n",
      "Niterói addr:city\n",
      "Rua Doutor Araújo Pimenta addr:street\n",
      "Niterói addr:city\n",
      "Niterói addr:city\n",
      "Niterói addr:city\n",
      "Rua Doutor Mário Vianna addr:street\n",
      "Niterói addr:city\n",
      "Alameda São Boaventura addr:street\n"
     ]
    },
    {
     "name": "stderr",
     "output_type": "stream",
     "text": [
      "Processing:  24%|██▍       | 25798/106084 [00:34<01:47, 744.78it/s]"
     ]
    },
    {
     "name": "stdout",
     "output_type": "stream",
     "text": [
      "pt:Xerém (Duque de Caxias) wikipedia\n",
      "Niterói addr:city\n",
      "São Gonçalo addr:city\n",
      "São Gonçalo addr:city\n",
      "Estrada de Itaúna addr:street\n",
      "São Gonçalo addr:city\n",
      "Rua Lúcio Tomé Feteira addr:street\n",
      "Niterói addr:city\n",
      "Rua Noronha Torrezão addr:street\n",
      "Rua Barão do Bom Retiro addr:street\n"
     ]
    },
    {
     "name": "stderr",
     "output_type": "stream",
     "text": [
      "Processing:  25%|██▍       | 26486/106084 [00:35<01:45, 757.62it/s]"
     ]
    },
    {
     "name": "stdout",
     "output_type": "stream",
     "text": [
      "Rodovia Rio x Teresópolis addr:street\n",
      "Itaú Unibanco brand\n",
      "Aquatop Escola de Natação e Hidroginástica addr:housename\n",
      "Rua Barão de São Félix addr:street\n",
      "Ocupação de sem-tetos de antigo prédio do INSS, abandonado por décadas description\n",
      "en:Barreto, Niterói wikipedia\n",
      "Cafubá addr:city\n",
      "Rua Doutor Heleno de Gregório addr:street\n",
      "Gávea addr:suburb\n",
      "Rua José Roberto Macedo Soares addr:street\n",
      "Gávea addr:suburb\n"
     ]
    },
    {
     "name": "stderr",
     "output_type": "stream",
     "text": [
      "Processing:  25%|██▌       | 26638/106084 [00:35<01:45, 753.30it/s]"
     ]
    },
    {
     "name": "stdout",
     "output_type": "stream",
     "text": [
      "Rua São Clemente addr:street\n",
      "Rua São Clemente addr:street\n",
      "Rua Condé de Irajá addr:street\n",
      "Rua Voluntários da Pátria addr:street\n",
      "Rua Barão de Mesquita addr:street\n",
      "Rua Barão de Mesquita addr:street\n",
      "Rua Barão de Mesquita addr:street\n",
      "Colégio Antares operator\n",
      "Rua São Clemente addr:street\n",
      "Rua Sérgio de Carvalho addr:street\n",
      "Rua São Miguel addr:street\n",
      "Rua Arco Íris addr:street\n",
      "Itaú Unibanco brand\n",
      "pt:Itaú Unibanco brand:wikipedia\n",
      "Itaú Unibanco brand\n",
      "pt:Itaú Unibanco brand:wikipedia\n"
     ]
    },
    {
     "name": "stderr",
     "output_type": "stream",
     "text": [
      "Processing:  25%|██▌       | 26790/106084 [00:35<01:45, 749.61it/s]"
     ]
    },
    {
     "name": "stdout",
     "output_type": "stream",
     "text": [
      "Estrada do Sumaré addr:street\n",
      "Rua Santo Estêvam addr:street\n",
      "Posto de Orientação Urbanística Social da Prefeitura da Cidade do Rio de Janeiro. description\n",
      "Rua Voluntários da Pátria addr:street\n",
      "Caelum Ensino e Inovação official_name\n",
      "Metrô Pavuna description\n",
      "Metrô Pavuna description\n",
      "Rua Capitão Cruz addr:street\n",
      "Estrada de Jacarepaguá addr:street\n",
      "Niterói addr:city\n"
     ]
    },
    {
     "name": "stderr",
     "output_type": "stream",
     "text": [
      "Processing:  25%|██▌       | 26940/106084 [00:36<01:46, 745.13it/s]"
     ]
    },
    {
     "name": "stdout",
     "output_type": "stream",
     "text": [
      "Apetite Café addr:housename\n",
      "Café,_deli_e_padaria cuisine\n",
      "Itaú Unibanco brand\n",
      "Caixa Econômica Federal brand\n",
      "Niterói addr:city\n",
      "São Gonçalo addr:city\n",
      "São Gonçalo addr:city\n",
      "São Gonçalo addr:city\n",
      "São Gonçalo addr:city\n",
      "Polícia Militar do Estado do Rio de Janeiro operator\n",
      "Rua da Alfândega addr:street\n"
     ]
    },
    {
     "name": "stderr",
     "output_type": "stream",
     "text": [
      "Processing:  26%|██▋       | 28077/106084 [00:37<01:44, 748.35it/s]"
     ]
    },
    {
     "name": "stdout",
     "output_type": "stream",
     "text": [
      "Rua Cândido Gaffrée addr:street\n",
      "Rua Angaí addr:street\n",
      "Itaú Unibanco brand\n"
     ]
    },
    {
     "name": "stderr",
     "output_type": "stream",
     "text": [
      "Processing:  27%|██▋       | 28229/106084 [00:37<01:43, 750.55it/s]"
     ]
    },
    {
     "name": "stdout",
     "output_type": "stream",
     "text": [
      "Rua Sá Ferreira addr:street\n",
      "Niterói addr:city\n",
      "Rua Marquês de Caxias addr:street\n"
     ]
    },
    {
     "name": "stderr",
     "output_type": "stream",
     "text": [
      "Processing:  27%|██▋       | 28381/106084 [00:38<01:43, 750.55it/s]"
     ]
    },
    {
     "name": "stdout",
     "output_type": "stream",
     "text": [
      "São Gonçalo addr:city\n",
      "Caixa Econômica Federal brand\n",
      "Empresa Brasileira de Correios e Telégrafos brand\n",
      "Av. Erasmo Braga, 118 - 6º andar - Centro - Rio de Janeiro - RJ addr:full\n"
     ]
    },
    {
     "name": "stderr",
     "output_type": "stream",
     "text": [
      "Processing:  27%|██▋       | 28609/106084 [00:38<01:43, 746.87it/s]"
     ]
    },
    {
     "name": "stdout",
     "output_type": "stream",
     "text": [
      "Itaú Unibanco brand\n",
      "pt:Itaú Unibanco brand:wikipedia\n",
      "Rua Rafael Paixão addr:street\n",
      "Rua Rafael Paixão addr:street\n",
      "Rua Rafael Paixão addr:street\n",
      "Rua Rafael Paixão addr:street\n",
      "Rua Rafael Paixão addr:street\n",
      "Rua Rafael Paixão addr:street\n"
     ]
    },
    {
     "name": "stderr",
     "output_type": "stream",
     "text": [
      "Processing:  27%|██▋       | 28838/106084 [00:38<01:42, 751.59it/s]"
     ]
    },
    {
     "name": "stdout",
     "output_type": "stream",
     "text": [
      "Rua Rivadávia Campos addr:street\n",
      "Rua Rivadávia Campos addr:street\n",
      "Rua Rivadávia Campos addr:street\n",
      "Rua Rivadávia Campos addr:street\n",
      "Rua Rivadávia Campos addr:street\n",
      "Rua Rivadávia Campos addr:street\n",
      "Rua Rivadávia Campos addr:street\n",
      "Rua Rivadávia Campos addr:street\n",
      "Rua Rivadávia Campos addr:street\n",
      "Rua Rivadávia Campos addr:street\n",
      "Rua Rivadávia Campos addr:street\n",
      "Rua Rivadávia Campos addr:street\n",
      "Avenida das Américas addr:street\n",
      "Avenida das Américas addr:street\n",
      "Avenida das Américas addr:street\n",
      "Avenida das Américas addr:street\n",
      "Avenida das Américas addr:street\n",
      "Avenida das Américas addr:street\n",
      "Avenida das Américas addr:street\n",
      "Avenida das Américas addr:street\n",
      "Avenida das Américas addr:street\n",
      "Avenida das Américas addr:street\n",
      "Avenida das Américas addr:street\n",
      "Avenida das Américas addr:street\n",
      "Avenida das Américas addr:street\n",
      "Avenida das Américas addr:street\n",
      "Avenida das Américas addr:street\n",
      "Avenida das Américas addr:street\n",
      "Avenida das Américas addr:street\n",
      "Avenida das Américas addr:street\n",
      "Avenida das Américas addr:street\n",
      "Avenida das Américas addr:street\n",
      "Avenida das Américas addr:street\n",
      "Avenida das Américas addr:street\n",
      "Avenida das Américas addr:street\n",
      "Avenida das Américas addr:street\n",
      "Avenida das Américas addr:street\n",
      "Avenida das Américas addr:street\n",
      "Avenida das Américas addr:street\n",
      "Avenida das Américas addr:street\n",
      "Avenida das Américas addr:street\n",
      "Avenida das Américas addr:street\n",
      "Avenida das Américas addr:street\n",
      "Avenida das Américas addr:street\n",
      "Avenida das Américas addr:street\n",
      "Avenida das Américas addr:street\n",
      "Avenida das Américas addr:street\n",
      "Avenida das Américas addr:street\n",
      "Avenida das Américas addr:street\n",
      "Avenida das Américas addr:street\n",
      "Avenida das Américas addr:street\n",
      "Avenida das Américas addr:street\n",
      "Avenida das Américas addr:street\n",
      "Avenida das Américas addr:street\n",
      "Avenida das Américas addr:street\n",
      "Avenida das Américas addr:street\n",
      "Avenida das Américas addr:street\n",
      "Avenida das Américas addr:street\n",
      "Avenida das Américas addr:street\n",
      "Avenida das Américas addr:street\n",
      "Avenida das Américas addr:street\n",
      "Avenida das Américas addr:street\n",
      "Avenida das Américas addr:street\n",
      "Avenida das Américas addr:street\n",
      "Avenida das Américas addr:street\n",
      "Avenida das Américas addr:street\n",
      "Avenida das Américas addr:street\n",
      "Avenida das Américas addr:street\n",
      "Avenida das Américas addr:street\n",
      "Avenida das Américas addr:street\n",
      "Avenida das Américas addr:street\n",
      "Avenida das Américas addr:street\n",
      "Avenida das Américas addr:street\n",
      "Avenida das Américas addr:street\n",
      "Avenida das Américas addr:street\n",
      "Avenida das Américas addr:street\n",
      "Avenida das Américas addr:street\n",
      "Avenida das Américas addr:street\n",
      "Avenida das Américas addr:street\n",
      "Avenida das Américas addr:street\n",
      "Avenida das Américas addr:street\n",
      "Avenida das Américas addr:street\n",
      "Avenida das Américas addr:street\n",
      "Avenida das Américas addr:street\n",
      "Avenida das Américas addr:street\n",
      "Avenida das Américas addr:street\n",
      "Avenida das Américas addr:street\n",
      "Avenida das Américas addr:street\n",
      "Avenida das Américas addr:street\n",
      "Avenida das Américas addr:street\n",
      "Avenida das Américas addr:street\n",
      "Avenida das Américas addr:street\n",
      "Avenida das Américas addr:street\n",
      "Avenida das Américas addr:street\n",
      "Avenida das Américas addr:street\n",
      "Avenida das Américas addr:street\n",
      "Avenida das Américas addr:street\n",
      "Avenida das Américas addr:street\n",
      "Avenida das Américas addr:street\n",
      "Avenida das Américas addr:street\n",
      "Avenida das Américas addr:street\n",
      "Avenida das Américas addr:street\n",
      "Avenida das Américas addr:street\n",
      "Avenida das Américas addr:street\n",
      "Rua Antônio Batista Bittencourt addr:street\n",
      "Rua Gélson Fonseca addr:street\n",
      "Rua Antônio Maroun addr:street\n",
      "Rua Antônio Maroun addr:street\n",
      "Rua Antônio Maroun addr:street\n",
      "Rua Gélson Fonseca addr:street\n",
      "Rua Gélson Fonseca addr:street\n",
      "Rua Gélson Fonseca addr:street\n",
      "Rua Gélson Fonseca addr:street\n",
      "Rua Maurício da Costa Faria addr:street\n",
      "Rua Maurício da Costa Faria addr:street\n",
      "Rua Maurício da Costa Faria addr:street\n",
      "Rua Antônio Batista Bittencourt addr:street\n",
      "Rua Maurício da Costa Faria addr:street\n"
     ]
    },
    {
     "name": "stderr",
     "output_type": "stream",
     "text": [
      "Processing:  27%|██▋       | 28989/106084 [00:38<01:43, 745.19it/s]"
     ]
    },
    {
     "name": "stdout",
     "output_type": "stream",
     "text": [
      "Rua Antônio Batista Bittencourt addr:street\n",
      "Rua Gélson Fonseca addr:street\n",
      "Rua Gélson Fonseca addr:street\n",
      "Rua Gélson Fonseca addr:street\n",
      "Rua Antônio Maroun addr:street\n",
      "Rua Antônio Batista Bittencourt addr:street\n",
      "Rua Gélson Fonseca addr:street\n",
      "Rua Antônio Batista Bittencourt addr:street\n",
      "Rua Antônio Maroun addr:street\n",
      "Rua Antônio Maroun addr:street\n",
      "Rua Antônio Maroun addr:street\n",
      "Rua Antônio Batista Bittencourt addr:street\n",
      "Rua Gélson Fonseca addr:street\n",
      "Rua Gélson Fonseca addr:street\n",
      "Rua Gélson Fonseca addr:street\n",
      "Rua Antônio Batista Bittencourt addr:street\n",
      "Rua Antônio Batista Bittencourt addr:street\n",
      "Rua Antônio Batista Bittencourt addr:street\n",
      "Rua Antônio Batista Bittencourt addr:street\n",
      "Rua Antônio Batista Bittencourt addr:street\n",
      "Rua Antônio Batista Bittencourt addr:street\n",
      "Rua Celestino Basílio addr:street\n",
      "Rua Celestino Basílio addr:street\n",
      "Rua Celestino Basílio addr:street\n",
      "Rua Celestino Basílio addr:street\n",
      "Rua Antônio Maroun addr:street\n",
      "Rua Antônio Batista Bittencourt addr:street\n",
      "Rua Antônio Batista Bittencourt addr:street\n",
      "Rua Antônio Maroun addr:street\n",
      "Rua Antônio Maroun addr:street\n",
      "Rua Antônio Batista Bittencourt addr:street\n",
      "Rua Antônio Batista Bittencourt addr:street\n",
      "Rua Maurício da Costa Faria addr:street\n",
      "Rua Maurício da Costa Faria addr:street\n",
      "Rua Maurício da Costa Faria addr:street\n",
      "Rua Maurício da Costa Faria addr:street\n",
      "Rua Antônio Maroun addr:street\n",
      "Rua Antônio Maroun addr:street\n",
      "Rua Antônio Maroun addr:street\n",
      "Rua Antônio Maroun addr:street\n",
      "Rua Maurício da Costa Faria addr:street\n",
      "Rua Maurício da Costa Faria addr:street\n",
      "Rua Antônio Maroun addr:street\n",
      "Rua Maurício da Costa Faria addr:street\n",
      "Rua Maurício da Costa Faria addr:street\n",
      "Rua Maurício da Costa Faria addr:street\n",
      "Rua Maurício da Costa Faria addr:street\n",
      "Rua Antônio Maroun addr:street\n",
      "Rua Maurício da Costa Faria addr:street\n",
      "Rua Maurício da Costa Faria addr:street\n",
      "Itaú Unibanco brand\n",
      "Itaú Unibanco operator\n",
      "Avenida das Américas addr:street\n",
      "Avenida das Américas addr:street\n",
      "Avenida das Américas addr:street\n",
      "Avenida das Américas addr:street\n",
      "Avenida das Américas addr:street\n",
      "Avenida das Américas addr:street\n",
      "Avenida das Américas addr:street\n",
      "Avenida das Américas addr:street\n",
      "Avenida das Américas addr:street\n",
      "Avenida das Américas addr:street\n",
      "Avenida das Américas addr:street\n",
      "Avenida das Américas addr:street\n",
      "Avenida das Américas addr:street\n",
      "Avenida das Américas addr:street\n",
      "Avenida das Américas addr:street\n",
      "Avenida das Américas addr:street\n",
      "Avenida das Américas addr:street\n",
      "Avenida das Américas addr:street\n",
      "Avenida das Américas addr:street\n",
      "Avenida das Américas addr:street\n",
      "Avenida das Américas addr:street\n",
      "Avenida das Américas addr:street\n",
      "Avenida das Américas addr:street\n",
      "Avenida das Américas addr:street\n",
      "Avenida das Américas addr:street\n",
      "Avenida das Américas addr:street\n",
      "Avenida das Américas addr:street\n",
      "Avenida das Américas addr:street\n",
      "Avenida das Américas addr:street\n",
      "Avenida das Américas addr:street\n",
      "Avenida das Américas addr:street\n",
      "Avenida das Américas addr:street\n",
      "Avenida das Américas addr:street\n",
      "Avenida das Américas addr:street\n",
      "Avenida das Américas addr:street\n",
      "Avenida das Américas addr:street\n",
      "Avenida das Américas addr:street\n",
      "Avenida das Américas addr:street\n",
      "Avenida das Américas addr:street\n",
      "Avenida das Américas addr:street\n",
      "Avenida das Américas addr:street\n",
      "Avenida das Américas addr:street\n",
      "Avenida das Américas addr:street\n",
      "Avenida das Américas addr:street\n",
      "Avenida das Américas addr:street\n",
      "Avenida das Américas addr:street\n",
      "Avenida das Américas addr:street\n",
      "Rua Voluntários da Pátria addr:street\n"
     ]
    },
    {
     "name": "stderr",
     "output_type": "stream",
     "text": [
      "Processing:  27%|██▋       | 29141/106084 [00:39<01:42, 748.67it/s]"
     ]
    },
    {
     "name": "stdout",
     "output_type": "stream",
     "text": [
      "Rua Hélio Modesto addr:street\n",
      "Rua Hélio Modesto addr:street\n",
      "Praça Augusto Ruschi addr:street\n",
      "Rua Hélio Modesto addr:street\n",
      "Rua Hélio Modesto addr:street\n",
      "Praça Augusto Ruschi addr:street\n",
      "Praça Augusto Ruschi addr:street\n",
      "Praça Augusto Ruschi addr:street\n",
      "Praça Augusto Ruschi addr:street\n",
      "Praça Augusto Ruschi addr:street\n",
      "Praça Augusto Ruschi addr:street\n",
      "Praça Augusto Ruschi addr:street\n"
     ]
    },
    {
     "name": "stderr",
     "output_type": "stream",
     "text": [
      "Processing:  28%|██▊       | 29291/106084 [00:39<01:42, 747.10it/s]"
     ]
    },
    {
     "name": "stdout",
     "output_type": "stream",
     "text": [
      "Rua Voluntários da Pátria addr:street\n",
      "Rua Coronel João Olintho addr:street\n",
      "Rua Gustavo Corção addr:street\n",
      "Rua Gustavo Corção addr:street\n",
      "Rua Coronel João Olintho addr:street\n",
      "Rua Coronel João Olintho addr:street\n",
      "Rua Coronel João Olintho addr:street\n",
      "Rua Jorge Emílio Fontenelle addr:street\n",
      "Rua Jorge Emílio Fontenelle addr:street\n",
      "Rua Jorge Emílio Fontenelle addr:street\n",
      "Rua Jorge Emílio Fontenelle addr:street\n",
      "Rua Jorge Emílio Fontenelle addr:street\n",
      "Rua Jorge Emílio Fontenelle addr:street\n",
      "Rua Jorge Emílio Fontenelle addr:street\n",
      "Rua Jorge Emílio Fontenelle addr:street\n",
      "Rua Coronel João Olintho addr:street\n",
      "Avenida Gláucio Cabral Gil addr:street\n",
      "Avenida Gláucio Cabral Gil addr:street\n",
      "Avenida Gláucio Cabral Gil addr:street\n",
      "Avenida Gláucio Cabral Gil addr:street\n",
      "Rua Jorge Emílio Fontenelle addr:street\n",
      "Rua Jorge Emílio Fontenelle addr:street\n",
      "Avenida Gláucio Cabral Gil addr:street\n",
      "Avenida Gláucio Cabral Gil addr:street\n",
      "Avenida Gláucio Cabral Gil addr:street\n",
      "Avenida Gláucio Cabral Gil addr:street\n",
      "Rua Jorge Emílio Fontenelle addr:street\n",
      "Rua Jorge Emílio Fontenelle addr:street\n",
      "Praça Miguel Osório addr:street\n",
      "Praça Miguel Osório addr:street\n",
      "Praça Restier Gonçalves addr:street\n",
      "Praça Restier Gonçalves addr:street\n",
      "Rua Jorge Emílio Fontenelle addr:street\n",
      "Rua Domingos Sousa Leão Júnior addr:street\n",
      "Praça Miguel Osório addr:street\n",
      "Praça Miguel Osório addr:street\n",
      "Rua Jorge Emílio Fontenelle addr:street\n",
      "Rua Jorge Emílio Fontenelle addr:street\n",
      "Avenida Gláucio Cabral Gil addr:street\n",
      "Avenida Gláucio Cabral Gil addr:street\n",
      "Rua Jorge Emílio Fontenelle addr:street\n",
      "Avenida Gláucio Cabral Gil addr:street\n",
      "Avenida Gláucio Cabral Gil addr:street\n",
      "Rua Domingos Sousa Leão Júnior addr:street\n",
      "Rua Coronel João Olintho addr:street\n",
      "Rua Coronel João Olintho addr:street\n",
      "Avenida Gláucio Cabral Gil addr:street\n",
      "Rua Jorge Emílio Fontenelle addr:street\n",
      "Rua Jorge Emílio Fontenelle addr:street\n",
      "Rua Jorge Emílio Fontenelle addr:street\n",
      "Rua Jorge Emílio Fontenelle addr:street\n",
      "Rua Jorge Emílio Fontenelle addr:street\n",
      "Rua Jorge Emílio Fontenelle addr:street\n",
      "Rua Jorge Emílio Fontenelle addr:street\n",
      "Rua Jorge Emílio Fontenelle addr:street\n",
      "Rua Gustavo Corção addr:street\n",
      "Rua Gustavo Corção addr:street\n",
      "Rua Jorge Emílio Fontenelle addr:street\n",
      "Rua Jorge Emílio Fontenelle addr:street\n",
      "Rua Coronel João Olintho addr:street\n",
      "Rua Gustavo Corção addr:street\n",
      "Rua Gustavo Corção addr:street\n",
      "Rua Gustavo Corção addr:street\n",
      "Rua Gustavo Corção addr:street\n",
      "Rua Cristóvão de Alencar addr:street\n",
      "Rua Cristóvão de Alencar addr:street\n",
      "Rua Jorge Emílio Fontenelle addr:street\n",
      "Rua Jorge Emílio Fontenelle addr:street\n",
      "Rua Jorge Emílio Fontenelle addr:street\n",
      "Rua Jorge Emílio Fontenelle addr:street\n",
      "Rua Jorge Emílio Fontenelle addr:street\n",
      "Rua Jorge Emílio Fontenelle addr:street\n",
      "Rua Coronel João Olintho addr:street\n",
      "Rua Coronel João Olintho addr:street\n",
      "Rua Coronel João Olintho addr:street\n",
      "Rua Jorge Emílio Fontenelle addr:street\n",
      "Rua Coronel João Olintho addr:street\n",
      "Rua Jorge Emílio Fontenelle addr:street\n"
     ]
    },
    {
     "name": "stderr",
     "output_type": "stream",
     "text": [
      "Processing:  28%|██▊       | 29519/106084 [00:39<01:42, 750.23it/s]"
     ]
    },
    {
     "name": "stdout",
     "output_type": "stream",
     "text": [
      "Rua Jorge Emílio Fontenelle addr:street\n",
      "Rua Jorge Emílio Fontenelle addr:street\n",
      "Rua Jorge Emílio Fontenelle addr:street\n",
      "Rua Jorge Emílio Fontenelle addr:street\n",
      "Praça Restier Gonçalves addr:street\n",
      "Praça Restier Gonçalves addr:street\n",
      "Rua Jorge Emílio Fontenelle addr:street\n",
      "Rua Gustavo Corção addr:street\n",
      "Rua Jorge Emílio Fontenelle addr:street\n",
      "Rua Jorge Emílio Fontenelle addr:street\n",
      "Rua Jorge Emílio Fontenelle addr:street\n",
      "Rua Gustavo Corção addr:street\n",
      "Praça Miguel Osório addr:street\n",
      "Praça Miguel Osório addr:street\n",
      "Rua Coronel João Olintho addr:street\n",
      "Rua Coronel João Olintho addr:street\n",
      "Rua Coronel João Olintho addr:street\n",
      "Rua Coronel João Olintho addr:street\n",
      "Rua Coronel João Olintho addr:street\n",
      "Rua Cristóvão de Alencar addr:street\n",
      "Rua Jorge Emílio Fontenelle addr:street\n",
      "Rua Coronel João Olintho addr:street\n",
      "Rua Cristóvão de Alencar addr:street\n",
      "Rua Jorge Emílio Fontenelle addr:street\n",
      "Praça Miguel Osório addr:street\n",
      "Praça Miguel Osório addr:street\n",
      "Rua Gustavo Corção addr:street\n",
      "Rua Gustavo Corção addr:street\n",
      "Rua Gustavo Corção addr:street\n",
      "Rua Gustavo Corção addr:street\n",
      "Rua Jorge Emílio Fontenelle addr:street\n",
      "Rua Jorge Emílio Fontenelle addr:street\n",
      "Rua Coronel João Olintho addr:street\n",
      "Rua Coronel João Olintho addr:street\n",
      "Rua Coronel João Olintho addr:street\n",
      "Rua Coronel João Olintho addr:street\n",
      "Rua Coronel João Olintho addr:street\n",
      "Rua Coronel João Olintho addr:street\n",
      "Rua Jorge Emílio Fontenelle addr:street\n",
      "Rua Jorge Emílio Fontenelle addr:street\n",
      "Rua Gustavo Corção addr:street\n",
      "Rua Gustavo Corção addr:street\n",
      "Rua Gustavo Corção addr:street\n",
      "Rua Gustavo Corção addr:street\n",
      "Avenida Gláucio Cabral Gil addr:street\n",
      "Rua Domingos Sousa Leão Júnior addr:street\n",
      "Rua Domingos Sousa Leão Júnior addr:street\n",
      "Rua Jorge Emílio Fontenelle addr:street\n",
      "Rua Jorge Emílio Fontenelle addr:street\n",
      "Rua Jorge Emílio Fontenelle addr:street\n",
      "Rua Jorge Emílio Fontenelle addr:street\n",
      "Rua Jorge Emílio Fontenelle addr:street\n",
      "Rua Jorge Emílio Fontenelle addr:street\n",
      "Rua Jorge Emílio Fontenelle addr:street\n",
      "Rua Jorge Emílio Fontenelle addr:street\n",
      "Rua Gustavo Corção addr:street\n",
      "Rua Gustavo Corção addr:street\n",
      "Avenida Gláucio Cabral Gil addr:street\n",
      "Avenida Gláucio Cabral Gil addr:street\n",
      "Avenida Gláucio Cabral Gil addr:street\n"
     ]
    },
    {
     "name": "stderr",
     "output_type": "stream",
     "text": [
      "Processing:  28%|██▊       | 29671/106084 [00:39<01:41, 752.32it/s]"
     ]
    },
    {
     "name": "stdout",
     "output_type": "stream",
     "text": [
      "Rua Octávio de Faria addr:street\n",
      "Praça Mozart Firmeza addr:street\n",
      "Rua Octávio de Faria addr:street\n",
      "Praça Mozart Firmeza addr:street\n",
      "Praça Mozart Firmeza addr:street\n",
      "Praça Mozart Firmeza addr:street\n",
      "Rua Antônio de Magalhães addr:street\n",
      "Rua Antônio de Magalhães addr:street\n",
      "Avenida Gláucio Cabral Gil addr:street\n",
      "Avenida Gláucio Cabral Gil addr:street\n",
      "Rua Antônio de Magalhães addr:street\n",
      "Rua Antônio de Magalhães addr:street\n",
      "Rua Antônio de Magalhães addr:street\n",
      "Rua Antônio de Magalhães addr:street\n",
      "Praça Mozart Firmeza addr:street\n",
      "Praça Mozart Firmeza addr:street\n",
      "Praça Mozart Firmeza addr:street\n",
      "Rua Octávio de Faria addr:street\n",
      "Avenida Gláucio Cabral Gil addr:street\n",
      "Avenida Gláucio Cabral Gil addr:street\n",
      "Rua Octávio de Faria addr:street\n",
      "Rua Antônio de Magalhães addr:street\n",
      "Rua Antônio de Magalhães addr:street\n",
      "Avenida Gláucio Cabral Gil addr:street\n",
      "Avenida Gláucio Cabral Gil addr:street\n",
      "Avenida Gláucio Cabral Gil addr:street\n",
      "Avenida Gláucio Cabral Gil addr:street\n",
      "Rua João Bartista Vigo addr:street\n",
      "Rua João Bartista Vigo addr:street\n",
      "Avenida Gláucio Cabral Gil addr:street\n",
      "Avenida Gláucio Cabral Gil addr:street\n",
      "Avenida Gláucio Cabral Gil addr:street\n",
      "Avenida Gláucio Cabral Gil addr:street\n",
      "Avenida Gláucio Cabral Gil addr:street\n",
      "Avenida Gláucio Cabral Gil addr:street\n",
      "Avenida Gláucio Cabral Gil addr:street\n",
      "Avenida Gláucio Cabral Gil addr:street\n",
      "Avenida Gláucio Cabral Gil addr:street\n"
     ]
    },
    {
     "name": "stderr",
     "output_type": "stream",
     "text": [
      "Processing:  28%|██▊       | 29821/106084 [00:39<01:44, 727.66it/s]"
     ]
    },
    {
     "name": "stdout",
     "output_type": "stream",
     "text": [
      "Praça Mozart Firmeza addr:street\n",
      "Avenida Gláucio Cabral Gil addr:street\n",
      "Avenida Gláucio Cabral Gil addr:street\n",
      "Avenida Gláucio Cabral Gil addr:street\n",
      "Avenida Gláucio Cabral Gil addr:street\n",
      "Avenida Gláucio Cabral Gil addr:street\n",
      "Avenida Gláucio Cabral Gil addr:street\n",
      "Avenida Gláucio Cabral Gil addr:street\n",
      "Avenida Gláucio Cabral Gil addr:street\n",
      "Avenida Gláucio Cabral Gil addr:street\n",
      "Avenida Gláucio Cabral Gil addr:street\n",
      "Avenida Gláucio Cabral Gil addr:street\n",
      "Avenida Gláucio Cabral Gil addr:street\n",
      "Avenida Gláucio Cabral Gil addr:street\n",
      "Avenida Gláucio Cabral Gil addr:street\n",
      "Avenida Gláucio Cabral Gil addr:street\n",
      "Rua Antônio de Magalhães addr:street\n",
      "Rua Antônio de Magalhães addr:street\n",
      "Rua Antônio de Magalhães addr:street\n",
      "Rua Antônio de Magalhães addr:street\n",
      "Rua João Bartista Vigo addr:street\n",
      "Rua João Bartista Vigo addr:street\n",
      "Avenida Geremário Dantas addr:street\n",
      "Avenida Lúcio Costa addr:street\n",
      "Avenida Lúcio Costa addr:street\n",
      "Avenida Lúcio Costa addr:street\n",
      "Avenida Lúcio Costa addr:street\n",
      "Avenida Lúcio Costa addr:street\n",
      "Avenida Lúcio Costa addr:street\n"
     ]
    },
    {
     "name": "stderr",
     "output_type": "stream",
     "text": [
      "Processing:  28%|██▊       | 29971/106084 [00:40<01:43, 735.86it/s]"
     ]
    },
    {
     "name": "stdout",
     "output_type": "stream",
     "text": [
      "Avenida Lúcio Costa addr:street\n",
      "Avenida Lúcio Costa addr:street\n",
      "Avenida Lúcio Costa addr:street\n",
      "Avenida Lúcio Costa addr:street\n",
      "Avenida Lúcio Costa addr:street\n",
      "Avenida Lúcio Costa addr:street\n",
      "Avenida Lúcio Costa addr:street\n",
      "Avenida Lúcio Costa addr:street\n",
      "Avenida Lúcio Costa addr:street\n",
      "Avenida Lúcio Costa addr:street\n",
      "Avenida Lúcio Costa addr:street\n",
      "Avenida Lúcio Costa addr:street\n",
      "Avenida Lúcio Costa addr:street\n",
      "Avenida Lúcio Costa addr:street\n",
      "Avenida Lúcio Costa addr:street\n",
      "Avenida Lúcio Costa addr:street\n",
      "Avenida Lúcio Costa addr:street\n",
      "Avenida Lúcio Costa addr:street\n",
      "Avenida Lúcio Costa addr:street\n",
      "Avenida Lúcio Costa addr:street\n",
      "Avenida Lúcio Costa addr:street\n",
      "Avenida Lúcio Costa addr:street\n",
      "Avenida Lúcio Costa addr:street\n",
      "Avenida Lúcio Costa addr:street\n",
      "Avenida Lúcio Costa addr:street\n",
      "Avenida Lúcio Costa addr:street\n",
      "Avenida Lúcio Costa addr:street\n",
      "Avenida Lúcio Costa addr:street\n",
      "Avenida Lúcio Costa addr:street\n",
      "Avenida Lúcio Costa addr:street\n",
      "Avenida Lúcio Costa addr:street\n",
      "Avenida Lúcio Costa addr:street\n",
      "Avenida Lúcio Costa addr:street\n",
      "Avenida Lúcio Costa addr:street\n",
      "Avenida Lúcio Costa addr:street\n",
      "Avenida Lúcio Costa addr:street\n",
      "Avenida Lúcio Costa addr:street\n",
      "Avenida Lúcio Costa addr:street\n",
      "Avenida Lúcio Costa addr:street\n",
      "Avenida Lúcio Costa addr:street\n",
      "Avenida Lúcio Costa addr:street\n",
      "Avenida Lúcio Costa addr:street\n",
      "Avenida Lúcio Costa addr:street\n",
      "Avenida Lúcio Costa addr:street\n",
      "Avenida Lúcio Costa addr:street\n",
      "Avenida Lúcio Costa addr:street\n",
      "Avenida Lúcio Costa addr:street\n",
      "Avenida Lúcio Costa addr:street\n",
      "Avenida Lúcio Costa addr:street\n",
      "Rua Engenheiro Hélio de Brito addr:street\n",
      "Rua Marechal Olímpio Falconieri addr:street\n",
      "Rua Desembargador Oscar Tenório addr:street\n",
      "Rua Professor Sousa Leão addr:street\n",
      "Rua das Acontecências addr:street\n",
      "Rua das Acontecências addr:street\n",
      "Rua Desembargador Oscar Tenório addr:street\n",
      "Rua Professor Sousa Leão addr:street\n",
      "Rua Desembargador Oscar Tenório addr:street\n",
      "Rua Desembargador Oscar Tenório addr:street\n",
      "Rua Engenheiro Hélio de Brito addr:street\n",
      "Rua Engenheiro Hélio de Brito addr:street\n",
      "Rua Engenheiro Hélio de Brito addr:street\n",
      "Rua Engenheiro Hélio de Brito addr:street\n",
      "Rua Professor Sousa Leão addr:street\n",
      "Rua Professor Sousa Leão addr:street\n",
      "Rua Marechal Olímpio Falconieri addr:street\n",
      "Rua Marechal Olímpio Falconieri addr:street\n",
      "Rua Marechal Olímpio Falconieri addr:street\n",
      "Rua Marechal Olímpio Falconieri addr:street\n",
      "Rua Desembargador Oscar Tenório addr:street\n",
      "Rua Desembargador Oscar Tenório addr:street\n",
      "Rua Professor Sousa Leão addr:street\n",
      "Rua Professor Sousa Leão addr:street\n",
      "Rua Engenheiro Hélio de Brito addr:street\n",
      "Rua Engenheiro Hélio de Brito addr:street\n"
     ]
    },
    {
     "name": "stderr",
     "output_type": "stream",
     "text": [
      "Processing:  28%|██▊       | 30120/106084 [00:40<01:43, 737.50it/s]"
     ]
    },
    {
     "name": "stdout",
     "output_type": "stream",
     "text": [
      "Rua Engenheiro Hélio de Brito addr:street\n",
      "Rua Marechal Olímpio Falconieri addr:street\n",
      "Rua Professor Sousa Leão addr:street\n",
      "Rua Professor Sousa Leão addr:street\n",
      "Rua Marechal Olímpio Falconieri addr:street\n",
      "Rua Marechal Olímpio Falconieri addr:street\n",
      "Rua das Acontecências addr:street\n",
      "Rua das Acontecências addr:street\n",
      "Rua Desembargador Oscar Tenório addr:street\n",
      "Rua Desembargador Oscar Tenório addr:street\n",
      "Rua Professor Sousa Leão addr:street\n",
      "Rua Professor Sousa Leão addr:street\n",
      "Rua Desembargador Oscar Tenório addr:street\n",
      "Rua Desembargador Oscar Tenório addr:street\n",
      "Rua Professor Sousa Leão addr:street\n",
      "Rua Professor Sousa Leão addr:street\n",
      "Rua Marechal Olímpio Falconieri addr:street\n",
      "Rua Marechal Olímpio Falconieri addr:street\n",
      "Rua Marechal Olímpio Falconieri addr:street\n",
      "Rua Marechal Olímpio Falconieri addr:street\n",
      "Rua Desembargador Oscar Tenório addr:street\n",
      "Rua Desembargador Oscar Tenório addr:street\n",
      "Rua Escritor José Américo de Almeida addr:street\n",
      "Rua Escritor José Américo de Almeida addr:street\n",
      "Rua Escritor José Américo de Almeida addr:street\n",
      "Rua Escritor José Américo de Almeida addr:street\n",
      "Rua Escritor José Américo de Almeida addr:street\n",
      "Rua Escritor José Américo de Almeida addr:street\n",
      "Rua Escritor José Américo de Almeida addr:street\n",
      "Rua Escritor José Américo de Almeida addr:street\n",
      "Rua Escritor José Américo de Almeida addr:street\n",
      "Rua Escritor José Américo de Almeida addr:street\n",
      "Rua Escritor José Américo de Almeida addr:street\n",
      "Rua Escritor José Américo de Almeida addr:street\n",
      "Rua Escritor José Américo de Almeida addr:street\n",
      "Rua Escritor José Américo de Almeida addr:street\n",
      "Rua Escritor José Américo de Almeida addr:street\n",
      "Rua Escritor José Américo de Almeida addr:street\n",
      "Rua Jurista Demóstenes Madureira de Pinho addr:street\n",
      "Rua Jurista Demóstenes Madureira de Pinho addr:street\n",
      "Rua Jurista Demóstenes Madureira de Pinho addr:street\n",
      "Rua Jurista Demóstenes Madureira de Pinho addr:street\n",
      "Rua Jurista Demóstenes Madureira de Pinho addr:street\n",
      "Rua Jurista Demóstenes Madureira de Pinho addr:street\n",
      "Rua Jurista Demóstenes Madureira de Pinho addr:street\n",
      "Rua Jurista Demóstenes Madureira de Pinho addr:street\n"
     ]
    },
    {
     "name": "stderr",
     "output_type": "stream",
     "text": [
      "Processing:  29%|██▊       | 30271/106084 [00:40<01:41, 744.75it/s]"
     ]
    },
    {
     "name": "stdout",
     "output_type": "stream",
     "text": [
      "Rua Jurista Demóstenes Madureira de Pinho addr:street\n",
      "Rua Jurista Demóstenes Madureira de Pinho addr:street\n",
      "Rua Jurista Demóstenes Madureira de Pinho addr:street\n",
      "Rua Jurista Demóstenes Madureira de Pinho addr:street\n",
      "Rua Jurista Demóstenes Madureira de Pinho addr:street\n",
      "Rua Jurista Demóstenes Madureira de Pinho addr:street\n",
      "Rua Jurista Demóstenes Madureira de Pinho addr:street\n",
      "Rua Jurista Demóstenes Madureira de Pinho addr:street\n",
      "Rua Jurista Demóstenes Madureira de Pinho addr:street\n",
      "Rua Jurista Demóstenes Madureira de Pinho addr:street\n",
      "Rua Jurista Demóstenes Madureira de Pinho addr:street\n",
      "Rua Jurista Demóstenes Madureira de Pinho addr:street\n",
      "Rua Jurista Demóstenes Madureira de Pinho addr:street\n",
      "Rua Jurista Demóstenes Madureira de Pinho addr:street\n",
      "Rua Jurista Demóstenes Madureira de Pinho addr:street\n",
      "Rua Jurista Demóstenes Madureira de Pinho addr:street\n",
      "Rua Jurista Demóstenes Madureira de Pinho addr:street\n",
      "Rua Jurista Demóstenes Madureira de Pinho addr:street\n",
      "Rua Jurista Demóstenes Madureira de Pinho addr:street\n",
      "Rua Jurista Demóstenes Madureira de Pinho addr:street\n",
      "Rua Jurista Demóstenes Madureira de Pinho addr:street\n",
      "Rua Jurista Demóstenes Madureira de Pinho addr:street\n",
      "Rua Jurista Demóstenes Madureira de Pinho addr:street\n",
      "Rua Jurista Demóstenes Madureira de Pinho addr:street\n",
      "Avenida Gláucio Cabral Gil addr:street\n",
      "Avenida Gláucio Cabral Gil addr:street\n",
      "Avenida Gláucio Cabral Gil addr:street\n",
      "Avenida Gláucio Cabral Gil addr:street\n",
      "Avenida Gláucio Cabral Gil addr:street\n",
      "Avenida Gláucio Cabral Gil addr:street\n",
      "Avenida Gláucio Cabral Gil addr:street\n",
      "Avenida Gláucio Cabral Gil addr:street\n",
      "Avenida Gláucio Cabral Gil addr:street\n",
      "Avenida Gláucio Cabral Gil addr:street\n",
      "Avenida Gláucio Cabral Gil addr:street\n",
      "Avenida Gláucio Cabral Gil addr:street\n",
      "Avenida Gláucio Cabral Gil addr:street\n",
      "Avenida Gláucio Cabral Gil addr:street\n",
      "Avenida Gláucio Cabral Gil addr:street\n",
      "Avenida Gláucio Cabral Gil addr:street\n",
      "Avenida Gláucio Cabral Gil addr:street\n",
      "Avenida Gláucio Cabral Gil addr:street\n",
      "Avenida Gláucio Cabral Gil addr:street\n",
      "Avenida Gláucio Cabral Gil addr:street\n",
      "Avenida Gláucio Cabral Gil addr:street\n",
      "Avenida Gláucio Cabral Gil addr:street\n",
      "Avenida Gláucio Cabral Gil addr:street\n",
      "Avenida Gláucio Cabral Gil addr:street\n",
      "Avenida Gláucio Cabral Gil addr:street\n",
      "Avenida Gláucio Cabral Gil addr:street\n",
      "Avenida Gláucio Cabral Gil addr:street\n",
      "Avenida Gláucio Cabral Gil addr:street\n",
      "Avenida Gláucio Cabral Gil addr:street\n",
      "Avenida Gláucio Cabral Gil addr:street\n",
      "Avenida Gláucio Cabral Gil addr:street\n",
      "Avenida Gláucio Cabral Gil addr:street\n",
      "Avenida Gláucio Cabral Gil addr:street\n",
      "Avenida Gláucio Cabral Gil addr:street\n",
      "Avenida Gláucio Cabral Gil addr:street\n",
      "Avenida Gláucio Cabral Gil addr:street\n",
      "Avenida Gláucio Cabral Gil addr:street\n",
      "Avenida Gláucio Cabral Gil addr:street\n",
      "Avenida Gláucio Cabral Gil addr:street\n",
      "Avenida Gláucio Cabral Gil addr:street\n",
      "Avenida Gláucio Cabral Gil addr:street\n",
      "Avenida Gláucio Cabral Gil addr:street\n",
      "Avenida Gláucio Cabral Gil addr:street\n",
      "Avenida Gláucio Cabral Gil addr:street\n",
      "Avenida Gláucio Cabral Gil addr:street\n",
      "Avenida Gláucio Cabral Gil addr:street\n",
      "Avenida Gláucio Cabral Gil addr:street\n",
      "Avenida Gláucio Cabral Gil addr:street\n",
      "Rua Murilo Araújo addr:street\n",
      "Rua Mário Faustino addr:street\n",
      "Rua Mário Faustino addr:street\n",
      "Rua Mário Faustino addr:street\n",
      "Rua Mário Faustino addr:street\n",
      "Rua Mário Faustino addr:street\n",
      "Rua Cecília Meirelles addr:street\n",
      "Rua Cecília Meirelles addr:street\n",
      "Rua Murilo Araújo addr:street\n"
     ]
    },
    {
     "name": "stderr",
     "output_type": "stream",
     "text": [
      "Processing:  29%|██▊       | 30422/106084 [00:40<01:41, 746.60it/s]"
     ]
    },
    {
     "name": "stdout",
     "output_type": "stream",
     "text": [
      "Rua Murilo Araújo addr:street\n",
      "Rua Murilo Araújo addr:street\n",
      "Rua Murilo Araújo addr:street\n",
      "Rua Murilo Araújo addr:street\n",
      "Rua Mário Faustino addr:street\n",
      "Rua Cecília Meirelles addr:street\n",
      "Rua Cecília Meirelles addr:street\n",
      "Rua Mário Faustino addr:street\n",
      "Rua Mário Faustino addr:street\n",
      "Rua Mário Faustino addr:street\n",
      "Rua Mário Faustino addr:street\n",
      "Rua Murilo Araújo addr:street\n",
      "Rua Murilo Araújo addr:street\n",
      "Rua Murilo Araújo addr:street\n",
      "Rua Murilo Araújo addr:street\n",
      "Rua Mário Faustino addr:street\n",
      "Rua Mário Faustino addr:street\n",
      "Rua Mário Faustino addr:street\n",
      "Rua Mário Faustino addr:street\n",
      "Rua Mário Faustino addr:street\n",
      "Rua Mário Faustino addr:street\n",
      "Rua Murilo Araújo addr:street\n",
      "Rua Murilo Araújo addr:street\n",
      "Rua Murilo Araújo addr:street\n",
      "Rua Murilo Araújo addr:street\n",
      "Rua Murilo Araújo addr:street\n",
      "Rua Murilo Araújo addr:street\n",
      "Rua Murilo Araújo addr:street\n",
      "Rua Murilo Araújo addr:street\n",
      "Rua Mário Faustino addr:street\n",
      "Rua Mário Faustino addr:street\n",
      "Rua Mário Faustino addr:street\n",
      "Rua Mário Faustino addr:street\n",
      "Rua Murilo Araújo addr:street\n",
      "Rua Mário Faustino addr:street\n",
      "Rua Mário Faustino addr:street\n",
      "Rua Murilo Araújo addr:street\n",
      "Rua Mário Faustino addr:street\n",
      "Rua Mário Faustino addr:street\n",
      "Rua Mário Faustino addr:street\n",
      "Rua Mário Faustino addr:street\n",
      "Rua Mário Faustino addr:street\n",
      "Rua Mário Faustino addr:street\n",
      "Rua Mário Faustino addr:street\n",
      "Rua Mário Faustino addr:street\n",
      "Rua Mário Faustino addr:street\n",
      "Rua Mário Faustino addr:street\n",
      "Rua Cecília Meirelles addr:street\n",
      "Rua Cecília Meirelles addr:street\n",
      "Rua Cecília Meirelles addr:street\n",
      "Rua Cecília Meirelles addr:street\n",
      "Rua Mário Faustino addr:street\n",
      "Rua Mário Faustino addr:street\n",
      "Rua Mário Faustino addr:street\n",
      "Rua Mário Faustino addr:street\n",
      "Rua Murilo Araújo addr:street\n",
      "Rua Mário Faustino addr:street\n",
      "Rua Murilo Araújo addr:street\n",
      "Rua Mário Faustino addr:street\n",
      "Rua Murilo Araújo addr:street\n",
      "Rua Murilo Araújo addr:street\n",
      "Rua Murilo Araújo addr:street\n",
      "Rua Murilo Araújo addr:street\n",
      "Rua Murilo Araújo addr:street\n",
      "Rua Murilo Araújo addr:street\n"
     ]
    },
    {
     "name": "stderr",
     "output_type": "stream",
     "text": [
      "Processing:  29%|██▉       | 30573/106084 [00:40<01:42, 734.79it/s]"
     ]
    },
    {
     "name": "stdout",
     "output_type": "stream",
     "text": [
      "Rua Rogério Karp addr:street\n",
      "Rua Engenheiro Haroldo Cavalcânti addr:street\n",
      "Rua Engenheiro Haroldo Cavalcânti addr:street\n",
      "Rua Engenheiro Haroldo Cavalcânti addr:street\n",
      "Rua Engenheiro Haroldo Cavalcânti addr:street\n",
      "Rua Engenheiro Haroldo Cavalcânti addr:street\n",
      "Rua João Barros Moreira addr:street\n",
      "Rua Sidney George Martins Júnior addr:street\n",
      "Rua João Barros Moreira addr:street\n",
      "Rua Sidney George Martins Júnior addr:street\n",
      "Rua Clóvis Salgado addr:street\n",
      "Rua Clóvis Salgado addr:street\n",
      "Rua Rogério Karp addr:street\n",
      "Rua Sidney George Martins Júnior addr:street\n",
      "Rua Clóvis Salgado addr:street\n",
      "Rua Clóvis Salgado addr:street\n",
      "Rua Sidney George Martins Júnior addr:street\n",
      "Rua Engenheiro Haroldo Cavalcânti addr:street\n",
      "Rua Engenheiro Haroldo Cavalcânti addr:street\n",
      "Rua Engenheiro Haroldo Cavalcânti addr:street\n",
      "Rua Rogério Karp addr:street\n",
      "Rua Engenheiro Haroldo Cavalcânti addr:street\n",
      "Rua Rogério Karp addr:street\n",
      "Rua Rogério Karp addr:street\n",
      "Rua Rogério Karp addr:street\n",
      "Rua Rogério Karp addr:street\n",
      "Rua Rogério Karp addr:street\n",
      "Rua Rogério Karp addr:street\n",
      "Rua Rogério Karp addr:street\n",
      "Rua Engenheiro Haroldo Cavalcânti addr:street\n",
      "Rua Engenheiro Haroldo Cavalcânti addr:street\n",
      "Rua Engenheiro Haroldo Cavalcânti addr:street\n",
      "Rua Engenheiro Haroldo Cavalcânti addr:street\n",
      "Rua Clóvis Salgado addr:street\n",
      "Rua Clóvis Salgado addr:street\n",
      "Rua Rogério Karp addr:street\n",
      "Rua Rogério Karp addr:street\n",
      "Rua Clóvis Salgado addr:street\n",
      "Rua Clóvis Salgado addr:street\n",
      "Rua Clóvis Salgado addr:street\n",
      "Rua Clóvis Salgado addr:street\n",
      "Rua Engenheiro Haroldo Cavalcânti addr:street\n",
      "Rua Engenheiro Haroldo Cavalcânti addr:street\n",
      "Rua Engenheiro Haroldo Cavalcânti addr:street\n",
      "Rua Engenheiro Haroldo Cavalcânti addr:street\n",
      "Rua Engenheiro Haroldo Cavalcânti addr:street\n",
      "Rua Engenheiro Haroldo Cavalcânti addr:street\n",
      "Rua Engenheiro Haroldo Cavalcânti addr:street\n",
      "Rua Engenheiro Haroldo Cavalcânti addr:street\n",
      "Rua Engenheiro Haroldo Cavalcânti addr:street\n",
      "Rua Engenheiro Haroldo Cavalcânti addr:street\n",
      "Rua Engenheiro Haroldo Cavalcânti addr:street\n",
      "Rua Engenheiro Haroldo Cavalcânti addr:street\n",
      "Rua Engenheiro Haroldo Cavalcânti addr:street\n",
      "Rua Engenheiro Haroldo Cavalcânti addr:street\n",
      "Rua Engenheiro Haroldo Cavalcânti addr:street\n",
      "Rua Engenheiro Haroldo Cavalcânti addr:street\n",
      "Rua Clóvis Salgado addr:street\n",
      "Rua Clóvis Salgado addr:street\n",
      "Rua Engenheiro Haroldo Cavalcânti addr:street\n",
      "Rua Engenheiro Haroldo Cavalcânti addr:street\n",
      "Rua João Barros Moreira addr:street\n"
     ]
    },
    {
     "name": "stderr",
     "output_type": "stream",
     "text": [
      "Processing:  29%|██▉       | 30796/106084 [00:41<01:42, 731.30it/s]"
     ]
    },
    {
     "name": "stdout",
     "output_type": "stream",
     "text": [
      "Rua João Barros Moreira addr:street\n",
      "Rua Engenheiro Haroldo Cavalcânti addr:street\n",
      "Rua Engenheiro Haroldo Cavalcânti addr:street\n",
      "Rua Engenheiro Haroldo Cavalcânti addr:street\n",
      "Rua Engenheiro Haroldo Cavalcânti addr:street\n",
      "Rua Engenheiro Haroldo Cavalcânti addr:street\n",
      "Rua Rogério Karp addr:street\n",
      "Rua Rogério Karp addr:street\n",
      "Rua Rogério Karp addr:street\n",
      "Rua Rogério Karp addr:street\n",
      "Rua Rogério Karp addr:street\n",
      "Rua Rogério Karp addr:street\n",
      "Rua Engenheiro Haroldo Cavalcânti addr:street\n",
      "Rua Engenheiro Haroldo Cavalcânti addr:street\n",
      "Rua Engenheiro Haroldo Cavalcânti addr:street\n",
      "Rua Engenheiro Haroldo Cavalcânti addr:street\n",
      "Rua Clóvis Salgado addr:street\n",
      "Rua Clóvis Salgado addr:street\n",
      "Rua Clóvis Salgado addr:street\n",
      "Rua Clóvis Salgado addr:street\n",
      "Avenida das Américas addr:street\n",
      "Avenida das Américas addr:street\n",
      "Avenida das Américas addr:street\n",
      "Avenida das Américas addr:street\n",
      "Avenida das Américas addr:street\n",
      "Avenida das Américas addr:street\n",
      "Avenida das Américas addr:street\n",
      "Avenida das Américas addr:street\n",
      "Avenida das Américas addr:street\n",
      "Avenida das Américas addr:street\n",
      "Avenida das Américas addr:street\n",
      "Avenida das Américas addr:street\n",
      "Avenida das Américas addr:street\n",
      "Avenida das Américas addr:street\n",
      "Avenida das Américas addr:street\n",
      "Avenida das Américas addr:street\n",
      "Avenida das Américas addr:street\n",
      "Avenida das Américas addr:street\n",
      "Avenida das Américas addr:street\n",
      "Avenida das Américas addr:street\n",
      "Avenida das Américas addr:street\n",
      "Praça Heitor Bastos Tigre addr:street\n",
      "Rua Venâncio Veloso addr:street\n",
      "Rua Venâncio Veloso addr:street\n",
      "Praça Heitor Bastos Tigre addr:street\n",
      "Rua Venâncio Veloso addr:street\n",
      "Rua Venâncio Veloso addr:street\n",
      "Rua Venâncio Veloso addr:street\n",
      "Rua Venâncio Veloso addr:street\n",
      "Rua Venâncio Veloso addr:street\n",
      "Rua Venâncio Veloso addr:street\n",
      "Rua Venâncio Veloso addr:street\n",
      "Rua Venâncio Veloso addr:street\n"
     ]
    },
    {
     "name": "stderr",
     "output_type": "stream",
     "text": [
      "Processing:  29%|██▉       | 30872/106084 [00:41<01:42, 737.07it/s]"
     ]
    },
    {
     "name": "stdout",
     "output_type": "stream",
     "text": [
      "Rua Venâncio Veloso addr:street\n",
      "Rua Venâncio Veloso addr:street\n",
      "Praça Heitor Bastos Tigre addr:street\n",
      "Praça Heitor Bastos Tigre addr:street\n",
      "Praça Heitor Bastos Tigre addr:street\n",
      "Praça Heitor Bastos Tigre addr:street\n",
      "Praça Heitor Bastos Tigre addr:street\n",
      "Praça Heitor Bastos Tigre addr:street\n",
      "Rua Venâncio Veloso addr:street\n",
      "Rua Venâncio Veloso addr:street\n",
      "Rua Venâncio Veloso addr:street\n",
      "Rua Venâncio Veloso addr:street\n",
      "Rua São Francisco de Assis addr:street\n",
      "Rua São Francisco de Assis addr:street\n",
      "Rua São Francisco de Assis addr:street\n",
      "Praça Jornalista Odylo Costa Filho addr:street\n",
      "Praça Jornalista Odylo Costa Filho addr:street\n",
      "Rua Engenheiro Sérgio Branco Soares addr:street\n",
      "Rua Engenheiro Sérgio Branco Soares addr:street\n",
      "Rua Engenheiro Sérgio Branco Soares addr:street\n",
      "Rua Engenheiro Sérgio Branco Soares addr:street\n",
      "Rua São Francisco de Assis addr:street\n",
      "Rua São Francisco de Assis addr:street\n",
      "Rua Engenheiro Sérgio Branco Soares addr:street\n",
      "Rua Engenheiro Sérgio Branco Soares addr:street\n",
      "Rua Engenheiro Sérgio Branco Soares addr:street\n",
      "Rua Engenheiro Sérgio Branco Soares addr:street\n",
      "Rua Engenheiro Sérgio Branco Soares addr:street\n",
      "Rua Engenheiro Sérgio Branco Soares addr:street\n",
      "Rua Engenheiro Sérgio Branco Soares addr:street\n",
      "Rua Engenheiro Sérgio Branco Soares addr:street\n",
      "Praça Jornalista Odylo Costa Filho addr:street\n",
      "Rua São Francisco de Assis addr:street\n",
      "Rua São Francisco de Assis addr:street\n",
      "Rua São Francisco de Assis addr:street\n"
     ]
    },
    {
     "name": "stderr",
     "output_type": "stream",
     "text": [
      "Processing:  29%|██▉       | 31026/106084 [00:41<01:40, 747.82it/s]"
     ]
    },
    {
     "name": "stdout",
     "output_type": "stream",
     "text": [
      "Rua São Francisco de Assis addr:street\n",
      "Praça Jornalista Odylo Costa Filho addr:street\n",
      "Rua Engenheiro Sérgio Branco Soares addr:street\n",
      "Rua Engenheiro Sérgio Branco Soares addr:street\n",
      "Rua Engenheiro Sérgio Branco Soares addr:street\n",
      "Rua Engenheiro Sérgio Branco Soares addr:street\n",
      "Rua Engenheiro Sérgio Branco Soares addr:street\n",
      "Rua Engenheiro Sérgio Branco Soares addr:street\n",
      "Rua São Francisco de Assis addr:street\n",
      "Rua São Francisco de Assis addr:street\n",
      "Rua Engenheiro Sérgio Branco Soares addr:street\n",
      "Rua Engenheiro Sérgio Branco Soares addr:street\n",
      "Rua Engenheiro Sérgio Branco Soares addr:street\n",
      "Rua Engenheiro Sérgio Branco Soares addr:street\n",
      "Rua Engenheiro Sérgio Branco Soares addr:street\n",
      "Rua Engenheiro Sérgio Branco Soares addr:street\n",
      "Rua Engenheiro Sérgio Branco Soares addr:street\n",
      "Rua Engenheiro Sérgio Branco Soares addr:street\n",
      "Rua Engenheiro Sérgio Branco Soares addr:street\n",
      "Rua Engenheiro Sérgio Branco Soares addr:street\n",
      "Rua Engenheiro Sérgio Branco Soares addr:street\n",
      "Rua Engenheiro Sérgio Branco Soares addr:street\n",
      "Rua Engenheiro Sérgio Branco Soares addr:street\n",
      "Rua Engenheiro Sérgio Branco Soares addr:street\n",
      "Rua São Francisco de Assis addr:street\n",
      "Rua São Francisco de Assis addr:street\n",
      "Rua São Francisco de Assis addr:street\n",
      "Rua São Francisco de Assis addr:street\n",
      "Rua São Francisco de Assis addr:street\n",
      "Rua Engenheiro Sérgio Branco Soares addr:street\n",
      "Rua Engenheiro Sérgio Branco Soares addr:street\n",
      "Rua Engenheiro Sérgio Branco Soares addr:street\n",
      "Rua Engenheiro Sérgio Branco Soares addr:street\n",
      "Rua Engenheiro Sérgio Branco Soares addr:street\n",
      "Rua Engenheiro Sérgio Branco Soares addr:street\n",
      "Avenida das Américas addr:street\n",
      "Avenida das Américas addr:street\n",
      "Avenida das Américas addr:street\n",
      "Avenida das Américas addr:street\n",
      "Avenida das Américas addr:street\n",
      "Avenida das Américas addr:street\n",
      "Avenida das Américas addr:street\n",
      "Avenida das Américas addr:street\n",
      "Avenida das Américas addr:street\n",
      "Avenida das Américas addr:street\n",
      "Avenida das Américas addr:street\n",
      "Avenida das Américas addr:street\n",
      "Avenida das Américas addr:street\n",
      "Avenida das Américas addr:street\n",
      "Avenida das Américas addr:street\n",
      "Avenida das Américas addr:street\n",
      "Avenida das Américas addr:street\n",
      "Avenida das Américas addr:street\n",
      "Avenida das Américas addr:street\n",
      "Avenida das Américas addr:street\n",
      "Avenida das Américas addr:street\n",
      "Avenida das Américas addr:street\n",
      "Avenida das Américas addr:street\n",
      "Avenida das Américas addr:street\n",
      "Avenida das Américas addr:street\n",
      "Avenida das Américas addr:street\n",
      "Avenida das Américas addr:street\n",
      "Avenida das Américas addr:street\n",
      "Avenida das Américas addr:street\n",
      "Avenida das Américas addr:street\n",
      "Avenida das Américas addr:street\n",
      "Avenida das Américas addr:street\n",
      "Avenida das Américas addr:street\n",
      "Avenida das Américas addr:street\n",
      "Avenida das Américas addr:street\n",
      "Avenida das Américas addr:street\n",
      "Avenida das Américas addr:street\n",
      "Avenida das Américas addr:street\n",
      "Rua José Affonso Netto addr:street\n",
      "Rua José Affonso Netto addr:street\n"
     ]
    },
    {
     "name": "stderr",
     "output_type": "stream",
     "text": [
      "Processing:  29%|██▉       | 31259/106084 [00:41<01:38, 761.20it/s]"
     ]
    },
    {
     "name": "stdout",
     "output_type": "stream",
     "text": [
      "Rua José Affonso Netto addr:street\n",
      "Rua José Affonso Netto addr:street\n",
      "Rua José Affonso Netto addr:street\n",
      "Rua José Affonso Netto addr:street\n",
      "Rua José Affonso Netto addr:street\n",
      "Rua José Affonso Netto addr:street\n",
      "Rua José Affonso Netto addr:street\n",
      "Rua José Affonso Netto addr:street\n",
      "Rua José Affonso Netto addr:street\n",
      "Rua José Affonso Netto addr:street\n",
      "Avenida das Américas addr:street\n",
      "Rua Luís Paulistano addr:street\n",
      "Rua Luís Paulistano addr:street\n",
      "Rua Luís Paulistano addr:street\n",
      "Rua Luís Paulistano addr:street\n"
     ]
    },
    {
     "name": "stderr",
     "output_type": "stream",
     "text": [
      "Processing:  30%|██▉       | 31412/106084 [00:42<01:38, 754.47it/s]"
     ]
    },
    {
     "name": "stdout",
     "output_type": "stream",
     "text": [
      "Rua General Landri Gonçalves addr:street\n",
      "Rua General Landri Gonçalves addr:street\n",
      "Rua General Landri Gonçalves addr:street\n",
      "Rua General Landri Gonçalves addr:street\n",
      "Rua General Landri Gonçalves addr:street\n",
      "Rua General Landri Gonçalves addr:street\n",
      "Rua General Landri Gonçalves addr:street\n",
      "Rua General Landri Gonçalves addr:street\n",
      "Rua General Landri Gonçalves addr:street\n",
      "Rua General Landri Gonçalves addr:street\n",
      "Rua General Landri Gonçalves addr:street\n",
      "Rua General Landri Gonçalves addr:street\n",
      "Rua General Landri Gonçalves addr:street\n",
      "Rua General Landri Gonçalves addr:street\n",
      "Rua General Landri Gonçalves addr:street\n",
      "Rua General Landri Gonçalves addr:street\n",
      "Rua General Landri Gonçalves addr:street\n",
      "Rua General Landri Gonçalves addr:street\n"
     ]
    },
    {
     "name": "stderr",
     "output_type": "stream",
     "text": [
      "Processing:  30%|██▉       | 31564/106084 [00:42<01:41, 733.64it/s]"
     ]
    },
    {
     "name": "stdout",
     "output_type": "stream",
     "text": [
      "Rua Francisco Mário addr:street\n",
      "Rua Francisco Mário addr:street\n",
      "Rua Francisco Mário addr:street\n",
      "Rua Francisco Mário addr:street\n",
      "Rua Francisco Mário addr:street\n",
      "Rua Francisco Mário addr:street\n",
      "Rua José Carlos de Oliveira addr:street\n",
      "Rua José Carlos de Oliveira addr:street\n",
      "Rua José Carlos de Oliveira addr:street\n",
      "Rua Luís Iglesias addr:street\n",
      "Rua Luís Iglesias addr:street\n",
      "Rua Luís Iglesias addr:street\n"
     ]
    },
    {
     "name": "stderr",
     "output_type": "stream",
     "text": [
      "Processing:  30%|██▉       | 31794/106084 [00:42<01:38, 752.93it/s]"
     ]
    },
    {
     "name": "stdout",
     "output_type": "stream",
     "text": [
      "Rua Jornalista Zélio Valverde addr:street\n",
      "Rua Jornalista Zélio Valverde addr:street\n",
      "Rua Jornalista Zélio Valverde addr:street\n",
      "Rua Jornalista Zélio Valverde addr:street\n",
      "Rua Jornalista Zélio Valverde addr:street\n",
      "Rua Jornalista Zélio Valverde addr:street\n",
      "Rua Jornalista Zélio Valverde addr:street\n",
      "Rua Radialista Paulo Tapajós addr:street\n",
      "Rua Radialista Paulo Tapajós addr:street\n",
      "Rua Radialista Paulo Tapajós addr:street\n",
      "Rua Jornalista Zélio Valverde addr:street\n",
      "Rua Jornalista Zélio Valverde addr:street\n",
      "Rua Jornalista Zélio Valverde addr:street\n",
      "Rua Jornalista Zélio Valverde addr:street\n",
      "Estrada do Pontal;Rua Radialista Paulo Tapajós addr:street\n",
      "Rua Jornalista Zélio Valverde;Estrada do Pontal addr:street\n",
      "Rua Jornalista Zélio Valverde addr:street\n",
      "Rua Jornalista Zélio Valverde addr:street\n",
      "Rua Jornalista Zélio Valverde addr:street\n",
      "Rua Jornalista Zélio Valverde addr:street\n",
      "Rua Jornalista Zélio Valverde addr:street\n",
      "Rua Jornalista Zélio Valverde addr:street\n",
      "Rua Jornalista Zélio Valverde addr:street\n",
      "Rua Jornalista Zélio Valverde addr:street\n",
      "Rua Jornalista Zélio Valverde addr:street\n",
      "Rua Jornalista Zélio Valverde addr:street\n",
      "Rua Jornalista Zélio Valverde addr:street\n",
      "Rua Jornalista Zélio Valverde addr:street\n",
      "Rua Jornalista Zélio Valverde addr:street\n",
      "Rua Jornalista Zélio Valverde addr:street\n",
      "Rua Jornalista Zélio Valverde addr:street\n",
      "Rua Jornalista Zélio Valverde addr:street\n",
      "Rua Jornalista Zélio Valverde addr:street\n",
      "Rua Jornalista Zélio Valverde addr:street\n",
      "Rua Jornalista Zélio Valverde addr:street\n",
      "Rua Jornalista Zélio Valverde addr:street\n",
      "Rua Jornalista Zélio Valverde addr:street\n",
      "Rua Jornalista Zélio Valverde addr:street\n",
      "Rua Desembargador Geraldo Ireneo Joffily;Rua Radialista Paulo Tapajós addr:street\n",
      "Rua Jornalista Zélio Valverde addr:street\n",
      "Rua Jornalista Zélio Valverde addr:street\n",
      "Rua Almirante Heleno Nunes;Rua Radialista Paulo Tapajós addr:street\n",
      "Rua Radialista Paulo Tapajós addr:street\n",
      "Rua Jornalista Zélio Valverde addr:street\n",
      "Rua Jornalista Zélio Valverde addr:street\n",
      "Rua Jornalista Zélio Valverde addr:street\n",
      "Rua Jornalista Zélio Valverde addr:street\n",
      "Rua Jornalista Zélio Valverde addr:street\n",
      "Rua Radialista Paulo Tapajós addr:street\n"
     ]
    },
    {
     "name": "stderr",
     "output_type": "stream",
     "text": [
      "Processing:  30%|███       | 31947/106084 [00:42<01:38, 749.51it/s]"
     ]
    },
    {
     "name": "stdout",
     "output_type": "stream",
     "text": [
      "Rua Luiz da Câmara Cascudo addr:street\n",
      "Rua Orígenes Lessa addr:street\n",
      "Rua José Carlos Nogueira Diniz addr:street\n",
      "Rua José Jordão Marques addr:street\n",
      "Rua Maurício Pinkusfeld addr:street\n",
      "Rua Luiz da Câmara Cascudo addr:street\n",
      "Rua Luiz da Câmara Cascudo addr:street\n",
      "Rua Luiz da Câmara Cascudo addr:street\n",
      "Rua Flávio Cavalcânti addr:street\n",
      "Rua José Carlos Nogueira Diniz addr:street\n",
      "Rua José Jordão Marques addr:street\n",
      "Rua Flávio Cavalcânti addr:street\n",
      "Rua Orígenes Lessa addr:street\n",
      "Rua Orígenes Lessa addr:street\n",
      "Rua Orígenes Lessa addr:street\n",
      "Rua Orígenes Lessa addr:street\n",
      "Rua Luiz da Câmara Cascudo addr:street\n",
      "Rua Orígenes Lessa addr:street\n",
      "Rua Luiz da Câmara Cascudo addr:street\n",
      "Rua Luiz da Câmara Cascudo addr:street\n",
      "Rua Luiz da Câmara Cascudo addr:street\n",
      "Rua Luiz da Câmara Cascudo addr:street\n",
      "Rua Maurício Pinkusfeld addr:street\n",
      "Rua Maurício Pinkusfeld addr:street\n",
      "Rua Luiz da Câmara Cascudo addr:street\n",
      "Rua Luiz da Câmara Cascudo addr:street\n",
      "Rua Mário Lopes Gonçalves addr:street\n",
      "Rua Mário Lopes Gonçalves addr:street\n",
      "Rua Mário Lopes Gonçalves addr:street\n",
      "Rua Mário Lopes Gonçalves addr:street\n",
      "Rua José Carlos Nogueira Diniz addr:street\n",
      "Rua José Carlos Nogueira Diniz addr:street\n",
      "Rua José Carlos Nogueira Diniz addr:street\n",
      "Rua José Jordão Marques addr:street\n",
      "Rua José Carlos Nogueira Diniz addr:street\n",
      "Rua José Jordão Marques addr:street\n",
      "Rua José Jordão Marques addr:street\n",
      "Rua José Jordão Marques addr:street\n",
      "Rua José Jordão Marques addr:street\n",
      "Rua José Jordão Marques addr:street\n",
      "Rua José Carlos Nogueira Diniz addr:street\n",
      "Rua Orígenes Lessa addr:street\n",
      "Rua Orígenes Lessa addr:street\n",
      "Rua José Carlos Nogueira Diniz addr:street\n",
      "Rua Flávio Cavalcânti addr:street\n",
      "Rua Flávio Cavalcânti addr:street\n",
      "Rua Luiz da Câmara Cascudo addr:street\n",
      "Rua Luiz da Câmara Cascudo addr:street\n",
      "Rua Luiz da Câmara Cascudo addr:street\n",
      "Rua Luiz da Câmara Cascudo addr:street\n",
      "Rua Maurício Pinkusfeld addr:street\n",
      "Rua Luiz da Câmara Cascudo addr:street\n",
      "Rua José Jordão Marques addr:street\n",
      "Rua José Jordão Marques addr:street\n",
      "Rua José Jordão Marques addr:street\n",
      "Rua José Jordão Marques addr:street\n",
      "Rua Maurício Pinkusfeld addr:street\n",
      "Rua Maurício Pinkusfeld addr:street\n",
      "Rua Maurício Pinkusfeld addr:street\n",
      "Rua Maurício Pinkusfeld addr:street\n",
      "Rua Flávio Cavalcânti addr:street\n",
      "Rua Flávio Cavalcânti addr:street\n",
      "Rua Orígenes Lessa addr:street\n",
      "Rua Luiz da Câmara Cascudo addr:street\n",
      "Rua Orígenes Lessa addr:street\n",
      "Rua Orígenes Lessa addr:street\n",
      "Rua Luiz da Câmara Cascudo addr:street\n",
      "Rua Orígenes Lessa addr:street\n",
      "Rua Orígenes Lessa addr:street\n",
      "Rua Orígenes Lessa addr:street\n",
      "Rua Orígenes Lessa addr:street\n",
      "Rua Orígenes Lessa addr:street\n",
      "Rua Orígenes Lessa addr:street\n",
      "Rua Orígenes Lessa addr:street\n",
      "Rua Januário Pinto de Oliveira addr:street\n",
      "Avenida André Grabois addr:street\n",
      "Rua Ramires Maranhão addr:street\n",
      "Avenida André Grabois addr:street\n",
      "Rua Honestino Guimarães addr:street\n",
      "Rua Honestino Guimarães addr:street\n",
      "Avenida André Grabois addr:street\n"
     ]
    },
    {
     "name": "stderr",
     "output_type": "stream",
     "text": [
      "Processing:  30%|███       | 32098/106084 [00:43<01:38, 747.96it/s]"
     ]
    },
    {
     "name": "stdout",
     "output_type": "stream",
     "text": [
      "Avenida André Grabois addr:street\n",
      "Rua Ramires Maranhão addr:street\n",
      "Rua Flávio Carvalho Molina addr:street\n",
      "Rua Flávio Carvalho Molina addr:street\n",
      "Rua Flávio Carvalho Molina addr:street\n",
      "Rua Flávio Carvalho Molina addr:street\n",
      "Rua Sônia Angel Jones addr:street\n",
      "Rua Sônia Angel Jones addr:street\n",
      "Rua Ramires Maranhão addr:street\n",
      "Rua Ramires Maranhão addr:street\n",
      "Avenida André Grabois addr:street\n",
      "Rua Ramires Maranhão addr:street\n",
      "Rua Ramires Maranhão addr:street\n",
      "Rua Ramires Maranhão addr:street\n",
      "Rua Ramires Maranhão addr:street\n",
      "Rua Januário Pinto de Oliveira addr:street\n",
      "Rua Flávio Carvalho Molina addr:street\n",
      "Rua Honestino Guimarães addr:street\n",
      "Rua Mário Alves addr:street\n",
      "Avenida André Grabois addr:street\n",
      "Praça Paulo César Botelho Massa addr:street\n",
      "Rua Sônia Angel Jones addr:street\n",
      "Praça Paulo César Botelho Massa addr:street\n",
      "Rua Flávio Carvalho Molina addr:street\n",
      "Rua Honestino Guimarães addr:street\n",
      "Rua Mário Alves addr:street\n",
      "Rua Sônia Angel Jones addr:street\n",
      "Rua Sônia Angel Jones addr:street\n",
      "Rua Sônia Angel Jones addr:street\n",
      "Rua Mário Alves addr:street\n",
      "Rua Mário Alves addr:street\n",
      "Rua Mário Alves addr:street\n",
      "Rua Mário Alves addr:street\n",
      "Rua Januário Pinto de Oliveira addr:street\n",
      "Rua Januário Pinto de Oliveira addr:street\n",
      "Rua Januário Pinto de Oliveira addr:street\n",
      "Rua Januário Pinto de Oliveira addr:street\n",
      "Rua Ramires Maranhão addr:street\n",
      "Rua Gilberto Olímpio Maria addr:street\n",
      "Rua Ramires Maranhão addr:street\n",
      "Rua Ramires Maranhão addr:street\n",
      "Rua Gilberto Olímpio Maria addr:street\n",
      "Rua Ramires Maranhão addr:street\n",
      "Avenida André Grabois addr:street\n",
      "Avenida André Grabois addr:street\n",
      "Rua Gilberto Olímpio Maria addr:street\n",
      "Rua Ramires Maranhão addr:street\n",
      "Rua Gilberto Olímpio Maria addr:street\n",
      "Rua Gilberto Olímpio Maria addr:street\n",
      "Rua Ramires Maranhão addr:street\n",
      "Rua Ramires Maranhão addr:street\n",
      "Avenida André Grabois addr:street\n",
      "Avenida André Grabois addr:street\n",
      "Rua Ramires Maranhão addr:street\n",
      "Rua Sônia Angel Jones addr:street\n",
      "Rua Sônia Angel Jones addr:street\n",
      "Rua Sônia Angel Jones addr:street\n",
      "Rua Sônia Angel Jones addr:street\n",
      "Rua Gilberto Olímpio Maria addr:street\n",
      "Rua Flávio Carvalho Molina addr:street\n",
      "Rua Flávio Carvalho Molina addr:street\n",
      "Rua Ramires Maranhão addr:street\n",
      "Rua Ramires Maranhão addr:street\n",
      "Rua Sônia Angel Jones addr:street\n",
      "Avenida André Grabois addr:street\n",
      "Avenida André Grabois addr:street\n",
      "Rua Sônia Angel Jones addr:street\n",
      "Rua Sônia Angel Jones addr:street\n",
      "Rua Sônia Angel Jones addr:street\n",
      "Rua Januário Pinto de Oliveira addr:street\n",
      "Rua Januário Pinto de Oliveira addr:street\n",
      "Rua Januário Pinto de Oliveira addr:street\n",
      "Rua Januário Pinto de Oliveira addr:street\n",
      "Rua Mário Alves addr:street\n",
      "Rua Mário Alves addr:street\n",
      "Avenida André Grabois addr:street\n",
      "Avenida André Grabois addr:street\n",
      "Rua Sônia Angel Jones addr:street\n",
      "Rua Sônia Angel Jones addr:street\n",
      "Rua Sônia Angel Jones addr:street\n",
      "Rua Sônia Angel Jones addr:street\n",
      "Rua Gilberto Olímpio Maria addr:street\n",
      "Rua Sônia Angel Jones addr:street\n",
      "Avenida André Grabois addr:street\n",
      "Avenida André Grabois addr:street\n",
      "Rua Honestino Guimarães addr:street\n",
      "Rua Sônia Angel Jones addr:street\n",
      "Rua Sônia Angel Jones addr:street\n"
     ]
    },
    {
     "name": "stderr",
     "output_type": "stream",
     "text": [
      "Processing:  30%|███       | 32247/106084 [00:43<01:41, 730.22it/s]"
     ]
    },
    {
     "name": "stdout",
     "output_type": "stream",
     "text": [
      "Rua Januário Pinto de Oliveira addr:street\n",
      "Rua Januário Pinto de Oliveira addr:street\n",
      "Rua Januário Pinto de Oliveira addr:street\n",
      "Rua Januário Pinto de Oliveira addr:street\n",
      "Rua Honestino Guimarães addr:street\n",
      "Rua Honestino Guimarães addr:street\n",
      "Avenida André Grabois addr:street\n",
      "Rua Januário Pinto de Oliveira addr:street\n",
      "Rua Honestino Guimarães addr:street\n",
      "Rua Januário Pinto de Oliveira addr:street\n",
      "Rua Januário Pinto de Oliveira addr:street\n",
      "Avenida André Grabois addr:street\n",
      "Rua Januário Pinto de Oliveira addr:street\n",
      "Avenida André Grabois addr:street\n",
      "Avenida André Grabois addr:street\n",
      "Rua Gilberto Olímpio Maria addr:street\n",
      "Rua Sônia Angel Jones addr:street\n",
      "Avenida André Grabois addr:street\n",
      "Avenida André Grabois addr:street\n",
      "Rua Januário Pinto de Oliveira addr:street\n",
      "Rua Januário Pinto de Oliveira addr:street\n",
      "Avenida André Grabois addr:street\n",
      "Rua Januário Pinto de Oliveira addr:street\n",
      "Rua Januário Pinto de Oliveira addr:street\n",
      "Avenida André Grabois addr:street\n",
      "Rua Ramires Maranhão addr:street\n",
      "Rua Ramires Maranhão addr:street\n",
      "Rua Januário Pinto de Oliveira addr:street\n",
      "Rua Januário Pinto de Oliveira addr:street\n",
      "Rua Januário Pinto de Oliveira addr:street\n",
      "Rua Januário Pinto de Oliveira addr:street\n",
      "Rua Sônia Angel Jones addr:street\n",
      "Rua Sônia Angel Jones addr:street\n",
      "Rua Januário Pinto de Oliveira addr:street\n",
      "Rua Januário Pinto de Oliveira addr:street\n",
      "Ponto Turístico.  Local Para estacionar. Com tempo bom,  é possível ver a Pedra da Gávea. description\n",
      "Rua Professor Álvaro Rodrigues addr:street\n",
      "Rua Professor Álvaro Rodrigues addr:street\n",
      "Rua Professor Álvaro Rodrigues addr:street\n",
      "Rua Voluntários da Pátria addr:street\n",
      "Rua Professor Álvaro Rodrigues addr:street\n",
      "Rua Professor Álvaro Rodrigues addr:street\n"
     ]
    },
    {
     "name": "stderr",
     "output_type": "stream",
     "text": [
      "Processing:  31%|███       | 32929/106084 [00:44<01:37, 751.84it/s]"
     ]
    },
    {
     "name": "stdout",
     "output_type": "stream",
     "text": [
      "Estrada Mucuíba addr:street\n",
      "Rua Crescêncio Mendes do Nascimento addr:street\n",
      "Rua Mário Lisboa de Carvalho addr:street\n",
      "Estrada do Sacarrão addr:street\n",
      "Rua Esperança addr:street\n",
      "Rua Mário Lisboa de Carvalho addr:street\n",
      "Estrada Mucuíba addr:street\n",
      "Estrada Mucuíba addr:street\n",
      "Praça Caridade addr:street\n",
      "Rua Mário Lisboa de Carvalho addr:street\n",
      "Estrada do Sacarrão addr:street\n",
      "Praça Caridade addr:street\n",
      "Estrada do Pacuí addr:street\n",
      "Estrada do Pacuí addr:street\n",
      "Estrada do Pacuí addr:street\n",
      "Estrada do Pacuí addr:street\n",
      "Estrada do Pacuí addr:street\n",
      "Estrada do Pacuí addr:street\n",
      "Estrada do Pacuí addr:street\n",
      "Estrada do Pacuí addr:street\n",
      "Estrada Capitão Pedro Afonso addr:street\n",
      "Estrada Capitão Pedro Afonso addr:street\n",
      "Estrada do Pacuí addr:street\n",
      "Estrada do Pacuí addr:street\n",
      "Estrada do Pacuí addr:street\n",
      "Estrada do Pacuí addr:street\n",
      "Estrada do Pacuí addr:street\n",
      "Estrada do Pacuí addr:street\n",
      "Estrada do Sacarrão addr:street\n",
      "Estrada Capitão Pedro Afonso addr:street\n",
      "Estrada Capitão Pedro Afonso addr:street\n",
      "Estrada Mucuíba addr:street\n",
      "Estrada Mucuíba addr:street\n",
      "Estrada Mucuíba addr:street\n",
      "Estrada Mucuíba addr:street\n",
      "Estrada do Sacarrão addr:street\n",
      "Estrada do Sacarrão addr:street\n",
      "Estrada do Sacarrão addr:street\n",
      "Estrada do Sacarrão addr:street\n",
      "Estrada do Sacarrão addr:street\n",
      "Estrada Capitão Pedro Afonso addr:street\n",
      "Estrada Capitão Pedro Afonso addr:street\n",
      "Estrada do Sacarrão addr:street\n",
      "Estrada do Sacarrão addr:street\n",
      "Estrada do Sacarrão addr:street\n",
      "Estrada do Sacarrão addr:street\n",
      "Estrada Mucuíba addr:street\n",
      "Estrada Mucuíba addr:street\n",
      "Estrada Mucuíba addr:street\n",
      "Estrada Mucuíba addr:street\n",
      "Rua Crescêncio Mendes do Nascimento addr:street\n",
      "Rua Mário Lisboa de Carvalho addr:street\n",
      "Rua Manhuaçu addr:street\n",
      "Estrada Mucuíba addr:street\n",
      "Rua Manhuaçu addr:street\n",
      "Estrada do Sacarrão addr:street\n",
      "Estrada do Sacarrão addr:street\n",
      "Estrada do Sacarrão addr:street\n",
      "Estrada do Sacarrão addr:street\n",
      "Estrada do Sacarrão addr:street\n",
      "Estrada do Sacarrão addr:street\n",
      "Estrada do Sacarrão addr:street\n",
      "Estrada do Sacarrão addr:street\n",
      "Estrada do Sacarrão addr:street\n",
      "Estrada do Sacarrão addr:street\n",
      "Estrada do Sacarrão addr:street\n",
      "Estrada do Sacarrão addr:street\n",
      "Estrada do Sacarrão addr:street\n",
      "Estrada do Sacarrão addr:street\n",
      "Estrada do Sacarrão addr:street\n",
      "Estrada do Sacarrão addr:street\n",
      "Estrada do Sacarrão addr:street\n",
      "Estrada do Sacarrão addr:street\n",
      "Rua Mário Lisboa de Carvalho addr:street\n",
      "Rua Mário Lisboa de Carvalho addr:street\n",
      "Rua Mário Lisboa de Carvalho addr:street\n",
      "Rua Mário Lisboa de Carvalho addr:street\n",
      "Estrada do Sacarrão addr:street\n",
      "Estrada do Sacarrão addr:street\n"
     ]
    },
    {
     "name": "stderr",
     "output_type": "stream",
     "text": [
      "Processing:  31%|███       | 33079/106084 [00:44<01:39, 736.08it/s]"
     ]
    },
    {
     "name": "stdout",
     "output_type": "stream",
     "text": [
      "Estrada do Pacuí addr:street\n",
      "Estrada do Pacuí addr:street\n",
      "Estrada do Pacuí addr:street\n",
      "Estrada do Pacuí addr:street\n",
      "Estrada do Pacuí addr:street\n",
      "Estrada do Pacuí addr:street\n",
      "Estrada do Sacarrão addr:street\n",
      "Estrada do Sacarrão addr:street\n",
      "Rua Luís Borracha addr:street\n",
      "Rua Luís Borracha addr:street\n",
      "Estrada do Pacuí addr:street\n",
      "Estrada do Pacuí addr:street\n",
      "Estrada do Pacuí addr:street\n",
      "Estrada do Pacuí addr:street\n",
      "Rua Luís Borracha addr:street\n",
      "Rua Luís Borracha addr:street\n",
      "Rua Mário Lisboa de Carvalho addr:street\n",
      "Rua Mário Lisboa de Carvalho addr:street\n",
      "Rua Santa América addr:street\n",
      "Estrada do Pacuí addr:street\n",
      "Estrada do Pacuí addr:street\n",
      "Estrada do Pacuí addr:street\n",
      "Estrada do Pacuí addr:street\n",
      "Rua Santa América addr:street\n",
      "Rua Esperança addr:street\n",
      "Rua Esperança addr:street\n",
      "Estrada do Sacarrão addr:street\n",
      "Estrada do Sacarrão addr:street\n",
      "Rua Manhuaçu addr:street\n",
      "Rua Manhuaçu addr:street\n",
      "Rua Manhuaçu addr:street\n",
      "Rua Manhuaçu addr:street\n",
      "Praça Caridade addr:street\n",
      "Rua Mário Lisboa de Carvalho addr:street\n",
      "Rua Mário Lisboa de Carvalho addr:street\n",
      "Rua Mário Lisboa de Carvalho addr:street\n",
      "Rua Mário Lisboa de Carvalho addr:street\n",
      "Estrada do Pacuí addr:street\n",
      "Estrada do Pacuí addr:street\n",
      "Rua Manhuaçu addr:street\n",
      "Rua Manhuaçu addr:street\n",
      "Rua Manhuaçu addr:street\n",
      "Rua Manhuaçu addr:street\n",
      "Estrada do Sacarrão addr:street\n",
      "Estrada do Sacarrão addr:street\n",
      "Estrada Mucuíba addr:street\n",
      "Estrada do Sacarrão addr:street\n",
      "Estrada do Sacarrão addr:street\n",
      "Estrada Mucuíba addr:street\n",
      "Praça Vargem Grande addr:street\n",
      "Praça Caridade addr:street\n",
      "Praça Vargem Grande addr:street\n",
      "Praça Vargem Grande addr:street\n",
      "Praça Vargem Grande addr:street\n",
      "Praça Vargem Grande addr:street\n"
     ]
    },
    {
     "name": "stderr",
     "output_type": "stream",
     "text": [
      "Processing:  31%|███▏      | 33153/106084 [00:44<01:39, 735.55it/s]"
     ]
    },
    {
     "name": "stdout",
     "output_type": "stream",
     "text": [
      "Praça Vargem Grande addr:street\n",
      "Estrada Capitão Pedro Afonso addr:street\n",
      "Estrada Capitão Pedro Afonso addr:street\n",
      "Estrada do Sacarrão addr:street\n",
      "Estrada do Sacarrão addr:street\n",
      "Rua Manhuaçu addr:street\n",
      "Rua Manhuaçu addr:street\n",
      "Rua Manhuaçu addr:street\n",
      "Rua Manhuaçu addr:street\n",
      "Rua Mário Lisboa de Carvalho addr:street\n",
      "Rua Mário Lisboa de Carvalho addr:street\n",
      "Estrada do Pacuí addr:street\n",
      "Estrada do Pacuí addr:street\n",
      "Estrada do Pacuí addr:street\n",
      "Estrada do Pacuí addr:street\n",
      "Estrada do Pacuí addr:street\n",
      "Estrada do Pacuí addr:street\n",
      "Rua Manhuaçu addr:street\n",
      "Rua Manhuaçu addr:street\n",
      "Estrada do Pacuí addr:street\n",
      "Estrada do Pacuí addr:street\n",
      "Estrada do Pacuí addr:street\n",
      "Estrada do Pacuí addr:street\n",
      "Estrada do Pacuí addr:street\n",
      "Estrada do Pacuí addr:street\n",
      "Estrada do Pacuí addr:street\n",
      "Estrada do Pacuí addr:street\n",
      "Estrada do Pacuí addr:street\n",
      "Estrada Mucuíba addr:street\n",
      "Estrada Mucuíba addr:street\n",
      "Estrada do Pacuí addr:street\n",
      "Estrada do Pacuí addr:street\n",
      "Estrada do Pacuí addr:street\n",
      "Estrada do Pacuí addr:street\n",
      "Estrada do Pacuí addr:street\n",
      "Estrada do Pacuí addr:street\n",
      "Estrada do Pacuí addr:street\n",
      "Estrada do Pacuí addr:street\n",
      "Estrada do Pacuí addr:street\n",
      "Estrada do Pacuí addr:street\n",
      "Estrada Mucuíba addr:street\n",
      "Estrada Mucuíba addr:street\n",
      "Estrada Mucuíba addr:street\n",
      "Estrada Mucuíba addr:street\n",
      "Estrada do Sacarrão addr:street\n",
      "Estrada do Sacarrão addr:street\n",
      "Estrada do Pacuí addr:street\n",
      "Rua Esperança addr:street\n",
      "Rua Santa América addr:street\n",
      "Rua Santa América addr:street\n",
      "Estrada Mucuíba addr:street\n",
      "Estrada Mucuíba addr:street\n",
      "Estrada do Sacarrão addr:street\n",
      "Estrada Mucuíba addr:street\n",
      "Estrada Mucuíba addr:street\n",
      "Estrada do Sacarrão addr:street\n",
      "Estrada Mucuíba addr:street\n",
      "Estrada Mucuíba addr:street\n",
      "Estrada do Sacarrão addr:street\n",
      "Estrada do Sacarrão addr:street\n",
      "Estrada Capitão Pedro Afonso addr:street\n",
      "Estrada Mucuíba addr:street\n",
      "Estrada Mucuíba addr:street\n",
      "Estrada Capitão Pedro Afonso addr:street\n",
      "Estrada Capitão Pedro Afonso addr:street\n"
     ]
    },
    {
     "name": "stderr",
     "output_type": "stream",
     "text": [
      "Processing:  31%|███▏      | 33300/106084 [00:44<01:42, 710.06it/s]"
     ]
    },
    {
     "name": "stdout",
     "output_type": "stream",
     "text": [
      "Estrada Mucuíba addr:street\n",
      "Estrada Mucuíba addr:street\n",
      "Estrada Capitão Pedro Afonso addr:street\n",
      "Estrada Mucuíba addr:street\n",
      "Estrada Mucuíba addr:street\n",
      "Estrada Mucuíba addr:street\n",
      "Estrada Mucuíba addr:street\n",
      "Estrada Mucuíba addr:street\n",
      "Estrada Mucuíba addr:street\n",
      "Estrada Mucuíba addr:street\n",
      "Estrada Mucuíba addr:street\n",
      "Estrada do Pacuí addr:street\n",
      "Estrada do Pacuí addr:street\n",
      "Estrada Mucuíba addr:street\n",
      "Estrada Mucuíba addr:street\n",
      "Estrada Mucuíba addr:street\n",
      "Estrada Mucuíba addr:street\n",
      "Rua Crescêncio Mendes do Nascimento addr:street\n",
      "Rua Crescêncio Mendes do Nascimento addr:street\n",
      "Estrada Mucuíba addr:street\n",
      "Estrada Mucuíba addr:street\n",
      "Estrada Mucuíba addr:street\n",
      "Estrada Mucuíba addr:street\n",
      "Rua Luís Borracha addr:street\n",
      "Rua Luís Borracha addr:street\n",
      "Rua Luís Borracha addr:street\n",
      "Rua Luís Borracha addr:street\n",
      "Estrada Mucuíba addr:street\n",
      "Estrada Mucuíba addr:street\n",
      "Estrada Mucuíba addr:street\n",
      "Estrada Mucuíba addr:street\n",
      "Estrada Mucuíba addr:street\n",
      "Estrada Mucuíba addr:street\n",
      "Estrada Mucuíba addr:street\n",
      "Estrada Mucuíba addr:street\n",
      "Estrada Mucuíba addr:street\n",
      "Estrada do Sacarrão addr:street\n",
      "Estrada do Sacarrão addr:street\n",
      "Estrada do Sacarrão addr:street\n",
      "Estrada do Sacarrão addr:street\n",
      "Estrada do Sacarrão addr:street\n",
      "Estrada do Sacarrão addr:street\n",
      "Estrada do Sacarrão addr:street\n",
      "Estrada Mucuíba addr:street\n",
      "Estrada Mucuíba addr:street\n",
      "Estrada do Sacarrão addr:street\n",
      "Estrada do Sacarrão addr:street\n",
      "Estrada do Sacarrão addr:street\n",
      "Estrada Mucuíba addr:street\n",
      "Estrada Mucuíba addr:street\n",
      "Estrada do Sacarrão addr:street\n",
      "Estrada do Sacarrão addr:street\n",
      "Estrada do Sacarrão addr:street\n",
      "Estrada do Sacarrão addr:street\n",
      "Estrada do Sacarrão addr:street\n",
      "Estrada do Sacarrão addr:street\n",
      "Estrada do Sacarrão addr:street\n",
      "Estrada do Sacarrão addr:street\n",
      "Estrada do Sacarrão addr:street\n",
      "Estrada do Sacarrão addr:street\n",
      "Estrada do Pacuí addr:street\n",
      "Estrada do Pacuí addr:street\n",
      "Estrada do Pacuí addr:street\n",
      "Estrada do Pacuí addr:street\n",
      "Estrada do Pacuí addr:street\n",
      "Estrada do Pacuí addr:street\n",
      "Estrada do Pacuí addr:street\n",
      "Estrada do Pacuí addr:street\n",
      "Estrada do Sacarrão addr:street\n",
      "Estrada do Sacarrão addr:street\n",
      "Estrada do Sacarrão addr:street\n",
      "Estrada do Sacarrão addr:street\n",
      "Rua Crescêncio Mendes do Nascimento addr:street\n",
      "Rua Crescêncio Mendes do Nascimento addr:street\n",
      "Rua Crescêncio Mendes do Nascimento addr:street\n",
      "Rua Crescêncio Mendes do Nascimento addr:street\n",
      "Estrada do Sacarrão addr:street\n",
      "Estrada do Sacarrão addr:street\n",
      "Rua Crescêncio Mendes do Nascimento addr:street\n",
      "Estrada do Sacarrão addr:street\n",
      "Estrada do Sacarrão addr:street\n",
      "Rua Crescêncio Mendes do Nascimento addr:street\n",
      "Rua Crescêncio Mendes do Nascimento addr:street\n",
      "Rua Crescêncio Mendes do Nascimento addr:street\n",
      "Rua Crescêncio Mendes do Nascimento addr:street\n",
      "Rua Crescêncio Mendes do Nascimento addr:street\n",
      "Rua Crescêncio Mendes do Nascimento addr:street\n"
     ]
    },
    {
     "name": "stderr",
     "output_type": "stream",
     "text": [
      "Processing:  32%|███▏      | 33447/106084 [00:44<01:43, 702.45it/s]"
     ]
    },
    {
     "name": "stdout",
     "output_type": "stream",
     "text": [
      "Rua Crescêncio Mendes do Nascimento addr:street\n",
      "Estrada do Sacarrão addr:street\n",
      "Estrada do Sacarrão addr:street\n",
      "Estrada do Sacarrão addr:street\n",
      "Estrada do Sacarrão addr:street\n",
      "Estrada do Sacarrão addr:street\n",
      "Estrada do Sacarrão addr:street\n",
      "Estrada do Pacuí addr:street\n",
      "Estrada do Pacuí addr:street\n",
      "Estrada do Sacarrão addr:street\n",
      "Estrada do Sacarrão addr:street\n",
      "Rua Mário Lisboa de Carvalho addr:street\n",
      "Rua Mário Lisboa de Carvalho addr:street\n",
      "Rua Mário Lisboa de Carvalho addr:street\n",
      "Rua Mário Lisboa de Carvalho addr:street\n",
      "Rua Mário Lisboa de Carvalho addr:street\n",
      "Rua Mário Lisboa de Carvalho addr:street\n",
      "Rua Mário Lisboa de Carvalho addr:street\n",
      "Rua Mário Lisboa de Carvalho addr:street\n",
      "Rua Santa América addr:street\n",
      "Rua Santa América addr:street\n",
      "Praça Vargem Grande addr:street\n",
      "Praça Caridade addr:street\n",
      "Praça Caridade addr:street\n",
      "Praça Caridade addr:street\n",
      "Praça Caridade addr:street\n",
      "Praça Caridade addr:street\n",
      "Praça Caridade addr:street\n",
      "Praça Caridade addr:street\n"
     ]
    },
    {
     "name": "stderr",
     "output_type": "stream",
     "text": [
      "Processing:  32%|███▏      | 33670/106084 [00:45<01:39, 724.37it/s]"
     ]
    },
    {
     "name": "stdout",
     "output_type": "stream",
     "text": [
      "Itaú Unibanco brand\n",
      "Itaú Unibanco operator\n",
      "Avenida Prefeito Dulcídio Cardoso addr:street\n",
      "Avenida Prefeito Dulcídio Cardoso addr:street\n",
      "Rua Eduardo Tarquínio addr:street\n",
      "Rua Eduardo Tarquínio addr:street\n",
      "Avenida Prefeito Dulcídio Cardoso addr:street\n",
      "Avenida Prefeito Dulcídio Cardoso addr:street\n",
      "Rua Eduardo Tarquínio addr:street\n",
      "Rua Eduardo Tarquínio addr:street\n",
      "Rua Eduardo Tarquínio addr:street\n",
      "Rua Eduardo Tarquínio addr:street\n",
      "Rua Mário da Costa Sousa addr:street\n",
      "Rua Mário da Costa Sousa addr:street\n",
      "Rua Eduardo Tarquínio addr:street\n",
      "Rua Eduardo Tarquínio addr:street\n",
      "Avenida Prefeito Dulcídio Cardoso addr:street\n",
      "Avenida Prefeito Dulcídio Cardoso addr:street\n",
      "Avenida Prefeito Dulcídio Cardoso addr:street\n",
      "Avenida Prefeito Dulcídio Cardoso addr:street\n",
      "Avenida Prefeito Dulcídio Cardoso addr:street\n",
      "Avenida Prefeito Dulcídio Cardoso addr:street\n",
      "Avenida Prefeito Dulcídio Cardoso addr:street\n",
      "Avenida Prefeito Dulcídio Cardoso addr:street\n",
      "Avenida Prefeito Dulcídio Cardoso addr:street\n",
      "Avenida Prefeito Dulcídio Cardoso addr:street\n",
      "Avenida Prefeito Dulcídio Cardoso addr:street\n",
      "Rua Aarão Steinbruch addr:street\n",
      "Rua Aarão Steinbruch addr:street\n",
      "Rua Mário da Costa Sousa addr:street\n",
      "Rua Aarão Steinbruch addr:street\n",
      "Rua Aarão Steinbruch addr:street\n",
      "Rua Mário da Costa Sousa addr:street\n",
      "Rua Sílvio da Rocha Pollis addr:street\n",
      "Rua Sílvio da Rocha Pollis addr:street\n",
      "Rua Sílvio da Rocha Pollis addr:street\n",
      "Rua Sílvio da Rocha Pollis addr:street\n",
      "Rua Sílvio da Rocha Pollis addr:street\n",
      "Rua Sílvio da Rocha Pollis addr:street\n",
      "Rua Sílvio da Rocha Pollis addr:street\n",
      "Rua Sílvio da Rocha Pollis addr:street\n",
      "Rua Sílvio da Rocha Pollis addr:street\n",
      "Rua Sílvio da Rocha Pollis addr:street\n",
      "Rua Sílvio da Rocha Pollis addr:street\n",
      "Rua Sílvio da Rocha Pollis addr:street\n",
      "Rua Sílvio da Rocha Pollis addr:street\n",
      "Rua Sílvio da Rocha Pollis addr:street\n",
      "Rua Sílvio da Rocha Pollis addr:street\n",
      "Rua Sílvio da Rocha Pollis addr:street\n",
      "Rua Sílvio da Rocha Pollis addr:street\n",
      "Rua Sílvio da Rocha Pollis addr:street\n",
      "Rua Sílvio da Rocha Pollis addr:street\n",
      "Rua Sílvio da Rocha Pollis addr:street\n"
     ]
    },
    {
     "name": "stderr",
     "output_type": "stream",
     "text": [
      "Processing:  32%|███▏      | 33743/106084 [00:45<01:40, 723.30it/s]"
     ]
    },
    {
     "name": "stdout",
     "output_type": "stream",
     "text": [
      "Avenida Prefeito Dulcídio Cardoso addr:street\n",
      "Avenida Prefeito Dulcídio Cardoso addr:street\n",
      "Avenida Prefeito Dulcídio Cardoso addr:street\n",
      "Avenida Prefeito Dulcídio Cardoso addr:street\n",
      "Avenida Lúcio Costa addr:street\n",
      "Rua Canto dos Pássaros addr:street\n",
      "Rua Luz da Manhã addr:street\n",
      "Rua Pôr do Sol addr:street\n",
      "Rua Pedra de Itaúna addr:street\n",
      "Avenida Luíz Aranha addr:street\n",
      "Rua Pedra de Itaúna addr:street\n",
      "Rua Canto dos Pássaros addr:street\n",
      "Rua Luz da Manhã addr:street\n",
      "Rua Pôr do Sol addr:street\n",
      "Avenida Prefeito Dulcídio Cardoso addr:street\n",
      "Avenida Prefeito Dulcídio Cardoso addr:street\n",
      "Avenida Prefeito Dulcídio Cardoso addr:street\n",
      "Avenida Prefeito Dulcídio Cardoso addr:street\n",
      "Avenida Prefeito Dulcídio Cardoso addr:street\n",
      "Avenida Prefeito Dulcídio Cardoso addr:street\n",
      "Rua Pôr do Sol addr:street\n",
      "Rua Pôr do Sol addr:street\n",
      "Rua Luz da Manhã addr:street\n",
      "Rua Luz da Manhã addr:street\n",
      "Rua Canto dos Pássaros addr:street\n",
      "Rua Canto dos Pássaros addr:street\n",
      "Avenida Luíz Aranha addr:street\n",
      "Rua Pedra de Itaúna addr:street\n",
      "Avenida Luíz Aranha addr:street\n",
      "Avenida Luíz Aranha addr:street\n"
     ]
    },
    {
     "name": "stderr",
     "output_type": "stream",
     "text": [
      "Processing:  32%|███▏      | 33892/106084 [00:45<01:38, 731.22it/s]"
     ]
    },
    {
     "name": "stdout",
     "output_type": "stream",
     "text": [
      "Rua Euzébio Naylor addr:street\n",
      "Rua Euzébio Naylor addr:street\n",
      "Rua Maurício Lanthos addr:street\n",
      "Rua Maurício Lanthos addr:street\n",
      "Rua Iberê Nazareth addr:street\n",
      "Rua Iberê Nazareth addr:street\n",
      "Avenida Prefeito Dulcídio Cardoso addr:street\n",
      "Avenida Prefeito Dulcídio Cardoso addr:street\n",
      "Avenida Prefeito Dulcídio Cardoso addr:street\n",
      "Rua Euzébio Naylor addr:street\n",
      "Rua Euzébio Naylor addr:street\n",
      "Rua Euzébio Naylor addr:street\n",
      "Rua Euzébio Naylor addr:street\n",
      "Rua Euzébio Naylor addr:street\n",
      "Rua Euzébio Naylor addr:street\n",
      "Rua Euzébio Naylor addr:street\n",
      "Rua Euzébio Naylor addr:street\n",
      "Rua Maurício Lanthos addr:street\n",
      "Rua Maurício Lanthos addr:street\n",
      "Rua Maurício Lanthos addr:street\n",
      "Rua Maurício Lanthos addr:street\n",
      "Rua Maurício Lanthos addr:street\n",
      "Rua Iberê Nazareth addr:street\n",
      "Rua Iberê Nazareth addr:street\n",
      "Rua Maurício Lanthos addr:street\n",
      "Rua Maurício Lanthos addr:street\n",
      "Rua Iberê Nazareth addr:street\n",
      "Rua Iberê Nazareth addr:street\n",
      "Rua Maurício Lanthos addr:street\n",
      "Rua Maurício Lanthos addr:street\n",
      "Rua Iberê Nazareth addr:street\n",
      "Avenida Prefeito Dulcídio Cardoso addr:street\n",
      "Avenida Prefeito Dulcídio Cardoso addr:street\n",
      "Rua Euzébio Naylor addr:street\n",
      "Rua Euzébio Naylor addr:street\n",
      "Avenida Prefeito Dulcídio Cardoso addr:street\n",
      "Avenida Prefeito Dulcídio Cardoso addr:street\n",
      "Avenida Luíz Aranha addr:street\n",
      "Avenida Prefeito Dulcídio Cardoso addr:street\n",
      "Rua Maurício Lanthos addr:street\n",
      "Rua Iberê Nazareth addr:street\n",
      "Avenida Luíz Aranha addr:street\n",
      "Rua Iberê Nazareth addr:street\n",
      "Rua Iberê Nazareth addr:street\n",
      "Rua Iberê Nazareth addr:street\n",
      "Rua Iberê Nazareth addr:street\n",
      "Rua Iberê Nazareth addr:street\n",
      "Rua Iberê Nazareth addr:street\n",
      "Rua Iberê Nazareth addr:street\n",
      "Rua Iberê Nazareth addr:street\n",
      "Rua Maurício Lanthos addr:street\n",
      "Rua Maurício Lanthos addr:street\n",
      "Avenida Prefeito Dulcídio Cardoso addr:street\n",
      "Avenida Prefeito Dulcídio Cardoso addr:street\n",
      "Avenida Prefeito Dulcídio Cardoso addr:street\n",
      "Avenida Prefeito Dulcídio Cardoso addr:street\n",
      "Avenida Prefeito Dulcídio Cardoso addr:street\n",
      "Rua Maurício Lanthos addr:street\n",
      "Avenida Prefeito Dulcídio Cardoso addr:street\n",
      "Rua Maurício Lanthos addr:street\n",
      "Rua Maurício Lanthos addr:street\n",
      "Rua Maurício Lanthos addr:street\n",
      "Rua Maurício Lanthos addr:street\n",
      "Avenida Prefeito Dulcídio Cardoso addr:street\n",
      "Rua Euzébio Naylor addr:street\n",
      "Rua Euzébio Naylor addr:street\n",
      "Rua Euzébio Naylor addr:street\n",
      "Rua Euzébio Naylor addr:street\n",
      "Avenida Prefeito Dulcídio Cardoso addr:street\n",
      "Rua Euzébio Naylor addr:street\n",
      "Avenida Luíz Aranha addr:street\n",
      "Avenida Prefeito Dulcídio Cardoso addr:street\n",
      "Avenida Luíz Aranha addr:street\n",
      "Avenida Prefeito Dulcídio Cardoso addr:street\n",
      "Avenida Prefeito Dulcídio Cardoso addr:street\n"
     ]
    },
    {
     "name": "stderr",
     "output_type": "stream",
     "text": [
      "Processing:  32%|███▏      | 34117/106084 [00:45<01:37, 737.86it/s]"
     ]
    },
    {
     "name": "stdout",
     "output_type": "stream",
     "text": [
      "Itaú Unibanco brand\n",
      "Rua Antônio Alves de Noronha Filho addr:street\n",
      "Avenida Mário Guedes addr:street\n",
      "Rua Antônio Alves de Noronha Filho addr:street\n",
      "Rua Antônio Alves de Noronha Filho addr:street\n",
      "Rua Antônio Alves de Noronha Filho addr:street\n",
      "Avenida Mário Guedes addr:street\n",
      "Avenida Prefeito Dulcídio Cardoso addr:street\n",
      "Avenida Prefeito Dulcídio Cardoso addr:street\n",
      "Avenida Mário Guedes addr:street\n",
      "Rua Antônio Alves de Noronha Filho addr:street\n",
      "Rua Antônio Alves de Noronha Filho addr:street\n",
      "Rua Antônio Alves de Noronha Filho addr:street\n",
      "Rua Antônio Alves de Noronha Filho addr:street\n",
      "Rua Antônio Alves de Noronha Filho addr:street\n",
      "Rua Antônio Alves de Noronha Filho addr:street\n",
      "Rua Antônio Alves de Noronha Filho addr:street\n",
      "Rua Antônio Alves de Noronha Filho addr:street\n",
      "Citroën brand\n",
      "Itaú Unibanco brand\n",
      "Itaú Unibanco operator\n",
      "Av das Américas addr:street\n",
      "Av das Américas addr:street\n",
      "Avenida Prefeito Dulcídio Cardoso addr:street\n",
      "Avenida Prefeito Dulcídio Cardoso addr:street\n",
      "Avenida Prefeito Dulcídio Cardoso addr:street\n",
      "Avenida Prefeito Dulcídio Cardoso addr:street\n",
      "Avenida Prefeito Dulcídio Cardoso addr:street\n",
      "Avenida Prefeito Dulcídio Cardoso addr:street\n",
      "Avenida Prefeito Dulcídio Cardoso addr:street\n",
      "Avenida Prefeito Dulcídio Cardoso addr:street\n",
      "Avenida Prefeito Dulcídio Cardoso addr:street\n",
      "Avenida Prefeito Dulcídio Cardoso addr:street\n",
      "Avenida Prefeito Dulcídio Cardoso addr:street\n",
      "Avenida Prefeito Dulcídio Cardoso addr:street\n",
      "Avenida Prefeito Dulcídio Cardoso addr:street\n",
      "Avenida Prefeito Dulcídio Cardoso addr:street\n",
      "Itaú Unibanco brand\n"
     ]
    },
    {
     "name": "stderr",
     "output_type": "stream",
     "text": [
      "Processing:  32%|███▏      | 34268/106084 [00:45<01:37, 736.34it/s]"
     ]
    },
    {
     "name": "stdout",
     "output_type": "stream",
     "text": [
      "MetrôRio operator\n",
      "Alameda São Boaventura addr:street\n",
      "Caixa Econômica Federal brand\n",
      "Niterói addr:city\n",
      "Alameda São Boaventura addr:street\n",
      "São Joaquim addr:city\n",
      "Rodovia Governador Mário Covas addr:street\n",
      "Itaboraí addr:suburb\n",
      "Conferir posição exata. note:pt\n",
      "Conferir posição. note:pt\n",
      "Itaú Unibanco brand\n",
      "Rua Guimarães Rosa addr:street\n",
      "Rua Guimarães Rosa addr:street\n"
     ]
    },
    {
     "name": "stderr",
     "output_type": "stream",
     "text": [
      "Processing:  32%|███▏      | 34418/106084 [00:46<01:36, 741.22it/s]"
     ]
    },
    {
     "name": "stdout",
     "output_type": "stream",
     "text": [
      "Rua Guimarães Rosa addr:street\n",
      "Rua Guimarães Rosa addr:street\n",
      "Rua Guimarães Rosa addr:street\n",
      "Rua Guimarães Rosa addr:street\n",
      "Rua Luís Barbosa Horta addr:street\n",
      "Rua Luís Barbosa Horta addr:street\n",
      "Rua Luís Barbosa Horta addr:street\n",
      "Rua Luís Barbosa Horta addr:street\n",
      "Rua Luís Augusto Vieira addr:street\n",
      "Rua Bráulio Eugênio Muller addr:street\n",
      "Rua Bráulio Eugênio Muller addr:street\n",
      "Rua Bráulio Eugênio Muller addr:street\n",
      "Rua Bráulio Eugênio Muller addr:street\n",
      "Rua Luís Augusto Vieira addr:street\n",
      "Rua Luís Augusto Vieira addr:street\n",
      "Rua Bráulio Eugênio Muller addr:street\n",
      "Rua Bráulio Eugênio Muller addr:street\n",
      "Rua Bráulio Eugênio Muller addr:street\n",
      "Rua Bráulio Eugênio Muller addr:street\n",
      "Rua Bráulio Eugênio Muller addr:street\n",
      "Rua Bráulio Eugênio Muller addr:street\n",
      "Rua Bráulio Eugênio Muller addr:street\n",
      "Rua Bráulio Eugênio Muller addr:street\n",
      "Rua Bráulio Eugênio Muller addr:street\n",
      "Rua Bráulio Eugênio Muller addr:street\n",
      "Avenida Prefeito Dulcídio Cardoso addr:street\n",
      "Avenida Prefeito Dulcídio Cardoso addr:street\n",
      "Avenida Prefeito Dulcídio Cardoso addr:street\n",
      "Avenida Prefeito Dulcídio Cardoso addr:street\n",
      "Rua Bráulio Eugênio Muller addr:street\n",
      "Rua Bráulio Eugênio Muller addr:street\n",
      "Rua Bráulio Eugênio Muller addr:street\n",
      "Rua Bráulio Eugênio Muller addr:street\n",
      "Rua Bráulio Eugênio Muller addr:street\n",
      "Rua Bráulio Eugênio Muller addr:street\n",
      "Rua Bráulio Eugênio Muller addr:street\n",
      "Rua Bráulio Eugênio Muller addr:street\n",
      "Rua Bráulio Eugênio Muller addr:street\n",
      "Rua Bráulio Eugênio Muller addr:street\n",
      "Rua Luís Augusto Vieira addr:street\n",
      "Rua Luís Augusto Vieira addr:street\n",
      "Rua Bráulio Eugênio Muller addr:street\n",
      "Rua Bráulio Eugênio Muller addr:street\n",
      "Avenida Prefeito Dulcídio Cardoso addr:street\n",
      "Avenida Prefeito Dulcídio Cardoso addr:street\n",
      "Rua Luís Augusto Vieira addr:street\n"
     ]
    },
    {
     "name": "stderr",
     "output_type": "stream",
     "text": [
      "Processing:  33%|███▎      | 34569/106084 [00:46<01:36, 744.34it/s]"
     ]
    },
    {
     "name": "stdout",
     "output_type": "stream",
     "text": [
      "Rua Luís Barbosa Horta addr:street\n",
      "Rua Luís Barbosa Horta addr:street\n",
      "Rua Luís Barbosa Horta addr:street\n",
      "Rua Luís Barbosa Horta addr:street\n",
      "Avenida Prefeito Dulcídio Cardoso addr:street\n",
      "Avenida Prefeito Dulcídio Cardoso addr:street\n",
      "Avenida Prefeito Dulcídio Cardoso addr:street\n",
      "Avenida Prefeito Dulcídio Cardoso addr:street\n",
      "Avenida Prefeito Dulcídio Cardoso addr:street\n",
      "Avenida Prefeito Dulcídio Cardoso addr:street\n",
      "Rua Luís Augusto Vieira addr:street\n",
      "Rua Luís Augusto Vieira addr:street\n",
      "Rua Luís Barbosa Horta addr:street\n",
      "Rua Luís Barbosa Horta addr:street\n",
      "Rua Luís Augusto Vieira addr:street\n",
      "Rua Luís Augusto Vieira addr:street\n",
      "Rua Luís Augusto Vieira addr:street\n",
      "Rua Luís Augusto Vieira addr:street\n",
      "Rua Luís Augusto Vieira addr:street\n",
      "Rua Luís Augusto Vieira addr:street\n",
      "Rua Luís Augusto Vieira addr:street\n",
      "Rua Luís Augusto Vieira addr:street\n",
      "Avenida Prefeito Dulcídio Cardoso addr:street\n",
      "Avenida Prefeito Dulcídio Cardoso addr:street\n",
      "Avenida Prefeito Dulcídio Cardoso addr:street\n",
      "Avenida Prefeito Dulcídio Cardoso addr:street\n",
      "Avenida Atlântica 3916 cob 01-A addr:street\n",
      "Rua Salinópolis addr:street\n",
      "Avenida Prefeito Dulcídio Cardoso addr:street\n",
      "Avenida Prefeito Dulcídio Cardoso addr:street\n",
      "Avenida Prefeito Dulcídio Cardoso addr:street\n",
      "Avenida Prefeito Dulcídio Cardoso addr:street\n",
      "Avenida Prefeito Dulcídio Cardoso addr:street\n",
      "Avenida Prefeito Dulcídio Cardoso addr:street\n",
      "Avenida Prefeito Dulcídio Cardoso addr:street\n",
      "Avenida Prefeito Dulcídio Cardoso addr:street\n",
      "Avenida Prefeito Dulcídio Cardoso addr:street\n",
      "Avenida Prefeito Dulcídio Cardoso addr:street\n",
      "Avenida das Américas addr:street\n",
      "Citroën brand\n",
      "fr:Citroën brand:wikipedia\n",
      "Avenida Prefeito Dulcídio Cardoso addr:street\n",
      "Maricá addr:city\n"
     ]
    },
    {
     "name": "stderr",
     "output_type": "stream",
     "text": [
      "Processing:  33%|███▎      | 34797/106084 [00:46<01:35, 747.68it/s]"
     ]
    },
    {
     "name": "stdout",
     "output_type": "stream",
     "text": [
      "Várzea das Moças, São Gonçalo addr:city\n",
      "Avenida Plínio Gomes de Matos Filho addr:street\n",
      "Petrópolis addr:city\n",
      "Avenida Nossa Senhora de Fátima addr:street\n",
      "Caixa Econômica Federal brand\n",
      "ja:日産自動車 brand:wikipedia\n",
      "Avenida das Américas addr:street\n",
      "Avenida das Américas addr:street\n",
      "Avenida das Américas addr:street\n",
      "Avenida das Américas addr:street\n",
      "Avenida das Américas addr:street\n",
      "Avenida das Américas addr:street\n",
      "Avenida das Américas addr:street\n",
      "Avenida das Américas addr:street\n",
      "Avenida das Américas addr:street\n",
      "Avenida das Américas addr:street\n",
      "Avenida das Américas addr:street\n"
     ]
    },
    {
     "name": "stderr",
     "output_type": "stream",
     "text": [
      "Processing:  33%|███▎      | 34947/106084 [00:46<01:35, 743.37it/s]"
     ]
    },
    {
     "name": "stdout",
     "output_type": "stream",
     "text": [
      "Avenida das Américas addr:street\n",
      "Avenida das Américas addr:street\n",
      "Avenida das Américas addr:street\n",
      "Avenida das Américas addr:street\n",
      "Avenida das Américas addr:street\n",
      "Avenida das Américas addr:street\n",
      "Avenida das Américas addr:street\n",
      "Avenida das Américas addr:street\n",
      "Avenida das Américas addr:street\n",
      "Avenida das Américas addr:street\n",
      "Avenida das Américas addr:street\n",
      "Avenida das Américas addr:street\n",
      "Avenida das Américas addr:street\n",
      "Avenida das Américas addr:street\n",
      "Avenida das Américas addr:street\n",
      "Avenida das Américas addr:street\n",
      "Avenida das Américas addr:street\n",
      "Avenida das Américas addr:street\n",
      "Avenida das Américas addr:street\n",
      "Avenida das Américas addr:street\n",
      "Avenida das Américas addr:street\n",
      "Avenida das Américas addr:street\n",
      "Avenida das Américas addr:street\n",
      "Avenida das Américas addr:street\n",
      "Avenida das Américas addr:street\n",
      "Avenida das Américas addr:street\n",
      "Avenida das Américas addr:street\n",
      "Avenida das Américas addr:street\n",
      "Avenida das Américas addr:street\n",
      "Avenida das Américas addr:street\n",
      "Avenida das Américas addr:street\n",
      "Avenida das Américas addr:street\n",
      "Avenida das Américas addr:street\n",
      "Avenida das Américas addr:street\n",
      "Avenida das Américas addr:street\n",
      "Avenida das Américas addr:street\n",
      "Avenida das Américas addr:street\n",
      "Avenida das Américas addr:street\n",
      "Avenida das Américas addr:street\n",
      "Avenida das Américas addr:street\n",
      "Avenida das Américas addr:street\n",
      "Avenida das Américas addr:street\n",
      "Avenida das Américas addr:street\n",
      "Avenida das Américas addr:street\n",
      "Avenida das Américas addr:street\n",
      "Avenida das Américas addr:street\n",
      "Avenida das Américas addr:street\n",
      "Avenida das Américas addr:street\n",
      "Avenida das Américas addr:street\n",
      "Avenida das Américas addr:street\n",
      "Avenida das Américas addr:street\n",
      "Avenida das Américas addr:street\n",
      "Avenida das Américas addr:street\n",
      "Avenida das Américas addr:street\n",
      "Avenida das Américas addr:street\n",
      "Avenida das Américas addr:street\n",
      "Avenida das Américas addr:street\n",
      "Avenida das Américas addr:street\n",
      "Avenida das Américas addr:street\n",
      "Avenida das Américas addr:street\n",
      "Avenida das Américas addr:street\n",
      "Avenida das Américas addr:street\n",
      "Avenida das Américas addr:street\n",
      "Avenida das Américas addr:street\n",
      "Avenida das Américas addr:street\n",
      "Avenida das Américas addr:street\n",
      "Avenida das Américas addr:street\n",
      "Avenida das Américas addr:street\n",
      "Avenida das Américas addr:street\n",
      "Avenida das Américas addr:street\n",
      "Avenida das Américas addr:street\n",
      "Avenida das Américas addr:street\n",
      "Avenida das Américas addr:street\n",
      "Avenida das Américas addr:street\n",
      "Avenida das Américas addr:street\n",
      "Avenida das Américas addr:street\n",
      "Avenida das Américas addr:street\n",
      "Avenida das Américas addr:street\n",
      "Avenida das Américas addr:street\n",
      "Avenida das Américas addr:street\n",
      "Avenida das Américas addr:street\n",
      "Avenida das Américas addr:street\n",
      "Avenida das Américas addr:street\n",
      "Avenida das Américas addr:street\n",
      "Avenida das Américas addr:street\n",
      "Avenida das Américas addr:street\n",
      "Avenida das Américas addr:street\n",
      "Avenida das Américas addr:street\n",
      "Avenida das Américas addr:street\n",
      "Avenida das Américas addr:street\n",
      "Avenida das Américas addr:street\n",
      "Avenida das Américas addr:street\n",
      "Avenida das Américas addr:street\n",
      "Avenida das Américas addr:street\n",
      "Avenida das Américas addr:street\n",
      "Avenida das Américas addr:street\n",
      "Avenida das Américas addr:street\n",
      "Avenida das Américas addr:street\n",
      "Avenida das Américas addr:street\n",
      "Avenida das Américas addr:street\n",
      "Avenida das Américas addr:street\n",
      "Avenida das Américas addr:street\n",
      "Avenida das Américas addr:street\n",
      "Avenida das Américas addr:street\n",
      "Avenida das Américas addr:street\n",
      "Avenida das Américas addr:street\n",
      "Avenida das Américas addr:street\n",
      "Avenida das Américas addr:street\n",
      "Avenida das Américas addr:street\n",
      "Avenida das Américas addr:street\n",
      "Avenida das Américas addr:street\n",
      "Avenida das Américas addr:street\n",
      "Avenida das Américas addr:street\n",
      "Avenida das Américas addr:street\n",
      "Avenida das Américas addr:street\n",
      "Avenida das Américas addr:street\n",
      "Avenida das Américas addr:street\n",
      "Avenida das Américas addr:street\n",
      "Avenida das Américas addr:street\n",
      "Avenida das Américas addr:street\n",
      "Avenida das Américas addr:street\n",
      "Avenida das Américas addr:street\n",
      "Avenida das Américas addr:street\n",
      "Avenida das Américas addr:street\n",
      "Avenida das Américas addr:street\n",
      "Avenida das Américas addr:street\n",
      "Avenida das Américas addr:street\n",
      "Avenida das Américas addr:street\n",
      "Avenida das Américas addr:street\n",
      "Avenida das Américas addr:street\n",
      "Avenida das Américas addr:street\n",
      "Avenida das Américas addr:street\n",
      "Avenida das Américas addr:street\n",
      "Avenida das Américas addr:street\n",
      "Avenida das Américas addr:street\n",
      "Avenida das Américas addr:street\n",
      "Avenida das Américas addr:street\n",
      "Avenida das Américas addr:street\n",
      "Avenida das Américas addr:street\n",
      "Avenida das Américas addr:street\n",
      "Avenida das Américas addr:street\n",
      "Avenida das Américas addr:street\n"
     ]
    },
    {
     "name": "stderr",
     "output_type": "stream",
     "text": [
      "Processing:  33%|███▎      | 35097/106084 [00:47<01:35, 740.07it/s]"
     ]
    },
    {
     "name": "stdout",
     "output_type": "stream",
     "text": [
      "Avenida das Américas addr:street\n",
      "Avenida das Américas addr:street\n",
      "Rua Luís Orlando Cardoso addr:street\n",
      "Rua Luís Orlando Cardoso addr:street\n",
      "Rua Procurador Machado Guimarães addr:street\n",
      "Rua Procurador Machado Guimarães addr:street\n",
      "Rua Petrônio Castro e Souza addr:street\n",
      "Rua Petrônio Castro e Souza addr:street\n",
      "Rua Petrônio Castro e Souza addr:street\n",
      "Rua Petrônio Castro e Souza addr:street\n",
      "Rua Luís Orlando Cardoso addr:street\n",
      "Rua Luís Orlando Cardoso addr:street\n",
      "Rua Luís Orlando Cardoso addr:street\n",
      "Rua Luís Orlando Cardoso addr:street\n",
      "Rua Procurador Machado Guimarães addr:street\n",
      "Rua Procurador Machado Guimarães addr:street\n",
      "Rua Luís Orlando Cardoso addr:street\n",
      "Rua Luís Orlando Cardoso addr:street\n",
      "Rua Luís Orlando Cardoso addr:street\n",
      "Rua Luís Orlando Cardoso addr:street\n",
      "Rua Luís Orlando Cardoso addr:street\n",
      "Rua Luís Orlando Cardoso addr:street\n",
      "Rua Luís Orlando Cardoso addr:street\n",
      "Rua Luís Orlando Cardoso addr:street\n",
      "Rua Luís Orlando Cardoso addr:street\n",
      "Rua Luís Orlando Cardoso addr:street\n",
      "Rua Luís Orlando Cardoso addr:street\n",
      "Rua Luís Orlando Cardoso addr:street\n",
      "Rua Luís Orlando Cardoso addr:street\n",
      "Rua Luís Orlando Cardoso addr:street\n",
      "Rua Proc Machado Guimarães addr:street\n",
      "Rua Proc Machado Guimarães addr:street\n",
      "Rua Proc Machado Guimarães addr:street\n",
      "Rua Proc Machado Guimarães addr:street\n",
      "Rua Proc Machado Guimarães addr:street\n",
      "Rua Proc Machado Guimarães addr:street\n",
      "Rua Petrônio Castro e Souza addr:street\n",
      "Rua Petrônio Castro e Souza addr:street\n",
      "Rua Petrônio Castro e Souza addr:street\n",
      "Rua Petrônio Castro e Souza addr:street\n",
      "Rua Petrônio Castro e Souza addr:street\n",
      "Rua Petrônio Castro e Souza addr:street\n",
      "Rua Petrônio Castro e Souza addr:street\n",
      "Rua Petrônio Castro e Souza addr:street\n",
      "Av das Américas addr:street\n",
      "Av das Américas addr:street\n",
      "Itaú Unibanco brand\n",
      "Itaú Unibanco operator\n",
      "Av das Américas addr:street\n",
      "Rua Mário Albuquerque addr:street\n",
      "Rua Mário Albuquerque addr:street\n",
      "Rua Mário Albuquerque addr:street\n",
      "Rua Mário Albuquerque addr:street\n",
      "Rua Mário Albuquerque addr:street\n",
      "Rua Mário Albuquerque addr:street\n",
      "Avenida Cândido Portinari addr:street\n",
      "Avenida Cândido Portinari addr:street\n",
      "Avenida Cândido Portinari addr:street\n",
      "Avenida Cândido Portinari addr:street\n",
      "Avenida Cândido Portinari addr:street\n",
      "Avenida Cândido Portinari addr:street\n",
      "Avenida Cândido Portinari addr:street\n",
      "Rua Luís Orlando Cardoso addr:street\n",
      "Rua Luís Orlando Cardoso addr:street\n",
      "Rua Mário Albuquerque addr:street\n",
      "Rua Mário Albuquerque addr:street\n",
      "Avenida Cândido Portinari addr:street\n",
      "Avenida Cândido Portinari addr:street\n",
      "Rua Procurador Machado Guimarães addr:street\n",
      "Rua Procurador Machado Guimarães addr:street\n"
     ]
    },
    {
     "name": "stderr",
     "output_type": "stream",
     "text": [
      "Processing:  33%|███▎      | 35246/106084 [00:47<01:38, 718.57it/s]"
     ]
    },
    {
     "name": "stdout",
     "output_type": "stream",
     "text": [
      "Avenida Cândido Portinari addr:street\n",
      "Avenida Cândido Portinari addr:street\n",
      "Avenida Cândido Portinari addr:street\n",
      "Rua Luís Orlando Cardoso addr:street\n",
      "Rua Luís Orlando Cardoso addr:street\n",
      "Rua Procurador Machado Guimarães addr:street\n",
      "Rua Procurador Machado Guimarães addr:street\n",
      "Rua Mário Albuquerque addr:street\n",
      "Rua Mário Albuquerque addr:street\n",
      "Rua Mário Albuquerque addr:street\n",
      "Rua Mário Albuquerque addr:street\n",
      "Rua Mário Albuquerque addr:street\n",
      "Rua Mário Albuquerque addr:street\n",
      "Rua Mário Albuquerque addr:street\n",
      "Rua Mário Albuquerque addr:street\n",
      "Rua Mário Albuquerque addr:street\n",
      "Rua Mário Albuquerque addr:street\n",
      "Rua Mário Albuquerque addr:street\n",
      "Rua Mário Albuquerque addr:street\n",
      "Rua Mário Albuquerque addr:street\n",
      "Rua Mário Albuquerque addr:street\n",
      "Rua Luís Orlando Cardoso addr:street\n",
      "Rua Luís Orlando Cardoso addr:street\n",
      "Rua Luís Orlando Cardoso addr:street\n",
      "Rua Luís Orlando Cardoso addr:street\n",
      "Rua Proc Machado Guimarães addr:street\n",
      "Rua Proc Machado Guimarães addr:street\n",
      "Rua Proc Machado Guimarães addr:street\n",
      "Rua Proc Machado Guimarães addr:street\n",
      "Rua Benjamin Magalhães addr:street\n",
      "Rua Benjamin Magalhães addr:street\n",
      "Rua José Eiras Pinheiro addr:street\n",
      "Rua José Eiras Pinheiro addr:street\n",
      "Rua José Eiras Pinheiro addr:street\n",
      "Rua Benjamin Magalhães addr:street\n",
      "Rua Benjamin Magalhães addr:street\n",
      "Rua José Eiras Pinheiro addr:street\n",
      "Rua José Eiras Pinheiro addr:street\n",
      "Rua José Eiras Pinheiro addr:street\n",
      "Rua José Eiras Pinheiro addr:street\n",
      "Rua José Eiras Pinheiro addr:street\n",
      "Rua José Eiras Pinheiro addr:street\n",
      "Rua José Eiras Pinheiro addr:street\n",
      "Rua Benjamim Magalhães addr:street\n",
      "Rua Benjamim Magalhães addr:street\n",
      "Rua Benjamim Magalhães addr:street\n",
      "Rua Benjamim Magalhães addr:street\n",
      "Rua Benjamim Magalhães addr:street\n",
      "Rua Benjamim Magalhães addr:street\n",
      "Rua José Eiras Pinheiros addr:street\n",
      "Rua José Eiras Pinheiros addr:street\n",
      "Rua José Eiras Pinheiros addr:street\n",
      "Rua José Eiras Pinheiros addr:street\n",
      "Rua José Eiras Pinheiros addr:street\n",
      "Rua José Eiras Pinheiros addr:street\n",
      "Rua José Eiras Pinheiros addr:street\n",
      "Rua José Eiras Pinheiros addr:street\n",
      "Itaú Unibanco brand\n"
     ]
    },
    {
     "name": "stderr",
     "output_type": "stream",
     "text": [
      "Processing:  33%|███▎      | 35470/106084 [00:47<01:35, 737.25it/s]"
     ]
    },
    {
     "name": "stdout",
     "output_type": "stream",
     "text": [
      "Praça General Tibúrcio addr:street\n",
      "Praça Cazuza addr:street\n",
      "Conspiração operator\n",
      "Petrópolis addr:city\n",
      "Rua Barão do Amazonas addr:street\n",
      "pt:Museu de Cera de Petrópolis wikipedia\n",
      "Rua Visconde de Pirajá addr:street\n",
      "Rua Visconde de Pirajá addr:street\n",
      "Rua Assunção addr:street\n",
      "Bike Itaú network\n",
      "Setrans Segurança e Trânsito operator\n",
      "Setrans Segurança e Trânsito operator\n",
      "Setrans Segurança e Trânsito operator\n",
      "Setrans Segurança e Trânsito operator\n",
      "Setrans Segurança e Trânsito operator\n",
      "Avenida Geremário Dantas addr:street\n",
      "Estação Méier local_ref\n"
     ]
    },
    {
     "name": "stderr",
     "output_type": "stream",
     "text": [
      "Processing:  34%|███▎      | 35618/106084 [00:47<01:35, 737.66it/s]"
     ]
    },
    {
     "name": "stdout",
     "output_type": "stream",
     "text": [
      "Estrada São João - Caxias addr:street\n",
      "Rua São Francisco de Assis addr:street\n",
      "São João de Meriti addr:city\n",
      "Rua Antônio José de Moraes addr:street\n",
      "Teresópolis addr:city\n",
      "Avenida Feliciano Sodré addr:street\n",
      "Caixa Econômica Federal brand\n",
      "pt:Caixa Econômica Federal brand:wikipedia\n",
      "Teresópolis addr:city\n",
      "Avenida Feliciano Sodré addr:street\n",
      "Teresópolis addr:city\n",
      "Avenida Feliciano Sodré addr:street\n",
      "Teresópolis addr:city\n",
      "Teresópolis addr:city\n",
      "Rua Prefeito Sebastião Teixeira addr:street\n",
      "Teresópolis addr:city\n",
      "Rua São Pedro addr:street\n",
      "Teresópoli addr:city\n",
      "Teresópolis addr:city\n",
      "Teresópolis addr:city\n",
      "Avenida Feliciano Sodré addr:street\n",
      "Teresópolis addr:city\n",
      "Rua Capitão Edimundo Nascimento addr:street\n",
      "Teresópolis addr:city\n",
      "Teresópolis addr:city\n",
      "Teresópolis addr:city\n",
      "Restaurante_especializado_em café da manhã e brunch cuisine\n",
      "Saída Docas description\n"
     ]
    },
    {
     "name": "stderr",
     "output_type": "stream",
     "text": [
      "Processing:  34%|███▍      | 35845/106084 [00:48<01:34, 745.41it/s]"
     ]
    },
    {
     "name": "stdout",
     "output_type": "stream",
     "text": [
      "Itaú Unibanco brand\n",
      "pt:Itaú Unibanco brand:wikipedia\n",
      "Teresópolis addr:city\n",
      "Avenida Lúcio Meira addr:street\n",
      "Avenida Feliciano Sodré addr:street\n",
      "Teresópolis addr:city\n",
      "Avenida Feliciano Sodré addr:street\n",
      "Teresópolis addr:city\n",
      "Avenida Feliciano Sodré addr:street\n",
      "Teresópolis addr:city\n",
      "Avenida Feliciano Sodré addr:street\n",
      "Teresópolis addr:city\n",
      "Avenida Feliciano Sodré addr:street\n",
      "Teresópolis addr:city\n",
      "Rua Magé addr:street\n",
      "Teresópolis addr:city\n",
      "Avenida Feliciano Sodré addr:street\n",
      "Teresópolis addr:city\n",
      "Rua Prefeito Sebastião Teixeira addr:street\n",
      "Conferir posição. note:pt\n",
      "Conferir posição. note:pt\n",
      "São Paulo addr:city\n",
      "São Paulo addr:city\n"
     ]
    },
    {
     "name": "stderr",
     "output_type": "stream",
     "text": [
      "Processing:  34%|███▍      | 36147/106084 [00:48<01:33, 748.06it/s]"
     ]
    },
    {
     "name": "stdout",
     "output_type": "stream",
     "text": [
      "Avenida Maracanã addr:street\n",
      "Itaú Unibanco brand\n",
      "pt:Itaú Unibanco brand:wikipedia\n",
      "Sexagésima Quarta Delegacia de Polícia official_name\n",
      "Na área paga ds estação note:pt\n",
      "Três Fronteiras name:pt\n",
      "Polícia Rodoviária Federal operator\n",
      "Rua Semí Alzuguir addr:street\n",
      "Rua Semí Alzuguir addr:street\n",
      "Rua Mário Milward addr:street\n"
     ]
    },
    {
     "name": "stderr",
     "output_type": "stream",
     "text": [
      "Processing:  34%|███▍      | 36298/106084 [00:48<01:33, 748.42it/s]"
     ]
    },
    {
     "name": "stdout",
     "output_type": "stream",
     "text": [
      "Rua Mário Milward addr:street\n",
      "Rua Mário Milward addr:street\n",
      "Rua Mário Milward addr:street\n",
      "Rua Semí Alzuguir addr:street\n",
      "Rua Semí Alzuguir addr:street\n",
      "Rua Mário Milward addr:street\n",
      "Rua Mário Milward addr:street\n",
      "Rua Mário Milward addr:street\n",
      "Rua Mário Milward addr:street\n",
      "Rua Mário Milward addr:street\n",
      "Rua Mário Milward addr:street\n",
      "Residência description\n",
      "Rua Semí Alzuguir addr:street\n",
      "Rua Semí Alzuguir addr:street\n",
      "Rua Mário Autuori addr:street\n",
      "Rua Mário Autuori addr:street\n",
      "Rua Mário Autuori addr:street\n",
      "Rua Mário Autuori addr:street\n",
      "Rua Mário Autuori addr:street\n",
      "Rua Mário Autuori addr:street\n",
      "Rua Mário Autuori addr:street\n",
      "Rua Mário Autuori addr:street\n",
      "Rua Margarida Valadão addr:street\n",
      "Rua Margarida Valadão addr:street\n",
      "Rua Margarida Valadão addr:street\n",
      "Rua Margarida Valadão addr:street\n",
      "Rua Margarida Valadão addr:street\n",
      "Rua Margarida Valadão addr:street\n",
      "Rua Margarida Valadão addr:street\n",
      "Rua Margarida Valadão addr:street\n",
      "Rua Margarida Valadão addr:street\n",
      "Rua Margarida Valadão addr:street\n",
      "Rua Margarida Valadão addr:street\n",
      "Rua Margarida Valadão addr:street\n",
      "Rua Mário Autuori addr:street\n",
      "Rua Mário Autuori addr:street\n",
      "Rua Dário Coelho addr:street\n",
      "Rua Dário Coelho addr:street\n",
      "Rua Dário Coelho addr:street\n",
      "Rua Dário Coelho addr:street\n",
      "Rua Mário Autuori addr:street\n",
      "Rua Mário Autuori addr:street\n",
      "Rua Mário Autuori addr:street\n",
      "Rua Mário Autuori addr:street\n",
      "Rua Dário Coelho addr:street\n",
      "Rua Dário Coelho addr:street\n",
      "Rua Dário Coelho addr:street\n",
      "Rua Dário Coelho addr:street\n",
      "Rua Dário Coelho addr:street\n",
      "Rua Dário Coelho addr:street\n",
      "Av das Américas addr:street\n",
      "Av das Américas addr:street\n",
      "Av das Américas addr:street\n",
      "Itaboraí addr:city\n"
     ]
    },
    {
     "name": "stderr",
     "output_type": "stream",
     "text": [
      "Processing:  34%|███▍      | 36449/106084 [00:48<01:33, 744.43it/s]"
     ]
    },
    {
     "name": "stdout",
     "output_type": "stream",
     "text": [
      "Méier addr:suburb\n",
      "Ortális Comércio Hortifrutigranjeiros official_name\n",
      "Méier addr:suburb\n",
      "Caixa Econômica Federal brand\n",
      "pt:Caixa Econômica Federal brand:wikipedia\n",
      "Rua João Geraldo Kuhlmann addr:street\n",
      "Rua João Geraldo Kuhlmann addr:street\n",
      "Rua Desenhista Luís Guimarães addr:street\n",
      "Rua Desenhista Luís Guimarães addr:street\n",
      "Rua João Geraldo Kuhlmann addr:street\n",
      "Rua João Geraldo Kuhlmann addr:street\n",
      "Rua João Geraldo Kuhlmann addr:street\n",
      "Rua João Geraldo Kuhlmann addr:street\n",
      "Rua Nélson Rodrigues addr:street\n",
      "Rua Sebastião Affonso Ferreira addr:street\n",
      "Rua Nélson Rodrigues addr:street\n",
      "Rua Sebastião Affonso Ferreira addr:street\n",
      "Rua Desenhista Luís Guimarães addr:street\n",
      "Rua Desenhista Luís Guimarães addr:street\n",
      "Rua Sebastião Affonso Ferreira addr:street\n",
      "Rua Sebastião Affonso Ferreira addr:street\n",
      "Rua Josué de Castro addr:street\n",
      "Rua Josué de Castro addr:street\n",
      "Rua João Geraldo Kuhlmann addr:street\n",
      "Rua Nélson Rodrigues addr:street\n",
      "Rua Nélson Rodrigues addr:street\n",
      "Rua João Geraldo Kuhlmann addr:street\n",
      "Rua Desenhista Luís Guimarães addr:street\n",
      "Rua Desenhista Luís Guimarães addr:street\n",
      "Avenida Hildebrando de Araújo Goes addr:street\n",
      "Avenida Hildebrando de Araújo Goes addr:street\n",
      "Rua João Geraldo Kuhlmann addr:street\n",
      "Rua João Geraldo Kuhlmann addr:street\n",
      "Rua Josué de Castro addr:street\n",
      "Rua Josué de Castro addr:street\n",
      "Rua João Geraldo Kuhlmann addr:street\n",
      "Rua João Geraldo Kuhlmann addr:street\n",
      "Rua João Geraldo Kuhlmann addr:street\n",
      "Rua João Geraldo Kuhlmann addr:street\n",
      "Rua João Geraldo Kuhlmann addr:street\n",
      "Rua João Geraldo Kuhlmann addr:street\n",
      "Rua João Geraldo Kuhlmann addr:street\n",
      "Rua João Geraldo Kuhlmann addr:street\n",
      "Rua João Geraldo Kuhlmann addr:street\n",
      "Rua João Geraldo Kuhlmann addr:street\n",
      "Rua Nélson Rodrigues addr:street\n",
      "Rua Nélson Rodrigues addr:street\n",
      "Rua Nélson Rodrigues addr:street\n",
      "Rua Nélson Rodrigues addr:street\n",
      "Rua Nélson Rodrigues addr:street\n",
      "Rua Nélson Rodrigues addr:street\n",
      "Rua Sebastião Affonso Ferreira addr:street\n",
      "Rua Sebastião Affonso Ferreira addr:street\n",
      "Rua Sebastião Affonso Ferreira addr:street\n",
      "Rua Josué de Castro addr:street\n",
      "Rua Sebastião Affonso Ferreira addr:street\n",
      "Rua Sebastião Affonso Ferreira addr:street\n",
      "Rua Josué de Castro addr:street\n",
      "Rua Sebastião Affonso Ferreira addr:street\n",
      "Rua Josué de Castro addr:street\n",
      "Rua Josué de Castro addr:street\n",
      "Rua Josué de Castro addr:street\n",
      "Rua Josué de Castro addr:street\n",
      "Rua Desenhista Luís Guimarães addr:street\n",
      "Rua Desenhista Luís Guimarães addr:street\n",
      "Rua Desenhista Luís Guimarães addr:street\n",
      "Rua Desenhista Luís Guimarães addr:street\n",
      "Rua Desenhista Luís Guimarães addr:street\n",
      "Rua Desenhista Luís Guimarães addr:street\n",
      "Rua Desenhista Luís Guimarães addr:street\n",
      "Rua Desenhista Luís Guimarães addr:street\n",
      "Rua Gazzi de Sá addr:street\n",
      "Rua Gazzi de Sá addr:street\n",
      "Rua Professora Marina Guimarães addr:street\n",
      "Rua José de Brito addr:street\n",
      "Rua Professora Marina Guimarães addr:street\n",
      "Rua José de Brito addr:street\n",
      "Rua Gazzi de Sá addr:street\n",
      "Rua Gazzi de Sá addr:street\n",
      "Rua José de Brito addr:street\n",
      "Rua José de Brito addr:street\n",
      "Rua Professora Marina Guimarães addr:street\n",
      "Rua Professora Marina Guimarães addr:street\n",
      "Avenida Hildebrando de Araújo Goes addr:street\n",
      "Avenida Hildebrando de Araújo Goes addr:street\n",
      "Avenida Hildebrando de Araújo Goes addr:street\n",
      "Avenida Hildebrando de Araújo Goes addr:street\n",
      "Avenida Hildebrando de Araújo Goes addr:street\n",
      "Avenida Hildebrando de Araújo Goes addr:street\n",
      "Avenida Hildebrando de Araújo Goes addr:street\n"
     ]
    },
    {
     "name": "stderr",
     "output_type": "stream",
     "text": [
      "Processing:  35%|███▍      | 36600/106084 [00:49<01:32, 747.33it/s]"
     ]
    },
    {
     "name": "stdout",
     "output_type": "stream",
     "text": [
      "Avenida Hildebrando de Araújo Goes addr:street\n",
      "Rua Gazzi de Sá addr:street\n",
      "Rua Gazzi de Sá addr:street\n",
      "Rua Gazzi de Sá addr:street\n",
      "Rua Gazzi de Sá addr:street\n",
      "Rua José de Brito addr:street\n",
      "Rua José de Brito addr:street\n",
      "Rua José de Brito addr:street\n",
      "Rua José de Brito addr:street\n",
      "Saída Broadcasting description\n",
      "Célio de Barros description\n",
      "Ginásio Gilberto Cardoso description\n",
      "Ginásio Gilberto Cardoso description\n",
      "Ginásio Gilberto Cardoso description\n",
      "Ginásio Gilberto Cardoso description\n",
      "Acesso Atletas e Comissão Técnica description\n",
      "Informations about Maracanã Tour description\n",
      "Rua Arthur Antônio Sendas addr:street\n",
      "Avenida Rainha Elizabeth da Bélgica addr:street\n",
      "Avenida Rainha Elizabeth da Bélgica addr:street\n",
      "Posição aproximada, verificar com GPS note:pt\n"
     ]
    },
    {
     "name": "stderr",
     "output_type": "stream",
     "text": [
      "Processing:  35%|███▍      | 36750/106084 [00:49<01:35, 725.05it/s]"
     ]
    },
    {
     "name": "stdout",
     "output_type": "stream",
     "text": [
      "Rua José de Figueiredo addr:street\n",
      "Rua José de Figueiredo addr:street\n",
      "Rua José de Figueiredo addr:street\n",
      "Rua José de Figueiredo addr:street\n",
      "Rua José de Figueiredo addr:street\n",
      "Rua José de Figueiredo addr:street\n",
      "Rua José de Figueiredo addr:street\n",
      "Rua José de Figueiredo addr:street\n",
      "Rua Emílio Wolf addr:street\n",
      "Rua José de Figueiredo addr:street\n",
      "Rua Emílio Wolf addr:street\n",
      "Rua Emílio Wolf addr:street\n",
      "Rua Emílio Wolf addr:street\n",
      "Rua José de Figueiredo addr:street\n",
      "Rua José de Figueiredo addr:street\n",
      "Rua José de Figueiredo addr:street\n",
      "Avenida das Américas addr:street\n",
      "Avenida das Américas addr:street\n",
      "Rua José de Figueiredo addr:street\n",
      "Rua José de Figueiredo addr:street\n",
      "Rua José de Figueiredo addr:street\n",
      "Rua José de Figueiredo addr:street\n",
      "Rua Emílio Wolf addr:street\n",
      "Rua Emílio Wolf addr:street\n",
      "Rua Emílio Wolf addr:street\n",
      "Rua Emílio Wolf addr:street\n",
      "Rua Emílio Wolf addr:street\n",
      "Rua Emílio Wolf addr:street\n",
      "Rua Emílio Wolf addr:street\n",
      "Rua Emílio Wolf addr:street\n",
      "Rua Emílio Wolf addr:street\n",
      "Rua Emílio Wolf addr:street\n",
      "Rua Emílio Wolf addr:street\n",
      "Rua Emílio Wolf addr:street\n",
      "Avenida das Américas addr:street\n",
      "Itaú Unibanco brand\n",
      "Itaú operator\n",
      "Prédio dos cursos de Eletrônica e Eletrotécnica description\n",
      "ETE Visconde de Mauá short_name\n",
      "Prédio do curso de Mecânica description\n",
      "ETE Visconde de Mauá short_name\n",
      "EEEF Visconde de Mauá short_name\n",
      "ETE Oscar Tenório short_name\n"
     ]
    },
    {
     "name": "stderr",
     "output_type": "stream",
     "text": [
      "Processing:  35%|███▍      | 36974/106084 [00:49<01:36, 718.06it/s]"
     ]
    },
    {
     "name": "stdout",
     "output_type": "stream",
     "text": [
      "Jacarepaguá addr:suburb\n",
      "Avenida das Américas addr:street\n",
      "Avenida das Américas addr:street\n",
      "Avenida das Américas addr:street\n",
      "Avenida das Américas addr:street\n",
      "Av das Américas addr:street\n",
      "Avenida das Américas addr:street\n",
      "Avenida das Américas addr:street\n",
      "Avenida das Américas addr:street\n",
      "Avenida das Américas addr:street\n",
      "Avenida das Américas addr:street\n",
      "Avenida das Américas addr:street\n",
      "Avenida das Américas addr:street\n",
      "Avenida das Américas addr:street\n",
      "Avenida das Américas addr:street\n",
      "Avenida das Américas addr:street\n",
      "Avenida das Américas addr:street\n",
      "Avenida das Américas addr:street\n",
      "Avenida das Américas addr:street\n",
      "Avenida das Américas addr:street\n",
      "Avenida das Américas addr:street\n",
      "Avenida das Américas addr:street\n",
      "Avenida das Américas addr:street\n",
      "Avenida das Américas addr:street\n",
      "Avenida das Américas addr:street\n",
      "Avenida das Américas addr:street\n",
      "Av das Américas addr:street\n",
      "Avenida das Américas addr:street\n",
      "Avenida das Américas addr:street\n",
      "Avenida das Américas addr:street\n",
      "Avenida das Américas addr:street\n",
      "Avenida das Américas addr:street\n",
      "Avenida das Américas addr:street\n",
      "Avenida das Américas addr:street\n",
      "Avenida das Américas addr:street\n",
      "Avenida das Américas addr:street\n",
      "Avenida das Américas addr:street\n",
      "Avenida das Américas addr:street\n",
      "Avenida das Américas addr:street\n",
      "Av das Américas addr:street\n",
      "Avenida das Américas addr:street\n",
      "Avenida das Américas addr:street\n",
      "Avenida das Américas addr:street\n",
      "Avenida das Américas addr:street\n",
      "Avenida das Américas addr:street\n",
      "Avenida das Américas addr:street\n",
      "Avenida das Américas addr:street\n",
      "Avenida das Américas addr:street\n"
     ]
    },
    {
     "name": "stderr",
     "output_type": "stream",
     "text": [
      "Processing:  35%|███▍      | 37123/106084 [00:49<01:34, 729.89it/s]"
     ]
    },
    {
     "name": "stdout",
     "output_type": "stream",
     "text": [
      "Avenida das Américas addr:street\n",
      "Avenida das Américas addr:street\n",
      "Avenida das Américas addr:street\n",
      "Avenida Lúcio Costa addr:street\n",
      "Avenida Lúcio Costa addr:street\n",
      "Avenida Lúcio Costa addr:street\n",
      "Avenida Lúcio Costa addr:street\n",
      "Avenida Lúcio Costa addr:street\n",
      "Avenida Lúcio Costa addr:street\n",
      "Avenida Lúcio Costa addr:street\n",
      "Avenida Lúcio Costa addr:street\n",
      "Avenida Lúcio Costa addr:street\n",
      "Avenida Lúcio Costa addr:street\n",
      "Avenida Lúcio Costa addr:street\n",
      "Avenida Lúcio Costa addr:street\n",
      "Avenida Lúcio Costa addr:street\n",
      "Avenida Lúcio Costa addr:street\n",
      "Avenida Lúcio Costa addr:street\n",
      "Avenida Lúcio Costa addr:street\n",
      "Avenida Lúcio Costa addr:street\n",
      "Avenida Lúcio Costa addr:street\n",
      "Avenida Lúcio Costa addr:street\n",
      "Avenida Lúcio Costa addr:street\n",
      "Avenida Lúcio Costa addr:street\n",
      "Avenida Lúcio Costa addr:street\n",
      "Avenida Lúcio Costa addr:street\n",
      "Avenida Lúcio Costa addr:street\n",
      "Avenida Lúcio Costa addr:street\n",
      "Avenida Lúcio Costa addr:street\n",
      "Avenida Lúcio Costa addr:street\n",
      "Avenida Lúcio Costa addr:street\n",
      "Avenida Lúcio Costa addr:street\n",
      "Avenida Lúcio Costa addr:street\n",
      "Avenida Lúcio Costa addr:street\n",
      "Avenida Lúcio Costa addr:street\n",
      "Avenida Lúcio Costa addr:street\n",
      "Avenida Lúcio Costa addr:street\n",
      "Avenida Lúcio Costa addr:street\n",
      "Avenida Lúcio Costa addr:street\n",
      "Avenida Lúcio Costa addr:street\n",
      "Avenida Lúcio Costa addr:street\n",
      "Avenida Lúcio Costa addr:street\n",
      "Avenida Lúcio Costa addr:street\n",
      "Avenida Lúcio Costa addr:street\n",
      "Avenida Lúcio Costa addr:street\n",
      "Avenida Lúcio Costa addr:street\n",
      "Avenida Lúcio Costa addr:street\n",
      "Avenida Lúcio Costa addr:street\n",
      "Avenida Lúcio Costa addr:street\n",
      "Avenida Lúcio Costa addr:street\n",
      "Avenida Lúcio Costa addr:street\n",
      "Avenida Lúcio Costa addr:street\n",
      "Avenida Lúcio Costa addr:street\n",
      "Avenida Lúcio Costa addr:street\n",
      "Avenida Lúcio Costa addr:street\n",
      "Avenida Lúcio Costa addr:street\n",
      "Avenida Lúcio Costa addr:street\n",
      "Avenida Lúcio Costa addr:street\n",
      "Avenida Lúcio Costa addr:street\n",
      "Avenida Lúcio Costa addr:street\n",
      "Avenida Lúcio Costa addr:street\n",
      "Avenida Lúcio Costa addr:street\n",
      "Avenida Lúcio Costa addr:street\n",
      "Avenida Lúcio Costa addr:street\n",
      "Avenida Lúcio Costa addr:street\n",
      "Avenida Lúcio Costa addr:street\n",
      "Avenida Lúcio Costa addr:street\n",
      "Avenida Lúcio Costa addr:street\n",
      "Avenida Lúcio Costa addr:street\n",
      "Avenida Lúcio Costa addr:street\n",
      "Avenida Lúcio Costa addr:street\n",
      "Avenida Lúcio Costa addr:street\n",
      "Avenida Lúcio Costa addr:street\n",
      "Avenida Lúcio Costa addr:street\n",
      "Avenida Lúcio Costa addr:street\n",
      "Avenida Lúcio Costa addr:street\n",
      "Avenida Lúcio Costa addr:street\n",
      "Avenida Lúcio Costa addr:street\n",
      "Avenida Lúcio Costa addr:street\n",
      "Avenida Lúcio Costa addr:street\n",
      "Avenida Lúcio Costa addr:street\n",
      "Avenida Lúcio Costa addr:street\n",
      "Avenida Lúcio Costa addr:street\n",
      "Avenida Lúcio Costa addr:street\n",
      "Avenida Lúcio Costa addr:street\n",
      "Avenida Lúcio Costa addr:street\n",
      "Avenida Lúcio Costa addr:street\n",
      "Avenida Lúcio Costa addr:street\n",
      "Avenida Lúcio Costa addr:street\n",
      "Avenida Lúcio Costa addr:street\n",
      "Avenida Lúcio Costa addr:street\n",
      "Avenida Lúcio Costa addr:street\n",
      "Avenida Lúcio Costa addr:street\n",
      "Avenida Lúcio Costa addr:street\n",
      "Avenida Lúcio Costa addr:street\n",
      "Rua José Maria Ortigão Sampaio addr:street\n",
      "Rua José Maria Ortigão Sampaio addr:street\n",
      "Rua José Maria Ortigão Sampaio addr:street\n",
      "Rua José Maria Ortigão Sampaio addr:street\n",
      "Rua José Alves Linhares addr:street\n",
      "Rua José Alves Linhares addr:street\n",
      "Rua José Alves Linhares addr:street\n",
      "Rua José Alves Linhares addr:street\n",
      "Rua José Maria Ortigão Sampaio addr:street\n",
      "Rua Maestro José Siqueira addr:street\n",
      "Rua Maestro José Siqueira addr:street\n",
      "Rua Maestro José Siqueira addr:street\n",
      "Rua Maestro José Siqueira addr:street\n",
      "Rua José Maria Ortigão Sampaio addr:street\n",
      "Rua José Maria Ortigão Sampaio addr:street\n",
      "Rua José Maria Ortigão Sampaio addr:street\n",
      "Rua José Maria Ortigão Sampaio addr:street\n",
      "Rua José Maria Ortigão Sampaio addr:street\n",
      "Rua José Maria Ortigão Sampaio addr:street\n",
      "Rua José Maria Ortigão Sampaio addr:street\n"
     ]
    },
    {
     "name": "stderr",
     "output_type": "stream",
     "text": [
      "Processing:  35%|███▌      | 37350/106084 [00:50<01:32, 745.34it/s]"
     ]
    },
    {
     "name": "stdout",
     "output_type": "stream",
     "text": [
      "Itaú Unibanco brand\n",
      "Caixa Econômica Federal brand\n",
      "pt:Caixa Econômica Federal brand:wikipedia\n",
      "Itaú Unibanco brand\n",
      "pt:Itaú Unibanco brand:wikipedia\n",
      "Rua República Árabe da Síria addr:street\n",
      "Rua República Árabe da Síria addr:street\n",
      "Estrada do Rio Jequiá addr:street\n",
      "Estrada do Rio Jequiá addr:street\n",
      "Estrada do Rio Jequiá addr:street\n",
      "Estrada do Rio Jequiá addr:street\n",
      "Rua Paracaúba addr:street\n",
      "Rua Paracaúba addr:street\n",
      "Rua Cambaúba addr:street\n",
      "Rua Cambaúba addr:street\n",
      "Rua Cambaúba addr:street\n",
      "Rua Cambaúba addr:street\n",
      "Rua Cambaúba addr:street\n",
      "Rua Cambaúba addr:street\n",
      "Rua Cambaúba addr:street\n",
      "Rua Cambaúba addr:street\n",
      "Rua Cambaúba addr:street\n",
      "Rua Cambaúba addr:street\n",
      "Rua Cambaúba addr:street\n",
      "Rua Cambaúba addr:street\n",
      "Rua Cambaúba addr:street\n",
      "Rua Cambaúba addr:street\n",
      "Rua Cambaúba addr:street\n",
      "Rua Cambaúba addr:street\n",
      "Rua Cambaúba addr:street\n",
      "Rua Cambaúba addr:street\n",
      "Rua Cambaúba addr:street\n",
      "Rua Cambaúba addr:street\n",
      "Rua Cambaúba addr:street\n",
      "Rua Cambaúba addr:street\n",
      "Rua Cambaúba addr:street\n",
      "Rua Cambaúba addr:street\n",
      "Rua Cambaúba addr:street\n",
      "Rua Cambaúba addr:street\n",
      "Estrada do Galeão addr:street\n",
      "Estrada do Galeão addr:street\n",
      "Estrada do Galeão addr:street\n",
      "Estrada do Galeão addr:street\n",
      "Estrada do Galeão addr:street\n",
      "Estrada do Galeão addr:street\n",
      "Estrada do Galeão addr:street\n",
      "Estrada do Galeão addr:street\n",
      "Estrada do Galeão addr:street\n",
      "Estrada do Galeão addr:street\n",
      "Estrada do Galeão addr:street\n",
      "Estrada do Galeão addr:street\n",
      "Estrada do Galeão addr:street\n",
      "Estrada do Galeão addr:street\n",
      "Estrada do Galeão addr:street\n",
      "Estrada do Galeão addr:street\n",
      "Estrada do Galeão addr:street\n",
      "Estrada do Galeão addr:street\n",
      "Estrada do Galeão addr:street\n",
      "Estrada do Galeão addr:street\n",
      "Estrada do Galeão addr:street\n",
      "Estrada do Galeão addr:street\n",
      "Estrada do Galeão addr:street\n",
      "Estrada do Galeão addr:street\n",
      "Estrada do Galeão addr:street\n",
      "Estrada do Galeão addr:street\n",
      "Estrada do Galeão addr:street\n",
      "Estrada do Galeão addr:street\n",
      "Estrada do Galeão addr:street\n",
      "Estrada do Galeão addr:street\n",
      "Estrada do Galeão addr:street\n",
      "Estrada do Galeão addr:street\n",
      "Estrada do Galeão addr:street\n",
      "Estrada do Galeão addr:street\n",
      "Estrada do Galeão addr:street\n",
      "Estrada do Galeão addr:street\n",
      "Estrada do Galeão addr:street\n",
      "Estrada do Galeão addr:street\n",
      "Estrada do Galeão addr:street\n",
      "Estrada do Galeão addr:street\n",
      "Estrada do Galeão addr:street\n",
      "Estrada do Galeão addr:street\n",
      "Estrada do Galeão addr:street\n",
      "Estrada do Galeão addr:street\n",
      "Estrada do Galeão addr:street\n",
      "Estrada do Galeão addr:street\n",
      "Estrada do Galeão addr:street\n",
      "Estrada do Galeão addr:street\n",
      "Estrada do Galeão addr:street\n",
      "Estrada do Galeão addr:street\n",
      "Estrada do Galeão addr:street\n",
      "Estrada do Galeão addr:street\n",
      "Estrada do Galeão addr:street\n",
      "Estrada do Galeão addr:street\n",
      "Estrada do Galeão addr:street\n",
      "Estrada do Galeão addr:street\n",
      "Estrada do Galeão addr:street\n",
      "Rua República Árabe da Síria addr:street\n",
      "Rua República Árabe da Síria addr:street\n",
      "Estrada do Galeão addr:street\n",
      "Estrada do Galeão addr:street\n",
      "Estrada do Galeão addr:street\n",
      "Estrada do Galeão addr:street\n"
     ]
    },
    {
     "name": "stderr",
     "output_type": "stream",
     "text": [
      "Processing:  35%|███▌      | 37425/106084 [00:50<01:32, 743.94it/s]"
     ]
    },
    {
     "name": "stdout",
     "output_type": "stream",
     "text": [
      "Estrada do Galeão addr:street\n",
      "Estrada do Galeão addr:street\n",
      "Estrada do Galeão addr:street\n",
      "Estrada do Galeão addr:street\n",
      "Estrada do Galeão addr:street\n",
      "Rua Uçá addr:street\n",
      "Rua Uçá addr:street\n",
      "Rua Uçá addr:street\n",
      "Rua Uçá addr:street\n",
      "Rua Uçá addr:street\n",
      "Rua Uçá addr:street\n",
      "Rua Uçá addr:street\n",
      "Praça Jerusalém addr:street\n",
      "Praça Jerusalém addr:street\n",
      "Praça Jerusalém addr:street\n",
      "Praça Jerusalém addr:street\n",
      "Praça Jerusalém addr:street\n",
      "Rua Uçá addr:street\n",
      "Avenida Almirante Alves Câmara Júnior addr:street\n",
      "Avenida Almirante Alves Câmara Júnior addr:street\n",
      "pt:Estação Matadouro wikipedia\n",
      "São Gonçalo addr:city\n",
      "Niterói addr:city\n",
      "Niterói addr:city\n",
      "Rua Salinópolis addr:street\n",
      "Rua Salinópolis addr:street\n",
      "Rua Salinópolis addr:street\n",
      "Rua Salinópolis addr:street\n",
      "Rua Salinópolis addr:street\n",
      "Rua Salinópolis addr:street\n",
      "Rua Januário Barbosa addr:street\n",
      "Rua Salinópolis addr:street\n",
      "Rua Januário Barbosa addr:street\n",
      "Rua Salinópolis addr:street\n",
      "Rua Salinópolis addr:street\n",
      "Rua Januário Barbosa addr:street\n"
     ]
    },
    {
     "name": "stderr",
     "output_type": "stream",
     "text": [
      "Processing:  35%|███▌      | 37575/106084 [00:50<01:32, 740.78it/s]"
     ]
    },
    {
     "name": "stdout",
     "output_type": "stream",
     "text": [
      "Rua Salinópolis addr:street\n",
      "Rua Januário Barbosa addr:street\n",
      "Rua Januário Barbosa addr:street\n",
      "Rua Januário Barbosa addr:street\n",
      "Rua Januário Barbosa addr:street\n",
      "Rua Salinópolis addr:street\n",
      "Rua Januário Barbosa addr:street\n",
      "Rua Januário Barbosa addr:street\n",
      "Rua Salinópolis addr:street\n",
      "Rua Januário Barbosa addr:street\n",
      "Rua Januário Barbosa addr:street\n",
      "Rua Januário Barbosa addr:street\n",
      "Rua Januário Barbosa addr:street\n",
      "Rua Januário Barbosa addr:street\n",
      "Rua Januário Barbosa addr:street\n",
      "Rua Salinópolis addr:street\n",
      "Rua Januário Barbosa addr:street\n",
      "Rua Januário Barbosa addr:street\n",
      "Rua Januário Barbosa addr:street\n",
      "Rua Januário Barbosa addr:street\n",
      "Rua Salinópolis addr:street\n",
      "Rua Januário Barbosa addr:street\n"
     ]
    },
    {
     "name": "stderr",
     "output_type": "stream",
     "text": [
      "Processing:  36%|███▌      | 37801/106084 [00:50<01:32, 741.13it/s]"
     ]
    },
    {
     "name": "stdout",
     "output_type": "stream",
     "text": [
      "Rua Januário Barbosa addr:street\n",
      "Rua Januário Barbosa addr:street\n",
      "Rua Januário Barbosa addr:street\n",
      "Rua Januário Barbosa addr:street\n",
      "Rua Januário Barbosa addr:street\n",
      "Rua Januário Barbosa addr:street\n",
      "Rua Januário Barbosa addr:street\n",
      "Rua Salinópolis addr:street\n",
      "Rua Januário Barbosa addr:street\n",
      "Rua Januário Barbosa addr:street\n",
      "Rua Salinópolis addr:street\n",
      "Rua Salinópolis addr:street\n",
      "Rua Salinópolis addr:street\n",
      "Rua Babaçu addr:street\n",
      "Rua Babaçu addr:street\n",
      "Rua Babaçu addr:street\n",
      "Rua Babaçu addr:street\n",
      "Rua Babaçu addr:street\n",
      "Rua Babaçu addr:street\n",
      "Rua Babaçu addr:street\n",
      "Rua Babaçu addr:street\n",
      "Rua Babaçu addr:street\n",
      "Rua Babaçu addr:street\n",
      "Rua Babaçu addr:street\n",
      "Rua Babaçu addr:street\n",
      "Rua Babaçu addr:street\n",
      "Rua Babaçu addr:street\n",
      "Rua Babaçu addr:street\n",
      "Rua Babaçu addr:street\n",
      "Rua Babaçu addr:street\n",
      "Rua Babaçu addr:street\n"
     ]
    },
    {
     "name": "stderr",
     "output_type": "stream",
     "text": [
      "Processing:  36%|███▌      | 37876/106084 [00:50<01:32, 737.54it/s]"
     ]
    },
    {
     "name": "stdout",
     "output_type": "stream",
     "text": [
      "Rua Ituá addr:street\n",
      "Rua Ituá addr:street\n",
      "Rua Ituá addr:street\n",
      "Rua Ituá addr:street\n",
      "Rua Ituá addr:street\n",
      "Rua Ituá addr:street\n",
      "Rua Ituá addr:street\n",
      "Rua Ituá addr:street\n",
      "Rua Ituá addr:street\n",
      "Rua Ituá addr:street\n",
      "Rua Ituá addr:street\n",
      "Rua Ituá addr:street\n",
      "Rua Ituá addr:street\n",
      "Rua Ituá addr:street\n",
      "Rua Ituá addr:street\n",
      "Rua Álvaro Dias addr:street\n",
      "Rua Álvaro Dias addr:street\n",
      "Rua Álvaro Dias addr:street\n",
      "Rua Álvaro Dias addr:street\n",
      "Rua Álvaro Dias addr:street\n",
      "Rua Alberto Maranhão addr:street\n",
      "Rua Alberto Maranhão addr:street\n",
      "Rua Antônio Maria Abel addr:street\n",
      "Rua Antônio Maria Abel addr:street\n",
      "Rua Alberto Maranhão addr:street\n",
      "Rua Matias Antônio dos Santos addr:street\n",
      "Rua Alberto Maranhão addr:street\n",
      "Rua Alberto Maranhão addr:street\n",
      "Rua Alberto Maranhão addr:street\n",
      "Rua Matias Antônio dos Santos addr:street\n",
      "Rua Alberto Maranhão addr:street\n",
      "Rua Antônio Maria Abel addr:street\n",
      "Rua Alberto Maranhão addr:street\n",
      "Rua Alberto Maranhão addr:street\n",
      "Rua Antônio Maria Abel addr:street\n",
      "Caixa Econômica Federal brand\n",
      "São João de Meriti addr:city\n",
      "Avenida Automóvel Clube addr:street\n",
      "São João de Meriti addr:city\n",
      "Empresa Brasileira de Correios e Telégrafos brand\n",
      "Rua Doutor José Maria Coelho addr:street\n",
      "São João de Meriti addr:city\n",
      "Avenida Nossa Senhora das Graças addr:street\n"
     ]
    },
    {
     "name": "stderr",
     "output_type": "stream",
     "text": [
      "Processing:  36%|███▌      | 38024/106084 [00:51<01:35, 715.49it/s]"
     ]
    },
    {
     "name": "stdout",
     "output_type": "stream",
     "text": [
      "Praça Jauru addr:street\n",
      "Praça Jauru addr:street\n",
      "Rua Salinópolis addr:street\n",
      "Niterói addr:city\n",
      "Icaraí addr:suburb\n",
      "Estrada do Cafundá addr:street\n",
      "Estrada do Cafundá addr:street\n",
      "Rua Apiacás addr:street\n",
      "Caixa Econômica Federal brand\n",
      "Rua Jardim Botânico addr:street\n",
      "Jardim Botânico addr:suburb\n",
      "Rua Mangalô addr:street\n",
      "Rua Mangalô addr:street\n",
      "Rua Mangalô addr:street\n",
      "Rua Mangalô addr:street\n",
      "Rua Mangalô addr:street\n"
     ]
    },
    {
     "name": "stderr",
     "output_type": "stream",
     "text": [
      "Processing:  36%|███▌      | 38325/106084 [00:51<01:31, 737.63it/s]"
     ]
    },
    {
     "name": "stdout",
     "output_type": "stream",
     "text": [
      "Rua João Vinelli addr:street\n",
      "Rua João Vinelli addr:street\n",
      "Rua João Vinelli addr:street\n",
      "Rua João Vinelli addr:street\n",
      "Rua Marapetá addr:street\n",
      "Rua Marapetá addr:street\n",
      "Rua Marapetá addr:street\n",
      "Rua Marapetá addr:street\n",
      "Rua Salinópolis addr:street\n",
      "Rua Salinópolis addr:street\n",
      "Rua Salinópolis addr:street\n",
      "Rua Salinópolis addr:street\n"
     ]
    },
    {
     "name": "stderr",
     "output_type": "stream",
     "text": [
      "Processing:  36%|███▋      | 38625/106084 [00:51<01:30, 743.85it/s]"
     ]
    },
    {
     "name": "stdout",
     "output_type": "stream",
     "text": [
      "Avenida dos Democráticos addr:street\n",
      "Praça da República addr:street\n",
      "Caixa Econômica Federal brand\n",
      "Praça da República addr:street\n",
      "Praça da República addr:street\n",
      "Rua Salinópolis addr:street\n",
      "Itaú Unibanco brand\n",
      "Itaú Unibanco operator\n",
      "Rua dos Inválidos addr:street\n",
      "Avenida Nilo Peçanha addr:street\n",
      "Clube Monte Líbano operator\n",
      "Clube Monte Líbano operator\n"
     ]
    },
    {
     "name": "stderr",
     "output_type": "stream",
     "text": [
      "Processing:  37%|███▋      | 38852/106084 [00:52<01:29, 748.68it/s]"
     ]
    },
    {
     "name": "stdout",
     "output_type": "stream",
     "text": [
      "Caixa Econômica Federal brand\n",
      "pt:Caixa Econômica Federal brand:wikipedia\n",
      "Rua Professor Gonçalves addr:street\n",
      "Rua Marquês de Pombal addr:street\n",
      "Itaú Unibanco brand\n",
      "Rua Almeida Brandão addr:street\n",
      "Rua Almeida Brandão addr:street\n",
      "Rua Orestes Rosólia addr:street\n",
      "Rua Orestes Rosólia addr:street\n",
      "Rua Orestes Rosólia addr:street\n",
      "Rua Orestes Rosólia addr:street\n",
      "Rua João Dias addr:street\n",
      "Rua João Dias addr:street\n",
      "Rua João Dias addr:street\n",
      "Rua João Dias addr:street\n",
      "Rua Dom Antônio de Macedo addr:street\n",
      "Rua Dom Antônio de Macedo addr:street\n",
      "Rua Dom Antônio de Macedo addr:street\n",
      "Rua Dom Antônio de Macedo addr:street\n",
      "Fundão (Terminal Aroldo Melodia) alt_name\n"
     ]
    },
    {
     "name": "stderr",
     "output_type": "stream",
     "text": [
      "Processing:  37%|███▋      | 39077/106084 [00:52<01:31, 730.16it/s]"
     ]
    },
    {
     "name": "stdout",
     "output_type": "stream",
     "text": [
      "Rua Jaime Perdigão addr:street\n",
      "Rua Jaime Perdigão addr:street\n",
      "Rua Jaime Perdigão addr:street\n",
      "Rua Jaime Perdigão addr:street\n",
      "Avenida Atlântica addr:street\n",
      "Avenida Atlântica addr:street\n",
      "Avenida Atlântica addr:street\n",
      "Avenida Atlântica addr:street\n",
      "Avenida Atlântica addr:street\n",
      "Avenida Atlântica addr:street\n",
      "Avenida Atlântica addr:street\n",
      "Avenida Atlântica addr:street\n",
      "Rua Francisco Góis Calmon addr:street\n",
      "Rua Francisco Góis Calmon addr:street\n",
      "Rua Francisco Góis Calmon addr:street\n",
      "Rua Francisco Góis Calmon addr:street\n",
      "Rua José Bonifácio addr:street\n",
      "Avenida das Américas addr:street\n",
      "Praça Quinze de Novembro, 42 addr:street\n",
      "Rua Visconde de Pirajá addr:street\n",
      "Itaú Unibanco brand\n",
      "pt:Itaú Unibanco brand:wikipedia\n"
     ]
    },
    {
     "name": "stderr",
     "output_type": "stream",
     "text": [
      "Processing:  37%|███▋      | 39228/106084 [00:52<01:30, 738.39it/s]"
     ]
    },
    {
     "name": "stdout",
     "output_type": "stream",
     "text": [
      "São João de Meriti addr:city\n",
      "Rua Prefeito Olímpio de Melo addr:street\n"
     ]
    },
    {
     "name": "stderr",
     "output_type": "stream",
     "text": [
      "Processing:  37%|███▋      | 39379/106084 [00:52<01:29, 742.76it/s]"
     ]
    },
    {
     "name": "stdout",
     "output_type": "stream",
     "text": [
      "Rua dos Inválidos addr:street\n",
      "Estrada do Rio Jequiá addr:street\n",
      "Estrada do Rio Jequiá addr:street\n",
      "Estrada do Rio Jequiá addr:street\n",
      "Estrada do Rio Jequiá addr:street\n",
      "Estrada do Rio Jequiá addr:street\n",
      "Estrada do Rio Jequiá addr:street\n",
      "Estrada do Rio Jequiá addr:street\n",
      "Estrada do Rio Jequiá addr:street\n",
      "Praia do Jequiá addr:street\n",
      "Praia do Jequiá addr:street\n",
      "Praia do Jequiá addr:street\n",
      "Estrada do Rio Jequiá addr:street\n",
      "Praia do Jequiá addr:street\n",
      "Estrada do Rio Jequiá addr:street\n",
      "Estrada do Rio Jequiá addr:street\n",
      "Estrada do Rio Jequiá addr:street\n",
      "Estrada do Rio Jequiá addr:street\n",
      "Estrada do Rio Jequiá addr:street\n",
      "Praia do Jequiá addr:street\n",
      "Praia do Jequiá addr:street\n",
      "Praia do Jequiá addr:street\n",
      "Praia do Jequiá addr:street\n"
     ]
    },
    {
     "name": "stderr",
     "output_type": "stream",
     "text": [
      "Processing:  37%|███▋      | 39605/106084 [00:53<01:30, 737.02it/s]"
     ]
    },
    {
     "name": "stdout",
     "output_type": "stream",
     "text": [
      "Rua dos Inválidos addr:street\n",
      "Rua dos Inválidos addr:street\n",
      "Rua dos Inválidos addr:street\n",
      "Rua dos Inválidos addr:street\n",
      "Rua dos Inválidos addr:street\n",
      "Rua dos Inválidos addr:street\n",
      "Rua dos Inválidos addr:street\n",
      "Rua dos Inválidos addr:street\n",
      "Rua dos Inválidos addr:street\n",
      "Rua dos Inválidos addr:street\n",
      "Rua dos Inválidos addr:street\n",
      "Rua dos Inválidos addr:street\n",
      "Itaú Unibanco brand\n"
     ]
    },
    {
     "name": "stderr",
     "output_type": "stream",
     "text": [
      "Processing:  37%|███▋      | 39753/106084 [00:53<01:32, 715.94it/s]"
     ]
    },
    {
     "name": "stdout",
     "output_type": "stream",
     "text": [
      "Marco de Fronteira Brasil/Perú description\n",
      "Avenida Paranapuã addr:street\n",
      "Avenida Paranapuã addr:street\n",
      "Praça Calcutá addr:street\n",
      "Avenida Paranapuã addr:street\n",
      "Avenida Paranapuã addr:street\n",
      "Avenida Paranapuã addr:street\n",
      "Praça Calcutá addr:street\n",
      "Avenida Paranapuã addr:street\n",
      "Avenida Paranapuã addr:street\n",
      "Praça Calcutá addr:street\n",
      "Avenida Paranapuã addr:street\n",
      "Avenida Paranapuã addr:street\n",
      "Avenida Paranapuã addr:street\n",
      "Avenida Paranapuã addr:street\n",
      "Avenida Paranapuã addr:street\n",
      "Avenida Paranapuã addr:street\n",
      "Avenida Paranapuã addr:street\n",
      "Avenida Paranapuã addr:street\n",
      "Avenida Paranapuã addr:street\n",
      "Avenida Paranapuã addr:street\n",
      "Avenida Paranapuã addr:street\n",
      "Avenida Paranapuã addr:street\n",
      "Avenida Paranapuã addr:street\n",
      "Avenida Paranapuã addr:street\n",
      "Avenida Paranapuã addr:street\n",
      "Avenida Paranapuã addr:street\n",
      "Avenida Paranapuã addr:street\n",
      "Avenida Paranapuã addr:street\n",
      "Avenida Paranapuã addr:street\n",
      "Avenida Paranapuã addr:street\n",
      "Avenida Paranapuã addr:street\n",
      "Avenida Paranapuã addr:street\n",
      "Avenida Paranapuã addr:street\n",
      "Avenida Paranapuã addr:street\n",
      "Avenida Paranapuã addr:street\n",
      "Avenida Paranapuã addr:street\n",
      "Avenida Paranapuã addr:street\n",
      "Avenida Paranapuã addr:street\n",
      "Avenida Paranapuã addr:street\n",
      "Avenida Paranapuã addr:street\n",
      "Avenida Paranapuã addr:street\n",
      "Avenida Paranapuã addr:street\n",
      "Avenida Paranapuã addr:street\n",
      "Avenida Paranapuã addr:street\n",
      "Avenida Paranapuã addr:street\n",
      "Avenida Paranapuã addr:street\n",
      "Avenida Paranapuã addr:street\n",
      "Cocotá addr:suburb\n",
      "Praça Joaquim Francisco Lopes addr:street\n",
      "Praça Joaquim Francisco Lopes addr:street\n",
      "Vista magnífica para a Baia da Guanabara, Estádio do Maracanã description\n",
      "Rua Capitão Félix addr:street\n"
     ]
    },
    {
     "name": "stderr",
     "output_type": "stream",
     "text": [
      "Processing:  38%|███▊      | 39980/106084 [00:53<01:29, 736.29it/s]"
     ]
    },
    {
     "name": "stdout",
     "output_type": "stream",
     "text": [
      "Praça Luís de Camões alt_name\n",
      "Avenida Mem de Sá addr:street\n",
      "Estrada do Dendê addr:street\n",
      "A partir deste ponto a antiga Estrada do Excelsior foi fechada ao tráfego e hoje é uma trilha, caminho de pedestre. Cuidado: A pavimentação está muito irregular. description\n",
      "Estrada do Dendê addr:street\n",
      "Estrada do Dendê addr:street\n",
      "Estrada do Dendê addr:street\n",
      "Estrada do Dendê addr:street\n",
      "Estrada do Dendê addr:street\n",
      "Estrada do Dendê addr:street\n",
      "Estrada do Dendê addr:street\n",
      "Estrada do Dendê addr:street\n",
      "Estrada do Dendê addr:street\n",
      "Estrada do Dendê addr:street\n",
      "Estrada do Dendê addr:street\n",
      "Estrada do Dendê addr:street\n",
      "Estrada do Dendê addr:street\n",
      "Estrada do Dendê addr:street\n",
      "Estrada do Dendê addr:street\n",
      "Estrada do Dendê addr:street\n",
      "Estrada do Dendê addr:street\n",
      "Estrada do Dendê addr:street\n",
      "Estrada do Dendê addr:street\n",
      "Estrada do Dendê addr:street\n",
      "Estrada do Dendê addr:street\n",
      "Estrada do Dendê addr:street\n",
      "Estrada do Dendê addr:street\n",
      "Estrada do Dendê addr:street\n",
      "Estrada do Dendê addr:street\n",
      "Estrada do Dendê addr:street\n",
      "Estrada do Dendê addr:street\n",
      "Estrada do Dendê addr:street\n",
      "Estrada do Dendê addr:street\n",
      "Estrada do Dendê addr:street\n",
      "Estrada do Dendê addr:street\n",
      "Estrada do Dendê addr:street\n",
      "Estrada do Dendê addr:street\n",
      "Estrada do Dendê addr:street\n",
      "Estrada do Dendê addr:street\n",
      "Estrada do Dendê addr:street\n",
      "Estrada do Dendê addr:street\n",
      "Estrada do Dendê addr:street\n",
      "Estrada do Dendê addr:street\n",
      "Rua Eutíquio Soledade addr:street\n",
      "Rua Eutíquio Soledade addr:street\n",
      "Rua Eutíquio Soledade addr:street\n",
      "Rua Eutíquio Soledade addr:street\n",
      "Rua Eutíquio Soledade addr:street\n",
      "Rua Eutíquio Soledade addr:street\n",
      "Rua Eutíquio Soledade addr:street\n",
      "Rua Eutíquio Soledade addr:street\n",
      "Rua Eutíquio Soledade addr:street\n",
      "Rua Eutíquio Soledade addr:street\n",
      "Rua Eutíquio Soledade addr:street\n",
      "Rua Eutíquio Soledade addr:street\n",
      "Rua Eutíquio Soledade addr:street\n",
      "Rua Eutíquio Soledade addr:street\n",
      "Rua Professor Hilarião da Rocha addr:street\n",
      "Rua Professor Hilarião da Rocha addr:street\n",
      "Rua Eutíquio Soledade addr:street\n"
     ]
    },
    {
     "name": "stderr",
     "output_type": "stream",
     "text": [
      "Processing:  38%|███▊      | 40054/106084 [00:53<01:29, 734.68it/s]"
     ]
    },
    {
     "name": "stdout",
     "output_type": "stream",
     "text": [
      "Rua Eutíquio Soledade addr:street\n",
      "Rua Professor Hilarião da Rocha addr:street\n",
      "Rua Professor Hilarião da Rocha addr:street\n",
      "Rua Professor Hilarião da Rocha addr:street\n",
      "Rua Érico Coelho addr:street\n",
      "Rua Érico Coelho addr:street\n",
      "Rua Érico Coelho addr:street\n",
      "Rua Professor Hilarião da Rocha addr:street\n",
      "Rua Professor Hilarião da Rocha addr:street\n",
      "Rua Professor Hilarião da Rocha addr:street\n",
      "Rua Professor Hilarião da Rocha addr:street\n",
      "Rua Érico Coelho addr:street\n",
      "Rua Professor Hilarião da Rocha addr:street\n",
      "Rua Professor Hilarião da Rocha addr:street\n",
      "Rua Professor Hilarião da Rocha addr:street\n",
      "Niterói addr:city\n",
      "Rua Ministro Otávio Kelly addr:street\n",
      "Icaraí addr:suburb\n",
      "pórtico bicycle_parking\n",
      "Avenida Sargento de Milícias addr:street\n",
      "Caixa Econômica Federal brand\n",
      "pt:Caixa Econômica Federal brand:wikipedia\n",
      "Caixa Econômica Federal brand\n",
      "pt:Caixa Econômica Federal brand:wikipedia\n"
     ]
    },
    {
     "name": "stderr",
     "output_type": "stream",
     "text": [
      "Processing:  38%|███▊      | 40278/106084 [00:54<01:29, 736.61it/s]"
     ]
    },
    {
     "name": "stdout",
     "output_type": "stream",
     "text": [
      "Nova Iguaçu addr:city\n",
      "Nova iguaçu addr:city\n",
      "Caixa Econômica Federal brand\n",
      "pt:Caixa Econômica Federal brand:wikipedia\n",
      "Itaú Unibanco brand\n",
      "Caixa Econômica Federal brand\n",
      "pt:Caixa Econômica Federal brand:wikipedia\n",
      "Rua Marquês de São Vicente addr:street\n",
      "Rua Marquês de São Vicente addr:street\n",
      "pt:Estação Gávea wikipedia\n",
      "Rua Marquês de São Vicente addr:street\n",
      "Rua Marquês de São Vicente addr:street\n",
      "Rua Marquês de São Vicente addr:street\n",
      "Rua Marquês de São Vicente addr:street\n",
      "Rua Marquês de São Vicente addr:street\n",
      "Rua Marquês de São Vicente addr:street\n",
      "Pão de Açúcar operator\n",
      "Nova Iguaçu addr:city\n"
     ]
    },
    {
     "name": "stderr",
     "output_type": "stream",
     "text": [
      "Processing:  38%|███▊      | 40506/106084 [00:54<01:27, 750.39it/s]"
     ]
    },
    {
     "name": "stdout",
     "output_type": "stream",
     "text": [
      "Baía do Verde alt_name\n",
      "Setrans Segurança e Trânsito operator\n",
      "Setrans Segurança e Trânsito operator\n",
      "Lucmdrosar Vi Vidraçaria\n",
      "Freguesia (Jacarepaguá) addr:suburb\n",
      "São João de Meriti is_in:city\n",
      "São João de Meriti is_in:city\n",
      "São João de Meriti is_in:city\n",
      "São João de Meriti is_in:city\n",
      "São João de Meriti is_in:city\n",
      "São João de Meriti is_in:city\n",
      "São João de Meriti is_in:city\n",
      "São João de Meriti is_in:city\n",
      "São João de Meriti is_in:city\n",
      "São João de Meriti is_in:city\n",
      "São João de Meriti is_in:city\n",
      "São João de Meriti is_in:city\n",
      "São João de Meriti is_in:city\n",
      "São João de Meriti is_in:city\n",
      "São João de Meriti is_in:city\n",
      "Caixa Econômica Federal brand\n",
      "pt:Caixa Econômica Federal brand:wikipedia\n"
     ]
    },
    {
     "name": "stderr",
     "output_type": "stream",
     "text": [
      "Processing:  38%|███▊      | 40657/106084 [00:54<01:29, 732.50it/s]"
     ]
    },
    {
     "name": "stdout",
     "output_type": "stream",
     "text": [
      "pt:Fundação Richard Hugh Fisk brand:wikipedia\n",
      "Praça São Perpétuo addr:street\n",
      "Tourão name:en\n",
      "Itaú Unibanco brand\n",
      "Rua João Vicente addr:street\n",
      "Rua João Vicente addr:street\n",
      "Avenida das Américas addr:street\n"
     ]
    },
    {
     "name": "stderr",
     "output_type": "stream",
     "text": [
      "Processing:  39%|███▊      | 40882/106084 [00:54<01:29, 732.55it/s]"
     ]
    },
    {
     "name": "stdout",
     "output_type": "stream",
     "text": [
      "Avenida Lúcio Costa addr:street\n",
      "Saudável;Veg cuisine\n",
      "Pão de Açúcar brand\n",
      "Caixa Econômica Federal brand\n",
      "Rua Gonçalves Dias addr:street\n"
     ]
    },
    {
     "name": "stderr",
     "output_type": "stream",
     "text": [
      "Processing:  39%|███▊      | 41033/106084 [00:55<01:28, 738.66it/s]"
     ]
    },
    {
     "name": "stdout",
     "output_type": "stream",
     "text": [
      "Rua Sul América addr:street\n",
      "Consulado Britânico alt_name\n",
      "Jacó alt_name\n"
     ]
    },
    {
     "name": "stderr",
     "output_type": "stream",
     "text": [
      "Processing:  39%|███▉      | 41259/106084 [00:55<01:29, 725.38it/s]"
     ]
    },
    {
     "name": "stdout",
     "output_type": "stream",
     "text": [
      "Setrans Segurança e Trânsito operator\n",
      "Setrans Segurança e Trânsito operator\n",
      "Setrans Segurança e Trânsito operator\n",
      "Rua Teófilo Otoni addr:street\n",
      "Avenida das Américas addr:street\n",
      "Avenida das Américas addr:street\n",
      "Avenida das Américas addr:street\n",
      "Avenida das Américas addr:street\n",
      "Avenida das Américas addr:street\n",
      "Rua José Carlos de Oliveira addr:street\n",
      "São Conrado addr:suburb\n",
      "São Conrado addr:suburb\n"
     ]
    },
    {
     "name": "stderr",
     "output_type": "stream",
     "text": [
      "Processing:  39%|███▉      | 41409/106084 [00:55<01:28, 733.38it/s]"
     ]
    },
    {
     "name": "stdout",
     "output_type": "stream",
     "text": [
      "Metrô Rio operator\n",
      "Rua Voluntários da Pátria addr:street\n",
      "Avenida das Américas addr:street\n",
      "Avenida Olegário Maciel addr:street\n",
      "Avenida das Américas addr:street\n",
      "Rua São Francisco da Prainha addr:street\n",
      "Rua Gavião Peixoto addr:street\n",
      "Rua Gavião Peixoto addr:street\n",
      "Niterói addr:city\n",
      "Rua Gavião Peixoto addr:street\n",
      "Icaraí addr:suburb\n",
      "Rua Gavião Peixoto addr:street\n",
      "Niterói addr:city\n",
      "Rua Gavião Peixoto addr:street\n",
      "Icaraí addr:suburb\n",
      "Niterói addr:city\n",
      "Rua Gavião Peixoto addr:street\n",
      "Icaraí addr:suburb\n",
      "Niterói addr:city\n",
      "Rua Mem de Sá addr:street\n",
      "Icaraí addr:suburb\n",
      "Niterói addr:city\n",
      "Rua Gavião Peixoto addr:street\n",
      "Icaraí addr:suburb\n",
      "Niterói addr:city\n",
      "Rua Gavião Peixoto addr:street\n",
      "Icaraí addr:suburb\n",
      "Avenida Presidente João Goulart addr:street\n",
      "Rua Bento Gonçalves addr:street\n"
     ]
    },
    {
     "name": "stderr",
     "output_type": "stream",
     "text": [
      "Processing:  39%|███▉      | 41712/106084 [00:56<01:25, 749.47it/s]"
     ]
    },
    {
     "name": "stdout",
     "output_type": "stream",
     "text": [
      "Avenida Lúcio Costa addr:street\n",
      "Caixa Econômica Federal brand\n",
      "Rua Aurélio de Figueiredo addr:street\n",
      "Glória addr:suburb\n",
      "Bistrô Plage name:pt\n",
      "Rua João Pizarro addr:street\n",
      "Avenida Repórter Nestor Moreira addr:street\n",
      "Praça Quinze de Novembro addr:street\n",
      "Estátua equestre do General Osório alt_name\n",
      "Avenida Lúcio Costa addr:street\n",
      "Château de Sable name:fr\n"
     ]
    },
    {
     "name": "stderr",
     "output_type": "stream",
     "text": [
      "Processing:  40%|███▉      | 41939/106084 [00:56<01:26, 738.00it/s]"
     ]
    },
    {
     "name": "stdout",
     "output_type": "stream",
     "text": [
      "Rua Álvaro Alberto addr:street\n",
      "Rua Gaspar Magalhães addr:street\n",
      "Terminal Garagem Menezes Côrtes operator\n",
      "A Associação REPARTIR se destina a atender exclusivamen description\n",
      "O Boticário brand\n",
      "WhatsApp: (21) 98763-8289 ENTRAR EM CONTATO PARA PEGAR O NÚMERO DO PRÉDIO E HORÁRIOS DE AT description\n",
      "São Gonçalo addr:city\n",
      "Colubandê addr:suburb\n"
     ]
    },
    {
     "name": "stderr",
     "output_type": "stream",
     "text": [
      "Processing:  40%|███▉      | 42092/106084 [00:56<01:25, 746.95it/s]"
     ]
    },
    {
     "name": "stdout",
     "output_type": "stream",
     "text": [
      "Ascânio MMM artist_name\n",
      "Itaú Unibanco brand\n",
      "Itaú operator\n",
      "Category:Relógio da Glória (Rio de Janeiro) wikimedia_commons\n",
      "Jacarepaguá addr:suburb\n",
      "Jacarepaguá addr:suburb\n",
      "Niterói addr:city\n"
     ]
    },
    {
     "name": "stderr",
     "output_type": "stream",
     "text": [
      "Processing:  40%|███▉      | 42322/106084 [00:56<01:24, 755.60it/s]"
     ]
    },
    {
     "name": "stdout",
     "output_type": "stream",
     "text": [
      "Avenida das Américas addr:street\n",
      "MetrôRio operator\n",
      "Colégio addr:suburb\n",
      "Rua Barão da Torre addr:street\n",
      "Rua Vinícius de Moraes addr:street\n",
      "Rua Vinícius de Moraes addr:street\n",
      "Rua Vinícius de Moraes addr:street\n",
      "Rua Vinícius de Moraes addr:street\n",
      "Rua Vinícius de Moraes addr:street\n",
      "Rua Vinícius de Moraes addr:street\n",
      "Rua Vinícius de Moraes addr:street\n",
      "Rua Vinícius de Moraes addr:street\n",
      "Rua Visconde de Pirajá addr:street\n",
      "Rua Vinícius de Moraes addr:street\n",
      "Rua Vinícius de Moraes addr:street\n",
      "Rua Vinícius de Moraes addr:street\n",
      "Rua Vinícius de Moraes addr:street\n",
      "Rua Vinícius de Moraes addr:street\n",
      "Rua Visconde de Pirajá addr:street\n",
      "Rua Vinícius de Moraes addr:street\n",
      "Rua Vinícius de Moraes addr:street\n",
      "Rua Vinícius de Moraes addr:street\n",
      "Estrada do Galeão addr:street\n",
      "Rua Lauro Müller addr:street\n",
      "Rua Lauro Müller addr:street\n",
      "Rua Gaspar Magalhães addr:street\n",
      "Rua Gaspar Magalhães addr:street\n",
      "Rua Gaspar Magalhães addr:street\n",
      "Rua Gaspar Magalhães addr:street\n",
      "Rua Gaspar Magalhães addr:street\n",
      "Rua Gaspar Magalhães addr:street\n",
      "Rua Gaspar Magalhães addr:street\n",
      "Itaú Unibanco brand\n",
      "Itaú operator\n"
     ]
    },
    {
     "name": "stderr",
     "output_type": "stream",
     "text": [
      "Processing:  40%|████      | 42473/106084 [00:57<01:25, 741.75it/s]"
     ]
    },
    {
     "name": "stdout",
     "output_type": "stream",
     "text": [
      "Rua Bulhões Marcial addr:street\n",
      "Estrada da Gávea addr:street\n",
      "São Conrado addr:suburb\n",
      "Rua Anajás addr:street\n",
      "Rua Visconde de Inhaúma addr:street\n",
      "Bike Itaú network\n"
     ]
    },
    {
     "name": "stderr",
     "output_type": "stream",
     "text": [
      "Processing:  40%|████      | 42625/106084 [00:57<01:27, 724.76it/s]"
     ]
    },
    {
     "name": "stdout",
     "output_type": "stream",
     "text": [
      "Galeão addr:suburb\n",
      "Galeão addr:suburb\n",
      "Galeão addr:suburb\n",
      "Jacarepaguá IPP:BAIRRO\n",
      "Rua Hugo Thompson Nogueira, S/Nº IPP:ENDERECO\n",
      "Rua dos Araújos addr:street\n",
      "Itaú Unibanco brand\n",
      "pt:Itaú Unibanco brand:wikipedia\n"
     ]
    },
    {
     "name": "stderr",
     "output_type": "stream",
     "text": [
      "Processing:  40%|████      | 42774/106084 [00:57<01:27, 727.47it/s]"
     ]
    },
    {
     "name": "stdout",
     "output_type": "stream",
     "text": [
      "Petrópolis a Julio Koeler\n",
      "Aqui jazem, transladados em 1873 pelos allemaes desta cidade, os restos mortaes do Major Julio Freder Koeler, comendador, fundador de Petrópolis.\n",
      "Morto em 21 de novembro d inscription\n",
      "Avenida Horácio Macedo addr:street\n",
      "Naciente del Río San Antonio inscription\n",
      "Itaú Unibanco brand\n",
      "Avenida Érico Veríssimo addr:street\n",
      "Edifício Valente IX addr:housename\n",
      "Bancários addr:suburb\n",
      "Itaú Unibanco brand\n"
     ]
    },
    {
     "name": "stderr",
     "output_type": "stream",
     "text": [
      "Processing:  40%|████      | 42927/106084 [00:57<01:25, 741.84it/s]"
     ]
    },
    {
     "name": "stdout",
     "output_type": "stream",
     "text": [
      "Avenida Geremário Dantas addr:street\n",
      "Terminal de Integração Rodoviária José Ferreira da Silva operator\n",
      "São Gonçalo addr:city\n",
      "Itaboraí addr:city\n",
      "Rua José Zuza do Nascimento addr:street\n",
      "sem número addr:housenumber\n",
      "Rua São Salvador addr:street\n",
      "Rua Senador Corrêa addr:street\n",
      "Rua Senador Corrêa addr:street\n",
      "Rua São Salvador addr:street\n",
      "Rua Senador Corrêa addr:street\n",
      "Rua Senador Corrêa addr:street\n",
      "Rua São Salvador addr:street\n",
      "Rua São Salvador addr:street\n",
      "Rua São Salvador addr:street\n",
      "Rua São Salvador addr:street\n",
      "Rua Esteves Júnior addr:street\n",
      "Rua Grão de Areia addr:street\n",
      "Rua Grão de Areia addr:street\n",
      "Rua Grão de Areia addr:street\n",
      "Rua Grão de Areia addr:street\n",
      "Rua Grão de Areia addr:street\n",
      "Rua Grão de Areia addr:street\n",
      "Rua Antônio Nascimento addr:street\n",
      "Rua Antônio Nascimento addr:street\n",
      "Rua Antônio Nascimento addr:street\n",
      "Rua Antônio Nascimento addr:street\n",
      "Rua Visconde da Graça addr:street\n",
      "Jardim Botânico addr:suburb\n"
     ]
    },
    {
     "name": "stderr",
     "output_type": "stream",
     "text": [
      "Processing:  41%|████      | 43160/106084 [00:58<01:22, 761.09it/s]"
     ]
    },
    {
     "name": "stdout",
     "output_type": "stream",
     "text": [
      "Rua Carvalho de Mendonça addr:street\n",
      "Rua Gonçalves Gato addr:street\n",
      "Rua Gonçalves Gato addr:street\n",
      "Rua Áurea addr:street\n",
      "Rua Alberto de Gusmão addr:street\n",
      "Rua Lélio Cavalcânti addr:street\n",
      "Rua Manoel Assunção addr:street\n",
      "Rua Manoel Assunção addr:street\n",
      "Rua Barão da Torre addr:street\n",
      "Rua República Árabe da Síria addr:street\n",
      "Rua República Árabe da Síria addr:street\n",
      "Rua República Árabe da Síria addr:street\n",
      "Rua República Árabe da Síria addr:street\n"
     ]
    },
    {
     "name": "stderr",
     "output_type": "stream",
     "text": [
      "Processing:  41%|████      | 43391/106084 [00:58<01:22, 759.03it/s]"
     ]
    },
    {
     "name": "stdout",
     "output_type": "stream",
     "text": [
      "Avenida Geremário Dantas addr:street\n",
      "Edifício General Caldwell operator\n",
      "Avenida Geremário Dantas addr:street\n",
      "Hospital Lourenço Jorge operator\n",
      "Praça Professor Sousa Araújo addr:street\n",
      "Escola Britânica operator\n",
      "Rua Bolívar addr:street\n",
      "Rua Bolívar addr:street\n",
      "Rua Bolívar addr:street\n",
      "Caixa Econômica Federal brand\n",
      "pt:Caixa Econômica Federal brand:wikipedia\n",
      "Itaú brand\n",
      "en:Itaú Corpbanca brand:wikipedia\n",
      "O Boticário brand\n",
      "en:O Boticário brand:wikipedia\n",
      "Rua Padre Telêmaco addr:street\n",
      "Curso profissionalizante de refrigeração e máquina de lavar description\n"
     ]
    },
    {
     "name": "stderr",
     "output_type": "stream",
     "text": [
      "Processing:  41%|████      | 43544/106084 [00:58<01:22, 754.99it/s]"
     ]
    },
    {
     "name": "stdout",
     "output_type": "stream",
     "text": [
      "Rua do Perdão addr:street\n",
      "Parque Planetário – Jardim Gramacho addr:suburb\n",
      "Pça Carlos de Laet addr:street\n",
      "S. Sebastião addr:suburb\n",
      "Vila São Luiz addr:suburb\n",
      "Vila São Luiz addr:suburb\n",
      "Rua Cel. França Soares addr:street\n",
      "Rua Barão de Cotegipe addr:street\n",
      "Rua Barão de Cotegipe addr:street\n",
      "Rua Barão de Cotegipe addr:street\n",
      "Rua Barão de Cotegipe addr:street\n",
      "Rua Lins Guimarães addr:street\n",
      "Rua Lins Guimarães addr:street\n",
      "Rua Barão de Cotegipe addr:street\n",
      "Rua Barão de Cotegipe addr:street\n",
      "Rua Barão de Cotegipe addr:street\n",
      "Rua Barão de Cotegipe addr:street\n",
      "Rua Barão de Cotegipe addr:street\n",
      "Rua Emília Sampaio addr:street\n",
      "Rua Lins Guimarães addr:street\n",
      "Rua Lins Guimarães addr:street\n",
      "Rua Lins Guimarães addr:street\n",
      "Rua Emília Sampaio addr:street\n",
      "Rua Emília Sampaio addr:street\n",
      "Rua Lins Guimarães addr:street\n",
      "Rua Emília Sampaio addr:street\n",
      "Rua Emília Sampaio addr:street\n",
      "Rua Emília Sampaio addr:street\n",
      "Rua Emília Sampaio addr:street\n",
      "Rua Emília Sampaio addr:street\n",
      "Rua Barão de Cotegipe addr:street\n",
      "Rua Barão de Cotegipe addr:street\n",
      "Estrada das Canárias addr:street\n",
      "Galeão addr:suburb\n"
     ]
    },
    {
     "name": "stderr",
     "output_type": "stream",
     "text": [
      "Processing:  41%|████      | 43698/106084 [00:58<01:22, 755.96it/s]"
     ]
    },
    {
     "name": "stdout",
     "output_type": "stream",
     "text": [
      "Rua Bocaiúva addr:street\n",
      "Rua Bocaiúva addr:street\n",
      "Rua Bocaiúva addr:street\n",
      "Rua Bocaiúva addr:street\n",
      "Rua Bocaiúva addr:street\n",
      "Rua Bocaiúva addr:street\n",
      "Rua Bocaiúva addr:street\n",
      "Rua Bocaiúva addr:street\n",
      "Rua da Conceição addr:street\n",
      "Rua da Conceição addr:street\n",
      "Rua da Conceição addr:street\n",
      "Praça Monte Castelo addr:street\n",
      "Rua da Conceição addr:street\n",
      "Rua do Rosário addr:street\n",
      "Rua do Rosário addr:street\n",
      "Rua do Rosário addr:street\n",
      "Rua do Rosário addr:street\n",
      "Rua Teófilo Otoni addr:street\n",
      "Rua Teófilo Otoni addr:street\n",
      "Praça Monte Castelo addr:street\n"
     ]
    },
    {
     "name": "stderr",
     "output_type": "stream",
     "text": [
      "Processing:  41%|████▏     | 44006/106084 [00:59<01:21, 757.30it/s]"
     ]
    },
    {
     "name": "stdout",
     "output_type": "stream",
     "text": [
      "Avenida das Américas addr:street\n",
      "Setrans Segurança e Trânsito operator\n",
      "Cachoeira da Onça alt_name\n"
     ]
    },
    {
     "name": "stderr",
     "output_type": "stream",
     "text": [
      "Processing:  42%|████▏     | 44235/106084 [00:59<01:21, 754.61it/s]"
     ]
    },
    {
     "name": "stdout",
     "output_type": "stream",
     "text": [
      "Refúgio Hostel & Bistrô operator\n",
      "Caixa Econômica Federal brand\n",
      "Itaú Unibanco brand\n",
      "Caixa Econômica Federal brand\n",
      "Rua Raul Pompéia addr:street\n"
     ]
    },
    {
     "name": "stderr",
     "output_type": "stream",
     "text": [
      "Processing:  42%|████▏     | 44311/106084 [00:59<01:21, 754.64it/s]"
     ]
    },
    {
     "name": "stdout",
     "output_type": "stream",
     "text": [
      "Rua Marquês de Abrantes addr:street\n",
      "Caixa Econômica Federal brand\n",
      "Itaú Unibanco brand\n",
      "Rua Marechal Falcão da Frota addr:street\n",
      "Rua Jardim Botânico addr:street\n",
      "Rua Humaitá addr:street\n"
     ]
    },
    {
     "name": "stderr",
     "output_type": "stream",
     "text": [
      "Processing:  42%|████▏     | 44776/106084 [01:00<01:20, 759.92it/s]"
     ]
    },
    {
     "name": "stdout",
     "output_type": "stream",
     "text": [
      "Caixa Econômica Federal brand\n",
      "pt:Caixa Econômic brand:wikipedia\n",
      "Fundação Miguel Pereira operator\n",
      "Itaú Unibanco brand\n"
     ]
    },
    {
     "name": "stderr",
     "output_type": "stream",
     "text": [
      "Processing:  43%|████▎     | 45087/106084 [01:00<01:19, 764.35it/s]"
     ]
    },
    {
     "name": "stdout",
     "output_type": "stream",
     "text": [
      "Glória addr:suburb\n",
      "Avenida Prefeito Dulcídio Cardoso addr:street\n",
      "Rua Ituá addr:street\n",
      "Rua Ituá addr:street\n",
      "Rua Abélia addr:street\n",
      "Rua Ituá addr:street\n",
      "Rua Abélia addr:street\n",
      "Rua Ituá addr:street\n",
      "Rua Abélia addr:street\n",
      "Rua Abélia addr:street\n",
      "Rua Abélia addr:street\n",
      "Rua Ituá addr:street\n",
      "Rua Abélia addr:street\n",
      "Rua Ituá addr:street\n",
      "Rua Ituá addr:street\n",
      "Rua Ituá addr:street\n",
      "Rua Ituá addr:street\n",
      "Rua Abélia addr:street\n",
      "Rua Ituá addr:street\n",
      "Rua Abélia addr:street\n",
      "Rua Abélia addr:street\n",
      "Rua Ituá addr:street\n",
      "Rua Ituá addr:street\n",
      "Rua Abélia addr:street\n",
      "Rua Ituá addr:street\n",
      "Rua Ituá addr:street\n"
     ]
    },
    {
     "name": "stderr",
     "output_type": "stream",
     "text": [
      "Processing:  43%|████▎     | 45397/106084 [01:01<01:19, 760.77it/s]"
     ]
    },
    {
     "name": "stdout",
     "output_type": "stream",
     "text": [
      "Rua Voluntários da Pátria addr:street\n",
      "Rua Voluntários da Pátria addr:street\n",
      "Rua Voluntários da Pátria addr:street\n",
      "Óticas Carol brand\n",
      "Rua Voluntários da Pátria addr:street\n",
      "5àsec brand\n",
      "Rodovia Governador Mário Covas addr:street\n"
     ]
    },
    {
     "name": "stderr",
     "output_type": "stream",
     "text": [
      "Processing:  43%|████▎     | 45629/106084 [01:01<01:19, 760.63it/s]"
     ]
    },
    {
     "name": "stdout",
     "output_type": "stream",
     "text": [
      "Venda de ingressos para o Tour Maracanã description\n"
     ]
    },
    {
     "name": "stderr",
     "output_type": "stream",
     "text": [
      "Processing:  43%|████▎     | 45784/106084 [01:01<01:18, 764.62it/s]"
     ]
    },
    {
     "name": "stdout",
     "output_type": "stream",
     "text": [
      "Avenida Nossa Senhora de Fátima addr:street\n",
      "Rua Leopoldo de Fróis addr:street\n"
     ]
    },
    {
     "name": "stderr",
     "output_type": "stream",
     "text": [
      "Processing:  43%|████▎     | 46015/106084 [01:01<01:18, 763.06it/s]"
     ]
    },
    {
     "name": "stdout",
     "output_type": "stream",
     "text": [
      "Rua Voluntários da Pátria addr:street\n",
      "Rua Voluntários da Pátria addr:street\n",
      "Rua Almirante Gavião addr:street\n",
      "Hábil Comunicação Gráfica e Digital Ltda ME operator\n",
      "Vinícius Proença operator\n"
     ]
    },
    {
     "name": "stderr",
     "output_type": "stream",
     "text": [
      "Processing:  44%|████▎     | 46169/106084 [01:02<01:18, 762.15it/s]"
     ]
    },
    {
     "name": "stdout",
     "output_type": "stream",
     "text": [
      "Rua Major Ávila addr:street\n",
      "Rua Barão de Mesquita addr:street\n",
      "Grajaú addr:suburb\n"
     ]
    },
    {
     "name": "stderr",
     "output_type": "stream",
     "text": [
      "Processing:  44%|████▎     | 46323/106084 [01:02<01:18, 762.75it/s]"
     ]
    },
    {
     "name": "stdout",
     "output_type": "stream",
     "text": [
      "Cidade Universitária addr:suburb\n",
      "Avenida Venceslau Brás addr:street\n",
      "Rua General Espírito Santo Cardoso addr:street\n",
      "Rua General Espírito Santo Cardoso addr:street\n",
      "Niterói addr:city\n",
      "Icaraí addr:suburb\n",
      "Teresópolis addr:city\n",
      "Agriões addr:suburb\n"
     ]
    },
    {
     "name": "stderr",
     "output_type": "stream",
     "text": [
      "Processing:  44%|████▍     | 46556/106084 [01:02<01:19, 751.07it/s]"
     ]
    },
    {
     "name": "stdout",
     "output_type": "stream",
     "text": [
      "Magé addr:city\n",
      "Praça do Pontal Tim Maia addr:street\n",
      "Banco Itaú network\n",
      "Banco Itaú operator\n",
      "Ginástica_Olímpica sport\n",
      "Rua Humaitá addr:street\n",
      "Humaitá addr:suburb\n"
     ]
    },
    {
     "name": "stderr",
     "output_type": "stream",
     "text": [
      "Processing:  44%|████▍     | 46786/106084 [01:02<01:18, 755.94it/s]"
     ]
    },
    {
     "name": "stdout",
     "output_type": "stream",
     "text": [
      "Rua Jardim Botânico addr:street\n",
      "Jardim Botânico addr:suburb\n",
      "Rua Jardim Botânico addr:street\n",
      "Jardim Botânico addr:suburb\n"
     ]
    },
    {
     "name": "stderr",
     "output_type": "stream",
     "text": [
      "Processing:  44%|████▍     | 47092/106084 [01:03<01:17, 759.26it/s]"
     ]
    },
    {
     "name": "stdout",
     "output_type": "stream",
     "text": [
      "Rua Pajuçara addr:street\n",
      "Rua Pajuçara addr:street\n",
      "Rua Pajuçara addr:street\n",
      "Rua Pajuçara addr:street\n",
      "Avenida das Américas addr:street\n",
      "Avenida das Américas addr:street\n",
      "Avenida das Américas addr:street\n",
      "Avenida das Américas addr:street\n",
      "Caixa Econômica Federal brand\n",
      "Avenida das Américas addr:street\n",
      "Avenida das Américas addr:street\n",
      "Avenida das Américas addr:street\n",
      "burger;pizza;carne_seca_com_aipim;açaí cuisine\n",
      "São Francisco Xavier addr:suburb\n",
      "São Francisco Xavier addr:suburb\n",
      "Caixa Econômica Federal brand\n",
      "Avenida Presidente Antônio Carlos addr:street\n",
      "Rua Marquês de São Vicente addr:street\n",
      "Rua Marquês de São Vicente addr:street\n",
      "Praça Santos Dumont addr:street\n",
      "Gávea addr:suburb\n"
     ]
    },
    {
     "name": "stderr",
     "output_type": "stream",
     "text": [
      "Processing:  45%|████▍     | 47244/106084 [01:03<01:17, 755.27it/s]"
     ]
    },
    {
     "name": "stdout",
     "output_type": "stream",
     "text": [
      "Rua Marquês de São Vicente addr:street\n",
      "Rua Marquês de São Vicente addr:street\n",
      "Category:Museu da Polícia Civil (Rio de Janeiro) wikimedia_commons\n",
      "§0 capacity\n",
      "Praça Calcutá addr:street\n",
      "Praça Calcutá addr:street\n"
     ]
    },
    {
     "name": "stderr",
     "output_type": "stream",
     "text": [
      "Processing:  45%|████▍     | 47396/106084 [01:03<01:17, 754.80it/s]"
     ]
    },
    {
     "name": "stdout",
     "output_type": "stream",
     "text": [
      "Travessa Theotônio Freire addr:street\n",
      "Estrada do Pinhão addr:street\n",
      "Estrada do Pinhão addr:street\n",
      "Rua Olímpio Machado addr:street\n",
      "Rua Olímpio Machado addr:street\n",
      "Rua Olímpio Machado addr:street\n",
      "Estrada do Pinhão addr:street\n",
      "Travessa Theotônio Freire addr:street\n",
      "Rua Olímpio Machado addr:street\n",
      "Rua Olímpio Machado addr:street\n",
      "Estrada do Pinhão addr:street\n",
      "Rua Olímpio Machado addr:street\n",
      "Caixa Econômica Federal brand\n",
      "pt:Caixa Econômica Federal brand:wikipedia\n",
      "Rua Doutor Guapiaçu addr:street\n",
      "Rua Doutor Guapiaçu addr:street\n",
      "Rua Doutor Guapiaçu addr:street\n",
      "Rua Doutor Guapiaçu addr:street\n",
      "Rua Doutor Guapiaçu addr:street\n",
      "Rua Doutor Guapiaçu addr:street\n",
      "Rua Doutor Guapiaçu addr:street\n",
      "Rua Doutor Guapiaçu addr:street\n",
      "Rua Doutor Guapiaçu addr:street\n",
      "Rua Doutor Guapiaçu addr:street\n"
     ]
    },
    {
     "name": "stderr",
     "output_type": "stream",
     "text": [
      "Processing:  45%|████▍     | 47626/106084 [01:03<01:17, 756.94it/s]"
     ]
    },
    {
     "name": "stdout",
     "output_type": "stream",
     "text": [
      "Avenida Lúcio Costa addr:street\n",
      "Avenida Sebastião Maoel Furtado addr:street\n",
      "Avenida das Américas addr:street\n",
      "Avenida das Américas addr:street\n",
      "Jardim Anhangá addr:suburb\n"
     ]
    },
    {
     "name": "stderr",
     "output_type": "stream",
     "text": [
      "Processing:  45%|████▌     | 47856/106084 [01:04<01:16, 759.09it/s]"
     ]
    },
    {
     "name": "stdout",
     "output_type": "stream",
     "text": [
      "Caixa Econômica Federal brand\n",
      "Avenida das Américas addr:street\n",
      "Avenida das Américas addr:street\n",
      "Itaú Unibanco brand\n",
      "Rua Valparaíso addr:street\n",
      "Igreja Evangélica de Confissão Luteran network\n",
      "Praça da Cruz Vermelha addr:street\n",
      "Rua Aurino de Sá Leitão addr:street\n"
     ]
    },
    {
     "name": "stderr",
     "output_type": "stream",
     "text": [
      "Processing:  45%|████▌     | 48011/106084 [01:04<01:16, 757.16it/s]"
     ]
    },
    {
     "name": "stdout",
     "output_type": "stream",
     "text": [
      "Caixa Econômica Federal brand\n",
      "Avenida Mem de Sá addr:street\n",
      "Kumalawa Útu name:oym\n",
      "Pakupolaita'a ɨtu name:oym\n",
      "Rua Garcia d'Ávila addr:street\n",
      "pt:Estação Américo Brum wikipedia\n",
      "pt:Estação Gamboa wikipedia\n",
      "Igrejinha do Grajaú alt_name\n"
     ]
    },
    {
     "name": "stderr",
     "output_type": "stream",
     "text": [
      "Processing:  45%|████▌     | 48164/106084 [01:04<01:16, 756.27it/s]"
     ]
    },
    {
     "name": "stdout",
     "output_type": "stream",
     "text": [
      "Rua Itália Fausta addr:street\n",
      "Itanhangá addr:suburb\n",
      "Rua Brasília addr:street\n",
      "Espaço Daniele Agostinho Derossi alt_name\n",
      "Itaú Unibanco brand\n",
      "pt:Itaú Unibanco brand:wikipedia\n",
      "Empresa Brasileira de Correios e Telégrafos brand\n",
      "Caixa Econômica Federal brand\n",
      "pt:Caixa Econômica Federal brand:wikipedia\n",
      "Maricá addr:city\n",
      "Rua Athaíde Parreiras addr:street\n",
      "Caixa Econômica Federal brand\n",
      "pt:Caixa Econômica Federal brand:wikipedia\n",
      "Itaú Unibanco brand\n",
      "pt:Itaú Unibanco brand:wikipedia\n"
     ]
    },
    {
     "name": "stderr",
     "output_type": "stream",
     "text": [
      "Processing:  46%|████▌     | 48548/106084 [01:05<01:16, 748.08it/s]"
     ]
    },
    {
     "name": "stdout",
     "output_type": "stream",
     "text": [
      "Avenida das Américas addr:street\n",
      "Antigo portão que servia de caminho rápido a Estrada do Sapê e a estação ferroviária de Rocha Miranda. \n",
      "\n",
      "Acesso fechado em meados de 2010, a pedido de moradores alegando questões de segurança. Local description\n",
      "São Gonçalo addr:city\n",
      "Escola Municipal Altivo César operator\n",
      "Escola Municipal João Brazil operator\n",
      "Niterói addr:city\n",
      "Prefeitura de Niterói operator\n",
      "Avenida Geremário Dantas addr:street\n",
      "Rua Guaiacá addr:street\n",
      "Rua Voluntários da Pátria addr:street\n",
      "Rua dos Inválidos addr:street\n"
     ]
    },
    {
     "name": "stderr",
     "output_type": "stream",
     "text": [
      "Processing:  46%|████▌     | 48699/106084 [01:05<01:16, 745.96it/s]"
     ]
    },
    {
     "name": "stdout",
     "output_type": "stream",
     "text": [
      "Rua Grajaú addr:street\n",
      "Rua Álvaro Alvim addr:street\n",
      "São Francisco addr:suburb\n",
      "Niterói addr:city\n",
      "São Francisco addr:suburb\n",
      "Niterói addr:city\n",
      "São Francisco addr:suburb\n",
      "Praça Rubey Wanderley addr:street\n",
      "Avenida Brás de Pina addr:street\n"
     ]
    },
    {
     "name": "stderr",
     "output_type": "stream",
     "text": [
      "Processing:  46%|████▌     | 48849/106084 [01:05<01:16, 743.85it/s]"
     ]
    },
    {
     "name": "stdout",
     "output_type": "stream",
     "text": [
      "Avenida Lusitânia addr:street\n",
      "Pioneiro da ginástica pelo rádio, Oswaldo Diniz Magalhães inscription\n",
      "Jardim Anhangá addr:suburb\n",
      "Rua Álvaro Ramos addr:street\n",
      "Caixa Econômica Federal brand\n",
      "Rua Bolívar addr:street\n",
      "Avenida Lúcio Costa addr:street\n"
     ]
    },
    {
     "name": "stderr",
     "output_type": "stream",
     "text": [
      "Processing:  46%|████▌     | 48999/106084 [01:05<01:17, 740.40it/s]"
     ]
    },
    {
     "name": "stdout",
     "output_type": "stream",
     "text": [
      "Статуя Анто name:ru\n",
      "Orientação Educacional description\n",
      "Rua Visconde de Pirajá addr:street\n",
      "Avenida Automóvel Club addr:street\n",
      "Avenida Automóvel Club addr:street\n",
      "Avenida Automóvel Club addr:street\n",
      "Barreira temporária devido à obras description\n",
      "Rua Carvalho de Mendonça addr:street\n",
      "Fábrica de Sorvetes. description\n",
      "Avenida Érico Veríssimo addr:street\n",
      "Rua Marquês de São Vicente addr:street\n",
      "Teresópolis addr:city\n",
      "Teresópolis addr:city\n",
      "Prefeitura Municipal de Teresópolis operator\n",
      "Rua André Cavalcanti addr:street\n",
      "Centro de Operações Rio operator\n"
     ]
    },
    {
     "name": "stderr",
     "output_type": "stream",
     "text": [
      "Processing:  46%|████▋     | 49227/106084 [01:06<01:16, 745.77it/s]"
     ]
    },
    {
     "name": "stdout",
     "output_type": "stream",
     "text": [
      "Rua Cândido Benício addr:street\n",
      "Praça Seca addr:suburb\n",
      "Itaú Unibanco brand\n",
      "Caixa Econômica Federal brand\n",
      "Rua da Relação addr:street\n",
      "Praça João Pessoa addr:street\n",
      "Avenida Mem de Sá addr:street\n",
      "Praça Eugênio Jardim addr:street\n",
      "Praça Eugênio Jardim addr:street\n",
      "Praça Eugênio Jardim addr:street\n",
      "Praça Eugênio Jardim addr:street\n",
      "Praça Eugênio Jardim addr:street\n",
      "Praça Eugênio Jardim addr:street\n",
      "Praça Eugênio Jardim addr:street\n",
      "Praça Eugênio Jardim addr:street\n",
      "Praça Eugênio Jardim addr:street\n",
      "Praça Eugênio Jardim addr:street\n",
      "Praça Eugênio Jardim addr:street\n",
      "Praça Eugênio Jardim addr:street\n",
      "Praça Eugênio Jardim addr:street\n",
      "Praça Eugênio Jardim addr:street\n",
      "Praça Eugênio Jardim addr:street\n",
      "Praça Eugênio Jardim addr:street\n",
      "Petrobrás operator\n",
      "Rua Dionísio Fernandes addr:street\n",
      "Rua Francisco Sá addr:street\n"
     ]
    },
    {
     "name": "stderr",
     "output_type": "stream",
     "text": [
      "Processing:  47%|████▋     | 49609/106084 [01:06<01:14, 759.82it/s]"
     ]
    },
    {
     "name": "stdout",
     "output_type": "stream",
     "text": [
      "Rua Andaraí addr:street\n",
      "Travessa Rio Joana do Andaraí addr:street\n"
     ]
    },
    {
     "name": "stderr",
     "output_type": "stream",
     "text": [
      "Processing:  47%|████▋     | 49991/106084 [01:07<01:14, 754.61it/s]"
     ]
    },
    {
     "name": "stdout",
     "output_type": "stream",
     "text": [
      "Terminal de ônibus que marca o início da trilha à pé. description\n",
      "Estrada Aníbal da Mota addr:street\n",
      "Avenida Automóvel Club addr:street\n",
      "Avenida Automóvel Club addr:street\n",
      "Avenida Automóvel Club addr:street\n",
      "Avenida Automóvel Club addr:street\n",
      "Rua da Rodoviária do Pq São José addr:street\n",
      "Avenida Automóvel Club addr:street\n",
      "Avenida Automóvel Club addr:street\n",
      "Avenida Automóvel Club addr:street\n",
      "Avenida Automóvel Club addr:street\n",
      "Avenida Automóvel Club addr:street\n",
      "Avenida Automóvel Club addr:street\n",
      "Avenida Automóvel Club addr:street\n",
      "Rua Lauro Müller addr:street\n",
      "Avenida Presidente Antônio Carlos addr:street\n",
      "Avenida Presidente Antônio Carlos addr:street\n",
      "Avenida Presidente Antônio Carlos addr:street\n",
      "Avenida República do Chile addr:street\n",
      "Rua Voluntários da Pátria addr:street\n",
      "Gávea addr:suburb\n",
      "Estrada da Gávea addr:street\n",
      "Estrada Intendente Magalhães addr:street\n"
     ]
    },
    {
     "name": "stderr",
     "output_type": "stream",
     "text": [
      "Processing:  47%|████▋     | 50143/106084 [01:07<01:17, 719.57it/s]"
     ]
    },
    {
     "name": "stdout",
     "output_type": "stream",
     "text": [
      "Centro de Operações Rio operator\n",
      "Rua São Clemente addr:street\n",
      "Avenida das Américas addr:street\n",
      "Rua Cândido Mendes addr:street\n",
      "Rua Cândido Mendes addr:suburb\n",
      "Avenida das Américas addr:street\n",
      "Pão de Açúcar brand\n",
      "pt:Pão de Açúcar (supermercado brasileiro) brand:wikipedia\n",
      "Category:Colégio de São Bento (Rio de Janeiro) wikimedia_commons\n",
      "pt:Colégio de São Bento wikipedia\n",
      "Rua Jerônimo Serqueira addr:street\n",
      "Avenida das Américas addr:street\n",
      "Avenida das Américas addr:street\n",
      "Rua Lauro Müller addr:street\n",
      "Rua México addr:street\n",
      "Avenida Presidente Antônio Carlos addr:street\n",
      "24º andar addr:unit\n",
      "Rua Garcia d'Ávila addr:street\n",
      "Rua da Alfândega addr:street\n",
      "6º andar addr:unit\n",
      "Rua Lauro Müller addr:street\n",
      "Avenida Afrânio de Melo Franco addr:street\n",
      "Rua Araújo Porto Alegre addr:street\n",
      "4º andar addr:unit\n",
      "Avenida das Américas addr:street\n",
      "Polícia Militar do Estado do Rio de Janeiro operator\n"
     ]
    },
    {
     "name": "stderr",
     "output_type": "stream",
     "text": [
      "Processing:  47%|████▋     | 50296/106084 [01:07<01:15, 738.21it/s]"
     ]
    },
    {
     "name": "stdout",
     "output_type": "stream",
     "text": [
      "Jardim Botânico addr:suburb\n",
      "São Cristóvão IPP:BAIRRO\n",
      "Caixa Econômica Federal brand\n",
      "MetrôRio operator\n",
      "Jardim de Alá alt_name\n",
      "MetrôRio operator\n",
      "MetrôRio operator\n",
      "Praça Tiradentes addr:street\n",
      "Caixa Econômica Federal brand\n",
      "Caixa Econômica Federal operator\n",
      "Itaú Unibanco brand\n"
     ]
    },
    {
     "name": "stderr",
     "output_type": "stream",
     "text": [
      "Processing:  48%|████▊     | 50603/106084 [01:07<01:14, 746.30it/s]"
     ]
    },
    {
     "name": "stdout",
     "output_type": "stream",
     "text": [
      "Avenida das Américas addr:street\n",
      "Rua Figueiredo de Magalhães addr:street\n"
     ]
    },
    {
     "name": "stderr",
     "output_type": "stream",
     "text": [
      "Processing:  48%|████▊     | 50755/106084 [01:08<01:13, 752.32it/s]"
     ]
    },
    {
     "name": "stdout",
     "output_type": "stream",
     "text": [
      "Itaú Unibanco brand\n",
      "Avenida das Américas addr:street\n",
      "Rodovia Doutor Sérgio Braga addr:street\n",
      "Via Expressa Afrânio Bastos addr:street\n",
      "Via Expressa Afrânio Bastos addr:street\n",
      "Viaduto Álimo Antônio Francisco addr:street\n",
      "Rodovia Doutor Sérgio Braga addr:street\n",
      "Rodovia Doutor Sérgio Braga addr:street\n",
      "Rodovia Doutor Sérgio Braga addr:street\n",
      "Rua São João addr:street\n",
      "Rua Capitão Benedito Lopes Bragança addr:street\n",
      "Paquetá addr:suburb\n",
      "Secretaria de Estado de Educação do Rio operator\n",
      "Italínea brand\n",
      "Itaú Unibanco brand\n",
      "Praça 1o de Maio addr:street\n",
      "Avenida Professora Romanda Gonçalves addr:street\n",
      "Citroën brand\n"
     ]
    },
    {
     "name": "stderr",
     "output_type": "stream",
     "text": [
      "Processing:  48%|████▊     | 50908/106084 [01:08<01:13, 754.76it/s]"
     ]
    },
    {
     "name": "stdout",
     "output_type": "stream",
     "text": [
      "Rua Três addr:street\n",
      "Igreja Assembleia De Deus Monte De Sião Rocha Eterna name:pt\n",
      "Rua Nossa Senhora de Fátima addr:street\n",
      "Padaria Nacional Central de Itaipuaçu name:pt\n",
      "Datacenter, ponto de troca de tráfego no Rio de Janeiro description\n"
     ]
    },
    {
     "name": "stderr",
     "output_type": "stream",
     "text": [
      "Processing:  48%|████▊     | 51370/106084 [01:08<01:12, 758.36it/s]"
     ]
    },
    {
     "name": "stdout",
     "output_type": "stream",
     "text": [
      "Avenida Lúcio Costa addr:street\n",
      "Júlio Catelli Filho artist_name\n",
      "Escultura em homenagem à Força Aérea Brasileira description\n",
      "Монумент Три солдата name:ru\n",
      "Secretaria de Educação do Estado do Rio de Janeiro operator\n",
      "Estrada São Pedro de Alcântara addr:street\n",
      "Magalhães Bastos addr:suburb\n",
      "Magalhães Bastos addr:suburb\n",
      "Estrada da Água Branca addr:street\n",
      "Magalhães Bastos addr:suburb\n",
      "Estrada da Água Branca addr:street\n",
      "Magalhães Bastos addr:suburb\n",
      "Estrada da Água Branca addr:street\n",
      "Magalhães Bastos addr:suburb\n",
      "Estrada da Água Branca addr:street\n",
      "Magalhães Bastos addr:suburb\n",
      "Estrada da Água Branca addr:street\n",
      "Magalhães Bastos addr:suburb\n",
      "Estrada da Água Branca addr:street\n",
      "Magalhães Bastos addr:suburb\n",
      "Estrada da Água Branca addr:street\n",
      "Magalhães Bastos addr:suburb\n",
      "Estrada da Água Branca addr:street\n",
      "Magalhães Bastos addr:suburb\n",
      "Estrada da Água Branca addr:street\n",
      "Magalhães Bastos addr:suburb\n",
      "Estrada da Água Branca addr:street\n",
      "Magalhães Bastos addr:suburb\n",
      "Estrada da Água Branca addr:street\n",
      "Magalhães Bastos addr:suburb\n",
      "Cabine de polícia description\n",
      "Caixa Econômica Federal brand\n",
      "Edifício Supervisa Office Center addr:housename\n"
     ]
    },
    {
     "name": "stderr",
     "output_type": "stream",
     "text": [
      "Processing:  49%|████▊     | 51603/106084 [01:09<01:11, 763.94it/s]"
     ]
    },
    {
     "name": "stdout",
     "output_type": "stream",
     "text": [
      "Inhoaíba addr:suburb\n",
      "Inhoaíba addr:suburb\n",
      "Paciência addr:suburb\n"
     ]
    },
    {
     "name": "stderr",
     "output_type": "stream",
     "text": [
      "Processing:  49%|████▉     | 51835/106084 [01:09<01:10, 764.93it/s]"
     ]
    },
    {
     "name": "stdout",
     "output_type": "stream",
     "text": [
      "Caixa Econômica Federal brand\n",
      "pt:Caixa Econômica Federal brand:wikipedia\n",
      "Itaú Unibanco brand\n",
      "pt:Itaú Unibanco brand:wikipedia\n",
      "Avenida Cesário de Melo addr:street\n"
     ]
    },
    {
     "name": "stderr",
     "output_type": "stream",
     "text": [
      "Processing:  49%|████▉     | 52065/106084 [01:09<01:12, 745.93it/s]"
     ]
    },
    {
     "name": "stdout",
     "output_type": "stream",
     "text": [
      "secretaria de saúde mage name:pt\n",
      "farmácia geral depósito name:pt\n",
      "Posto 24h - Praia de Mauá name:pt\n",
      "Rua Bolívar addr:street\n",
      "Colégio Mallet Soares operator\n"
     ]
    },
    {
     "name": "stderr",
     "output_type": "stream",
     "text": [
      "Processing:  49%|████▉     | 52295/106084 [01:10<01:11, 755.77it/s]"
     ]
    },
    {
     "name": "stdout",
     "output_type": "stream",
     "text": [
      "Avenida das Américas addr:street\n"
     ]
    },
    {
     "name": "stderr",
     "output_type": "stream",
     "text": [
      "Processing:  50%|████▉     | 52682/106084 [01:10<01:10, 758.74it/s]"
     ]
    },
    {
     "name": "stdout",
     "output_type": "stream",
     "text": [
      "Travessa Santa Bárbara addr:street\n"
     ]
    },
    {
     "name": "stderr",
     "output_type": "stream",
     "text": [
      "Processing:  50%|████▉     | 52913/106084 [01:10<01:10, 758.96it/s]"
     ]
    },
    {
     "name": "stdout",
     "output_type": "stream",
     "text": [
      "Смарт Фит name:ru\n",
      "Rua Presidente João Pessoa addr:street\n",
      "Smart Fit - João Pessoa name:pt\n",
      "Смарт Фит name:ru\n",
      "Rua Otávio Carneiro addr:street\n",
      "4 Cantos Câmbio e Turusmo name:pt\n",
      "(Agência 7942) branch\n",
      "Itaú Unibanco brand\n",
      "Estácio de Sá operator\n",
      "Caixa Econômica Federal brand\n",
      "Rua Soldado Eliseu Hipólito addr:street\n",
      "Hambúrgueres artesanais, grelhados e massas, além de sucos e açaís, em espacinho rústico e descontraído. description\n",
      "Rua Soldado Eliseu Hipólito addr:street\n",
      "Arena cultural popular apresenta espetáculos musicais diversos e shows infantis com números cômicos de circo. description\n",
      "Caixa Econômica Federal brand\n"
     ]
    },
    {
     "name": "stderr",
     "output_type": "stream",
     "text": [
      "Processing:  50%|█████     | 53142/106084 [01:11<01:09, 758.46it/s]"
     ]
    },
    {
     "name": "stdout",
     "output_type": "stream",
     "text": [
      "Drogaria Venâncio operator\n",
      "yes payment:alelo_refeição\n",
      "Museu do Ingá name:pt\n",
      "Estrada do Itanhangá addr:street\n",
      "Itanhagá addr:suburb\n",
      "Ako ɨtu name:oym\n",
      "Alikoto miti ɨtu name:oym\n",
      "Taléouwayatou itou alt_name\n",
      "Tale'ɨtuwayatu name:oym\n",
      "Oula Oula ɨtu alt_name\n",
      "Wɨlauloaitɨ name:oym\n",
      "yapopéna itou alt_name\n",
      "Ya'ɨpopena ɨtu name:oym\n",
      "Ɨwelã ɨtu, yaloupi lemwa itou alt_name\n",
      "Yalupi lɨmɨ'a ɨtu name:oym\n",
      "Paku etã name:oym\n",
      "Takulu ɨtu name:oym\n",
      "Tamanua ɨapa name:oym\n",
      "Uluwa ɨtu name:oym\n",
      "Saut Pacouétan, pakwétan Itou alt_name\n",
      "Ɨtu miti name:oym\n",
      "Ɨtupuku name:oym\n",
      "Ɨtuwasu name:oym\n",
      "Ɨwa'a talãwã name:oym\n",
      "Saut Koumalouétan, koumalwetan Itou alt_name\n",
      "Kulumuli ɨtu name:oym\n"
     ]
    },
    {
     "name": "stderr",
     "output_type": "stream",
     "text": [
      "Processing:  50%|█████     | 53218/106084 [01:11<01:09, 755.39it/s]"
     ]
    },
    {
     "name": "stdout",
     "output_type": "stream",
     "text": [
      "Colégio estadual Alcina Rodrigues Lima name:pt\n",
      "São Gonçalo addr:city\n",
      "São Gonçalo addr:city\n",
      "Colubandê addr:suburb\n",
      "Kicê Sucos name:en\n",
      "Príncípe de Mônaco name:en\n",
      "Rua Áurea addr:street\n",
      "Praça Olavo Bilac addr:street\n",
      "Олимпийский мурал name:ru\n",
      "Itaú Unibanco brand\n",
      "pt:Itaú Unibanco brand:wikipedia\n"
     ]
    },
    {
     "name": "stderr",
     "output_type": "stream",
     "text": [
      "Processing:  50%|█████     | 53447/106084 [01:11<01:09, 757.34it/s]"
     ]
    },
    {
     "name": "stdout",
     "output_type": "stream",
     "text": [
      "Rua São Manuel addr:street\n",
      "Rua Fernandes Guimarães addr:street\n",
      "Rua Almirante Cóchrane addr:street\n",
      "Rua Almirante Cóchrane addr:street\n",
      "Фрагазия name:ru\n",
      "Rua São Francisco Xavier addr:street\n",
      "Maracanã addr:suburb\n",
      "Rua São Francisco Xavier addr:street\n",
      "Maracanã addr:suburb\n",
      "Rua São Francisco Xavier addr:street\n",
      "Maracanã addr:suburb\n",
      "~Centro acadêmico da Engenharia da UERJ - Sala 5005 description\n",
      "Praça Quinze;Praça 15 alt_name\n",
      "Supermercado Atlântico operator\n",
      "Praça Tiradentes addr:street\n",
      "Fuscão Preto name:pt\n",
      "Caixa Econômica Federal brand\n",
      "Jardim Botânico addr:suburb\n",
      "Rua Maria Quitéria addr:street\n",
      "Ilha do Ipê addr:street\n",
      "O Hostel Casa do Mundo é aconchegante, rústico e moderno ao mesmo tempo. Fica description\n",
      "Rua Maria Quitéria addr:street\n",
      "Empório name:en\n"
     ]
    },
    {
     "name": "stderr",
     "output_type": "stream",
     "text": [
      "Processing:  51%|█████     | 53600/106084 [01:11<01:09, 757.14it/s]"
     ]
    },
    {
     "name": "stdout",
     "output_type": "stream",
     "text": [
      "Avenida Doutor Eugênio Borges addr:street\n",
      "Rua Hipólito da Costa addr:street\n",
      "Niterói addr:city\n",
      "Icaraí addr:suburb\n",
      "Lombada eletrônica description\n",
      "Rodovia Doutor Sérgio Braga addr:street\n",
      "Rodovia Doutor Sérgio Braga addr:street\n",
      "Rua São Clemente addr:street\n",
      "Polícia Militar do Estado do Rio de Janeiro operator\n",
      "Rua Antônio Rego addr:street\n",
      "Rua Pacheco Leão addr:street\n",
      "Jardim Botânico addr:suburb\n",
      "Rua Pacheco Leão addr:street\n",
      "Jardim Botânico addr:suburb\n",
      "Nova Iguaçu addr:city\n"
     ]
    },
    {
     "name": "stderr",
     "output_type": "stream",
     "text": [
      "Processing:  51%|█████     | 53831/106084 [01:12<01:09, 753.26it/s]"
     ]
    },
    {
     "name": "stdout",
     "output_type": "stream",
     "text": [
      "571 engenho do roçado name:pt\n",
      "Avenida República do Chile addr:street\n",
      "São Cristovão addr:suburb\n",
      "Rua Barão addr:street\n",
      "Станция жёлтого трамвайчика name:ru\n",
      "Rua Gonçalves Dias addr:street\n",
      "Rua Álvaro Alvim addr:street\n",
      "Rua Álvaro Alvim addr:street\n",
      "Automobile Club du Brésil name:fr\n",
      "Avenida Presidente Antônio Carlos addr:street\n",
      "Rua Pinheiro Guimarães addr:street\n",
      "Rua Álvaro Alvim addr:street\n"
     ]
    },
    {
     "name": "stderr",
     "output_type": "stream",
     "text": [
      "Processing:  51%|█████     | 53907/106084 [01:12<01:09, 752.31it/s]"
     ]
    },
    {
     "name": "stdout",
     "output_type": "stream",
     "text": [
      "Rua do Rosário addr:street\n",
      "Rua São Cristóvão addr:street\n",
      "Avenida Atlântica addr:street\n",
      "Salão de beleza description\n",
      "Rua Antônio Vieira addr:street\n",
      "Rua Voluntários da Pátria addr:street\n",
      "Rua Pacheco Leão addr:street\n",
      "Praça João Pessoa addr:street\n",
      "Niterói addr:city\n",
      "Rua sem saída para automóveis. description\n",
      "Unidade Fornecedora de Alívio (UFA) description\n",
      "Avenida Automóvel Club addr:street\n",
      "AR Auto Peças name:pt\n"
     ]
    },
    {
     "name": "stderr",
     "output_type": "stream",
     "text": [
      "Processing:  51%|█████     | 54137/106084 [01:12<01:08, 755.49it/s]"
     ]
    },
    {
     "name": "stdout",
     "output_type": "stream",
     "text": [
      "Nova Iguaçu addr:city\n",
      "Califórnia addr:suburb\n",
      "Rua Sessenta e Três addr:street\n",
      "Oficina mecânica Duducar name:pt\n",
      "Rua Marquês de Abrantes addr:street\n",
      "Rua Marquês de Abrantes addr:street\n",
      "Clapa Comé official_name\n",
      "Rua Marquês de Paraná addr:street\n",
      "Rua Marquês de Paraná addr:street\n",
      "Avenida das Américas addr:street\n",
      "Rua Visconde de Pirajá addr:street\n",
      "Tinguá / UniRio operator\n"
     ]
    },
    {
     "name": "stderr",
     "output_type": "stream",
     "text": [
      "Processing:  51%|█████     | 54291/106084 [01:12<01:08, 760.92it/s]"
     ]
    },
    {
     "name": "stdout",
     "output_type": "stream",
     "text": [
      "Estrada Velha do Piaí addr:street\n",
      "Estrada Iaraquã addr:street\n",
      "Moto Táxi iaraquã name:pt\n",
      "Café Fofoca name:pt\n"
     ]
    },
    {
     "name": "stderr",
     "output_type": "stream",
     "text": [
      "Processing:  51%|█████▏    | 54444/106084 [01:13<01:09, 738.58it/s]"
     ]
    },
    {
     "name": "stdout",
     "output_type": "stream",
     "text": [
      "Estrada Velha de Maricá addr:street\n",
      "Cabeça de Porco name:pt\n",
      "Rua Corrêa Vasques addr:street\n",
      "Magé addr:city\n",
      "Magé addr:city\n",
      "Concessionária Rio Teresópolis name:pt\n",
      "Rua Noronha Torrezão addr:street\n",
      "Niterói addr:city\n",
      "Alameda São Boaventura addr:street\n",
      "Praia de São Roque addr:street\n",
      "Vicente de Carvalho (1866-1924), poeta que lutou e foi um grande defensor da libertação dos escravos description\n",
      "Plaza D'España operator\n",
      "Patrícia operator\n",
      "Empresa Brasileira de Correios e Telégrafos operator\n",
      "Estrada Prefeito Álvaro de Carvalho Júnior addr:street\n"
     ]
    },
    {
     "name": "stderr",
     "output_type": "stream",
     "text": [
      "Processing:  51%|█████▏    | 54597/106084 [01:13<01:08, 749.28it/s]"
     ]
    },
    {
     "name": "stdout",
     "output_type": "stream",
     "text": [
      "Rua México addr:street\n",
      "Rua Barão da Torre addr:street\n",
      "Rua Jardim Botânico addr:street\n"
     ]
    },
    {
     "name": "stderr",
     "output_type": "stream",
     "text": [
      "Processing:  52%|█████▏    | 54828/106084 [01:13<01:07, 759.91it/s]"
     ]
    },
    {
     "name": "stdout",
     "output_type": "stream",
     "text": [
      "Clínica dos Computadores RJ name:pt\n",
      "Avenida Expedicionário José Amaro addr:street\n",
      "Education Santa Cecília name:en\n",
      "Educandário Santa Cecília name:pt\n",
      "Bar do Cabeça name:pt\n",
      "Jacarepaguá addr:suburb\n",
      "Paquetá addr:suburb\n",
      "Paquetá addr:suburb\n",
      "Praça São Roque addr:street\n",
      "Paquetá addr:suburb\n",
      "Paquetá addr:suburb\n",
      "Rua São Luiz Gonzaga addr:street\n"
     ]
    },
    {
     "name": "stderr",
     "output_type": "stream",
     "text": [
      "Processing:  52%|█████▏    | 54982/106084 [01:13<01:07, 759.08it/s]"
     ]
    },
    {
     "name": "stdout",
     "output_type": "stream",
     "text": [
      "Café Senado name:pt\n",
      "São João de Meriti addr:city\n",
      "Jardim Metrópole addr:suburb\n",
      "Linha de ônibus que vem de São João de Meriti - Vila Rosali e vai para Duque de Caxias - Centro. description\n",
      "Linha de ônibus que vem de São João de Meriti e vai para o centro do Rio de Janeiro, mas onde fica a descida dele depende da descrição do ônibus. Pode ser na Rodoviária Novo Rio ou próximo à Central do Brasil. Tem P description\n",
      "Church Batista Belém name:en\n",
      "Paciência addr:suburb\n",
      "pizza_e_Porções cuisine\n",
      "Inhoaíba addr:suburb\n",
      "Niterói addr:city\n",
      "São Francisco addr:suburb\n"
     ]
    },
    {
     "name": "stderr",
     "output_type": "stream",
     "text": [
      "Processing:  52%|█████▏    | 55134/106084 [01:13<01:08, 747.71it/s]"
     ]
    },
    {
     "name": "stdout",
     "output_type": "stream",
     "text": [
      "Alameda São Boaventura addr:street\n",
      "Alameda São Boaventura addr:street\n",
      "Itaú Unibanco brand\n",
      "Itaú operator\n",
      "Alameda São Boaventura addr:street\n",
      "Alameda São Boaventura addr:street\n",
      "Alameda São Boaventura addr:street\n",
      "Alameda São Boaventura addr:street\n",
      "Alameda São Boaventura addr:street\n",
      "Rua José Clemente addr:street\n",
      "Itaú Unibanco brand\n",
      "Alameda São Boaventura addr:street\n",
      "Caixa Econômica Federal brand\n",
      "Lincon Bicalho Roque (temporário) name:pt\n",
      "Teatro Natália Timberg alt_name\n",
      "Niterói addr:city\n",
      "Rua Gavião Peixoto addr:street\n",
      "Icaraí addr:suburb\n",
      "Avenida das Américas addr:street\n",
      "里约机场 name:pt\n",
      "我们在里约的酒店 name:zh\n",
      "Itaú Unibanco brand\n",
      "Ifá denomination\n",
      "Ifá religion\n",
      "C.E. Joaquim Leitão name:pt\n",
      "民宿 name:zh\n",
      "停车场 name:zh\n",
      "Виндсор name:ru\n",
      "Pão de Açúcar operator\n",
      "Category:Fazenda Colubandê wikimedia_commons\n",
      "Ilha da Gigóia addr:suburb\n",
      "Caixa Econômica Federal brand\n",
      "pt:Caixa Econômica Federal brand:wikipedia\n",
      "Barbearia do Paraíba name:pt\n",
      "Rua Joaquim Eugênio dos Santos addr:street\n",
      "Rua Domício da Gama addr:street\n",
      "Rua Domício da Gama addr:street\n",
      "Rua Azamor José da Silva addr:street\n",
      "Rua Jerônimo Rodrigues addr:street\n",
      "Hotel Atlântico Prime name:en\n",
      "Hotel Atlântico Prime name:pt\n"
     ]
    },
    {
     "name": "stderr",
     "output_type": "stream",
     "text": [
      "Processing:  52%|█████▏    | 55286/106084 [01:14<01:07, 751.41it/s]"
     ]
    },
    {
     "name": "stdout",
     "output_type": "stream",
     "text": [
      "Niterói addr:city\n",
      "Prefeitura de Niterói operator\n",
      "Niterói addr:city\n",
      "Avenida das Américas addr:street\n",
      "Estação de Vila de Cava name:pt\n"
     ]
    },
    {
     "name": "stderr",
     "output_type": "stream",
     "text": [
      "Processing:  52%|█████▏    | 55439/106084 [01:14<01:07, 754.35it/s]"
     ]
    },
    {
     "name": "stdout",
     "output_type": "stream",
     "text": [
      "Estação de Tinguá name:pt\n",
      "Nova Iguaçu addr:city\n",
      "Construída por Bernardino José de Souza e Mello em 1875, fazem parte conjunto histórico - arqueológico: a casa grande, senzala e engenh description\n",
      "Fazenda São Pedro da Juréia name:pt\n",
      "Méier addr:suburb\n",
      "Rua das Bromélias addr:street\n",
      "Residência name:pt\n",
      "Rua Piauí addr:street\n",
      "Avenida das Américas addr:street\n",
      "なあ alt_name\n",
      "Rua Garcia d'Ávila addr:street\n"
     ]
    },
    {
     "name": "stderr",
     "output_type": "stream",
     "text": [
      "Processing:  52%|█████▏    | 55593/106084 [01:14<01:06, 759.85it/s]"
     ]
    },
    {
     "name": "stdout",
     "output_type": "stream",
     "text": [
      "Mutirão alt_name\n"
     ]
    },
    {
     "name": "stderr",
     "output_type": "stream",
     "text": [
      "Processing:  53%|█████▎    | 55823/106084 [01:14<01:06, 760.06it/s]"
     ]
    },
    {
     "name": "stdout",
     "output_type": "stream",
     "text": [
      "Avenida Gláucio Gil addr:street\n",
      "Avenida Geremário Dantas addr:street\n",
      "Niterói addr:city\n",
      "Pároco: Pe. José Osmar (Dedé) description\n",
      "Niterói addr:city\n",
      "niterói addr:city\n",
      "Rua Professor Brígido Tinoco addr:street\n",
      "Avenida das Américas addr:street\n",
      "Comunidade Apostólica Vitória name:pt\n",
      "Arabotânica name:pt\n",
      "Fundiçāo Brazileira name:pt\n",
      "Ipanema/General Osório;General Osório old_name\n",
      "MetrôRio operator\n",
      "Rua Visconde de Pirajá addr:street\n",
      "Avenida Lúcio Costa addr:street\n",
      "Museu Seleção Brasileira name:en\n",
      "Museu Seleção Brasileira name:pt\n",
      "Non Stop Câmbio e Turismo name:en\n",
      "Non Stop Câmbio e Turismo name:pt\n",
      "Rua Desembargador José Maria Ortigão Sampaio addr:street\n",
      "Paróquia Nossa Senhora da Vitória name:en\n",
      "Paróquia Nossa Senhora da Vitória name:pt\n",
      "Rua José Maria Ortigão Sampaio addr:street\n",
      "Rua José Maria Ortigão Sampaio addr:street\n",
      "Rua José Maria Ortigão Sampaio addr:street\n",
      "Avenida Lúcio Costa addr:street\n",
      "Avenida Lúcio Costa addr:street\n"
     ]
    },
    {
     "name": "stderr",
     "output_type": "stream",
     "text": [
      "Processing:  53%|█████▎    | 55976/106084 [01:15<01:07, 739.04it/s]"
     ]
    },
    {
     "name": "stdout",
     "output_type": "stream",
     "text": [
      "Avenida República do Chile addr:street\n",
      "Rua Jornalista Zélio Valverde addr:street\n",
      "Caixa Econômica Federal brand\n",
      "pt:Caixa Econômica Federal brand:wikipedia\n",
      "Rua João Rocha de Carvalho addr:street\n",
      "Rua Jornalista Zélio Valverde addr:street\n",
      "Avenida das Américas addr:street\n",
      "Avenida das Américas addr:street\n",
      "Avenida das Américas addr:street\n",
      "Avenida das Américas addr:street\n",
      "Rua Doutor Feliciano Sodré addr:street\n",
      "Estúdio Fotográfico Caramellow name:en\n",
      "Estúdio Fotográfico Ca name:pt\n",
      "Niterói addr:city\n",
      "Rua São Sebastião addr:street\n",
      "Ingá addr:suburb\n",
      "Rua Marquês de Olinda addr:street\n",
      "Também conhecida como jicá, a árvore foi plantada em 5 de julho de 1867, em frente ao solar do Comendador Ant description\n",
      "Obra Social Balthazar - Casa Da Esperança name:pt\n",
      "Estrada dos Três Rios addr:street\n",
      "Casa de festas Brincadeira é coisa séria name:pt\n",
      "Estrada dos Três Rios addr:street\n",
      "Condomínio independência name:pt\n",
      "Feitiço da vila name:pt\n",
      "Estrada dos Três Rios addr:street\n",
      "Itaú Unibanco brand\n",
      "Itaú name:pt\n",
      "Estrada dos Três Rios addr:street\n",
      "Estrada dos Três Rios addr:street\n",
      "Estrada dos Três Rios addr:street\n",
      "Estrada dos Três Rios addr:street\n",
      "Lotérica name:pt\n",
      "Estrada dos Três Rios addr:street\n",
      "Caixa Econômica Federal brand\n",
      "Caixa econômica name:pt\n"
     ]
    },
    {
     "name": "stderr",
     "output_type": "stream",
     "text": [
      "Processing:  53%|█████▎    | 56209/106084 [01:15<01:05, 757.58it/s]"
     ]
    },
    {
     "name": "stdout",
     "output_type": "stream",
     "text": [
      "Praça Quinze de Novembro addr:street\n",
      "Praça Quinze de Novembro addr:street\n",
      "Praça Quinze de Novembro addr:street\n",
      "Rua Humaitá addr:street\n",
      "Niterói addr:city\n",
      "Icaraí addr:suburb\n",
      "Caixa Econômica Federal brand\n",
      "Rua Andrés Belo addr:street\n",
      "São Gonçalo addr:city\n",
      "São Gonçalo addr:city\n",
      "São Gonçalo addr:city\n",
      "Prefeitura de São Gonçalo operator\n",
      "Parquinho com escorrega, gira-gira, balanços e gangorras, além de bancos para sentar description\n",
      "Статуя дирижёра Карлоса Гомеса description:ru\n",
      "Estrada da Gávea addr:street\n",
      "Via Ápia addr:street\n",
      "Rio-Águas - Prefeitura do Rio operator\n",
      "São Gonçalo addr:city\n",
      "São Gonçalo addr:city\n",
      "São Gonçalo addr:city\n",
      "São Gonçalo addr:city\n",
      "Rua Júlia Moreira da Cunha addr:street\n",
      "Português name:en\n",
      "Rua João Vicente addr:street\n",
      "Português name:en\n",
      "ETE - Escola Técnica Estadual Visconde de Mauá name:pt\n",
      "Avenida Crisóstomo Pimentel de Oliveira addr:street\n",
      "Casa do Pão de Queijo brand\n",
      "Avenida das Américas addr:street\n",
      "Avenida das Américas addr:street\n",
      "Limite de Municípios\n",
      "Petrópolis\n",
      "Areal inscription\n"
     ]
    },
    {
     "name": "stderr",
     "output_type": "stream",
     "text": [
      "Processing:  53%|█████▎    | 56362/106084 [01:15<01:05, 755.89it/s]"
     ]
    },
    {
     "name": "stdout",
     "output_type": "stream",
     "text": [
      "loja de caixa d'água description\n",
      "Itaú Unibanco brand\n",
      "pt:Itaú Unibanco brand:wikipedia\n",
      "Itaú operator\n",
      "Complexo do Alemão addr:suburb\n",
      " O Instituto Raízes em Movimento atua, desde 2001, com ações socioculturais no Co description\n",
      "Empresa Brasileira de Correios e Telégrafos brand\n",
      "Rua Raimundo Corrêa addr:street\n",
      "تمثال المسيح الفادي name:ar\n",
      "Statue du Christ Rédempteur name:fr\n",
      "A Megváltó Kri name:hu\n",
      "Rua Bolívar addr:street\n",
      "Rua Bolívar addr:street\n",
      "Jacarepaguá addr:suburb\n",
      "Caixa Econômica Federal brand\n",
      "Caixa Econômica Federal operator\n",
      "Caixa Econômica Federal brand\n",
      "pt:Caixa Econômica Federal brand:wikipedia\n"
     ]
    },
    {
     "name": "stderr",
     "output_type": "stream",
     "text": [
      "Processing:  53%|█████▎    | 56439/106084 [01:15<01:05, 758.43it/s]"
     ]
    },
    {
     "name": "stdout",
     "output_type": "stream",
     "text": [
      "Agência Marechal Câmara branch\n",
      "Category:Monumento à P wikimedia_commons\n",
      "Rua da Caixa d'água (NR) addr:street\n"
     ]
    },
    {
     "name": "stderr",
     "output_type": "stream",
     "text": [
      "Processing:  53%|█████▎    | 56670/106084 [01:15<01:05, 758.62it/s]"
     ]
    },
    {
     "name": "stdout",
     "output_type": "stream",
     "text": [
      "Praça Mauá addr:street\n",
      "Food truck nômade name:en\n",
      "Avenida das Américas addr:street\n",
      "Rua Visconde de Pirajá addr:street\n",
      "São João de Meriti addr:city\n",
      "Rua Severino Tomé dos Santos addr:street\n",
      "Rua São Clemente addr:street\n",
      "Captação DENASA name:pt\n",
      "Avenida Doutor Plínio Casado addr:street\n",
      "Escritório de Advocacia com mais de 35 anos no mercado. Especialistas em Direito description\n",
      "Paróquia São Francisco de Paula operator\n"
     ]
    },
    {
     "name": "stderr",
     "output_type": "stream",
     "text": [
      "Processing:  54%|█████▎    | 56900/106084 [01:16<01:04, 761.60it/s]"
     ]
    },
    {
     "name": "stdout",
     "output_type": "stream",
     "text": [
      "O Boticário brand\n",
      "en:O Boticário brand:wikipedia\n",
      "rã cuisine\n",
      "Tecnomedi Nova Iguaçu name:pt\n",
      "Rua Visconde de Pirajá addr:street\n",
      "Estrada dos Três Rios addr:street\n",
      "TECNOMEDI MÉIER name:pt\n",
      "Rua José de Alvarenga addr:street\n",
      "Rua Voluntários da Pátria addr:street\n",
      "Rua Mário Portela addr:street\n",
      "Rua São Francisco Xavier addr:street\n",
      "Maracanã addr:suburb\n",
      "Rua da Chácara addr:street\n",
      "MK84 Soluções em Artes Gráficas name:pt\n"
     ]
    },
    {
     "name": "stderr",
     "output_type": "stream",
     "text": [
      "Processing:  54%|█████▍    | 57054/106084 [01:16<01:04, 758.53it/s]"
     ]
    },
    {
     "name": "stdout",
     "output_type": "stream",
     "text": [
      "Auto Lotação Ingá operator\n",
      "Rua Luís Orlando Cardoso addr:street\n",
      "Rua João Vicente addr:street\n",
      "Rua Geminiano Góis addr:street\n",
      "Caixa Econômica Federal brand\n",
      "khjlklçj internet_access:ssid\n",
      "Rua Corrêa Dutra addr:street\n",
      "Rua Irapuá addr:street\n",
      "Rua dos Inválidos addr:street\n",
      "Rua dos Inválidos addr:street\n",
      "Rua dos Inválidos addr:street\n",
      "Rua dos Inválidos addr:street\n",
      "Rua dos Inválidos addr:street\n"
     ]
    },
    {
     "name": "stderr",
     "output_type": "stream",
     "text": [
      "Processing:  54%|█████▍    | 57284/106084 [01:16<01:04, 761.80it/s]"
     ]
    },
    {
     "name": "stdout",
     "output_type": "stream",
     "text": [
      "Rua São Lourenço addr:street\n",
      "Praça da Cruz Vermelha addr:street\n",
      "Beco das Letras - Comércio de Livros e Café description\n",
      "325 (Térreo) addr:housenumber\n",
      "Academia reinaugurada neste novo endereço. description\n",
      "Rua dos Inválidos addr:street\n",
      "Rua dos Inválidos addr:street\n",
      "Niterói addr:city\n",
      "Rua Horácio Wells addr:street\n",
      "Terra de Delícias name:pt\n",
      "Estácio addr:suburb\n",
      "São Cristóvão addr:suburb\n",
      "Avenida Mem de Sá addr:street\n",
      "Estátua Xochipilli alt_name\n",
      "Rua General Venâncio Flores addr:street\n",
      "Travessa do Paço addr:street\n",
      "Rua México addr:street\n",
      "257 - Térreo addr:housenumber\n",
      "Avenida Nossa Senhora de Fátima addr:street\n",
      "Glória addr:suburb\n",
      "Rua da Glória addr:street\n",
      "Glória addr:suburb\n"
     ]
    },
    {
     "name": "stderr",
     "output_type": "stream",
     "text": [
      "Processing:  54%|█████▍    | 57438/106084 [01:16<01:04, 759.30it/s]"
     ]
    },
    {
     "name": "stdout",
     "output_type": "stream",
     "text": [
      "Praça da Cruz Vermelha addr:street\n",
      "Caixa Econômica Federal brand\n",
      "Rua da Constituição addr:street\n",
      "Avenida Mem de Sá addr:street\n",
      "Avenida Mem de Sá addr:street\n",
      "Avenida Mem de Sá addr:street\n",
      "Avenida Mem de Sá addr:street\n",
      "Avenida Mem de Sá addr:street\n",
      "Avenida Mem de Sá addr:street\n",
      "Avenida Mem de Sá addr:street\n",
      "Praça da República addr:street\n",
      "Inaugurado em 29 de Dezembro de 1956. Presidente da República Dr. Juscelino Kubitschek de Oliveira. Prefeito do Distrito Federal Dr. Francisco Negrão de Lima. inscription\n",
      "Avenida Mem de Sá addr:street\n",
      "Horário para proibição de tráfego de veículos e consequente funcionamento da área de lazer: 07:00 - 18:00 Domingos. Feriados (alguns). description\n",
      "Horário para proibição de tráfego de veículos e consequente funcionamento da área de lazer: 07:00 - 18:00 Domingos. Feriados (alguns). description\n",
      "Horário para proibição de tráfego de veículos e consequente funcionamento da área de lazer: 07:00 - 18:00 Domingos. Feriados (alguns). description\n",
      "Horário para proibição de tráfego de veículos e consequente funcionamento da área de lazer: 07:00 - 18:00 Domingos. Feriados (alguns). description\n",
      "Horário para proibição de tráfego de veículos e consequente funcionamento da área de lazer: 07:00 - 18:00 Domingos. Feriados (alguns). description\n",
      "Avenida Mem de Sá addr:street\n",
      "Avenida Mem de Sá addr:street\n",
      "Rua André Cavalcanti addr:street\n",
      "Rua da Relação addr:street\n",
      "Rua dos Inválidos addr:street\n",
      "Rua da Relação addr:street\n",
      "Rua dos Inválidos addr:street\n",
      "Rua dos Inválidos addr:street\n",
      "Rua dos Inválidos addr:street\n",
      "Rua Luis de Camões addr:street\n"
     ]
    },
    {
     "name": "stderr",
     "output_type": "stream",
     "text": [
      "Processing:  54%|█████▍    | 57590/106084 [01:17<01:04, 757.23it/s]"
     ]
    },
    {
     "name": "stdout",
     "output_type": "stream",
     "text": [
      "Rua da Constituição addr:street\n",
      "Rua da Constituição addr:street\n",
      "Rua da Constituição addr:street\n",
      "Rua da Constituição addr:street\n",
      "cortiça, rolhas, placas, carrinhos, bagagem e carga, rodízios, arruelas, contra pinos, ma description\n",
      "Itaú Unibanco brand\n",
      "Rua da Constituição addr:street\n",
      "Brito Costa - Materiais de Construção operator\n",
      "Rua da Constituição addr:street\n",
      "Rua da Constituição addr:street\n"
     ]
    },
    {
     "name": "stderr",
     "output_type": "stream",
     "text": [
      "Processing:  55%|█████▍    | 57900/106084 [01:17<01:03, 761.00it/s]"
     ]
    },
    {
     "name": "stdout",
     "output_type": "stream",
     "text": [
      "Avenida das Américas addr:street\n",
      "Due Café name:en\n",
      "Due Café name:pt\n",
      "Praça da República addr:street\n",
      "Rua André Cavalcanti addr:street\n",
      "Rua André Cavalcanti addr:street\n",
      "Rua André Cavalcanti addr:street\n",
      "Praça da República addr:street\n",
      "Praça da República addr:street\n",
      "Av Nossa Senhora de Fátima addr:street\n",
      "departamento rió amor name:en\n"
     ]
    },
    {
     "name": "stderr",
     "output_type": "stream",
     "text": [
      "Processing:  55%|█████▍    | 58286/106084 [01:18<01:03, 750.23it/s]"
     ]
    },
    {
     "name": "stdout",
     "output_type": "stream",
     "text": [
      "Rua Maranhão addr:street\n",
      "Loja de peças de alumínio, como portas, janelas e box de banheiro. description\n",
      "Loja de venda e manutenção de pranchas de surf. description\n",
      "Loja de venda e manutenção de pranchas de surf. description\n",
      "São João de Meriti addr:city\n",
      "Auto Ônibus Brasília operator\n",
      "Avenida Olegário Maciel addr:street\n",
      "Rua Três addr:street\n",
      "Município operator\n",
      "Três Montes alt_name\n",
      "Avenida Mem de Sá addr:street\n",
      "Rua da Alfândega addr:street\n",
      "Curso de música: diversos instrumentos. description\n",
      "Rua Alcântara Machado addr:street\n",
      "Rua Alcântara Machado addr:street\n",
      "Papelaria. Material para Escritório e Informática. description\n",
      "Caixa Econômica Federal brand\n",
      "pt:Caixa Econômica Federal brand:wikipedia\n",
      "Rua Bolívar addr:street\n",
      "André Luiz Rodrigues operator\n",
      "Viação Pendotiba operator\n"
     ]
    },
    {
     "name": "stderr",
     "output_type": "stream",
     "text": [
      "Processing:  55%|█████▌    | 58438/106084 [01:18<01:03, 753.28it/s]"
     ]
    },
    {
     "name": "stdout",
     "output_type": "stream",
     "text": [
      "Rua Regente Feijó addr:street\n",
      "Rua Regente Feijó addr:street\n",
      "Rua Regente Feijó addr:street\n",
      "Niterói addr:city\n",
      "Niterói addr:city\n",
      "Rua Galvão addr:street\n",
      "Niterói addr:city\n",
      "Rua Galvão addr:street\n",
      "Niterói addr:city\n",
      "Niterói addr:city\n",
      "Rua Jardim Botânico addr:street\n",
      "Jardim Botânico addr:suburb\n",
      "Gruta artificial instalada na forma de aquário  description\n",
      "Extenção do Bosque addr:suburb\n",
      "Retenção para travessia de pedestres description\n",
      "Niterói addr:city\n",
      "Avenida Mem de Sá addr:street\n",
      "Rua da Relação addr:street\n",
      "automóvel club addr:street\n",
      "Avenida Automóvel Clube addr:street\n",
      "Barão da taquara municipal school name:en\n",
      "Avenida Automóvel Clube addr:street\n",
      "Avenida Automóvel Clube addr:street\n",
      "Municipal school teacher Maria de Araújo name:en\n",
      "Avenida Automóvel Clube addr:street\n",
      "Chácaras Rio-Petrópolis addr:suburb\n",
      "Colégio Campos Ribeiro\n",
      "Escola de Educação Infantil e Ensino description\n",
      "Rua São Cristóvão addr:street\n",
      "Rua São Cristóvão addr:street\n",
      "Leão Veloso artist_name\n",
      "Rua São Cristóvão addr:street\n",
      "Rua São Cristóvão addr:street\n",
      "Caixa Econômica Federal brand\n",
      "pt:Caixa Econômica Federal brand:wikipedia\n",
      "Rua São Cristóvão addr:street\n",
      "Itaú Unibanco brand\n",
      "Rua São Cristóvão addr:street\n",
      "Itaú Unibanco brand\n",
      "Rua São Cristóvão addr:street\n",
      "Rua José Manna Júnior addr:street\n"
     ]
    },
    {
     "name": "stderr",
     "output_type": "stream",
     "text": [
      "Processing:  55%|█████▌    | 58590/106084 [01:18<01:03, 749.66it/s]"
     ]
    },
    {
     "name": "stdout",
     "output_type": "stream",
     "text": [
      "Rua do Rosário addr:street\n",
      "Gruta de caçadores description\n",
      "Avenida Lúcio Costa addr:street\n",
      "Saúde addr:suburb\n",
      "Saúde addr:suburb\n",
      "Rua Abrahão Jabour addr:street\n",
      "Rua Abrahão Jabour addr:street\n",
      "Antigo MV1 do Méier description\n",
      "monumento maçônico description\n"
     ]
    },
    {
     "name": "stderr",
     "output_type": "stream",
     "text": [
      "Processing:  55%|█████▌    | 58818/106084 [01:18<01:03, 741.51it/s]"
     ]
    },
    {
     "name": "stdout",
     "output_type": "stream",
     "text": [
      "Avenida das Américas addr:street\n",
      "Cidade Universitária addr:suburb\n",
      "Rua Almirante Saddock de Sá addr:street\n",
      "Comarte дёшево и сердито name:ru\n",
      "Estrada do Sacarrão addr:street\n"
     ]
    },
    {
     "name": "stderr",
     "output_type": "stream",
     "text": [
      "Processing:  56%|█████▌    | 59198/106084 [01:19<01:02, 750.64it/s]"
     ]
    },
    {
     "name": "stdout",
     "output_type": "stream",
     "text": [
      "Avenida Ruy Frazão Soares addr:street\n",
      "Energia_Elétrica tower:type\n",
      "Rua Barão de Itambi addr:street\n",
      "Rua Santo Apolinário addr:street\n",
      "Rua da Glória addr:street\n",
      "Glória addr:suburb\n",
      "Rua Visconde de Pirajá addr:street\n",
      "Rua Almirante Gonçalves addr:street\n"
     ]
    },
    {
     "name": "stderr",
     "output_type": "stream",
     "text": [
      "Processing:  56%|█████▌    | 59350/106084 [01:19<01:02, 751.04it/s]"
     ]
    },
    {
     "name": "stdout",
     "output_type": "stream",
     "text": [
      "Ɨpota ɨtu name:oym\n",
      "Mõngɨ ɨtu name:oym\n",
      "Manõa name:oym\n",
      "Ɨtupuku name:oym\n",
      "Mutusi ɨtu name:oym\n",
      "Saut Oulabaleïa name:fr\n",
      "Wɨlapaleya Ɨtu name:oym\n",
      "Wɨlapaleya Ɨtu name:oym\n",
      "Seropédica addr:city\n",
      "Boa Esperança addr:suburb\n",
      "Seropédica addr:city\n",
      "Boa Esperança addr:suburb\n",
      "Seropédica addr:city\n",
      "Boa Esperança addr:suburb\n",
      "Praça Marechal Floriano Peixoto addr:street\n",
      "Fonte erguida por ordem da Câmara da Vila de São João de Itaboraí, entre 1845 e 1858 description\n",
      "Itaboraí addr:city\n",
      "Praça Marechal Floriano Peixoto addr:street\n",
      "Joaquim Manuel de Macedo foi um médico, jornalista, político, professor, romanc description\n",
      "Itaboraí addr:city\n",
      "Itaboraí addr:city\n",
      "Itaboraí addr:city\n",
      "Brinquedão do Outeiro description\n",
      "Itaboraí addr:city\n",
      "Rodovia Governador Mário Covas - Pista lateral addr:street\n"
     ]
    },
    {
     "name": "stderr",
     "output_type": "stream",
     "text": [
      "Processing:  56%|█████▌    | 59579/106084 [01:19<01:01, 754.04it/s]"
     ]
    },
    {
     "name": "stdout",
     "output_type": "stream",
     "text": [
      "Nova Iguaçu addr:city\n",
      "Rua Flávia addr:street\n",
      "Nova Iguaçu addr:city\n",
      "Rua Flávia addr:street\n",
      "Nova Iguaçu addr:city\n",
      "Nova Iguaçu addr:city\n",
      "Paróquia Nossa Senhora de F� description\n",
      "Nova Iguaçu addr:city\n",
      "Rua Flôr addr:street\n",
      "Nova Iguaçu addr:city\n",
      "Cidade Universitária addr:suburb\n",
      "Itaú Unibanco brand\n",
      "Itaú Unibanco brand\n",
      "Rua Marechal Joaquim Inácio addr:street\n",
      "Estátua. description\n",
      "Estátua. description\n",
      "É uma grande escultura do rosto da deusa grega Minerva. description\n",
      "É uma grande escultura do rosto da deusa grega Minerva. description\n",
      "Rua Estância addr:street\n",
      "Associação de moradores. description\n",
      "Biblioteca principal do CCMN - Centro de Matemática e da Natureza. description\n",
      "Árvore marcada por placa do projeto ciência no cotidiano description\n",
      "Associação dos Motoristas Autônomos de Táxi Bom Pastor operator\n",
      "Assembléia de Deus - Campo Grande - Sede name:pt\n",
      "Rua Primeiro de Março addr:street\n",
      "Estátua. description\n",
      "São Gonçalo addr:city\n",
      "São Gonçalo addr:city\n"
     ]
    },
    {
     "name": "stderr",
     "output_type": "stream",
     "text": [
      "Processing:  56%|█████▋    | 59732/106084 [01:20<01:01, 758.01it/s]"
     ]
    },
    {
     "name": "stdout",
     "output_type": "stream",
     "text": [
      "Rua Expedicionário Antônio Alves Belmont addr:street\n",
      "Jacarepaguá addr:suburb\n",
      "Rua Damião de Góis addr:street\n",
      "São João de Meriti addr:city\n",
      "Rua Jardim Botânico addr:street\n",
      "Grajaú addr:suburb\n",
      "Rua Soldado José de Sousa addr:street\n",
      "Palco público description\n",
      "Público operator\n",
      "Estátua. description\n",
      "Rua Aprazível addr:street\n",
      "Rua Guaiacá addr:street\n",
      "Edificio João de Deus Lima Barreto addr:housename\n",
      "Rua José Maurício Ferraz addr:street\n",
      "Rod. Pref. João Sampaio - Maria Paula, São Gonçalo - RJ, 24754-090 addr:street\n"
     ]
    },
    {
     "name": "stderr",
     "output_type": "stream",
     "text": [
      "Processing:  56%|█████▋    | 59886/106084 [01:20<01:00, 762.82it/s]"
     ]
    },
    {
     "name": "stdout",
     "output_type": "stream",
     "text": [
      "Rua Paraíso addr:street\n",
      "Tanguá addr:city\n",
      "Ampliação addr:suburb\n",
      "Cultos às sextas de 15 em 15 service_times\n",
      "Tanguá addr:city\n",
      "Avenida Prefeito João Batista Caffaro addr:street\n",
      "MetrôRio operator\n"
     ]
    },
    {
     "name": "stderr",
     "output_type": "stream",
     "text": [
      "Processing:  57%|█████▋    | 60117/106084 [01:20<01:01, 751.07it/s]"
     ]
    },
    {
     "name": "stdout",
     "output_type": "stream",
     "text": [
      "Rua São Marcelo addr:street\n",
      "Itaú Unibanco brand\n",
      "São Gonçalo addr:city\n",
      "Niterói addr:city\n",
      "Rua União addr:street\n",
      "Caixa Econômica Federal brand\n"
     ]
    },
    {
     "name": "stderr",
     "output_type": "stream",
     "text": [
      "Processing:  57%|█████▋    | 60347/106084 [01:20<01:00, 758.78it/s]"
     ]
    },
    {
     "name": "stdout",
     "output_type": "stream",
     "text": [
      "Magé addr:city\n",
      "Praça da República addr:street\n",
      "Honório Peçanha artist_name\n",
      "Pedra Açu alt_name\n",
      "Morro Açu name:pt\n",
      "São Gonçalo addr:city\n",
      "Seropédica addr:city\n",
      "Boa Esperança addr:suburb\n"
     ]
    },
    {
     "name": "stderr",
     "output_type": "stream",
     "text": [
      "Processing:  57%|█████▋    | 60809/106084 [01:21<00:59, 763.75it/s]"
     ]
    },
    {
     "name": "stdout",
     "output_type": "stream",
     "text": [
      "Avenida Dom Sebastião I addr:street\n",
      "Serviço para Festa Infantil description\n",
      "Rua Camaipí addr:street\n",
      "São João de Meriti addr:city\n",
      "Academia pública para idosos.  description\n",
      "Méier addr:suburb\n",
      "Prefeitura Municipal de Seropédica operator\n",
      "Rua Damião de Góis addr:street\n",
      "Avenida Dom Sebastião I addr:street\n",
      "Rua Itápolis addr:street\n",
      "Gangorra para crianças description\n",
      "Cesarão addr:suburb\n",
      "Igreja comunitária evangélica. description\n",
      "Nascido em Cantagalo, estudou na Escola Politécnica e na Escola Militar da Praia Vermelha, tornando-se brevemente um militar. Ingressou no jornal A Província de S. Paulo — hoje O Estado de S. Paulo — enquanto inscription\n",
      "Jardim Oceânico old_name\n",
      "MetrôRio operator\n",
      "Metrô Rio operator\n",
      "São Gonçalo addr:city\n",
      "Evangélica denomination\n",
      "São Gonçalo addr:city\n",
      "Rua Doutor Getúlio Vargas addr:street\n",
      "São Roque addr:suburb\n",
      "Quadra poliesportiva São Roque description\n",
      "Ministério_Missões_com_Fé denomination\n"
     ]
    },
    {
     "name": "stderr",
     "output_type": "stream",
     "text": [
      "Processing:  57%|█████▋    | 60963/106084 [01:21<00:59, 762.78it/s]"
     ]
    },
    {
     "name": "stdout",
     "output_type": "stream",
     "text": [
      "Orelhão Antigo description\n",
      "Glória addr:suburb\n",
      "Rua Prefeito José Montes Paixão addr:street\n",
      "Rua Prefeito José Montes Paixão addr:street\n",
      "Rua Prefeito José Montes Paixão addr:street\n",
      "Rua Prefeito José Montes Paixão addr:street\n",
      "Rua Prefeito José Montes Paixão addr:street\n",
      "Setrans Segurança e Trânsito operator\n",
      "Itaú Unibanco brand\n",
      "Árvore centenária description\n"
     ]
    },
    {
     "name": "stderr",
     "output_type": "stream",
     "text": [
      "Processing:  58%|█████▊    | 61194/106084 [01:21<00:58, 761.13it/s]"
     ]
    },
    {
     "name": "stdout",
     "output_type": "stream",
     "text": [
      "Rua Visconde de Pirajá addr:street\n",
      "Rua Visconde de Pirajá addr:street\n",
      "Rua Visconde de Pirajá addr:street\n",
      "Rua Visconde de Pirajá addr:street\n",
      "Rua Marquês de Olinda addr:street\n",
      "Rua São Clemente addr:street\n",
      "Avenida das Américas addr:street\n",
      "Avenida Marechal Câmara addr:street\n",
      "Rua Marquês de Paraná addr:street\n",
      "Rua Marquês de Paraná addr:street\n",
      "Rua Marquês de Paraná addr:street\n",
      "Rua Marquês de Paraná addr:street\n",
      "Rua Marquês de Paraná addr:street\n",
      "Rua Marquês de Paraná addr:street\n",
      "Rua Marquês de Paraná addr:street\n",
      "Rua Marquês de Paraná addr:street\n",
      "Rua Visconde de Pirajá addr:street\n",
      "Rua Visconde de Pirajá addr:street\n",
      "Rua Visconde de Pirajá addr:street\n",
      "Rua Visconde de Pirajá addr:street\n",
      "Nova Iguaçu addr:city\n",
      "Rua José Moacir Nogueira addr:street\n",
      "São João de Meriti addr:city\n",
      "São João de Meriti addr:city\n",
      "Rua Aníbal de Mendonça addr:street\n",
      "Rua Garcia d'Ávila addr:street\n",
      "Rua Garcia d'Ávila addr:street\n",
      "Rua Maria Quitéria addr:street\n",
      "Rua Visconde de Pirajá addr:street\n",
      "Rua Visconde de Pirajá addr:street\n",
      "Caixa Econômica Federal brand\n",
      "Rua Visconde de Pirajá addr:street\n",
      "Avenida Rainha Elizabeth da Bélgica addr:street\n",
      "Rua Joana Angélica addr:street\n",
      "Rua Vinícius de Moraes addr:street\n",
      "Itaboraí addr:city\n",
      "Rua Visconde de Pirajá addr:street\n",
      "Rua Aníbal de Mendonça addr:street\n",
      "Rua Visconde de Pirajá addr:street\n",
      "Rua Visconde de Pirajá addr:street\n",
      "Rua Visconde de Pirajá addr:street\n",
      "Rua Visconde de Pirajá addr:street\n",
      "Avenida Rainha Elizabeth da Bélgica addr:street\n"
     ]
    },
    {
     "name": "stderr",
     "output_type": "stream",
     "text": [
      "Processing:  58%|█████▊    | 61271/106084 [01:22<00:59, 752.00it/s]"
     ]
    },
    {
     "name": "stdout",
     "output_type": "stream",
     "text": [
      "Tũ'ĩape ɨtu name:eme\n",
      "Teresópolis addr:city\n",
      "Rua Barão de Cotegipe addr:street\n",
      "Caixa Econômica Federal brand\n",
      "pt:Caixa Econômica Federal brand:wikipedia\n",
      "Itaú Unibanco brand\n",
      "pt:Itaú Unibanco brand:wikipedia\n",
      "Avenida Doutor Eugênio Borges addr:street\n",
      "Monumento Nossa Senhora da Conceição, a padroeira da Cidade inscription\n",
      "Rua Vereador Marinho Hemetério Oliveira addr:street\n",
      "Pintura_em_parede_da_Turma_da_Mônica artwork_type\n"
     ]
    },
    {
     "name": "stderr",
     "output_type": "stream",
     "text": [
      "Processing:  58%|█████▊    | 61424/106084 [01:22<00:59, 755.63it/s]"
     ]
    },
    {
     "name": "stdout",
     "output_type": "stream",
     "text": [
      "Avenida Irmãos Guinle addr:street\n",
      "Avenida Tinguá addr:street\n",
      "Paciência addr:suburb\n",
      "Niterói addr:city\n",
      "Icaraí addr:suburb\n"
     ]
    },
    {
     "name": "stderr",
     "output_type": "stream",
     "text": [
      "Processing:  58%|█████▊    | 61578/106084 [01:22<00:58, 758.51it/s]"
     ]
    },
    {
     "name": "stdout",
     "output_type": "stream",
     "text": [
      "O Boticário brand\n",
      "en:O Boticário brand:wikipedia\n",
      "Vila Pacaembú addr:suburb\n",
      "Vila Pacaembú addr:suburb\n"
     ]
    },
    {
     "name": "stderr",
     "output_type": "stream",
     "text": [
      "Processing:  58%|█████▊    | 61887/106084 [01:22<00:57, 764.73it/s]"
     ]
    },
    {
     "name": "stdout",
     "output_type": "stream",
     "text": [
      "Rua Mustafá Kalaoun addr:street\n",
      "Rua Laerte Acácio da Silva addr:street\n",
      "Rua São José addr:street\n",
      "Rua Laerte Acácio da Silva addr:street\n",
      "Rua Laerte Acácio da Silva addr:street\n",
      "Rua Laerte Acácio da Silva addr:street\n",
      "av. Maracanã addr:street\n",
      "Vila Pacaembú addr:suburb\n"
     ]
    },
    {
     "name": "stderr",
     "output_type": "stream",
     "text": [
      "Processing:  59%|█████▊    | 62277/106084 [01:23<00:56, 771.19it/s]"
     ]
    },
    {
     "name": "stdout",
     "output_type": "stream",
     "text": [
      "Praça Sofia Moreira addr:street\n",
      "Praça Sofia Moreira addr:street\n"
     ]
    },
    {
     "name": "stderr",
     "output_type": "stream",
     "text": [
      "Processing:  59%|█████▉    | 62822/106084 [01:24<00:56, 764.98it/s]"
     ]
    },
    {
     "name": "stdout",
     "output_type": "stream",
     "text": [
      "Relógio do Calçadão inscription\n",
      "MetrôRio operator\n",
      "Itaboraí addr:city\n",
      "Avenida Amélia Saraiva addr:street\n",
      "Domingos 9:00h e 19:30h e quintas à service_times\n",
      "Niterói addr:city\n",
      "Rua Santo Antônio addr:street\n"
     ]
    },
    {
     "name": "stderr",
     "output_type": "stream",
     "text": [
      "Processing:  60%|██████    | 63834/106084 [01:25<00:55, 766.43it/s]"
     ]
    },
    {
     "name": "stdout",
     "output_type": "stream",
     "text": [
      "MetrôRio operator\n",
      "\\Todos que fizeram e fazem parte do Movimento Escoteiro na Cidade Nossa justa homenagem e eterna gratidão! scotismo, filosofia da vida, iniciada no município com a fundação do GRUPO DE ESCOTEIROS DE NICTHEROY e inscription\n",
      "Banheiro público com acessibilidade description\n",
      "Ipanema/General Osório;General Osório old_name\n",
      "Itaboraí addr:city\n",
      "A FACNEC foi criada em 1998, mantém suas atividades nas dependências do Colégio Cenecista description\n",
      "Torre_de_Tijolos_Cerâmica tower:type\n",
      "Passarela construída pelo Arquiteto Oscar Niemeyer em 28 de Junho de 2010 description\n",
      "São Conrado addr:suburb\n",
      "Grajaú addr:suburb\n",
      "Píer Carioca name:en\n",
      "Só_para_Coroas sport\n"
     ]
    },
    {
     "name": "stderr",
     "output_type": "stream",
     "text": [
      "Processing:  60%|██████    | 63989/106084 [01:25<00:55, 761.82it/s]"
     ]
    },
    {
     "name": "stdout",
     "output_type": "stream",
     "text": [
      "Jamelão denotation\n",
      "Jamelão denotation\n",
      "Grajaú addr:suburb\n",
      "Alameda dos Ingás addr:street\n",
      "Ilha da Gigóia addr:suburb\n",
      "Rua Marquês de Pombal addr:street\n",
      "Niterói addr:city\n",
      "Niterói addr:city\n",
      "Niterói addr:city\n",
      "Niterói addr:city\n",
      "Rua Padre Manoel de Nóbrega addr:street\n",
      "Teresópolis addr:city\n",
      "Rua Padre Tintório addr:street\n",
      "Decreto que Amplia a Estação Ecológica do Taim - área 2 description\n",
      "Decreto que Amplia a Estação Ecológica do Taim - área 2 description\n"
     ]
    },
    {
     "name": "stderr",
     "output_type": "stream",
     "text": [
      "Processing:  60%|██████    | 64066/106084 [01:25<00:55, 761.32it/s]"
     ]
    },
    {
     "name": "stdout",
     "output_type": "stream",
     "text": [
      "Seropédica addr:city\n",
      "Boa Esperança addr:suburb\n"
     ]
    },
    {
     "name": "stderr",
     "output_type": "stream",
     "text": [
      "Processing:  61%|██████    | 64840/106084 [01:26<00:54, 761.94it/s]"
     ]
    },
    {
     "name": "stdout",
     "output_type": "stream",
     "text": [
      "Jacarepaguá addr:suburb\n",
      "Rua São Marcelo addr:street\n",
      "Jacarepaguá addr:suburb\n",
      "O próprio operator\n"
     ]
    },
    {
     "name": "stderr",
     "output_type": "stream",
     "text": [
      "Processing:  61%|██████▏   | 65075/106084 [01:27<00:53, 770.59it/s]"
     ]
    },
    {
     "name": "stdout",
     "output_type": "stream",
     "text": [
      "Nova Iguaçu addr:city\n"
     ]
    },
    {
     "name": "stderr",
     "output_type": "stream",
     "text": [
      "Processing:  62%|██████▏   | 66086/106084 [01:28<00:52, 766.47it/s]"
     ]
    },
    {
     "name": "stdout",
     "output_type": "stream",
     "text": [
      "Rua da Justiça addr:street\n"
     ]
    },
    {
     "name": "stderr",
     "output_type": "stream",
     "text": [
      "Processing:  63%|██████▎   | 66780/106084 [01:29<00:51, 760.18it/s]"
     ]
    },
    {
     "name": "stdout",
     "output_type": "stream",
     "text": [
      "Polícia Rodoviária Federal operator\n",
      "pt:Polícia Rodoviária Federal operator:wikipedia\n"
     ]
    },
    {
     "name": "stderr",
     "output_type": "stream",
     "text": [
      "Processing:  63%|██████▎   | 67011/106084 [01:29<00:53, 733.77it/s]"
     ]
    },
    {
     "name": "stdout",
     "output_type": "stream",
     "text": [
      "pt:Estação Vila Inhomirim wikipedia\n",
      "pt:Estação Suruí wikipedia\n",
      "pt:Estação Magé wikipedia\n",
      "pt:Estação Jardim Nova Marília wikipedia\n",
      "pt:Estação Jororó wikipedia\n",
      "pt:Estação Citrolândia wikipedia\n",
      "pt:Estação Parada Ideal wikipedia\n",
      "pt:Estação Jardim Guapimirim wikipedia\n",
      "pt:Estação Parada Modelo wikipedia\n",
      "pt:Estação Parada Bananal wikipedia\n",
      "pt:Estação Belford Roxo wikipedia\n",
      "Avenida Mem de Sá addr:street\n",
      "Terrana Gás Station name:en\n",
      "Avenida Nilo Peçanha addr:street\n",
      "1216 2º piso addr:housenumber\n",
      "Rua Professor José de Souza Herdy addr:street\n"
     ]
    },
    {
     "name": "stderr",
     "output_type": "stream",
     "text": [
      "Processing:  63%|██████▎   | 67166/106084 [01:29<00:51, 750.20it/s]"
     ]
    },
    {
     "name": "stdout",
     "output_type": "stream",
     "text": [
      "Nova Iguaçu addr:city\n",
      "Nova Iguaçu addr:city\n",
      "Avenida Multirão addr:street\n",
      "quinta de 19h00 às 21h00 e domingos de 10h00 às 22h00 service_times\n",
      "Nova Iguaçu addr:city\n",
      "Avenida Multirão addr:street\n",
      "Nova Iguaçu addr:city\n",
      "Avenida Multirão addr:street\n",
      "Lugar para pessoas que gostam de alegria e diversão description\n",
      "Nova Iguaçu addr:city\n",
      "Avenida Multirão addr:street\n",
      "Nova Iguaçu addr:city\n",
      "Avenida Multirão addr:street\n",
      "Nova Iguaçu addr:city\n",
      "Nova Iguaçu addr:city\n",
      "Nova Iguaçu addr:city\n"
     ]
    },
    {
     "name": "stderr",
     "output_type": "stream",
     "text": [
      "Processing:  64%|██████▎   | 67464/106084 [01:30<00:53, 718.17it/s]"
     ]
    },
    {
     "name": "stdout",
     "output_type": "stream",
     "text": [
      "Avenida Mem de Sá addr:street\n",
      "Auto peças, mecânica em geral, injeção eletrônica. description\n",
      "Arranque, alternador, eletricista, limpeza de bicos, injeção eletrônica, ar condiciona description\n",
      "Corrimão, puxadores. escadas, sacadas, móveis, peças especiais, aço inox, latão, description\n",
      "banho de prata, ouro, cobre, douração, níquel, soldas, etc. description\n",
      "Avenida Irmãos Guinle addr:street\n"
     ]
    },
    {
     "name": "stderr",
     "output_type": "stream",
     "text": [
      "Processing:  64%|██████▍   | 67758/106084 [01:30<00:56, 680.26it/s]"
     ]
    },
    {
     "name": "stdout",
     "output_type": "stream",
     "text": [
      "Avenida Lúcio Costa addr:street\n",
      "Rua Professor Álvaro Rodrigues addr:street\n"
     ]
    },
    {
     "name": "stderr",
     "output_type": "stream",
     "text": [
      "Processing:  64%|██████▍   | 67901/106084 [01:30<00:55, 693.20it/s]"
     ]
    },
    {
     "name": "stdout",
     "output_type": "stream",
     "text": [
      "Situada à meia-altura do poste. description\n",
      "Paciência addr:suburb\n",
      "Ao Almirante Barroso\n",
      "A cidade de Petrópolis inscription\n",
      "O povo de Petrópolis \n",
      "Commemorando o 1º centenário da Independência do Brasil\n",
      "1822 - 1922 inscription\n",
      "Serra dos Órgãos National Park operator\n",
      "Rua Abrahão Jabour addr:street\n"
     ]
    },
    {
     "name": "stderr",
     "output_type": "stream",
     "text": [
      "Processing:  64%|██████▍   | 68053/106084 [01:31<00:52, 726.58it/s]"
     ]
    },
    {
     "name": "stdout",
     "output_type": "stream",
     "text": [
      "Estrada da Boiúna addr:street\n",
      "São Cristóvão addr:suburb\n",
      "Jacarepaguá addr:suburb\n",
      "Caixa Econômica Federal brand\n",
      "São Gonçalo addr:city\n",
      "Rua Doutor Getúlio Vargas addr:street\n",
      "São Gonçalo addr:city\n",
      "Escritório de projeto e admninistração; Oficina de carpintaria, serralheria e iluminação teatr description\n",
      "Rua Barão de Mesquita addr:street\n",
      "Rua Barão de Mesquita addr:street\n",
      "Rua São Francisco Xavier addr:street\n",
      "Itaú Unibanco brand\n",
      "Exército Brasileiro operator\n",
      "Rua Aprazível addr:street\n",
      "Rua Voluntários da Pátria addr:street\n",
      "Nova Iguaçu addr:city\n",
      "Condomínio description\n",
      "São Gonçalo addr:city\n",
      "São Gonçalo addr:city\n",
      "Rua Fernandes Guimarães addr:street\n",
      "São Gonçalo addr:city\n",
      "São Gonçalo addr:city\n",
      "Avenida das Américas addr:street\n"
     ]
    },
    {
     "name": "stderr",
     "output_type": "stream",
     "text": [
      "Processing:  64%|██████▍   | 68278/106084 [01:31<00:51, 737.89it/s]"
     ]
    },
    {
     "name": "stdout",
     "output_type": "stream",
     "text": [
      "Avenida Olegário Maciel addr:street\n",
      "Quintino Bocaiúva addr:suburb\n",
      "Avenida das Américas addr:street\n",
      "Rua Vinícius de Moraes addr:street\n",
      "Rua Vinícius de Moraes addr:street\n",
      "Rua Visconde de Pirajá addr:street\n",
      "Pão de Açúcar brand\n",
      "pt:Pão de Açúcar (supermercado brasileiro) brand:wikipedia\n",
      "Pão de Açúcar brand\n",
      "pt:Pão de Açúcar (supermercado brasil brand:wikipedia\n",
      "Itaú Unibanco brand\n",
      "Rua Figueiredo de Magalhães addr:street\n",
      "Avenida das Américas addr:street\n",
      "Avenida Olegário Maciel addr:street\n",
      "Seropédica addr:city\n",
      "Rua Imbariê addr:street\n",
      "Boa Esperança addr:suburb\n",
      "Rua Aníbal de Mendonça addr:street\n",
      "Rua Dionísio Mendes addr:street\n"
     ]
    },
    {
     "name": "stderr",
     "output_type": "stream",
     "text": [
      "Processing:  65%|██████▍   | 68432/106084 [01:31<00:50, 751.36it/s]"
     ]
    },
    {
     "name": "stdout",
     "output_type": "stream",
     "text": [
      "Rua Valentim Bouças addr:street\n",
      "Estrada Santa Efigênia addr:street\n",
      "Estrada Santa Efigênia addr:street\n",
      "Estrada Santa Efigênia addr:street\n",
      "Estrada Santa Efigênia addr:street\n",
      "Estrada Santa Efigênia addr:street\n",
      "Estrada Santa Efigênia addr:street\n",
      "Rua José Ribeiro de Mattos addr:street\n",
      "Rua José Ribeiro de Mattos addr:street\n",
      "Rua José Ribeiro de Mattos addr:street\n",
      "Rua José Ribeiro de Mattos addr:street\n",
      "Rua Eugênio José Bernardes addr:street\n",
      "Rua Eugênio José Bernardes addr:street\n",
      "Rua Eugênio José Bernardes addr:street\n",
      "Rua Eugênio José Bernardes addr:street\n",
      "Rua Eugênio José Bernardes addr:street\n",
      "Rua José Ribeiro de Mattos addr:street\n",
      "Rua José Ribeiro de Mattos addr:street\n",
      "Rua José Ribeiro de Mattos addr:street\n",
      "Rua José Ribeiro de Mattos addr:street\n",
      "Rua José Ribeiro de Mattos addr:street\n",
      "Rua José Ribeiro de Mattos addr:street\n",
      "Rua Eugênio José Bernardes addr:street\n",
      "Rua José Ribeiro de Mattos addr:street\n",
      "Rua José Ribeiro de Mattos addr:street\n",
      "Rua José Ribeiro de Mattos addr:street\n",
      "Balanço description\n",
      "Futebol, futsal, vólei, basquete. description\n",
      "Balanço description\n",
      "Barras paralelas para exercícios description\n",
      "Barra horizontal para exercícios description\n",
      "Barras para exercícios description\n",
      "Barras para exercícios description\n",
      "Barras para exercícios description\n",
      "Barra fixa horizontal pra exercícios description\n",
      "Barra fixa horizontal para exercícios description\n",
      "Balanço description\n",
      "Balanço description\n"
     ]
    },
    {
     "name": "stderr",
     "output_type": "stream",
     "text": [
      "Processing:  65%|██████▍   | 68584/106084 [01:31<00:50, 749.18it/s]"
     ]
    },
    {
     "name": "stdout",
     "output_type": "stream",
     "text": [
      "Praça Sgt Wilson J. do Nascimento inscription\n",
      "Praça Desembargador Moacir Braga inscription\n",
      "Praça Ana Gonzaga inscription\n",
      "Clínica da Família Ana Gonzaga inscription\n",
      "Inhoaíba addr:city\n",
      "Inhoaíba addr:suburb\n",
      "Inhoaíba addr:city\n",
      "Inhoaíba addr:suburb\n",
      "Inhoaíba addr:city\n",
      "Estrada de Inhoaíba addr:street\n",
      "Inhoaíba addr:suburb\n"
     ]
    },
    {
     "name": "stderr",
     "output_type": "stream",
     "text": [
      "Processing:  65%|██████▍   | 68737/106084 [01:31<00:49, 752.50it/s]"
     ]
    },
    {
     "name": "stdout",
     "output_type": "stream",
     "text": [
      "Praça Junqueiro inscription\n",
      "Praça de Santa Margarida inscription\n",
      "Praça Araguainha inscription\n",
      "Praça dos Escolares inscription\n",
      "Lô \\2018\\ artist_name\n",
      "Lô \\2018\\ artist_name\n",
      "Lô \\2018\\ artist_name\n",
      "Praça da República addr:street\n",
      "Loja de embalagens descartáveis. description\n",
      "LF Café & Bistro name:en\n",
      "Nova Iguaçu addr:city\n",
      "Rua Doutor Sá Rego addr:street\n"
     ]
    },
    {
     "name": "stderr",
     "output_type": "stream",
     "text": [
      "Processing:  65%|██████▌   | 68967/106084 [01:32<00:49, 747.68it/s]"
     ]
    },
    {
     "name": "stdout",
     "output_type": "stream",
     "text": [
      "Teresópolis addr:city\n",
      "São João de Meriti addr:city\n",
      "Rua Gavião Peixoto addr:street\n",
      "Niterói addr:city\n",
      "Rua Gavião Peixoto addr:street\n",
      "Icaraí addr:suburb\n",
      "Travessa Dídimo addr:street\n",
      "Ricardo Fasanella’s Atelier name:en\n"
     ]
    },
    {
     "name": "stderr",
     "output_type": "stream",
     "text": [
      "Processing:  65%|██████▌   | 69196/106084 [01:32<00:48, 754.47it/s]"
     ]
    },
    {
     "name": "stdout",
     "output_type": "stream",
     "text": [
      "Rua do Limão addr:street\n",
      "Empresa de tecnologia e desenvolvimento de aplicativos e soluções corporativas. Tamb description\n",
      "Beco São Judas Tadeu addr:street\n",
      "Rua Coronel Antônio Santiago addr:street\n",
      "Rua Coronel Antônio Santiago addr:street\n",
      "Rua Coronel Antônio Santiago addr:street\n",
      "Prefeitura de Teresópolis operator\n",
      "Rua Coronel Antônio Santiago addr:street\n",
      "Avenida Émile Roux addr:street\n",
      "Ouerto Iguazú addr:city\n",
      "Paciência addr:suburb\n"
     ]
    },
    {
     "name": "stderr",
     "output_type": "stream",
     "text": [
      "Processing:  65%|██████▌   | 69272/106084 [01:32<00:48, 752.25it/s]"
     ]
    },
    {
     "name": "stdout",
     "output_type": "stream",
     "text": [
      "Avenida Atlântica addr:street\n",
      "Imóvel que foi sede do Cordão da Bola Preta mas que infelizmente pegou fogo e se deteriorou mais. description\n",
      "Edifício que agora só apresenta sua fachada deteriorada que era antigamente uma garagem de carruagens, chamada Garagem P description\n",
      "Rua da Constituição addr:street\n",
      "Edifício que só possui sua fachada´considerado Patrimônio cultural municipal do RJ description\n",
      "Ako ɨtu miti name:oym\n",
      "Avenida das Américas addr:street\n",
      "Rua João XXIII addr:street\n",
      "Niterói addr:city\n",
      "Av. Irene Lopes Sodré addr:street\n"
     ]
    },
    {
     "name": "stderr",
     "output_type": "stream",
     "text": [
      "Processing:  66%|██████▌   | 69581/106084 [01:33<00:48, 747.95it/s]"
     ]
    },
    {
     "name": "stdout",
     "output_type": "stream",
     "text": [
      "Avenida das Américas addr:street\n",
      "Rua Marquês de São Vicente addr:street\n",
      "São Gonçalo addr:city\n",
      "Rua Manuel Gonçalves do Monte addr:street\n",
      "Assistência Técnica Notebooks, celulares Smartphones, laptops, tablets repair servic description\n",
      "Itaú Unibanco brand\n",
      "Pracinha localizada entre as Ruas 3 e 1 do Conjunto Habitacional São Bartolomeu. description\n",
      "Praça leisure\n",
      "Jacarepaguá addr:suburb\n",
      "Magé addr:city\n",
      "Paraíso (Vila Inhomirim) addr:suburb\n",
      "Magé addr:city\n",
      "Magé addr:city\n",
      "Magé addr:city\n",
      "Magé addr:city\n",
      "Paraíso (Vila Inhomirim) addr:suburb\n",
      "Magé addr:city\n",
      "R. Gildásio Amado, addr:street\n",
      "Av. das Américas addr:street\n",
      "Magé addr:city\n",
      "Itaú Unibanco brand\n",
      "Agência 7118, description\n",
      "Magé addr:city\n",
      "Avenida Simão da Mota addr:street\n",
      "Itaú Unibanco brand\n",
      "Agência 456 description\n",
      "Magé addr:city\n",
      "Avenida Simão da Mota addr:street\n",
      "Agência 942 description\n",
      "Magé addr:city\n",
      "Avenida Simão da Mota addr:street\n",
      "Magé addr:city\n",
      "Avenida Simão da Mota addr:street\n",
      "Agência 6791-1 description\n",
      "Magé addr:city\n",
      "Agência 1546-6 description\n",
      "Rua Passos da Pátria addr:street\n",
      "ParaLegalWeb - Abrir empresa, alteração contratual, obtenção de Alvará de Licenciamento. description\n",
      "Rua Passos da Pátria addr:street\n",
      "Serviços: Abrir empresa, Alteração contratual, Obtenção de alvará de Localização. Cont description\n"
     ]
    },
    {
     "name": "stderr",
     "output_type": "stream",
     "text": [
      "Processing:  66%|██████▌   | 69809/106084 [01:33<00:48, 753.53it/s]"
     ]
    },
    {
     "name": "stdout",
     "output_type": "stream",
     "text": [
      "Consórcio Intersul operator\n",
      "Consórcio Intersul operator\n",
      "Caixa d'Água da CEDAE operator\n",
      "O Boticário brand\n"
     ]
    },
    {
     "name": "stderr",
     "output_type": "stream",
     "text": [
      "Processing:  66%|██████▌   | 69961/106084 [01:33<00:47, 754.04it/s]"
     ]
    },
    {
     "name": "stdout",
     "output_type": "stream",
     "text": [
      "pt:Estação Parada Santa Guilhermina wikipedia\n",
      "Avenida Atlântica addr:street\n",
      "Magé addr:city\n",
      "Ruínas da Igreja de Nossa Senhora da Estrela dos Mares do extinto município de Porto da Estrela. description\n",
      "Magé addr:city\n",
      "Paraíso (Vila Inhomirim) addr:suburb\n",
      "Primeira Igreja Batista no Bairro Paraíso (PIBBAPA). description\n",
      "Magé addr:city\n",
      "Magé addr:city\n",
      "Vila Sapê addr:suburb\n",
      "Magé addr:city\n",
      "Paraíso (Vila Inhomirim) addr:suburb\n",
      "Avenida das Américas addr:street\n",
      "açaí;burger cuisine\n",
      "São Gonçalo addr:city\n",
      "Rua Capitão João Manoel addr:street\n",
      "Camarão addr:suburb\n",
      "São Gonçalo addr:city\n",
      "Rua Capitão João Manoel addr:street\n",
      "Camarão addr:suburb\n",
      "Academia Pública ao ar livre description\n",
      "São Gonçalo addr:city\n",
      "Camarão addr:suburb\n",
      "São Gonçalo addr:city\n",
      "Camarão addr:suburb\n",
      "São Gonçalo addr:city\n",
      "Camarão addr:suburb\n",
      "São Gonçalo addr:city\n",
      "Camarão addr:suburb\n",
      "São Gonçalo addr:city\n",
      "Camarão addr:suburb\n",
      "São Gonçalo addr:city\n",
      "Camarão addr:suburb\n",
      "São Gonçalo addr:city\n",
      "Camarão addr:suburb\n",
      "São Gonçalo addr:city\n",
      "Rua Capitão João Manoel addr:street\n",
      "Camarão addr:suburb\n",
      "São Gonçalo addr:city\n",
      "Camarão addr:suburb\n",
      "Rua Capitão João Manoel addr:street\n",
      "São Gonçalo addr:city\n",
      "Camarão addr:suburb\n",
      "Ponte Comporta da Represa Guinle que gerava energia para a Região do Comary nas décadas de 50 a 80 inscription\n",
      "Rua Professor Henrique de Aragão addr:street\n",
      "Marco de Fronteira Brasil/Perú description\n"
     ]
    },
    {
     "name": "stderr",
     "output_type": "stream",
     "text": [
      "Processing:  66%|██████▌   | 70113/106084 [01:33<00:47, 749.60it/s]"
     ]
    },
    {
     "name": "stdout",
     "output_type": "stream",
     "text": [
      "Paciência addr:suburb\n",
      "Petrópolis addr:city\n",
      "Polícia Rodoviária Federal operator\n",
      "pt:Polícia Rodoviária Federal operator:wikipedia\n",
      "Rua Cabuçu addr:street\n",
      "Rua Caetés addr:street\n",
      "Niterói addr:city\n",
      "Santa Bárbara addr:suburb\n",
      "Niterói addr:city\n",
      "R. Ver. José Mª Cavalcanti addr:street\n",
      "Santa Bárbara addr:suburb\n",
      "Vila São Luiz addr:suburb\n",
      "Rua Ererê addr:street\n"
     ]
    },
    {
     "name": "stderr",
     "output_type": "stream",
     "text": [
      "Processing:  66%|██████▋   | 70342/106084 [01:34<00:47, 754.75it/s]"
     ]
    },
    {
     "name": "stdout",
     "output_type": "stream",
     "text": [
      "av vice presidente José Alencar addr:street\n",
      "Metrô Rio operator\n",
      "Avenida Mem de Sá addr:street\n",
      "Empresa Brasileira de Correios e Telégrafos operator\n",
      "D. João VI artwork_subject\n",
      "Nova Iguaçu addr:city\n",
      "Rua Bolívia addr:street\n",
      "Estrada do Guerenguê addr:street\n",
      "Tratado de Límites Paraguay-Brasil 1872-01-09. description\n",
      "Itaú Unibanco brand\n",
      "en:Itaú Corpbanca brand:wikipedia\n"
     ]
    },
    {
     "name": "stderr",
     "output_type": "stream",
     "text": [
      "Processing:  66%|██████▋   | 70494/106084 [01:34<00:47, 749.51it/s]"
     ]
    },
    {
     "name": "stdout",
     "output_type": "stream",
     "text": [
      "Category:João Paulo II statue (Rio de wikimedia_commons\n",
      "Category:Homeless Jesus by Timothy Schmalz, Catedral de São Sebastião do Rio de Janeiro wikimedia_commons\n",
      "Petrópolis addr:city\n",
      "Rua Cristovão Colombo addr:street\n",
      "Castelânea addr:suburb\n",
      "Rua Cristovão Colombo addr:street\n",
      "Castelânea addr:suburb\n",
      "Petrópolis addr:city\n",
      "Rua Cristovão Colombo addr:street\n",
      "Castelânea addr:suburb\n",
      "Petrópolis addr:city\n",
      "Castelânea addr:suburb\n",
      "Petrópolis addr:city\n",
      "Petrópolis addr:city\n",
      "Castelânea addr:suburb\n",
      "Petrópolis addr:city\n",
      "Rua Vítor Meirelles addr:street\n",
      "Castelânea addr:suburb\n",
      "Petrópolis addr:city\n",
      "Castelânea addr:suburb\n",
      "Petrópolis addr:city\n",
      "Petrópolis addr:city\n",
      "Praça Pasteur addr:street\n",
      "Castelânea addr:suburb\n",
      "Petrópolis addr:city\n",
      "Praça Pasteur addr:street\n",
      "Castelânea addr:suburb\n",
      "Petrópolis addr:city\n",
      "Petrópolis addr:city\n",
      "Petrópolis addr:city\n",
      "Rua Visconde de Itaboraí addr:street\n",
      "Valparaíso addr:suburb\n",
      "Petrópolis addr:city\n",
      "Valparaíso addr:suburb\n",
      "Petrópolis addr:city\n",
      "Rua Gonçalves Dias addr:street\n",
      "Valparaíso addr:suburb\n",
      "Petrópolis addr:city\n",
      "Rua Gonçalves Dias addr:street\n",
      "Valparaíso addr:suburb\n",
      "Petrópolis addr:city\n",
      "Rua Gonçalves Dias addr:street\n",
      "Valparaíso addr:suburb\n",
      "Petrópolis addr:city\n",
      "Rua Gonçalves Dias addr:street\n",
      "Valparaíso addr:suburb\n",
      "Petrópolis addr:city\n",
      "Rua Gonçalves Dias addr:street\n",
      "Valparaíso addr:suburb\n",
      "Petrópolis addr:city\n",
      "Rua Gonçalves Dias addr:street\n",
      "Valparaíso addr:suburb\n",
      "Assaí operator\n",
      "Braçanã falls name:en\n"
     ]
    },
    {
     "name": "stderr",
     "output_type": "stream",
     "text": [
      "Processing:  67%|██████▋   | 70647/106084 [01:34<00:47, 753.88it/s]"
     ]
    },
    {
     "name": "stdout",
     "output_type": "stream",
     "text": [
      "O Boticário brand\n",
      "en:O Boticário brand:wikipedia\n",
      "Rua Mem de Sá addr:street\n",
      "Avenida Presidente João Goulart addr:street\n",
      "Rua Lauro Müller addr:street\n",
      "27o. andar – Cjs # 2701 / 2702 addr:suburb\n",
      "Glória addr:suburb\n",
      "Rua Tenente França addr:street\n",
      "Niterói addr:city\n",
      "Alameda São Boaventura addr:street\n",
      "Niterói addr:city\n",
      "Alameda São Boaventura addr:street\n",
      "Niterói addr:city\n",
      "Alameda São Boaventura addr:street\n",
      "Vila Santa Cecília addr:housename\n"
     ]
    },
    {
     "name": "stderr",
     "output_type": "stream",
     "text": [
      "Processing:  67%|██████▋   | 70956/106084 [01:34<00:45, 764.14it/s]"
     ]
    },
    {
     "name": "stdout",
     "output_type": "stream",
     "text": [
      "Rua São Francisco Xavier addr:street\n",
      "Maracanã addr:suburb\n",
      "Departamento de Engenharia Cartográfi operator\n",
      "Niterói addr:city\n"
     ]
    },
    {
     "name": "stderr",
     "output_type": "stream",
     "text": [
      "Processing:  67%|██████▋   | 71110/106084 [01:35<00:45, 761.95it/s]"
     ]
    },
    {
     "name": "stdout",
     "output_type": "stream",
     "text": [
      "Nova Iguçu addr:city\n",
      "Rua José Carlos addr:street\n",
      "Cerâmica addr:suburb\n",
      "Villa Aymoré operator\n",
      "Rua Sílvio da Rocha Pollis addr:street\n",
      "Niterói addr:city\n",
      "Rua Noronha Torrezão addr:street\n",
      "Niterói addr:city\n",
      "Rua Doutor Paulo César addr:street\n",
      "Niterói addr:city\n",
      "Icaraí addr:suburb\n"
     ]
    },
    {
     "name": "stderr",
     "output_type": "stream",
     "text": [
      "Processing:  67%|██████▋   | 71266/106084 [01:35<00:45, 765.04it/s]"
     ]
    },
    {
     "name": "stdout",
     "output_type": "stream",
     "text": [
      "Niterói addr:city\n",
      "Rua Doutor Paulo César addr:street\n",
      "Icaraí addr:suburb\n",
      "Niterói addr:city\n",
      "Rua Mário Alves addr:street\n",
      "Icaraí addr:suburb\n",
      "Niterói addr:city\n",
      "Rua Doutor Paulo César addr:street\n",
      "Icaraí addr:suburb\n",
      "Niterói addr:city\n",
      "Rua Doutor Paulo César addr:street\n",
      "Icaraí addr:suburb\n",
      "Avenida Quintino Bocaiúva addr:street\n",
      "Avenida Quintino Bocaiúva addr:street\n",
      "Avenida Quintino Bocaiúva addr:street\n",
      "São Francisco addr:suburb\n",
      "Avenida Quintino Bocaiúva addr:street\n",
      "São Francisco addr:suburb\n",
      "Avenida Quintino Bocaiúva addr:street\n",
      "리우민박 name:ko\n",
      "Praça Seca alt_name\n"
     ]
    },
    {
     "name": "stderr",
     "output_type": "stream",
     "text": [
      "Processing:  67%|██████▋   | 71421/106084 [01:35<00:45, 767.21it/s]"
     ]
    },
    {
     "name": "stdout",
     "output_type": "stream",
     "text": [
      "Estrada Curipós addr:street\n",
      "Avenida Prefeito Dulcídio Cardoso addr:street\n",
      "Avenida Prefeito Dulcídio Cardoso addr:street\n",
      "Secondary Campus. Campus de ensino secundário.\n",
      "Escola 100% ensino internacional e de lingua inglesa.\n",
      "Para Primary description\n",
      "Área de campo do Mestre Selva Curso de Sobrevivência e Bushcraft.\n",
      "FB/cursosobrevivenciaebushcraftmestreselva\n",
      "IS: @mestreselva\n",
      "(21) 98101-5086 / (21) 97176-0590 description\n",
      "Itaú Unibanco brand\n",
      "Itaú Unibanco brand\n",
      "Nova Iguaçu addr:city\n",
      "Rua Almirante Gonçalves addr:street\n",
      "Rua Corrêa Vasques addr:street\n",
      "Vó Alzira alt_name\n",
      "O Boticário brand\n",
      "en:O Boticário brand:wikipedia\n",
      "Itaú Unibanco brand\n",
      "pt:Itaú Unibanco brand:wikipedia\n",
      "Caixa Econômica Federal brand\n"
     ]
    },
    {
     "name": "stderr",
     "output_type": "stream",
     "text": [
      "Processing:  67%|██████▋   | 71575/106084 [01:35<00:46, 748.57it/s]"
     ]
    },
    {
     "name": "stdout",
     "output_type": "stream",
     "text": [
      "Avenida Quintino Bocaiúva addr:street\n",
      "Rua Barão da Torre addr:street\n",
      "Rua Corrêa Vasques addr:street\n",
      "Rua Maria Quitéria addr:street\n",
      "século XVIII? inscription\n",
      "Possível_Casa_de_Fazenda historic\n",
      "século XVIII? inscription\n",
      "Monumento representando a Bíblia Sagrada com a transcrição do Salmo 91. description\n",
      "Transcrição do Salmo 91 da Bíblia Sagrada inscription\n",
      "Parquinho público com alguns brinquedos como escorrego e balanço. description\n",
      "Nova Iguaçu addr:city\n",
      "Nova Iguaçu addr:city\n",
      "Nova Iguaçu addr:city\n",
      "Nova Iguaçu addr:city\n",
      "Nova Iguaçu addr:city\n",
      "Nova Iguaçu addr:city\n",
      "Nova Iguaçu addr:city\n",
      "Nova Iguaçu addr:city\n",
      "Rua José Couto Guimarães addr:street\n",
      "Rua José da Silva Braga addr:street\n"
     ]
    },
    {
     "name": "stderr",
     "output_type": "stream",
     "text": [
      "Processing:  68%|██████▊   | 71730/106084 [01:35<00:45, 760.02it/s]"
     ]
    },
    {
     "name": "stdout",
     "output_type": "stream",
     "text": [
      "Rua Antônio João addr:street\n",
      "Rua Olímpia Esteves addr:street\n",
      "maricá addr:city\n",
      "Rua Papa João Paulo II addr:street\n",
      "são jose addr:suburb\n",
      "maricá addr:city\n",
      "são jose addr:suburb\n",
      "maricá addr:city\n",
      "são jose addr:suburb\n",
      "Rua Barão de São Borja addr:street\n",
      "Méier addr:suburb\n",
      "Estação de tratamento de esgoto do vilar carioca operator\n",
      "Jacarepaguá addr:suburb\n",
      "Rua Queirós Júnior addr:street\n",
      "Jacarepaguá addr:suburb\n",
      "São Gonçalo addr:city\n",
      "Rua Venâncio Flores addr:street\n",
      "Nova Iguaçu addr:city\n",
      "Nova Iguaçu addr:city\n",
      "Niterói addr:city\n",
      "Cafubá addr:suburb\n",
      "São Gonçalo addr:city\n",
      "Estátua em homenagem a Noel Rosa inscription\n",
      "Torre em Memória da antiga fábrica América Fabril description\n",
      "Condomínio Tijolinho operator\n",
      "Colônia addr:suburb\n",
      "Colônia addr:suburb\n",
      "Rua Barão de Iguatemi addr:street\n",
      "Praça da Bandeira addr:suburb\n"
     ]
    },
    {
     "name": "stderr",
     "output_type": "stream",
     "text": [
      "Processing:  68%|██████▊   | 71961/106084 [01:36<00:45, 755.92it/s]"
     ]
    },
    {
     "name": "stdout",
     "output_type": "stream",
     "text": [
      "Uma passagem de água feita com manilhas de concreto. description\n",
      "Uma passagem de água feita com manilhas de concreto. description\n",
      "Estrada do Tinguá addr:street\n",
      "Prefeitura de São Gonçalo operator\n",
      "Atacadão brand\n",
      "en:Atacadão brand:wikipedia\n",
      "Rua Voluntários da Pátria addr:street\n",
      "Nova Iguaçu addr:city\n"
     ]
    },
    {
     "name": "stderr",
     "output_type": "stream",
     "text": [
      "Processing:  68%|██████▊   | 72192/106084 [01:36<00:44, 760.67it/s]"
     ]
    },
    {
     "name": "stdout",
     "output_type": "stream",
     "text": [
      "Transoceãnica network\n",
      "Petrópolis addr:city\n",
      "Rua Leopoldo Gonçalves da Silva addr:street\n",
      "Nova iguaçu addr:city\n",
      "Nova Iguaçu addr:city\n",
      "Jardim Cabuçu addr:suburb\n",
      "Paróquia Nossa Senhora de Fátima - Cabuçu, description\n",
      "Nova Iguaçu addr:city\n",
      "Paróquia Nossa Senhora de Fátima - Cabuçu description\n",
      "Nova Iguaçu addr:city\n",
      "Paróquia Nossa Senhora de Fátima - Cabuçu description\n",
      "Nova Iguaçu addr:city\n",
      "Praça Maria Cristina addr:street\n",
      "Jardim Cabuçu addr:suburb\n",
      "Nova Iguaçu addr:city\n",
      "Paróquia Nossa Senhora de Fátima - Cabuçu description\n",
      "Nova Iguaçu addr:city\n",
      "Cabuçu addr:suburb\n",
      "Paróquia Nossa Senhora de Fátima - Cabuçu description\n",
      "Nova Iguaçu addr:city\n",
      "Paróquia Nossa Senhora de Fátima - Ca description\n",
      "Nova Iguaçu addr:city\n",
      "Paróquia Nossa Senhora de Fátima - Cabuçu description\n",
      "Nova Iguaçu addr:city\n",
      "Paróquia Nossa Senhora de Fátima - Cabuçu description\n",
      "Portão limitador. É proibida passagem de veículos automotores. description\n",
      "Portão limitador. É proibida passagem de veículos automotores. description\n",
      "Órgão da Administração Pública Municipal (APM) de Itaboraí description\n",
      "Rua Aníbal de Mendonça addr:street\n",
      "Avenida Lúcio Costa addr:street\n",
      "Niterói addr:city\n",
      "Icaraí addr:suburb\n"
     ]
    },
    {
     "name": "stderr",
     "output_type": "stream",
     "text": [
      "Processing:  68%|██████▊   | 72345/106084 [01:36<00:44, 754.59it/s]"
     ]
    },
    {
     "name": "stdout",
     "output_type": "stream",
     "text": [
      "Rua São Cristóvão addr:street\n",
      "Chaminé da Antiga Fábrica de tecidos Confiança description\n",
      "Paletização e Logística description\n",
      "Venda de cestas básica no varejo e atacado, venda de kits e produtos de limpeza. description\n",
      "São Gonçalo addr:city\n",
      "burger;ice_cream;açaí cuisine\n"
     ]
    },
    {
     "name": "stderr",
     "output_type": "stream",
     "text": [
      "Processing:  68%|██████▊   | 72652/106084 [01:37<00:43, 760.62it/s]"
     ]
    },
    {
     "name": "stdout",
     "output_type": "stream",
     "text": [
      "Rua Luís Barbosa addr:street\n",
      "Rua Luís Barbosa addr:street\n",
      "Rua Visconde de Pirajá addr:street\n",
      "Pista destinada exclusivamente à circulação de bicicletas. description\n",
      "Rua Hilário de Gouveia addr:street\n",
      "Rua Voluntários da Pátria addr:street\n",
      "Rua Barão de Ipanema addr:street\n",
      "Rua Maria Quitéria addr:street\n",
      "São João de Meriti addr:city\n",
      "Testemunhas_de_Jeová denomination\n"
     ]
    },
    {
     "name": "stderr",
     "output_type": "stream",
     "text": [
      "Processing:  69%|██████▊   | 72806/106084 [01:37<00:43, 760.27it/s]"
     ]
    },
    {
     "name": "stdout",
     "output_type": "stream",
     "text": [
      "Category:Casa de Banho de Dom João VI wikimedia_commons\n"
     ]
    },
    {
     "name": "stderr",
     "output_type": "stream",
     "text": [
      "Processing:  69%|██████▉   | 72962/106084 [01:37<00:43, 759.78it/s]"
     ]
    },
    {
     "name": "stdout",
     "output_type": "stream",
     "text": [
      "São João de Meriti addr:city\n",
      "Rua Guimarães addr:street\n",
      "São João de Meriti addr:city\n",
      "Avenida Getúlio de Moura addr:street\n",
      "Nova Iguaçu addr:city\n",
      "Rua Cândido Lima addr:street\n",
      "Rua Pastor José Ramalho addr:street\n",
      "Estrada do Camboatá addr:street\n",
      "Rua Operária addr:street\n",
      "Rua Ator Jece Valadão addr:street\n",
      "Rua José Higino addr:street\n"
     ]
    },
    {
     "name": "stderr",
     "output_type": "stream",
     "text": [
      "Processing:  69%|██████▉   | 73115/106084 [01:37<00:43, 757.52it/s]"
     ]
    },
    {
     "name": "stdout",
     "output_type": "stream",
     "text": [
      "Rua Marquês de Abrantes addr:street\n",
      "Rua Marquês de Abrantes addr:street\n",
      "Rua Marquês de Abrantes addr:street\n",
      "Rua Marquês de Abrantes addr:street\n",
      "Rua Marquês de Abrantes addr:street\n",
      "Rua Marquês de Abrantes addr:street\n",
      "Rua Marquês de Abrantes addr:street\n",
      "Rua Marquês de Abrantes addr:street\n",
      "Itaú Unibanco brand\n",
      "pt:Itaú Unibanco brand:wikipedia\n",
      "Rua Marquês de Abrantes addr:street\n",
      "Rua Marquês de Abrantes addr:street\n",
      "Rua Marquês de Abrantes addr:street\n",
      "Rua Marquês de Abrantes addr:street\n",
      "Rua Marquês de Abrantes addr:street\n",
      "Rua Marquês de Abrantes addr:street\n",
      "Rua Marquês de Abrantes addr:street\n",
      "Rua Marquês de Abrantes addr:street\n",
      "Rua Marquês de Abrantes addr:street\n",
      "Rua Marquês de Abrantes addr:street\n",
      "Rua Marquês de Abrantes addr:street\n",
      "Água operator\n",
      "Teresópolis addr:city\n",
      "Rua José Cipriniano addr:street\n",
      "Teresópolis addr:city\n",
      "Prefeitura Municipal de Teresópolis operator\n",
      "Prefeitura Municipal de Teresópolis operator\n",
      "Teresópolis addr:city\n"
     ]
    },
    {
     "name": "stderr",
     "output_type": "stream",
     "text": [
      "Processing:  69%|██████▉   | 73347/106084 [01:38<00:42, 763.88it/s]"
     ]
    },
    {
     "name": "stdout",
     "output_type": "stream",
     "text": [
      "Monte Ulamitipú name:pt\n",
      "Casa do Pão de Queijo brand\n",
      "pt:Casa do Pão de Queijo brand:wikipedia\n",
      "Bike Itaú network\n",
      "Rua Visconde de Pirajá addr:street\n",
      "Rua Marquês de Abrantes addr:street\n",
      "Rua Marquês de Abrantes addr:street\n",
      "Rua Marquês de Abrantes addr:street\n",
      "Rua Marquês de Abrantes addr:street\n",
      "Rua Marquês de Abrantes addr:street\n",
      "Rua Marquês de Abrantes addr:street\n",
      "Rua Marquês de Abrantes addr:street\n",
      "Rua Marquês de Abrantes addr:street\n",
      "Rua Marquês de Abrantes addr:street\n",
      "Rua Marquês de Abrantes addr:street\n",
      "Rua Marquês de Abrantes addr:street\n",
      "Rua Marquês de Abrantes addr:street\n",
      "Rua Marquês de Abrantes addr:street\n",
      "Rua Marquês de Abrantes addr:street\n",
      "Rua Marquês de Abrantes addr:street\n",
      "Rua Marquês de Abrantes addr:street\n",
      "Rua Marquês de Abrantes addr:street\n",
      "National Museum’s Botanical Garden name:en\n",
      "Niterói addr:city\n",
      "Conheça Agora a Drogaria My Farma Online. Entrega em Todo Brasil. Compra 100% segura. Compre Online. Compare e Comprove. Genéricos de Qualidade e Melhor Custo x Beneficio\n",
      "\n",
      "https://myfarmaonline.com.br description\n",
      "Rua Djalma de Magalhães Lessa addr:street\n"
     ]
    },
    {
     "name": "stderr",
     "output_type": "stream",
     "text": [
      "Processing:  69%|██████▉   | 73501/106084 [01:38<00:43, 740.76it/s]"
     ]
    },
    {
     "name": "stdout",
     "output_type": "stream",
     "text": [
      "Niterói addr:city\n",
      "Estrada Velha de Maricá addr:street\n",
      "RECAB – Rede Casa do Biscoito operator\n",
      "São Gonçalo addr:city\n",
      "Estação com bicicletas disponíveis para empréstimo. description\n"
     ]
    },
    {
     "name": "stderr",
     "output_type": "stream",
     "text": [
      "Processing:  70%|██████▉   | 73729/106084 [01:38<00:43, 738.85it/s]"
     ]
    },
    {
     "name": "stdout",
     "output_type": "stream",
     "text": [
      "Estação Primeira de Mangueira alt_name\n",
      "pt:Estação Guapimirim wikipedia\n",
      "Rua Dona Vicência addr:street\n",
      "Rua General Olívio Uzeda addr:street\n",
      "Rua Conde de Itaguaí addr:street\n",
      "Rua Visconde de Pirajá addr:street\n",
      "Rua Aníbal de Mendonça addr:street\n",
      "Rua Joana Angélica addr:street\n"
     ]
    },
    {
     "name": "stderr",
     "output_type": "stream",
     "text": [
      "Processing:  70%|██████▉   | 73881/106084 [01:38<00:43, 747.41it/s]"
     ]
    },
    {
     "name": "stdout",
     "output_type": "stream",
     "text": [
      "Petrópolis addr:city\n",
      "Rua Doutor Hermogênio Silva addr:street\n",
      "Seguna-feira das 14:00 as 18:00 demais dias das 09:00 as 18:00 Sábado das 09:00 as 1 opening_hours\n",
      "Nova Iguaçu addr:city\n",
      "Nova Iguaçu addr:city\n",
      "Avenida Abílio Augusto Távora addr:street\n",
      "Nova Iguaçu addr:city\n",
      "Empresa Brasileira de Correios e Telégrafos brand\n",
      "Nova Iguaçu addr:city\n",
      "Recreio Itapoã addr:suburb\n",
      "Petrópolis addr:city\n",
      "Estação de tratamento de esgoto  description\n",
      "pt:Palmeira (Paraná) species:wikipedia\n"
     ]
    },
    {
     "name": "stderr",
     "output_type": "stream",
     "text": [
      "Processing:  70%|██████▉   | 74032/106084 [01:38<00:42, 748.32it/s]"
     ]
    },
    {
     "name": "stdout",
     "output_type": "stream",
     "text": [
      "Rua Itaiçaba addr:street\n",
      "Rua Iperó addr:street\n",
      "Rua Iperó addr:street\n",
      "Rua Iperó addr:street\n",
      "Rua Arália addr:street\n",
      "Jacerepaguá addr:suburb\n",
      "Jacerepaguá addr:suburb\n",
      "Rua Iperó addr:street\n",
      "Travessa Cláudio Marcos M. Machado addr:street\n",
      "Rua Itaiçaba addr:street\n",
      "Rua Arália addr:street\n",
      "Pão de Açúcar brand\n",
      "Maranatha AM PM Conveniência name:pt\n",
      "Niterói addr:city\n",
      "Avenida Irene Lopes Sodré addr:street\n",
      "Segunda a Sábado de 7:00 até 20:30 e Domingo de 7:00 as 14:00 opening_hours\n",
      "Passagem estreita (uma pessoa por vez) entre as ruas Abílio dos Santos e Senador Almino Afonso, entre a quadra e um muro. description\n"
     ]
    },
    {
     "name": "stderr",
     "output_type": "stream",
     "text": [
      "Processing:  70%|███████   | 74261/106084 [01:39<00:42, 752.76it/s]"
     ]
    },
    {
     "name": "stdout",
     "output_type": "stream",
     "text": [
      "Paulmelin açougue name:pt\n",
      "Niterói addr:city\n",
      "Niterói addr:city\n",
      "Cizinho’s Market name:en\n"
     ]
    },
    {
     "name": "stderr",
     "output_type": "stream",
     "text": [
      "Processing:  70%|███████   | 74493/106084 [01:39<00:41, 761.32it/s]"
     ]
    },
    {
     "name": "stdout",
     "output_type": "stream",
     "text": [
      "Espaço orgânico Synthesis name:pt\n",
      "Tem uma saída/buraco aqui? description\n",
      "Estrada Manoel Nogueira de Sá addr:street\n",
      "Estrada do Sapê addr:street\n",
      "Portão de entrada da Vila do Sapé (Estrada do Sapé 690). description\n"
     ]
    },
    {
     "name": "stderr",
     "output_type": "stream",
     "text": [
      "Processing:  70%|███████   | 74724/106084 [01:39<00:41, 764.05it/s]"
     ]
    },
    {
     "name": "stdout",
     "output_type": "stream",
     "text": [
      "Rua Ipiguã addr:street\n",
      "Rua Antônio de Abreu addr:street\n",
      "Rua da Conceição addr:street\n",
      "Rua da Conceição addr:street\n",
      "Rua da Conceição addr:street\n",
      "Rua São Geraldo addr:street\n",
      "Rua São Geraldo addr:street\n",
      "Rua São Geraldo addr:street\n",
      "Niterói addr:city\n",
      "Rua Doutor Mário Vianna addr:street\n",
      "Niterói addr:city\n",
      "Rua Doutor Mário Vianna addr:street\n"
     ]
    },
    {
     "name": "stderr",
     "output_type": "stream",
     "text": [
      "Processing:  71%|███████   | 74956/106084 [01:40<00:40, 763.49it/s]"
     ]
    },
    {
     "name": "stdout",
     "output_type": "stream",
     "text": [
      "Rua Doutor Mário Vianna addr:street\n",
      "Rua Doutor Mário Vianna addr:street\n",
      "Rua Doutor Mário Vianna addr:street\n",
      "Rua Doutor Mário Vianna addr:street\n"
     ]
    },
    {
     "name": "stderr",
     "output_type": "stream",
     "text": [
      "Processing:  71%|███████   | 75110/106084 [01:40<00:40, 758.87it/s]"
     ]
    },
    {
     "name": "stdout",
     "output_type": "stream",
     "text": [
      "Avenida Olegário Maciel addr:street\n",
      "Rua Garcia d'Ávila addr:street\n",
      "Rua Maria Angélica addr:street\n",
      "Estrada da Gávea addr:street\n",
      "Rua Joana Angélica addr:street\n",
      "Rua Valença addr:street\n",
      "Maricá addr:city\n",
      "Maricá addr:city\n",
      "Maricá addr:city\n",
      "Maricá addr:city\n",
      "Maricá addr:city\n",
      "Criação de Mini Animais description\n",
      "블루 아가베 name:ko\n",
      "Rua Cupertino Durão addr:street\n"
     ]
    },
    {
     "name": "stderr",
     "output_type": "stream",
     "text": [
      "Processing:  71%|███████   | 75264/106084 [01:40<00:40, 752.78it/s]"
     ]
    },
    {
     "name": "stdout",
     "output_type": "stream",
     "text": [
      "Rua Lauro Müller addr:street\n",
      "R. Darcí Vargas addr:street\n",
      "Maré addr:suburb\n",
      "Avenida Dom Hélder Câmara addr:street\n",
      "Ao grande engenheiro Dr João Teixeira Soares Monumento erigido por um grupo de admiradores e amigos e iniciativa da revista das estradas de ferro MCMXXX inscription\n",
      "Druhá kabina lanovky name:cs\n",
      "Saúde addr:suburb\n",
      "São Conrado addr:city\n",
      "Estrada da Gávea addr:street\n",
      "Itaú operator\n",
      "Metrô Rio operator\n",
      "Jacarepaguá addr:suburb\n",
      "Niterói addr:city\n",
      "Ingá addr:suburb\n"
     ]
    },
    {
     "name": "stderr",
     "output_type": "stream",
     "text": [
      "Processing:  71%|███████   | 75494/106084 [01:40<00:41, 738.16it/s]"
     ]
    },
    {
     "name": "stdout",
     "output_type": "stream",
     "text": [
      "Primeiro mirante panorâmico para a Baía de Guanabara em São Gonçalo. description\n",
      "Avenida Marechal Câmara addr:street\n",
      "Laboratório de Inovação do Ministério Públ description\n",
      "São Gonçalo addr:city\n",
      "Rua Ministro Alfredo Valadão addr:street\n",
      "Recepção operator\n",
      "Nova Iguaçu addr:city\n",
      "Nova Iguaçu addr:city\n",
      "Nova Iguaçu addr:city\n",
      "Estrada de Adrianópolis addr:street\n",
      "Vila Nossa Senhora da Conceição addr:suburb\n",
      "Nova Iguaçu addr:city\n",
      "Estrada de Adrianópolis addr:street\n",
      "Vila Nossa Senhora da Conceição addr:suburb\n",
      "Nova Iguaçu addr:city\n",
      "Nova Iguaçu addr:city\n",
      "Nova Iguaçu addr:city\n",
      "Rua João Ferreira Pinto addr:street\n",
      "Rua José Higino addr:street\n",
      "Rua Baronesa do Poconé addr:street\n"
     ]
    },
    {
     "name": "stderr",
     "output_type": "stream",
     "text": [
      "Processing:  71%|███████▏  | 75649/106084 [01:41<00:40, 752.12it/s]"
     ]
    },
    {
     "name": "stdout",
     "output_type": "stream",
     "text": [
      "Avenida das Américas addr:street\n",
      "Avenida das Américas addr:street\n",
      "Плэй сити name:ru\n"
     ]
    },
    {
     "name": "stderr",
     "output_type": "stream",
     "text": [
      "Processing:  71%|███████▏  | 75801/106084 [01:41<00:40, 741.00it/s]"
     ]
    },
    {
     "name": "stdout",
     "output_type": "stream",
     "text": [
      "Seropédica addr:city\n"
     ]
    },
    {
     "name": "stderr",
     "output_type": "stream",
     "text": [
      "Processing:  72%|███████▏  | 76030/106084 [01:41<00:40, 749.65it/s]"
     ]
    },
    {
     "name": "stdout",
     "output_type": "stream",
     "text": [
      "Rua Barão da Torre addr:street\n",
      "Nova Iguaçu addr:city\n",
      "Nova Iguaçu addr:city\n",
      "Nova Iguaçu addr:city\n",
      "Nova Iguaçu addr:city\n",
      "Nova Iguaçu addr:city\n",
      "Nova Iguaçu addr:city\n",
      "Avenida Nilo Peçanha addr:street\n",
      "Rua Senador Camará addr:street\n",
      "Rua José Fernandes addr:street\n",
      "Estrada do Piaí addr:street\n",
      "Rua José Fernandes addr:street\n",
      "Rua Prefeito João Felipe addr:street\n"
     ]
    },
    {
     "name": "stderr",
     "output_type": "stream",
     "text": [
      "Processing:  72%|███████▏  | 76257/106084 [01:41<00:39, 752.32it/s]"
     ]
    },
    {
     "name": "stdout",
     "output_type": "stream",
     "text": [
      "König Albert I. von Belgien name:de\n",
      "Koning Albert I van België name:nl\n",
      "Nova Iguaçu addr:city\n",
      "Três Corações addr:suburb\n",
      "Nova Iguaçu addr:city\n",
      "Três Corações addr:suburb\n",
      "Nova Iguaçu addr:city\n",
      "São Luiz Gonzaga addr:suburb\n",
      "Nova Iguaçu addr:city\n",
      "São Luiz Gonzaga addr:suburb\n",
      "Nova Iguaçu addr:city\n",
      "Nova Iguaçu addr:city\n",
      "Nova Iguaçu addr:city\n",
      "Seropédica addr:city\n",
      "Rua Niterói addr:street\n",
      "Seropédica addr:city\n",
      "Prefeitura Municipal de Seropédica operator\n",
      "Inhoaíba addr:suburb\n",
      "Inhoaíba addr:suburb\n",
      "Rua Senador Camará addr:street\n",
      "Paciência addr:suburb\n",
      "Paciência addr:suburb\n",
      "Paciência addr:suburb\n",
      "Inhoaíba addr:suburb\n",
      "Inhoaíba addr:suburb\n",
      "Senador Camará addr:suburb\n",
      "Senador Camará addr:suburb\n",
      "Senador Camará addr:suburb\n",
      "Senador Camará addr:suburb\n",
      "Senador Camará addr:suburb\n",
      "Irajá addr:suburb\n",
      "Irajá addr:suburb\n",
      "Estácio addr:suburb\n",
      "Méier addr:suburb\n"
     ]
    },
    {
     "name": "stderr",
     "output_type": "stream",
     "text": [
      "Processing:  72%|███████▏  | 76409/106084 [01:42<00:39, 745.02it/s]"
     ]
    },
    {
     "name": "stdout",
     "output_type": "stream",
     "text": [
      "Complexo do Alemão addr:suburb\n",
      "Maracanã addr:suburb\n",
      "Avenida Presidente João Goulart addr:street\n",
      "Secretaria Municipal de Saúde do Rio operator\n",
      "São Conrado addr:suburb\n",
      "Complexo do Alemão addr:suburb\n",
      "Complexo do Alemão addr:suburb\n",
      "Senador Camará addr:suburb\n",
      "Nova Iguaçu addr:city\n",
      "Nova Iguaçu addr:city\n",
      "Três Corações addr:suburb\n",
      "Nova Iguaçu addr:city\n",
      "Três Corações addr:suburb\n",
      "Nova Iguaçu addr:city\n",
      "São Luiz Gonzaga addr:suburb\n",
      "Rua José Eleoterio addr:street\n",
      "Av. Dom Hélder Câmara addr:street\n",
      "Avenida Dom Hélder Câmara addr:street\n"
     ]
    },
    {
     "name": "stderr",
     "output_type": "stream",
     "text": [
      "Processing:  72%|███████▏  | 76634/106084 [01:42<00:39, 741.40it/s]"
     ]
    },
    {
     "name": "stdout",
     "output_type": "stream",
     "text": [
      "Praça Quinze de Novembro addr:street\n",
      "Centro de Proteção Animal Fazenda Modelo official_name\n",
      "São Cristóvão addr:suburb\n",
      "São Francisco Xavier addr:suburb\n",
      "São Francisco Xavier addr:suburb\n",
      "Maré addr:suburb\n",
      "Maré addr:suburb\n",
      "Maré addr:suburb\n",
      "Rua Diomédes Trota addr:street\n",
      "Brás de Pina addr:suburb\n",
      "Irajá addr:suburb\n",
      "Vigário Geral addr:suburb\n",
      "Colégio addr:suburb\n",
      "Honório Gurgel addr:suburb\n",
      "Turiaçú addr:suburb\n",
      "Abolição addr:suburb\n",
      "Praça Seca addr:suburb\n",
      "Praça Seca addr:suburb\n",
      "Quintino Bocaiúva addr:suburb\n",
      "Santíssimo addr:suburb\n",
      "Inhoaíba addr:suburb\n",
      "Paciência addr:suburb\n",
      "Paciência addr:suburb\n",
      "Paciência addr:suburb\n",
      "Jacarepaguá addr:suburb\n",
      "Maracanã addr:suburb\n",
      "Praça da Bandeira addr:suburb\n",
      "Praça da Bandeira addr:suburb\n",
      "Itanhangá addr:suburb\n"
     ]
    },
    {
     "name": "stderr",
     "output_type": "stream",
     "text": [
      "Processing:  72%|███████▏  | 76785/106084 [01:42<00:39, 735.32it/s]"
     ]
    },
    {
     "name": "stdout",
     "output_type": "stream",
     "text": [
      "Jacarepaguá addr:suburb\n",
      "Jacarepaguá addr:suburb\n",
      "Jacarepaguá addr:suburb\n",
      "Jacarepaguá addr:suburb\n",
      "Jacarepaguá addr:suburb\n",
      "Jacarepaguá addr:suburb\n",
      "Jacarepaguá addr:suburb\n",
      "Jacarepaguá addr:suburb\n",
      "Galeão addr:suburb\n",
      "Tauá addr:suburb\n",
      "Bancários addr:suburb\n",
      "Galeão addr:suburb\n",
      "Cocotá addr:suburb\n",
      "ESPÍRITA denomination\n",
      "Travessa Yucatã 366 addr:street\n",
      "evangélica religion\n",
      "Espaço de Desenvolvimento Infantil Professora Lucia Maria Quitete de Carvalho Amaral official_name\n",
      "Itaboraí addr:city\n",
      "Esperança addr:suburb\n"
     ]
    },
    {
     "name": "stderr",
     "output_type": "stream",
     "text": [
      "Processing:  73%|███████▎  | 77014/106084 [01:42<00:39, 739.84it/s]"
     ]
    },
    {
     "name": "stdout",
     "output_type": "stream",
     "text": [
      "Polícia Militar do Estado do Rio de Janeiro operator\n",
      "Osório Foundation name:en\n"
     ]
    },
    {
     "name": "stderr",
     "output_type": "stream",
     "text": [
      "Processing:  73%|███████▎  | 77168/106084 [01:43<00:38, 752.84it/s]"
     ]
    },
    {
     "name": "stdout",
     "output_type": "stream",
     "text": [
      "Niterói addr:city\n",
      "Rua Passo da Pátria addr:street\n",
      "São Domingos addr:suburb\n",
      "Associação Atlética Acadêmica Pio Orlando - Atlética Engenharia UFF, description\n",
      "Campinho de terra para jogar futebol que comporta 5x5 e até 7x7. description\n",
      "São João de Meriti addr:city\n",
      "São Mateus addr:suburb\n",
      "São João de Meriti addr:city\n",
      "São Mateus addr:suburb\n",
      "São João de Meriti addr:city\n",
      "Rua Doutor Lúcio addr:street\n",
      "São Mateus addr:suburb\n",
      "São João de Meriti addr:city\n",
      "Rua Doutor Luís Sobral addr:street\n",
      "São Mateus addr:suburb\n",
      "São João de Meriti addr:city\n",
      "São Mateus addr:suburb\n",
      "São João de Meriti addr:city\n",
      "Rua Doutor Luís Sobral addr:street\n",
      "São Mateus addr:suburb\n",
      "São João de Meriti addr:city\n",
      "Rua Doutor Luís Sobral addr:street\n",
      "São Mateus addr:suburb\n",
      "Caixa Econômica Federal brand\n",
      "pt:Caixa Econômica Federal brand:wikipedia\n"
     ]
    },
    {
     "name": "stderr",
     "output_type": "stream",
     "text": [
      "Processing:  73%|███████▎  | 77398/106084 [01:43<00:37, 756.50it/s]"
     ]
    },
    {
     "name": "stdout",
     "output_type": "stream",
     "text": [
      "Cabo de aço em 2 segmentos, um na horizontal e outro subindo. description\n",
      "Bernardo & Bárbara operator\n",
      "Avenida das Américas addr:street\n",
      "Praça Doutor Del Vecchio addr:street\n",
      "Estrada do Sumaré addr:street\n",
      "Nova Iguaçu addr:city\n",
      "São Luiz Gonzaga addr:suburb\n",
      "Nova Iguaçu addr:city\n",
      "Rua Antônio Wilman addr:street\n",
      "Nova Iguaçu addr:city\n",
      "Moquetá addr:suburb\n",
      "Nova Iguaçu addr:city\n",
      "Santa Eugênia addr:suburb\n",
      "Nova Iguaçu addr:city\n",
      "Travessa Júlia Távora addr:street\n",
      "Vila Santo Antônio addr:suburb\n",
      "Nova Iguaçu addr:city\n",
      "Nova Brasília addr:suburb\n",
      "Nova Iguaçu addr:city\n",
      "Rua João Rocha de Carvalho addr:street\n",
      "Nova Iguaçu addr:city\n",
      "Corumbá addr:suburb\n",
      "Nova Iguaçu addr:city\n",
      "são gonçalo addr:city\n",
      "Seropédica addr:city\n",
      "Galeria Espaço addr:housename\n"
     ]
    },
    {
     "name": "stderr",
     "output_type": "stream",
     "text": [
      "Processing:  73%|███████▎  | 77861/106084 [01:44<00:36, 766.16it/s]"
     ]
    },
    {
     "name": "stdout",
     "output_type": "stream",
     "text": [
      "Nova Iguaçu addr:city\n",
      "Niterói addr:city\n",
      "Praia João Caetano addr:street\n",
      "Ingá addr:suburb\n",
      "Niterói addr:city\n",
      "Praia João Caetano addr:street\n",
      "Ingá addr:suburb\n",
      "Maré addr:suburb\n",
      "Maré addr:suburb\n"
     ]
    },
    {
     "name": "stderr",
     "output_type": "stream",
     "text": [
      "Processing:  74%|███████▎  | 78092/106084 [01:44<00:36, 760.39it/s]"
     ]
    },
    {
     "name": "stdout",
     "output_type": "stream",
     "text": [
      "Nilópolis addr:city\n",
      "Rua Doutor Sílvio addr:street\n",
      "Rua Doutor Nilo Peçanha addr:street\n"
     ]
    },
    {
     "name": "stderr",
     "output_type": "stream",
     "text": [
      "Processing:  74%|███████▍  | 78397/106084 [01:44<00:36, 755.30it/s]"
     ]
    },
    {
     "name": "stdout",
     "output_type": "stream",
     "text": [
      "CEFET/RJ Campus Petrópolis operator\n",
      "Nova iguaçu addr:city\n",
      "Rua dos Quartéis addr:street\n"
     ]
    },
    {
     "name": "stderr",
     "output_type": "stream",
     "text": [
      "Processing:  74%|███████▍  | 78627/106084 [01:45<00:36, 756.99it/s]"
     ]
    },
    {
     "name": "stdout",
     "output_type": "stream",
     "text": [
      "Gardênia Azul addr:suburb\n",
      "Avenida Marechal Câmara addr:street\n"
     ]
    },
    {
     "name": "stderr",
     "output_type": "stream",
     "text": [
      "Processing:  74%|███████▍  | 78782/106084 [01:45<00:35, 759.37it/s]"
     ]
    },
    {
     "name": "stdout",
     "output_type": "stream",
     "text": [
      "A José Plácido de Castro \n",
      "Libertador do Acre no centenário de nascimento\n",
      "Homenagem da nação brasileira\n",
      "1873 - 1973 inscription\n",
      "Ministério das Relações Exteriores operator\n"
     ]
    },
    {
     "name": "stderr",
     "output_type": "stream",
     "text": [
      "Processing:  74%|███████▍  | 79014/106084 [01:45<00:35, 762.86it/s]"
     ]
    },
    {
     "name": "stdout",
     "output_type": "stream",
     "text": [
      "Itaboraí addr:city\n",
      "Seg-Sex 8:00 às 17:00h Sab 8:00 às 12:00h opening_hours\n",
      "Niterói addr:city\n"
     ]
    },
    {
     "name": "stderr",
     "output_type": "stream",
     "text": [
      "Processing:  75%|███████▍  | 79246/106084 [01:45<00:35, 755.50it/s]"
     ]
    },
    {
     "name": "stdout",
     "output_type": "stream",
     "text": [
      "Rua Ministro Otávio Kelly addr:street\n",
      "Rua Ministro Otávio Kelly addr:street\n",
      "Nova Iguaçu addr:city\n",
      "Três Corações addr:suburb\n",
      "Nova Iguaçu addr:city\n",
      "São Luiz Gonzaga addr:suburb\n",
      "Rua Lopes Trovão addr:street\n",
      "Rua Lopes Trovão addr:street\n",
      "Rua Ministro Otávio Kelly addr:street\n",
      "Rua Ministro Otávio Kelly addr:street\n",
      "Rua Ministro Otávio Kelly addr:street\n",
      "Rua Ministro Otávio Kelly addr:street\n",
      "Rua Ministro Otávio Kelly addr:street\n",
      "Rua Ministro Otávio Kelly addr:street\n",
      "Rua Ministro Otávio Kelly addr:street\n",
      "Rua Ministro Otávio Kelly addr:street\n",
      "Rua Ministro Otávio Kelly addr:street\n",
      "Rua Ministro Otávio Kelly addr:street\n",
      "Rua Ministro Otávio Kelly addr:street\n",
      "Rua Ministro Otávio Kelly addr:street\n",
      "Rua Ministro Otávio Kelly addr:street\n",
      "Rua Ministro Otávio Kelly addr:street\n",
      "Rua Ministro Otávio Kelly addr:street\n",
      "Rua Ministro Otávio Kelly addr:street\n",
      "Rua Ministro Otávio Kelly addr:street\n",
      "Rua Ministro Otávio Kelly addr:street\n",
      "Rua Ministro Otávio Kelly addr:street\n",
      "Rua Ministro Otávio Kelly addr:street\n",
      "Rua Ministro Otávio Kelly addr:street\n",
      "Rua Ministro Otávio Kelly addr:street\n",
      "Rua Ministro Otávio Kelly addr:street\n",
      "Rua Ministro Otávio Kelly addr:street\n",
      "Rua Ministro Otávio Kelly addr:street\n",
      "Rua Ministro Otávio Kelly addr:street\n",
      "Rua Domingues de Sá addr:street\n",
      "Rua Domingues de Sá addr:street\n",
      "Rua Domingues de Sá addr:street\n",
      "Rua Domingues de Sá addr:street\n",
      "Rua Domingues de Sá addr:street\n",
      "Rua Domingues de Sá addr:street\n",
      "Rua Domingues de Sá addr:street\n",
      "Rua Domingues de Sá addr:street\n",
      "Rua Domingues de Sá addr:street\n",
      "Rua Domingues de Sá addr:street\n",
      "Rua Domingues de Sá addr:street\n",
      "Rua Domingues de Sá addr:street\n",
      "Rua Domingues de Sá addr:street\n",
      "Rua Domingues de Sá addr:street\n",
      "Rua Domingues de Sá addr:street\n",
      "Rua Domingues de Sá addr:street\n",
      "Nova Iguaçu addr:city\n",
      "Rua dos Quartéis addr:street\n",
      "Nova Iguaçu addr:city\n",
      "Nova Iguaçu addr:city\n",
      "Nova Iguaçu addr:city\n",
      "Nova Iguaçu addr:city\n"
     ]
    },
    {
     "name": "stderr",
     "output_type": "stream",
     "text": [
      "Processing:  75%|███████▍  | 79399/106084 [01:46<00:35, 755.69it/s]"
     ]
    },
    {
     "name": "stdout",
     "output_type": "stream",
     "text": [
      "Nova Iguaçu addr:city\n",
      "Nova Iguaçu addr:city\n",
      "Nova Iguaçu addr:city\n",
      "Rua Lopes Trovão addr:street\n",
      "Rua Lopes Trovão addr:street\n",
      "Rua Lopes Trovão addr:street\n",
      "Rua Lopes Trovão addr:street\n",
      "sitio bavaria - vale das videiras, Petrópolis name:pt\n",
      "Rua Lopes Trovão addr:street\n",
      "Rua Lopes Trovão addr:street\n",
      "Rua Gavião Peixoto addr:street\n",
      "Rua Gavião Peixoto addr:street\n",
      "Rua Gavião Peixoto addr:street\n",
      "Rua Gavião Peixoto addr:street\n",
      "Rua Lopes Trovão addr:street\n",
      "Rua Lopes Trovão addr:street\n",
      "Travessa Capitão Zeferino addr:street\n",
      "Travessa Capitão Zeferino addr:street\n",
      "Travessa Capitão Zeferino addr:street\n",
      "Travessa Capitão Zeferino addr:street\n",
      "Nova Iguaçu addr:city\n",
      "Rua dos Quartéis addr:street\n",
      "Rua Belisário Augusto addr:street\n",
      "Rua Belisário Augusto addr:street\n",
      "Rua Belisário Augusto addr:street\n",
      "Rua Belisário Augusto addr:street\n",
      "Rua Belisário Augusto addr:street\n",
      "Rua Belisário Augusto addr:street\n",
      "Rua Belisário Augusto addr:street\n",
      "Rua Belisário Augusto addr:street\n",
      "Rua Otávio Carneiro addr:street\n",
      "Rua Otávio Carneiro addr:street\n",
      "Rua Otávio Carneiro addr:street\n",
      "Rua Otávio Carneiro addr:street\n",
      "Rua Otávio Carneiro addr:street\n",
      "Rua Otávio Carneiro addr:street\n",
      "Rua Otávio Carneiro addr:street\n"
     ]
    },
    {
     "name": "stderr",
     "output_type": "stream",
     "text": [
      "Processing:  75%|███████▌  | 79632/106084 [01:46<00:34, 763.66it/s]"
     ]
    },
    {
     "name": "stdout",
     "output_type": "stream",
     "text": [
      "Rua Otávio Carneiro addr:street\n",
      "Rua Otávio Carneiro addr:street\n",
      "Rua Otávio Carneiro addr:street\n",
      "Rua Otávio Carneiro addr:street\n",
      "Rua Otávio Carneiro addr:street\n",
      "Travessa Antônio Pedro addr:street\n",
      "Travessa Antônio Pedro addr:street\n"
     ]
    },
    {
     "name": "stderr",
     "output_type": "stream",
     "text": [
      "Processing:  75%|███████▌  | 79939/106084 [01:46<00:34, 758.54it/s]"
     ]
    },
    {
     "name": "stdout",
     "output_type": "stream",
     "text": [
      "Rua Gavião Peixoto addr:street\n",
      "Niterói Ink Tattoo name:pt\n",
      "Praça Getúlio Vargas addr:street\n",
      "Rua Álvares de Azevedo addr:street\n",
      "Rua Álvares de Azevedo addr:street\n",
      "Rua Álvares de Azevedo addr:street\n",
      "Rua Álvares de Azevedo addr:street\n",
      "Rua Álvares de Azevedo addr:street\n",
      "Rua Álvares de Azevedo addr:street\n",
      "Rua Álvares de Azevedo addr:street\n",
      "Rua Álvares de Azevedo addr:street\n",
      "Rua Álvares de Azevedo addr:street\n",
      "Rua Álvares de Azevedo addr:street\n",
      "Rua Álvares de Azevedo addr:street\n",
      "Rua Álvares de Azevedo addr:street\n",
      "Rua Álvares de Azevedo addr:street\n",
      "Rua Álvares de Azevedo addr:street\n",
      "Rua Álvares de Azevedo addr:street\n",
      "Rua Álvares de Azevedo addr:street\n",
      "Avenida das Américas addr:street\n",
      "Avenida das Américas addr:street\n",
      "Avenida das Américas addr:street\n",
      "Avenida das Américas addr:street\n",
      "Avenida das Américas addr:street\n",
      "Avenida das Américas addr:street\n"
     ]
    },
    {
     "name": "stderr",
     "output_type": "stream",
     "text": [
      "Processing:  75%|███████▌  | 80091/106084 [01:47<00:34, 753.29it/s]"
     ]
    },
    {
     "name": "stdout",
     "output_type": "stream",
     "text": [
      "Rua General Glicério addr:street\n",
      "Rua General Glicério addr:street\n",
      "Rua Castilho França addr:street\n",
      "Rua Castilho França addr:street\n",
      "Niterói addr:city\n",
      "Rua Mem de Sá addr:street\n",
      "Itaú Unibanco brand\n",
      "pt:Itaú Unibanco brand:wikipedia\n",
      "Avenida Lauro Sodré addr:street\n",
      "Caixa Econômica Federal brand\n",
      "pt:Caixa Econômica Federal brand:wikipedia\n",
      "Galeão addr:suburb\n",
      "Galeão addr:suburb\n",
      "Galeão addr:suburb\n",
      "Galeão addr:suburb\n",
      "Galeão addr:suburb\n",
      "Loja de maquiagem, acessórios e cosméticos description\n"
     ]
    },
    {
     "name": "stderr",
     "output_type": "stream",
     "text": [
      "Processing:  76%|███████▌  | 80320/106084 [01:47<00:34, 750.20it/s]"
     ]
    },
    {
     "name": "stdout",
     "output_type": "stream",
     "text": [
      "Nova Iguaçu addr:city\n",
      "Praça da Liberdade addr:street\n",
      "Nova Iguaçu addr:city\n",
      "Praça da Liberdade addr:street\n",
      "Nova Iguaçu addr:city\n",
      "Praça da Liberdade addr:street\n",
      "Estrada Boiúna addr:street\n",
      "Nova Iguaçu addr:city\n",
      "Rua dos Quartéis addr:street\n"
     ]
    },
    {
     "name": "stderr",
     "output_type": "stream",
     "text": [
      "Processing:  76%|███████▌  | 80553/106084 [01:47<00:33, 762.84it/s]"
     ]
    },
    {
     "name": "stdout",
     "output_type": "stream",
     "text": [
      "Itaú Unibanco brand\n",
      "Richet Medicina & Diagnóstico operator\n",
      "Tac Franquia Indústria e Comércio Ltda. operator\n",
      "Avenida Nilo Peçanha addr:street\n"
     ]
    },
    {
     "name": "stderr",
     "output_type": "stream",
     "text": [
      "Processing:  76%|███████▌  | 80859/106084 [01:48<00:33, 752.05it/s]"
     ]
    },
    {
     "name": "stdout",
     "output_type": "stream",
     "text": [
      "São João de Meriti addr:city\n",
      "Rua Genuíno Siqueira addr:street\n",
      "Rua Voluntários da Pátria addr:street\n",
      "Rua Voluntários da Pátria addr:street\n"
     ]
    },
    {
     "name": "stderr",
     "output_type": "stream",
     "text": [
      "Processing:  77%|███████▋  | 81170/106084 [01:48<00:32, 755.87it/s]"
     ]
    },
    {
     "name": "stdout",
     "output_type": "stream",
     "text": [
      "Maricá addr:city\n",
      "Niterói addr:city\n",
      "Fábrica de Roupas, Facção, description\n",
      "Av. Cônego de Vasconcelos, 144\n",
      "Assessoria Jurídica, Compra, venda e locação de Imóveis description\n",
      "Setrans Segurança e Trânsito operator\n",
      "Rua Antônio Basílio addr:street\n",
      "Nova Iguaçu addr:city\n",
      "Estrada João Venâncio de Figueiredo addr:street\n",
      "Dois Irmãos addr:suburb\n",
      "Irajá addr:suburb\n",
      "Maricá Image Center name:en\n",
      "Avenida Brás de Pina addr:street\n",
      "Petrópolis addr:city\n",
      "Rua Irmãos D'angelo addr:street\n",
      "Avenida Brás de Pina addr:street\n",
      "en:Lindt & Sprüngli brand:wikipedia\n",
      "Rua Tomás Lopes addr:street\n",
      "Avenida Brás de Pina addr:street\n",
      "Avenida Brás de Pina addr:street\n",
      "Avenida Brás de Pina addr:street\n",
      "Avenida Brás de Pina addr:street\n",
      "Praça Marco Aurélio addr:street\n",
      "Avenida Brás de Pina addr:street\n"
     ]
    },
    {
     "name": "stderr",
     "output_type": "stream",
     "text": [
      "Processing:  77%|███████▋  | 81400/106084 [01:48<00:33, 743.29it/s]"
     ]
    },
    {
     "name": "stdout",
     "output_type": "stream",
     "text": [
      "Avenida Brás de Pina addr:street\n",
      "Avenida Brás de Pina addr:street\n",
      "Avenida Brás de Pina addr:street\n",
      "Avenida Brás de Pina addr:street\n",
      "Avenida Brás de Pina addr:street\n",
      "Rua Tomás Lopes addr:street\n",
      "Avenida das Américas addr:street\n",
      "Clínica multidisciplicar de alto padrão com at description\n",
      "Rua São João Gualberto addr:street\n",
      "Rua Ápia addr:street\n",
      "Avenida Brás de Pina addr:street\n",
      "Rua Ápia addr:street\n",
      "Gráfica Oficina Visual addr:place\n",
      "Rua São João Gualberto addr:street\n",
      "Avenida Brás de Pina addr:street\n",
      "Avenida Brás de Pina addr:street\n",
      "Avenida Brás de Pina addr:street\n",
      "Rua São João Gualberto addr:street\n",
      "Rua Ápia addr:street\n",
      "Rua Tomás Lopes addr:street\n",
      "Rua Ápia addr:street\n",
      "Rua Frísia addr:street\n",
      "Rua Ápia addr:street\n",
      "Avenida Brás de Pina addr:street\n",
      "Rua Frísia addr:street\n",
      "Rua Tomás Lopes addr:street\n",
      "Avenida Brás de Pina addr:street\n",
      "Avenida Brás de Pina addr:street\n",
      "Rua Frísia addr:street\n",
      "Avenida Brás de Pina addr:street\n",
      "Rua Engenheiro Coriolano de Góis addr:street\n",
      "Rua Engenheiro Coriolano de Góis addr:street\n",
      "Rua Antônio Storino addr:street\n",
      "Rua da Inspiração addr:street\n",
      "Praça Paulo Setubal addr:street\n",
      "Rua Tomás Lopes addr:street\n",
      "Rua da Justiça addr:street\n",
      "Rua da Inspiração addr:street\n",
      "Rua da Inspiração addr:street\n",
      "Rua da Inspiração addr:street\n",
      "Nova Iguaçu addr:city\n",
      "Rua Marquês de São Vicente addr:street\n",
      "Rua Ápia addr:street\n",
      "Rua Ápia addr:street\n",
      "Rua General Otávio Póvoa addr:street\n",
      "Rua Engenheiro Pinho de Magalhães addr:street\n",
      "Praça Paulo Setubal addr:street\n",
      "Rua da Inspiração addr:street\n",
      "Avenida Brás de Pina addr:street\n",
      "Rua São João Gualberto addr:street\n",
      "Rua Ápia addr:street\n",
      "Rua da Inspiração addr:street\n",
      "Rua Frísia addr:street\n",
      "Rua Tomás Lopes addr:street\n",
      "Rua São João Gualberto addr:street\n"
     ]
    },
    {
     "name": "stderr",
     "output_type": "stream",
     "text": [
      "Processing:  77%|███████▋  | 81477/106084 [01:48<00:32, 747.32it/s]"
     ]
    },
    {
     "name": "stdout",
     "output_type": "stream",
     "text": [
      "Avenida Brás de Pina addr:street\n",
      "Praça Paulo Setubal addr:street\n",
      "Rua São João Gualberto addr:street\n",
      "Rua Tomás Lopes addr:street\n",
      "Rua São João Gualberto addr:street\n",
      "Rua General Otávio Póvoa addr:street\n",
      "Rua Honório Pimentel addr:street\n",
      "Avenida Brás de Pina addr:street\n",
      "Rua São João Gualberto addr:street\n",
      "Travessa da Confiança addr:street\n",
      "Avenida Brás de Pina addr:street\n",
      "Travessa da Confiança addr:street\n",
      "Avenida Brás de Pina addr:street\n",
      "Avenida Brás de Pina addr:street\n",
      "Avenida Brás de Pina addr:street\n",
      "Avenida Brás de Pina addr:street\n",
      "Rua da Justiça addr:street\n",
      "Rua da Justiça addr:street\n",
      "Rua São João Gualberto addr:street\n",
      "Rua São João Gualberto addr:street\n",
      "Rua da Justiça addr:street\n",
      "Rua São João Gualberto addr:street\n",
      "Rua São João Gualberto addr:street\n",
      "Rua São João Gualberto addr:street\n",
      "Avenida Brás de Pina addr:street\n",
      "Rua da Justiça addr:street\n",
      "Rua da Justiça addr:street\n",
      "Rua Antônio Storino addr:street\n",
      "Avenida Brás de Pina addr:street\n",
      "Avenida Brás de Pina addr:street\n",
      "Avenida Brás de Pina addr:street\n",
      "Avenida Brás de Pina addr:street\n",
      "Avenida Brás de Pina addr:street\n",
      "Rua Araraí addr:street\n",
      "Rua Araraí addr:street\n",
      "Rua Antônio Storino addr:street\n"
     ]
    },
    {
     "name": "stderr",
     "output_type": "stream",
     "text": [
      "Processing:  77%|███████▋  | 81708/106084 [01:49<00:32, 757.45it/s]"
     ]
    },
    {
     "name": "stdout",
     "output_type": "stream",
     "text": [
      "Rua Antônio Storino addr:street\n",
      "Praça Paulo Setubal addr:street\n",
      "Rua São João Gualberto addr:street\n",
      "Rua São João Gualberto addr:street\n",
      "Praça Paulo Setubal addr:street\n",
      "Rua São João Gualberto addr:street\n",
      "Praça Paulo Setubal addr:street\n",
      "Praça Paulo Setubal addr:street\n",
      "Avenida Brás de Pina addr:street\n",
      "Avenida Brás de Pina addr:street\n",
      "Rua Flamínia addr:street\n",
      "Rua Flamínia addr:street\n",
      "Rua Alice Tibiriçá addr:street\n",
      "Rua Flamínia addr:street\n",
      "Rua Flamínia addr:street\n",
      "Rua Alice Tibiriçá addr:street\n",
      "Rua Flamínia addr:street\n",
      "Rua Tessália addr:street\n",
      "Rua Ápia addr:street\n",
      "Rua Tessália addr:street\n",
      "Rua Tessália addr:street\n",
      "Rua Ápia addr:street\n",
      "Avenida Brás de Pina addr:street\n",
      "Avenida Brás de Pina addr:street\n",
      "Centenário addr:suburb\n",
      "Rua Antônio Storino addr:street\n",
      "Rua da Inspiração addr:street\n",
      "Avenida Brás de Pina addr:street\n",
      "Rua da Inspiração addr:street\n",
      "Rua da Inspiração addr:street\n",
      "Rua da Inspiração addr:street\n",
      "Rua Antônio Storino addr:street\n",
      "Rua Antônio Storino addr:street\n",
      "Rua da Inspiração addr:street\n",
      "Rua da Inspiração addr:street\n",
      "Rua da Inspiração addr:street\n",
      "Rua Antônio Storino addr:street\n",
      "Rua da Inspiração addr:street\n",
      "Rua da Inspiração addr:street\n",
      "Avenida Brás de Pina addr:street\n",
      "Rua da Justiça addr:street\n",
      "Rua da Justiça addr:street\n",
      "Rua São João Gualberto addr:street\n",
      "Avenida Brás de Pina addr:street\n",
      "Avenida Brás de Pina addr:street\n",
      "Rua São João Gualberto addr:street\n"
     ]
    },
    {
     "name": "stderr",
     "output_type": "stream",
     "text": [
      "Processing:  77%|███████▋  | 81784/106084 [01:49<00:32, 749.21it/s]"
     ]
    },
    {
     "name": "stdout",
     "output_type": "stream",
     "text": [
      "Avenida Tinguá addr:street\n",
      "Vila do tinguá addr:suburb\n",
      "Estrada do Quafá addr:street\n",
      "Santíssimo addr:suburb\n",
      "Rua Antônio Storino addr:street\n",
      "Rua São João Gualberto addr:street\n",
      "Rua São João Gualberto addr:street\n",
      "Rua São João Gualberto addr:street\n",
      "Rua São João Gualberto addr:street\n",
      "Rua da Justiça addr:street\n",
      "Rua São João Gualberto addr:street\n",
      "Avenida Brás de Pina addr:street\n",
      "Rua São João Gualberto addr:street\n",
      "Avenida Brás de Pina addr:street\n",
      "Avenida Brás de Pina addr:street\n",
      "Avenida Brás de Pina addr:street\n",
      "Avenida Brás de Pina addr:street\n",
      "Rua Tomás Lopes addr:street\n",
      "Avenida Brás de Pina addr:street\n",
      "Avenida Brás de Pina addr:street\n",
      "Avenida Brás de Pina addr:street\n",
      "Avenida Brás de Pina addr:street\n",
      "Avenida Brás de Pina addr:street\n",
      "Avenida Brás de Pina addr:street\n",
      "Avenida Brás de Pina addr:street\n",
      "Rua da Inspiração addr:street\n",
      "açaí cuisine\n",
      "Rua da Inspiração addr:street\n",
      "Rua da Inspiração addr:street\n",
      "Rua Tomás Lopes addr:street\n",
      "Avenida Brás de Pina addr:street\n",
      "Rua Tomás Lopes addr:street\n",
      "Avenida Brás de Pina addr:street\n",
      "Rua Tomás Lopes addr:street\n",
      "Rua General Otávio Póvoa addr:street\n",
      "Rua São João Gualberto addr:street\n",
      "Estrada da Gávea addr:street\n",
      "Estrada da Gávea addr:street\n",
      "Rua da Inspiração addr:street\n",
      "Rua Engenheiro Coriolano de Góis addr:street\n",
      "Rua Tomás Lopes addr:street\n",
      "Rua Antônio Braune addr:street\n",
      "Rua Tomás Lopes addr:street\n"
     ]
    },
    {
     "name": "stderr",
     "output_type": "stream",
     "text": [
      "Processing:  77%|███████▋  | 82012/106084 [01:49<00:32, 748.24it/s]"
     ]
    },
    {
     "name": "stdout",
     "output_type": "stream",
     "text": [
      "Avenida Brás de Pina addr:street\n",
      "Avenida Brás de Pina addr:street\n",
      "Avenida Brás de Pina addr:street\n",
      "Avenida Brás de Pina addr:street\n",
      "Avenida Brás de Pina addr:street\n",
      "Avenida Brás de Pina addr:street\n",
      "Avenida Brás de Pina addr:street\n",
      "Avenida Brás de Pina addr:street\n",
      "Avenida Brás de Pina addr:street\n",
      "Avenida Brás de Pina addr:street\n",
      "Avenida Brás de Pina addr:street\n",
      "Avenida Brás de Pina addr:street\n",
      "Avenida Brás de Pina addr:street\n",
      "Óticas Diniz brand\n",
      "pt:Óticas Diniz brand:wikipedia\n",
      "Praça Paulo Setubal addr:street\n",
      "Rua da Justiça addr:street\n",
      "Rua Antônio Storino addr:street\n",
      "Avenida Brás de Pina addr:street\n",
      "Avenida Brás de Pina addr:street\n",
      "Avenida Brás de Pina addr:street\n",
      "Avenida Brás de Pina addr:street\n",
      "Rua da Justiça addr:street\n",
      "Nova Iguaçu addr:city\n",
      "Rua da Justiça addr:street\n",
      "Avenida Brás de Pina addr:street\n",
      "Praça Rubey Wanderley addr:street\n",
      "Avenida Brás de Pina addr:street\n",
      "Rua São João Gualberto addr:street\n",
      "Avenida Brás de Pina addr:street\n",
      "Avenida Brás de Pina addr:street\n",
      "Avenida Brás de Pina addr:street\n",
      "Avenida Brás de Pina addr:street\n",
      "Avenida Brás de Pina addr:street\n",
      "Avenida Brás de Pina addr:street\n",
      "Rua São João Gualberto addr:street\n",
      "Avenida Brás de Pina addr:street\n",
      "regional;açai cuisine\n",
      "Rua Ápia addr:street\n",
      "Rua Ápia addr:street\n",
      "Rua Ápia addr:street\n",
      "Rua Ápia addr:street\n",
      "Rua Ápia addr:street\n",
      "Praça Marco Aurélio addr:street\n",
      "Rua Flamínia addr:street\n",
      "Rua Flamínia addr:street\n",
      "Praça Marco Aurélio addr:street\n",
      "Rua General Otávio Póvoa addr:street\n",
      "Rua General Otávio Póvoa addr:street\n",
      "Rua Tomás Lopes addr:street\n",
      "Rua Tomás Lopes addr:street\n",
      "Rua Alice Tibiriçá addr:street\n",
      "Avenida Brás de Pina addr:street\n",
      "Avenida Brás de Pina addr:street\n",
      "Rua Ápia addr:street\n",
      "Caixa Econômica Federal brand\n",
      "pt:Caixa Econômica Federal brand:wikipedia\n",
      "Rua Coronel Camisão addr:street\n"
     ]
    },
    {
     "name": "stderr",
     "output_type": "stream",
     "text": [
      "Processing:  77%|███████▋  | 82087/106084 [01:49<00:32, 747.07it/s]"
     ]
    },
    {
     "name": "stdout",
     "output_type": "stream",
     "text": [
      "Rua Coronel Camisão addr:street\n",
      "Rua Coronel Camisão addr:street\n",
      "Maricá addr:city\n",
      "Rua João Dos Santos Leal addr:street\n",
      "Rua Gonçalves dos Santos addr:street\n",
      "Rua Gonçalves dos Santos addr:street\n",
      "Rua Gonçalves dos Santos addr:street\n",
      "Rua Gonçalves dos Santos addr:street\n",
      "Avenida Brás de Pina addr:street\n",
      "Rua São João Gualberto addr:street\n",
      "Rua São João Gualberto addr:street\n",
      "Rua São João Gualberto addr:street\n",
      "Rua Araraí addr:street\n",
      "Rua Araraí addr:street\n",
      "Rua São João Gualberto addr:street\n",
      "Rua Alice Tibiriçá addr:street\n",
      "Rua Alice Tibiriçá addr:street\n",
      "Rua São João Gualberto addr:street\n",
      "Rua São João Gualberto addr:street\n",
      "Rua São João Gualberto addr:street\n",
      "Rua São João Gualberto addr:street\n",
      "Rua Araraí addr:street\n",
      "Rua Araraí addr:street\n",
      "Rua Alice Tibiriçá addr:street\n",
      "Avenida Brás de Pina addr:street\n",
      "açaí cuisine\n",
      "Rua General Otávio Póvoa addr:street\n",
      "Rua General Otávio Póvoa addr:street\n",
      "Rua Ápia addr:street\n",
      "Rua Ápia addr:street\n",
      "Petrópolis addr:city\n",
      "Corrêas addr:suburb\n",
      "Smartën operator\n",
      "São Gonçalo addr:city\n",
      "São Gonçalo addr:city\n",
      "Santíssimo addr:suburb\n",
      "pt:Parada Angélica wikipedia\n",
      "Rua Joaquim Peçanha addr:street\n",
      "Érika Soares operator\n",
      "Rua General Otávio Póvoa addr:street\n",
      "Rua General Otávio Póvoa addr:street\n",
      "Estrada dos Três Rios addr:street\n",
      "Rua Guaraí addr:street\n"
     ]
    },
    {
     "name": "stderr",
     "output_type": "stream",
     "text": [
      "Processing:  78%|███████▊  | 82319/106084 [01:49<00:31, 760.45it/s]"
     ]
    },
    {
     "name": "stdout",
     "output_type": "stream",
     "text": [
      "Teresópolis addr:city\n",
      "Várzea addr:suburb\n",
      "Avenida Doutor Carvalhães addr:street\n",
      "Jacarepaguá addr:suburb\n",
      "Fundão destination\n",
      "Galeão destination\n",
      "Pingo d'Água destination\n",
      "Niterói addr:city\n",
      "Rua São Januário addr:street\n"
     ]
    },
    {
     "name": "stderr",
     "output_type": "stream",
     "text": [
      "Processing:  78%|███████▊  | 82551/106084 [01:50<00:31, 755.64it/s]"
     ]
    },
    {
     "name": "stdout",
     "output_type": "stream",
     "text": [
      "São Gonçalo addr:city\n",
      "açaí cuisine\n",
      "Niterói addr:city\n",
      "Niterói addr:city\n",
      "Niterói addr:city\n",
      "Rua Trovador Luís Otávio addr:street\n",
      "São Gonçalo addr:city\n",
      "Secretaria Municipal de Transportes de Magé operator\n",
      "Avenida das Américas, 500 addr:street\n",
      "Teresópolis addr:city\n",
      "Várzea addr:suburb\n",
      "itanhangá addr:suburb\n",
      "Maricá addr:city\n",
      "Inoã addr:suburb\n",
      "Auto Ôninus Vera Cruz operator\n"
     ]
    },
    {
     "name": "stderr",
     "output_type": "stream",
     "text": [
      "Processing:  78%|███████▊  | 83169/106084 [01:51<00:30, 761.03it/s]"
     ]
    },
    {
     "name": "stdout",
     "output_type": "stream",
     "text": [
      "Metrô Rio operator\n"
     ]
    },
    {
     "name": "stderr",
     "output_type": "stream",
     "text": [
      "Processing:  79%|███████▊  | 83400/106084 [01:51<00:29, 761.33it/s]"
     ]
    },
    {
     "name": "stdout",
     "output_type": "stream",
     "text": [
      "nova iguaçu addr:city\n",
      "Rua Hélio Miranda addr:street\n",
      "Nova Iguaçu addr:city\n",
      "Nova Iguaçu addr:city\n"
     ]
    },
    {
     "name": "stderr",
     "output_type": "stream",
     "text": [
      "Processing:  79%|███████▉  | 83708/106084 [01:51<00:29, 761.86it/s]"
     ]
    },
    {
     "name": "stdout",
     "output_type": "stream",
     "text": [
      "Rua dos Inválidos addr:street\n"
     ]
    },
    {
     "name": "stderr",
     "output_type": "stream",
     "text": [
      "Processing:  80%|███████▉  | 84485/106084 [01:52<00:28, 767.62it/s]"
     ]
    },
    {
     "name": "stdout",
     "output_type": "stream",
     "text": [
      "Estrada Intendente Magalhães addr:street\n",
      "Rua Doutor Getúlio Vargas addr:street\n"
     ]
    },
    {
     "name": "stderr",
     "output_type": "stream",
     "text": [
      "Processing:  80%|████████  | 84870/106084 [01:53<00:28, 755.32it/s]"
     ]
    },
    {
     "name": "stdout",
     "output_type": "stream",
     "text": [
      "Clínica estética, dermatologia e nutrição. description\n",
      "Rua Mercúrio addr:street\n"
     ]
    },
    {
     "name": "stderr",
     "output_type": "stream",
     "text": [
      "Processing:  80%|████████  | 85250/106084 [01:53<00:27, 753.14it/s]"
     ]
    },
    {
     "name": "stdout",
     "output_type": "stream",
     "text": [
      "Nova Iguaçu addr:city\n",
      "católica denomination\n",
      "Secretaria Municipal de Transportes de Magé operator\n"
     ]
    },
    {
     "name": "stderr",
     "output_type": "stream",
     "text": [
      "Processing:  81%|████████  | 85708/106084 [01:54<00:27, 753.15it/s]"
     ]
    },
    {
     "name": "stdout",
     "output_type": "stream",
     "text": [
      "Avenida Nilo Peçanha addr:street\n",
      "Rua Imboaçu addr:street\n"
     ]
    },
    {
     "name": "stderr",
     "output_type": "stream",
     "text": [
      "Processing:  82%|████████▏ | 86780/106084 [01:55<00:25, 751.98it/s]"
     ]
    },
    {
     "name": "stdout",
     "output_type": "stream",
     "text": [
      "Avenida Doutor Eugênio Borges addr:street\n",
      "Rua José Bonifácio addr:street\n"
     ]
    },
    {
     "name": "stderr",
     "output_type": "stream",
     "text": [
      "Processing:  85%|████████▍ | 90115/106084 [02:00<00:21, 755.36it/s]"
     ]
    },
    {
     "name": "stdout",
     "output_type": "stream",
     "text": [
      "Nova Iguaçu addr:city\n",
      "Irajá addr:suburb\n",
      "Rua Ewbank da Câmara addr:street\n",
      "Nilópolis addr:city\n",
      "Rua João Pessoa addr:street\n",
      "Nova Iguaçu addr:city\n",
      "Avenida Dom Hélder Câmara addr:street\n",
      "São João de Meriti addr:city\n",
      "Rua São Pedro addr:street\n",
      "Rua São Francisco Xavier addr:street\n",
      "Transportes Braso Lisboa/ Viação Ideal operator\n",
      "Atacadão brand\n",
      "Árvore da Patrícia - Em memória de uma corajosa brasileira que, em dias de menosprezo à vida e impunidade, combateu com autonomia o crime organizado no Estado do Rio de Janeiro. inscription\n"
     ]
    },
    {
     "name": "stderr",
     "output_type": "stream",
     "text": [
      "Processing:  85%|████████▌ | 90269/106084 [02:00<00:20, 756.90it/s]"
     ]
    },
    {
     "name": "stdout",
     "output_type": "stream",
     "text": [
      "Nova Iguaçu addr:city\n",
      "Rua dos Quartéis addr:street\n",
      "Nova Iguaçu addr:city\n",
      "Rua Tomás Fonseca addr:street\n",
      "Nova Iguaçu addr:city\n",
      "Rua Tomás Fonseca addr:street\n",
      "Nova Iguaçu addr:city\n",
      "Rua Tomás Fonseca addr:street\n",
      "Nova Iguaçu addr:city\n",
      "Rua Tomás Fonseca addr:street\n",
      "Nova Iguaçu addr:city\n",
      "Rua Luís Sobral addr:street\n"
     ]
    },
    {
     "name": "stderr",
     "output_type": "stream",
     "text": [
      "Processing:  85%|████████▌ | 90499/106084 [02:00<00:20, 760.52it/s]"
     ]
    },
    {
     "name": "stdout",
     "output_type": "stream",
     "text": [
      "Polícia Rodoviária Federal operator\n",
      "pt:Polícia Rodoviária Federal operator:wikipedia\n",
      "Nova Iguaçu addr:city\n",
      "Rua Santo Antônio addr:street\n",
      "Nova Iguaçu addr:city\n",
      "Nova Iguaçu addr:city\n",
      "Rua Santo Antônio addr:street\n",
      "Nova Iguaçu addr:city\n",
      "Rua Santo Antônio addr:street\n",
      "Nova Iguaçu addr:city\n",
      "Rua Santo Antônio addr:street\n",
      "Nova Iguaçu addr:city\n",
      "Rua Santo Antônio addr:street\n",
      "Nova Iguaçu addr:city\n",
      "Rua Santo Antônio addr:street\n",
      "Nova Iguaçu addr:city\n",
      "Rua Santo Antônio addr:street\n",
      "Nova Iguaçu addr:city\n",
      "Rua Santo Antônio addr:street\n",
      "Nova Iguaçu addr:city\n",
      "Nova Iguaçu addr:city\n",
      "Rua Santo Antônio addr:street\n",
      "Nova Iguaçu addr:city\n",
      "Rua Santo Antônio addr:street\n",
      "Nova Iguaçu addr:city\n",
      "Rua Santo Antônio addr:street\n",
      "Nova Iguaçu addr:city\n",
      "Rua Santo Antônio addr:street\n",
      "Nova Iguaçu addr:city\n",
      "Rua Santo Antônio addr:street\n",
      "Nova Iguaçu addr:city\n",
      "Rua Santo Antônio addr:street\n",
      "Nova Iguaçu addr:city\n",
      "Rua Santo Antônio addr:street\n",
      "Nova Iguaçu addr:city\n",
      "Rua Santo Antônio addr:street\n",
      "Nova Iguaçu addr:city\n",
      "Rua Santo Antônio addr:street\n",
      "Nova Iguaçu addr:city\n",
      "Rua Santo Antônio addr:street\n",
      "Nova Iguaçu addr:city\n",
      "Rua Santo Antônio addr:street\n",
      "Nova Iguaçu addr:city\n",
      "Nova Iguaçu addr:city\n",
      "Nova Iguaçu addr:city\n",
      "Nova Iguaçu addr:city\n",
      "Nova Iguaçu addr:city\n",
      "Nova Iguaçu addr:city\n",
      "Nova Iguaçu addr:city\n",
      "Nova Iguaçu addr:city\n",
      "Nova Iguaçu addr:city\n",
      "Nova Iguaçu addr:city\n",
      "Nova Iguaçu addr:city\n",
      "Nova Iguaçu addr:city\n",
      "Nova Iguaçu addr:city\n",
      "Nova Iguaçu addr:city\n",
      "Nova Iguaçu addr:city\n",
      "Beco Guimarães addr:street\n",
      "Nova Iguaçu addr:city\n",
      "Rua Grajaú addr:street\n",
      "Nova Iguaçu addr:city\n",
      "Nova Iguaçu addr:city\n",
      "Nova Iguaçu addr:city\n",
      "Avenida Abílio Augusto Távora addr:street\n",
      "Nova Iguaçu addr:city\n",
      "Polícia Rodoviária Federal operator\n",
      "pt:Polícia Rodoviária Federal operator:wikipedia\n",
      "Polícia Rodoviária Federal operator\n",
      "pt:Polícia Rodoviária Federal operator:wikipedia\n",
      "Polícia Rodoviária Federal operator\n",
      "pt:Polícia Rodoviária Federal operator:wikipedia\n",
      "Nova Iguaçu addr:city\n"
     ]
    },
    {
     "name": "stderr",
     "output_type": "stream",
     "text": [
      "Processing:  85%|████████▌ | 90653/106084 [02:00<00:20, 741.15it/s]"
     ]
    },
    {
     "name": "stdout",
     "output_type": "stream",
     "text": [
      "Nova Iguaçu addr:city\n",
      "Rua dos Quartéis addr:street\n",
      "Nova Iguaçu addr:city\n",
      "Rua dos Quartéis addr:street\n",
      "Nova Iguaçu addr:city\n",
      "Rua dos Quartéis addr:street\n",
      "Nova Iguaçu addr:city\n",
      "Rua dos Quartéis addr:street\n",
      "Nova Iguaçu addr:city\n",
      "Rua dos Quartéis addr:street\n",
      "Nova Iguaçu addr:city\n",
      "Rua dos Quartéis addr:street\n",
      "Nova Iguaçu addr:city\n",
      "Rua dos Quartéis addr:street\n",
      "Nova Iguaçu addr:city\n",
      "Nova Iguaçu addr:city\n",
      "Nova Iguaçu addr:city\n",
      "Nova Iguaçu addr:city\n",
      "Nova Iguaçu addr:city\n",
      "Nova Iguaçu addr:city\n",
      "Nova Iguaçu addr:city\n",
      "Nova Iguaçu addr:city\n",
      "Nova Iguaçu addr:city\n",
      "Nova Iguaçu addr:city\n",
      "Nova Iguaçu addr:city\n",
      "Nova Iguaçu addr:city\n",
      "Nova Iguaçu addr:city\n",
      "Nova Iguaçu addr:city\n",
      "Nova Iguaçu addr:city\n",
      "Nova Iguaçu addr:city\n",
      "Nova Iguaçu addr:city\n",
      "Nova Iguaçu addr:city\n",
      "Nova Iguaçu addr:city\n",
      "Nova Iguaçu addr:city\n",
      "Nova Iguaçu addr:city\n",
      "Nova Iguaçu addr:city\n",
      "Nova Iguaçu addr:city\n",
      "Nova Iguaçu addr:city\n",
      "Nova Iguaçu addr:city\n",
      "Nova Iguaçu addr:city\n",
      "Nova Iguaçu addr:city\n",
      "Nova Iguaçu addr:city\n",
      "Nova Iguaçu addr:city\n",
      "Nova Iguaçu addr:city\n",
      "Nova Iguaçu addr:city\n",
      "Nova Iguaçu addr:city\n",
      "Nova Iguaçu addr:city\n",
      "Nova Iguaçu addr:city\n",
      "Nova Iguaçu addr:city\n",
      "Nova Iguaçu addr:city\n",
      "Nova Iguaçu addr:city\n",
      "Nova Iguaçu addr:city\n",
      "Nova Iguaçu addr:city\n",
      "Nova Iguaçu addr:city\n",
      "Empresa Brasileira de Correios e Telégrafos brand\n",
      "Nova Iguaçu addr:city\n",
      "Rua dos Quartéis addr:street\n",
      "Nova Iguaçu addr:city\n",
      "Rua dos Quartéis addr:street\n",
      "Nova Iguaçu addr:city\n",
      "Rua dos Quartéis addr:street\n",
      "Nova Iguaçu addr:city\n",
      "Nova Iguaçu addr:city\n",
      "Rua dos Quartéis addr:street\n",
      "Nova Iguaçu addr:city\n",
      "Nova Iguaçu addr:city\n",
      "Nova Iguaçu addr:city\n",
      "Nova Iguaçu addr:city\n",
      "Nova Iguaçu addr:city\n",
      "Nova Iguaçu addr:city\n",
      "Nova Iguaçu addr:city\n",
      "Nova Iguaçu addr:city\n",
      "Nova Iguaçu addr:city\n",
      "Nova Iguaçu addr:city\n",
      "Nova Iguaçu addr:city\n",
      "Nova Iguaçu addr:city\n",
      "Nova Iguaçu addr:city\n",
      "Nova Iguaçu addr:city\n",
      "Nova Iguaçu addr:city\n",
      "Nova Iguaçu addr:city\n",
      "Nova Iguaçu addr:city\n",
      "Nova Iguaçu addr:city\n",
      "Nova Iguaçu addr:city\n",
      "Nova Iguaçu addr:city\n",
      "Nova Iguaçu addr:city\n",
      "Nova Iguaçu addr:city\n",
      "São Gonçalo addr:city\n",
      "Rua Doutor Nilo Peçanha addr:street\n",
      "Estúdio de tatuagem description\n",
      "Drogaria São Paulo brand\n",
      "Nova Iguaçu addr:city\n",
      "Nova Iguaçu addr:city\n",
      "Nova Iguaçu addr:city\n",
      "Nova Iguaçu addr:city\n",
      "Nova Iguaçu addr:city\n",
      "Nova Iguaçu addr:city\n",
      "Nova Iguaçu addr:city\n",
      "Nova Iguaçu addr:city\n",
      "Nova Iguaçu addr:city\n",
      "Nova Iguaçu addr:city\n",
      "Nova Iguaçu addr:city\n",
      "Nova Iguaçu addr:city\n",
      "Nova Iguaçu addr:city\n",
      "Nova Iguaçu addr:city\n",
      "Nova Iguaçu addr:city\n",
      "Nova Iguaçu addr:city\n",
      "Nova Iguaçu addr:city\n",
      "Nova Iguaçu addr:city\n",
      "Nova Iguaçu addr:city\n",
      "Nova Iguaçu addr:city\n",
      "Nova Iguaçu addr:city\n",
      "Nova Iguaçu addr:city\n",
      "Nova Iguaçu addr:city\n",
      "Nova Iguaçu addr:city\n",
      "Nova Iguaçu addr:city\n",
      "Nova Iguaçu addr:city\n",
      "Nova Iguaçu addr:city\n",
      "Nova Iguaçu addr:city\n",
      "Nova Iguaçu addr:city\n",
      "Nova Iguaçu addr:city\n",
      "Nova Iguaçu addr:city\n",
      "Nova Iguaçu addr:city\n",
      "Nova Iguaçu addr:city\n",
      "Nova Iguaçu addr:city\n",
      "Nova Iguaçu addr:city\n",
      "Nova Iguaçu addr:city\n",
      "Nova Iguaçu addr:city\n",
      "Nova Iguaçu addr:city\n",
      "Nova Iguaçu addr:city\n",
      "Nova Iguaçu addr:city\n"
     ]
    },
    {
     "name": "stderr",
     "output_type": "stream",
     "text": [
      "Processing:  86%|████████▌ | 90881/106084 [02:01<00:20, 749.57it/s]"
     ]
    },
    {
     "name": "stdout",
     "output_type": "stream",
     "text": [
      "Nova Iguaçu addr:city\n",
      "Nova Iguaçu addr:city\n",
      "Nova Iguaçu addr:city\n",
      "Nova Iguaçu addr:city\n",
      "Nova Iguaçu addr:city\n",
      "Nova Iguaçu addr:city\n",
      "Nova Iguaçu addr:city\n",
      "Nova Iguaçu addr:city\n",
      "Nova Iguaçu addr:city\n",
      "Nova Iguaçu addr:city\n",
      "Nova Iguaçu addr:city\n",
      "Nova Iguaçu addr:city\n",
      "Nova Iguaçu addr:city\n",
      "Nova Iguaçu addr:city\n",
      "Rua Álvaro Fonseca addr:street\n",
      "Nova Iguaçu addr:city\n",
      "Rua Álvaro Fonseca addr:street\n",
      "Nova Iguaçu addr:city\n",
      "Rua Álvaro Fonseca addr:street\n",
      "Nova Iguaçu addr:city\n",
      "Rua Álvaro Fonseca addr:street\n",
      "Nova Iguaçu addr:city\n",
      "Rua Álvaro Fonseca addr:street\n",
      "Nova Iguaçu addr:city\n",
      "Rua Álvaro Fonseca addr:street\n",
      "Nova Iguaçu addr:city\n",
      "Rua Álvaro Fonseca addr:street\n",
      "Nova Iguaçu addr:city\n",
      "Rua Álvaro Fonseca addr:street\n",
      "Nova Iguaçu addr:city\n",
      "Rua Álvaro Fonseca addr:street\n",
      "Nova Iguaçu addr:city\n",
      "Rua Álvaro Fonseca addr:street\n",
      "Nova Iguaçu addr:city\n",
      "Rua Álvaro Fonseca addr:street\n",
      "Nova Iguaçu addr:city\n",
      "Rua Álvaro Fonseca addr:street\n",
      "Nova Iguaçu addr:city\n",
      "Rua Álvaro Fonseca addr:street\n",
      "Nova Iguaçu addr:city\n",
      "Rua Álvaro Fonseca addr:street\n",
      "Nova Iguaçu addr:city\n",
      "Nova Iguaçu addr:city\n",
      "Nova Iguaçu addr:city\n",
      "Nova Iguaçu addr:city\n",
      "Nova Iguaçu addr:city\n",
      "Nova Iguaçu addr:city\n",
      "Nova Iguaçu addr:city\n",
      "Nova Iguaçu addr:city\n",
      "Nova Iguaçu addr:city\n",
      "Nova Iguaçu addr:city\n",
      "Nova Iguaçu addr:city\n",
      "Nova Iguaçu addr:city\n",
      "Nova Iguaçu addr:city\n",
      "Nova Iguaçu addr:city\n",
      "Nova Iguaçu addr:city\n",
      "Nova Iguaçu addr:city\n",
      "Nova Iguaçu addr:city\n",
      "Nova Iguaçu addr:city\n",
      "Nova Iguaçu addr:city\n",
      "Nova Iguaçu addr:city\n",
      "Nova Iguaçu addr:city\n",
      "Nova Iguaçu addr:city\n",
      "Nova Iguaçu addr:city\n",
      "Nova Iguaçu addr:city\n",
      "Nova Iguaçu addr:city\n",
      "Nova Iguaçu addr:city\n",
      "Nova Iguaçu addr:city\n",
      "Nova Iguaçu addr:city\n",
      "Nova Iguaçu addr:city\n",
      "Nova Iguaçu addr:city\n",
      "Nova Iguaçu addr:city\n",
      "Nova Iguaçu addr:city\n",
      "Nova Iguaçu addr:city\n",
      "Nova Iguaçu addr:city\n",
      "Polícia Militar do Estado do Rio de Janeiro operator\n",
      "pt:Polícia Militar do Estado do Rio de Janeiro operator:wikipedia\n"
     ]
    },
    {
     "name": "stderr",
     "output_type": "stream",
     "text": [
      "Processing:  86%|████████▌ | 91034/106084 [02:01<00:20, 752.02it/s]"
     ]
    },
    {
     "name": "stdout",
     "output_type": "stream",
     "text": [
      "Sábado opera de 09:00 às 16:00. description\n",
      "Avenida Mem de Sá addr:street\n",
      "MetrôRio operator\n",
      "Avenida das Américas addr:street\n",
      "Nova Iguaçu addr:city\n",
      "Estrada Boa Esperança addr:street\n",
      "Tinguá addr:suburb\n"
     ]
    },
    {
     "name": "stderr",
     "output_type": "stream",
     "text": [
      "Processing:  86%|████████▌ | 91187/106084 [02:01<00:19, 754.17it/s]"
     ]
    },
    {
     "name": "stdout",
     "output_type": "stream",
     "text": [
      "Avenida das Américas addr:street\n",
      "Assaí Atacadista operator\n",
      "Rua Cândido Benício addr:street\n",
      "Petrópolis addr:city\n",
      "Rua Gonçalves Dias addr:street\n",
      "Valparaíso addr:suburb\n",
      "Ao Dr. Washington Luiz\n",
      "O povo de Petrópolis\n",
      "1928 inscription\n",
      "Petrópolis addr:city\n",
      "Rua Gonçalves Dias addr:street\n",
      "Valparaíso addr:suburb\n",
      "Petrópolis addr:city\n",
      "Rua Gonçalves Dias addr:street\n",
      "Valparaíso addr:suburb\n"
     ]
    },
    {
     "name": "stderr",
     "output_type": "stream",
     "text": [
      "Processing:  86%|████████▌ | 91493/106084 [02:02<00:19, 760.33it/s]"
     ]
    },
    {
     "name": "stdout",
     "output_type": "stream",
     "text": [
      "Petrópolis addr:city\n",
      "Rua Nóbrega addr:street\n",
      "Rua Nóbrega addr:street\n",
      "São João de Meriti addr:city\n",
      "São Mateus addr:suburb\n",
      "Este Obelisco, marco comemorativo do 1º centenário da elevação de Petrópolis à categoria de cidade, foi mandado erigir pelo prefeito Dr. Flávio Castrioto de Figueiredo e Mello para, perpetuando o nom inscription\n",
      "Petrópolis a seus Heróis\n",
      "Na grande guerra, para a vitória final, em 1945, mandou o Brasil uma valente força, da qual fizeram parte 200 petropolitanos. Destes tombaram no campo da honra: \n",
      "João Ma inscription\n",
      "Rua Lopes Trovão addr:street\n",
      "Rua Lopes Trovão addr:street\n",
      "Rua Lopes Trovão addr:street\n",
      "Rua Lopes Trovão addr:street\n",
      "Niterói addr:city\n",
      "Avenida Automóvel Clube addr:street\n",
      "Avenida Doutor José Geraldo Bezerra de Menezes addr:street\n",
      "Rua Professora Alica Picanço addr:street\n",
      "Niterói addr:city\n",
      "Rua Doutor Paulo César addr:street\n",
      "Rua Begônia addr:street\n",
      "Avenida Automóvel Clube addr:street\n",
      "Rua Professor Gonçalves addr:street\n",
      "Rua Begônia addr:street\n",
      "Rua Presidente João Pessoa addr:street\n",
      "Niterói addr:city\n",
      "Niterói addr:city\n",
      "Niterói addr:city\n",
      "Avenida dos Democráticos addr:street\n",
      "Niterói addr:city\n",
      "Rua Antônio Parreiras addr:street\n"
     ]
    },
    {
     "name": "stderr",
     "output_type": "stream",
     "text": [
      "Processing:  86%|████████▋ | 91646/106084 [02:02<00:19, 752.00it/s]"
     ]
    },
    {
     "name": "stdout",
     "output_type": "stream",
     "text": [
      "Niterói addr:city\n",
      "Niterói addr:city\n",
      "Niterói addr:city\n",
      "Rua Júlio César addr:street\n",
      "Avenida Automóvel Clube addr:street\n",
      "Rua Begônia addr:street\n",
      "Rua Begônia addr:street\n",
      "Contém um carrilhão de cinco sinos de bronze, fundidos na Alemanha, pesando nove toneladas. description\n",
      "pt:Mausoléu Imperial wikipedia\n",
      "pt:Azálea wikipedia\n",
      "Aos pioneiros da Aviação\n",
      "Santos Dumont dando asas ao mundo em 1906\n",
      "Gago Coutinho e Sacadura Cabral atravessando o Atlântico em 1922 inscription\n",
      "A Nelson de Sá Earp, médico, homem público, literato e professor.\n",
      "A cidade de Petrópolis inscription\n",
      "A\n",
      "Nilo Peçanha\n",
      "O povo inscription\n",
      "Quanto menores as distâncias\n",
      "Maior Santos Dumont\n",
      "Homenagem da cidade de Petrópolis\n",
      "19-10-1961 inscription\n",
      "Petrópolis addr:city\n",
      "Avenida Barão do Rio Branco addr:street\n",
      "Petrópolis addr:city\n",
      "Avenida Barão do Rio Branco addr:street\n",
      "pt:Embaúba (árvore) wikipedia\n",
      "Estrada da Gávea addr:street\n",
      "Estrada da Gávea addr:street\n",
      "Estrada da Gávea addr:street\n",
      "Estrada da Gávea addr:street\n",
      "Gávea addr:suburb\n",
      "Via Ápia addr:street\n",
      "Via Ápia addr:street\n",
      "Via Ápia addr:street\n",
      "Estrada da Gávea addr:street\n",
      "São Conrado addr:suburb\n",
      "Rua Nicarágua addr:street\n",
      "Ao Marechal\n",
      "Luiz Alves de Lima e Silva\n",
      "Exemplo de cidadão e soldado\n",
      "A homenagem da cidade de Petrópolis inscription\n",
      "Ao Reitor Emerito\n",
      "Arthur de Sá Earp Neto\n",
      "Criador do Ensino Superior em Petrópolis\n",
      "O povo de Petrópolis\n",
      "21 de junho de 1997 inscription\n",
      "Homenagem do Povo de Petrópolis ao Maestro César Guerra-Peixe \\Compositor Petropolitano\\ inscription\n"
     ]
    },
    {
     "name": "stderr",
     "output_type": "stream",
     "text": [
      "Processing:  87%|████████▋ | 91797/106084 [02:02<00:19, 748.68it/s]"
     ]
    },
    {
     "name": "stdout",
     "output_type": "stream",
     "text": [
      "\\Assim será a palavra que sair da minha boca: não voltará para mim vazia, mas fará o que me apraz e prosperará naquilo para que a designei\\\n",
      "Isaías 55:11 inscription\n",
      "Homenagem do povo de Petrópolis e de Carlos Ribeiro mercador de livros ao grande poeta petropolitano Raul de Leone\n",
      "1895 1926 inscription\n",
      "A maçonaria universal nos dá a certeza de que Deus o Grande Arquiteto do Universo é a concepção da onipotência onisciência onipresença simbolizada na fé inspirada do ser humano em todos os credos. inscription\n",
      "Rua Marquês do Paraná addr:street\n",
      "Nova Iguaçu addr:city\n",
      "Rua Álvaro Alvim addr:street\n",
      "Consulat honoraire du Bél name:fr\n",
      "Méier addr:suburb\n",
      "Avenida Epitácio Pessoa addr:street\n",
      "Avenida Graça Aranha addr:street\n",
      "Avenida das Américas addr:street\n",
      "Consulat honoraire de Guinée name:fr\n",
      "Praça Pio X addr:street\n",
      "Avenida Atlântica addr:street\n",
      "Consulat généra name:fr\n",
      "Rua Figueiredo de Magalhães addr:street\n",
      "Rua Barão do Flamengo addr:street\n",
      "Rua Visconde de Pirajá addr:street\n",
      "Avenida Atlântica addr:street\n",
      "Consulat généra name:fr\n",
      "Rua Antônio Augusto da Paz addr:street\n",
      "Rua Antônio Augusto da Paz addr:street\n",
      "Rua Antônio Augusto da Paz addr:street\n",
      "Rua Antônio Augusto da Paz addr:street\n",
      "Rua Antônio Augusto da Paz addr:street\n",
      "Rua Antônio Augusto da Paz addr:street\n",
      "Rua Antônio Augusto da Paz addr:street\n",
      "Rua Antônio Augusto da Paz addr:street\n",
      "Rua Antônio Augusto da Paz addr:street\n",
      "Rua Antônio Augusto da Paz addr:street\n",
      "pt:Araucária wikipedia\n",
      "Niterói addr:city\n",
      "Icaraí addr:suburb\n",
      "Niterói addr:city\n",
      "Icaraí addr:suburb\n",
      "Niterói addr:city\n",
      "Icaraí addr:suburb\n"
     ]
    },
    {
     "name": "stderr",
     "output_type": "stream",
     "text": [
      "Processing:  87%|████████▋ | 92559/106084 [02:03<00:17, 758.57it/s]"
     ]
    },
    {
     "name": "stdout",
     "output_type": "stream",
     "text": [
      "Petrópolis addr:city\n",
      "Valparaíso addr:suburb\n"
     ]
    },
    {
     "name": "stderr",
     "output_type": "stream",
     "text": [
      "Processing:  87%|████████▋ | 92789/106084 [02:03<00:17, 751.79it/s]"
     ]
    },
    {
     "name": "stdout",
     "output_type": "stream",
     "text": [
      "Limite de Municípios\n",
      "Petrópolis\n",
      "Areal inscription\n"
     ]
    },
    {
     "name": "stderr",
     "output_type": "stream",
     "text": [
      "Processing:  88%|████████▊ | 92941/106084 [02:04<00:17, 748.34it/s]"
     ]
    },
    {
     "name": "stdout",
     "output_type": "stream",
     "text": [
      "Cândido Portinari artist_name\n",
      "José Resende artist_name\n",
      "José Resende artist_name\n",
      "Rua da Relação addr:street\n"
     ]
    },
    {
     "name": "stderr",
     "output_type": "stream",
     "text": [
      "Processing:  88%|████████▊ | 93245/106084 [02:04<00:17, 753.35it/s]"
     ]
    },
    {
     "name": "stdout",
     "output_type": "stream",
     "text": [
      "Rua Barão de Itambi addr:street\n",
      "Paróquia Santíssima Trindade operator\n",
      "Rua Voluntários da Pátria addr:street\n",
      "Rua São Manuel addr:street\n",
      "Rua São Manuel addr:street\n",
      "Rua General Góis Monteiro addr:street\n",
      "Rua Álvaro Ramos addr:street\n",
      "Rua Álvaro Ramos addr:street\n",
      "Rua Álvaro Ramos addr:street\n",
      "Rua Álvaro Ramos addr:street\n",
      "Rua Álvaro Ramos addr:street\n",
      "Rua Álvaro Ramos addr:street\n",
      "Rua Álvaro Ramos addr:street\n",
      "Rua Fernandes Guimarães addr:street\n",
      "Rua Fernandes Guimarães addr:street\n",
      "Rua Fernandes Guimarães addr:street\n",
      "Rua Fernandes Guimarães addr:street\n",
      "Rua Fernandes Guimarães addr:street\n",
      "Rua Fernandes Guimarães addr:street\n",
      "Rua Fernandes Guimarães addr:street\n",
      "Nova Iguaçu addr:city\n",
      "Avenida Mem de Sá addr:street\n"
     ]
    },
    {
     "name": "stderr",
     "output_type": "stream",
     "text": [
      "Processing:  88%|████████▊ | 93475/106084 [02:04<00:16, 758.21it/s]"
     ]
    },
    {
     "name": "stdout",
     "output_type": "stream",
     "text": [
      "Rua Assunção addr:street\n",
      "Rua Assunção addr:street\n",
      "Rua Assunção addr:street\n",
      "Rua Assunção addr:street\n",
      "Rua São Clemente addr:street\n",
      "Rua São Clemente addr:street\n",
      "Nova Iguaçu addr:city\n",
      "Rua dos Quartéis addr:street\n",
      "Nova Iguaçu addr:city\n",
      "Rua dos Quartéis addr:street\n",
      "Nova Iguaçu addr:city\n",
      "Rua dos Quartéis addr:street\n",
      "Nova Iguaçu addr:city\n",
      "Rua dos Quartéis addr:street\n",
      "Nova Iguaçu addr:city\n",
      "Rua dos Quartéis addr:street\n",
      "Nova Iguaçu addr:city\n",
      "Rua dos Quartéis addr:street\n",
      "Nova Iguaçu addr:city\n",
      "Rua dos Quartéis addr:street\n",
      "Nova Iguaçu addr:city\n",
      "Rua dos Quartéis addr:street\n",
      "Nova Iguaçu addr:city\n",
      "Rua dos Quartéis addr:street\n",
      "Nova Iguaçu addr:city\n",
      "Rua dos Quartéis addr:street\n",
      "Nova Iguaçu addr:city\n",
      "Rua dos Quartéis addr:street\n",
      "Nova Iguaçu addr:city\n",
      "Rua dos Quartéis addr:street\n",
      "Nova Iguaçu addr:city\n",
      "Rua dos Quartéis addr:street\n",
      "Nova Iguaçu addr:city\n",
      "Rua dos Quartéis addr:street\n",
      "Nova Iguaçu addr:city\n",
      "Nova Iguaçu addr:city\n",
      "Nova Iguaçu addr:city\n",
      "Nova Iguaçu addr:city\n",
      "Nova Iguaçu addr:city\n",
      "Nova Iguaçu addr:city\n",
      "Nova Iguaçu addr:city\n",
      "Nova Iguaçu addr:city\n",
      "Nova Iguaçu addr:city\n",
      "Nova Iguaçu addr:city\n",
      "Nova Iguaçu addr:city\n",
      "Nova Iguaçu addr:city\n",
      "Nova Iguaçu addr:city\n",
      "Nova Iguaçu addr:city\n",
      "Nova Iguaçu addr:city\n",
      "Nova Iguaçu addr:city\n",
      "Nova Iguaçu addr:city\n",
      "Nova Iguaçu addr:city\n",
      "Nova Iguaçu addr:city\n",
      "Nova Iguaçu addr:city\n",
      "Nova Iguaçu addr:city\n",
      "Nova Iguaçu addr:city\n",
      "Nova Iguaçu addr:city\n",
      "Nova Iguaçu addr:city\n",
      "Nova Iguaçu addr:city\n",
      "Nova Iguaçu addr:city\n",
      "Nova Iguaçu addr:city\n",
      "Nova Iguaçu addr:city\n",
      "Nova Iguaçu addr:city\n",
      "Nova Iguaçu addr:city\n",
      "Nova Iguaçu addr:city\n",
      "Nova Iguaçu addr:city\n",
      "Nova Iguaçu addr:city\n",
      "Nova Iguaçu addr:city\n",
      "Nova Iguaçu addr:city\n",
      "Nova Iguaçu addr:city\n",
      "Nova Iguaçu addr:city\n",
      "Nova Iguaçu addr:city\n",
      "Nova Iguaçu addr:city\n",
      "Jacaré addr:suburb\n",
      "Rua São Clemente addr:street\n"
     ]
    },
    {
     "name": "stderr",
     "output_type": "stream",
     "text": [
      "Processing:  88%|████████▊ | 93628/106084 [02:04<00:16, 737.96it/s]"
     ]
    },
    {
     "name": "stdout",
     "output_type": "stream",
     "text": [
      "Rua Cândido Mendes addr:street\n",
      "Multiplan (ParkJacarepaguá) operator\n",
      "Rua Conde de Irajá addr:street\n",
      "Rua Conde de Irajá addr:street\n",
      "Rio a pé operator\n",
      "Rua Capitão Salomão addr:street\n",
      "Rua Capitão Salomão addr:street\n",
      "Rua General Cornélio de Barros addr:street\n",
      "Rua Pinheiro Guimarães addr:street\n",
      "Rua Conde de Irajá addr:street\n",
      "Rua Conde de Irajá addr:street\n",
      "Rua General Cornélio de Barros addr:street\n",
      "Nova Iguaçu addr:city\n",
      "´5 capacity\n",
      "Rua Pinheiro Guimarães addr:street\n",
      "Rua Pinheiro Guimarães addr:street\n"
     ]
    },
    {
     "name": "stderr",
     "output_type": "stream",
     "text": [
      "Processing:  88%|████████▊ | 93782/106084 [02:05<00:16, 753.10it/s]"
     ]
    },
    {
     "name": "stdout",
     "output_type": "stream",
     "text": [
      "Rua São Salvador addr:street\n",
      "Rua Voluntários da Pátria addr:street\n",
      "Magé addr:city\n",
      "Rua São Clemente addr:street\n",
      "Rua Voluntários da Pátria addr:street\n",
      "Rua São Clemente addr:street\n",
      "Category:Poesia em Ruínas (sculpture) wikimedia_commons\n",
      "Praça Nicarágua addr:street\n",
      "Monumento do século XIX. Atribuído às Fundições do Val d'Osne , França. Transferido para a praia de Botafogo em 190 description\n",
      "Decreto n° 14.334 de 8/1/1995 heritage:ref\n",
      "provisório status\n",
      "Celso Antônio Silveira de Menezes artist_name\n",
      "Category:Bust of Bartolomé Mitre (Rio de Janeiro) wikimedia_commons\n",
      "Setrans Segurança e Trânsito operator\n",
      "Campo de aviação addr:street\n",
      "Campo de aviação addr:suburb\n",
      "Lauro Folia - Local de recreação description\n",
      "Publicações de artigos com receitas de doces, sobremesas, bolos, torta description\n",
      "Rua Luís Iglesias addr:street\n",
      "Rua Cândido benício 2967 Loja F addr:street\n"
     ]
    },
    {
     "name": "stderr",
     "output_type": "stream",
     "text": [
      "Processing:  89%|████████▊ | 93935/106084 [02:05<00:16, 754.40it/s]"
     ]
    },
    {
     "name": "stdout",
     "output_type": "stream",
     "text": [
      "Jack Sítio alt_name\n",
      "Alameda dos Ingás addr:street\n",
      "My Work Digital é uma Agência de Marketing especializada em estratégias efi description\n",
      "Rua Príncipe Regente addr:street\n",
      "Rua Príncipe Regente addr:street\n",
      "Paquetá addr:suburb\n",
      "Estrada de Santa Eugênia addr:street\n",
      "Paciência addr:suburb\n",
      "Assistentes Virtuais com capacitação em adm description\n",
      "Secretaria Municipal de Educação do Rio de Janeiro operator\n",
      "Secretaria Municipal de Educação do Rio de Janeiro operator\n",
      "Praça Bariloche addr:street\n",
      "Busto em homenagem a um dos maiores poetas da língua portuguesa, Manuel Maria Barbosa du Bocage, e description\n",
      "Praça Corumbá addr:street\n",
      "Secretaria Municipal de Saúde do Rio de Janeiro operator\n",
      "Secretaria Municipal de Educação do Rio de Janeiro operator\n",
      "Secretaria de Estado de Educação do Rio de Janeiro operator\n",
      "Secretaria de Estado de Educação do Rio de Janeiro operator\n",
      "Fundação GEO-RIO operator\n",
      "Rua São Clemente addr:street\n",
      "Centro de Referência de Assistência Social Padre Velloso alt_name\n",
      "Rua São Clemente addr:street\n",
      "Rua Humaitá addr:street\n",
      "Humaitá addr:suburb\n",
      "Rua Humaitá addr:street\n",
      "Humaitá addr:suburb\n",
      "Secretaria Municipal de Educação do Rio de Janeiro operator\n",
      "Rua Humaitá addr:street\n",
      "Humaitá addr:suburb\n",
      "Secretaria de Estado de Educação do Rio de J operator\n",
      "Barreira temporária devido à obras description\n",
      "Avenida Prado Júnior addr:street\n",
      "Rua Áurea addr:street\n"
     ]
    },
    {
     "name": "stderr",
     "output_type": "stream",
     "text": [
      "Processing:  89%|████████▉ | 94168/106084 [02:05<00:15, 750.72it/s]"
     ]
    },
    {
     "name": "stdout",
     "output_type": "stream",
     "text": [
      "Drogaria Mundial - Estrada Cabuçu, 2450 description\n",
      "Itaú Unibanco brand\n",
      "pt:Itaú Unibanco brand:wikipedia\n",
      "Rua São Salvador addr:street\n",
      "O Boticário brand\n",
      "en:O Boticário brand:wikipedia\n",
      "Praça Caio Viana Martins addr:street\n",
      "Heliópolis addr:suburb\n",
      "Óticas Carol brand\n",
      "pt:Óticas Carol brand:wikipedia\n",
      "Niterói addr:city\n",
      "Rua Doutor Nilo Peçanha addr:street\n",
      "Ingá addr:suburb\n",
      "Sala 504. Transformando a vida de mulheres através da autoestima! 📞 3254-7424 (21 description\n",
      "Nova Iguaçu addr:city\n",
      "Nova Iguaçu addr:city\n",
      "Praça Severino Azevedo addr:street\n",
      "A primeira cafeteria e hamburgueria temática d description\n",
      "Nova Iguaçu addr:city\n",
      "Nova Iguaçu addr:city\n",
      "Nova Iguaçu addr:city\n",
      "Rua Tomás Fonseca addr:street\n",
      "Rua Cesário addr:street\n",
      "Citroën brand\n",
      "fr:Citroën brand:wikipedia\n",
      "DePlá Fotografia operator\n",
      "Ginásio description\n",
      "Polícia Federal do Brasil operator\n",
      "pt:Polícia Federal do Brasil operator:wikipedia\n",
      "Polícia Federal do Brasil operator\n",
      "Polícia Federal do Brasil operator\n",
      "pt:Polícia Federal do Brasil operator:wikipedia\n"
     ]
    },
    {
     "name": "stderr",
     "output_type": "stream",
     "text": [
      "Processing:  89%|████████▉ | 94244/106084 [02:05<00:15, 746.23it/s]"
     ]
    },
    {
     "name": "stdout",
     "output_type": "stream",
     "text": [
      "Nova Iguaçu addr:city\n",
      "Rua São Geraldo addr:street\n",
      "Nova Iguaçu addr:city\n",
      "Rua São Geraldo addr:street\n",
      "Nova Iguaçu addr:city\n",
      "Rua São Geraldo addr:street\n",
      "Nova Iguaçu addr:city\n",
      "Rua São Geraldo addr:street\n",
      "Nova Iguaçu addr:city\n",
      "Rua São Geraldo addr:street\n",
      "Nova Iguaçu addr:city\n",
      "Rua São Geraldo addr:street\n",
      "Nova Iguaçu addr:city\n",
      "Rua São Geraldo addr:street\n",
      "Nova Iguaçu addr:city\n",
      "Rua São Geraldo addr:street\n",
      "Nova Iguaçu addr:city\n",
      "Rua São Geraldo addr:street\n",
      "Nova Iguaçu addr:city\n",
      "Rua São Geraldo addr:street\n",
      "Nova Iguaçu addr:city\n",
      "Rua São Geraldo addr:street\n",
      "Nova Iguaçu addr:city\n",
      "Rua São Geraldo addr:street\n",
      "Nova Iguaçu addr:city\n",
      "Rua São Geraldo addr:street\n",
      "Nova Iguaçu addr:city\n",
      "Rua São Geraldo addr:street\n",
      "Nova Iguaçu addr:city\n",
      "Rua São Geraldo addr:street\n",
      "Nova Iguaçu addr:city\n",
      "Rua São Geraldo addr:street\n",
      "Nova Iguaçu addr:city\n",
      "Rua São Geraldo addr:street\n",
      "Nova Iguaçu addr:city\n",
      "Rua São Geraldo addr:street\n",
      "Nova Iguaçu addr:city\n",
      "Rua São Geraldo addr:street\n",
      "Nova Iguaçu addr:city\n",
      "Rua São Geraldo addr:street\n",
      "Nova Iguaçu addr:city\n",
      "Rua São Geraldo addr:street\n",
      "Nova Iguaçu addr:city\n",
      "Rua São Geraldo addr:street\n",
      "Nova Iguaçu addr:city\n",
      "Rua São Geraldo addr:street\n",
      "Nova Iguaçu addr:city\n",
      "Rua São Geraldo addr:street\n",
      "Nova Iguaçu addr:city\n",
      "Rua São Geraldo addr:street\n",
      "Nova Iguaçu addr:city\n",
      "Rua São Geraldo addr:street\n",
      "Nova Iguaçu addr:city\n",
      "Rua São Geraldo addr:street\n",
      "Nova Iguaçu addr:city\n",
      "Rua São Geraldo addr:street\n",
      "Nova Iguaçu addr:city\n",
      "Rua São Geraldo addr:street\n",
      "Nova Iguaçu addr:city\n",
      "Rua São Geraldo addr:street\n",
      "Nova Iguaçu addr:city\n",
      "Rua São Geraldo addr:street\n",
      "Nova Iguaçu addr:city\n",
      "Rua São Geraldo addr:street\n",
      "Nova Iguaçu addr:city\n",
      "Rua São Geraldo addr:street\n",
      "Nova Iguaçu addr:city\n",
      "Rua São Geraldo addr:street\n",
      "Nova Iguaçu addr:city\n",
      "Rua São Geraldo addr:street\n",
      "Nova Iguaçu addr:city\n",
      "Rua São Geraldo addr:street\n",
      "Nova Iguaçu addr:city\n",
      "Rua São Geraldo addr:street\n",
      "Nova Iguaçu addr:city\n",
      "Rua São Geraldo addr:street\n",
      "Nova Iguaçu addr:city\n",
      "Rua São Geraldo addr:street\n",
      "Nova Iguaçu addr:city\n",
      "Rua São Geraldo addr:street\n",
      "Nova Iguaçu addr:city\n",
      "Rua São Geraldo addr:street\n",
      "Nova Iguaçu addr:city\n",
      "Rua dos Quartéis addr:street\n",
      "Nova Iguaçu addr:city\n",
      "Rua São Geraldo addr:street\n",
      "Nova Iguaçu addr:city\n",
      "Rua São Geraldo addr:street\n",
      "Nova Iguaçu addr:city\n",
      "Rua São Geraldo addr:street\n",
      "Nova Iguaçu addr:city\n",
      "Rua São Geraldo addr:street\n",
      "Nova Iguaçu addr:city\n",
      "Rua São Geraldo addr:street\n",
      "Nova Iguaçu addr:city\n",
      "Rua São Geraldo addr:street\n",
      "Nova Iguaçu addr:city\n",
      "Rua São Geraldo addr:street\n",
      "Nova Iguaçu addr:city\n",
      "Rua São Geraldo addr:street\n",
      "Nova Iguaçu addr:city\n",
      "Rua São Geraldo addr:street\n",
      "Nova Iguaçu addr:city\n",
      "Rua São Geraldo addr:street\n",
      "Nova Iguaçu addr:city\n",
      "Rua São Geraldo addr:street\n",
      "Nova Iguaçu addr:city\n",
      "Rua São Geraldo addr:street\n",
      "Nova Iguaçu addr:city\n",
      "Rua São Geraldo addr:street\n",
      "Nova Iguaçu addr:city\n",
      "Rua São Geraldo addr:street\n",
      "Nova Iguaçu addr:city\n",
      "Rua São Geraldo addr:street\n",
      "Nova Iguaçu addr:city\n",
      "Rua São Geraldo addr:street\n",
      "Nova Iguaçu addr:city\n",
      "Rua São Geraldo addr:street\n",
      "Niterói addr:city\n",
      "Alameda São Boaventura addr:street\n",
      "Niterói addr:city\n",
      "Alameda São Boaventura addr:street\n",
      "Estrada do Sapé addr:street\n",
      "Nova Iguaçu addr:city\n",
      "Rua dos Quartéis addr:street\n",
      "Nova Iguaçu addr:city\n",
      "Rua dos Quartéis addr:street\n",
      "Rua Piauí addr:street\n",
      "Rua Piauí addr:street\n",
      "Rua Piauí addr:street\n",
      "Rua Piauí addr:street\n",
      "Rua Piauí addr:street\n",
      "Rua Piauí addr:street\n",
      "Rua Piauí addr:street\n",
      "Rua Piauí addr:street\n",
      "Rua Piauí addr:street\n",
      "Rua Piauí addr:street\n",
      "Rua Piauí addr:street\n",
      "Rua Piauí addr:street\n",
      "Rua Piauí addr:street\n",
      "Rua Piauí addr:street\n",
      "Rua Piauí addr:street\n",
      "Rua Piauí addr:street\n",
      "Rua Piauí addr:street\n",
      "Rua Piauí addr:street\n",
      "Rua Piauí addr:street\n",
      "Rua Piauí addr:street\n"
     ]
    },
    {
     "name": "stderr",
     "output_type": "stream",
     "text": [
      "Processing:  89%|████████▉ | 94476/106084 [02:06<00:15, 759.82it/s]"
     ]
    },
    {
     "name": "stdout",
     "output_type": "stream",
     "text": [
      "Rua Piauí addr:street\n",
      "Rua Piauí addr:street\n",
      "Rua General Cristóvão Barcelos addr:street\n",
      "Niterói addr:city\n",
      "Rua General Glicério addr:street\n",
      "Rua General Glicério addr:street\n",
      "Rua General Glicério addr:street\n",
      "Rua General Glicério addr:street\n",
      "Rua General Glicério addr:street\n",
      "Rua General Glicério addr:street\n",
      "Rua General Glicério addr:street\n",
      "Rua General Glicério addr:street\n"
     ]
    },
    {
     "name": "stderr",
     "output_type": "stream",
     "text": [
      "Processing:  89%|████████▉ | 94553/106084 [02:06<00:15, 747.89it/s]"
     ]
    },
    {
     "name": "stdout",
     "output_type": "stream",
     "text": [
      "en:Cinépolis brand:wikipedia\n",
      "Itaú Unibanco brand\n",
      "pt:Itaú Unibanco brand:wikipedia\n",
      "Caixa Econômica Federal brand\n",
      "pt:Caixa Econômica Federal brand:wikipedia\n",
      "McCafé brand\n",
      "en:McCafé brand:wikipedia\n",
      "O Boticário brand\n",
      "en:O Boticário brand:wikipedia\n",
      "McCafé brand\n",
      "en:McCafé brand:wikipedia\n",
      "Maricá addr:city\n",
      "Niterói addr:city\n",
      "Rua Gavião Peixoto addr:street\n",
      "Icaraí addr:suburb\n",
      "Rua Gavião Peixoto addr:street\n",
      "Av. Tenente Coronel Muniz de Aragão addr:street\n"
     ]
    },
    {
     "name": "stderr",
     "output_type": "stream",
     "text": [
      "Processing:  90%|████████▉ | 95093/106084 [02:06<00:14, 762.04it/s]"
     ]
    },
    {
     "name": "stdout",
     "output_type": "stream",
     "text": [
      "Niterói addr:city\n",
      "Estrada Coronel Pedro Corrêa addr:street\n",
      "Jacarepaguá addr:suburb\n",
      "Rua Olivença addr:street\n",
      "Itaú Unibanco brand\n",
      "pt:Itaú Unibanco brand:wikipedia\n"
     ]
    },
    {
     "name": "stderr",
     "output_type": "stream",
     "text": [
      "Processing:  90%|████████▉ | 95473/106084 [02:07<00:14, 741.66it/s]"
     ]
    },
    {
     "name": "stdout",
     "output_type": "stream",
     "text": [
      "São João de Meriti addr:city\n"
     ]
    },
    {
     "name": "stderr",
     "output_type": "stream",
     "text": [
      "Processing:  90%|█████████ | 95626/106084 [02:07<00:13, 748.90it/s]"
     ]
    },
    {
     "name": "stdout",
     "output_type": "stream",
     "text": [
      "Praça Granito addr:street\n",
      "Itaú Unibanco brand\n",
      "pt:Itaú Unibanco brand:wikipedia\n",
      "Cartões Lounge branch\n",
      "Avenida Lôbo Júnior addr:street\n",
      "Rua Magé addr:street\n",
      "Rua Capitão Barbosa addr:street\n",
      "Rua Capitão Barbosa addr:street\n",
      "Avenida Lôbo Júnior addr:street\n"
     ]
    },
    {
     "name": "stderr",
     "output_type": "stream",
     "text": [
      "Processing:  90%|█████████ | 95779/106084 [02:07<00:13, 745.65it/s]"
     ]
    },
    {
     "name": "stdout",
     "output_type": "stream",
     "text": [
      "Empresa Brasileira de Correios e Telégrafos brand\n",
      "Avenida Lôbo Júnior addr:street\n",
      "burger;hot_dog;açai cuisine\n",
      "Rua Caibaté addr:street\n",
      "Sistema Único de Saúde operator\n",
      "Escola de Música da UFRJ operator\n",
      "Localizado no Parquinho leva esse nome por ser uma reta e ter uma subestação da Light. description\n"
     ]
    },
    {
     "name": "stderr",
     "output_type": "stream",
     "text": [
      "Processing:  91%|█████████ | 96079/106084 [02:08<00:13, 742.87it/s]"
     ]
    },
    {
     "name": "stdout",
     "output_type": "stream",
     "text": [
      "Teresópolis addr:city\n",
      "Rua doutor jose mendonça clark addr:street\n",
      "Várzea addr:suburb\n",
      "Parque São Pedro de Alcantara addr:suburb\n",
      "Itaú Unibanco brand\n",
      "Avenida das Américas addr:street\n"
     ]
    },
    {
     "name": "stderr",
     "output_type": "stream",
     "text": [
      "Processing:  91%|█████████ | 96305/106084 [02:08<00:13, 747.43it/s]"
     ]
    },
    {
     "name": "stdout",
     "output_type": "stream",
     "text": [
      "Empresa Brasileira de Correios e Telégrafos brand\n",
      "Pedro Correia Araújo artist_name\n",
      "Niterói addr:city\n",
      "Rua Joaquim Távora addr:street\n",
      "Icaraí addr:suburb\n",
      "Teresópolis addr:city\n",
      "Avenida Lúcio Meira addr:street\n",
      "Várzea addr:suburb\n",
      "Rua José Higino addr:street\n"
     ]
    },
    {
     "name": "stderr",
     "output_type": "stream",
     "text": [
      "Processing:  91%|█████████ | 96457/106084 [02:08<00:13, 739.27it/s]"
     ]
    },
    {
     "name": "stdout",
     "output_type": "stream",
     "text": [
      "Niterói addr:city\n",
      "Rua Joaquim Távora addr:street\n",
      "Icaraí addr:suburb\n",
      "Niterói addr:city\n",
      "Icaraí addr:suburb\n",
      "Niterói addr:city\n",
      "Icaraí addr:suburb\n",
      "Niterói addr:city\n",
      "Icaraí addr:suburb\n",
      "Niterói addr:city\n",
      "Icaraí addr:suburb\n",
      "Avenida Mem de Sá addr:street\n",
      "Açougue Vegano brand\n",
      "Ipanema/General Osório;General Osório old_name\n",
      "MetrôRio operator\n",
      "Ipanema/General Osório;General Osório old_name\n",
      "MetrôRio operator\n",
      "SMC Pneumática description\n",
      "Petrópolis addr:city\n",
      "transoceânica bicycle_parking\n",
      "Avenida Oswaldo Cruz;Rua Honório de Barros addr:street\n",
      "Nova Iguaçu addr:city\n",
      "Imobiliária em Nova Iguaçu description\n"
     ]
    },
    {
     "name": "stderr",
     "output_type": "stream",
     "text": [
      "Processing:  91%|█████████▏| 96915/106084 [02:09<00:12, 757.12it/s]"
     ]
    },
    {
     "name": "stdout",
     "output_type": "stream",
     "text": [
      "pt:Pé Pequeno wikipedia\n",
      "Praça XV addr:street\n",
      "Rua José Linhares addr:street\n",
      "Serviço Marido de aluguel em Petrópolis (Rio de Janeiro )\n",
      "Ja description\n",
      "Petrópolis addr:city\n",
      "Estrada do Paraíso addr:street\n",
      "A Limpeza de sofa em Petrópolis tem um preço justo, lavagem a seco de estofados, além de limpez description\n",
      "Rua Visconde de Abaeté addr:street\n",
      "Rua Ulysses Guimarães addr:street\n"
     ]
    },
    {
     "name": "stderr",
     "output_type": "stream",
     "text": [
      "Processing:  92%|█████████▏| 97067/106084 [02:09<00:11, 752.64it/s]"
     ]
    },
    {
     "name": "stdout",
     "output_type": "stream",
     "text": [
      "Maracanã addr:suburb\n",
      "Nova Iguaçu addr:city\n",
      "Nova Iguaçu addr:city\n",
      "Nova Iguaçu addr:city\n",
      "Nova Iguaçu addr:city\n",
      "Nova Iguaçu addr:city\n",
      "Nova Iguaçu addr:city\n",
      "Sistema Único de Saúde operator\n"
     ]
    },
    {
     "name": "stderr",
     "output_type": "stream",
     "text": [
      "Processing:  92%|█████████▏| 97297/106084 [02:09<00:11, 753.46it/s]"
     ]
    },
    {
     "name": "stdout",
     "output_type": "stream",
     "text": [
      "MetrôRio network\n",
      "MetrôRio network\n",
      "Rua Visconde de Pirajá addr:street\n",
      "Rua Visconde de Pirajá addr:street\n",
      "Estrada de Paciência addr:street\n",
      "Rua Tenente França addr:street\n",
      "Amicão Pet operator\n",
      "Avenida Almirante Tamandaré addr:street\n",
      "Rua Visconde de Pirajá addr:street\n",
      "Niterói addr:city\n",
      "Niterói addr:city\n",
      "Rua Candelária addr:street\n"
     ]
    },
    {
     "name": "stderr",
     "output_type": "stream",
     "text": [
      "Processing:  92%|█████████▏| 97448/106084 [02:10<00:11, 744.35it/s]"
     ]
    },
    {
     "name": "stdout",
     "output_type": "stream",
     "text": [
      "Rua Júlio Santoro addr:street\n",
      "Avenida Seridó addr:street\n",
      "Méier addr:suburb\n",
      "açaí cuisine\n",
      "Rua Doutor Paulo César addr:street\n",
      "Maricá addr:city\n",
      "Rua São Bento addr:street\n",
      "São Gonçalo addr:city\n",
      "São Gonçalo addr:city\n",
      "São Gonçalo addr:city\n",
      "R. Heitor Leví addr:street\n",
      "fast_food;rodízio cuisine\n",
      "São Gonçalo addr:city\n",
      "São Gonçalo addr:city\n",
      "São Gonçalo addr:city\n",
      "pizza;pastel;hambúrguer;cachorro_quente cuisine\n",
      "São Gonçalo addr:city\n",
      "Rua Antônio Tenório addr:street\n",
      "Vigário Geral addr:suburb\n",
      "Viaduto Negrão de Lima addr:street\n",
      "Estrada Velha de Maricá addr:street\n",
      "São Gonçalo addr:city\n",
      "Estrada Velha de Maricá addr:street\n",
      "rogério operator\n",
      "Maricá addr:city\n",
      "Campo de São Cristóvão addr:street\n",
      "São Cristóvão addr:suburb\n",
      "Campo de São Cristóvão addr:street\n",
      "São Cristóvão addr:suburb\n",
      "Em frente a um bar e de frente para a torre de comunicação branca description\n",
      "Praça Argentina addr:street\n",
      "São Gonçalo addr:city\n",
      "Zé Garoto addr:suburb\n",
      "São Gonçalo addr:city\n",
      "Zé Garoto addr:suburb\n",
      "São Gonçalo addr:city\n",
      "Zé Garoto addr:suburb\n"
     ]
    },
    {
     "name": "stderr",
     "output_type": "stream",
     "text": [
      "Processing:  92%|█████████▏| 97600/106084 [02:10<00:11, 747.85it/s]"
     ]
    },
    {
     "name": "stdout",
     "output_type": "stream",
     "text": [
      "Rua Coronel Moreira César addr:street\n",
      "instituição de ensino description\n",
      "São Gonçalo addr:city\n",
      "Rua Doutor Getúlio Vargas addr:street\n",
      "Niterói addr:city\n",
      "Itaú Unibanco brand\n",
      "Posto de Saúde name:pt\n",
      "Casa Lotérica name:pt\n",
      "Rua Tenente-Coronel José dos Santos Rodrigues addr:street\n",
      "Policlínica Regional de Saúde name:pt\n"
     ]
    },
    {
     "name": "stderr",
     "output_type": "stream",
     "text": [
      "Processing:  92%|█████████▏| 97829/106084 [02:10<00:10, 755.11it/s]"
     ]
    },
    {
     "name": "stdout",
     "output_type": "stream",
     "text": [
      "Vila Esperança alt_name\n"
     ]
    },
    {
     "name": "stderr",
     "output_type": "stream",
     "text": [
      "Processing:  94%|█████████▍| 100219/106084 [02:13<00:07, 764.80it/s]"
     ]
    },
    {
     "name": "stdout",
     "output_type": "stream",
     "text": [
      "Niterói addr:city\n",
      "Ingá addr:suburb\n",
      "Niterói addr:city\n",
      "3º Piso addr:housenumber\n",
      "Niterói addr:city\n",
      "Niterói addr:city\n",
      "Ingá addr:suburb\n",
      "Niterói addr:city\n",
      "Rua Gervásio addr:street\n",
      "Art Pão alt_name\n",
      "Nova Iguaçu addr:city\n",
      "Avenida Doutor Mário Guimarães addr:street\n",
      "Art Pão alt_name\n",
      "Nova Iguaçu addr:city\n",
      "Art Pão alt_name\n",
      "Maré addr:suburb\n",
      "Rua Corrêa Dutra addr:street\n",
      "Maré addr:suburb\n",
      "Grajaú addr:suburb\n",
      "Consolidada no Grajaú há 46 anos, através da competência did description\n",
      "Nova Iguaçu addr:city\n",
      "Moquetá addr:suburb\n",
      "Grajaú addr:suburb\n",
      "Rua José Higino addr:street\n"
     ]
    },
    {
     "name": "stderr",
     "output_type": "stream",
     "text": [
      "Processing:  95%|█████████▍| 100373/106084 [02:13<00:07, 757.63it/s]"
     ]
    },
    {
     "name": "stdout",
     "output_type": "stream",
     "text": [
      "Nova Iguaçu addr:city\n",
      "Nova Iguaçu addr:city\n",
      "Plaza Shopping Niterói operator\n",
      "São Gonçalo addr:city\n",
      "Alcântara addr:suburb\n",
      "Marcos André Salles artist_name\n",
      "Avenida Dom Hélder Câmara addr:street\n",
      "Avenida Dom Hélder Câmara addr:street\n",
      "Avenida Dom Hélder Câmara addr:street\n",
      "Avenida Dom Hélder Câmara addr:street\n",
      "Avenida Dom Hélder Câmara addr:street\n",
      "Avenida Dom Hélder Câmara addr:street\n",
      "Avenida Dom Hélder Câmara addr:street\n",
      "Rua Luís Coutinho Cavalcante addr:street\n",
      "Avenida Dom Hélder Câmara addr:street\n",
      "Avenida Dom Hélder Câmara addr:street\n",
      "Itaboraí addr:city\n",
      "Rua Visconde de Carandaí addr:street\n",
      "Jardim Botânico addr:suburb\n",
      "Petrópolis addr:city\n",
      "Rua Marechal Deodoro, Shopping Pátio Petrópolis, Sala Comercial - 514, addr:street\n",
      "Rua Barão da Torre addr:street\n",
      "Rua Visconde de Pirajá addr:street\n"
     ]
    },
    {
     "name": "stderr",
     "output_type": "stream",
     "text": [
      "Processing:  95%|█████████▍| 100603/106084 [02:14<00:07, 731.40it/s]"
     ]
    },
    {
     "name": "stdout",
     "output_type": "stream",
     "text": [
      "MetrôRio operator\n",
      "MetrôRio operator\n",
      "Niterói addr:city\n",
      "Rua Mário Santos Braga addr:street\n",
      "Niterói addr:city\n",
      "Bike Itaú network\n",
      "Rua Lopes Trovão addr:street\n"
     ]
    },
    {
     "name": "stderr",
     "output_type": "stream",
     "text": [
      "Processing:  95%|█████████▍| 100755/106084 [02:14<00:07, 744.94it/s]"
     ]
    },
    {
     "name": "stdout",
     "output_type": "stream",
     "text": [
      "Niterói addr:city\n",
      "Rua Magnólia Brasil addr:street\n",
      "Niterói addr:city\n",
      "Rua Magnólia Brasil addr:street\n",
      "Rua Hélio Matos addr:street\n",
      "Вид на бухту и город name:ru\n"
     ]
    },
    {
     "name": "stderr",
     "output_type": "stream",
     "text": [
      "Processing:  95%|█████████▌| 100905/106084 [02:14<00:06, 744.75it/s]"
     ]
    },
    {
     "name": "stdout",
     "output_type": "stream",
     "text": [
      "Rua Voluntários da Pátria addr:street\n",
      "Teresópolis addr:city\n",
      "Rua José Augusto da Costa addr:street\n",
      "Várzea addr:suburb\n",
      "Estrada Doutor Plínio Casado addr:street\n",
      "Estrada Doutor Plínio Casado addr:street\n",
      "Estrada Doutor Plínio Casado addr:street\n",
      "Rua Visconde de Pirajá addr:street\n",
      "Rua Visconde de Pirajá addr:street\n",
      "Avenida das Américas addr:street\n"
     ]
    },
    {
     "name": "stderr",
     "output_type": "stream",
     "text": [
      "Processing:  95%|█████████▌| 101059/106084 [02:14<00:06, 752.16it/s]"
     ]
    },
    {
     "name": "stdout",
     "output_type": "stream",
     "text": [
      "O Boticário brand\n",
      "Rua Visconde de Pirajá addr:street\n",
      "Itaú Unibanco brand\n",
      "Rua Visconde de Pirajá addr:street\n",
      "Rua Barão da Torre addr:street\n",
      "Rua Barão da Torre addr:street\n"
     ]
    },
    {
     "name": "stderr",
     "output_type": "stream",
     "text": [
      "Processing:  95%|█████████▌| 101211/106084 [02:14<00:06, 752.66it/s]"
     ]
    },
    {
     "name": "stdout",
     "output_type": "stream",
     "text": [
      "Rua General Gurjão addr:street\n",
      "Morro de São Lourenço old_name\n",
      "Rua Jupiará addr:street\n",
      "católica_romana denomination\n",
      "Rua Barão de Iguatemi addr:street\n",
      "Praça da Bandeira addr:suburb\n",
      "Rua Carolina Méier addr:street\n",
      "Méier addr:suburb\n",
      "Estrada João Melo addr:street\n",
      "ballet;jazz;sapateado;zumba;contemporâneo;dança_de_salão;balle_baby;ministeria dance:style\n",
      "Teresópolis addr:city\n",
      "Rua Tietê addr:street\n",
      "Teresópolis addr:city\n",
      "Rua Tietê addr:street\n"
     ]
    },
    {
     "name": "stderr",
     "output_type": "stream",
     "text": [
      "Processing:  96%|█████████▌| 101440/106084 [02:15<00:06, 749.34it/s]"
     ]
    },
    {
     "name": "stdout",
     "output_type": "stream",
     "text": [
      "Teresópolis addr:city\n",
      "Rua Francisco Sá addr:street\n",
      "Várzea addr:suburb\n",
      "Teresópolis addr:city\n",
      "Várzea addr:suburb\n",
      "Teresópolis addr:city\n",
      "Várzea addr:suburb\n",
      "Itaú operator\n",
      "Itaú Unibanco brand\n",
      "Itaú Unibanco operator\n",
      "Santíssimo addr:suburb\n",
      "Santíssimo addr:suburb\n",
      "Santíssimo addr:suburb\n",
      "transoceânica bicycle_parking\n",
      "Praça da Cruz Vermelha addr:street\n",
      "Avenida Mem de Sá addr:street\n",
      "Travessa Dídimo addr:street\n",
      "Travessa Dídimo addr:street\n",
      "Rua André Cavalcanti addr:street\n",
      "Estrada do Lameirão addr:street\n",
      "Estrada do Lameirão addr:street\n",
      "Rua Pacheco Leão addr:street\n",
      "Bike Itaú network\n",
      "MetrôRio operator\n",
      "pt:Estação São wikipedia\n",
      "Rua Doutor Sebastião de Aquino addr:street\n",
      "Rua Doutor Sebastião de Aquino addr:street\n"
     ]
    },
    {
     "name": "stderr",
     "output_type": "stream",
     "text": [
      "Processing:  96%|█████████▌| 101745/106084 [02:15<00:05, 753.27it/s]"
     ]
    },
    {
     "name": "stdout",
     "output_type": "stream",
     "text": [
      "Teresópolis addr:city\n",
      "Teresópolis addr:city\n",
      "Teresópolis addr:city\n",
      "Avenida Lúcio Meira addr:street\n",
      "Várzea addr:suburb\n",
      "Teresópolis addr:city\n",
      "Avenida J. J. de Araújo Regadas addr:street\n",
      "Várzea addr:suburb\n",
      "Monumento da fundação do Parque Natural Municipal de Petrópolis em 13 de Abril de 2012 pelo ex-prefeito Paulo Mustrangi. inscription\n",
      "Teresópolis addr:city\n",
      "Teresópolis addr:city\n",
      "Teresópolis addr:city\n",
      "Teresópolis addr:city\n",
      "Agriões addr:suburb\n",
      "Avenida Graça Aranha addr:street\n",
      "Avenida Graça Aranha addr:street\n",
      "Avenida Graça Aranha addr:street\n",
      "Rua México addr:street\n",
      "Rua México addr:street\n",
      "Praça João Pessoa addr:street\n",
      "Avenida Mem de Sá addr:street\n",
      "Avenida Mem de Sá addr:street\n",
      "Avenida Mem de Sá addr:street\n",
      "Praça João Pessoa addr:street\n",
      "190 - térreo addr:housenumber\n",
      "Avenida Mem de Sá addr:street\n",
      "Avenida Mem de Sá addr:street\n",
      "Polícia Militar do Estado do Rio de Janeiro operator\n",
      "Teresópolis addr:city\n",
      "Várzea addr:suburb\n",
      "Teresópolis addr:city\n",
      "Várzea addr:suburb\n",
      "Teresópolis addr:city\n",
      "Rua Francisco Sá addr:street\n",
      "Várzea addr:suburb\n",
      "Avenida Graça Aranha addr:street\n",
      "Avenida Mem de Sá addr:street\n",
      "Salão de unhas e Col description\n"
     ]
    },
    {
     "name": "stderr",
     "output_type": "stream",
     "text": [
      "Processing:  96%|█████████▌| 101898/106084 [02:15<00:05, 752.60it/s]"
     ]
    },
    {
     "name": "stdout",
     "output_type": "stream",
     "text": [
      "Ex-Político e Jornalista artist_name\n",
      "transoceânica bicycle_parking\n",
      "Avenida Marechal Câmara addr:street\n",
      "Teresópolis addr:city\n",
      "Avenida Calógeras addr:street\n",
      "228 - Frente (Edifício Argentina) addr:housenumber\n",
      "Rua São Clemente addr:street\n",
      "Rua São Clemente addr:street\n",
      "Rua Professor Álvaro Rodrigues addr:street\n",
      "O Boticário brand\n",
      "McCafé brand\n"
     ]
    },
    {
     "name": "stderr",
     "output_type": "stream",
     "text": [
      "Processing:  96%|█████████▌| 102050/106084 [02:16<00:05, 754.13it/s]"
     ]
    },
    {
     "name": "stdout",
     "output_type": "stream",
     "text": [
      "Niterói addr:city\n",
      "Niterói addr:city\n",
      "Grajaú addr:suburb\n",
      "Grajaú addr:suburb\n",
      "Grajaú addr:suburb\n",
      "Grajaú addr:suburb\n",
      "São Gonçalo addr:city\n",
      "São Gonçalo addr:city\n",
      "São Gonçalo addr:city\n",
      "São Gonçalo addr:city\n",
      "São Gonçalo addr:city\n",
      "Rua Antônio Basílio addr:street\n",
      "Rua Marquês de Abrantes addr:street\n",
      "Jardim Botânico addr:suburb\n",
      "Niterói addr:city\n",
      "Estrada Jornalista Silvia Thomé addr:street\n",
      "Niterói addr:city\n",
      "Estrada Washington Luís addr:street\n",
      "Sapê addr:suburb\n",
      "Niterói addr:city\n",
      "São Gonçalo addr:city\n",
      "Estrada Velha de Maricá addr:street\n",
      "Niterói addr:city\n",
      "Rua Bulhões Marcial addr:street\n",
      "Vigário Geral addr:suburb\n",
      "Niterói addr:city\n",
      "Rua Maestro Felício Toledo addr:street\n",
      "Niterói addr:city\n",
      "Rua José Bonifácio addr:street\n",
      "São Domingos addr:suburb\n",
      "Maricá addr:city\n",
      "Maricá addr:city\n",
      "Maricá addr:city\n",
      "Niterói addr:city\n",
      "Rua da Conceição addr:street\n",
      "Niterói addr:city\n",
      "Niterói addr:city\n",
      "Itaboraí addr:city\n",
      "Avenida Antônio Gomes addr:street\n",
      "Itaboraí addr:city\n",
      "Itaboraí addr:city\n",
      "Avenida Antônio Gomes addr:street\n",
      "Itaboraí addr:city\n",
      "Niterói addr:city\n",
      "Estrada Celso Peçanha addr:street\n",
      "Niterói addr:city\n",
      "São Domingos addr:suburb\n",
      "Niterói addr:city\n",
      "Alameda São Boaventura addr:street\n",
      "Niterói addr:city\n",
      "Avenida Professor João Brasil addr:street\n",
      "Niterói addr:city\n",
      "Alameda São Boaventura addr:street\n"
     ]
    },
    {
     "name": "stderr",
     "output_type": "stream",
     "text": [
      "Processing:  96%|█████████▋| 102203/106084 [02:16<00:05, 757.36it/s]"
     ]
    },
    {
     "name": "stdout",
     "output_type": "stream",
     "text": [
      "Niterói addr:city\n",
      "Rua Doutor Paulo César addr:street\n",
      "Nova Iguaçu addr:city\n",
      "Niterói addr:city\n",
      "Rua Noronha Torrezão addr:street\n",
      "Rua Antônio Rabelo Guimarães addr:street\n",
      "Niterói addr:city\n",
      "Rua Noronha Torrezão addr:street\n",
      "Niterói addr:city\n",
      "Rua Noronha Torrezão addr:street\n",
      "Niterói addr:city\n",
      "Rua Noronha Torrezão addr:street\n",
      "Nova Iguaçu addr:city\n",
      "Nova Iguaçu addr:city\n",
      "Avenida Getúlio de Moura addr:street\n",
      "Niterói addr:city\n",
      "Rua Maestro Felício Toledo addr:street\n",
      "Rodovia Niterói-Manilha - BR-101 addr:street\n",
      "Nossa Senhora de Fátima addr:suburb\n",
      "candomblé denomination\n",
      "Rua Álvaro Chaves addr:street\n",
      "São Gonçalo addr:city\n",
      "Rua Campeão addr:street\n",
      "Inhoaíba addr:suburb\n",
      "Técnico em Informática\n",
      "\n",
      "Manutenç� description\n",
      "Rodovia Presidente João Goulart addr:street\n",
      "DPO de Agrobrasil - Polícia Militar name:pt\n",
      "Rua Barão de Mesquita addr:street\n",
      "Rua Barão de Mesquita addr:street\n",
      "Avenida das Américas addr:street\n",
      "Petrópolis addr:city\n",
      "Petrópolis addr:city\n",
      "Avenida Maracanã addr:street\n",
      "Avenida Maracanã addr:street\n",
      "Galeão addr:suburb\n",
      "Avenida Lauro Sodré addr:street\n",
      "Comércio de Vestuário e Facções Ltda. official_name\n",
      "Rua Marquês de Abrantes addr:street\n",
      "Méier addr:suburb\n",
      "Avenida Lauro Sodré addr:street\n",
      "Leitura Rio Sul Comércio de Livros official_name\n",
      "Avenida Lauro Sodré addr:street\n",
      "Jesmond Comércio Varejista Ltda. official_name\n",
      "Avenida Lauro Sodré addr:street\n",
      "Avenida Maracanã addr:street\n",
      "Rua Lauro Müller addr:street\n",
      "Niterói addr:city\n",
      "Rua das Perpétuas addr:street\n",
      "Niterói addr:city\n",
      "Rua das Camélias addr:street\n",
      "Niterói addr:city\n",
      "Rua das Camélias addr:street\n",
      "Niterói addr:city\n",
      "Rua das Camélias addr:street\n",
      "Niterói addr:city\n",
      "Rua das Camélias addr:street\n",
      "Niterói addr:city\n",
      "Rua das Camélias addr:street\n",
      "Niterói addr:city\n",
      "Rua das Camélias addr:street\n",
      "Niterói addr:city\n",
      "Rua das Camélias addr:street\n",
      "Niterói addr:city\n",
      "Rua das Camélias addr:street\n",
      "Niterói addr:city\n",
      "Rua das Camélias addr:street\n",
      "Niterói addr:city\n",
      "Rua das Camélias addr:street\n",
      "Niterói addr:city\n",
      "Rua das Camélias addr:street\n",
      "Niterói addr:city\n",
      "Rua das Camélias addr:street\n",
      "Niterói addr:city\n",
      "Rua das Camélias addr:street\n",
      "Niterói addr:city\n",
      "Rua das Camélias addr:street\n",
      "Niterói addr:city\n",
      "Rua das Camélias addr:street\n",
      "Niterói addr:city\n",
      "Rua das Camélias addr:street\n",
      "Niterói addr:city\n",
      "Rua das Camélias addr:street\n",
      "Niterói addr:city\n",
      "Rua das Camélias addr:street\n",
      "Niterói addr:city\n",
      "Rua das Camélias addr:street\n",
      "Niterói addr:city\n",
      "Rua das Camélias addr:street\n",
      "Niterói addr:city\n",
      "Rua das Camélias addr:street\n",
      "Niterói addr:city\n",
      "Rua das Camélias addr:street\n",
      "Niterói addr:city\n",
      "Rua das Camélias addr:street\n",
      "Niterói addr:city\n",
      "Rua das Camélias addr:street\n"
     ]
    },
    {
     "name": "stderr",
     "output_type": "stream",
     "text": [
      "Processing:  96%|█████████▋| 102357/106084 [02:16<00:04, 751.73it/s]"
     ]
    },
    {
     "name": "stdout",
     "output_type": "stream",
     "text": [
      "Oakberry Açaí bowls brand\n",
      "açaí cuisine\n",
      "Rua João Silva addr:street\n",
      "Rua João Silva addr:street\n",
      "Niterói addr:city\n",
      "Niterói addr:city\n",
      "Niterói addr:city\n",
      "Niterói addr:city\n",
      "Niterói addr:city\n",
      "Rua Custódio Nunes addr:street\n",
      "Rua João Silva addr:street\n",
      "Rua Tietê addr:street\n",
      "açaí cuisine\n",
      "Teresópolis addr:city\n",
      "Teresópolis addr:city\n"
     ]
    },
    {
     "name": "stderr",
     "output_type": "stream",
     "text": [
      "Processing:  97%|█████████▋| 102510/106084 [02:16<00:04, 757.24it/s]"
     ]
    },
    {
     "name": "stdout",
     "output_type": "stream",
     "text": [
      "Teresópolis addr:city\n",
      "Avenida Doutor Eugênio Borges addr:street\n",
      "Quiosque do arvrão name:pt\n",
      "Pão de Açúcar name:pt\n",
      "Category:Álvaro Reis (statue) wikimedia_commons\n",
      "Category:Cápsula do Tempo na Quinta da Boa Vista (Rio de Janeiro) wikimedia_commons\n",
      "Elza Cansanção Medeiros artist_name\n",
      "Pão de Açúcar brand\n"
     ]
    },
    {
     "name": "stderr",
     "output_type": "stream",
     "text": [
      "Processing:  97%|█████████▋| 102738/106084 [02:17<00:04, 755.67it/s]"
     ]
    },
    {
     "name": "stdout",
     "output_type": "stream",
     "text": [
      "Caixa Econômica Federal brand\n",
      "O Boticário brand\n",
      "Massas, grelhados e sanduíches description\n",
      "Espaçolaser brand\n",
      "Avenida São Paulo addr:street\n",
      "José Raul Allegretti artist_name\n",
      "Heloísa Dolabella artist_name\n",
      "Mário Cravo artist_name\n",
      "Fernanda Casás artist_name\n",
      "Mário Cravo artist_name\n",
      "Sérgio Camargo artist_name\n",
      "Rua Voluntários da Pátria addr:street\n",
      "Rua Voluntários da Pátria addr:street\n",
      "Loja de materiais de construção description\n",
      "Voluntários da Pátria addr:street\n",
      "Rua do Humaitá addr:street\n",
      "Rua Cândido Reis addr:street\n"
     ]
    },
    {
     "name": "stderr",
     "output_type": "stream",
     "text": [
      "Processing:  97%|█████████▋| 102892/106084 [02:17<00:04, 756.30it/s]"
     ]
    },
    {
     "name": "stdout",
     "output_type": "stream",
     "text": [
      "Nova Iguaçu addr:city\n",
      "Avenida São João Batista addr:street\n",
      "Nova Iguaçu addr:city\n",
      "Avenida São João Batista addr:street\n",
      "Nova Iguaçu addr:city\n",
      "Avenida São João Batista addr:street\n",
      "Nova Iguaçu addr:city\n",
      "Avenida São João Batista addr:street\n",
      "Nova Iguaçu addr:city\n",
      "Avenida São João Batista addr:street\n",
      "Nova Iguaçu addr:city\n",
      "Avenida São João Batista addr:street\n",
      "Nova Iguaçu addr:city\n",
      "Avenida São João Batista addr:street\n",
      "Nova Iguaçu addr:city\n",
      "Avenida São João Batista addr:street\n",
      "Nova Iguaçu addr:city\n",
      "Avenida São João Batista addr:street\n",
      "Nova Iguaçu addr:city\n",
      "Avenida São João Batista addr:street\n",
      "Nova Iguaçu addr:city\n",
      "Avenida São João Batista addr:street\n",
      "Nova Iguaçu addr:city\n",
      "Avenida São João Batista addr:street\n",
      "Nova Iguaçu addr:city\n",
      "Avenida São João Batista addr:street\n",
      "Nova Iguaçu addr:city\n",
      "Avenida São João Batista addr:street\n",
      "Nova Iguaçu addr:city\n",
      "Avenida São João Batista addr:street\n",
      "Nova Iguaçu addr:city\n",
      "Avenida São João Batista addr:street\n",
      "Nova Iguaçu addr:city\n",
      "Avenida São João Batista addr:street\n",
      "Nova Iguaçu addr:city\n",
      "Avenida São João Batista addr:street\n",
      "Nova Iguaçu addr:city\n",
      "Avenida São João Batista addr:street\n",
      "Nova Iguaçu addr:city\n",
      "Avenida São João Batista addr:street\n",
      "Nova Iguaçu addr:city\n",
      "Avenida São João Batista addr:street\n",
      "Nova Iguaçu addr:city\n",
      "Avenida São João Batista addr:street\n",
      "Nova Iguaçu addr:city\n",
      "Avenida São João Batista addr:street\n",
      "Nova Iguaçu addr:city\n",
      "Avenida São João Batista addr:street\n",
      "Nova Iguaçu addr:city\n",
      "Avenida São João Batista addr:street\n",
      "Nova Iguaçu addr:city\n",
      "Avenida São João Batista addr:street\n",
      "Nova Iguaçu addr:city\n",
      "Avenida São João Batista addr:street\n",
      "Nova Iguaçu addr:city\n",
      "Avenida São João Batista addr:street\n",
      "Nova Iguaçu addr:city\n",
      "Avenida São João Batista addr:street\n",
      "Nova Iguaçu addr:city\n",
      "Avenida São João Batista addr:street\n",
      "Nova Iguaçu addr:city\n",
      "Avenida São João Batista addr:street\n",
      "Nova Iguaçu addr:city\n",
      "Avenida São João Batista addr:street\n",
      "Nova Iguaçu addr:city\n",
      "Avenida São João Batista addr:street\n",
      "Nova Iguaçu addr:city\n",
      "Avenida São João Batista addr:street\n",
      "Nova Iguaçu addr:city\n",
      "Avenida São João Batista addr:street\n",
      "Nova Iguaçu addr:city\n",
      "Avenida São João Batista addr:street\n",
      "Nova Iguaçu addr:city\n",
      "Avenida São João Batista addr:street\n",
      "Nova Iguaçu addr:city\n",
      "Avenida São João Batista addr:street\n",
      "Nova Iguaçu addr:city\n",
      "Avenida São João Batista addr:street\n",
      "Nova Iguaçu addr:city\n",
      "Avenida São João Batista addr:street\n",
      "Nova Iguaçu addr:city\n",
      "Avenida São João Batista addr:street\n",
      "Nova Iguaçu addr:city\n",
      "Avenida São João Batista addr:street\n",
      "Nova Iguaçu addr:city\n",
      "Avenida São João Batista addr:street\n",
      "Nova Iguaçu addr:city\n",
      "Avenida São João Batista addr:street\n",
      "Nova Iguaçu addr:city\n",
      "Avenida São João Batista addr:street\n",
      "Nova Iguaçu addr:city\n",
      "Avenida São João Batista addr:street\n",
      "Nova Iguaçu addr:city\n",
      "Avenida São João Batista addr:street\n",
      "Nova Iguaçu addr:city\n",
      "Avenida São João Batista addr:street\n",
      "Nova Iguaçu addr:city\n",
      "Avenida São João Batista addr:street\n",
      "Nova Iguaçu addr:city\n",
      "Avenida São João Batista addr:street\n",
      "Nova Iguaçu addr:city\n",
      "Avenida São João Batista addr:street\n",
      "Nova Iguaçu addr:city\n",
      "Avenida São João Batista addr:street\n",
      "Nova Iguaçu addr:city\n",
      "Avenida São João Batista addr:street\n",
      "Nova Iguaçu addr:city\n",
      "Avenida São João Batista addr:street\n",
      "Nova Iguaçu addr:city\n",
      "Avenida São João Batista addr:street\n",
      "Nova Iguaçu addr:city\n",
      "Avenida São João Batista addr:street\n",
      "Nova Iguaçu addr:city\n",
      "Avenida São João Batista addr:street\n",
      "Nova Iguaçu addr:city\n",
      "Avenida São João Batista addr:street\n",
      "Nova Iguaçu addr:city\n",
      "Avenida São João Batista addr:street\n",
      "Nova Iguaçu addr:city\n",
      "Avenida São João Batista addr:street\n",
      "Nova Iguaçu addr:city\n",
      "Avenida São João Batista addr:street\n",
      "Nova Iguaçu addr:city\n",
      "Avenida São João Batista addr:street\n",
      "Nova Iguaçu addr:city\n",
      "Avenida São João Batista addr:street\n",
      "Nova Iguaçu addr:city\n",
      "Avenida São João Batista addr:street\n",
      "Nova Iguaçu addr:city\n",
      "Avenida São João Batista addr:street\n",
      "Nova Iguaçu addr:city\n",
      "Avenida São João Batista addr:street\n",
      "Nova Iguaçu addr:city\n",
      "Avenida São João Batista addr:street\n",
      "Nova Iguaçu addr:city\n",
      "Avenida São João Batista addr:street\n",
      "Nova Iguaçu addr:city\n",
      "Avenida São João Batista addr:street\n",
      "Local de Encontro, Informação e C description\n",
      "Avenida Felipe Salomão addr:street\n"
     ]
    },
    {
     "name": "stderr",
     "output_type": "stream",
     "text": [
      "Processing:  97%|█████████▋| 103276/106084 [02:17<00:03, 759.08it/s]"
     ]
    },
    {
     "name": "stdout",
     "output_type": "stream",
     "text": [
      "Empresa Brasileira de Correios e Telégrafos brand\n",
      "Tribobó Post Offic name:en\n",
      "Estrada de Jacarepaguá addr:street\n",
      "Avenida Doutor Eugênio Borges addr:street\n",
      "Niterói Baron Restaurant name:en\n",
      "Rua Visconde de Pirajá addr:street\n",
      "São Gonçalo addr:city\n",
      "Rua Expedicionário Aurélio Vieira Sampaio addr:street\n",
      "Avenida Doutor Eugênio Borges addr:street\n",
      "São Gonçalo addr:city\n",
      "Avenida Doutor Eugênio Borges addr:street\n",
      "Niterói addr:city\n"
     ]
    },
    {
     "name": "stderr",
     "output_type": "stream",
     "text": [
      "Processing:  97%|█████████▋| 103428/106084 [02:17<00:03, 755.79it/s]"
     ]
    },
    {
     "name": "stdout",
     "output_type": "stream",
     "text": [
      "Cidade Universitária addr:suburb\n",
      "São Francisco addr:suburb\n",
      "Posição estimada. Ajustar quando houver imagem atualizada comment\n",
      "Posição estimada. Ajustar quando houver imagem atualizada comment\n",
      "Posição estimada. Ajustar quando houver imagem atualizada comment\n",
      "Prefeitura de Niterói operator\n",
      "Distribuição Rio branch\n",
      "Gaúcha Star BBQ name:en\n"
     ]
    },
    {
     "name": "stderr",
     "output_type": "stream",
     "text": [
      "Processing:  98%|█████████▊| 103657/106084 [02:18<00:03, 757.52it/s]"
     ]
    },
    {
     "name": "stdout",
     "output_type": "stream",
     "text": [
      "pórtico bicycle_parking\n",
      "pórtico bicycle_parking\n",
      "Museu de Arte Contemporânea de Niterói operator\n",
      "Museu do Ingá operator\n"
     ]
    },
    {
     "name": "stderr",
     "output_type": "stream",
     "text": [
      "Processing:  98%|█████████▊| 103965/106084 [02:18<00:02, 757.62it/s]"
     ]
    },
    {
     "name": "stdout",
     "output_type": "stream",
     "text": [
      "transoceânica bicycle_parking\n",
      "transoceânica bicycle_parking\n",
      "transoceânica bicycle_parking\n",
      "transoceânica bicycle_parking\n",
      "transoceânica bicycle_parking\n",
      "transoceânica bicycle_parking\n",
      "transoceânica bicycle_parking\n",
      "Nova Iguaçu addr:city\n",
      "Moquetá addr:suburb\n",
      "Escola Municipal João Brazil operator\n",
      "transoceânica bicycle_parking\n"
     ]
    },
    {
     "name": "stderr",
     "output_type": "stream",
     "text": [
      "Processing:  98%|█████████▊| 104118/106084 [02:18<00:02, 753.54it/s]"
     ]
    },
    {
     "name": "stdout",
     "output_type": "stream",
     "text": [
      "pórtico bicycle_parking\n",
      "Niterói addr:city\n",
      "Avenida Washington Luís addr:street\n",
      "Niterói addr:city\n",
      "Travessa Santo Antônio addr:street\n",
      "Raphael Trem bão de minas name:pt\n",
      "Uaná etê Park name:en\n",
      "Parque Estadual do Grajaú operator\n",
      "Parque Estadual do Grajaú operator\n",
      "Parque Estadual do Grajaú operator\n",
      "Niterói addr:city\n",
      "Rua Presidente Craveiro Lópes addr:street\n",
      "Niterói addr:city\n",
      "Icaraí addr:suburb\n",
      "Niterói addr:city\n",
      "Rua Mem de Sá addr:street\n",
      "Icaraí addr:suburb\n",
      "Niterói addr:city\n",
      "Niterói addr:city\n",
      "Ingá addr:suburb\n",
      "Niterói addr:city\n",
      "Icaraí addr:suburb\n",
      "Niterói addr:city\n",
      "Avenida Quintino Bocaiúva addr:street\n",
      "São Francisco addr:suburb\n"
     ]
    },
    {
     "name": "stderr",
     "output_type": "stream",
     "text": [
      "Processing:  98%|█████████▊| 104271/106084 [02:19<00:02, 750.86it/s]"
     ]
    },
    {
     "name": "stdout",
     "output_type": "stream",
     "text": [
      "Maricá addr:city\n",
      "Itaipuaçú addr:suburb\n",
      "Maricá addr:city\n",
      "Itaipuaçú addr:suburb\n",
      "Niterói Muay Thai reference\n",
      "Niterói addr:city\n",
      "Rua Professor Otacílio addr:street\n",
      "São Gonçalo addr:city\n",
      "Estrada Conceição addr:street\n",
      "Itaúna addr:suburb\n",
      "São Gonçalo addr:city\n",
      "Rua Doutor Nilo Peçanha addr:street\n",
      "São Gonçalo addr:city\n",
      "Rua Doutor Nilo Peçanha addr:street\n",
      "ice_cream;açaí cuisine\n",
      "ice_cream;açaí cuisine\n"
     ]
    },
    {
     "name": "stderr",
     "output_type": "stream",
     "text": [
      "Processing:  98%|█████████▊| 104422/106084 [02:19<00:02, 743.82it/s]"
     ]
    },
    {
     "name": "stdout",
     "output_type": "stream",
     "text": [
      "Avenida Doutor Eugênio Borges addr:street\n",
      "Térreo level\n",
      "Maracanã addr:suburb\n",
      "Maracanã addr:suburb\n",
      "Rua Conselheiro Olegário addr:street\n",
      "Maracanã addr:suburb\n",
      "Rua São Francisco Xavier addr:street\n",
      "Maracanã addr:suburb\n",
      "Rua São Francisco Xavier addr:street\n",
      "Maracanã addr:suburb\n",
      "Rua São Francisco Xavier addr:street\n",
      "Maracanã addr:suburb\n",
      "Rua São Francisco Xavier addr:street\n",
      "Maracanã addr:suburb\n",
      "Maracanã addr:suburb\n",
      "Maracanã addr:suburb\n",
      "Maracanã addr:suburb\n",
      "\\Olá eu sou o Yoham, adestrador de cachorros profissional. Ofereço serviços de qualidade e personalizados para o seu Pet, sou um profissional capacitado e experiente, que trata animais com carinho e respeito. description\n",
      "paredão seamark:beacon_isolated_danger:shape\n"
     ]
    },
    {
     "name": "stderr",
     "output_type": "stream",
     "text": [
      "Processing:  99%|█████████▊| 104574/106084 [02:19<00:02, 712.57it/s]"
     ]
    },
    {
     "name": "stdout",
     "output_type": "stream",
     "text": [
      "Itaú operator\n",
      "itaú network\n",
      "MetrôRio operator\n",
      "Jardim Oceânico old_name\n",
      "MetrôRio operator\n",
      "Jardim Oceânico old_name\n",
      "MetrôRio operator\n",
      "MetrôRio operator\n",
      "MetrôRio operator\n",
      "MetrôRio operator\n",
      "MetrôRio operator\n",
      "MetrôRio operator\n",
      "MetrôRio operator\n",
      "MetrôRio operator\n",
      "Rua Barão da Torre addr:street\n",
      "Igreja Evangélica de Confissão Luterana no Brasil, network\n",
      "só subindo description\n",
      "só descendo description\n",
      "Anexo da Faculdade de Educação addr:suburb\n",
      "Avenida Doutor Eugênio Borges addr:street\n",
      "Marambaia Café brand\n",
      "Rua José Perigault, Loja 208 addr:street\n"
     ]
    },
    {
     "name": "stderr",
     "output_type": "stream",
     "text": [
      "Processing:  99%|█████████▊| 104727/106084 [02:19<00:01, 734.19it/s]"
     ]
    },
    {
     "name": "stdout",
     "output_type": "stream",
     "text": [
      "Niterói addr:city\n",
      "Rua Doutor Paulo César addr:street\n",
      "Niterói addr:city\n",
      "Icaraí addr:suburb\n",
      "Rua São Francisco Xavier addr:street\n",
      "Maracanã addr:suburb\n",
      "Rua Cambaúba addr:street\n",
      "Avenida das Américas addr:street\n"
     ]
    },
    {
     "name": "stderr",
     "output_type": "stream",
     "text": [
      "Processing:  99%|█████████▉| 104956/106084 [02:19<00:01, 749.05it/s]"
     ]
    },
    {
     "name": "stdout",
     "output_type": "stream",
     "text": [
      "Avenida Lúcio Costa addr:street\n",
      "Nossa Senhora da Glória official_name\n",
      "Luiz de Camões alt_name\n"
     ]
    },
    {
     "name": "stderr",
     "output_type": "stream",
     "text": [
      "Processing:  99%|█████████▉| 105031/106084 [02:20<00:01, 746.32it/s]"
     ]
    },
    {
     "name": "stdout",
     "output_type": "stream",
     "text": [
      "Prefeitura de Magé operator\n",
      "Prefeitura de Magé operator\n",
      "We-Sa 17:00–23:00 opening_hours\n",
      "Alameda São Boaventura addr:street\n",
      "Empresa Brasileira de Correios e Telégrafos brand\n",
      "Alameda São Boaventura addr:street\n",
      "Alameda São Boaventura addr:street\n",
      "Alameda São Boaventura addr:street\n",
      "Niterói addr:city\n",
      "Rua Doutor Heleno de Gregório addr:street\n",
      "Niterói addr:city\n",
      "O Boticário brand\n",
      "Grajaú addr:suburb\n",
      "Praça Edmundo Rego addr:street\n",
      "Grajaú addr:suburb\n",
      "Grajaú addr:suburb\n",
      "Grajaú addr:suburb\n",
      "Grajaú addr:suburb\n",
      "Grajaú addr:suburb\n",
      "Rua Doutor Beltrão addr:street\n",
      "Rua Doutor Beltrão addr:street\n",
      "Rua Viúva Dantas addr:street\n",
      "Niterói addr:city\n",
      "Icaraí addr:suburb\n",
      "Niterói addr:city\n",
      "Rua Joaquim Távora addr:street\n",
      "Icaraí addr:suburb\n",
      "Niterói addr:city\n",
      "Rua Gavião Peixoto addr:street\n",
      "Icaraí addr:suburb\n",
      "Niterói addr:city\n",
      "Icaraí addr:suburb\n",
      "Niterói addr:city\n",
      "Rua Belisário Augusto addr:street\n",
      "Icaraí addr:suburb\n",
      "Fecha às 20:00 hs opening_hours\n"
     ]
    },
    {
     "name": "stderr",
     "output_type": "stream",
     "text": [
      "Processing:  99%|█████████▉| 105337/106084 [02:20<00:00, 752.26it/s]"
     ]
    },
    {
     "name": "stdout",
     "output_type": "stream",
     "text": [
      "Niterói addr:city\n",
      "Avenida Irene Lopes Sodré addr:street\n",
      "Rua Vereador José Vicente Sobrinho addr:street\n",
      "Rua Vereador José Vicente Sobrinho addr:street\n",
      "Niterói addr:city\n",
      "São Gonçalo addr:city\n",
      "seg á sab 07:00-19:00 opening_hours\n",
      "São Gonçalo addr:city\n",
      "08 ás 17 opening_hours\n",
      "José e Jhonatan operator\n",
      "Niterói addr:city\n",
      "Seg á sab 07 ás 18 opening_hours\n",
      "Sérgio operator\n",
      "Rua Domingues de Sá addr:street\n",
      "Avenida Doutor Eugênio Borges addr:street\n"
     ]
    },
    {
     "name": "stderr",
     "output_type": "stream",
     "text": [
      "Processing: 100%|█████████▉| 105642/106084 [02:20<00:00, 751.34it/s]"
     ]
    },
    {
     "name": "stdout",
     "output_type": "stream",
     "text": [
      "Maricá addr:city\n",
      "São Gonçalo addr:city\n",
      "Parque Ecológico alt_name\n",
      "Conjunto Nova Maré alt_name\n",
      "Estrada de Jacarepaguá addr:street\n",
      "Estrada de Jacarepaguá addr:street\n",
      "Estrada de Jacarepaguá addr:street\n",
      "Rua Maestro Felício Toledo addr:street\n",
      "Rua Visconde de Pirajá addr:street\n"
     ]
    },
    {
     "name": "stderr",
     "output_type": "stream",
     "text": [
      "Processing: 100%|██████████| 106084/106084 [02:21<00:00, 749.83it/s]"
     ]
    },
    {
     "name": "stdout",
     "output_type": "stream",
     "text": [
      "São Gonçalo addr:city\n",
      "São Gonçalo addr:city\n",
      "São Gonçalo addr:city\n",
      "Suécia addr:suburb\n",
      "A Multisun é uma empresa líder e autoritaria em energia solar em Teresópolis, Brasil, e description\n",
      "Rua Elói Teixeira addr:street\n",
      "Universidade Estácio de Sá operator\n",
      "Rua José Júlio da Cunha Raposo addr:street\n",
      "Rua Vinícius de Moraes addr:street\n"
     ]
    },
    {
     "name": "stderr",
     "output_type": "stream",
     "text": [
      "\n"
     ]
    }
   ],
   "source": [
    "from tqdm import tqdm\n",
    "result =[]\n",
    "for index, row in tqdm(poi_df_nec.iterrows(), total=poi_df_nec.shape[0], desc=\"Processing\"):\n",
    "    # if index == 130:\n",
    "    #     print(store_poi(row))\n",
    "    result.append(store_poi(row))\n",
    "# result = poi_df_nec.apply(lambda x: store_poi(x), axis=1, result_type='expand')\n",
    "# poi_df_nec['poi_prompt']= result\n",
    "# poi_df_nec['poi_prompt'] = result"
   ]
  },
  {
   "cell_type": "code",
   "execution_count": 21,
   "id": "372db70c",
   "metadata": {},
   "outputs": [
    {
     "name": "stdout",
     "output_type": "stream",
     "text": [
      "<pandas._config.config.DictWrapper object at 0x00000218BDB0BB50>\n"
     ]
    }
   ],
   "source": [
    "import pandas as pd\n",
    "print(pd.options)"
   ]
  },
  {
   "cell_type": "code",
   "execution_count": 22,
   "id": "c8123326",
   "metadata": {},
   "outputs": [],
   "source": [
    "# poi_df_nec.to_csv(r\"E:\\xpj\\research\\POI\\poi_df_nec3.csv\")\n",
    "poi_df_nec['poi_prompt'] = result\n",
    "poi_df_nec.to_excel(poi_prompt_path)\n",
    "# poi_df_nec.to_csv(poi_prompt_path)\n"
   ]
  },
  {
   "cell_type": "code",
   "execution_count": 23,
   "id": "a1bf8a2e",
   "metadata": {},
   "outputs": [
    {
     "data": {
      "text/html": [
       "<div>\n",
       "<style scoped>\n",
       "    .dataframe tbody tr th:only-of-type {\n",
       "        vertical-align: middle;\n",
       "    }\n",
       "\n",
       "    .dataframe tbody tr th {\n",
       "        vertical-align: top;\n",
       "    }\n",
       "\n",
       "    .dataframe thead th {\n",
       "        text-align: right;\n",
       "    }\n",
       "</style>\n",
       "<table border=\"1\" class=\"dataframe\">\n",
       "  <thead>\n",
       "    <tr style=\"text-align: right;\">\n",
       "      <th></th>\n",
       "      <th>Unnamed: 0</th>\n",
       "      <th>id</th>\n",
       "      <th>name</th>\n",
       "      <th>barrier</th>\n",
       "      <th>highway</th>\n",
       "      <th>address</th>\n",
       "      <th>place</th>\n",
       "      <th>man_made</th>\n",
       "      <th>other_tags</th>\n",
       "      <th>poi_prompt</th>\n",
       "    </tr>\n",
       "  </thead>\n",
       "  <tbody>\n",
       "    <tr>\n",
       "      <th>0</th>\n",
       "      <td>0</td>\n",
       "      <td>1</td>\n",
       "      <td>NaN</td>\n",
       "      <td>NaN</td>\n",
       "      <td>speed_camera</td>\n",
       "      <td>NaN</td>\n",
       "      <td>NaN</td>\n",
       "      <td>NaN</td>\n",
       "      <td>\"maxspeed\"=&gt;\"90\",\"maxspeed:hgv\"=&gt;\"60\"</td>\n",
       "      <td>Nearby,highway is speed_camera,maxspeed is 90,maxspeed:hgv is 60,</td>\n",
       "    </tr>\n",
       "    <tr>\n",
       "      <th>1</th>\n",
       "      <td>1</td>\n",
       "      <td>2</td>\n",
       "      <td>NaN</td>\n",
       "      <td>NaN</td>\n",
       "      <td>motorway_junction</td>\n",
       "      <td>NaN</td>\n",
       "      <td>NaN</td>\n",
       "      <td>NaN</td>\n",
       "      <td>NaN</td>\n",
       "      <td>Nearby,highway is motorway_junction,</td>\n",
       "    </tr>\n",
       "    <tr>\n",
       "      <th>2</th>\n",
       "      <td>2</td>\n",
       "      <td>3</td>\n",
       "      <td>NaN</td>\n",
       "      <td>NaN</td>\n",
       "      <td>traffic_signals</td>\n",
       "      <td>NaN</td>\n",
       "      <td>NaN</td>\n",
       "      <td>NaN</td>\n",
       "      <td>NaN</td>\n",
       "      <td>Nearby,highway is traffic_signals,</td>\n",
       "    </tr>\n",
       "    <tr>\n",
       "      <th>3</th>\n",
       "      <td>3</td>\n",
       "      <td>4</td>\n",
       "      <td>NaN</td>\n",
       "      <td>NaN</td>\n",
       "      <td>crossing</td>\n",
       "      <td>NaN</td>\n",
       "      <td>NaN</td>\n",
       "      <td>NaN</td>\n",
       "      <td>\"traffic_calming\"=&gt;\"table\"</td>\n",
       "      <td>Nearby,highway is crossing,traffic_calming is table,</td>\n",
       "    </tr>\n",
       "    <tr>\n",
       "      <th>4</th>\n",
       "      <td>4</td>\n",
       "      <td>5</td>\n",
       "      <td>NaN</td>\n",
       "      <td>NaN</td>\n",
       "      <td>motorway_junction</td>\n",
       "      <td>NaN</td>\n",
       "      <td>NaN</td>\n",
       "      <td>NaN</td>\n",
       "      <td>NaN</td>\n",
       "      <td>Nearby,highway is motorway_junction,</td>\n",
       "    </tr>\n",
       "    <tr>\n",
       "      <th>...</th>\n",
       "      <td>...</td>\n",
       "      <td>...</td>\n",
       "      <td>...</td>\n",
       "      <td>...</td>\n",
       "      <td>...</td>\n",
       "      <td>...</td>\n",
       "      <td>...</td>\n",
       "      <td>...</td>\n",
       "      <td>...</td>\n",
       "      <td>...</td>\n",
       "    </tr>\n",
       "    <tr>\n",
       "      <th>106079</th>\n",
       "      <td>106079</td>\n",
       "      <td>106080</td>\n",
       "      <td>O Galeto</td>\n",
       "      <td>NaN</td>\n",
       "      <td>NaN</td>\n",
       "      <td>NaN</td>\n",
       "      <td>NaN</td>\n",
       "      <td>NaN</td>\n",
       "      <td>\"amenity\"=&gt;\"restaurant\"</td>\n",
       "      <td>Nearby,name is O Galeto,amenity is restaurant,</td>\n",
       "    </tr>\n",
       "    <tr>\n",
       "      <th>106080</th>\n",
       "      <td>106080</td>\n",
       "      <td>106081</td>\n",
       "      <td>Drogarias Tamoio</td>\n",
       "      <td>NaN</td>\n",
       "      <td>NaN</td>\n",
       "      <td>NaN</td>\n",
       "      <td>NaN</td>\n",
       "      <td>NaN</td>\n",
       "      <td>\"amenity\"=&gt;\"pharmacy\",\"healthcare\"=&gt;\"pharmacy\"</td>\n",
       "      <td>Nearby,name is Drogarias Tamoio,amenity is pharmacy,healthcare is pharmacy,</td>\n",
       "    </tr>\n",
       "    <tr>\n",
       "      <th>106081</th>\n",
       "      <td>106081</td>\n",
       "      <td>106082</td>\n",
       "      <td>Velocity/kore</td>\n",
       "      <td>NaN</td>\n",
       "      <td>NaN</td>\n",
       "      <td>NaN</td>\n",
       "      <td>NaN</td>\n",
       "      <td>NaN</td>\n",
       "      <td>\"leisure\"=&gt;\"fitness_centre\",\"sport\"=&gt;\"fitness\"</td>\n",
       "      <td>Nearby,name is Velocity/kore,leisure is fitness_centre,sport is fitness,</td>\n",
       "    </tr>\n",
       "    <tr>\n",
       "      <th>106082</th>\n",
       "      <td>106082</td>\n",
       "      <td>106083</td>\n",
       "      <td>Princesa</td>\n",
       "      <td>NaN</td>\n",
       "      <td>NaN</td>\n",
       "      <td>NaN</td>\n",
       "      <td>NaN</td>\n",
       "      <td>NaN</td>\n",
       "      <td>\"amenity\"=&gt;\"marketplace\",\"building\"=&gt;\"yes\",\"opening_hours\"=&gt;\"07:30-21:00\"</td>\n",
       "      <td>Nearby,name is Princesa,amenity is marketplace,building is yes,</td>\n",
       "    </tr>\n",
       "    <tr>\n",
       "      <th>106083</th>\n",
       "      <td>106083</td>\n",
       "      <td>106084</td>\n",
       "      <td>Mattinata</td>\n",
       "      <td>NaN</td>\n",
       "      <td>NaN</td>\n",
       "      <td>NaN</td>\n",
       "      <td>NaN</td>\n",
       "      <td>NaN</td>\n",
       "      <td>\"amenity\"=&gt;\"restaurant\"</td>\n",
       "      <td>Nearby,name is Mattinata,amenity is restaurant,</td>\n",
       "    </tr>\n",
       "  </tbody>\n",
       "</table>\n",
       "<p>106084 rows × 10 columns</p>\n",
       "</div>"
      ],
      "text/plain": [
       "        Unnamed: 0      id              name barrier            highway  \\\n",
       "0       0           1       NaN               NaN     speed_camera        \n",
       "1       1           2       NaN               NaN     motorway_junction   \n",
       "2       2           3       NaN               NaN     traffic_signals     \n",
       "3       3           4       NaN               NaN     crossing            \n",
       "4       4           5       NaN               NaN     motorway_junction   \n",
       "...    ..          ..       ...               ...                   ...   \n",
       "106079  106079      106080  O Galeto          NaN     NaN                 \n",
       "106080  106080      106081  Drogarias Tamoio  NaN     NaN                 \n",
       "106081  106081      106082  Velocity/kore     NaN     NaN                 \n",
       "106082  106082      106083  Princesa          NaN     NaN                 \n",
       "106083  106083      106084  Mattinata         NaN     NaN                 \n",
       "\n",
       "        address place man_made  \\\n",
       "0      NaN       NaN   NaN       \n",
       "1      NaN       NaN   NaN       \n",
       "2      NaN       NaN   NaN       \n",
       "3      NaN       NaN   NaN       \n",
       "4      NaN       NaN   NaN       \n",
       "...     ..       ...   ...       \n",
       "106079 NaN       NaN   NaN       \n",
       "106080 NaN       NaN   NaN       \n",
       "106081 NaN       NaN   NaN       \n",
       "106082 NaN       NaN   NaN       \n",
       "106083 NaN       NaN   NaN       \n",
       "\n",
       "                                                                       other_tags  \\\n",
       "0       \"maxspeed\"=>\"90\",\"maxspeed:hgv\"=>\"60\"                                       \n",
       "1       NaN                                                                         \n",
       "2       NaN                                                                         \n",
       "3       \"traffic_calming\"=>\"table\"                                                  \n",
       "4       NaN                                                                         \n",
       "...     ...                                                                         \n",
       "106079  \"amenity\"=>\"restaurant\"                                                     \n",
       "106080  \"amenity\"=>\"pharmacy\",\"healthcare\"=>\"pharmacy\"                              \n",
       "106081  \"leisure\"=>\"fitness_centre\",\"sport\"=>\"fitness\"                              \n",
       "106082  \"amenity\"=>\"marketplace\",\"building\"=>\"yes\",\"opening_hours\"=>\"07:30-21:00\"   \n",
       "106083  \"amenity\"=>\"restaurant\"                                                     \n",
       "\n",
       "                                                                         poi_prompt  \n",
       "0       Nearby,highway is speed_camera,maxspeed is 90,maxspeed:hgv is 60,            \n",
       "1       Nearby,highway is motorway_junction,                                         \n",
       "2       Nearby,highway is traffic_signals,                                           \n",
       "3       Nearby,highway is crossing,traffic_calming is table,                         \n",
       "4       Nearby,highway is motorway_junction,                                         \n",
       "...                                      ...                                         \n",
       "106079  Nearby,name is O Galeto,amenity is restaurant,                               \n",
       "106080  Nearby,name is Drogarias Tamoio,amenity is pharmacy,healthcare is pharmacy,  \n",
       "106081  Nearby,name is Velocity/kore,leisure is fitness_centre,sport is fitness,     \n",
       "106082  Nearby,name is Princesa,amenity is marketplace,building is yes,              \n",
       "106083  Nearby,name is Mattinata,amenity is restaurant,                              \n",
       "\n",
       "[106084 rows x 10 columns]"
      ]
     },
     "execution_count": 23,
     "metadata": {},
     "output_type": "execute_result"
    }
   ],
   "source": [
    "poi_df_nec =pd.read_excel(poi_prompt_path)\n",
    "poi_df_nec"
   ]
  },
  {
   "cell_type": "code",
   "execution_count": 24,
   "id": "8ebd614d-77e8-482a-992d-bbf7006f02d8",
   "metadata": {},
   "outputs": [],
   "source": [
    "def find_best_poi(x):\n",
    "    # print(x)\n",
    "    img_key = x['img_key']\n",
    "    # img_file = img_key+'.jpg'\n",
    "    img_file =img_key\n",
    "    try:\n",
    "        img_desc = desc_pd.loc[desc_pd['key']==img_file]['prompt'].iloc[0]\n",
    "    except:\n",
    "        print(\"The description of picture \" + img_file +\" doesn't exist\")\n",
    "        return  None,None\n",
    "    pois = x[1::2]\n",
    "    pois_dis =x[2::2]\n",
    "    # print(pois)\n",
    "    similarities = []\n",
    "    sentences = []\n",
    "    for index,poi in enumerate(pois):\n",
    "        # 设置距离阈值\n",
    "        if pois_dis[index] is not None and pois_dis[index]<100:\n",
    "\n",
    "            # # 根据id从poi_df_nec中找到poi_prompt\n",
    "            try:\n",
    "                sen = poi_df_nec.loc[poi_df_nec['id']==poi]['poi_prompt'].iloc[0]\n",
    "            except Exception as e:\n",
    "                print(e)\n",
    "                print(\"The poi_prompt of poi \" + poi +\" doesn't exist\")\n",
    "                continue\n",
    "            \n",
    "            # poi_im = poi_df_nec.loc[poi_df_nec['id']==poi]\n",
    "            # sen = genSent(poi_im)\n",
    "            # try:\n",
    "            # # 检查 DataFrame 是否为空\n",
    "            #     sen = poi_df_nec.loc[poi_df_nec['id']==poi]['poi_prompt'].iloc[0]\n",
    "            #     # 在此处理 sen 的其他操作\n",
    "\n",
    "            # except Exception as e:\n",
    "            #     print(e)\n",
    "            #     # print(\"An error occurred while processing poi \" + poi)\n",
    "            #     continue\n",
    "\n",
    "        \n",
    "            similarity = calc_similarity(img_desc,sen)\n",
    "            sentences.append(sen)\n",
    "            similarities.append(similarity)\n",
    "        \n",
    "    if len(similarities) == 0:\n",
    "        best_poi=None\n",
    "        return best_poi,0\n",
    "    elif similarities and max(similarities)>0.5:\n",
    "        best_poi = pois[similarities.index(max(similarities))]\n",
    "        return best_poi,max(similarities)"
   ]
  },
  {
   "cell_type": "code",
   "execution_count": 25,
   "id": "96e26ce3",
   "metadata": {},
   "outputs": [
    {
     "name": "stderr",
     "output_type": "stream",
     "text": [
      "Processing:   0%|          | 0/161152 [00:00<?, ?it/s]"
     ]
    },
    {
     "name": "stderr",
     "output_type": "stream",
     "text": [
      "Asking to truncate to max_length but no maximum length is provided and the model has no predefined maximum length. Default to no truncation.\n",
      "Processing:   0%|          | 426/161152 [02:25<12:04:05,  3.70it/s]"
     ]
    },
    {
     "name": "stdout",
     "output_type": "stream",
     "text": [
      "The description of picture 0a9UHflgJHdVNHHI6KvmZw doesn't exist\n"
     ]
    },
    {
     "name": "stderr",
     "output_type": "stream",
     "text": [
      "Processing:   1%|          | 1303/161152 [08:23<15:59:26,  2.78it/s]"
     ]
    },
    {
     "name": "stdout",
     "output_type": "stream",
     "text": [
      "The description of picture 0KALF3iCxVI-S12B0LRLOw doesn't exist\n"
     ]
    },
    {
     "name": "stderr",
     "output_type": "stream",
     "text": [
      "Processing:   1%|          | 1988/161152 [12:28<17:22:01,  2.55it/s]"
     ]
    },
    {
     "name": "stdout",
     "output_type": "stream",
     "text": [
      "The description of picture 0RWLtcK-JAwMLIbRzTasyQ doesn't exist\n"
     ]
    },
    {
     "name": "stderr",
     "output_type": "stream",
     "text": [
      "Processing:   2%|▏         | 3038/161152 [18:20<13:39:56,  3.21it/s]"
     ]
    },
    {
     "name": "stdout",
     "output_type": "stream",
     "text": [
      "The description of picture 190iimPWQJiC6BJCYRlNRA doesn't exist\n"
     ]
    },
    {
     "name": "stderr",
     "output_type": "stream",
     "text": [
      "Processing:   2%|▏         | 3337/161152 [20:00<15:10:18,  2.89it/s]"
     ]
    },
    {
     "name": "stdout",
     "output_type": "stream",
     "text": [
      "The description of picture 1DdHglZGyVNg5AqjzfzoDQ doesn't exist\n"
     ]
    },
    {
     "name": "stderr",
     "output_type": "stream",
     "text": [
      "Processing:   2%|▏         | 3368/161152 [20:11<19:23:18,  2.26it/s]"
     ]
    },
    {
     "name": "stdout",
     "output_type": "stream",
     "text": [
      "The description of picture 1-dkkClSwmPq3GgJJFADCw doesn't exist\n"
     ]
    },
    {
     "name": "stderr",
     "output_type": "stream",
     "text": [
      "Processing:   2%|▏         | 3538/161152 [21:10<9:21:50,  4.68it/s] "
     ]
    },
    {
     "name": "stdout",
     "output_type": "stream",
     "text": [
      "The description of picture _1FogLy6PUfsP8Z2RBT8XQ doesn't exist\n"
     ]
    },
    {
     "name": "stderr",
     "output_type": "stream",
     "text": [
      "Processing:   3%|▎         | 4053/161152 [24:05<12:38:10,  3.45it/s]"
     ]
    },
    {
     "name": "stdout",
     "output_type": "stream",
     "text": [
      "The description of picture 1_LP9X5U2-tayI-4DZGh2Q doesn't exist\n"
     ]
    },
    {
     "name": "stderr",
     "output_type": "stream",
     "text": [
      "Processing:   3%|▎         | 4194/161152 [24:53<9:11:55,  4.74it/s] "
     ]
    },
    {
     "name": "stdout",
     "output_type": "stream",
     "text": [
      "The description of picture 1nahRly3-b3bJMklLEAxlQ doesn't exist\n"
     ]
    },
    {
     "name": "stderr",
     "output_type": "stream",
     "text": [
      "Processing:   3%|▎         | 4352/161152 [25:47<8:39:09,  5.03it/s] "
     ]
    },
    {
     "name": "stdout",
     "output_type": "stream",
     "text": [
      "The description of picture 1p3tER70XzzoNTyxMXBRuA doesn't exist\n"
     ]
    },
    {
     "name": "stderr",
     "output_type": "stream",
     "text": [
      "Processing:   3%|▎         | 4798/161152 [28:13<16:42:14,  2.60it/s]"
     ]
    },
    {
     "name": "stdout",
     "output_type": "stream",
     "text": [
      "The description of picture 1_uAjj4ae5Vplc8Ky0eOXA doesn't exist\n"
     ]
    },
    {
     "name": "stderr",
     "output_type": "stream",
     "text": [
      "Processing:   3%|▎         | 5425/161152 [31:44<16:33:36,  2.61it/s]"
     ]
    },
    {
     "name": "stdout",
     "output_type": "stream",
     "text": [
      "The description of picture 22hVGQuFn0MiEpOiR30qgA doesn't exist\n"
     ]
    },
    {
     "name": "stderr",
     "output_type": "stream",
     "text": [
      "Processing:   4%|▎         | 5891/161152 [34:25<15:17:49,  2.82it/s]"
     ]
    },
    {
     "name": "stdout",
     "output_type": "stream",
     "text": [
      "The description of picture 2CBrHx3RlwQDnswPbRhQNA doesn't exist\n"
     ]
    },
    {
     "name": "stderr",
     "output_type": "stream",
     "text": [
      "Processing:   5%|▍         | 7255/161152 [42:03<13:40:26,  3.13it/s]"
     ]
    },
    {
     "name": "stdout",
     "output_type": "stream",
     "text": [
      "The description of picture 2SACbNCoYrym83ahot23WA doesn't exist\n"
     ]
    },
    {
     "name": "stderr",
     "output_type": "stream",
     "text": [
      "Processing:   6%|▌         | 8979/161152 [51:48<9:47:35,  4.32it/s] "
     ]
    },
    {
     "name": "stdout",
     "output_type": "stream",
     "text": [
      "The description of picture 3hI__f7PvMx4TF-JATuw0A doesn't exist\n"
     ]
    },
    {
     "name": "stderr",
     "output_type": "stream",
     "text": [
      "Processing:   6%|▌         | 9065/161152 [52:14<10:48:06,  3.91it/s]"
     ]
    },
    {
     "name": "stdout",
     "output_type": "stream",
     "text": [
      "The description of picture 3Im4wwugi9rtKLVkv9S7Bw doesn't exist\n"
     ]
    },
    {
     "name": "stderr",
     "output_type": "stream",
     "text": [
      "Processing:   6%|▋         | 10318/161152 [59:11<14:43:20,  2.85it/s]"
     ]
    },
    {
     "name": "stdout",
     "output_type": "stream",
     "text": [
      "The description of picture 3xui0R-KZYFkxi0C5eIuNg doesn't exist\n"
     ]
    },
    {
     "name": "stderr",
     "output_type": "stream",
     "text": [
      "Processing:   8%|▊         | 12503/161152 [1:11:37<9:20:55,  4.42it/s] "
     ]
    },
    {
     "name": "stdout",
     "output_type": "stream",
     "text": [
      "The description of picture 4sYGkN7ygnYnE0NHezHGaA doesn't exist\n"
     ]
    },
    {
     "name": "stderr",
     "output_type": "stream",
     "text": [
      "Processing:   8%|▊         | 13136/161152 [1:15:12<15:14:20,  2.70it/s]"
     ]
    },
    {
     "name": "stdout",
     "output_type": "stream",
     "text": [
      "The description of picture 50Jpw3cxZpJM2gkzSzGA_g doesn't exist\n"
     ]
    },
    {
     "name": "stderr",
     "output_type": "stream",
     "text": [
      "Processing:   8%|▊         | 13200/161152 [1:15:34<17:23:49,  2.36it/s]"
     ]
    },
    {
     "name": "stdout",
     "output_type": "stream",
     "text": [
      "The description of picture 52aZ0HhIT7MdeFX_JMFn0w doesn't exist\n"
     ]
    },
    {
     "name": "stderr",
     "output_type": "stream",
     "text": [
      "Processing:   8%|▊         | 13247/161152 [1:15:49<15:37:09,  2.63it/s]"
     ]
    },
    {
     "name": "stdout",
     "output_type": "stream",
     "text": [
      "The description of picture 53IksEWWWeCdTcswpI_1LA doesn't exist\n"
     ]
    },
    {
     "name": "stderr",
     "output_type": "stream",
     "text": [
      "Processing:   8%|▊         | 13428/161152 [1:16:48<13:14:57,  3.10it/s]"
     ]
    },
    {
     "name": "stdout",
     "output_type": "stream",
     "text": [
      "The description of picture 57VQEbYhFnF_XLUb-vMZow doesn't exist\n"
     ]
    },
    {
     "name": "stderr",
     "output_type": "stream",
     "text": [
      "Processing:   9%|▊         | 14053/161152 [1:20:28<20:08:30,  2.03it/s]"
     ]
    },
    {
     "name": "stdout",
     "output_type": "stream",
     "text": [
      "The description of picture 5FUgzItkpVW8uxLdtwd2JA doesn't exist\n"
     ]
    },
    {
     "name": "stderr",
     "output_type": "stream",
     "text": [
      "Processing:   9%|▊         | 14085/161152 [1:20:40<18:01:04,  2.27it/s]"
     ]
    },
    {
     "name": "stdout",
     "output_type": "stream",
     "text": [
      "The description of picture 5gbUyDLQf5Ra5nwCvZbcGg doesn't exist\n"
     ]
    },
    {
     "name": "stderr",
     "output_type": "stream",
     "text": [
      "Processing:   9%|▉         | 14941/161152 [1:25:33<14:24:49,  2.82it/s]"
     ]
    },
    {
     "name": "stdout",
     "output_type": "stream",
     "text": [
      "The description of picture 5Qsc-k1MnJYk-YVyzboeHg doesn't exist\n"
     ]
    },
    {
     "name": "stderr",
     "output_type": "stream",
     "text": [
      "Processing:  10%|▉         | 15545/161152 [1:29:04<15:06:31,  2.68it/s]"
     ]
    },
    {
     "name": "stdout",
     "output_type": "stream",
     "text": [
      "The description of picture 5Xrr3uDwd-goJlhpn-bRzw doesn't exist\n"
     ]
    },
    {
     "name": "stderr",
     "output_type": "stream",
     "text": [
      "Processing:  10%|▉         | 15608/161152 [1:29:21<10:39:43,  3.79it/s]"
     ]
    },
    {
     "name": "stdout",
     "output_type": "stream",
     "text": [
      "The description of picture 5YHKGgmxXdRf_vgxrwI5Cg doesn't exist\n"
     ]
    },
    {
     "name": "stderr",
     "output_type": "stream",
     "text": [
      "Processing:  10%|▉         | 16099/161152 [1:32:12<12:17:20,  3.28it/s]"
     ]
    },
    {
     "name": "stdout",
     "output_type": "stream",
     "text": [
      "The description of picture 68ioUaIjXjA8aA8l3gxXlA doesn't exist\n"
     ]
    },
    {
     "name": "stderr",
     "output_type": "stream",
     "text": [
      "Processing:  12%|█▏        | 18542/161152 [1:46:55<14:36:13,  2.71it/s]"
     ]
    },
    {
     "name": "stdout",
     "output_type": "stream",
     "text": [
      "The description of picture 76aUxEFeNbdmqiExikSRaQ doesn't exist\n"
     ]
    },
    {
     "name": "stderr",
     "output_type": "stream",
     "text": [
      "Processing:  12%|█▏        | 19959/161152 [1:55:02<13:11:45,  2.97it/s]"
     ]
    },
    {
     "name": "stdout",
     "output_type": "stream",
     "text": [
      "The description of picture 7OHn4Zr7JLORrl_ZHM_8ww doesn't exist\n"
     ]
    },
    {
     "name": "stderr",
     "output_type": "stream",
     "text": [
      "Processing:  12%|█▏        | 20067/161152 [1:55:40<13:46:26,  2.85it/s]"
     ]
    },
    {
     "name": "stdout",
     "output_type": "stream",
     "text": [
      "The description of picture 7PjxF-i3rNf_WNqeDYRAUA doesn't exist\n"
     ]
    },
    {
     "name": "stderr",
     "output_type": "stream",
     "text": [
      "Processing:  13%|█▎        | 20181/161152 [1:56:19<12:18:47,  3.18it/s]"
     ]
    },
    {
     "name": "stdout",
     "output_type": "stream",
     "text": [
      "The description of picture 7QU5aiojNcnTuFow0SQnDw doesn't exist\n"
     ]
    },
    {
     "name": "stderr",
     "output_type": "stream",
     "text": [
      "Processing:  13%|█▎        | 20641/161152 [1:59:39<12:06:48,  3.22it/s]"
     ]
    },
    {
     "name": "stdout",
     "output_type": "stream",
     "text": [
      "The description of picture 7woAIsT0GXK6pHEYtTlwVQ doesn't exist\n"
     ]
    },
    {
     "name": "stderr",
     "output_type": "stream",
     "text": [
      "Processing:  13%|█▎        | 20832/161152 [2:01:14<11:58:02,  3.26it/s]"
     ]
    },
    {
     "name": "stdout",
     "output_type": "stream",
     "text": [
      "The description of picture 7YScjOryESfwejz7ZQeIBg doesn't exist\n"
     ]
    },
    {
     "name": "stderr",
     "output_type": "stream",
     "text": [
      "Processing:  13%|█▎        | 21143/161152 [2:03:28<8:30:40,  4.57it/s] "
     ]
    },
    {
     "name": "stdout",
     "output_type": "stream",
     "text": [
      "The description of picture 84w1wrLRwwvchAlWJD-4pQ doesn't exist\n"
     ]
    },
    {
     "name": "stderr",
     "output_type": "stream",
     "text": [
      "Processing:  13%|█▎        | 21470/161152 [2:05:59<22:32:48,  1.72it/s]"
     ]
    },
    {
     "name": "stdout",
     "output_type": "stream",
     "text": [
      "The description of picture 8AZTk5Q9Xb4qevIjo8TyhQ doesn't exist\n"
     ]
    },
    {
     "name": "stderr",
     "output_type": "stream",
     "text": [
      "Processing:  13%|█▎        | 21613/161152 [2:07:02<14:29:13,  2.68it/s]"
     ]
    },
    {
     "name": "stdout",
     "output_type": "stream",
     "text": [
      "The description of picture 8cohhp6e7WMrO4SDxf9LQw doesn't exist\n"
     ]
    },
    {
     "name": "stderr",
     "output_type": "stream",
     "text": [
      "Processing:  14%|█▎        | 21773/161152 [2:08:20<14:29:35,  2.67it/s]"
     ]
    },
    {
     "name": "stdout",
     "output_type": "stream",
     "text": [
      "The description of picture 8E_MTY9gmpfxsYo_1ZUSfw doesn't exist\n"
     ]
    },
    {
     "name": "stderr",
     "output_type": "stream",
     "text": [
      "Processing:  14%|█▍        | 22469/161152 [2:13:37<13:28:09,  2.86it/s]"
     ]
    },
    {
     "name": "stdout",
     "output_type": "stream",
     "text": [
      "The description of picture 8MzIYOE6IYKZAQigb52sAg doesn't exist\n"
     ]
    },
    {
     "name": "stderr",
     "output_type": "stream",
     "text": [
      "Processing:  15%|█▍        | 23748/161152 [2:23:17<22:21:26,  1.71it/s]"
     ]
    },
    {
     "name": "stdout",
     "output_type": "stream",
     "text": [
      "The description of picture 95_Gr6axhcuveJr9kTALfg doesn't exist\n"
     ]
    },
    {
     "name": "stderr",
     "output_type": "stream",
     "text": [
      "Processing:  15%|█▌        | 24687/161152 [2:30:20<10:38:08,  3.56it/s]"
     ]
    },
    {
     "name": "stdout",
     "output_type": "stream",
     "text": [
      "The description of picture -9iMSUP46Vh4XFDYzfMzDg doesn't exist\n"
     ]
    },
    {
     "name": "stderr",
     "output_type": "stream",
     "text": [
      "Processing:  16%|█▌        | 25325/161152 [2:35:06<19:07:18,  1.97it/s]"
     ]
    },
    {
     "name": "stdout",
     "output_type": "stream",
     "text": [
      "The description of picture -9ptXzjQeT5Js431QvFxNA doesn't exist\n"
     ]
    },
    {
     "name": "stderr",
     "output_type": "stream",
     "text": [
      "Processing:  16%|█▋        | 26250/161152 [2:40:30<15:47:37,  2.37it/s]"
     ]
    },
    {
     "name": "stdout",
     "output_type": "stream",
     "text": [
      "The description of picture a07EYZ4jKOySQL9GmkuXGw doesn't exist\n"
     ]
    },
    {
     "name": "stderr",
     "output_type": "stream",
     "text": [
      "Processing:  17%|█▋        | 27400/161152 [2:46:31<8:25:15,  4.41it/s] "
     ]
    },
    {
     "name": "stdout",
     "output_type": "stream",
     "text": [
      "The description of picture acHLRJApN-qTx6dsCw9JgQ doesn't exist\n"
     ]
    },
    {
     "name": "stderr",
     "output_type": "stream",
     "text": [
      "Processing:  17%|█▋        | 27545/161152 [2:47:21<7:10:52,  5.17it/s] "
     ]
    },
    {
     "name": "stdout",
     "output_type": "stream",
     "text": [
      "The description of picture ad9_tv86S9qOCkQPEiNiaw doesn't exist\n"
     ]
    },
    {
     "name": "stderr",
     "output_type": "stream",
     "text": [
      "Processing:  19%|█▉        | 30447/161152 [3:03:23<10:39:06,  3.41it/s]"
     ]
    },
    {
     "name": "stdout",
     "output_type": "stream",
     "text": [
      "The description of picture AuHorpENDWCUENIgzMMcVg doesn't exist\n"
     ]
    },
    {
     "name": "stderr",
     "output_type": "stream",
     "text": [
      "Processing:  19%|█▉        | 30948/161152 [3:06:21<13:27:30,  2.69it/s]"
     ]
    },
    {
     "name": "stdout",
     "output_type": "stream",
     "text": [
      "The description of picture AXePmOyuxSQtoUX55wlXjQ doesn't exist\n"
     ]
    },
    {
     "name": "stderr",
     "output_type": "stream",
     "text": [
      "Processing:  21%|██        | 33589/161152 [3:21:47<7:46:46,  4.55it/s] "
     ]
    },
    {
     "name": "stdout",
     "output_type": "stream",
     "text": [
      "The description of picture bIev9-SE95UH_Dwuwm8S2g doesn't exist\n"
     ]
    },
    {
     "name": "stderr",
     "output_type": "stream",
     "text": [
      "Processing:  21%|██▏       | 34450/161152 [3:26:42<5:49:34,  6.04it/s] "
     ]
    },
    {
     "name": "stdout",
     "output_type": "stream",
     "text": [
      "The description of picture BnLVxA6YceGDyZvp14oNPg doesn't exist\n"
     ]
    },
    {
     "name": "stderr",
     "output_type": "stream",
     "text": [
      "Processing:  22%|██▏       | 35019/161152 [3:29:49<9:21:13,  3.75it/s] "
     ]
    },
    {
     "name": "stdout",
     "output_type": "stream",
     "text": [
      "The description of picture bqybZit-DL8PNB5R-GOIVQ doesn't exist\n"
     ]
    },
    {
     "name": "stderr",
     "output_type": "stream",
     "text": [
      "Processing:  22%|██▏       | 35277/161152 [3:31:15<10:22:25,  3.37it/s]"
     ]
    },
    {
     "name": "stdout",
     "output_type": "stream",
     "text": [
      "The description of picture BsMjK66zxUOxRb6XOzqXNQ doesn't exist\n"
     ]
    },
    {
     "name": "stderr",
     "output_type": "stream",
     "text": [
      "Processing:  22%|██▏       | 36213/161152 [3:36:29<13:55:16,  2.49it/s]"
     ]
    },
    {
     "name": "stdout",
     "output_type": "stream",
     "text": [
      "The description of picture BY-ckXSH_TuWgFYhdcgX6g doesn't exist\n"
     ]
    },
    {
     "name": "stderr",
     "output_type": "stream",
     "text": [
      "Processing:  23%|██▎       | 37501/161152 [3:43:41<11:10:16,  3.07it/s]"
     ]
    },
    {
     "name": "stdout",
     "output_type": "stream",
     "text": [
      "The description of picture cAUV2vdgDgWJniG14d2U9A doesn't exist\n"
     ]
    },
    {
     "name": "stderr",
     "output_type": "stream",
     "text": [
      "Processing:  24%|██▍       | 39402/161152 [3:57:01<20:18:38,  1.67it/s]"
     ]
    },
    {
     "name": "stdout",
     "output_type": "stream",
     "text": [
      "The description of picture cmepUfQIG6ykrJNbQOgmoQ doesn't exist\n"
     ]
    },
    {
     "name": "stderr",
     "output_type": "stream",
     "text": [
      "Processing:  25%|██▌       | 41082/161152 [4:09:45<14:29:56,  2.30it/s]"
     ]
    },
    {
     "name": "stdout",
     "output_type": "stream",
     "text": [
      "The description of picture cwF8ELQ4NpvO8go3y-_3Cw doesn't exist\n"
     ]
    },
    {
     "name": "stderr",
     "output_type": "stream",
     "text": [
      "Processing:  26%|██▌       | 41475/161152 [4:12:49<15:00:35,  2.21it/s]"
     ]
    },
    {
     "name": "stdout",
     "output_type": "stream",
     "text": [
      "The description of picture cyNYCxKzRKb1JmSNpVDTbw doesn't exist\n"
     ]
    },
    {
     "name": "stderr",
     "output_type": "stream",
     "text": [
      "Processing:  26%|██▌       | 41841/161152 [4:15:44<12:37:57,  2.62it/s]"
     ]
    },
    {
     "name": "stdout",
     "output_type": "stream",
     "text": [
      "The description of picture D1kdAgTORqnXCc8i6iI20w doesn't exist\n"
     ]
    },
    {
     "name": "stderr",
     "output_type": "stream",
     "text": [
      "Processing:  27%|██▋       | 44152/161152 [4:33:31<15:09:00,  2.15it/s]"
     ]
    },
    {
     "name": "stdout",
     "output_type": "stream",
     "text": [
      "The description of picture -DJyjhs9bXx6rM-lavo5yw doesn't exist\n"
     ]
    },
    {
     "name": "stderr",
     "output_type": "stream",
     "text": [
      "Processing:  28%|██▊       | 45028/161152 [4:40:16<13:39:28,  2.36it/s]"
     ]
    },
    {
     "name": "stdout",
     "output_type": "stream",
     "text": [
      "The description of picture dP4KdUJ8Zn2qfrcUTrBtEg doesn't exist\n"
     ]
    },
    {
     "name": "stderr",
     "output_type": "stream",
     "text": [
      "Processing:  29%|██▉       | 46416/161152 [4:50:45<9:28:40,  3.36it/s] "
     ]
    },
    {
     "name": "stdout",
     "output_type": "stream",
     "text": [
      "The description of picture dX1Bb1AvT0YfzWwOhyt0Fw doesn't exist\n"
     ]
    },
    {
     "name": "stderr",
     "output_type": "stream",
     "text": [
      "Processing:  29%|██▉       | 46771/161152 [4:53:34<12:38:50,  2.51it/s]"
     ]
    },
    {
     "name": "stdout",
     "output_type": "stream",
     "text": [
      "The description of picture DZ6PK9I84vyPQvx36FfbAQ doesn't exist\n"
     ]
    },
    {
     "name": "stderr",
     "output_type": "stream",
     "text": [
      "Processing:  30%|██▉       | 47665/161152 [5:00:13<12:13:46,  2.58it/s]"
     ]
    },
    {
     "name": "stdout",
     "output_type": "stream",
     "text": [
      "The description of picture e8L58ipDuf1dX1Q-D1dg6g doesn't exist\n"
     ]
    },
    {
     "name": "stderr",
     "output_type": "stream",
     "text": [
      "Processing:  30%|███       | 48422/161152 [5:06:03<13:41:52,  2.29it/s]"
     ]
    },
    {
     "name": "stdout",
     "output_type": "stream",
     "text": [
      "The description of picture eDRQEfI5GFVzvLkeaJOXlw doesn't exist\n"
     ]
    },
    {
     "name": "stderr",
     "output_type": "stream",
     "text": [
      "Processing:  30%|███       | 48687/161152 [5:08:05<13:18:16,  2.35it/s]"
     ]
    },
    {
     "name": "stdout",
     "output_type": "stream",
     "text": [
      "The description of picture EffxUQZHGgLGPRLhgEM1BQ doesn't exist\n"
     ]
    },
    {
     "name": "stderr",
     "output_type": "stream",
     "text": [
      "Processing:  30%|███       | 48736/161152 [5:08:24<12:46:24,  2.44it/s]"
     ]
    },
    {
     "name": "stdout",
     "output_type": "stream",
     "text": [
      "The description of picture EfQIoFn7iarayIUc-nljjQ doesn't exist\n"
     ]
    },
    {
     "name": "stderr",
     "output_type": "stream",
     "text": [
      "Processing:  31%|███       | 50016/161152 [5:18:17<12:53:49,  2.39it/s]"
     ]
    },
    {
     "name": "stdout",
     "output_type": "stream",
     "text": [
      "The description of picture eN06qt9fg3c9RNMPYsTxCQ doesn't exist\n"
     ]
    },
    {
     "name": "stderr",
     "output_type": "stream",
     "text": [
      "Processing:  31%|███▏      | 50534/161152 [5:22:22<13:04:15,  2.35it/s]"
     ]
    },
    {
     "name": "stdout",
     "output_type": "stream",
     "text": [
      "The description of picture EQ5v87lf2P3rwkfyG4Esqw doesn't exist\n"
     ]
    },
    {
     "name": "stderr",
     "output_type": "stream",
     "text": [
      "Processing:  32%|███▏      | 52178/161152 [5:34:55<13:09:33,  2.30it/s]"
     ]
    },
    {
     "name": "stdout",
     "output_type": "stream",
     "text": [
      "The description of picture EZXfbddSVKXlScNJLZfVOw doesn't exist\n"
     ]
    },
    {
     "name": "stderr",
     "output_type": "stream",
     "text": [
      "Processing:  33%|███▎      | 52757/161152 [5:39:20<10:07:27,  2.97it/s]"
     ]
    },
    {
     "name": "stdout",
     "output_type": "stream",
     "text": [
      "The description of picture f6HxpPlq8oU94Lqd9iGFNg doesn't exist\n"
     ]
    },
    {
     "name": "stderr",
     "output_type": "stream",
     "text": [
      "Processing:  33%|███▎      | 52943/161152 [5:40:47<17:45:32,  1.69it/s]"
     ]
    },
    {
     "name": "stdout",
     "output_type": "stream",
     "text": [
      "The description of picture F8HRau96vpKuC_4thgg9eA doesn't exist\n"
     ]
    },
    {
     "name": "stderr",
     "output_type": "stream",
     "text": [
      "Processing:  33%|███▎      | 53768/161152 [5:47:08<13:57:38,  2.14it/s]"
     ]
    },
    {
     "name": "stdout",
     "output_type": "stream",
     "text": [
      "The description of picture fE5Ky1jjfXlR6BwKijM5ig doesn't exist\n"
     ]
    },
    {
     "name": "stderr",
     "output_type": "stream",
     "text": [
      "Processing:  34%|███▍      | 54900/161152 [5:56:01<11:31:47,  2.56it/s]"
     ]
    },
    {
     "name": "stdout",
     "output_type": "stream",
     "text": [
      "The description of picture fKvfnmlLSOeUDTEuheHtYQ doesn't exist\n"
     ]
    },
    {
     "name": "stderr",
     "output_type": "stream",
     "text": [
      "Processing:  35%|███▍      | 55603/161152 [6:01:28<16:54:16,  1.73it/s]"
     ]
    },
    {
     "name": "stdout",
     "output_type": "stream",
     "text": [
      "The description of picture Fp9apUjX2SJ3kaLiOlMKcQ doesn't exist\n"
     ]
    },
    {
     "name": "stderr",
     "output_type": "stream",
     "text": [
      "Processing:  35%|███▌      | 56663/161152 [6:09:27<15:17:47,  1.90it/s]"
     ]
    },
    {
     "name": "stdout",
     "output_type": "stream",
     "text": [
      "The description of picture fvSvZuqOTGN4OUsSYiNRAw doesn't exist\n"
     ]
    },
    {
     "name": "stderr",
     "output_type": "stream",
     "text": [
      "Processing:  35%|███▌      | 56736/161152 [6:09:59<11:26:44,  2.53it/s]"
     ]
    },
    {
     "name": "stdout",
     "output_type": "stream",
     "text": [
      "The description of picture fwaBsH8u7-UDH56DNwy3dw doesn't exist\n"
     ]
    },
    {
     "name": "stderr",
     "output_type": "stream",
     "text": [
      "Processing:  35%|███▌      | 56846/161152 [6:10:44<6:30:04,  4.46it/s] "
     ]
    },
    {
     "name": "stdout",
     "output_type": "stream",
     "text": [
      "The description of picture FwZ6Ppz5oyKs2o5wrsO8kQ doesn't exist\n"
     ]
    },
    {
     "name": "stderr",
     "output_type": "stream",
     "text": [
      "Processing:  35%|███▌      | 57121/161152 [6:12:52<16:01:39,  1.80it/s]"
     ]
    },
    {
     "name": "stdout",
     "output_type": "stream",
     "text": [
      "The description of picture FynltfqlHwRMEMQKiQQcmA doesn't exist\n"
     ]
    },
    {
     "name": "stderr",
     "output_type": "stream",
     "text": [
      "Processing:  36%|███▌      | 57285/161152 [6:14:08<16:05:37,  1.79it/s]"
     ]
    },
    {
     "name": "stdout",
     "output_type": "stream",
     "text": [
      "The description of picture FznKKUv1yT_f8QcIV7p11A doesn't exist\n"
     ]
    },
    {
     "name": "stderr",
     "output_type": "stream",
     "text": [
      "Processing:  36%|███▌      | 57750/161152 [6:17:40<11:25:06,  2.52it/s]"
     ]
    },
    {
     "name": "stdout",
     "output_type": "stream",
     "text": [
      "The description of picture g462CIOuofrU8MVVMBIA6Q doesn't exist\n"
     ]
    },
    {
     "name": "stderr",
     "output_type": "stream",
     "text": [
      "Processing:  37%|███▋      | 59647/161152 [6:32:10<10:06:12,  2.79it/s]"
     ]
    },
    {
     "name": "stdout",
     "output_type": "stream",
     "text": [
      "The description of picture gI_k8ZwXC6hHwjwwTHOuaQ doesn't exist\n"
     ]
    },
    {
     "name": "stderr",
     "output_type": "stream",
     "text": [
      "Processing:  38%|███▊      | 60857/161152 [6:41:30<8:45:23,  3.18it/s] "
     ]
    },
    {
     "name": "stdout",
     "output_type": "stream",
     "text": [
      "The description of picture gPVhnKjFGpmCThtbL1ZioQ doesn't exist\n"
     ]
    },
    {
     "name": "stderr",
     "output_type": "stream",
     "text": [
      "Processing:  38%|███▊      | 61425/161152 [6:45:50<12:15:34,  2.26it/s]"
     ]
    },
    {
     "name": "stdout",
     "output_type": "stream",
     "text": [
      "The description of picture GTBqidgZOHAB8p1SRrQHMQ doesn't exist\n"
     ]
    },
    {
     "name": "stderr",
     "output_type": "stream",
     "text": [
      "Processing:  38%|███▊      | 61700/161152 [6:47:53<8:39:10,  3.19it/s] "
     ]
    },
    {
     "name": "stdout",
     "output_type": "stream",
     "text": [
      "The description of picture Guy3l9ffiAa5vA5QNwZelg doesn't exist\n"
     ]
    },
    {
     "name": "stderr",
     "output_type": "stream",
     "text": [
      "Processing:  39%|███▉      | 62598/161152 [6:54:26<7:22:00,  3.72it/s] "
     ]
    },
    {
     "name": "stdout",
     "output_type": "stream",
     "text": [
      "The description of picture gzxuVqkoWxVCTdwayYDJ8w doesn't exist\n"
     ]
    },
    {
     "name": "stderr",
     "output_type": "stream",
     "text": [
      "Processing:  39%|███▉      | 62712/161152 [6:55:20<13:22:14,  2.05it/s]"
     ]
    },
    {
     "name": "stdout",
     "output_type": "stream",
     "text": [
      "The description of picture H1fsZuVS1XSDzmCMwrjC9g doesn't exist\n"
     ]
    },
    {
     "name": "stderr",
     "output_type": "stream",
     "text": [
      "Processing:  39%|███▉      | 63602/161152 [7:01:43<5:12:52,  5.20it/s] "
     ]
    },
    {
     "name": "stdout",
     "output_type": "stream",
     "text": [
      "The description of picture HayCWvu41doIZ6sBHTzHHA doesn't exist\n"
     ]
    },
    {
     "name": "stderr",
     "output_type": "stream",
     "text": [
      "Processing:  40%|████      | 64974/161152 [7:11:48<9:53:36,  2.70it/s] "
     ]
    },
    {
     "name": "stdout",
     "output_type": "stream",
     "text": [
      "The description of picture hJgpdgvsC2Vvbz1kwPkyDw doesn't exist\n"
     ]
    },
    {
     "name": "stderr",
     "output_type": "stream",
     "text": [
      "Processing:  40%|████      | 65010/161152 [7:12:03<10:44:03,  2.49it/s]"
     ]
    },
    {
     "name": "stdout",
     "output_type": "stream",
     "text": [
      "The description of picture HJM-ShlGLTXRkIegilElJw doesn't exist\n"
     ]
    },
    {
     "name": "stderr",
     "output_type": "stream",
     "text": [
      "Processing:  41%|████      | 65850/161152 [7:18:08<7:37:12,  3.47it/s] "
     ]
    },
    {
     "name": "stdout",
     "output_type": "stream",
     "text": [
      "The description of picture HOuanBjDnEsCI2G7eejt0Q doesn't exist\n"
     ]
    },
    {
     "name": "stderr",
     "output_type": "stream",
     "text": [
      "Processing:  41%|████      | 65891/161152 [7:18:28<15:47:45,  1.68it/s]"
     ]
    },
    {
     "name": "stdout",
     "output_type": "stream",
     "text": [
      "The description of picture hP2HXlABSY342nsVK_nFSg doesn't exist\n"
     ]
    },
    {
     "name": "stderr",
     "output_type": "stream",
     "text": [
      "Processing:  41%|████      | 66010/161152 [7:19:23<8:35:56,  3.07it/s] "
     ]
    },
    {
     "name": "stdout",
     "output_type": "stream",
     "text": [
      "The description of picture hPu_vGbMYTgePGUlTdUc_A doesn't exist\n"
     ]
    },
    {
     "name": "stderr",
     "output_type": "stream",
     "text": [
      "Processing:  42%|████▏     | 67262/161152 [7:29:00<8:36:22,  3.03it/s] "
     ]
    },
    {
     "name": "stdout",
     "output_type": "stream",
     "text": [
      "The description of picture hXRjs-tttnad11gZyIZKNA doesn't exist\n"
     ]
    },
    {
     "name": "stderr",
     "output_type": "stream",
     "text": [
      "Processing:  42%|████▏     | 68356/161152 [7:37:18<11:10:51,  2.31it/s]"
     ]
    },
    {
     "name": "stdout",
     "output_type": "stream",
     "text": [
      "The description of picture i8hxB_-eGyVjk7cFjWVPsQ doesn't exist\n"
     ]
    },
    {
     "name": "stderr",
     "output_type": "stream",
     "text": [
      "Processing:  42%|████▏     | 68394/161152 [7:37:34<11:11:12,  2.30it/s]"
     ]
    },
    {
     "name": "stdout",
     "output_type": "stream",
     "text": [
      "The description of picture i8Y7gbgJNm_XCI3HjP5RmQ doesn't exist\n"
     ]
    },
    {
     "name": "stderr",
     "output_type": "stream",
     "text": [
      "Processing:  43%|████▎     | 68932/161152 [7:41:47<10:47:25,  2.37it/s]"
     ]
    },
    {
     "name": "stdout",
     "output_type": "stream",
     "text": [
      "The description of picture ICqQngVJ1tgtz4w3LcB8Tg doesn't exist\n"
     ]
    },
    {
     "name": "stderr",
     "output_type": "stream",
     "text": [
      "Processing:  43%|████▎     | 69336/161152 [7:44:59<9:51:04,  2.59it/s] "
     ]
    },
    {
     "name": "stdout",
     "output_type": "stream",
     "text": [
      "The description of picture if32aeHcThxJc5aimkwidw doesn't exist\n"
     ]
    },
    {
     "name": "stderr",
     "output_type": "stream",
     "text": [
      "Processing:  43%|████▎     | 69394/161152 [7:45:23<7:07:26,  3.58it/s] "
     ]
    },
    {
     "name": "stdout",
     "output_type": "stream",
     "text": [
      "The description of picture ifhG77y1SRlutzL3l2Z8Vg doesn't exist\n"
     ]
    },
    {
     "name": "stderr",
     "output_type": "stream",
     "text": [
      "Processing:  43%|████▎     | 69509/161152 [7:46:17<14:55:37,  1.71it/s]"
     ]
    },
    {
     "name": "stdout",
     "output_type": "stream",
     "text": [
      "The description of picture -Ig7SVGOowRNBBmsot9nnw doesn't exist\n"
     ]
    },
    {
     "name": "stderr",
     "output_type": "stream",
     "text": [
      "Processing:  44%|████▎     | 70140/161152 [7:51:07<11:10:35,  2.26it/s]"
     ]
    },
    {
     "name": "stdout",
     "output_type": "stream",
     "text": [
      "The description of picture i_K8b7ofjX3owBg23XDmvQ doesn't exist\n"
     ]
    },
    {
     "name": "stderr",
     "output_type": "stream",
     "text": [
      "Processing:  46%|████▌     | 73909/161152 [8:19:57<6:49:56,  3.55it/s] "
     ]
    },
    {
     "name": "stdout",
     "output_type": "stream",
     "text": [
      "The description of picture _Jbp2BtNyoXjXhtceSshDQ doesn't exist\n"
     ]
    },
    {
     "name": "stderr",
     "output_type": "stream",
     "text": [
      "Processing:  47%|████▋     | 75560/161152 [8:32:44<8:24:14,  2.83it/s] "
     ]
    },
    {
     "name": "stdout",
     "output_type": "stream",
     "text": [
      "The description of picture JlK4rtoXzjOAOdLA68itHA doesn't exist\n"
     ]
    },
    {
     "name": "stderr",
     "output_type": "stream",
     "text": [
      "Processing:  47%|████▋     | 75851/161152 [8:35:02<14:57:46,  1.58it/s]"
     ]
    },
    {
     "name": "stdout",
     "output_type": "stream",
     "text": [
      "The description of picture JNk1TJk60n_4L9awmDMXuQ doesn't exist\n"
     ]
    },
    {
     "name": "stderr",
     "output_type": "stream",
     "text": [
      "Processing:  48%|████▊     | 77307/161152 [8:46:07<14:12:56,  1.64it/s]"
     ]
    },
    {
     "name": "stdout",
     "output_type": "stream",
     "text": [
      "The description of picture jVMIPjQWe-a3sgCuSqnafQ doesn't exist\n"
     ]
    },
    {
     "name": "stderr",
     "output_type": "stream",
     "text": [
      "Processing:  49%|████▉     | 78854/161152 [8:58:02<11:03:07,  2.07it/s]"
     ]
    },
    {
     "name": "stdout",
     "output_type": "stream",
     "text": [
      "The description of picture -k9nLMuM3L2O3F3auP-qqQ doesn't exist\n"
     ]
    },
    {
     "name": "stderr",
     "output_type": "stream",
     "text": [
      "Processing:  49%|████▉     | 79325/161152 [9:01:35<13:55:55,  1.63it/s]"
     ]
    },
    {
     "name": "stdout",
     "output_type": "stream",
     "text": [
      "The description of picture kCTKrmq591fecWDGN70U9A doesn't exist\n"
     ]
    },
    {
     "name": "stderr",
     "output_type": "stream",
     "text": [
      "Processing:  50%|████▉     | 79783/161152 [9:05:04<7:58:36,  2.83it/s] "
     ]
    },
    {
     "name": "stdout",
     "output_type": "stream",
     "text": [
      "The description of picture -KfpPoqvtrdQ3uZFAu78EA doesn't exist\n"
     ]
    },
    {
     "name": "stderr",
     "output_type": "stream",
     "text": [
      "Processing:  50%|█████     | 81190/161152 [9:16:03<11:00:26,  2.02it/s]"
     ]
    },
    {
     "name": "stdout",
     "output_type": "stream",
     "text": [
      "The description of picture ko9Be6nXe9zCnhck3vpoHQ doesn't exist\n"
     ]
    },
    {
     "name": "stderr",
     "output_type": "stream",
     "text": [
      "Processing:  52%|█████▏    | 83282/161152 [9:31:38<10:41:42,  2.02it/s]"
     ]
    },
    {
     "name": "stdout",
     "output_type": "stream",
     "text": [
      "The description of picture L1tFFhjWtn4Z9lY2hJS_lg doesn't exist\n"
     ]
    },
    {
     "name": "stderr",
     "output_type": "stream",
     "text": [
      "Processing:  52%|█████▏    | 83354/161152 [9:32:09<6:54:38,  3.13it/s] "
     ]
    },
    {
     "name": "stdout",
     "output_type": "stream",
     "text": [
      "The description of picture l2s1W02tgUyttAe04qrjyw doesn't exist\n"
     ]
    },
    {
     "name": "stderr",
     "output_type": "stream",
     "text": [
      "Processing:  52%|█████▏    | 83687/161152 [9:34:46<11:33:52,  1.86it/s]"
     ]
    },
    {
     "name": "stdout",
     "output_type": "stream",
     "text": [
      "The description of picture L6cu_Jiu8qA9rTqLYK0xHA doesn't exist\n"
     ]
    },
    {
     "name": "stderr",
     "output_type": "stream",
     "text": [
      "Processing:  53%|█████▎    | 85452/161152 [9:48:22<8:40:09,  2.43it/s] "
     ]
    },
    {
     "name": "stdout",
     "output_type": "stream",
     "text": [
      "The description of picture LiOMK0jehAqeckWmduVg9w doesn't exist\n"
     ]
    },
    {
     "name": "stderr",
     "output_type": "stream",
     "text": [
      "Processing:  54%|█████▎    | 86518/161152 [9:56:22<6:02:22,  3.43it/s] "
     ]
    },
    {
     "name": "stdout",
     "output_type": "stream",
     "text": [
      "The description of picture _LOYo3C-EQM5uvNS_p_TEQ doesn't exist\n"
     ]
    },
    {
     "name": "stderr",
     "output_type": "stream",
     "text": [
      "Processing:  54%|█████▍    | 86632/161152 [9:57:11<6:43:14,  3.08it/s] "
     ]
    },
    {
     "name": "stdout",
     "output_type": "stream",
     "text": [
      "The description of picture lpRth8v-8dCC2eR9zhU7Sw doesn't exist\n"
     ]
    },
    {
     "name": "stderr",
     "output_type": "stream",
     "text": [
      "Processing:  54%|█████▍    | 86771/161152 [9:58:12<9:49:37,  2.10it/s] "
     ]
    },
    {
     "name": "stdout",
     "output_type": "stream",
     "text": [
      "The description of picture l_qR8a2-IpQSn47GvBacmg doesn't exist\n"
     ]
    },
    {
     "name": "stderr",
     "output_type": "stream",
     "text": [
      "Processing:  54%|█████▍    | 87038/161152 [10:00:12<9:26:41,  2.18it/s] "
     ]
    },
    {
     "name": "stdout",
     "output_type": "stream",
     "text": [
      "The description of picture lsCvWCSZhM65MMORKhOauA doesn't exist\n"
     ]
    },
    {
     "name": "stderr",
     "output_type": "stream",
     "text": [
      "Processing:  54%|█████▍    | 87424/161152 [10:03:06<5:03:58,  4.04it/s] "
     ]
    },
    {
     "name": "stdout",
     "output_type": "stream",
     "text": [
      "The description of picture l_UkZ_7lXenTO0D8EV-LyA doesn't exist\n"
     ]
    },
    {
     "name": "stderr",
     "output_type": "stream",
     "text": [
      "Processing:  54%|█████▍    | 87776/161152 [10:05:47<7:25:14,  2.75it/s] "
     ]
    },
    {
     "name": "stdout",
     "output_type": "stream",
     "text": [
      "The description of picture lwsHxUWrDqwdvzdbgibrjA doesn't exist\n"
     ]
    },
    {
     "name": "stderr",
     "output_type": "stream",
     "text": [
      "Processing:  55%|█████▌    | 88720/161152 [10:12:45<6:14:52,  3.22it/s] "
     ]
    },
    {
     "name": "stdout",
     "output_type": "stream",
     "text": [
      "The description of picture M4_xLw0ToK8u5x49rzZMZA doesn't exist\n"
     ]
    },
    {
     "name": "stderr",
     "output_type": "stream",
     "text": [
      "Processing:  55%|█████▌    | 89208/161152 [10:16:26<7:52:18,  2.54it/s] "
     ]
    },
    {
     "name": "stdout",
     "output_type": "stream",
     "text": [
      "The description of picture MAf3HVUwH1GMyLMSnH-QmA doesn't exist\n"
     ]
    },
    {
     "name": "stderr",
     "output_type": "stream",
     "text": [
      "Processing:  56%|█████▋    | 91005/161152 [10:29:52<4:46:49,  4.08it/s] "
     ]
    },
    {
     "name": "stdout",
     "output_type": "stream",
     "text": [
      "The description of picture mKxfuYOfBoCOr_YP8hQTUw doesn't exist\n"
     ]
    },
    {
     "name": "stderr",
     "output_type": "stream",
     "text": [
      "Processing:  57%|█████▋    | 91499/161152 [10:33:32<9:24:22,  2.06it/s] "
     ]
    },
    {
     "name": "stdout",
     "output_type": "stream",
     "text": [
      "The description of picture mNS2slM6NypioF5mqSrITQ doesn't exist\n"
     ]
    },
    {
     "name": "stderr",
     "output_type": "stream",
     "text": [
      "Processing:  58%|█████▊    | 93178/161152 [10:45:55<10:13:26,  1.85it/s]"
     ]
    },
    {
     "name": "stdout",
     "output_type": "stream",
     "text": [
      "The description of picture my6NRuHslL68ipn3ynkGnw doesn't exist\n"
     ]
    },
    {
     "name": "stderr",
     "output_type": "stream",
     "text": [
      "Processing:  58%|█████▊    | 93493/161152 [10:48:15<7:07:27,  2.64it/s] "
     ]
    },
    {
     "name": "stdout",
     "output_type": "stream",
     "text": [
      "The description of picture n014TbhZo_0r5KNPz79D8Q doesn't exist\n"
     ]
    },
    {
     "name": "stderr",
     "output_type": "stream",
     "text": [
      "Processing:  58%|█████▊    | 93767/161152 [10:50:21<5:18:04,  3.53it/s] "
     ]
    },
    {
     "name": "stdout",
     "output_type": "stream",
     "text": [
      "The description of picture n3i_gi0zJugKKlz9g1kVpQ doesn't exist\n"
     ]
    },
    {
     "name": "stderr",
     "output_type": "stream",
     "text": [
      "Processing:  58%|█████▊    | 93780/161152 [10:50:26<5:18:23,  3.53it/s]"
     ]
    },
    {
     "name": "stdout",
     "output_type": "stream",
     "text": [
      "The description of picture n3NXK7y1QKz0ClLs06k9xg doesn't exist\n"
     ]
    },
    {
     "name": "stderr",
     "output_type": "stream",
     "text": [
      "Processing:  58%|█████▊    | 94118/161152 [10:53:00<6:08:30,  3.03it/s] "
     ]
    },
    {
     "name": "stdout",
     "output_type": "stream",
     "text": [
      "The description of picture _N7jE_SNl3Qbd26Nc-3pnQ doesn't exist\n"
     ]
    },
    {
     "name": "stderr",
     "output_type": "stream",
     "text": [
      "Processing:  58%|█████▊    | 94252/161152 [10:54:01<10:25:31,  1.78it/s]"
     ]
    },
    {
     "name": "stdout",
     "output_type": "stream",
     "text": [
      "The description of picture N-92pZLbdHZ_yxJPNl98-A doesn't exist\n"
     ]
    },
    {
     "name": "stderr",
     "output_type": "stream",
     "text": [
      "Processing:  58%|█████▊    | 94266/161152 [10:54:07<10:01:13,  1.85it/s]"
     ]
    },
    {
     "name": "stdout",
     "output_type": "stream",
     "text": [
      "The description of picture n99zuzpLZ-ADafB-gskhsg doesn't exist\n"
     ]
    },
    {
     "name": "stderr",
     "output_type": "stream",
     "text": [
      "Processing:  59%|█████▊    | 94619/161152 [10:56:52<8:12:06,  2.25it/s] "
     ]
    },
    {
     "name": "stdout",
     "output_type": "stream",
     "text": [
      "The description of picture nBnjpcNz9KYBMvOfdAlQag doesn't exist\n"
     ]
    },
    {
     "name": "stderr",
     "output_type": "stream",
     "text": [
      "Processing:  59%|█████▉    | 95146/161152 [11:00:47<8:28:33,  2.16it/s] "
     ]
    },
    {
     "name": "stdout",
     "output_type": "stream",
     "text": [
      "The description of picture NEqIxAyq4M2TB74yoFTtkA doesn't exist\n"
     ]
    },
    {
     "name": "stderr",
     "output_type": "stream",
     "text": [
      "Processing:  59%|█████▉    | 95393/161152 [11:02:39<11:46:08,  1.55it/s]"
     ]
    },
    {
     "name": "stdout",
     "output_type": "stream",
     "text": [
      "The description of picture nGAFCGQPf9TTuW2SYkxe6w doesn't exist\n"
     ]
    },
    {
     "name": "stderr",
     "output_type": "stream",
     "text": [
      "Processing:  60%|█████▉    | 96363/161152 [11:10:06<6:21:58,  2.83it/s] "
     ]
    },
    {
     "name": "stdout",
     "output_type": "stream",
     "text": [
      "The description of picture NLRlLt0SW6Jua8D2LaY52g doesn't exist\n"
     ]
    },
    {
     "name": "stderr",
     "output_type": "stream",
     "text": [
      "Processing:  61%|██████    | 97594/161152 [11:19:27<10:42:58,  1.65it/s]"
     ]
    },
    {
     "name": "stdout",
     "output_type": "stream",
     "text": [
      "The description of picture Nt-HrxtaVKHFZDADfax1Xw doesn't exist\n"
     ]
    },
    {
     "name": "stderr",
     "output_type": "stream",
     "text": [
      "Processing:  61%|██████    | 98033/161152 [11:22:47<10:38:37,  1.65it/s]"
     ]
    },
    {
     "name": "stdout",
     "output_type": "stream",
     "text": [
      "The description of picture NW45I32mv_E9xs5ow1snww doesn't exist\n"
     ]
    },
    {
     "name": "stderr",
     "output_type": "stream",
     "text": [
      "Processing:  61%|██████▏   | 98987/161152 [11:29:58<5:46:42,  2.99it/s] "
     ]
    },
    {
     "name": "stdout",
     "output_type": "stream",
     "text": [
      "The description of picture O2MreulzHucuX0hrpz0k_Q doesn't exist\n"
     ]
    },
    {
     "name": "stderr",
     "output_type": "stream",
     "text": [
      "Processing:  61%|██████▏   | 99046/161152 [11:30:26<7:39:07,  2.25it/s] "
     ]
    },
    {
     "name": "stdout",
     "output_type": "stream",
     "text": [
      "The description of picture O3D01WJ6H3Db9RfOIhb7hw doesn't exist\n"
     ]
    },
    {
     "name": "stderr",
     "output_type": "stream",
     "text": [
      "Processing:  62%|██████▏   | 100001/161152 [11:37:29<4:34:03,  3.72it/s]"
     ]
    },
    {
     "name": "stdout",
     "output_type": "stream",
     "text": [
      "The description of picture oBxYPbqfc_ssIF6wKuj_Jw doesn't exist\n"
     ]
    },
    {
     "name": "stderr",
     "output_type": "stream",
     "text": [
      "Processing:  62%|██████▏   | 100038/161152 [11:37:44<6:11:56,  2.74it/s]"
     ]
    },
    {
     "name": "stdout",
     "output_type": "stream",
     "text": [
      "The description of picture oCApjQqk_6sZ8uwpOzI3Bg doesn't exist\n"
     ]
    },
    {
     "name": "stderr",
     "output_type": "stream",
     "text": [
      "Processing:  63%|██████▎   | 101384/161152 [11:47:49<7:45:11,  2.14it/s] "
     ]
    },
    {
     "name": "stdout",
     "output_type": "stream",
     "text": [
      "The description of picture OJv17L78dhI7CjjbYnjQ1g doesn't exist\n"
     ]
    },
    {
     "name": "stderr",
     "output_type": "stream",
     "text": [
      "Processing:  63%|██████▎   | 101604/161152 [11:49:27<7:39:45,  2.16it/s] "
     ]
    },
    {
     "name": "stdout",
     "output_type": "stream",
     "text": [
      "The description of picture oL0QT2DJEy04AY-x_6oCRw doesn't exist\n"
     ]
    },
    {
     "name": "stderr",
     "output_type": "stream",
     "text": [
      "Processing:  64%|██████▎   | 102662/161152 [11:57:25<6:15:27,  2.60it/s] "
     ]
    },
    {
     "name": "stdout",
     "output_type": "stream",
     "text": [
      "The description of picture orj39jmg-b6tBfF5iKlWNA doesn't exist\n"
     ]
    },
    {
     "name": "stderr",
     "output_type": "stream",
     "text": [
      "Processing:  65%|██████▍   | 104231/161152 [12:09:06<4:56:48,  3.20it/s] "
     ]
    },
    {
     "name": "stdout",
     "output_type": "stream",
     "text": [
      "The description of picture p1A9Hv-FCMXupbgy4tYXog doesn't exist\n"
     ]
    },
    {
     "name": "stderr",
     "output_type": "stream",
     "text": [
      "Processing:  65%|██████▌   | 105420/161152 [12:18:09<4:14:38,  3.65it/s] "
     ]
    },
    {
     "name": "stdout",
     "output_type": "stream",
     "text": [
      "The description of picture PCVxk7iSFQXcQBR9ZRn87A doesn't exist\n"
     ]
    },
    {
     "name": "stderr",
     "output_type": "stream",
     "text": [
      "Processing:  66%|██████▌   | 106733/161152 [12:27:58<8:19:58,  1.81it/s] "
     ]
    },
    {
     "name": "stdout",
     "output_type": "stream",
     "text": [
      "The description of picture PkKAdyfKURVorIF9iDxq-A doesn't exist\n"
     ]
    },
    {
     "name": "stderr",
     "output_type": "stream",
     "text": [
      "Processing:  66%|██████▋   | 107107/161152 [12:30:43<5:13:04,  2.88it/s]"
     ]
    },
    {
     "name": "stdout",
     "output_type": "stream",
     "text": [
      "The description of picture Pmrobv13mSdLPk-CehOnwg doesn't exist\n"
     ]
    },
    {
     "name": "stderr",
     "output_type": "stream",
     "text": [
      "Processing:  68%|██████▊   | 109442/161152 [12:47:59<6:41:08,  2.15it/s]"
     ]
    },
    {
     "name": "stdout",
     "output_type": "stream",
     "text": [
      "The description of picture Q1aweCBuXr3e2c7ZXhrOcg doesn't exist\n"
     ]
    },
    {
     "name": "stderr",
     "output_type": "stream",
     "text": [
      "Processing:  68%|██████▊   | 109809/161152 [12:50:42<4:02:55,  3.52it/s]"
     ]
    },
    {
     "name": "stdout",
     "output_type": "stream",
     "text": [
      "The description of picture q5Lc7gP_4uASa-7IF-AekA doesn't exist\n"
     ]
    },
    {
     "name": "stderr",
     "output_type": "stream",
     "text": [
      "Processing:  69%|██████▊   | 110618/161152 [12:56:41<6:40:41,  2.10it/s]"
     ]
    },
    {
     "name": "stdout",
     "output_type": "stream",
     "text": [
      "The description of picture -QcLxH2MuPNeVFw0WZVyZA doesn't exist\n"
     ]
    },
    {
     "name": "stderr",
     "output_type": "stream",
     "text": [
      "Processing:  69%|██████▉   | 111186/161152 [13:00:55<5:52:39,  2.36it/s]"
     ]
    },
    {
     "name": "stdout",
     "output_type": "stream",
     "text": [
      "The description of picture QfwexrwpViNofwd6STedvA doesn't exist\n"
     ]
    },
    {
     "name": "stderr",
     "output_type": "stream",
     "text": [
      "Processing:  70%|██████▉   | 112144/161152 [13:08:02<4:39:28,  2.92it/s]"
     ]
    },
    {
     "name": "stdout",
     "output_type": "stream",
     "text": [
      "The description of picture QLqbbVqTgoUKz6Ota2msjw doesn't exist\n"
     ]
    },
    {
     "name": "stderr",
     "output_type": "stream",
     "text": [
      "Processing:  70%|██████▉   | 112614/161152 [13:11:32<6:35:01,  2.05it/s]"
     ]
    },
    {
     "name": "stdout",
     "output_type": "stream",
     "text": [
      "The description of picture qOnDmAv3g5e_ZQnvNItzWQ doesn't exist\n"
     ]
    },
    {
     "name": "stderr",
     "output_type": "stream",
     "text": [
      "Processing:  71%|███████   | 114211/161152 [13:23:16<5:32:46,  2.35it/s]"
     ]
    },
    {
     "name": "stdout",
     "output_type": "stream",
     "text": [
      "The description of picture QyAgjRqV2KbRkcFZr0_NOg doesn't exist\n"
     ]
    },
    {
     "name": "stderr",
     "output_type": "stream",
     "text": [
      "Processing:  72%|███████▏  | 115348/161152 [13:31:46<3:46:19,  3.37it/s]"
     ]
    },
    {
     "name": "stdout",
     "output_type": "stream",
     "text": [
      "The description of picture RaAdHdEhslf8J6EhFKINnw doesn't exist\n"
     ]
    },
    {
     "name": "stderr",
     "output_type": "stream",
     "text": [
      "Processing:  72%|███████▏  | 115394/161152 [13:32:07<4:02:37,  3.14it/s]"
     ]
    },
    {
     "name": "stdout",
     "output_type": "stream",
     "text": [
      "The description of picture rAj8878BKTmKZ8PP8GHMSQ doesn't exist\n"
     ]
    },
    {
     "name": "stderr",
     "output_type": "stream",
     "text": [
      "Processing:  73%|███████▎  | 117812/161152 [13:50:19<4:56:02,  2.44it/s]"
     ]
    },
    {
     "name": "stdout",
     "output_type": "stream",
     "text": [
      "The description of picture rootiZScyeBvohobDIV36w doesn't exist\n"
     ]
    },
    {
     "name": "stderr",
     "output_type": "stream",
     "text": [
      "Processing:  74%|███████▍  | 119064/161152 [13:59:49<6:20:34,  1.84it/s]"
     ]
    },
    {
     "name": "stdout",
     "output_type": "stream",
     "text": [
      "The description of picture rv_zzmk6gHyIfdPfJg06Ag doesn't exist\n"
     ]
    },
    {
     "name": "stderr",
     "output_type": "stream",
     "text": [
      "Processing:  74%|███████▍  | 119254/161152 [14:01:11<2:57:47,  3.93it/s]"
     ]
    },
    {
     "name": "stdout",
     "output_type": "stream",
     "text": [
      "The description of picture rxAWFnzNAdlgGQIseObEqg doesn't exist\n"
     ]
    },
    {
     "name": "stderr",
     "output_type": "stream",
     "text": [
      "Processing:  75%|███████▍  | 120224/161152 [14:08:21<6:09:29,  1.85it/s]"
     ]
    },
    {
     "name": "stdout",
     "output_type": "stream",
     "text": [
      "The description of picture _S5VNpYnAe9DvL96vNBJDg doesn't exist\n"
     ]
    },
    {
     "name": "stderr",
     "output_type": "stream",
     "text": [
      "Processing:  75%|███████▍  | 120365/161152 [14:09:24<5:41:54,  1.99it/s]"
     ]
    },
    {
     "name": "stdout",
     "output_type": "stream",
     "text": [
      "The description of picture s7j__nYvFz5JbbbYbtTqtA doesn't exist\n"
     ]
    },
    {
     "name": "stderr",
     "output_type": "stream",
     "text": [
      "Processing:  75%|███████▍  | 120442/161152 [14:09:59<5:21:56,  2.11it/s]"
     ]
    },
    {
     "name": "stdout",
     "output_type": "stream",
     "text": [
      "The description of picture s8-K2P9Q0LPlRNZpSfThkA doesn't exist\n"
     ]
    },
    {
     "name": "stderr",
     "output_type": "stream",
     "text": [
      "Processing:  75%|███████▍  | 120518/161152 [14:10:32<5:44:25,  1.97it/s]"
     ]
    },
    {
     "name": "stdout",
     "output_type": "stream",
     "text": [
      "The description of picture S9Fjetm-g3j-BpFeeFieoA doesn't exist\n"
     ]
    },
    {
     "name": "stderr",
     "output_type": "stream",
     "text": [
      "Processing:  76%|███████▌  | 122814/161152 [14:27:36<6:03:14,  1.76it/s]"
     ]
    },
    {
     "name": "stdout",
     "output_type": "stream",
     "text": [
      "The description of picture sNa6zwAYItvHEvDd5iazvA doesn't exist\n"
     ]
    },
    {
     "name": "stderr",
     "output_type": "stream",
     "text": [
      "Processing:  76%|███████▋  | 122988/161152 [14:28:54<4:40:34,  2.27it/s]"
     ]
    },
    {
     "name": "stdout",
     "output_type": "stream",
     "text": [
      "The description of picture sO2wN10_NxzxG0O5FbHG-g doesn't exist\n"
     ]
    },
    {
     "name": "stderr",
     "output_type": "stream",
     "text": [
      "Processing:  76%|███████▋  | 123138/161152 [14:30:00<4:33:59,  2.31it/s]"
     ]
    },
    {
     "name": "stdout",
     "output_type": "stream",
     "text": [
      "The description of picture -sozmfujtOukgaBd2ggVwA doesn't exist\n"
     ]
    },
    {
     "name": "stderr",
     "output_type": "stream",
     "text": [
      "Processing:  78%|███████▊  | 125074/161152 [14:44:37<5:01:44,  1.99it/s]"
     ]
    },
    {
     "name": "stdout",
     "output_type": "stream",
     "text": [
      "The description of picture T-0ZAilbn-HXkoJq9Gs-vA doesn't exist\n"
     ]
    },
    {
     "name": "stderr",
     "output_type": "stream",
     "text": [
      "Processing:  79%|███████▊  | 126745/161152 [14:56:55<3:27:21,  2.77it/s]"
     ]
    },
    {
     "name": "stdout",
     "output_type": "stream",
     "text": [
      "The description of picture TfDPqwDrlDWXycGEVjT6LQ doesn't exist\n"
     ]
    },
    {
     "name": "stderr",
     "output_type": "stream",
     "text": [
      "Processing:  79%|███████▊  | 126881/161152 [14:57:55<5:10:55,  1.84it/s]"
     ]
    },
    {
     "name": "stdout",
     "output_type": "stream",
     "text": [
      "The description of picture Tg4SDmDcrpWXYanDLgm2qw doesn't exist\n"
     ]
    },
    {
     "name": "stderr",
     "output_type": "stream",
     "text": [
      "Processing:  79%|███████▉  | 127282/161152 [15:01:04<5:16:21,  1.78it/s]"
     ]
    },
    {
     "name": "stdout",
     "output_type": "stream",
     "text": [
      "The description of picture TIKGyf7IPbJpyQ4_F6RaLA doesn't exist\n"
     ]
    },
    {
     "name": "stderr",
     "output_type": "stream",
     "text": [
      "Processing:  79%|███████▉  | 127466/161152 [15:02:25<5:09:09,  1.82it/s]"
     ]
    },
    {
     "name": "stdout",
     "output_type": "stream",
     "text": [
      "The description of picture _tJO4yWp4x40dfZ5O-quJA doesn't exist\n"
     ]
    },
    {
     "name": "stderr",
     "output_type": "stream",
     "text": [
      "Processing:  79%|███████▉  | 127768/161152 [15:04:36<2:37:38,  3.53it/s]"
     ]
    },
    {
     "name": "stdout",
     "output_type": "stream",
     "text": [
      "The description of picture TL-dwlDbUsP9m9P98ASF7Q doesn't exist\n"
     ]
    },
    {
     "name": "stderr",
     "output_type": "stream",
     "text": [
      "Processing:  80%|████████  | 129550/161152 [15:18:19<3:35:00,  2.45it/s]"
     ]
    },
    {
     "name": "stdout",
     "output_type": "stream",
     "text": [
      "The description of picture tVyhC9UNCpDcHhoQUR2Ljg doesn't exist\n"
     ]
    },
    {
     "name": "stderr",
     "output_type": "stream",
     "text": [
      "Processing:  82%|████████▏ | 132180/161152 [15:37:36<2:00:20,  4.01it/s]"
     ]
    },
    {
     "name": "stdout",
     "output_type": "stream",
     "text": [
      "The description of picture UGJRGkNQJ1z7Q_8rkhF9TQ doesn't exist\n"
     ]
    },
    {
     "name": "stderr",
     "output_type": "stream",
     "text": [
      "Processing:  82%|████████▏ | 132946/161152 [15:43:16<2:09:46,  3.62it/s]"
     ]
    },
    {
     "name": "stdout",
     "output_type": "stream",
     "text": [
      "The description of picture ULBU1eNrxc8FcmFFTEf9yg doesn't exist\n"
     ]
    },
    {
     "name": "stderr",
     "output_type": "stream",
     "text": [
      "Processing:  83%|████████▎ | 133833/161152 [15:50:02<3:36:57,  2.10it/s]"
     ]
    },
    {
     "name": "stdout",
     "output_type": "stream",
     "text": [
      "The description of picture uqqjkbwT3g7CLzS6YKK6Rg doesn't exist\n"
     ]
    },
    {
     "name": "stderr",
     "output_type": "stream",
     "text": [
      "Processing:  83%|████████▎ | 134210/161152 [15:52:52<2:15:42,  3.31it/s]"
     ]
    },
    {
     "name": "stdout",
     "output_type": "stream",
     "text": [
      "The description of picture uT3pG0LH6QCtfuXwNQGRhw doesn't exist\n"
     ]
    },
    {
     "name": "stderr",
     "output_type": "stream",
     "text": [
      "Processing:  83%|████████▎ | 134388/161152 [15:54:12<2:46:06,  2.69it/s]"
     ]
    },
    {
     "name": "stdout",
     "output_type": "stream",
     "text": [
      "The description of picture u_U2gtoshfCy4C-JrV9FyA doesn't exist\n"
     ]
    },
    {
     "name": "stderr",
     "output_type": "stream",
     "text": [
      "Processing:  83%|████████▎ | 134395/161152 [15:54:13<1:35:18,  4.68it/s]"
     ]
    },
    {
     "name": "stdout",
     "output_type": "stream",
     "text": [
      "The description of picture UU3t-0ossVU7eLzlGJkgVA doesn't exist\n"
     ]
    },
    {
     "name": "stderr",
     "output_type": "stream",
     "text": [
      "Processing:  84%|████████▎ | 134927/161152 [15:58:04<3:29:27,  2.09it/s]"
     ]
    },
    {
     "name": "stdout",
     "output_type": "stream",
     "text": [
      "The description of picture UxaTjtPy4cRUmNvMGO_IOA doesn't exist\n"
     ]
    },
    {
     "name": "stderr",
     "output_type": "stream",
     "text": [
      "Processing:  84%|████████▍ | 135053/161152 [15:58:59<2:24:30,  3.01it/s]"
     ]
    },
    {
     "name": "stdout",
     "output_type": "stream",
     "text": [
      "The description of picture UxxKH4jZ4j7QDS0T3d9h3g doesn't exist\n"
     ]
    },
    {
     "name": "stderr",
     "output_type": "stream",
     "text": [
      "Processing:  84%|████████▍ | 135728/161152 [16:03:58<2:32:07,  2.79it/s]"
     ]
    },
    {
     "name": "stdout",
     "output_type": "stream",
     "text": [
      "The description of picture v3Ozy11-T67Jb9HBIbdv5Q doesn't exist\n"
     ]
    },
    {
     "name": "stderr",
     "output_type": "stream",
     "text": [
      "Processing:  84%|████████▍ | 135923/161152 [16:05:24<1:52:22,  3.74it/s]"
     ]
    },
    {
     "name": "stdout",
     "output_type": "stream",
     "text": [
      "The description of picture v68l4sQ2Ze9ZIs8Un4rG5A doesn't exist\n"
     ]
    },
    {
     "name": "stderr",
     "output_type": "stream",
     "text": [
      "Processing:  84%|████████▍ | 135991/161152 [16:05:56<3:08:30,  2.22it/s]"
     ]
    },
    {
     "name": "stdout",
     "output_type": "stream",
     "text": [
      "The description of picture v6UycFF-X4FSMb-etWzyGw doesn't exist\n"
     ]
    },
    {
     "name": "stderr",
     "output_type": "stream",
     "text": [
      "Processing:  85%|████████▍ | 136863/161152 [16:12:33<1:52:27,  3.60it/s]"
     ]
    },
    {
     "name": "stdout",
     "output_type": "stream",
     "text": [
      "The description of picture vdVJIZqnoT6bIs263nEZgQ doesn't exist\n"
     ]
    },
    {
     "name": "stderr",
     "output_type": "stream",
     "text": [
      "Processing:  86%|████████▌ | 137955/161152 [16:20:36<1:42:44,  3.76it/s]"
     ]
    },
    {
     "name": "stdout",
     "output_type": "stream",
     "text": [
      "The description of picture VKJaVmhAIwlbHNUohl9ILA doesn't exist\n"
     ]
    },
    {
     "name": "stderr",
     "output_type": "stream",
     "text": [
      "Processing:  87%|████████▋ | 139697/161152 [16:33:44<2:50:32,  2.10it/s]"
     ]
    },
    {
     "name": "stdout",
     "output_type": "stream",
     "text": [
      "The description of picture -vVe9O9_Ei9T7e9pGpKOgA doesn't exist\n"
     ]
    },
    {
     "name": "stderr",
     "output_type": "stream",
     "text": [
      "Processing:  87%|████████▋ | 140696/161152 [16:41:23<2:22:02,  2.40it/s]"
     ]
    },
    {
     "name": "stdout",
     "output_type": "stream",
     "text": [
      "The description of picture W2P4QfimjWAYnJk7dWga-A doesn't exist\n"
     ]
    },
    {
     "name": "stderr",
     "output_type": "stream",
     "text": [
      "Processing:  89%|████████▉ | 143468/161152 [17:01:53<2:31:17,  1.95it/s]"
     ]
    },
    {
     "name": "stdout",
     "output_type": "stream",
     "text": [
      "The description of picture WMGEEdFJicYiU-8Ff6zLHg doesn't exist\n"
     ]
    },
    {
     "name": "stderr",
     "output_type": "stream",
     "text": [
      "Processing:  89%|████████▉ | 143566/161152 [17:02:35<2:19:00,  2.11it/s]"
     ]
    },
    {
     "name": "stdout",
     "output_type": "stream",
     "text": [
      "The description of picture wn2C--fNSYsn3ayicaWUtA doesn't exist\n"
     ]
    },
    {
     "name": "stderr",
     "output_type": "stream",
     "text": [
      "Processing:  89%|████████▉ | 143843/161152 [17:04:38<1:27:02,  3.31it/s]"
     ]
    },
    {
     "name": "stdout",
     "output_type": "stream",
     "text": [
      "The description of picture WONdLGXSTZ4wgs_ijlGqmw doesn't exist\n"
     ]
    },
    {
     "name": "stderr",
     "output_type": "stream",
     "text": [
      "Processing:  90%|█████████ | 145341/161152 [17:15:52<2:22:37,  1.85it/s]"
     ]
    },
    {
     "name": "stdout",
     "output_type": "stream",
     "text": [
      "The description of picture wxeqbGCxt1jC2jMw_qekaw doesn't exist\n"
     ]
    },
    {
     "name": "stderr",
     "output_type": "stream",
     "text": [
      "Processing:  90%|█████████ | 145773/161152 [17:19:09<2:06:29,  2.03it/s]"
     ]
    },
    {
     "name": "stdout",
     "output_type": "stream",
     "text": [
      "The description of picture X00BcfmHyp5452OPNCs47g doesn't exist\n"
     ]
    },
    {
     "name": "stderr",
     "output_type": "stream",
     "text": [
      "Processing:  92%|█████████▏| 148828/161152 [17:41:59<1:03:14,  3.25it/s]"
     ]
    },
    {
     "name": "stdout",
     "output_type": "stream",
     "text": [
      "The description of picture xnuGpN6YvYXJ5rvxDIx59Q doesn't exist\n"
     ]
    },
    {
     "name": "stderr",
     "output_type": "stream",
     "text": [
      "Processing:  93%|█████████▎| 149120/161152 [17:44:07<1:01:46,  3.25it/s]"
     ]
    },
    {
     "name": "stdout",
     "output_type": "stream",
     "text": [
      "The description of picture xPOsdYRFejMbu7v2PGpaow doesn't exist\n"
     ]
    },
    {
     "name": "stderr",
     "output_type": "stream",
     "text": [
      "Processing:  93%|█████████▎| 149324/161152 [17:45:36<1:47:41,  1.83it/s]"
     ]
    },
    {
     "name": "stdout",
     "output_type": "stream",
     "text": [
      "The description of picture XQy4clxlrcsTR2WBNok3bQ doesn't exist\n"
     ]
    },
    {
     "name": "stderr",
     "output_type": "stream",
     "text": [
      "Processing:  93%|█████████▎| 149387/161152 [17:46:04<1:01:23,  3.19it/s]"
     ]
    },
    {
     "name": "stdout",
     "output_type": "stream",
     "text": [
      "The description of picture xrFNot2enrZ0WzfIpfbc9A doesn't exist\n"
     ]
    },
    {
     "name": "stderr",
     "output_type": "stream",
     "text": [
      "Processing:  93%|█████████▎| 150371/161152 [17:53:35<1:20:15,  2.24it/s]"
     ]
    },
    {
     "name": "stdout",
     "output_type": "stream",
     "text": [
      "The description of picture xX9Zja2KsNEuU4WoRaHNEg doesn't exist\n"
     ]
    },
    {
     "name": "stderr",
     "output_type": "stream",
     "text": [
      "Processing:  93%|█████████▎| 150518/161152 [17:54:37<1:01:59,  2.86it/s]"
     ]
    },
    {
     "name": "stdout",
     "output_type": "stream",
     "text": [
      "The description of picture xxzPT0CIRtM874nOKqTZiw doesn't exist\n"
     ]
    },
    {
     "name": "stderr",
     "output_type": "stream",
     "text": [
      "Processing:  94%|█████████▎| 150703/161152 [17:56:00<1:16:47,  2.27it/s]"
     ]
    },
    {
     "name": "stdout",
     "output_type": "stream",
     "text": [
      "The description of picture XZ5NztIZr9cl2InGX-IXmw doesn't exist\n"
     ]
    },
    {
     "name": "stderr",
     "output_type": "stream",
     "text": [
      "Processing:  94%|█████████▍| 151203/161152 [17:59:45<46:43,  3.55it/s]  "
     ]
    },
    {
     "name": "stdout",
     "output_type": "stream",
     "text": [
      "The description of picture y4eZubmsF-i5RF5pnIGKGA doesn't exist\n"
     ]
    },
    {
     "name": "stderr",
     "output_type": "stream",
     "text": [
      "Processing:  94%|█████████▍| 151333/161152 [18:00:43<58:28,  2.80it/s]  "
     ]
    },
    {
     "name": "stdout",
     "output_type": "stream",
     "text": [
      "The description of picture y5XnB5wuxlRiSGjhplaAug doesn't exist\n"
     ]
    },
    {
     "name": "stderr",
     "output_type": "stream",
     "text": [
      "Processing:  95%|█████████▍| 152576/161152 [18:10:26<57:25,  2.49it/s]  "
     ]
    },
    {
     "name": "stdout",
     "output_type": "stream",
     "text": [
      "The description of picture YfusWMLmoTaQzjRSeoJveg doesn't exist\n"
     ]
    },
    {
     "name": "stderr",
     "output_type": "stream",
     "text": [
      "Processing:  95%|█████████▍| 152897/161152 [18:12:54<1:04:35,  2.13it/s]"
     ]
    },
    {
     "name": "stdout",
     "output_type": "stream",
     "text": [
      "The description of picture YhprZrY5n2PhsxZNyb4XlA doesn't exist\n"
     ]
    },
    {
     "name": "stderr",
     "output_type": "stream",
     "text": [
      "Processing:  95%|█████████▌| 153521/161152 [18:17:36<36:09,  3.52it/s]  "
     ]
    },
    {
     "name": "stdout",
     "output_type": "stream",
     "text": [
      "The description of picture YldwILFOl4bT4cRhCzhmMw doesn't exist\n"
     ]
    },
    {
     "name": "stderr",
     "output_type": "stream",
     "text": [
      "Processing:  96%|█████████▌| 154232/161152 [18:22:55<55:24,  2.08it/s]  "
     ]
    },
    {
     "name": "stdout",
     "output_type": "stream",
     "text": [
      "The description of picture YpqayV92RcD7cBEVmb_ypg doesn't exist\n"
     ]
    },
    {
     "name": "stderr",
     "output_type": "stream",
     "text": [
      "Processing:  97%|█████████▋| 155790/161152 [18:34:26<28:59,  3.08it/s]  "
     ]
    },
    {
     "name": "stdout",
     "output_type": "stream",
     "text": [
      "The description of picture YzCRT9RleE7Q_OpLFfvdqQ doesn't exist\n"
     ]
    },
    {
     "name": "stderr",
     "output_type": "stream",
     "text": [
      "Processing:  97%|█████████▋| 155886/161152 [18:35:05<34:05,  2.58it/s]"
     ]
    },
    {
     "name": "stdout",
     "output_type": "stream",
     "text": [
      "The description of picture yz_vyMhwHZ81ubXPkWWTJw doesn't exist\n"
     ]
    },
    {
     "name": "stderr",
     "output_type": "stream",
     "text": [
      "Processing:  97%|█████████▋| 156225/161152 [18:37:31<26:07,  3.14it/s]"
     ]
    },
    {
     "name": "stdout",
     "output_type": "stream",
     "text": [
      "The description of picture Z3PNLv9USjaaZ84ajyXPXw doesn't exist\n"
     ]
    },
    {
     "name": "stderr",
     "output_type": "stream",
     "text": [
      "Processing:  97%|█████████▋| 156309/161152 [18:38:07<43:28,  1.86it/s]"
     ]
    },
    {
     "name": "stdout",
     "output_type": "stream",
     "text": [
      "The description of picture Z4MAFTMpQqTxeNuNs621Ag doesn't exist\n"
     ]
    },
    {
     "name": "stderr",
     "output_type": "stream",
     "text": [
      "Processing:  97%|█████████▋| 156444/161152 [18:39:11<40:58,  1.91it/s]"
     ]
    },
    {
     "name": "stdout",
     "output_type": "stream",
     "text": [
      "The description of picture z63SgG664DvY_D0uv6fATA doesn't exist\n"
     ]
    },
    {
     "name": "stderr",
     "output_type": "stream",
     "text": [
      "Processing:  98%|█████████▊| 158043/161152 [18:51:11<15:44,  3.29it/s]"
     ]
    },
    {
     "name": "stdout",
     "output_type": "stream",
     "text": [
      "The description of picture ZhjUf2JnQTjYBP5Rr46Wsw doesn't exist\n"
     ]
    },
    {
     "name": "stderr",
     "output_type": "stream",
     "text": [
      "Processing:  98%|█████████▊| 158180/161152 [18:52:11<25:19,  1.96it/s]"
     ]
    },
    {
     "name": "stdout",
     "output_type": "stream",
     "text": [
      "The description of picture ZIfhFeaLHW53mDcDw-jeqA doesn't exist\n"
     ]
    },
    {
     "name": "stderr",
     "output_type": "stream",
     "text": [
      "Processing:  98%|█████████▊| 158377/161152 [18:53:36<24:15,  1.91it/s]"
     ]
    },
    {
     "name": "stdout",
     "output_type": "stream",
     "text": [
      "The description of picture ZjjvUXkn4YvEWYJEWxax4g doesn't exist\n"
     ]
    },
    {
     "name": "stderr",
     "output_type": "stream",
     "text": [
      "Processing:  99%|█████████▉| 160017/161152 [19:05:38<07:23,  2.56it/s]"
     ]
    },
    {
     "name": "stdout",
     "output_type": "stream",
     "text": [
      "The description of picture zT-8FJ_8aZryO4oXVPcd7A doesn't exist\n"
     ]
    },
    {
     "name": "stderr",
     "output_type": "stream",
     "text": [
      "Processing:  99%|█████████▉| 160331/161152 [19:07:48<04:16,  3.20it/s]"
     ]
    },
    {
     "name": "stdout",
     "output_type": "stream",
     "text": [
      "The description of picture zv6-kXMYt7vEIAXpSjkmJg doesn't exist\n"
     ]
    },
    {
     "name": "stderr",
     "output_type": "stream",
     "text": [
      "Processing: 100%|█████████▉| 160605/161152 [19:09:45<02:26,  3.73it/s]"
     ]
    },
    {
     "name": "stdout",
     "output_type": "stream",
     "text": [
      "The description of picture Zwsvbw4tJYwa409yC4tx7w doesn't exist\n"
     ]
    },
    {
     "name": "stderr",
     "output_type": "stream",
     "text": [
      "Processing: 100%|█████████▉| 160782/161152 [19:11:02<01:47,  3.44it/s]"
     ]
    },
    {
     "name": "stdout",
     "output_type": "stream",
     "text": [
      "The description of picture zxSEit_FoWY6qpyT5rTLzw doesn't exist\n"
     ]
    },
    {
     "name": "stderr",
     "output_type": "stream",
     "text": [
      "Processing: 100%|██████████| 161152/161152 [19:13:47<00:00,  2.33it/s]\n"
     ]
    }
   ],
   "source": [
    "result = []\n",
    "for _, row in tqdm(pic_poi_df.iterrows(), total=pic_poi_df.shape[0], desc=\"Processing\"):\n",
    "    result.append(find_best_poi(row))\n",
    "\n",
    "# pic_poi_df[['best_poi', 'best_poi_score']] = result"
   ]
  },
  {
   "cell_type": "code",
   "execution_count": 26,
   "id": "e5546f29",
   "metadata": {},
   "outputs": [
    {
     "data": {
      "text/plain": [
       "[(44108.0, 0.821597),\n",
       " (95019.0, 0.72882783),\n",
       " (259, 0.6873395),\n",
       " (None, 0),\n",
       " (17517.0, 0.8029823),\n",
       " (83997, 0.7973194),\n",
       " (129.0, 0.74221754),\n",
       " (1825.0, 0.77338564),\n",
       " (36062.0, 0.7839863),\n",
       " (45066.0, 0.8145729),\n",
       " (None, 0),\n",
       " (1307.0, 0.8139825),\n",
       " (None, 0),\n",
       " (10680.0, 0.7356),\n",
       " (5950, 0.721549),\n",
       " (77015, 0.74153894),\n",
       " (None, 0),\n",
       " (49949.0, 0.8144732),\n",
       " (7962, 0.8045541),\n",
       " (55998.0, 0.74895906),\n",
       " (1797, 0.8015478),\n",
       " (46016, 0.8249052),\n",
       " (None, 0),\n",
       " (30392, 0.8192541),\n",
       " (56393.0, 0.7984466),\n",
       " (31570, 0.8034717),\n",
       " (48490.0, 0.8397093),\n",
       " (22454.0, 0.76573247),\n",
       " (94855, 0.7932124),\n",
       " (83739.0, 0.7819436),\n",
       " (101809.0, 0.77953774),\n",
       " (None, 0),\n",
       " (None, 0),\n",
       " (86726.0, 0.8040537),\n",
       " (3552, 0.8219561),\n",
       " (None, 0),\n",
       " (10918.0, 0.8256973),\n",
       " (860, 0.75199145),\n",
       " (35304, 0.743155),\n",
       " (1888.0, 0.7657286),\n",
       " (14860, 0.7501098),\n",
       " (88673.0, 0.72649854),\n",
       " (46028.0, 0.6886832),\n",
       " (94764.0, 0.7788339),\n",
       " (96605.0, 0.775698),\n",
       " (46908, 0.7533777),\n",
       " (26629.0, 0.7756727),\n",
       " (None, 0),\n",
       " (74085, 0.7266281),\n",
       " (88652, 0.8116274),\n",
       " (96898.0, 0.79055417),\n",
       " (3544.0, 0.78044546),\n",
       " (None, 0),\n",
       " (7327.0, 0.7416251),\n",
       " (28054, 0.751471),\n",
       " (None, 0),\n",
       " (51722.0, 0.84101707),\n",
       " (82373.0, 0.82064545),\n",
       " (48596, 0.71961457),\n",
       " (35836.0, 0.78343165),\n",
       " (19788.0, 0.742611),\n",
       " (None, 0),\n",
       " (94929, 0.7504256),\n",
       " (24921, 0.80966127),\n",
       " (None, 0),\n",
       " (None, 0),\n",
       " (None, 0),\n",
       " (102892.0, 0.87139714),\n",
       " (96602, 0.78574634),\n",
       " (90036, 0.7813846),\n",
       " (24280, 0.7724933),\n",
       " (24354.0, 0.8099692),\n",
       " (86953.0, 0.8370441),\n",
       " (86953.0, 0.84307563),\n",
       " (55924.0, 0.65966845),\n",
       " (2328.0, 0.8127921),\n",
       " (28467.0, 0.79982376),\n",
       " (88673.0, 0.72922456),\n",
       " (94814, 0.7756746),\n",
       " (51397, 0.8056007),\n",
       " (22934.0, 0.81645906),\n",
       " (87486, 0.84826285),\n",
       " (4805.0, 0.80176896),\n",
       " (26511.0, 0.77669734),\n",
       " (95091, 0.8351703),\n",
       " (19695.0, 0.7813834),\n",
       " (57393.0, 0.8594142),\n",
       " (8287.0, 0.7620024),\n",
       " (None, 0),\n",
       " (96639, 0.75236523),\n",
       " (20728.0, 0.76173747),\n",
       " (None, 0),\n",
       " (None, 0),\n",
       " (9535, 0.76982534),\n",
       " (None, 0),\n",
       " (35336.0, 0.71885324),\n",
       " (None, 0),\n",
       " (14592, 0.67760724),\n",
       " (95103.0, 0.7705512),\n",
       " (106029, 0.7141687),\n",
       " (1330, 0.7418908),\n",
       " (73084.0, 0.77834964),\n",
       " (26634, 0.7952785),\n",
       " (39560.0, 0.82434016),\n",
       " (23007.0, 0.815993),\n",
       " (38335, 0.7024643),\n",
       " (9531, 0.77345634),\n",
       " (45808.0, 0.8075257),\n",
       " (49738, 0.75600547),\n",
       " (14826, 0.85103226),\n",
       " (26634, 0.80577695),\n",
       " (2987, 0.8060552),\n",
       " (79130.0, 0.75178367),\n",
       " (55216.0, 0.7893497),\n",
       " (23562.0, 0.77187866),\n",
       " (94379.0, 0.7706053),\n",
       " (53842.0, 0.80375457),\n",
       " (57519.0, 0.7937533),\n",
       " (47449.0, 0.7180089),\n",
       " (24816.0, 0.7594065),\n",
       " (15016.0, 0.7601459),\n",
       " (None, 0),\n",
       " (47861.0, 0.8455162),\n",
       " (None, 0),\n",
       " (42321.0, 0.8175882),\n",
       " (92844, 0.7566019),\n",
       " (39339, 0.80172616),\n",
       " (69450, 0.8274318),\n",
       " (17876.0, 0.7828132),\n",
       " (17029.0, 0.7366354),\n",
       " (4546, 0.81478643),\n",
       " (94937, 0.8103372),\n",
       " (89043.0, 0.8148258),\n",
       " (59880, 0.85282624),\n",
       " (15143.0, 0.81095874),\n",
       " (None, 0),\n",
       " (103411.0, 0.82658744),\n",
       " (1809, 0.77289927),\n",
       " (39822.0, 0.79427683),\n",
       " (90859.0, 0.7863092),\n",
       " (96120.0, 0.78581494),\n",
       " (94676.0, 0.7280866),\n",
       " (46589.0, 0.7477967),\n",
       " (None, 0),\n",
       " (None, 0),\n",
       " (104986.0, 0.7891777),\n",
       " (14741.0, 0.8385824),\n",
       " (3637.0, 0.80171674),\n",
       " (44513.0, 0.80106705),\n",
       " (36061.0, 0.77704287),\n",
       " (82779, 0.8143984),\n",
       " (1896, 0.77861905),\n",
       " (42264, 0.7843836),\n",
       " (95426, 0.7219673),\n",
       " (667.0, 0.81218666),\n",
       " (91073.0, 0.79673207),\n",
       " (42157.0, 0.7479868),\n",
       " (90482.0, 0.7816821),\n",
       " (3067.0, 0.75660646),\n",
       " (None, 0),\n",
       " (63737, 0.76329035),\n",
       " (42568.0, 0.8283809),\n",
       " (5536, 0.8224865),\n",
       " (52147, 0.8109021),\n",
       " (86173.0, 0.7903582),\n",
       " (50163, 0.7717679),\n",
       " (36166, 0.7511724),\n",
       " (8034, 0.76614517),\n",
       " (49172.0, 0.7503199),\n",
       " (None, 0),\n",
       " (58364, 0.8119548),\n",
       " (96466, 0.70304275),\n",
       " (105080.0, 0.7921595),\n",
       " (48094.0, 0.8000562),\n",
       " (None, 0),\n",
       " (83756.0, 0.84761226),\n",
       " (None, 0),\n",
       " (90160, 0.83647233),\n",
       " (86426, 0.8434383),\n",
       " (42588.0, 0.8325818),\n",
       " (44193.0, 0.7721001),\n",
       " (47244.0, 0.77661264),\n",
       " (28650.0, 0.8554143),\n",
       " (47425.0, 0.77298486),\n",
       " (23834.0, 0.77826977),\n",
       " (None, 0),\n",
       " (94923, 0.76841617),\n",
       " (53740.0, 0.8128954),\n",
       " (85580.0, 0.5865384),\n",
       " (88579.0, 0.85745305),\n",
       " (83204.0, 0.8386608),\n",
       " (None, 0),\n",
       " (66876.0, 0.6689248),\n",
       " (56187, 0.79807574),\n",
       " (70614.0, 0.788619),\n",
       " (42194, 0.720171),\n",
       " (17876.0, 0.733215),\n",
       " (1808, 0.67364067),\n",
       " (94902.0, 0.78932244),\n",
       " (57543.0, 0.82304335),\n",
       " (46682.0, 0.7700681),\n",
       " (1328, 0.79700804),\n",
       " (38465, 0.7314495),\n",
       " (10634.0, 0.8508139),\n",
       " (94876, 0.81144905),\n",
       " (89496.0, 0.80319476),\n",
       " (39460.0, 0.82086205),\n",
       " (1432.0, 0.6778928),\n",
       " (61850, 0.81446064),\n",
       " (26829.0, 0.8524583),\n",
       " (14774.0, 0.7990626),\n",
       " (94926, 0.7867365),\n",
       " (None, 0),\n",
       " (15399, 0.787923),\n",
       " (48062, 0.8244873),\n",
       " (45845.0, 0.7708058),\n",
       " (None, 0),\n",
       " (52036.0, 0.8500345),\n",
       " (10606.0, 0.76164067),\n",
       " (58968.0, 0.7535275),\n",
       " (102750, 0.7598728),\n",
       " (48833.0, 0.7902498),\n",
       " (248, 0.75816095),\n",
       " (90486.0, 0.76524806),\n",
       " (95152, 0.75892663),\n",
       " (17497, 0.7623432),\n",
       " (2040.0, 0.818067),\n",
       " (None, 0),\n",
       " (45009.0, 0.77731633),\n",
       " (1827.0, 0.752279),\n",
       " (40469.0, 0.7999061),\n",
       " (46618.0, 0.715372),\n",
       " (6685.0, 0.73318404),\n",
       " (4469.0, 0.7565492),\n",
       " (21903.0, 0.8392678),\n",
       " (67938.0, 0.8168568),\n",
       " (63942, 0.7030479),\n",
       " (5270.0, 0.74320036),\n",
       " (26680.0, 0.82378185),\n",
       " (78060.0, 0.7864848),\n",
       " (71778, 0.790283),\n",
       " (73398.0, 0.8210334),\n",
       " (17942.0, 0.79948694),\n",
       " (64128.0, 0.8003638),\n",
       " (22049.0, 0.7787528),\n",
       " (61060.0, 0.8159119),\n",
       " (61824, 0.76367074),\n",
       " (3723, 0.79474646),\n",
       " (93997, 0.85447174),\n",
       " (72896.0, 0.80554837),\n",
       " (80392.0, 0.8156199),\n",
       " (1788.0, 0.84745944),\n",
       " (23586, 0.8052825),\n",
       " (104792.0, 0.76319253),\n",
       " (38313.0, 0.78504395),\n",
       " (13822, 0.7947924),\n",
       " (56188.0, 0.7881285),\n",
       " (1843.0, 0.7695578),\n",
       " (103048.0, 0.78631645),\n",
       " (47505.0, 0.8414887),\n",
       " (71615.0, 0.825467),\n",
       " (17074.0, 0.82249635),\n",
       " (19670.0, 0.7916495),\n",
       " (None, 0),\n",
       " (73099.0, 0.74031556),\n",
       " (46242.0, 0.78730434),\n",
       " (86953.0, 0.8295066),\n",
       " (5428.0, 0.8322701),\n",
       " (70534.0, 0.7585985),\n",
       " (39342, 0.7955783),\n",
       " (94623.0, 0.76557505),\n",
       " (5827.0, 0.77029294),\n",
       " (86473, 0.78276145),\n",
       " (19790, 0.71832937),\n",
       " (100882.0, 0.7229098),\n",
       " (89307.0, 0.84200746),\n",
       " (46680.0, 0.7939132),\n",
       " (45153, 0.79567945),\n",
       " (53645.0, 0.8205636),\n",
       " (105388, 0.81060386),\n",
       " (41590.0, 0.7803473),\n",
       " (90482, 0.78870666),\n",
       " (70702.0, 0.72337735),\n",
       " (59029, 0.75198233),\n",
       " (13809.0, 0.85025007),\n",
       " (103173, 0.7975064),\n",
       " (79108.0, 0.7390978),\n",
       " (46028, 0.6731949),\n",
       " (49200.0, 0.81318593),\n",
       " (80387.0, 0.76907146),\n",
       " (41328.0, 0.8169316),\n",
       " (None, 0),\n",
       " (39849, 0.7103748),\n",
       " (None, 0),\n",
       " (84030.0, 0.83484185),\n",
       " (13725, 0.8043384),\n",
       " (7423, 0.7879328),\n",
       " (88988, 0.7599965),\n",
       " (None, 0),\n",
       " (52014, 0.7394226),\n",
       " (41432.0, 0.7944144),\n",
       " (77866, 0.832398),\n",
       " (58424.0, 0.7949103),\n",
       " (48713.0, 0.7761257),\n",
       " (94621.0, 0.7277425),\n",
       " (51337.0, 0.76277775),\n",
       " (136.0, 0.78613263),\n",
       " (58912, 0.7614449),\n",
       " (96484, 0.7729557),\n",
       " (105031, 0.75217175),\n",
       " (None, 0),\n",
       " (85621, 0.7664723),\n",
       " (102710, 0.79549074),\n",
       " (74030, 0.71541244),\n",
       " (68750.0, 0.7479012),\n",
       " (35776, 0.78770405),\n",
       " (14774.0, 0.74534535),\n",
       " (9400, 0.712251),\n",
       " (52036.0, 0.7534715),\n",
       " (None, 0),\n",
       " (303.0, 0.7608202),\n",
       " (1896.0, 0.8178009),\n",
       " (45013.0, 0.8040013),\n",
       " (82724.0, 0.81303936),\n",
       " (4499.0, 0.74719644),\n",
       " (22365, 0.76640296),\n",
       " (36073.0, 0.76442003),\n",
       " (31791, 0.7418108),\n",
       " (78911, 0.80749506),\n",
       " (49458, 0.79031813),\n",
       " (None, 0),\n",
       " (58240.0, 0.82989144),\n",
       " (102886.0, 0.80889714),\n",
       " (59051, 0.7270933),\n",
       " (15399, 0.7733106),\n",
       " (78258, 0.7953959),\n",
       " (9295.0, 0.7271435),\n",
       " (13179, 0.7938791),\n",
       " (73417.0, 0.82289946),\n",
       " (94640.0, 0.76189876),\n",
       " (94828.0, 0.7625616),\n",
       " (94814, 0.7966112),\n",
       " (88001, 0.6908181),\n",
       " (2747, 0.74780476),\n",
       " (None, 0),\n",
       " (28567.0, 0.7290989),\n",
       " (19788.0, 0.7950298),\n",
       " (None, 0),\n",
       " (28243, 0.7911143),\n",
       " (83786, 0.82171553),\n",
       " (None, 0),\n",
       " (71965, 0.6994402),\n",
       " (83307.0, 0.77162856),\n",
       " (66287.0, 0.7738882),\n",
       " (52503.0, 0.7001272),\n",
       " (52017, 0.8006758),\n",
       " (9548.0, 0.7598457),\n",
       " (46076, 0.73453784),\n",
       " (50191, 0.670612),\n",
       " (None, 0),\n",
       " (42804.0, 0.7844412),\n",
       " (None, 0),\n",
       " (21860.0, 0.7883867),\n",
       " (105383.0, 0.78195375),\n",
       " (89234.0, 0.8051859),\n",
       " (49712, 0.83425975),\n",
       " (24253.0, 0.8448828),\n",
       " (50800.0, 0.70729536),\n",
       " (53298, 0.82292116),\n",
       " (23778.0, 0.7492979),\n",
       " (90332.0, 0.81507164),\n",
       " (71778, 0.7462532),\n",
       " (4499.0, 0.8453769),\n",
       " (17021.0, 0.7484719),\n",
       " (None, 0),\n",
       " (54892.0, 0.7563239),\n",
       " (94929, 0.76140815),\n",
       " (56645.0, 0.70317185),\n",
       " (48955.0, 0.837726),\n",
       " (9974.0, 0.8086627),\n",
       " (80645.0, 0.78685015),\n",
       " (None, 0),\n",
       " (54023.0, 0.7679569),\n",
       " (89071, 0.76787925),\n",
       " (None, 0),\n",
       " (1806, 0.7763353),\n",
       " (93187.0, 0.8115194),\n",
       " (24051.0, 0.73972917),\n",
       " (1788, 0.8219899),\n",
       " (96067.0, 0.7651023),\n",
       " (3637, 0.80383617),\n",
       " (95256, 0.7989245),\n",
       " (101362.0, 0.8067548),\n",
       " (None, 0),\n",
       " (49391.0, 0.7414275),\n",
       " (20640, 0.75423247),\n",
       " (None, 0),\n",
       " (49342, 0.7684211),\n",
       " (52474.0, 0.7738996),\n",
       " (63942.0, 0.7029597),\n",
       " (86821.0, 0.75521076),\n",
       " (None, 0),\n",
       " (49918, 0.7722171),\n",
       " (85754, 0.8174137),\n",
       " (54207.0, 0.7924624),\n",
       " (88430, 0.8119363),\n",
       " (None, 0),\n",
       " (None, 0),\n",
       " (96036.0, 0.7908686),\n",
       " (None, 0),\n",
       " (None, 0),\n",
       " (1806, 0.7456182),\n",
       " (43705.0, 0.82960796),\n",
       " (94805.0, 0.7974035),\n",
       " (47675.0, 0.7410194),\n",
       " (83570, 0.808559),\n",
       " (31505, 0.8253827),\n",
       " (50099.0, 0.83914626),\n",
       " (90233, 0.8577401),\n",
       " (102564, 0.8957675),\n",
       " (30996, 0.84201854),\n",
       " (56594.0, 0.78506297),\n",
       " (23176.0, 0.7100029),\n",
       " (1462, 0.7677137),\n",
       " (None, None),\n",
       " (None, 0),\n",
       " (38325, 0.7780813),\n",
       " (49875.0, 0.7249251),\n",
       " (16912.0, 0.7451014),\n",
       " (5599, 0.8557198),\n",
       " (96005, 0.6920347),\n",
       " (None, 0),\n",
       " (None, 0),\n",
       " (58475, 0.77873826),\n",
       " (31804.0, 0.80836755),\n",
       " (83527, 0.8504489),\n",
       " (None, 0),\n",
       " (73393.0, 0.80466366),\n",
       " (13209.0, 0.7556925),\n",
       " (None, 0),\n",
       " (None, 0),\n",
       " (42580.0, 0.8296093),\n",
       " (73544.0, 0.6955385),\n",
       " (50245.0, 0.8170875),\n",
       " (None, 0),\n",
       " (91219.0, 0.8025872),\n",
       " (94623.0, 0.7503812),\n",
       " (105383.0, 0.8394211),\n",
       " (None, 0),\n",
       " (None, 0),\n",
       " (89310, 0.85703015),\n",
       " (25292.0, 0.76676077),\n",
       " (4912.0, 0.8195029),\n",
       " (56645, 0.7683616),\n",
       " (94689.0, 0.79346025),\n",
       " (None, 0),\n",
       " (59857, 0.73508024),\n",
       " (69652.0, 0.8279312),\n",
       " (2312, 0.7787606),\n",
       " (43723.0, 0.77530736),\n",
       " (87167, 0.79188824),\n",
       " (52503, 0.7594774),\n",
       " (14257, 0.6932228),\n",
       " (50194.0, 0.7648335),\n",
       " (88800.0, 0.8599248),\n",
       " (None, 0),\n",
       " (5550, 0.70901394),\n",
       " (52114, 0.77859294),\n",
       " (94733.0, 0.7404584),\n",
       " (76015.0, 0.79515076),\n",
       " (68246, 0.692514),\n",
       " (17071.0, 0.746704),\n",
       " (None, 0),\n",
       " (None, 0),\n",
       " (92844, 0.8287311),\n",
       " (None, 0),\n",
       " (83737, 0.8278466),\n",
       " (8788.0, 0.79959476),\n",
       " (28370, 0.71351177),\n",
       " (78861, 0.6937757),\n",
       " (71962, 0.74598664),\n",
       " (48986, 0.7818359),\n",
       " (70536.0, 0.76244223),\n",
       " (53562.0, 0.76264846),\n",
       " (24047.0, 0.8443465),\n",
       " (46371, 0.7660322),\n",
       " (81370.0, 0.822875),\n",
       " (None, 0),\n",
       " (95733.0, 0.81063557),\n",
       " (80672, 0.8306449),\n",
       " (14774.0, 0.7378744),\n",
       " (83924.0, 0.8398507),\n",
       " (1297, 0.7572646),\n",
       " (55041.0, 0.68236434),\n",
       " (39338, 0.77741206),\n",
       " (91233.0, 0.715885),\n",
       " (None, 0),\n",
       " (94930.0, 0.8031032),\n",
       " (8755, 0.81307465),\n",
       " (42758, 0.7026169),\n",
       " (41030, 0.71574026),\n",
       " (14281.0, 0.78153884),\n",
       " (None, 0),\n",
       " (25632.0, 0.798377),\n",
       " (10903, 0.8443898),\n",
       " (58409, 0.78763443),\n",
       " (7333.0, 0.7828296),\n",
       " (None, 0),\n",
       " (105388.0, 0.76130736),\n",
       " (995, 0.78618556),\n",
       " (7341.0, 0.7397857),\n",
       " (61048, 0.80063826),\n",
       " (94885, 0.79459584),\n",
       " (57279, 0.81243885),\n",
       " (None, 0),\n",
       " (47246, 0.72232777),\n",
       " (53678, 0.69081473),\n",
       " (74081, 0.7667764),\n",
       " (49923.0, 0.7903642),\n",
       " (None, 0),\n",
       " (14767, 0.72704655),\n",
       " (50512.0, 0.7835171),\n",
       " (23833.0, 0.79988885),\n",
       " (58797.0, 0.78584534),\n",
       " (94706.0, 0.8140531),\n",
       " (89228, 0.8211162),\n",
       " (9558, 0.73070747),\n",
       " (104780.0, 0.7552231),\n",
       " (4471, 0.74357504),\n",
       " (57078, 0.7589572),\n",
       " (7986, 0.7571029),\n",
       " (70343.0, 0.7630959),\n",
       " (24084.0, 0.79462796),\n",
       " (43583, 0.84904045),\n",
       " (103158.0, 0.8212235),\n",
       " (55188.0, 0.7815205),\n",
       " (42322, 0.7940298),\n",
       " (28484.0, 0.8361678),\n",
       " (88432, 0.85466075),\n",
       " (46905, 0.77293396),\n",
       " (94807.0, 0.7701358),\n",
       " (66871.0, 0.84913164),\n",
       " (1808.0, 0.7673921),\n",
       " (94929, 0.76300913),\n",
       " (43673.0, 0.75601405),\n",
       " (None, 0),\n",
       " (46909, 0.6925261),\n",
       " (21240.0, 0.72863215),\n",
       " (8807.0, 0.7722661),\n",
       " (8833.0, 0.79968303),\n",
       " (87451.0, 0.8293065),\n",
       " (90372.0, 0.81389546),\n",
       " (48089, 0.8418577),\n",
       " (1729.0, 0.7529209),\n",
       " (48994.0, 0.7820161),\n",
       " (58269, 0.75610197),\n",
       " (61889, 0.8052404),\n",
       " (68156, 0.77089626),\n",
       " (86217.0, 0.7993003),\n",
       " (94806.0, 0.77036643),\n",
       " (7044, 0.6532695),\n",
       " (None, 0),\n",
       " (83324, 0.62320083),\n",
       " (None, 0),\n",
       " (1321.0, 0.7631966),\n",
       " (79867.0, 0.8167281),\n",
       " (94712.0, 0.7500654),\n",
       " (49880, 0.8010044),\n",
       " (52015.0, 0.7508627),\n",
       " (28462.0, 0.7992725),\n",
       " (44851, 0.7443983),\n",
       " (31561, 0.80541337),\n",
       " (13992.0, 0.8065117),\n",
       " (1827.0, 0.7723129),\n",
       " (19514.0, 0.78452176),\n",
       " (None, 0),\n",
       " (7425.0, 0.771936),\n",
       " (69045, 0.70644784),\n",
       " (39434, 0.8668301),\n",
       " (55041.0, 0.74325967),\n",
       " (None, 0),\n",
       " (105080.0, 0.75756633),\n",
       " (44203.0, 0.80112237),\n",
       " (5595, 0.83301187),\n",
       " (475.0, 0.80853426),\n",
       " (21834, 0.76477015),\n",
       " (39850.0, 0.7727352),\n",
       " (None, 0),\n",
       " (77834, 0.8139464),\n",
       " (None, 0),\n",
       " (58672.0, 0.7886132),\n",
       " (54892.0, 0.74452764),\n",
       " (46532.0, 0.73439324),\n",
       " (None, 0),\n",
       " (43705.0, 0.77807367),\n",
       " (211, 0.6208551),\n",
       " (58912, 0.74035555),\n",
       " (2709.0, 0.7842725),\n",
       " (None, 0),\n",
       " (None, 0),\n",
       " (61857, 0.83333164),\n",
       " (61053.0, 0.6640985),\n",
       " (51321.0, 0.7314867),\n",
       " (24084.0, 0.8090972),\n",
       " (28479.0, 0.8021416),\n",
       " (52036.0, 0.7530507),\n",
       " (47762.0, 0.86938316),\n",
       " (74051.0, 0.70694935),\n",
       " (57353.0, 0.8222662),\n",
       " (1806, 0.7894843),\n",
       " (78166, 0.83973724),\n",
       " (85506.0, 0.8497615),\n",
       " (15271.0, 0.8104781),\n",
       " (57310, 0.77349234),\n",
       " (20203.0, 0.81572604),\n",
       " (None, 0),\n",
       " (84927, 0.81329936),\n",
       " (71497, 0.7787679),\n",
       " (88988, 0.80613774),\n",
       " (89273, 0.8325946),\n",
       " (46624.0, 0.79512525),\n",
       " (87389, 0.79021853),\n",
       " (94904, 0.7685418),\n",
       " (19663.0, 0.8136154),\n",
       " (1343.0, 0.77144176),\n",
       " (79430.0, 0.8124489),\n",
       " (30736.0, 0.83339787),\n",
       " (79135, 0.80525136),\n",
       " (76166, 0.8292397),\n",
       " (9141.0, 0.77191633),\n",
       " (47253, 0.7615979),\n",
       " (68156.0, 0.79636806),\n",
       " (38318.0, 0.78714025),\n",
       " (None, 0),\n",
       " (70343.0, 0.7728238),\n",
       " (79446, 0.8177451),\n",
       " (41413.0, 0.8076123),\n",
       " (56743, 0.78605795),\n",
       " (61819, 0.7730458),\n",
       " (21472.0, 0.78507155),\n",
       " (73059.0, 0.7553014),\n",
       " (94880.0, 0.74569625),\n",
       " (96465.0, 0.81731594),\n",
       " (94916.0, 0.77406025),\n",
       " (26634, 0.78054136),\n",
       " (83431, 0.837218),\n",
       " (103112.0, 0.7094656),\n",
       " (23256.0, 0.81903446),\n",
       " (56645.0, 0.68178266),\n",
       " (39434, 0.6492831),\n",
       " (45013, 0.7896546),\n",
       " (26831.0, 0.83181095),\n",
       " (39818.0, 0.72194684),\n",
       " (14088.0, 0.7054557),\n",
       " (None, 0),\n",
       " (79431, 0.7703148),\n",
       " (24156.0, 0.81608945),\n",
       " (53834.0, 0.7668141),\n",
       " (8101.0, 0.7765441),\n",
       " (46617.0, 0.74156505),\n",
       " (94632, 0.75760025),\n",
       " (2064, 0.76939106),\n",
       " (1710, 0.7747846),\n",
       " (4912.0, 0.798049),\n",
       " (13985.0, 0.80525357),\n",
       " (104972.0, 0.8115359),\n",
       " (None, 0),\n",
       " (39434, 0.86573964),\n",
       " (67473, 0.81161),\n",
       " (None, 0),\n",
       " (96016, 0.75269467),\n",
       " (50165, 0.78843105),\n",
       " (None, 0),\n",
       " (83787, 0.782644),\n",
       " (83523.0, 0.7719392),\n",
       " (79431, 0.8358867),\n",
       " (82723, 0.81176776),\n",
       " (47252.0, 0.79415727),\n",
       " (21725.0, 0.78289133),\n",
       " (8788.0, 0.7580125),\n",
       " (None, 0),\n",
       " (3649.0, 0.7208221),\n",
       " (48548, 0.7287265),\n",
       " (14030.0, 0.740417),\n",
       " (None, 0),\n",
       " (None, 0),\n",
       " (9141.0, 0.8027792),\n",
       " (96147.0, 0.740078),\n",
       " (23185.0, 0.74923724),\n",
       " (21425.0, 0.71652615),\n",
       " (5550, 0.7554854),\n",
       " (77517, 0.83108974),\n",
       " (58331, 0.7449756),\n",
       " (49774.0, 0.7620344),\n",
       " (24275.0, 0.7574562),\n",
       " (None, 0),\n",
       " (28845, 0.8607171),\n",
       " (34544, 0.7753814),\n",
       " (50736, 0.61938375),\n",
       " (59857.0, 0.8105703),\n",
       " (None, 0),\n",
       " (50293.0, 0.81680757),\n",
       " (None, 0),\n",
       " (44969, 0.76932645),\n",
       " (88432.0, 0.7553888),\n",
       " (50307.0, 0.7933536),\n",
       " (5944, 0.8132441),\n",
       " (19790.0, 0.7570129),\n",
       " (92792, 0.7399793),\n",
       " (47253, 0.7675027),\n",
       " (2414, 0.70475477),\n",
       " (19531, 0.78339636),\n",
       " (53176.0, 0.85830426),\n",
       " (None, 0),\n",
       " (53822, 0.81924915),\n",
       " (52113.0, 0.8241343),\n",
       " (24073, 0.7700235),\n",
       " (49949.0, 0.83062595),\n",
       " (None, 0),\n",
       " (39461.0, 0.8400161),\n",
       " (68764.0, 0.6825618),\n",
       " (None, 0),\n",
       " (23235.0, 0.82819927),\n",
       " (2619.0, 0.7622682),\n",
       " (None, 0),\n",
       " (None, 0),\n",
       " (43718.0, 0.80241287),\n",
       " (50512, 0.76048136),\n",
       " (47255, 0.7579355),\n",
       " (37053, 0.7727498),\n",
       " (8744.0, 0.74948233),\n",
       " (13721, 0.81620514),\n",
       " (56646.0, 0.7684725),\n",
       " (46475, 0.7962313),\n",
       " (43695, 0.82018054),\n",
       " (90482.0, 0.80918306),\n",
       " (94758, 0.75866836),\n",
       " (1328.0, 0.80551475),\n",
       " (9969.0, 0.8143962),\n",
       " (88026, 0.80428535),\n",
       " (103040.0, 0.73400027),\n",
       " (102641, 0.7960924),\n",
       " (104988, 0.8169923),\n",
       " (96586.0, 0.6925114),\n",
       " (104510.0, 0.78354836),\n",
       " (87486, 0.78667873),\n",
       " (53328, 0.69636947),\n",
       " (69191, 0.7501307),\n",
       " (35787, 0.79088414),\n",
       " (28262.0, 0.81004083),\n",
       " (52518, 0.78086793),\n",
       " (90160, 0.83185124),\n",
       " (49882, 0.683899),\n",
       " (44623, 0.7513124),\n",
       " (93904.0, 0.77195567),\n",
       " (88984.0, 0.72029835),\n",
       " (74215, 0.7118315),\n",
       " (77609, 0.81898326),\n",
       " (78764, 0.7612753),\n",
       " (92583.0, 0.7349123),\n",
       " (49207.0, 0.7094534),\n",
       " (73057, 0.8009102),\n",
       " (59377.0, 0.841381),\n",
       " (91053.0, 0.77644145),\n",
       " (38313.0, 0.72768545),\n",
       " (39110.0, 0.8146124),\n",
       " (43152, 0.86094266),\n",
       " (104793, 0.7675383),\n",
       " (31251.0, 0.74789387),\n",
       " (46248.0, 0.7446643),\n",
       " (2990.0, 0.7937434),\n",
       " (None, 0),\n",
       " (93000.0, 0.7255699),\n",
       " (None, 0),\n",
       " (48733, 0.7832866),\n",
       " (74181, 0.7670804),\n",
       " (94901.0, 0.81860995),\n",
       " (88674.0, 0.7567359),\n",
       " (248, 0.6892652),\n",
       " (None, 0),\n",
       " (96602, 0.776333),\n",
       " (20975, 0.84505266),\n",
       " (56195.0, 0.7682229),\n",
       " (34281.0, 0.8295967),\n",
       " (None, 0),\n",
       " (45736.0, 0.7076949),\n",
       " (93507, 0.7470791),\n",
       " (13959.0, 0.7856517),\n",
       " (64768.0, 0.74717146),\n",
       " (95733, 0.6645088),\n",
       " (67769, 0.80823904),\n",
       " (104970, 0.7923206),\n",
       " (38344, 0.7712645),\n",
       " (45943, 0.7211474),\n",
       " (None, 0),\n",
       " (79431, 0.7052563),\n",
       " (8788.0, 0.77518266),\n",
       " (84241.0, 0.7890937),\n",
       " (44193.0, 0.76116145),\n",
       " (94062, 0.73455447),\n",
       " (None, 0),\n",
       " (70366.0, 0.77077544),\n",
       " (47861.0, 0.74099386),\n",
       " (None, 0),\n",
       " (75245, 0.7619665),\n",
       " (64577, 0.7769628),\n",
       " (None, 0),\n",
       " (54892.0, 0.7814169),\n",
       " (100549, 0.8926639),\n",
       " (83058, 0.7921845),\n",
       " (None, 0),\n",
       " (16111, 0.78584665),\n",
       " (95829.0, 0.7492874),\n",
       " (None, 0),\n",
       " (94912.0, 0.7839804),\n",
       " (9965.0, 0.758115),\n",
       " (1826, 0.74276555),\n",
       " (55570, 0.8741982),\n",
       " (47255, 0.7455471),\n",
       " (76015.0, 0.8084473),\n",
       " (83786, 0.8267397),\n",
       " (26836, 0.86848134),\n",
       " (28493.0, 0.7205903),\n",
       " (1788.0, 0.78585076),\n",
       " (55013, 0.7339856),\n",
       " (5943.0, 0.7848921),\n",
       " (87450.0, 0.7648703),\n",
       " (22922.0, 0.78148365),\n",
       " (90349, 0.8175625),\n",
       " (None, 0),\n",
       " (58672.0, 0.77294344),\n",
       " (None, 0),\n",
       " (56374.0, 0.7395287),\n",
       " (63895.0, 0.73584014),\n",
       " (None, 0),\n",
       " (92124, 0.72144103),\n",
       " (52144, 0.8229499),\n",
       " (41600.0, 0.7348511),\n",
       " (88750, 0.8015993),\n",
       " (49875.0, 0.74564505),\n",
       " (87400, 0.7643512),\n",
       " (49342, 0.7829629),\n",
       " (22446, 0.8083882),\n",
       " (1809, 0.7435162),\n",
       " (None, 0),\n",
       " (None, 0),\n",
       " (48061, 0.8299549),\n",
       " (None, 0),\n",
       " (96604.0, 0.74832636),\n",
       " (7449.0, 0.789806),\n",
       " (79446, 0.78552127),\n",
       " (90342, 0.7918127),\n",
       " (89104, 0.76056087),\n",
       " (None, 0),\n",
       " (55908.0, 0.7805629),\n",
       " (94933, 0.8270529),\n",
       " (67856.0, 0.7745119),\n",
       " (5599, 0.8656878),\n",
       " (40118, 0.6693273),\n",
       " (17074.0, 0.78175634),\n",
       " (58672.0, 0.7570719),\n",
       " (None, 0),\n",
       " (55317, 0.6769964),\n",
       " (20640.0, 0.7453842),\n",
       " (None, 0),\n",
       " (4550.0, 0.84704554),\n",
       " (75037.0, 0.7976417),\n",
       " (48996.0, 0.71589833),\n",
       " (41605, 0.7577461),\n",
       " (50800.0, 0.77735615),\n",
       " (78856, 0.8492968),\n",
       " (91991, 0.72527325),\n",
       " (39865.0, 0.7954468),\n",
       " (17107.0, 0.821244),\n",
       " (47252.0, 0.7775904),\n",
       " (85794.0, 0.79780346),\n",
       " (44057.0, 0.8003661),\n",
       " (86057.0, 0.73003966),\n",
       " (88559, 0.78929037),\n",
       " (None, 0),\n",
       " (53874.0, 0.7486991),\n",
       " (73742, 0.7819153),\n",
       " (41638.0, 0.7761643),\n",
       " (24164.0, 0.8195294),\n",
       " (80392, 0.8121038),\n",
       " (None, 0),\n",
       " (None, 0),\n",
       " (105385, 0.8341548),\n",
       " (13294.0, 0.81065744),\n",
       " (None, 0),\n",
       " (101644.0, 0.80213135),\n",
       " (68773.0, 0.7971654),\n",
       " (18643, 0.80245775),\n",
       " (None, 0),\n",
       " (105439.0, 0.7386949),\n",
       " (46907.0, 0.73296887),\n",
       " (31671, 0.76517683),\n",
       " (50482, 0.69364077),\n",
       " (55195, 0.84040606),\n",
       " (58672.0, 0.7443036),\n",
       " (None, 0),\n",
       " (None, 0),\n",
       " (59968.0, 0.8025536),\n",
       " (59437, 0.7855502),\n",
       " (85753, 0.8751003),\n",
       " (82902, 0.81822926),\n",
       " (82005.0, 0.6983255),\n",
       " (20675.0, 0.79299206),\n",
       " (75229.0, 0.86188537),\n",
       " (13792.0, 0.75692666),\n",
       " (9436, 0.8363743),\n",
       " (78817.0, 0.7868548),\n",
       " (28455.0, 0.83023673),\n",
       " (49761.0, 0.8391418),\n",
       " (87599.0, 0.769342),\n",
       " (14281.0, 0.78009677),\n",
       " (None, 0),\n",
       " (24001.0, 0.7801734),\n",
       " (42903.0, 0.82906646),\n",
       " (70622.0, 0.82111716),\n",
       " (None, 0),\n",
       " (86508, 0.74472743),\n",
       " (95301.0, 0.7669015),\n",
       " (79138.0, 0.76590806),\n",
       " (86821.0, 0.7670437),\n",
       " (42496.0, 0.70524627),\n",
       " (46273.0, 0.75224614),\n",
       " (None, 0),\n",
       " (1807.0, 0.7433628),\n",
       " (82785, 0.7821393),\n",
       " (50514, 0.81704843),\n",
       " (19789, 0.6641583),\n",
       " (78007, 0.82097095),\n",
       " (94678.0, 0.79337746),\n",
       " (94806.0, 0.79477906),\n",
       " (105082.0, 0.73521215),\n",
       " (42137, 0.712883),\n",
       " (None, 0),\n",
       " (90482.0, 0.81430274),\n",
       " (None, 0),\n",
       " (100578, 0.7211347),\n",
       " (49391.0, 0.8214451),\n",
       " (5491, 0.75631773),\n",
       " (None, 0),\n",
       " (None, 0),\n",
       " (22078, 0.80982393),\n",
       " (94665, 0.74069405),\n",
       " (5830.0, 0.75441575),\n",
       " (19816.0, 0.8389749),\n",
       " (77772.0, 0.7794029),\n",
       " (None, 0),\n",
       " (88989.0, 0.77268636),\n",
       " (94908, 0.76886487),\n",
       " (15218, 0.8419502),\n",
       " (38345, 0.7747858),\n",
       " (53838, 0.8648245),\n",
       " (37023.0, 0.77109575),\n",
       " (1788.0, 0.7846577),\n",
       " (None, 0),\n",
       " (52114, 0.7706622),\n",
       " (89118.0, 0.82862),\n",
       " (41634, 0.7360116),\n",
       " (82160.0, 0.7508969),\n",
       " (90482, 0.79892975),\n",
       " (47633, 0.8173263),\n",
       " (79532, 0.7945783),\n",
       " (23835.0, 0.7847118),\n",
       " (1888.0, 0.75897086),\n",
       " (50170.0, 0.7970172),\n",
       " (31031, 0.8077579),\n",
       " (53870.0, 0.75952595),\n",
       " (2559, 0.7634572),\n",
       " (78862.0, 0.82828426),\n",
       " (49338, 0.7321421),\n",
       " (None, 0),\n",
       " (None, 0),\n",
       " (103183.0, 0.8238449),\n",
       " (None, 0),\n",
       " (95457.0, 0.76937234),\n",
       " (None, 0),\n",
       " (83846.0, 0.7593477),\n",
       " (95733, 0.7086623),\n",
       " (29318.0, 0.7904388),\n",
       " (23835.0, 0.81096256),\n",
       " (None, 0),\n",
       " (3554, 0.82441235),\n",
       " (None, 0),\n",
       " (104973, 0.6845834),\n",
       " (57082, 0.76612526),\n",
       " (86466.0, 0.84752834),\n",
       " (105358, 0.6817762),\n",
       " (14860, 0.7797742),\n",
       " (46680.0, 0.80188054),\n",
       " (52025, 0.77688414),\n",
       " (52036, 0.86887616),\n",
       " (46005.0, 0.8566724),\n",
       " (2610.0, 0.74181706),\n",
       " (94915.0, 0.7546214),\n",
       " (48094.0, 0.8215649),\n",
       " (None, 0),\n",
       " ...]"
      ]
     },
     "execution_count": 26,
     "metadata": {},
     "output_type": "execute_result"
    }
   ],
   "source": [
    "result"
   ]
  },
  {
   "cell_type": "code",
   "execution_count": 27,
   "id": "7d97c1c4",
   "metadata": {},
   "outputs": [],
   "source": [
    "result\n",
    "result_df = pd.DataFrame(result,columns=['best_poi','best_poi_score']) # 将列表转换成DataFrame\n",
    "pic_poi_df = pic_poi_df.join(result_df) # 将新的DataFrame添加到原始DataFrame中\n",
    "# pic_poi_df.shape[0]"
   ]
  },
  {
   "cell_type": "code",
   "execution_count": null,
   "id": "9a4af227-e2f2-483e-84d0-007d82a2bdc6",
   "metadata": {
    "scrolled": true,
    "tags": []
   },
   "outputs": [],
   "source": [
    "# 上一块做了，这一块就不做了\n",
    "#result = pic_poi_df.apply(lambda x: find_best_poi(x), axis=1,result_type='expand')"
   ]
  },
  {
   "cell_type": "code",
   "execution_count": null,
   "id": "8a02d9eb-fae4-4375-810e-67500d2e2409",
   "metadata": {},
   "outputs": [],
   "source": [
    "#pic_poi_df[['best_poi','similarity']]= result"
   ]
  },
  {
   "cell_type": "code",
   "execution_count": 28,
   "id": "22b348a6-fdc4-4867-88a9-1e700dc01599",
   "metadata": {},
   "outputs": [
    {
     "data": {
      "text/html": [
       "<div>\n",
       "<style scoped>\n",
       "    .dataframe tbody tr th:only-of-type {\n",
       "        vertical-align: middle;\n",
       "    }\n",
       "\n",
       "    .dataframe tbody tr th {\n",
       "        vertical-align: top;\n",
       "    }\n",
       "\n",
       "    .dataframe thead th {\n",
       "        text-align: right;\n",
       "    }\n",
       "</style>\n",
       "<table border=\"1\" class=\"dataframe\">\n",
       "  <thead>\n",
       "    <tr style=\"text-align: right;\">\n",
       "      <th></th>\n",
       "      <th>img_key</th>\n",
       "      <th>id1</th>\n",
       "      <th>distance1</th>\n",
       "      <th>id2</th>\n",
       "      <th>distance2</th>\n",
       "      <th>id3</th>\n",
       "      <th>distance3</th>\n",
       "      <th>id4</th>\n",
       "      <th>distance4</th>\n",
       "      <th>id5</th>\n",
       "      <th>distance5</th>\n",
       "      <th>best_poi</th>\n",
       "      <th>best_poi_score</th>\n",
       "    </tr>\n",
       "  </thead>\n",
       "  <tbody>\n",
       "    <tr>\n",
       "      <th>0</th>\n",
       "      <td>001Laaog8zdwYugH_HWEgw</td>\n",
       "      <td>21752</td>\n",
       "      <td>13.059461</td>\n",
       "      <td>21750.0</td>\n",
       "      <td>19.824303</td>\n",
       "      <td>21751.0</td>\n",
       "      <td>21.686056</td>\n",
       "      <td>44108.0</td>\n",
       "      <td>24.086535</td>\n",
       "      <td>21753.0</td>\n",
       "      <td>28.384339</td>\n",
       "      <td>44108.0</td>\n",
       "      <td>0.821597</td>\n",
       "    </tr>\n",
       "    <tr>\n",
       "      <th>1</th>\n",
       "      <td>001Q3_sTWsNcUd0yl-nJLA</td>\n",
       "      <td>94058</td>\n",
       "      <td>17.821758</td>\n",
       "      <td>42113.0</td>\n",
       "      <td>21.367698</td>\n",
       "      <td>95019.0</td>\n",
       "      <td>21.512402</td>\n",
       "      <td>42137.0</td>\n",
       "      <td>21.694559</td>\n",
       "      <td>90529.0</td>\n",
       "      <td>22.674062</td>\n",
       "      <td>95019.0</td>\n",
       "      <td>0.728828</td>\n",
       "    </tr>\n",
       "    <tr>\n",
       "      <th>2</th>\n",
       "      <td>0025pq4iX5JFSzLE4mzwKQ</td>\n",
       "      <td>259</td>\n",
       "      <td>98.612218</td>\n",
       "      <td>48095.0</td>\n",
       "      <td>116.037520</td>\n",
       "      <td>52036.0</td>\n",
       "      <td>142.219760</td>\n",
       "      <td>48096.0</td>\n",
       "      <td>148.991137</td>\n",
       "      <td>52502.0</td>\n",
       "      <td>152.942388</td>\n",
       "      <td>259.0</td>\n",
       "      <td>0.687339</td>\n",
       "    </tr>\n",
       "    <tr>\n",
       "      <th>3</th>\n",
       "      <td>002QPn5NUqaQIqgAXwrVlg</td>\n",
       "      <td>95628</td>\n",
       "      <td>125.756467</td>\n",
       "      <td>66004.0</td>\n",
       "      <td>167.137533</td>\n",
       "      <td>82889.0</td>\n",
       "      <td>177.383359</td>\n",
       "      <td>7174.0</td>\n",
       "      <td>196.736422</td>\n",
       "      <td>95632.0</td>\n",
       "      <td>228.807795</td>\n",
       "      <td>NaN</td>\n",
       "      <td>0.000000</td>\n",
       "    </tr>\n",
       "    <tr>\n",
       "      <th>4</th>\n",
       "      <td>002U0X8H3fkVK0dCi3ZRQA</td>\n",
       "      <td>93806</td>\n",
       "      <td>26.203495</td>\n",
       "      <td>93404.0</td>\n",
       "      <td>32.968048</td>\n",
       "      <td>17517.0</td>\n",
       "      <td>36.808813</td>\n",
       "      <td>22492.0</td>\n",
       "      <td>36.974101</td>\n",
       "      <td>93403.0</td>\n",
       "      <td>38.511392</td>\n",
       "      <td>17517.0</td>\n",
       "      <td>0.802982</td>\n",
       "    </tr>\n",
       "    <tr>\n",
       "      <th>...</th>\n",
       "      <td>...</td>\n",
       "      <td>...</td>\n",
       "      <td>...</td>\n",
       "      <td>...</td>\n",
       "      <td>...</td>\n",
       "      <td>...</td>\n",
       "      <td>...</td>\n",
       "      <td>...</td>\n",
       "      <td>...</td>\n",
       "      <td>...</td>\n",
       "      <td>...</td>\n",
       "      <td>...</td>\n",
       "      <td>...</td>\n",
       "    </tr>\n",
       "    <tr>\n",
       "      <th>161147</th>\n",
       "      <td>ZzZ0-G17tbu8HO4rUrh4-A</td>\n",
       "      <td>2414</td>\n",
       "      <td>42.792871</td>\n",
       "      <td>71755.0</td>\n",
       "      <td>90.276320</td>\n",
       "      <td>71756.0</td>\n",
       "      <td>163.123758</td>\n",
       "      <td>66588.0</td>\n",
       "      <td>171.256074</td>\n",
       "      <td>66287.0</td>\n",
       "      <td>176.913615</td>\n",
       "      <td>2414.0</td>\n",
       "      <td>0.734527</td>\n",
       "    </tr>\n",
       "    <tr>\n",
       "      <th>161148</th>\n",
       "      <td>ZzZ9cMtim4UIwvi1I8vOAA</td>\n",
       "      <td>90160</td>\n",
       "      <td>51.994656</td>\n",
       "      <td>90161.0</td>\n",
       "      <td>70.898454</td>\n",
       "      <td>85677.0</td>\n",
       "      <td>102.030496</td>\n",
       "      <td>74035.0</td>\n",
       "      <td>136.287096</td>\n",
       "      <td>49739.0</td>\n",
       "      <td>140.106326</td>\n",
       "      <td>90160.0</td>\n",
       "      <td>0.794737</td>\n",
       "    </tr>\n",
       "    <tr>\n",
       "      <th>161149</th>\n",
       "      <td>_zzZDJ5eTaqBpSWRrJlqmA</td>\n",
       "      <td>59005</td>\n",
       "      <td>6.677372</td>\n",
       "      <td>94904.0</td>\n",
       "      <td>6.997275</td>\n",
       "      <td>59012.0</td>\n",
       "      <td>9.174672</td>\n",
       "      <td>59006.0</td>\n",
       "      <td>10.105857</td>\n",
       "      <td>59011.0</td>\n",
       "      <td>13.258052</td>\n",
       "      <td>94904.0</td>\n",
       "      <td>0.789188</td>\n",
       "    </tr>\n",
       "    <tr>\n",
       "      <th>161150</th>\n",
       "      <td>zZznk-22KYhH72kTEaqLjw</td>\n",
       "      <td>41881</td>\n",
       "      <td>36.733770</td>\n",
       "      <td>9531.0</td>\n",
       "      <td>46.433957</td>\n",
       "      <td>9549.0</td>\n",
       "      <td>58.756743</td>\n",
       "      <td>9548.0</td>\n",
       "      <td>59.055031</td>\n",
       "      <td>9554.0</td>\n",
       "      <td>76.311431</td>\n",
       "      <td>9531.0</td>\n",
       "      <td>0.813847</td>\n",
       "    </tr>\n",
       "    <tr>\n",
       "      <th>161151</th>\n",
       "      <td>zZzZmAy6tI58ZA0X2MlrIQ</td>\n",
       "      <td>63970</td>\n",
       "      <td>10.297084</td>\n",
       "      <td>63971.0</td>\n",
       "      <td>10.777810</td>\n",
       "      <td>63969.0</td>\n",
       "      <td>14.025505</td>\n",
       "      <td>49152.0</td>\n",
       "      <td>21.910047</td>\n",
       "      <td>63972.0</td>\n",
       "      <td>26.847534</td>\n",
       "      <td>63970.0</td>\n",
       "      <td>0.633850</td>\n",
       "    </tr>\n",
       "  </tbody>\n",
       "</table>\n",
       "<p>161152 rows × 13 columns</p>\n",
       "</div>"
      ],
      "text/plain": [
       "                       img_key    id1   distance1      id2   distance2  \\\n",
       "0       001Laaog8zdwYugH_HWEgw  21752  13.059461   21750.0  19.824303    \n",
       "1       001Q3_sTWsNcUd0yl-nJLA  94058  17.821758   42113.0  21.367698    \n",
       "2       0025pq4iX5JFSzLE4mzwKQ  259    98.612218   48095.0  116.037520   \n",
       "3       002QPn5NUqaQIqgAXwrVlg  95628  125.756467  66004.0  167.137533   \n",
       "4       002U0X8H3fkVK0dCi3ZRQA  93806  26.203495   93404.0  32.968048    \n",
       "...                        ...    ...        ...       ...        ...    \n",
       "161147  ZzZ0-G17tbu8HO4rUrh4-A  2414   42.792871   71755.0  90.276320    \n",
       "161148  ZzZ9cMtim4UIwvi1I8vOAA  90160  51.994656   90161.0  70.898454    \n",
       "161149  _zzZDJ5eTaqBpSWRrJlqmA  59005  6.677372    94904.0  6.997275     \n",
       "161150  zZznk-22KYhH72kTEaqLjw  41881  36.733770   9531.0   46.433957    \n",
       "161151  zZzZmAy6tI58ZA0X2MlrIQ  63970  10.297084   63971.0  10.777810    \n",
       "\n",
       "            id3   distance3      id4   distance4      id5   distance5  \\\n",
       "0       21751.0  21.686056   44108.0  24.086535   21753.0  28.384339    \n",
       "1       95019.0  21.512402   42137.0  21.694559   90529.0  22.674062    \n",
       "2       52036.0  142.219760  48096.0  148.991137  52502.0  152.942388   \n",
       "3       82889.0  177.383359  7174.0   196.736422  95632.0  228.807795   \n",
       "4       17517.0  36.808813   22492.0  36.974101   93403.0  38.511392    \n",
       "...         ...        ...       ...        ...       ...        ...    \n",
       "161147  71756.0  163.123758  66588.0  171.256074  66287.0  176.913615   \n",
       "161148  85677.0  102.030496  74035.0  136.287096  49739.0  140.106326   \n",
       "161149  59012.0  9.174672    59006.0  10.105857   59011.0  13.258052    \n",
       "161150  9549.0   58.756743   9548.0   59.055031   9554.0   76.311431    \n",
       "161151  63969.0  14.025505   49152.0  21.910047   63972.0  26.847534    \n",
       "\n",
       "        best_poi  best_poi_score  \n",
       "0       44108.0   0.821597        \n",
       "1       95019.0   0.728828        \n",
       "2       259.0     0.687339        \n",
       "3      NaN        0.000000        \n",
       "4       17517.0   0.802982        \n",
       "...         ...        ...        \n",
       "161147  2414.0    0.734527        \n",
       "161148  90160.0   0.794737        \n",
       "161149  94904.0   0.789188        \n",
       "161150  9531.0    0.813847        \n",
       "161151  63970.0   0.633850        \n",
       "\n",
       "[161152 rows x 13 columns]"
      ]
     },
     "execution_count": 28,
     "metadata": {},
     "output_type": "execute_result"
    }
   ],
   "source": [
    "pic_poi_df"
   ]
  },
  {
   "cell_type": "code",
   "execution_count": 29,
   "id": "a05cd587-7508-4473-9396-4e3a1a754208",
   "metadata": {},
   "outputs": [],
   "source": [
    "pic_poi_df.to_excel(best_poi_path)"
   ]
  },
  {
   "cell_type": "code",
   "execution_count": 30,
   "id": "3cfd267d-228c-40b0-8354-85035bd738d0",
   "metadata": {},
   "outputs": [],
   "source": [
    "df1 = pd.merge(pic_poi_df, poi_df_nec, left_on=\"best_poi\",right_on = 'id',how=\"left\")"
   ]
  },
  {
   "cell_type": "code",
   "execution_count": 31,
   "id": "0a4e1edd-560d-4923-a690-15214571a4b7",
   "metadata": {},
   "outputs": [
    {
     "data": {
      "text/html": [
       "<div>\n",
       "<style scoped>\n",
       "    .dataframe tbody tr th:only-of-type {\n",
       "        vertical-align: middle;\n",
       "    }\n",
       "\n",
       "    .dataframe tbody tr th {\n",
       "        vertical-align: top;\n",
       "    }\n",
       "\n",
       "    .dataframe thead th {\n",
       "        text-align: right;\n",
       "    }\n",
       "</style>\n",
       "<table border=\"1\" class=\"dataframe\">\n",
       "  <thead>\n",
       "    <tr style=\"text-align: right;\">\n",
       "      <th></th>\n",
       "      <th>img_key</th>\n",
       "      <th>id1</th>\n",
       "      <th>distance1</th>\n",
       "      <th>id2</th>\n",
       "      <th>distance2</th>\n",
       "      <th>id3</th>\n",
       "      <th>distance3</th>\n",
       "      <th>id4</th>\n",
       "      <th>distance4</th>\n",
       "      <th>id5</th>\n",
       "      <th>...</th>\n",
       "      <th>Unnamed: 0</th>\n",
       "      <th>id</th>\n",
       "      <th>name</th>\n",
       "      <th>barrier</th>\n",
       "      <th>highway</th>\n",
       "      <th>address</th>\n",
       "      <th>place</th>\n",
       "      <th>man_made</th>\n",
       "      <th>other_tags</th>\n",
       "      <th>poi_prompt</th>\n",
       "    </tr>\n",
       "  </thead>\n",
       "  <tbody>\n",
       "    <tr>\n",
       "      <th>0</th>\n",
       "      <td>001Laaog8zdwYugH_HWEgw</td>\n",
       "      <td>21752</td>\n",
       "      <td>13.059461</td>\n",
       "      <td>21750.0</td>\n",
       "      <td>19.824303</td>\n",
       "      <td>21751.0</td>\n",
       "      <td>21.686056</td>\n",
       "      <td>44108.0</td>\n",
       "      <td>24.086535</td>\n",
       "      <td>21753.0</td>\n",
       "      <td>...</td>\n",
       "      <td>44109.0</td>\n",
       "      <td>44108.0</td>\n",
       "      <td>Colônia de Pescadores Z13</td>\n",
       "      <td>NaN</td>\n",
       "      <td>NaN</td>\n",
       "      <td>NaN</td>\n",
       "      <td>NaN</td>\n",
       "      <td>NaN</td>\n",
       "      <td>NaN</td>\n",
       "      <td>Nearby,name is Colônia de Pescadores Z13,</td>\n",
       "    </tr>\n",
       "    <tr>\n",
       "      <th>1</th>\n",
       "      <td>001Q3_sTWsNcUd0yl-nJLA</td>\n",
       "      <td>94058</td>\n",
       "      <td>17.821758</td>\n",
       "      <td>42113.0</td>\n",
       "      <td>21.367698</td>\n",
       "      <td>95019.0</td>\n",
       "      <td>21.512402</td>\n",
       "      <td>42137.0</td>\n",
       "      <td>21.694559</td>\n",
       "      <td>90529.0</td>\n",
       "      <td>...</td>\n",
       "      <td>95018.0</td>\n",
       "      <td>95019.0</td>\n",
       "      <td>NaN</td>\n",
       "      <td>NaN</td>\n",
       "      <td>traffic_signals</td>\n",
       "      <td>NaN</td>\n",
       "      <td>NaN</td>\n",
       "      <td>NaN</td>\n",
       "      <td>\"traffic_signals\"=&gt;\"signal\"</td>\n",
       "      <td>Nearby,highway is traffic_signals,traffic_signals is signal,</td>\n",
       "    </tr>\n",
       "    <tr>\n",
       "      <th>2</th>\n",
       "      <td>0025pq4iX5JFSzLE4mzwKQ</td>\n",
       "      <td>259</td>\n",
       "      <td>98.612218</td>\n",
       "      <td>48095.0</td>\n",
       "      <td>116.037520</td>\n",
       "      <td>52036.0</td>\n",
       "      <td>142.219760</td>\n",
       "      <td>48096.0</td>\n",
       "      <td>148.991137</td>\n",
       "      <td>52502.0</td>\n",
       "      <td>...</td>\n",
       "      <td>259.0</td>\n",
       "      <td>259.0</td>\n",
       "      <td>NaN</td>\n",
       "      <td>NaN</td>\n",
       "      <td>speed_camera</td>\n",
       "      <td>NaN</td>\n",
       "      <td>NaN</td>\n",
       "      <td>NaN</td>\n",
       "      <td>\"maxspeed\"=&gt;\"70\"</td>\n",
       "      <td>Nearby,highway is speed_camera,maxspeed is 70,</td>\n",
       "    </tr>\n",
       "    <tr>\n",
       "      <th>3</th>\n",
       "      <td>002QPn5NUqaQIqgAXwrVlg</td>\n",
       "      <td>95628</td>\n",
       "      <td>125.756467</td>\n",
       "      <td>66004.0</td>\n",
       "      <td>167.137533</td>\n",
       "      <td>82889.0</td>\n",
       "      <td>177.383359</td>\n",
       "      <td>7174.0</td>\n",
       "      <td>196.736422</td>\n",
       "      <td>95632.0</td>\n",
       "      <td>...</td>\n",
       "      <td>NaN</td>\n",
       "      <td>NaN</td>\n",
       "      <td>NaN</td>\n",
       "      <td>NaN</td>\n",
       "      <td>NaN</td>\n",
       "      <td>NaN</td>\n",
       "      <td>NaN</td>\n",
       "      <td>NaN</td>\n",
       "      <td>NaN</td>\n",
       "      <td>NaN</td>\n",
       "    </tr>\n",
       "    <tr>\n",
       "      <th>4</th>\n",
       "      <td>002U0X8H3fkVK0dCi3ZRQA</td>\n",
       "      <td>93806</td>\n",
       "      <td>26.203495</td>\n",
       "      <td>93404.0</td>\n",
       "      <td>32.968048</td>\n",
       "      <td>17517.0</td>\n",
       "      <td>36.808813</td>\n",
       "      <td>22492.0</td>\n",
       "      <td>36.974101</td>\n",
       "      <td>93403.0</td>\n",
       "      <td>...</td>\n",
       "      <td>17517.0</td>\n",
       "      <td>17517.0</td>\n",
       "      <td>NaN</td>\n",
       "      <td>NaN</td>\n",
       "      <td>traffic_signals</td>\n",
       "      <td>NaN</td>\n",
       "      <td>NaN</td>\n",
       "      <td>NaN</td>\n",
       "      <td>NaN</td>\n",
       "      <td>Nearby,highway is traffic_signals,</td>\n",
       "    </tr>\n",
       "    <tr>\n",
       "      <th>...</th>\n",
       "      <td>...</td>\n",
       "      <td>...</td>\n",
       "      <td>...</td>\n",
       "      <td>...</td>\n",
       "      <td>...</td>\n",
       "      <td>...</td>\n",
       "      <td>...</td>\n",
       "      <td>...</td>\n",
       "      <td>...</td>\n",
       "      <td>...</td>\n",
       "      <td>...</td>\n",
       "      <td>...</td>\n",
       "      <td>...</td>\n",
       "      <td>...</td>\n",
       "      <td>...</td>\n",
       "      <td>...</td>\n",
       "      <td>...</td>\n",
       "      <td>...</td>\n",
       "      <td>...</td>\n",
       "      <td>...</td>\n",
       "      <td>...</td>\n",
       "    </tr>\n",
       "    <tr>\n",
       "      <th>161147</th>\n",
       "      <td>ZzZ0-G17tbu8HO4rUrh4-A</td>\n",
       "      <td>2414</td>\n",
       "      <td>42.792871</td>\n",
       "      <td>71755.0</td>\n",
       "      <td>90.276320</td>\n",
       "      <td>71756.0</td>\n",
       "      <td>163.123758</td>\n",
       "      <td>66588.0</td>\n",
       "      <td>171.256074</td>\n",
       "      <td>66287.0</td>\n",
       "      <td>...</td>\n",
       "      <td>2416.0</td>\n",
       "      <td>2414.0</td>\n",
       "      <td>NaN</td>\n",
       "      <td>NaN</td>\n",
       "      <td>NaN</td>\n",
       "      <td>NaN</td>\n",
       "      <td>NaN</td>\n",
       "      <td>NaN</td>\n",
       "      <td>\"bus\"=&gt;\"yes\",\"public_transport\"=&gt;\"stop_position\"</td>\n",
       "      <td>Nearby,bus is yes,public_transport is stop_position,</td>\n",
       "    </tr>\n",
       "    <tr>\n",
       "      <th>161148</th>\n",
       "      <td>ZzZ9cMtim4UIwvi1I8vOAA</td>\n",
       "      <td>90160</td>\n",
       "      <td>51.994656</td>\n",
       "      <td>90161.0</td>\n",
       "      <td>70.898454</td>\n",
       "      <td>85677.0</td>\n",
       "      <td>102.030496</td>\n",
       "      <td>74035.0</td>\n",
       "      <td>136.287096</td>\n",
       "      <td>49739.0</td>\n",
       "      <td>...</td>\n",
       "      <td>90159.0</td>\n",
       "      <td>90160.0</td>\n",
       "      <td>NaN</td>\n",
       "      <td>NaN</td>\n",
       "      <td>crossing</td>\n",
       "      <td>NaN</td>\n",
       "      <td>NaN</td>\n",
       "      <td>NaN</td>\n",
       "      <td>\"crossing\"=&gt;\"traffic_signals\"</td>\n",
       "      <td>Nearby,highway is crossing,crossing is traffic_signals,</td>\n",
       "    </tr>\n",
       "    <tr>\n",
       "      <th>161149</th>\n",
       "      <td>_zzZDJ5eTaqBpSWRrJlqmA</td>\n",
       "      <td>59005</td>\n",
       "      <td>6.677372</td>\n",
       "      <td>94904.0</td>\n",
       "      <td>6.997275</td>\n",
       "      <td>59012.0</td>\n",
       "      <td>9.174672</td>\n",
       "      <td>59006.0</td>\n",
       "      <td>10.105857</td>\n",
       "      <td>59011.0</td>\n",
       "      <td>...</td>\n",
       "      <td>94903.0</td>\n",
       "      <td>94904.0</td>\n",
       "      <td>NaN</td>\n",
       "      <td>NaN</td>\n",
       "      <td>street_lamp</td>\n",
       "      <td>NaN</td>\n",
       "      <td>NaN</td>\n",
       "      <td>NaN</td>\n",
       "      <td>NaN</td>\n",
       "      <td>Nearby,highway is street_lamp,</td>\n",
       "    </tr>\n",
       "    <tr>\n",
       "      <th>161150</th>\n",
       "      <td>zZznk-22KYhH72kTEaqLjw</td>\n",
       "      <td>41881</td>\n",
       "      <td>36.733770</td>\n",
       "      <td>9531.0</td>\n",
       "      <td>46.433957</td>\n",
       "      <td>9549.0</td>\n",
       "      <td>58.756743</td>\n",
       "      <td>9548.0</td>\n",
       "      <td>59.055031</td>\n",
       "      <td>9554.0</td>\n",
       "      <td>...</td>\n",
       "      <td>9530.0</td>\n",
       "      <td>9531.0</td>\n",
       "      <td>NaN</td>\n",
       "      <td>NaN</td>\n",
       "      <td>street_lamp</td>\n",
       "      <td>NaN</td>\n",
       "      <td>NaN</td>\n",
       "      <td>NaN</td>\n",
       "      <td>NaN</td>\n",
       "      <td>Nearby,highway is street_lamp,</td>\n",
       "    </tr>\n",
       "    <tr>\n",
       "      <th>161151</th>\n",
       "      <td>zZzZmAy6tI58ZA0X2MlrIQ</td>\n",
       "      <td>63970</td>\n",
       "      <td>10.297084</td>\n",
       "      <td>63971.0</td>\n",
       "      <td>10.777810</td>\n",
       "      <td>63969.0</td>\n",
       "      <td>14.025505</td>\n",
       "      <td>49152.0</td>\n",
       "      <td>21.910047</td>\n",
       "      <td>63972.0</td>\n",
       "      <td>...</td>\n",
       "      <td>63970.0</td>\n",
       "      <td>63970.0</td>\n",
       "      <td>NaN</td>\n",
       "      <td>NaN</td>\n",
       "      <td>traffic_signals</td>\n",
       "      <td>NaN</td>\n",
       "      <td>NaN</td>\n",
       "      <td>NaN</td>\n",
       "      <td>\"crossing\"=&gt;\"traffic_signals\",\"traffic_signals\"=&gt;\"signal\"</td>\n",
       "      <td>Nearby,highway is traffic_signals,crossing is traffic_signals,traffic_signals is signal,</td>\n",
       "    </tr>\n",
       "  </tbody>\n",
       "</table>\n",
       "<p>161152 rows × 23 columns</p>\n",
       "</div>"
      ],
      "text/plain": [
       "                       img_key    id1   distance1      id2   distance2  \\\n",
       "0       001Laaog8zdwYugH_HWEgw  21752  13.059461   21750.0  19.824303    \n",
       "1       001Q3_sTWsNcUd0yl-nJLA  94058  17.821758   42113.0  21.367698    \n",
       "2       0025pq4iX5JFSzLE4mzwKQ  259    98.612218   48095.0  116.037520   \n",
       "3       002QPn5NUqaQIqgAXwrVlg  95628  125.756467  66004.0  167.137533   \n",
       "4       002U0X8H3fkVK0dCi3ZRQA  93806  26.203495   93404.0  32.968048    \n",
       "...                        ...    ...        ...       ...        ...    \n",
       "161147  ZzZ0-G17tbu8HO4rUrh4-A  2414   42.792871   71755.0  90.276320    \n",
       "161148  ZzZ9cMtim4UIwvi1I8vOAA  90160  51.994656   90161.0  70.898454    \n",
       "161149  _zzZDJ5eTaqBpSWRrJlqmA  59005  6.677372    94904.0  6.997275     \n",
       "161150  zZznk-22KYhH72kTEaqLjw  41881  36.733770   9531.0   46.433957    \n",
       "161151  zZzZmAy6tI58ZA0X2MlrIQ  63970  10.297084   63971.0  10.777810    \n",
       "\n",
       "            id3   distance3      id4   distance4      id5  ...  Unnamed: 0  \\\n",
       "0       21751.0  21.686056   44108.0  24.086535   21753.0  ...  44109.0      \n",
       "1       95019.0  21.512402   42137.0  21.694559   90529.0  ...  95018.0      \n",
       "2       52036.0  142.219760  48096.0  148.991137  52502.0  ...  259.0        \n",
       "3       82889.0  177.383359  7174.0   196.736422  95632.0  ... NaN           \n",
       "4       17517.0  36.808813   22492.0  36.974101   93403.0  ...  17517.0      \n",
       "...         ...        ...       ...        ...       ...  ...      ...      \n",
       "161147  71756.0  163.123758  66588.0  171.256074  66287.0  ...  2416.0       \n",
       "161148  85677.0  102.030496  74035.0  136.287096  49739.0  ...  90159.0      \n",
       "161149  59012.0  9.174672    59006.0  10.105857   59011.0  ...  94903.0      \n",
       "161150  9549.0   58.756743   9548.0   59.055031   9554.0   ...  9530.0       \n",
       "161151  63969.0  14.025505   49152.0  21.910047   63972.0  ...  63970.0      \n",
       "\n",
       "             id                       name  barrier          highway address  \\\n",
       "0       44108.0  Colônia de Pescadores Z13  NaN      NaN             NaN       \n",
       "1       95019.0  NaN                        NaN      traffic_signals NaN       \n",
       "2       259.0    NaN                        NaN      speed_camera    NaN       \n",
       "3      NaN       NaN                        NaN      NaN             NaN       \n",
       "4       17517.0  NaN                        NaN      traffic_signals NaN       \n",
       "...         ...  ...                        ...                  ...  ..       \n",
       "161147  2414.0   NaN                        NaN      NaN             NaN       \n",
       "161148  90160.0  NaN                        NaN      crossing        NaN       \n",
       "161149  94904.0  NaN                        NaN      street_lamp     NaN       \n",
       "161150  9531.0   NaN                        NaN      street_lamp     NaN       \n",
       "161151  63970.0  NaN                        NaN      traffic_signals NaN       \n",
       "\n",
       "       place man_made  \\\n",
       "0       NaN   NaN       \n",
       "1       NaN   NaN       \n",
       "2       NaN   NaN       \n",
       "3       NaN   NaN       \n",
       "4       NaN   NaN       \n",
       "...     ...   ...       \n",
       "161147  NaN   NaN       \n",
       "161148  NaN   NaN       \n",
       "161149  NaN   NaN       \n",
       "161150  NaN   NaN       \n",
       "161151  NaN   NaN       \n",
       "\n",
       "                                                       other_tags  \\\n",
       "0       NaN                                                         \n",
       "1       \"traffic_signals\"=>\"signal\"                                 \n",
       "2       \"maxspeed\"=>\"70\"                                            \n",
       "3       NaN                                                         \n",
       "4       NaN                                                         \n",
       "...     ...                                                         \n",
       "161147  \"bus\"=>\"yes\",\"public_transport\"=>\"stop_position\"            \n",
       "161148  \"crossing\"=>\"traffic_signals\"                               \n",
       "161149  NaN                                                         \n",
       "161150  NaN                                                         \n",
       "161151  \"crossing\"=>\"traffic_signals\",\"traffic_signals\"=>\"signal\"   \n",
       "\n",
       "                                                                                      poi_prompt  \n",
       "0       Nearby,name is Colônia de Pescadores Z13,                                                 \n",
       "1       Nearby,highway is traffic_signals,traffic_signals is signal,                              \n",
       "2       Nearby,highway is speed_camera,maxspeed is 70,                                            \n",
       "3       NaN                                                                                       \n",
       "4       Nearby,highway is traffic_signals,                                                        \n",
       "...                                    ...                                                        \n",
       "161147  Nearby,bus is yes,public_transport is stop_position,                                      \n",
       "161148  Nearby,highway is crossing,crossing is traffic_signals,                                   \n",
       "161149  Nearby,highway is street_lamp,                                                            \n",
       "161150  Nearby,highway is street_lamp,                                                            \n",
       "161151  Nearby,highway is traffic_signals,crossing is traffic_signals,traffic_signals is signal,  \n",
       "\n",
       "[161152 rows x 23 columns]"
      ]
     },
     "execution_count": 31,
     "metadata": {},
     "output_type": "execute_result"
    }
   ],
   "source": [
    "df1"
   ]
  },
  {
   "cell_type": "code",
   "execution_count": 67,
   "id": "f8382910-d358-4a67-9b9f-15b2ae23a0c4",
   "metadata": {},
   "outputs": [],
   "source": [
    "# df1.to_excel(best_poi_path)"
   ]
  },
  {
   "cell_type": "code",
   "execution_count": 32,
   "id": "fd322bea",
   "metadata": {},
   "outputs": [
    {
     "data": {
      "text/plain": [
       "Index(['Unnamed: 0', 'id', 'name', 'barrier', 'highway', 'address', 'place',\n",
       "       'man_made', 'other_tags', 'poi_prompt'],\n",
       "      dtype='object')"
      ]
     },
     "execution_count": 32,
     "metadata": {},
     "output_type": "execute_result"
    }
   ],
   "source": [
    "\n",
    "poi_df_nec.columns"
   ]
  },
  {
   "cell_type": "code",
   "execution_count": 33,
   "id": "3b096b59",
   "metadata": {},
   "outputs": [],
   "source": [
    "# desc_pd: file,prompt insert poi_prompt\n",
    "# df1 : image_key, bestpoi\n",
    "# poi_df_nec: FID ,poi_prompt\n",
    "def connect(x):\n",
    "    image_file_name = x[0]\n",
    "    image_name =image_file_name.split('.')[0]\n",
    "    best_poi_row = df1.loc[df1['img_key']==image_name]['best_poi']\n",
    "    best_poi = None\n",
    "    if best_poi_row.notna().any():\n",
    "        best_poi=int(best_poi_row.iloc[0])\n",
    "        poi_prompt = poi_df_nec.loc[poi_df_nec['id']==best_poi]['poi_prompt'].iloc[0]\n",
    "        return poi_prompt\n",
    "        # print(poi_prompt)\n",
    "    # print(best_poi)\n",
    "    # print(\"\\n\")\n",
    "    \n",
    "\n",
    "    # print(image_name)"
   ]
  },
  {
   "cell_type": "code",
   "execution_count": 34,
   "id": "033f7d9e",
   "metadata": {},
   "outputs": [],
   "source": [
    "result2 = desc_pd.apply(lambda x: connect(x), axis=1,result_type='expand')\n",
    "result2"
   ]
  },
  {
   "cell_type": "code",
   "execution_count": 35,
   "metadata": {},
   "outputs": [],
   "source": [
    "desc_pd['poi_prompt'] = result2"
   ]
  },
  {
   "cell_type": "code",
   "execution_count": 36,
   "metadata": {},
   "outputs": [
    {
     "data": {
      "text/html": [
       "<div>\n",
       "<style scoped>\n",
       "    .dataframe tbody tr th:only-of-type {\n",
       "        vertical-align: middle;\n",
       "    }\n",
       "\n",
       "    .dataframe tbody tr th {\n",
       "        vertical-align: top;\n",
       "    }\n",
       "\n",
       "    .dataframe thead th {\n",
       "        text-align: right;\n",
       "    }\n",
       "</style>\n",
       "<table border=\"1\" class=\"dataframe\">\n",
       "  <thead>\n",
       "    <tr style=\"text-align: right;\">\n",
       "      <th></th>\n",
       "      <th>key</th>\n",
       "      <th>prompt</th>\n",
       "      <th>poi_prompt</th>\n",
       "    </tr>\n",
       "  </thead>\n",
       "  <tbody>\n",
       "    <tr>\n",
       "      <th>0</th>\n",
       "      <td>--29Da_btiAkuYBTI21ddw</td>\n",
       "      <td>arafed building with a car parked in front of it, a matte painting inspired by Edi Rama, behance, hurufiyya, rosalia vila i tobella, found on google street view, location ( favela )</td>\n",
       "      <td>None</td>\n",
       "    </tr>\n",
       "    <tr>\n",
       "      <th>1</th>\n",
       "      <td>--8lKh4goK-MYUCkSM3eQw</td>\n",
       "      <td>arafed building with a blue tarp on the ground next to a tree, a detailed matte painting by Thota Vaikuntham, cg society, samikshavad, bangalore, house on background, the neat and dense buildings</td>\n",
       "      <td>None</td>\n",
       "    </tr>\n",
       "    <tr>\n",
       "      <th>2</th>\n",
       "      <td>#NAME?</td>\n",
       "      <td>arafed tree in a park with a fence and a street sign, a detailed matte painting by Narayan Shridhar Bendre, behance, bengal school of art, google point of view, old tree, streetview</td>\n",
       "      <td>None</td>\n",
       "    </tr>\n",
       "    <tr>\n",
       "      <th>3</th>\n",
       "      <td>#NAME?</td>\n",
       "      <td>arafed building with a tree in front of it and a woman standing in front of it, a detailed matte painting by Thota Vaikuntham, behance, samikshavad, collapsed building, dilapidated houses, photo of poor condition</td>\n",
       "      <td>None</td>\n",
       "    </tr>\n",
       "    <tr>\n",
       "      <th>4</th>\n",
       "      <td>-0-2YRdnYF7a8LLSSOeNug</td>\n",
       "      <td>there are people standing outside of a building with a sign on it, a detailed matte painting by Bholekar Srihari, cg society, samikshavad, lots of shops, on an indian street, business surrounding</td>\n",
       "      <td>None</td>\n",
       "    </tr>\n",
       "    <tr>\n",
       "      <th>...</th>\n",
       "      <td>...</td>\n",
       "      <td>...</td>\n",
       "      <td>...</td>\n",
       "    </tr>\n",
       "    <tr>\n",
       "      <th>101990</th>\n",
       "      <td>WOvdhoeEwmI43p4phwOdqA</td>\n",
       "      <td>arafed view of a street at night with cars parked on the side of the road, a screenshot inspired by Gregory Crewdson, featured on flickr, samikshavad, city street view background, night camera, streetview</td>\n",
       "      <td>Nearby,name is Dr. Santosh Clinic,addr:district is Bengaluru Urban,addr:full is Tavarekere, Aicobo Nagar, BTM Layout, Bengaluru,addr:state is Karnataka,amenity is clinic,</td>\n",
       "    </tr>\n",
       "    <tr>\n",
       "      <th>101991</th>\n",
       "      <td>M5zU1S4ziqFEeyfZto8E-g</td>\n",
       "      <td>cars driving down a street with people walking and trees, a detailed matte painting by Thota Vaikuntham, featured on pexels, samikshavad, khajuraho, unobstructed road, city street view background</td>\n",
       "      <td>Nearby,name is Ashraya Badavane,highway is bus_stop,local_ref is Gollarahatti,</td>\n",
       "    </tr>\n",
       "    <tr>\n",
       "      <th>101992</th>\n",
       "      <td>kAJDXwPyDknFCAS6c-Vxiw</td>\n",
       "      <td>nighttime scene of a busy street with cars and motorcycles on it, a photo by Thota Vaikuntham, featured on flickr, samikshavad, in city street at night, bangalore, night time photograph</td>\n",
       "      <td>Nearby,name is Ericsson India Global Services,addr:city is Bangalore,addr:housename is Bagmane World Technology Center,addr:street is Outer Ring Road,office is company,</td>\n",
       "    </tr>\n",
       "    <tr>\n",
       "      <th>101993</th>\n",
       "      <td>4ZgNCOzHa2tQorK-VbYNtg</td>\n",
       "      <td>there are many trucks driving down the street under a bridge, a matte painting by Thota Vaikuntham, featured on pexels, samikshavad, bangalore, dhaka traffic, advanced highway</td>\n",
       "      <td>Nearby,name is Bismillah Dum Biryani,amenity is restaurant,</td>\n",
       "    </tr>\n",
       "    <tr>\n",
       "      <th>101994</th>\n",
       "      <td>ZO5SB5NyaiGHMQnREn7Rrg</td>\n",
       "      <td>there is a truck that is driving down the road, a detailed matte painting by Ben Enwonwu, cg society, new objectivity, rocky hills, guwahati, hilly road</td>\n",
       "      <td>None</td>\n",
       "    </tr>\n",
       "  </tbody>\n",
       "</table>\n",
       "<p>101995 rows × 3 columns</p>\n",
       "</div>"
      ],
      "text/plain": [
       "                           key  \\\n",
       "0       --29Da_btiAkuYBTI21ddw   \n",
       "1       --8lKh4goK-MYUCkSM3eQw   \n",
       "2       #NAME?                   \n",
       "3       #NAME?                   \n",
       "4       -0-2YRdnYF7a8LLSSOeNug   \n",
       "...                        ...   \n",
       "101990  WOvdhoeEwmI43p4phwOdqA   \n",
       "101991  M5zU1S4ziqFEeyfZto8E-g   \n",
       "101992  kAJDXwPyDknFCAS6c-Vxiw   \n",
       "101993  4ZgNCOzHa2tQorK-VbYNtg   \n",
       "101994  ZO5SB5NyaiGHMQnREn7Rrg   \n",
       "\n",
       "                                                                                                                                                                                                                      prompt  \\\n",
       "0       arafed building with a car parked in front of it, a matte painting inspired by Edi Rama, behance, hurufiyya, rosalia vila i tobella, found on google street view, location ( favela )                                  \n",
       "1       arafed building with a blue tarp on the ground next to a tree, a detailed matte painting by Thota Vaikuntham, cg society, samikshavad, bangalore, house on background, the neat and dense buildings                    \n",
       "2       arafed tree in a park with a fence and a street sign, a detailed matte painting by Narayan Shridhar Bendre, behance, bengal school of art, google point of view, old tree, streetview                                  \n",
       "3       arafed building with a tree in front of it and a woman standing in front of it, a detailed matte painting by Thota Vaikuntham, behance, samikshavad, collapsed building, dilapidated houses, photo of poor condition   \n",
       "4       there are people standing outside of a building with a sign on it, a detailed matte painting by Bholekar Srihari, cg society, samikshavad, lots of shops, on an indian street, business surrounding                    \n",
       "...                                                                                                                                                                                                     ...                    \n",
       "101990  arafed view of a street at night with cars parked on the side of the road, a screenshot inspired by Gregory Crewdson, featured on flickr, samikshavad, city street view background, night camera, streetview           \n",
       "101991  cars driving down a street with people walking and trees, a detailed matte painting by Thota Vaikuntham, featured on pexels, samikshavad, khajuraho, unobstructed road, city street view background                    \n",
       "101992  nighttime scene of a busy street with cars and motorcycles on it, a photo by Thota Vaikuntham, featured on flickr, samikshavad, in city street at night, bangalore, night time photograph                              \n",
       "101993  there are many trucks driving down the street under a bridge, a matte painting by Thota Vaikuntham, featured on pexels, samikshavad, bangalore, dhaka traffic, advanced highway                                        \n",
       "101994  there is a truck that is driving down the road, a detailed matte painting by Ben Enwonwu, cg society, new objectivity, rocky hills, guwahati, hilly road                                                               \n",
       "\n",
       "                                                                                                                                                                        poi_prompt  \n",
       "0       None                                                                                                                                                                        \n",
       "1       None                                                                                                                                                                        \n",
       "2       None                                                                                                                                                                        \n",
       "3       None                                                                                                                                                                        \n",
       "4       None                                                                                                                                                                        \n",
       "...      ...                                                                                                                                                                        \n",
       "101990  Nearby,name is Dr. Santosh Clinic,addr:district is Bengaluru Urban,addr:full is Tavarekere, Aicobo Nagar, BTM Layout, Bengaluru,addr:state is Karnataka,amenity is clinic,  \n",
       "101991  Nearby,name is Ashraya Badavane,highway is bus_stop,local_ref is Gollarahatti,                                                                                              \n",
       "101992  Nearby,name is Ericsson India Global Services,addr:city is Bangalore,addr:housename is Bagmane World Technology Center,addr:street is Outer Ring Road,office is company,    \n",
       "101993  Nearby,name is Bismillah Dum Biryani,amenity is restaurant,                                                                                                                 \n",
       "101994  None                                                                                                                                                                        \n",
       "\n",
       "[101995 rows x 3 columns]"
      ]
     },
     "execution_count": 36,
     "metadata": {},
     "output_type": "execute_result"
    }
   ],
   "source": [
    "desc_pd"
   ]
  },
  {
   "cell_type": "code",
   "execution_count": 37,
   "metadata": {},
   "outputs": [],
   "source": [
    "desc_pd.to_excel(desc_poi_path)"
   ]
  }
 ],
 "metadata": {
  "kernelspec": {
   "display_name": "Python 3 (ipykernel)",
   "language": "python",
   "name": "python3"
  },
  "language_info": {
   "codemirror_mode": {
    "name": "ipython",
    "version": 3
   },
   "file_extension": ".py",
   "mimetype": "text/x-python",
   "name": "python",
   "nbconvert_exporter": "python",
   "pygments_lexer": "ipython3",
   "version": "3.8.17"
  }
 },
 "nbformat": 4,
 "nbformat_minor": 5
}
